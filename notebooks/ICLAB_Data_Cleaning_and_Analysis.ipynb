{
 "cells": [
  {
   "cell_type": "markdown",
   "metadata": {},
   "source": [
    "# 1a)  IMPORTING AND CLEANING THE DATA"
   ]
  },
  {
   "cell_type": "code",
   "execution_count": 1,
   "metadata": {},
   "outputs": [],
   "source": [
    "import pandas as pd\n",
    "import os\n",
    "import re\n",
    "import tldextract\n",
    "import numpy as np\n",
    "import matplotlib.pyplot as plt\n",
    "import seaborn as sns\n",
    "from scipy import spatial\n",
    "import os, time, http.client\n",
    "from termcolor import colored\n",
    "import sys\n",
    "import json\n",
    "from pygments import highlight, lexers, formatters\n",
    "import pycountry"
   ]
  },
  {
   "cell_type": "code",
   "execution_count": 88,
   "metadata": {},
   "outputs": [
    {
     "name": "stdout",
     "output_type": "stream",
     "text": [
      "Populating the interactive namespace from numpy and matplotlib\n"
     ]
    }
   ],
   "source": [
    "# Tools for visualizing the data\n",
    "\n",
    "# requires jupytertehmes\n",
    "\n",
    "%pylab inline\n",
    "# import jtplot module in notebook\n",
    "from jupyterthemes import jtplot\n",
    "\n",
    "# choose which theme to inherit plotting style from\n",
    "# onedork | grade3 | oceans16 | chesterish | monokai | solarizedl | solarizedd\n",
    "jtplot.style(theme='onedork')\n",
    "\n",
    "# set \"context\" (paper, notebook, talk, poster)\n",
    "# scale font-size of ticklabels, legend, etc.\n",
    "# remove spines from x and y axes and make grid dashed\n",
    "jtplot.style(context='paper', fscale=1.4, spines=False, gridlines='--')\n",
    "\n",
    "# turn on X- and Y-axis tick marks (default=False)\n",
    "# turn off the axis grid lines (default=True)\n",
    "# and set the default figure size\n",
    "jtplot.style(ticks=True, grid=False, figsize=(6, 4.5))\n",
    "\n",
    "# reset default matplotlib rcParams\n",
    "jtplot.reset()"
   ]
  },
  {
   "cell_type": "code",
   "execution_count": 2,
   "metadata": {},
   "outputs": [],
   "source": [
    "#iclabcombined = pd.read_csv(\"combined.csv\", dtype={'country' : str})"
   ]
  },
  {
   "cell_type": "markdown",
   "metadata": {},
   "source": [
    "Dropping the columns which were meant for internal use of ICLAB team and the header columns which have come into dataset via join"
   ]
  },
  {
   "cell_type": "code",
   "execution_count": 3,
   "metadata": {},
   "outputs": [],
   "source": [
    "# iclabcombined.drop(['filename', 'as_number'], axis=1, inplace= True)\n",
    "\n",
    "# iclabcombined.drop([ 3078134,  4235577, 12411076, 18967078, 25041685, 26600938,\n",
    "#             28192530, 29460039, 30795516, 32569776, 34391850, 36093972,\n",
    "#             37793956, 39298313, 40934970, 42276914, 42976448, 44455181,\n",
    "#             47068048, 49383978], inplace = True)"
   ]
  },
  {
   "cell_type": "markdown",
   "metadata": {},
   "source": [
    "Correcting wrongly coded boolean values in the datasets"
   ]
  },
  {
   "cell_type": "code",
   "execution_count": 4,
   "metadata": {},
   "outputs": [],
   "source": [
    "# iclabcombined['dns'].replace('false',False,inplace=True)\n",
    "# iclabcombined['dns_all'].replace('false',False,inplace=True)\n",
    "# iclabcombined['block'].replace('false',False,inplace=True)\n",
    "# iclabcombined['packet_updated'].replace('false',False,inplace=True)\n",
    "# iclabcombined['censored_updated'].replace('false',False,inplace=True)\n",
    "\n",
    "# iclabcombined['dns'].replace('true',True,inplace=True)\n",
    "# iclabcombined['dns_all'].replace('true',True,inplace=True)\n",
    "# iclabcombined['block'].replace('true',True,inplace=True)\n",
    "# iclabcombined['packet_updated'].replace('true',True,inplace=True)\n",
    "# iclabcombined['censored_updated'].replace('true',True,inplace=True)"
   ]
  },
  {
   "cell_type": "markdown",
   "metadata": {},
   "source": [
    "# 1b) Importing categories"
   ]
  },
  {
   "cell_type": "code",
   "execution_count": 5,
   "metadata": {},
   "outputs": [],
   "source": [
    "# catDF = pd.read_fwf('type_domain_mapping.txt',header=None, names=[ \"Name\"], sep=\"\")"
   ]
  },
  {
   "cell_type": "code",
   "execution_count": 6,
   "metadata": {},
   "outputs": [],
   "source": [
    "# catDF = catDF.Name.apply(lambda x: pd.Series(str(x).split(\"|||\"))).rename(columns={0:'category',1:'site'})"
   ]
  },
  {
   "cell_type": "code",
   "execution_count": 7,
   "metadata": {},
   "outputs": [],
   "source": [
    "# allCategories = set(catDF['category'])\n",
    "# len(allCategories)"
   ]
  },
  {
   "cell_type": "code",
   "execution_count": 8,
   "metadata": {},
   "outputs": [],
   "source": [
    "# ADDING CATEGORY AS A PERMANENT COLUMN\n",
    "\n",
    "# urlListAll = iclabcombined['url'].tolist()\n",
    "# sitesListAll = []\n",
    "\n",
    "# for item in urlListAll:\n",
    "#     domainAll = tldextract.extract(item)[1]\n",
    "#     suffixAll = tldextract.extract(item)[2]\n",
    "#     sitesListAll.append(domainAll + \".\" + suffixAll)"
   ]
  },
  {
   "cell_type": "code",
   "execution_count": 9,
   "metadata": {},
   "outputs": [],
   "source": [
    "# iclabcombined['site'] = sitesListAll\n",
    "# iclabcombined = pd.merge(iclabcombined, catDF, on='site',how='left')"
   ]
  },
  {
   "cell_type": "code",
   "execution_count": 10,
   "metadata": {},
   "outputs": [],
   "source": [
    "# PICKLING OUR DATA FOR FASTER ACCESS\n",
    "#iclabcombined.to_pickle('iclabcombined.pkl')"
   ]
  },
  {
   "cell_type": "markdown",
   "metadata": {},
   "source": [
    "==\n",
    "LOADING DATA FRAME FROM PICKLE=="
   ]
  },
  {
   "cell_type": "code",
   "execution_count": 30,
   "metadata": {},
   "outputs": [],
   "source": [
    "iclabcombined = pd.read_pickle('../data//iclab_cleaned_data/iclabCLEAN.pkl')"
   ]
  },
  {
   "cell_type": "code",
   "execution_count": 47,
   "metadata": {},
   "outputs": [
    {
     "name": "stdout",
     "output_type": "stream",
     "text": [
      "The number of observations in our original data set are 40303928 and the number of features/columns are 17 \n"
     ]
    }
   ],
   "source": [
    "print(\"The number of observations in our original data set are {0} and the number of features/columns are {1} \".format(iclabcombined.shape[0],iclabcombined.shape[1]))"
   ]
  },
  {
   "cell_type": "code",
   "execution_count": 48,
   "metadata": {},
   "outputs": [],
   "source": [
    "iclabcombined['category'] = iclabcombined['category'].fillna(0)"
   ]
  },
  {
   "cell_type": "code",
   "execution_count": 49,
   "metadata": {
    "scrolled": true
   },
   "outputs": [],
   "source": [
    "iclabcombined['category']=iclabcombined['category'].replace(0,'Undefined')"
   ]
  },
  {
   "cell_type": "code",
   "execution_count": 50,
   "metadata": {},
   "outputs": [
    {
     "data": {
      "text/html": [
       "<div>\n",
       "<style scoped>\n",
       "    .dataframe tbody tr th:only-of-type {\n",
       "        vertical-align: middle;\n",
       "    }\n",
       "\n",
       "    .dataframe tbody tr th {\n",
       "        vertical-align: top;\n",
       "    }\n",
       "\n",
       "    .dataframe thead th {\n",
       "        text-align: right;\n",
       "    }\n",
       "</style>\n",
       "<table border=\"1\" class=\"dataframe\">\n",
       "  <thead>\n",
       "    <tr style=\"text-align: right;\">\n",
       "      <th></th>\n",
       "      <th>server_t</th>\n",
       "      <th>country</th>\n",
       "      <th>schedule_name</th>\n",
       "      <th>url</th>\n",
       "      <th>dns</th>\n",
       "      <th>dns_reason</th>\n",
       "      <th>dns_all</th>\n",
       "      <th>dns_reason_all</th>\n",
       "      <th>http_status</th>\n",
       "      <th>block</th>\n",
       "      <th>body_len</th>\n",
       "      <th>http_reason</th>\n",
       "      <th>packet_updated</th>\n",
       "      <th>packet_reason</th>\n",
       "      <th>censored_updated</th>\n",
       "      <th>site</th>\n",
       "      <th>category</th>\n",
       "    </tr>\n",
       "  </thead>\n",
       "  <tbody>\n",
       "    <tr>\n",
       "      <th>0</th>\n",
       "      <td>2017-01-01T00:03:55.797Z</td>\n",
       "      <td>UA</td>\n",
       "      <td>alexa-global</td>\n",
       "      <td>4shared.com</td>\n",
       "      <td>False</td>\n",
       "      <td>sameip</td>\n",
       "      <td>False</td>\n",
       "      <td>NaN</td>\n",
       "      <td>200</td>\n",
       "      <td>False</td>\n",
       "      <td>89694</td>\n",
       "      <td>NaN</td>\n",
       "      <td>NaN</td>\n",
       "      <td>NaN</td>\n",
       "      <td>False</td>\n",
       "      <td>4shared.com</td>\n",
       "      <td>File Sharing and Storage</td>\n",
       "    </tr>\n",
       "    <tr>\n",
       "      <th>1</th>\n",
       "      <td>2017-01-01T00:03:55.797Z</td>\n",
       "      <td>UA</td>\n",
       "      <td>alexa-global</td>\n",
       "      <td>quora.com</td>\n",
       "      <td>-2</td>\n",
       "      <td>no_control_resp</td>\n",
       "      <td>False</td>\n",
       "      <td>NaN</td>\n",
       "      <td>200</td>\n",
       "      <td>False</td>\n",
       "      <td>99907</td>\n",
       "      <td>NaN</td>\n",
       "      <td>NaN</td>\n",
       "      <td>NaN</td>\n",
       "      <td>False</td>\n",
       "      <td>quora.com</td>\n",
       "      <td>Reference</td>\n",
       "    </tr>\n",
       "    <tr>\n",
       "      <th>2</th>\n",
       "      <td>2017-01-01T00:03:55.797Z</td>\n",
       "      <td>UA</td>\n",
       "      <td>alexa-global</td>\n",
       "      <td>stackexchange.com</td>\n",
       "      <td>-2</td>\n",
       "      <td>no_control_resp</td>\n",
       "      <td>False</td>\n",
       "      <td>NaN</td>\n",
       "      <td>200</td>\n",
       "      <td>False</td>\n",
       "      <td>83096</td>\n",
       "      <td>NaN</td>\n",
       "      <td>NaN</td>\n",
       "      <td>NaN</td>\n",
       "      <td>False</td>\n",
       "      <td>stackexchange.com</td>\n",
       "      <td>Information Technology</td>\n",
       "    </tr>\n",
       "    <tr>\n",
       "      <th>3</th>\n",
       "      <td>2017-01-01T00:03:55.797Z</td>\n",
       "      <td>UA</td>\n",
       "      <td>alexa-global</td>\n",
       "      <td>whatsapp.com</td>\n",
       "      <td>-2</td>\n",
       "      <td>no_control_resp</td>\n",
       "      <td>False</td>\n",
       "      <td>NaN</td>\n",
       "      <td>200</td>\n",
       "      <td>False</td>\n",
       "      <td>32799</td>\n",
       "      <td>NaN</td>\n",
       "      <td>NaN</td>\n",
       "      <td>NaN</td>\n",
       "      <td>False</td>\n",
       "      <td>whatsapp.com</td>\n",
       "      <td>Instant Messaging</td>\n",
       "    </tr>\n",
       "    <tr>\n",
       "      <th>4</th>\n",
       "      <td>2017-01-01T00:03:55.797Z</td>\n",
       "      <td>UA</td>\n",
       "      <td>alexa-global</td>\n",
       "      <td>atlassian.net</td>\n",
       "      <td>-2</td>\n",
       "      <td>no_control_resp</td>\n",
       "      <td>False</td>\n",
       "      <td>NaN</td>\n",
       "      <td>200</td>\n",
       "      <td>False</td>\n",
       "      <td>38180</td>\n",
       "      <td>NaN</td>\n",
       "      <td>NaN</td>\n",
       "      <td>NaN</td>\n",
       "      <td>False</td>\n",
       "      <td>atlassian.net</td>\n",
       "      <td>Information Technology</td>\n",
       "    </tr>\n",
       "  </tbody>\n",
       "</table>\n",
       "</div>"
      ],
      "text/plain": [
       "                   server_t country schedule_name                url    dns  \\\n",
       "0  2017-01-01T00:03:55.797Z      UA  alexa-global        4shared.com  False   \n",
       "1  2017-01-01T00:03:55.797Z      UA  alexa-global          quora.com     -2   \n",
       "2  2017-01-01T00:03:55.797Z      UA  alexa-global  stackexchange.com     -2   \n",
       "3  2017-01-01T00:03:55.797Z      UA  alexa-global       whatsapp.com     -2   \n",
       "4  2017-01-01T00:03:55.797Z      UA  alexa-global      atlassian.net     -2   \n",
       "\n",
       "        dns_reason dns_all dns_reason_all http_status  block body_len  \\\n",
       "0           sameip   False            NaN         200  False    89694   \n",
       "1  no_control_resp   False            NaN         200  False    99907   \n",
       "2  no_control_resp   False            NaN         200  False    83096   \n",
       "3  no_control_resp   False            NaN         200  False    32799   \n",
       "4  no_control_resp   False            NaN         200  False    38180   \n",
       "\n",
       "  http_reason packet_updated packet_reason  censored_updated  \\\n",
       "0         NaN            NaN           NaN             False   \n",
       "1         NaN            NaN           NaN             False   \n",
       "2         NaN            NaN           NaN             False   \n",
       "3         NaN            NaN           NaN             False   \n",
       "4         NaN            NaN           NaN             False   \n",
       "\n",
       "                site                  category  \n",
       "0        4shared.com  File Sharing and Storage  \n",
       "1          quora.com                 Reference  \n",
       "2  stackexchange.com    Information Technology  \n",
       "3       whatsapp.com         Instant Messaging  \n",
       "4      atlassian.net    Information Technology  "
      ]
     },
     "execution_count": 50,
     "metadata": {},
     "output_type": "execute_result"
    }
   ],
   "source": [
    "iclabcombined.head()"
   ]
  },
  {
   "cell_type": "markdown",
   "metadata": {},
   "source": [
    "# -====- IN THE LATEST ITERATION OF THIS NOTEBOOK, NO FALSE POSITIVIES i.e. NO DATA FOR US HAS BEEN DROPPED -====-"
   ]
  },
  {
   "cell_type": "markdown",
   "metadata": {},
   "source": [
    "# 2. ANALYZING FALSE POSITIVES  (REDUNDANT SECTION)"
   ]
  },
  {
   "cell_type": "code",
   "execution_count": 51,
   "metadata": {},
   "outputs": [],
   "source": [
    "# #function to find blocked URLs\n",
    "# def blockedURLs(cc):\n",
    "#     return (set(iclabcombined[ (iclabcombined['country']== cc)& ((iclabcombined['censored_updated']==True)) ]['url']))"
   ]
  },
  {
   "cell_type": "markdown",
   "metadata": {},
   "source": [
    "### 2a) Looking at sites which only have censored_updated = True"
   ]
  },
  {
   "cell_type": "markdown",
   "metadata": {},
   "source": [
    "The below query produces 167 urls, these are the URLs for which the ICLab team believes the packets might have been injected i.e. becuase there was a response after RST or FIN or maybe because of ICMP admin prohibited i.e. they determined there's a firewall that blocks a connection. Removing these from our data as these are cases of PROBABLE CENSORSHIP and not ACTUAL censorship"
   ]
  },
  {
   "cell_type": "code",
   "execution_count": 52,
   "metadata": {},
   "outputs": [],
   "source": [
    "#( set(iclabcombined[ (iclabcombined['country']=='US')  & ((iclabcombined['dns']== False) & (iclabcombined['dns_all']== False) & (iclabcombined['block']== False) & (iclabcombined['packet_updated']== True))]['url']))"
   ]
  },
  {
   "cell_type": "markdown",
   "metadata": {},
   "source": [
    "Even urls for which a 4xx or 5xx result was returned are accessible and some of them are URLS commonly accessed in US"
   ]
  },
  {
   "cell_type": "code",
   "execution_count": 53,
   "metadata": {},
   "outputs": [],
   "source": [
    "# set(iclabcombined\n",
    "#     [ (iclabcombined['country']=='US') \n",
    "#                    & \n",
    "#      (\n",
    "#          (iclabcombined['http_status']== 403.0) | (iclabcombined['http_status']== 404.0) | (iclabcombined['http_status']== 504.0)\n",
    "#      )\n",
    "#      &\n",
    "#      (   \n",
    "#                        (iclabcombined['dns']== False) & (iclabcombined['dns_all']== False)\n",
    "#                        & (iclabcombined['block']== False) & (iclabcombined['dns_all']== False) \n",
    "#                        & (iclabcombined['packet_updated']== True)\n",
    "#                    )]\n",
    "#      ['url'])"
   ]
  },
  {
   "cell_type": "code",
   "execution_count": 54,
   "metadata": {},
   "outputs": [],
   "source": [
    "#httpError = np.arange(400,600,1,dtype=float)"
   ]
  },
  {
   "cell_type": "markdown",
   "metadata": {},
   "source": [
    "The falsePositIndex here are the sites which return a http 200 and only show packet_updated = True. In below query, I eliminate the countries where the result of HTTP was not a 400/500 errorand the only mechanism of censorship was that the packet_updated = True i.e. all these are probable censorships"
   ]
  },
  {
   "cell_type": "code",
   "execution_count": 55,
   "metadata": {},
   "outputs": [],
   "source": [
    "# falsePositIndex = iclabcombined[\n",
    "#     (~iclabcombined.http_status.isin(httpError))  \n",
    "#                    & (   (iclabcombined['dns']== False) & (iclabcombined['dns_all']== False) & (iclabcombined['block']== False) & (iclabcombined['dns_all']== False) & (iclabcombined['packet_updated']== True)\n",
    "#                      )] [['country','url','http_status']].index.tolist()"
   ]
  },
  {
   "cell_type": "code",
   "execution_count": 56,
   "metadata": {},
   "outputs": [],
   "source": [
    "# print(\"We have \" + str(len(falsePositIndex)) + \" probable censoriships which could be false positives\")"
   ]
  },
  {
   "cell_type": "code",
   "execution_count": 57,
   "metadata": {},
   "outputs": [],
   "source": [
    "# iclabcombined.drop(falsePositIndex,inplace=True)"
   ]
  },
  {
   "cell_type": "markdown",
   "metadata": {},
   "source": [
    "Now having a look at FALSE NEGATIVES\n",
    "We define false negatives as websites which are showing censored_updated = False here but upon testing actually are inaccessible"
   ]
  },
  {
   "cell_type": "code",
   "execution_count": 58,
   "metadata": {},
   "outputs": [],
   "source": [
    "# set(iclabcombined[(iclabcombined['country']=='US')&(iclabcombined['censored_updated']==False) & (iclabcombined.http_status.isin([403.0]))]['url'])"
   ]
  },
  {
   "cell_type": "markdown",
   "metadata": {},
   "source": [
    "In total as seen below we have 3389 websites which show up as not censored in US but the corresponding HTTP results are error codes, manual testing of these websites show that they are accessible, its not possible to actually determine the status of all false negatives. Based on our testing and seeing that they are not marked as blocked eventually and also because we believe that false negatives are not too critical to our project  $hence$ $we$ $wont$ $drop$ $them$ $from$ $the$ $data$ $set$"
   ]
  },
  {
   "cell_type": "markdown",
   "metadata": {},
   "source": [
    "## 2b) Removing the FALSE POSITIVIES (US blocked sites) from our main dataset iclabcombined"
   ]
  },
  {
   "cell_type": "markdown",
   "metadata": {},
   "source": [
    "From this data looking at the sites that are shown as censored in US. THESE SITES HAVE CENSORED = TRUE AND RETURN A HTTP ERROR"
   ]
  },
  {
   "cell_type": "code",
   "execution_count": 59,
   "metadata": {},
   "outputs": [],
   "source": [
    "#set( iclabcombined  [  (iclabcombined['country']=='US') & (iclabcombined.http_status.isin(httpError) & ( (iclabcombined['dns_all']== True) | (iclabcombined['block']== True)|(iclabcombined['censored_updated']== True) | (iclabcombined['packet_updated']== True)))]['url'])"
   ]
  },
  {
   "cell_type": "code",
   "execution_count": 24,
   "metadata": {},
   "outputs": [],
   "source": [
    "# SITES SHOWING HTTP status reason as block in US but still accessible\n",
    "#set( iclabcombined  [  (iclabcombined['country']=='US') & (iclabcombined.http_reason.str.contains('block'))]['url'])"
   ]
  },
  {
   "cell_type": "markdown",
   "metadata": {},
   "source": [
    "Overall all the above results show a very dirty data, we basically removed the root urls of all the sites that show 404 in US and then checked how many of them are accesible. There are no patterns while some are showing as blocked on testing others are not. BELOW WE REMOVE THESE FALSE POSITIVIES FROM THE US"
   ]
  },
  {
   "cell_type": "code",
   "execution_count": 25,
   "metadata": {},
   "outputs": [],
   "source": [
    "#USFPlist = (iclabcombined [(iclabcombined['country']=='US') & (iclabcombined['censored_updated'] == True)]['site']).unique().tolist()"
   ]
  },
  {
   "cell_type": "code",
   "execution_count": 26,
   "metadata": {},
   "outputs": [],
   "source": [
    "#USblockIclab = len(iclabcombined[iclabcombined['site'].isin(USFPlist)])"
   ]
  },
  {
   "cell_type": "code",
   "execution_count": 27,
   "metadata": {},
   "outputs": [],
   "source": [
    "# print(\"There are {} unique blocked websites in the US\".format(len(USFPlist)))\n",
    "# print(\"There are {} total observations of these blocked websites throughout our dataset\".format(USblockIclab))"
   ]
  },
  {
   "cell_type": "code",
   "execution_count": 28,
   "metadata": {},
   "outputs": [],
   "source": [
    "# USFPIndex is the index of all those observations for the unique sites which are blocked in US and we are going to remove from the entire DB\n",
    "#USFPIndex = iclabcombined[iclabcombined['site'].isin(USFPlist)].index"
   ]
  },
  {
   "cell_type": "markdown",
   "metadata": {},
   "source": [
    "# iclabCLEAN is our cleaned dataframe"
   ]
  },
  {
   "cell_type": "code",
   "execution_count": 29,
   "metadata": {},
   "outputs": [],
   "source": [
    "#iclabCLEAN = iclabcombined.drop(USFPIndex)"
   ]
  },
  {
   "cell_type": "markdown",
   "metadata": {},
   "source": [
    "## PICKLING OUR CLEAN DATASET FOR FASTER ACCESS"
   ]
  },
  {
   "cell_type": "code",
   "execution_count": 30,
   "metadata": {},
   "outputs": [],
   "source": [
    "#iclabCLEAN.to_pickle('iclabCLEAN.pkl')"
   ]
  },
  {
   "cell_type": "code",
   "execution_count": 31,
   "metadata": {},
   "outputs": [],
   "source": [
    "# LOADING DATA FRAME FROM PICKLE\n",
    "#iclabCLEAN = pd.read_pickle('iclabCLEAN.pkl')"
   ]
  },
  {
   "cell_type": "code",
   "execution_count": 32,
   "metadata": {},
   "outputs": [],
   "source": [
    "# COMPARNING DATA SIZES of RAW and CLEAN DATA \n",
    "#print(\"The number of observations in our original data set are {0} and the number of features/columns are {1} \".format(iclabcombined.shape[0],iclabcombined.shape[1]))\n",
    "#print(\"The number of observations in our CLEANED data set i.e. without sites blocked in USA are {0} and the number of features/columns are {1} \".format(iclabCLEAN.shape[0],iclabCLEAN.shape[1]))"
   ]
  },
  {
   "cell_type": "markdown",
   "metadata": {},
   "source": [
    "$******************************************************************$"
   ]
  },
  {
   "cell_type": "markdown",
   "metadata": {},
   "source": [
    "# 3.  EXPERIMENT 1"
   ]
  },
  {
   "cell_type": "markdown",
   "metadata": {},
   "source": [
    "Looking at the exact webpages blocked"
   ]
  },
  {
   "cell_type": "code",
   "execution_count": 33,
   "metadata": {},
   "outputs": [],
   "source": [
    "# blockpageTR = set(iclabCLEAN[(iclabCLEAN['country']=='TR') & ((iclabCLEAN['dns_all']==True)| (iclabCLEAN['censored_updated']==True) | (iclabCLEAN['block']==True) | (iclabCLEAN['packet_updated']==True)) ]['url'])\n",
    "# len(blockpageTR)"
   ]
  },
  {
   "cell_type": "code",
   "execution_count": 34,
   "metadata": {},
   "outputs": [],
   "source": [
    "# blockpageRU = set(iclabCLEAN[(iclabCLEAN['country']=='RU') & ((iclabCLEAN['dns_all']==True)| (iclabCLEAN['censored_updated']==True) | (iclabCLEAN['block']==True) | (iclabCLEAN['packet_updated']==True)) ]['url'])\n",
    "# len(blockpageRU)"
   ]
  },
  {
   "cell_type": "code",
   "execution_count": 35,
   "metadata": {},
   "outputs": [],
   "source": [
    "# RUblockpageTR = blockpageTR.intersection(blockpageRU)\n",
    "# RUblockpageTR"
   ]
  },
  {
   "cell_type": "markdown",
   "metadata": {},
   "source": [
    "# EXPERIMENT 2"
   ]
  },
  {
   "cell_type": "code",
   "execution_count": 36,
   "metadata": {},
   "outputs": [],
   "source": [
    "# blockIN = set(iclabCLEAN[(iclabCLEAN['country']=='IN') & ((iclabCLEAN['censored_updated']==True))]['site'])\n",
    "# len(blockIN)"
   ]
  },
  {
   "cell_type": "code",
   "execution_count": 37,
   "metadata": {},
   "outputs": [],
   "source": [
    "# blockCN = set(iclabCLEAN[(iclabCLEAN['country']=='CN') & ((iclabCLEAN['censored_updated']==True))]['site'])\n",
    "# len(blockCN)"
   ]
  },
  {
   "cell_type": "code",
   "execution_count": 38,
   "metadata": {},
   "outputs": [],
   "source": [
    "# blockVN = set(iclabCLEAN[(iclabCLEAN['country']=='VN') & ((iclabCLEAN['censored_updated']==True))]['site'])\n",
    "# len(blockVN)"
   ]
  },
  {
   "cell_type": "code",
   "execution_count": 39,
   "metadata": {},
   "outputs": [],
   "source": [
    "# blockRU = set(iclabCLEAN[(iclabCLEAN['country']=='RU') & ((iclabCLEAN['dns_all']==True)| (iclabCLEAN['censored_updated']==True)| (iclabCLEAN['block']==True) | (iclabCLEAN['packet_updated']==True))]['site'])\n",
    "# len(blockRU)"
   ]
  },
  {
   "cell_type": "code",
   "execution_count": 40,
   "metadata": {},
   "outputs": [],
   "source": [
    "# blockTR = set(iclabCLEAN[(iclabCLEAN['country']=='TR') & ((iclabCLEAN['dns_all']==True)| (iclabCLEAN['censored_updated']==True) | (iclabCLEAN['block']==True) | (iclabCLEAN['packet_updated']==True)) ]['site'])\n",
    "# len(blockTR)"
   ]
  },
  {
   "cell_type": "code",
   "execution_count": 41,
   "metadata": {},
   "outputs": [],
   "source": [
    "# blockNL = set(iclabCLEAN[(iclabCLEAN['country']=='NL') & ((iclabCLEAN['censored_updated']==True))]['site'])\n",
    "# len(blockNL)"
   ]
  },
  {
   "cell_type": "code",
   "execution_count": 42,
   "metadata": {},
   "outputs": [],
   "source": [
    "# blockNZ = set(iclabCLEAN[(iclabCLEAN['country']=='NZ') & ((iclabCLEAN['censored_updated']==True))]['site'])\n",
    "# len(blockNZ)"
   ]
  },
  {
   "cell_type": "code",
   "execution_count": 43,
   "metadata": {},
   "outputs": [],
   "source": [
    "# AU_NZ = blockNZ.intersection(blockAU)\n",
    "# len(AU_NZ)"
   ]
  },
  {
   "cell_type": "code",
   "execution_count": 44,
   "metadata": {},
   "outputs": [],
   "source": [
    "# blockMX = set(iclabCLEAN[(iclabCLEAN['country']=='MX') & ((iclabCLEAN['censored_updated']==True))]['site'])\n",
    "# len(blockMX)"
   ]
  },
  {
   "cell_type": "code",
   "execution_count": 45,
   "metadata": {},
   "outputs": [],
   "source": [
    "# IN_RU = blockIN.intersection(blockRU)\n",
    "# (IN_RU)"
   ]
  },
  {
   "cell_type": "markdown",
   "metadata": {},
   "source": [
    "Intersections as per EXPERIMENT 2"
   ]
  },
  {
   "cell_type": "code",
   "execution_count": 46,
   "metadata": {},
   "outputs": [],
   "source": [
    "# RU_TR = blockRU.intersection(blockTR)"
   ]
  },
  {
   "cell_type": "code",
   "execution_count": 47,
   "metadata": {},
   "outputs": [],
   "source": [
    "# BR_MX = blockMX.intersection(blockBR)"
   ]
  },
  {
   "cell_type": "code",
   "execution_count": 48,
   "metadata": {},
   "outputs": [],
   "source": [
    "# NL_TR = blockNL.intersection(blockTR)"
   ]
  },
  {
   "cell_type": "markdown",
   "metadata": {},
   "source": [
    "As part of Experiment 2 : \n",
    "(a) A look at censored FB Pages in India"
   ]
  },
  {
   "cell_type": "markdown",
   "metadata": {},
   "source": [
    "Looking at worldwide distribution of FB blocking"
   ]
  },
  {
   "cell_type": "code",
   "execution_count": 49,
   "metadata": {},
   "outputs": [],
   "source": [
    "# iclabCLEAN[iclabCLEAN['url'].str.contains('facebook')].groupby('country').count()"
   ]
  },
  {
   "cell_type": "markdown",
   "metadata": {},
   "source": [
    "Looking at FB pages censored in India"
   ]
  },
  {
   "cell_type": "code",
   "execution_count": 50,
   "metadata": {},
   "outputs": [],
   "source": [
    "# fbIndBlock = set (iclabcombined [ ( (iclabcombined['block']== True) | (iclabcombined['censored_updated']== True) | (iclabcombined['packet_updated']== True) ) & (iclabcombined['url'].str.contains('facebook')) & (iclabcombined['country']=='IN') ]['url'])\n",
    "# fbIndBlock"
   ]
  },
  {
   "cell_type": "markdown",
   "metadata": {},
   "source": [
    "(b) A look into religious censorship in the world"
   ]
  },
  {
   "cell_type": "code",
   "execution_count": 20,
   "metadata": {},
   "outputs": [],
   "source": [
    "# iclabCLEAN[ (iclabCLEAN['category'].isin(['Global Religion','Alternative Beliefs'])) & ( (iclabCLEAN['block']== True) | (iclabCLEAN['censored_updated'] == True) ) ].groupby(['country', 'site']).first()"
   ]
  },
  {
   "cell_type": "markdown",
   "metadata": {},
   "source": [
    "# 4) EXPERIMENT 3 : "
   ]
  },
  {
   "cell_type": "markdown",
   "metadata": {},
   "source": [
    "----------Defining a function which computes contribution of each category in a countries blocked sites--------"
   ]
  },
  {
   "cell_type": "code",
   "execution_count": 60,
   "metadata": {},
   "outputs": [],
   "source": [
    "def Category_contributions(cc):\n",
    "    catDataCC = iclabcombined[(iclabcombined['country']==cc) & (iclabcombined['censored_updated']==True) ]\n",
    "    catDataCC= catDataCC.drop(['server_t', 'censored_updated','site','dns_all','packet_reason','url','dns','dns_reason','dns_reason_all','schedule_name','http_status','block','body_len','http_reason','packet_updated'], axis=1)\n",
    "    catDataCC = catDataCC.groupby('category').count()\n",
    "    catDataCC['%Cat'] = (catDataCC['country']*100)/(catDataCC['country'].sum())\n",
    "    catDataCC= catDataCC.reset_index().drop('country',axis=1)\n",
    "    catDataCC= catDataCC.rename(columns={'country':'Number of sites in' + str(cc),'%Cat':cc})\n",
    "    return catDataCC"
   ]
  },
  {
   "cell_type": "code",
   "execution_count": 22,
   "metadata": {},
   "outputs": [],
   "source": [
    "#Category_contributions('US')"
   ]
  },
  {
   "cell_type": "code",
   "execution_count": 54,
   "metadata": {},
   "outputs": [],
   "source": [
    "#Category_contributions('CA')"
   ]
  },
  {
   "cell_type": "code",
   "execution_count": 55,
   "metadata": {},
   "outputs": [],
   "source": [
    "# INplot = Category_contributions('IN')\n",
    "# display(INplot)\n",
    "# TRplot =Category_contributions('TR')\n",
    "# RUplot = Category_contributions('RU')\n",
    "# KRplot= Category_contributions('KR')\n",
    "# USplot = Category_contributions('US')\n",
    "# CNplot = Category_contributions('CN')\n",
    "# CAplot  = Category_contributions('CA')\n",
    "# ZAplot  = Category_contributions('ZA')"
   ]
  },
  {
   "cell_type": "markdown",
   "metadata": {},
   "source": [
    " Plotting the graph below:"
   ]
  },
  {
   "cell_type": "code",
   "execution_count": 56,
   "metadata": {},
   "outputs": [],
   "source": [
    "# graphcompare1 = pd.merge(INplot,TRplot, on='category', how='outer')\n",
    "# graphcompare2 = pd.merge(graphcompare1,KRplot, on='category', how='outer')\n",
    "# graphcompare3 = pd.merge(graphcompare2,RUplot, on='category', how='outer')\n",
    "# graphcompare4 = pd.merge(graphcompare3,USplot, on='category', how='outer')\n",
    "# graphcompare5 = pd.merge(graphcompare4,CNplot, on='category', how='outer')"
   ]
  },
  {
   "cell_type": "code",
   "execution_count": 57,
   "metadata": {},
   "outputs": [],
   "source": [
    "# # set width of bar\n",
    "# barWidth = 0.15\n",
    " \n",
    "# # set height of bar\n",
    "# TR = graphcompare3['TR']\n",
    "# RU = graphcompare3['RU']\n",
    "# IN = graphcompare3['IN']\n",
    "# KR = graphcompare3['KR']\n",
    " \n",
    "# # Set position of bar on X axis\n",
    "# r1 = np.arange(len(TR))\n",
    "# r2 = [x + barWidth for x in r1]\n",
    "# r3 = [x + barWidth for x in r2]\n",
    "# r4 = [x + barWidth for x in r3]\n",
    " \n",
    "# # Make the plot\n",
    "# plt.figure(figsize = (20,12))\n",
    "# plt.bar(r1, TR, color='green', width=barWidth, edgecolor='dimgrey', label='Turkey')\n",
    "# plt.bar(r2, RU, color='red', width=barWidth ,  edgecolor='dimgrey',label='RU')\n",
    "# plt.bar(r3, IN, color='blue', width=barWidth,  edgecolor='dimgrey',label='India')\n",
    "# plt.bar(r4, KR, color='darkorange', width=barWidth,  edgecolor= 'dimgrey',label='South Korea') \n",
    "\n",
    "# # Add xticks on the middle of the group bars\n",
    "# plt.ylabel(\"Percentage\", size=15)\n",
    "# plt.ylim(0,100)\n",
    "# plt.xticks([r for r in range(len(TR))], graphcompare3['category'].tolist() ,rotation=-90, size=16)\n",
    "\n",
    "# # Create legend & Show graphic\n",
    "# plt.legend(loc = 'upper left', fontsize = 15)\n",
    "# plt.title(\"\\n Category-wise blocking in countries \\n\", size = 15)\n",
    "# plt.show()"
   ]
  },
  {
   "cell_type": "markdown",
   "metadata": {},
   "source": [
    "A few sample metrics"
   ]
  },
  {
   "cell_type": "code",
   "execution_count": 58,
   "metadata": {},
   "outputs": [],
   "source": [
    "# graphcompare5.fillna(0,inplace=True)"
   ]
  },
  {
   "cell_type": "code",
   "execution_count": 59,
   "metadata": {},
   "outputs": [],
   "source": [
    "# KRvals = graphcompare5['KR']\n",
    "# RUvals = graphcompare5['RU']\n",
    "# INvals = graphcompare5['IN']\n",
    "# TRvals = graphcompare5['TR']"
   ]
  },
  {
   "cell_type": "code",
   "execution_count": 60,
   "metadata": {},
   "outputs": [],
   "source": [
    "# KRsimilarityRU = (1 - spatial.distance.cosine(KRvals, RUvals))*100\n",
    "# KRsimilarityRU"
   ]
  },
  {
   "cell_type": "code",
   "execution_count": 61,
   "metadata": {},
   "outputs": [],
   "source": [
    "# INsimilarityTR = (1 - spatial.distance.cosine(INvals, TRvals))*100\n",
    "# INsimilarityTR"
   ]
  },
  {
   "cell_type": "code",
   "execution_count": 62,
   "metadata": {},
   "outputs": [],
   "source": [
    "# INsimilarityKR = (1 - spatial.distance.cosine(INvals, KRvals))*100\n",
    "# INsimilarityKR"
   ]
  },
  {
   "cell_type": "code",
   "execution_count": 63,
   "metadata": {},
   "outputs": [],
   "source": [
    "# INsimilarityRU = (1 - spatial.distance.cosine(INvals, RUvals))*100\n",
    "# INsimilarityRU"
   ]
  },
  {
   "cell_type": "code",
   "execution_count": null,
   "metadata": {},
   "outputs": [],
   "source": [
    "# KRsimilarityTR = (1 - spatial.distance.cosine(KRvals, TRvals))*100\n",
    "# KRsimilarityTR"
   ]
  },
  {
   "cell_type": "code",
   "execution_count": null,
   "metadata": {},
   "outputs": [],
   "source": [
    "# RUsimilarityTR = (1 - spatial.distance.cosine(RUvals, TRvals))*100\n",
    "# RUsimilarityTR"
   ]
  },
  {
   "cell_type": "markdown",
   "metadata": {},
   "source": [
    "# Can/Should we do KNN ?"
   ]
  },
  {
   "cell_type": "code",
   "execution_count": 615,
   "metadata": {},
   "outputs": [],
   "source": [
    "# iclabcombinedTEST = iclabcombined.sample(500)"
   ]
  },
  {
   "cell_type": "code",
   "execution_count": 616,
   "metadata": {},
   "outputs": [],
   "source": [
    "# iclabcombinedTEST = iclabcombinedTEST[['country','site','category','censored_updated']]"
   ]
  },
  {
   "cell_type": "code",
   "execution_count": 617,
   "metadata": {},
   "outputs": [],
   "source": [
    "# iclabcombinedTEST.censored_updated.replace([True,False],[1,0],inplace=True)"
   ]
  },
  {
   "cell_type": "code",
   "execution_count": 619,
   "metadata": {},
   "outputs": [],
   "source": [
    "# iclabcombinedTEST =iclabcombinedTEST.groupby('country').agg(dict)"
   ]
  },
  {
   "cell_type": "code",
   "execution_count": 611,
   "metadata": {},
   "outputs": [],
   "source": [
    "# SiteNo = iclabcombinedTEST.site.apply(lambda x: len(x))\n",
    "# CatNo = iclabcombinedTEST.category.apply(lambda x: len(x))\n",
    "# CensoredNo = iclabcombinedTEST.censored_updated.apply(lambda x: sum(x))"
   ]
  },
  {
   "cell_type": "code",
   "execution_count": 612,
   "metadata": {},
   "outputs": [],
   "source": [
    "# iclabcombinedTEST['SiteNo']=SiteNo\n",
    "# iclabcombinedTEST['CatNo']=CatNo\n",
    "# iclabcombinedTEST['CensoredNo']=CensoredNo"
   ]
  },
  {
   "cell_type": "code",
   "execution_count": 746,
   "metadata": {},
   "outputs": [],
   "source": [
    "#iclabcombinedTEST.head()"
   ]
  },
  {
   "cell_type": "markdown",
   "metadata": {},
   "source": [
    "\n",
    "# 5) SIMILARITY METRIC DATAFRAME FOR ALL COUNTRIES\n",
    "# FINAL DATAFRAME NAME IS METRICDF"
   ]
  },
  {
   "cell_type": "code",
   "execution_count": 61,
   "metadata": {},
   "outputs": [
    {
     "name": "stdout",
     "output_type": "stream",
     "text": [
      "The total countries we have in our clean dataset are 55\n"
     ]
    }
   ],
   "source": [
    "allCountries = (iclabcombined['country'].unique())\n",
    "print(\"The total countries we have in our clean dataset are {}\".format(len(allCountries)))"
   ]
  },
  {
   "cell_type": "code",
   "execution_count": 62,
   "metadata": {},
   "outputs": [
    {
     "name": "stdout",
     "output_type": "stream",
     "text": [
      "The total unique categories we have in our clean dataset are 72\n"
     ]
    }
   ],
   "source": [
    "allCategories = (iclabcombined['category'].unique())\n",
    "print(\"The total unique categories we have in our clean dataset are {}\".format(len(allCategories)))"
   ]
  },
  {
   "cell_type": "code",
   "execution_count": 63,
   "metadata": {},
   "outputs": [],
   "source": [
    "simMetricDF = pd.DataFrame(index = allCategories, columns=None)"
   ]
  },
  {
   "cell_type": "code",
   "execution_count": 64,
   "metadata": {},
   "outputs": [
    {
     "data": {
      "text/html": [
       "<div>\n",
       "<style scoped>\n",
       "    .dataframe tbody tr th:only-of-type {\n",
       "        vertical-align: middle;\n",
       "    }\n",
       "\n",
       "    .dataframe tbody tr th {\n",
       "        vertical-align: top;\n",
       "    }\n",
       "\n",
       "    .dataframe thead th {\n",
       "        text-align: right;\n",
       "    }\n",
       "</style>\n",
       "<table border=\"1\" class=\"dataframe\">\n",
       "  <thead>\n",
       "    <tr style=\"text-align: right;\">\n",
       "      <th></th>\n",
       "      <th>category</th>\n",
       "      <th>dummy</th>\n",
       "    </tr>\n",
       "  </thead>\n",
       "  <tbody>\n",
       "    <tr>\n",
       "      <th>0</th>\n",
       "      <td>File Sharing and Storage</td>\n",
       "      <td>NaN</td>\n",
       "    </tr>\n",
       "    <tr>\n",
       "      <th>1</th>\n",
       "      <td>Reference</td>\n",
       "      <td>NaN</td>\n",
       "    </tr>\n",
       "    <tr>\n",
       "      <th>2</th>\n",
       "      <td>Information Technology</td>\n",
       "      <td>NaN</td>\n",
       "    </tr>\n",
       "    <tr>\n",
       "      <th>3</th>\n",
       "      <td>Instant Messaging</td>\n",
       "      <td>NaN</td>\n",
       "    </tr>\n",
       "    <tr>\n",
       "      <th>4</th>\n",
       "      <td>News and Media</td>\n",
       "      <td>NaN</td>\n",
       "    </tr>\n",
       "  </tbody>\n",
       "</table>\n",
       "</div>"
      ],
      "text/plain": [
       "                   category  dummy\n",
       "0  File Sharing and Storage    NaN\n",
       "1                 Reference    NaN\n",
       "2    Information Technology    NaN\n",
       "3         Instant Messaging    NaN\n",
       "4            News and Media    NaN"
      ]
     },
     "execution_count": 64,
     "metadata": {},
     "output_type": "execute_result"
    }
   ],
   "source": [
    "simMetricDF['dummy']= pd.Series(np.zeros(len(simMetricDF)))\n",
    "simMetricDF.reset_index(inplace=True)\n",
    "simMetricDF.rename(columns={'index':'category'},inplace=True)\n",
    "simMetricDF.head()"
   ]
  },
  {
   "cell_type": "code",
   "execution_count": 65,
   "metadata": {},
   "outputs": [],
   "source": [
    "for country in allCountries:\n",
    "    simMetricDF = pd.merge(simMetricDF,Category_contributions(country), on= 'category', how='outer')"
   ]
  },
  {
   "cell_type": "code",
   "execution_count": 66,
   "metadata": {},
   "outputs": [],
   "source": [
    "simMetricDF.set_index('category',inplace = True)"
   ]
  },
  {
   "cell_type": "code",
   "execution_count": 67,
   "metadata": {},
   "outputs": [],
   "source": [
    "#REPLACING NaN's with 0\n",
    "simMetricDF.fillna(0,inplace=True)"
   ]
  },
  {
   "cell_type": "code",
   "execution_count": 68,
   "metadata": {},
   "outputs": [],
   "source": [
    "simMetricDF.drop(\"dummy\",axis=1,inplace = True)"
   ]
  },
  {
   "cell_type": "code",
   "execution_count": 69,
   "metadata": {},
   "outputs": [
    {
     "data": {
      "text/html": [
       "<div>\n",
       "<style scoped>\n",
       "    .dataframe tbody tr th:only-of-type {\n",
       "        vertical-align: middle;\n",
       "    }\n",
       "\n",
       "    .dataframe tbody tr th {\n",
       "        vertical-align: top;\n",
       "    }\n",
       "\n",
       "    .dataframe thead th {\n",
       "        text-align: right;\n",
       "    }\n",
       "</style>\n",
       "<table border=\"1\" class=\"dataframe\">\n",
       "  <thead>\n",
       "    <tr style=\"text-align: right;\">\n",
       "      <th></th>\n",
       "      <th>UA</th>\n",
       "      <th>CO</th>\n",
       "      <th>KR</th>\n",
       "      <th>US</th>\n",
       "      <th>BG</th>\n",
       "      <th>BZ</th>\n",
       "      <th>AU</th>\n",
       "      <th>JP</th>\n",
       "      <th>NL</th>\n",
       "      <th>HK</th>\n",
       "      <th>...</th>\n",
       "      <th>TR</th>\n",
       "      <th>PL</th>\n",
       "      <th>DZ</th>\n",
       "      <th>BR</th>\n",
       "      <th>SC</th>\n",
       "      <th>SA</th>\n",
       "      <th>AT</th>\n",
       "      <th>GR</th>\n",
       "      <th>CR</th>\n",
       "      <th>LI</th>\n",
       "    </tr>\n",
       "    <tr>\n",
       "      <th>category</th>\n",
       "      <th></th>\n",
       "      <th></th>\n",
       "      <th></th>\n",
       "      <th></th>\n",
       "      <th></th>\n",
       "      <th></th>\n",
       "      <th></th>\n",
       "      <th></th>\n",
       "      <th></th>\n",
       "      <th></th>\n",
       "      <th></th>\n",
       "      <th></th>\n",
       "      <th></th>\n",
       "      <th></th>\n",
       "      <th></th>\n",
       "      <th></th>\n",
       "      <th></th>\n",
       "      <th></th>\n",
       "      <th></th>\n",
       "      <th></th>\n",
       "      <th></th>\n",
       "    </tr>\n",
       "  </thead>\n",
       "  <tbody>\n",
       "    <tr>\n",
       "      <th>File Sharing and Storage</th>\n",
       "      <td>0.000000</td>\n",
       "      <td>0.000000</td>\n",
       "      <td>2.176180</td>\n",
       "      <td>0.0</td>\n",
       "      <td>0.0</td>\n",
       "      <td>0.0</td>\n",
       "      <td>10.714286</td>\n",
       "      <td>0.000000</td>\n",
       "      <td>0.000000</td>\n",
       "      <td>4.347826</td>\n",
       "      <td>...</td>\n",
       "      <td>2.062589</td>\n",
       "      <td>0.0</td>\n",
       "      <td>0.0</td>\n",
       "      <td>0.000000</td>\n",
       "      <td>0.0</td>\n",
       "      <td>0.400375</td>\n",
       "      <td>0.0</td>\n",
       "      <td>0.0</td>\n",
       "      <td>0.0</td>\n",
       "      <td>0.0</td>\n",
       "    </tr>\n",
       "    <tr>\n",
       "      <th>Reference</th>\n",
       "      <td>0.000000</td>\n",
       "      <td>0.000000</td>\n",
       "      <td>1.255837</td>\n",
       "      <td>0.0</td>\n",
       "      <td>0.0</td>\n",
       "      <td>0.0</td>\n",
       "      <td>0.000000</td>\n",
       "      <td>1.234568</td>\n",
       "      <td>0.000000</td>\n",
       "      <td>4.347826</td>\n",
       "      <td>...</td>\n",
       "      <td>0.711238</td>\n",
       "      <td>0.0</td>\n",
       "      <td>0.0</td>\n",
       "      <td>6.666667</td>\n",
       "      <td>0.0</td>\n",
       "      <td>0.000000</td>\n",
       "      <td>0.0</td>\n",
       "      <td>0.0</td>\n",
       "      <td>0.0</td>\n",
       "      <td>0.0</td>\n",
       "    </tr>\n",
       "    <tr>\n",
       "      <th>Information Technology</th>\n",
       "      <td>7.667732</td>\n",
       "      <td>0.000000</td>\n",
       "      <td>1.364646</td>\n",
       "      <td>0.0</td>\n",
       "      <td>20.0</td>\n",
       "      <td>0.0</td>\n",
       "      <td>8.928571</td>\n",
       "      <td>4.938272</td>\n",
       "      <td>8.256881</td>\n",
       "      <td>0.000000</td>\n",
       "      <td>...</td>\n",
       "      <td>0.000000</td>\n",
       "      <td>0.0</td>\n",
       "      <td>0.0</td>\n",
       "      <td>6.666667</td>\n",
       "      <td>0.0</td>\n",
       "      <td>0.860380</td>\n",
       "      <td>0.0</td>\n",
       "      <td>0.0</td>\n",
       "      <td>0.0</td>\n",
       "      <td>0.0</td>\n",
       "    </tr>\n",
       "    <tr>\n",
       "      <th>Instant Messaging</th>\n",
       "      <td>0.000000</td>\n",
       "      <td>0.000000</td>\n",
       "      <td>0.040803</td>\n",
       "      <td>0.0</td>\n",
       "      <td>0.0</td>\n",
       "      <td>0.0</td>\n",
       "      <td>0.000000</td>\n",
       "      <td>0.000000</td>\n",
       "      <td>0.000000</td>\n",
       "      <td>0.000000</td>\n",
       "      <td>...</td>\n",
       "      <td>0.000000</td>\n",
       "      <td>0.0</td>\n",
       "      <td>0.0</td>\n",
       "      <td>0.000000</td>\n",
       "      <td>0.0</td>\n",
       "      <td>0.000000</td>\n",
       "      <td>0.0</td>\n",
       "      <td>0.0</td>\n",
       "      <td>0.0</td>\n",
       "      <td>0.0</td>\n",
       "    </tr>\n",
       "    <tr>\n",
       "      <th>News and Media</th>\n",
       "      <td>0.319489</td>\n",
       "      <td>9.090909</td>\n",
       "      <td>4.542776</td>\n",
       "      <td>0.0</td>\n",
       "      <td>0.0</td>\n",
       "      <td>25.0</td>\n",
       "      <td>12.500000</td>\n",
       "      <td>9.876543</td>\n",
       "      <td>39.449541</td>\n",
       "      <td>4.347826</td>\n",
       "      <td>...</td>\n",
       "      <td>23.826458</td>\n",
       "      <td>0.0</td>\n",
       "      <td>0.0</td>\n",
       "      <td>20.000000</td>\n",
       "      <td>0.0</td>\n",
       "      <td>4.335974</td>\n",
       "      <td>0.0</td>\n",
       "      <td>0.0</td>\n",
       "      <td>0.0</td>\n",
       "      <td>0.0</td>\n",
       "    </tr>\n",
       "    <tr>\n",
       "      <th>...</th>\n",
       "      <td>...</td>\n",
       "      <td>...</td>\n",
       "      <td>...</td>\n",
       "      <td>...</td>\n",
       "      <td>...</td>\n",
       "      <td>...</td>\n",
       "      <td>...</td>\n",
       "      <td>...</td>\n",
       "      <td>...</td>\n",
       "      <td>...</td>\n",
       "      <td>...</td>\n",
       "      <td>...</td>\n",
       "      <td>...</td>\n",
       "      <td>...</td>\n",
       "      <td>...</td>\n",
       "      <td>...</td>\n",
       "      <td>...</td>\n",
       "      <td>...</td>\n",
       "      <td>...</td>\n",
       "      <td>...</td>\n",
       "      <td>...</td>\n",
       "    </tr>\n",
       "    <tr>\n",
       "      <th>Online Meeting</th>\n",
       "      <td>0.000000</td>\n",
       "      <td>0.000000</td>\n",
       "      <td>0.000000</td>\n",
       "      <td>0.0</td>\n",
       "      <td>0.0</td>\n",
       "      <td>0.0</td>\n",
       "      <td>0.000000</td>\n",
       "      <td>0.000000</td>\n",
       "      <td>0.000000</td>\n",
       "      <td>0.000000</td>\n",
       "      <td>...</td>\n",
       "      <td>0.000000</td>\n",
       "      <td>0.0</td>\n",
       "      <td>0.0</td>\n",
       "      <td>0.000000</td>\n",
       "      <td>0.0</td>\n",
       "      <td>0.000000</td>\n",
       "      <td>0.0</td>\n",
       "      <td>0.0</td>\n",
       "      <td>0.0</td>\n",
       "      <td>0.0</td>\n",
       "    </tr>\n",
       "    <tr>\n",
       "      <th>Brokerage and Trading</th>\n",
       "      <td>0.000000</td>\n",
       "      <td>0.000000</td>\n",
       "      <td>0.000000</td>\n",
       "      <td>0.0</td>\n",
       "      <td>0.0</td>\n",
       "      <td>0.0</td>\n",
       "      <td>0.000000</td>\n",
       "      <td>0.000000</td>\n",
       "      <td>0.000000</td>\n",
       "      <td>0.000000</td>\n",
       "      <td>...</td>\n",
       "      <td>0.000000</td>\n",
       "      <td>0.0</td>\n",
       "      <td>0.0</td>\n",
       "      <td>0.000000</td>\n",
       "      <td>0.0</td>\n",
       "      <td>0.000000</td>\n",
       "      <td>0.0</td>\n",
       "      <td>0.0</td>\n",
       "      <td>0.0</td>\n",
       "      <td>0.0</td>\n",
       "    </tr>\n",
       "    <tr>\n",
       "      <th>Dynamic DNS</th>\n",
       "      <td>0.000000</td>\n",
       "      <td>0.000000</td>\n",
       "      <td>0.000000</td>\n",
       "      <td>0.0</td>\n",
       "      <td>0.0</td>\n",
       "      <td>0.0</td>\n",
       "      <td>0.000000</td>\n",
       "      <td>0.000000</td>\n",
       "      <td>0.000000</td>\n",
       "      <td>0.000000</td>\n",
       "      <td>...</td>\n",
       "      <td>0.000000</td>\n",
       "      <td>0.0</td>\n",
       "      <td>0.0</td>\n",
       "      <td>0.000000</td>\n",
       "      <td>0.0</td>\n",
       "      <td>0.000000</td>\n",
       "      <td>0.0</td>\n",
       "      <td>0.0</td>\n",
       "      <td>0.0</td>\n",
       "      <td>0.0</td>\n",
       "    </tr>\n",
       "    <tr>\n",
       "      <th>Medicine</th>\n",
       "      <td>0.000000</td>\n",
       "      <td>0.000000</td>\n",
       "      <td>0.000000</td>\n",
       "      <td>0.0</td>\n",
       "      <td>0.0</td>\n",
       "      <td>0.0</td>\n",
       "      <td>0.000000</td>\n",
       "      <td>0.000000</td>\n",
       "      <td>0.000000</td>\n",
       "      <td>0.000000</td>\n",
       "      <td>...</td>\n",
       "      <td>0.000000</td>\n",
       "      <td>0.0</td>\n",
       "      <td>0.0</td>\n",
       "      <td>0.000000</td>\n",
       "      <td>0.0</td>\n",
       "      <td>0.000000</td>\n",
       "      <td>0.0</td>\n",
       "      <td>0.0</td>\n",
       "      <td>0.0</td>\n",
       "      <td>0.0</td>\n",
       "    </tr>\n",
       "    <tr>\n",
       "      <th>Child Education</th>\n",
       "      <td>0.000000</td>\n",
       "      <td>0.000000</td>\n",
       "      <td>0.000000</td>\n",
       "      <td>0.0</td>\n",
       "      <td>0.0</td>\n",
       "      <td>0.0</td>\n",
       "      <td>0.000000</td>\n",
       "      <td>0.000000</td>\n",
       "      <td>0.000000</td>\n",
       "      <td>0.000000</td>\n",
       "      <td>...</td>\n",
       "      <td>0.000000</td>\n",
       "      <td>0.0</td>\n",
       "      <td>0.0</td>\n",
       "      <td>0.000000</td>\n",
       "      <td>0.0</td>\n",
       "      <td>0.000000</td>\n",
       "      <td>0.0</td>\n",
       "      <td>0.0</td>\n",
       "      <td>0.0</td>\n",
       "      <td>0.0</td>\n",
       "    </tr>\n",
       "  </tbody>\n",
       "</table>\n",
       "<p>72 rows × 55 columns</p>\n",
       "</div>"
      ],
      "text/plain": [
       "                                UA        CO        KR   US    BG    BZ  \\\n",
       "category                                                                  \n",
       "File Sharing and Storage  0.000000  0.000000  2.176180  0.0   0.0   0.0   \n",
       "Reference                 0.000000  0.000000  1.255837  0.0   0.0   0.0   \n",
       "Information Technology    7.667732  0.000000  1.364646  0.0  20.0   0.0   \n",
       "Instant Messaging         0.000000  0.000000  0.040803  0.0   0.0   0.0   \n",
       "News and Media            0.319489  9.090909  4.542776  0.0   0.0  25.0   \n",
       "...                            ...       ...       ...  ...   ...   ...   \n",
       "Online Meeting            0.000000  0.000000  0.000000  0.0   0.0   0.0   \n",
       "Brokerage and Trading     0.000000  0.000000  0.000000  0.0   0.0   0.0   \n",
       "Dynamic DNS               0.000000  0.000000  0.000000  0.0   0.0   0.0   \n",
       "Medicine                  0.000000  0.000000  0.000000  0.0   0.0   0.0   \n",
       "Child Education           0.000000  0.000000  0.000000  0.0   0.0   0.0   \n",
       "\n",
       "                                 AU        JP         NL        HK  ...  \\\n",
       "category                                                            ...   \n",
       "File Sharing and Storage  10.714286  0.000000   0.000000  4.347826  ...   \n",
       "Reference                  0.000000  1.234568   0.000000  4.347826  ...   \n",
       "Information Technology     8.928571  4.938272   8.256881  0.000000  ...   \n",
       "Instant Messaging          0.000000  0.000000   0.000000  0.000000  ...   \n",
       "News and Media            12.500000  9.876543  39.449541  4.347826  ...   \n",
       "...                             ...       ...        ...       ...  ...   \n",
       "Online Meeting             0.000000  0.000000   0.000000  0.000000  ...   \n",
       "Brokerage and Trading      0.000000  0.000000   0.000000  0.000000  ...   \n",
       "Dynamic DNS                0.000000  0.000000   0.000000  0.000000  ...   \n",
       "Medicine                   0.000000  0.000000   0.000000  0.000000  ...   \n",
       "Child Education            0.000000  0.000000   0.000000  0.000000  ...   \n",
       "\n",
       "                                 TR   PL   DZ         BR   SC        SA   AT  \\\n",
       "category                                                                       \n",
       "File Sharing and Storage   2.062589  0.0  0.0   0.000000  0.0  0.400375  0.0   \n",
       "Reference                  0.711238  0.0  0.0   6.666667  0.0  0.000000  0.0   \n",
       "Information Technology     0.000000  0.0  0.0   6.666667  0.0  0.860380  0.0   \n",
       "Instant Messaging          0.000000  0.0  0.0   0.000000  0.0  0.000000  0.0   \n",
       "News and Media            23.826458  0.0  0.0  20.000000  0.0  4.335974  0.0   \n",
       "...                             ...  ...  ...        ...  ...       ...  ...   \n",
       "Online Meeting             0.000000  0.0  0.0   0.000000  0.0  0.000000  0.0   \n",
       "Brokerage and Trading      0.000000  0.0  0.0   0.000000  0.0  0.000000  0.0   \n",
       "Dynamic DNS                0.000000  0.0  0.0   0.000000  0.0  0.000000  0.0   \n",
       "Medicine                   0.000000  0.0  0.0   0.000000  0.0  0.000000  0.0   \n",
       "Child Education            0.000000  0.0  0.0   0.000000  0.0  0.000000  0.0   \n",
       "\n",
       "                           GR   CR   LI  \n",
       "category                                 \n",
       "File Sharing and Storage  0.0  0.0  0.0  \n",
       "Reference                 0.0  0.0  0.0  \n",
       "Information Technology    0.0  0.0  0.0  \n",
       "Instant Messaging         0.0  0.0  0.0  \n",
       "News and Media            0.0  0.0  0.0  \n",
       "...                       ...  ...  ...  \n",
       "Online Meeting            0.0  0.0  0.0  \n",
       "Brokerage and Trading     0.0  0.0  0.0  \n",
       "Dynamic DNS               0.0  0.0  0.0  \n",
       "Medicine                  0.0  0.0  0.0  \n",
       "Child Education           0.0  0.0  0.0  \n",
       "\n",
       "[72 rows x 55 columns]"
      ]
     },
     "execution_count": 69,
     "metadata": {},
     "output_type": "execute_result"
    }
   ],
   "source": [
    "simMetricDF"
   ]
  },
  {
   "cell_type": "code",
   "execution_count": 70,
   "metadata": {},
   "outputs": [],
   "source": [
    "countryList =  allCountries.tolist()\n",
    "numCatBlock = []"
   ]
  },
  {
   "cell_type": "code",
   "execution_count": 71,
   "metadata": {},
   "outputs": [],
   "source": [
    "for item in countryList:\n",
    "    numCatBlock.append(len(simMetricDF[simMetricDF[item]!=0]))"
   ]
  },
  {
   "cell_type": "code",
   "execution_count": 72,
   "metadata": {},
   "outputs": [],
   "source": [
    "tempDF = pd.DataFrame(index=countryList)"
   ]
  },
  {
   "cell_type": "code",
   "execution_count": 73,
   "metadata": {},
   "outputs": [],
   "source": [
    "tempDF['numCatBlock'] =numCatBlock"
   ]
  },
  {
   "cell_type": "code",
   "execution_count": 74,
   "metadata": {},
   "outputs": [],
   "source": [
    "tempDF = tempDF.sort_values(by='numCatBlock',ascending = False)"
   ]
  },
  {
   "cell_type": "code",
   "execution_count": 75,
   "metadata": {},
   "outputs": [
    {
     "name": "stdout",
     "output_type": "stream",
     "text": [
      "We have 55 unique countries\n"
     ]
    }
   ],
   "source": [
    "#Getting all columns i.e. countries\n",
    "simCols=[]\n",
    "for i in range(len(simMetricDF.columns)):\n",
    "    simCols.append(simMetricDF.columns[i])\n",
    "print(\"We have {} unique countries\".format(len(simCols)))"
   ]
  },
  {
   "cell_type": "code",
   "execution_count": 76,
   "metadata": {},
   "outputs": [
    {
     "name": "stdout",
     "output_type": "stream",
     "text": [
      "We have 1485 unique pairs from these countries including dummy\n"
     ]
    }
   ],
   "source": [
    "#Creating pairs to do calculation of spatial distance\n",
    "from itertools import combinations\n",
    "pairs = [comb for comb in sorted(combinations(simCols, 2))]\n",
    "print(\"We have {} unique pairs from these countries including dummy\".format(len(pairs)))"
   ]
  },
  {
   "cell_type": "code",
   "execution_count": 77,
   "metadata": {},
   "outputs": [],
   "source": [
    "#Both vectors are non zeroes\n",
    "#print(\" **** Similarity is {} ****\".format(1-(spatial.distance.cosine(simMetricDF['AU'], simMetricDF['IN']))))\n",
    "\n",
    "# When even one vector is completeley a zero vector\n",
    "#print(\" **** Similarity is {} ****\".format(1-(spatial.distance.cosine(simMetricDF['US'], simMetricDF['IN']))))"
   ]
  },
  {
   "cell_type": "code",
   "execution_count": 124,
   "metadata": {},
   "outputs": [],
   "source": [
    "#NewSimVal will store the similarity value calculated from the spatial cosine distance formula\n",
    "\n",
    "NewSimVals = []\n",
    "for item in pairs:\n",
    "    if (np.sum(simMetricDF[item[0]]) == 0) & (np.sum(simMetricDF[item[1]]) ==0):\n",
    "        NewSimVals.append((item,1))\n",
    "    elif (np.sum(simMetricDF[item[0]]) == 0) | (np.sum(simMetricDF[item[1]]) ==0):\n",
    "        NewSimVals.append((item,0))\n",
    "    else :\n",
    "        NewSimVals.append((item,(1 - spatial.distance.cosine(simMetricDF[item[0]], simMetricDF[item[1]]))))"
   ]
  },
  {
   "cell_type": "code",
   "execution_count": 125,
   "metadata": {},
   "outputs": [
    {
     "data": {
      "text/html": [
       "<div>\n",
       "<style scoped>\n",
       "    .dataframe tbody tr th:only-of-type {\n",
       "        vertical-align: middle;\n",
       "    }\n",
       "\n",
       "    .dataframe tbody tr th {\n",
       "        vertical-align: top;\n",
       "    }\n",
       "\n",
       "    .dataframe thead th {\n",
       "        text-align: right;\n",
       "    }\n",
       "</style>\n",
       "<table border=\"1\" class=\"dataframe\">\n",
       "  <thead>\n",
       "    <tr style=\"text-align: right;\">\n",
       "      <th></th>\n",
       "      <th>pair</th>\n",
       "      <th>country_code_alpha2_A</th>\n",
       "      <th>country_code_alpha2_B</th>\n",
       "      <th>similarity</th>\n",
       "    </tr>\n",
       "  </thead>\n",
       "  <tbody>\n",
       "    <tr>\n",
       "      <th>0</th>\n",
       "      <td>(AD, AT)</td>\n",
       "      <td>AD</td>\n",
       "      <td>AT</td>\n",
       "      <td>0.000000</td>\n",
       "    </tr>\n",
       "    <tr>\n",
       "      <th>1</th>\n",
       "      <td>(AD, BE)</td>\n",
       "      <td>AD</td>\n",
       "      <td>BE</td>\n",
       "      <td>1.000000</td>\n",
       "    </tr>\n",
       "    <tr>\n",
       "      <th>2</th>\n",
       "      <td>(AD, BR)</td>\n",
       "      <td>AD</td>\n",
       "      <td>BR</td>\n",
       "      <td>0.000000</td>\n",
       "    </tr>\n",
       "    <tr>\n",
       "      <th>3</th>\n",
       "      <td>(AD, CA)</td>\n",
       "      <td>AD</td>\n",
       "      <td>CA</td>\n",
       "      <td>0.000000</td>\n",
       "    </tr>\n",
       "    <tr>\n",
       "      <th>4</th>\n",
       "      <td>(AD, CR)</td>\n",
       "      <td>AD</td>\n",
       "      <td>CR</td>\n",
       "      <td>1.000000</td>\n",
       "    </tr>\n",
       "    <tr>\n",
       "      <th>...</th>\n",
       "      <td>...</td>\n",
       "      <td>...</td>\n",
       "      <td>...</td>\n",
       "      <td>...</td>\n",
       "    </tr>\n",
       "    <tr>\n",
       "      <th>1480</th>\n",
       "      <td>(ZA, SG)</td>\n",
       "      <td>ZA</td>\n",
       "      <td>SG</td>\n",
       "      <td>0.000000</td>\n",
       "    </tr>\n",
       "    <tr>\n",
       "      <th>1481</th>\n",
       "      <td>(ZA, SK)</td>\n",
       "      <td>ZA</td>\n",
       "      <td>SK</td>\n",
       "      <td>0.000000</td>\n",
       "    </tr>\n",
       "    <tr>\n",
       "      <th>1482</th>\n",
       "      <td>(ZA, TR)</td>\n",
       "      <td>ZA</td>\n",
       "      <td>TR</td>\n",
       "      <td>0.175272</td>\n",
       "    </tr>\n",
       "    <tr>\n",
       "      <th>1483</th>\n",
       "      <td>(ZA, TW)</td>\n",
       "      <td>ZA</td>\n",
       "      <td>TW</td>\n",
       "      <td>0.000000</td>\n",
       "    </tr>\n",
       "    <tr>\n",
       "      <th>1484</th>\n",
       "      <td>(ZA, VE)</td>\n",
       "      <td>ZA</td>\n",
       "      <td>VE</td>\n",
       "      <td>0.000000</td>\n",
       "    </tr>\n",
       "  </tbody>\n",
       "</table>\n",
       "<p>1485 rows × 4 columns</p>\n",
       "</div>"
      ],
      "text/plain": [
       "          pair country_code_alpha2_A country_code_alpha2_B  similarity\n",
       "0     (AD, AT)                    AD                    AT    0.000000\n",
       "1     (AD, BE)                    AD                    BE    1.000000\n",
       "2     (AD, BR)                    AD                    BR    0.000000\n",
       "3     (AD, CA)                    AD                    CA    0.000000\n",
       "4     (AD, CR)                    AD                    CR    1.000000\n",
       "...        ...                   ...                   ...         ...\n",
       "1480  (ZA, SG)                    ZA                    SG    0.000000\n",
       "1481  (ZA, SK)                    ZA                    SK    0.000000\n",
       "1482  (ZA, TR)                    ZA                    TR    0.175272\n",
       "1483  (ZA, TW)                    ZA                    TW    0.000000\n",
       "1484  (ZA, VE)                    ZA                    VE    0.000000\n",
       "\n",
       "[1485 rows x 4 columns]"
      ]
     },
     "execution_count": 125,
     "metadata": {},
     "output_type": "execute_result"
    }
   ],
   "source": [
    "simMetricVals = pd.DataFrame(index=pairs, columns = None )\n",
    "simMetricVals['similarity'] = [j for (i,j) in NewSimVals]\n",
    "simMetricVals.reset_index(inplace=True)\n",
    "simMetricVals.rename(columns={'index':'pair'},inplace=True)\n",
    "simMetricVals[['country_code_alpha2_A', 'country_code_alpha2_B']] = pd.DataFrame(simMetricVals['pair'].tolist(), index=simMetricVals.index)\n",
    "simMetricVals = simMetricVals[['pair','country_code_alpha2_A','country_code_alpha2_B','similarity']]\n",
    "simMetricVals"
   ]
  },
  {
   "cell_type": "code",
   "execution_count": 132,
   "metadata": {},
   "outputs": [
    {
     "data": {
      "text/plain": [
       "<matplotlib.axes._subplots.AxesSubplot at 0x7f3ad176c208>"
      ]
     },
     "execution_count": 132,
     "metadata": {},
     "output_type": "execute_result"
    },
    {
     "data": {
      "image/png": "[encoded data removed]",
      "text/plain": [
       "<Figure size 640x480 with 1 Axes>"
      ]
     },
     "metadata": {},
     "output_type": "display_data"
    }
   ],
   "source": [
    "simMetricVals['similarity'].plot.hist()"
   ]
  },
  {
   "cell_type": "code",
   "execution_count": 126,
   "metadata": {},
   "outputs": [],
   "source": [
    "# #Pickling the simMetricVals data set\n",
    "simMetricVals.to_pickle(\"simMetricVals.pkl\")"
   ]
  },
  {
   "cell_type": "markdown",
   "metadata": {},
   "source": [
    "-->> Reading simMetricVals from pickle"
   ]
  },
  {
   "cell_type": "code",
   "execution_count": 127,
   "metadata": {},
   "outputs": [],
   "source": [
    "#simMetricVals = pd.read_pickle(\"simMetricVals.pkl\")"
   ]
  },
  {
   "cell_type": "markdown",
   "metadata": {},
   "source": [
    "## Proxy 2: Proportion of blocking events\n",
    "\n",
    "While our first metric (above) gives us a good sense of blocking overlaps,\n",
    "it fails to show us variation in the *volume* of blocking. Some countries have more blocking than others. We want to account for that.\n",
    "\n",
    "We'll measure the volume of blocking in each country. We'll do that by measuring, for each country, the *proportion* of observations where `censored=True`."
   ]
  },
  {
   "cell_type": "markdown",
   "metadata": {},
   "source": [
    "### Number of sites are blocked"
   ]
  },
  {
   "cell_type": "code",
   "execution_count": 31,
   "metadata": {},
   "outputs": [],
   "source": [
    "NumSitesBlocked = iclabcombined.loc[(iclabcombined['censored_updated']==True),['site','country']].sort_values(by='country',ascending = False)"
   ]
  },
  {
   "cell_type": "code",
   "execution_count": 32,
   "metadata": {},
   "outputs": [],
   "source": [
    "total_observations_by_country = iclabcombined.groupby('country').count()"
   ]
  },
  {
   "cell_type": "code",
   "execution_count": 33,
   "metadata": {},
   "outputs": [],
   "source": [
    "total_blocked_observations_by_country = iclabcombined[iclabcombined['censored_updated']==True].groupby('country').count()"
   ]
  },
  {
   "cell_type": "code",
   "execution_count": 133,
   "metadata": {
    "scrolled": true
   },
   "outputs": [
    {
     "data": {
      "text/plain": [
       "country\n",
       "AT    0.000000\n",
       "AU    0.000045\n",
       "BG    0.000014\n",
       "BR    0.000014\n",
       "BZ    0.000148\n",
       "CA    0.000000\n",
       "CL    0.000004\n",
       "CN    0.000726\n",
       "CO    0.000054\n",
       "DK    0.000009\n",
       "ES    0.000050\n",
       "FR    0.000009\n",
       "HK    0.000036\n",
       "HU    0.000021\n",
       "IN    0.037089\n",
       "JP    0.000102\n",
       "KE    0.000025\n",
       "KR    0.021711\n",
       "LT    0.000034\n",
       "LU    0.000043\n",
       "MD    0.000025\n",
       "MX    0.000011\n",
       "MY    0.000177\n",
       "NL    0.000032\n",
       "NO    0.000014\n",
       "NZ    0.000036\n",
       "PE    0.000047\n",
       "PL    0.000665\n",
       "PT    0.000008\n",
       "RO    0.000033\n",
       "RS    0.000042\n",
       "RU    0.012843\n",
       "SA    0.111579\n",
       "SC    0.000021\n",
       "SE    0.000008\n",
       "SG    0.000014\n",
       "SK    0.000169\n",
       "TR    0.023203\n",
       "TW    0.000030\n",
       "UA    0.000714\n",
       "VN    0.000024\n",
       "ZA    0.000007\n",
       "dtype: float64"
      ]
     },
     "execution_count": 133,
     "metadata": {},
     "output_type": "execute_result"
    }
   ],
   "source": [
    "dummy_column_for_counting = 'dns'\n",
    "\n",
    "def as_single_column (df):\n",
    "    return df[[dummy_column_for_counting]]\n",
    "\n",
    "def proportion (row):\n",
    "    blocked = row[dummy_column_for_counting+'_blocked']\n",
    "    total = row[dummy_column_for_counting+'_total']\n",
    "    return blocked / total\n",
    "\n",
    "\n",
    "blocking_proporitons =\\\n",
    "as_single_column(total_blocked_observations_by_country)\\\n",
    "    .merge(as_single_column(total_observations_by_country),\n",
    "           on='country', suffixes=('_blocked', '_total'))\\\n",
    "    .apply(proportion, axis=1)\n",
    "\n",
    "blocking_proporitons"
   ]
  },
  {
   "cell_type": "markdown",
   "metadata": {},
   "source": [
    "Now we can compute the similarity in proportions between two countries."
   ]
  },
  {
   "cell_type": "code",
   "execution_count": 134,
   "metadata": {},
   "outputs": [],
   "source": [
    "def get_proportion (cc2):\n",
    "    # try to retrieve it\n",
    "    try:\n",
    "        return blocking_proporitons[cc2]\n",
    "    # if we don't have data on it\n",
    "    except KeyError:\n",
    "        # treat it as 0\n",
    "        return 0\n",
    "\n",
    "def compute_similarity(proportion1, proportion2):\n",
    "    # keep it simple....\n",
    "    # minimum and maximum values will still be 0 and 1, since we're dealing with proportions.\n",
    "    return 1 - abs(proportion1 - proportion2)\n",
    "\n",
    "CountSimilarity = []\n",
    "for item in pairs:\n",
    "    (country1, country2) = item\n",
    "    similarity = compute_similarity(get_proportion(country1), get_proportion(country2))\n",
    "    CountSimilarity.append((item, similarity))"
   ]
  },
  {
   "cell_type": "code",
   "execution_count": 135,
   "metadata": {},
   "outputs": [
    {
     "data": {
      "text/html": [
       "<div>\n",
       "<style scoped>\n",
       "    .dataframe tbody tr th:only-of-type {\n",
       "        vertical-align: middle;\n",
       "    }\n",
       "\n",
       "    .dataframe tbody tr th {\n",
       "        vertical-align: top;\n",
       "    }\n",
       "\n",
       "    .dataframe thead th {\n",
       "        text-align: right;\n",
       "    }\n",
       "</style>\n",
       "<table border=\"1\" class=\"dataframe\">\n",
       "  <thead>\n",
       "    <tr style=\"text-align: right;\">\n",
       "      <th></th>\n",
       "      <th>pair</th>\n",
       "      <th>proportion-similarity</th>\n",
       "    </tr>\n",
       "  </thead>\n",
       "  <tbody>\n",
       "    <tr>\n",
       "      <th>0</th>\n",
       "      <td>(AD, AT)</td>\n",
       "      <td>1.000000</td>\n",
       "    </tr>\n",
       "    <tr>\n",
       "      <th>1</th>\n",
       "      <td>(AD, BE)</td>\n",
       "      <td>1.000000</td>\n",
       "    </tr>\n",
       "    <tr>\n",
       "      <th>2</th>\n",
       "      <td>(AD, BR)</td>\n",
       "      <td>0.999986</td>\n",
       "    </tr>\n",
       "    <tr>\n",
       "      <th>3</th>\n",
       "      <td>(AD, CA)</td>\n",
       "      <td>1.000000</td>\n",
       "    </tr>\n",
       "    <tr>\n",
       "      <th>4</th>\n",
       "      <td>(AD, CR)</td>\n",
       "      <td>1.000000</td>\n",
       "    </tr>\n",
       "    <tr>\n",
       "      <th>...</th>\n",
       "      <td>...</td>\n",
       "      <td>...</td>\n",
       "    </tr>\n",
       "    <tr>\n",
       "      <th>1480</th>\n",
       "      <td>(ZA, SG)</td>\n",
       "      <td>0.999993</td>\n",
       "    </tr>\n",
       "    <tr>\n",
       "      <th>1481</th>\n",
       "      <td>(ZA, SK)</td>\n",
       "      <td>0.999839</td>\n",
       "    </tr>\n",
       "    <tr>\n",
       "      <th>1482</th>\n",
       "      <td>(ZA, TR)</td>\n",
       "      <td>0.976804</td>\n",
       "    </tr>\n",
       "    <tr>\n",
       "      <th>1483</th>\n",
       "      <td>(ZA, TW)</td>\n",
       "      <td>0.999977</td>\n",
       "    </tr>\n",
       "    <tr>\n",
       "      <th>1484</th>\n",
       "      <td>(ZA, VE)</td>\n",
       "      <td>0.999993</td>\n",
       "    </tr>\n",
       "  </tbody>\n",
       "</table>\n",
       "<p>1485 rows × 2 columns</p>\n",
       "</div>"
      ],
      "text/plain": [
       "          pair  proportion-similarity\n",
       "0     (AD, AT)               1.000000\n",
       "1     (AD, BE)               1.000000\n",
       "2     (AD, BR)               0.999986\n",
       "3     (AD, CA)               1.000000\n",
       "4     (AD, CR)               1.000000\n",
       "...        ...                    ...\n",
       "1480  (ZA, SG)               0.999993\n",
       "1481  (ZA, SK)               0.999839\n",
       "1482  (ZA, TR)               0.976804\n",
       "1483  (ZA, TW)               0.999977\n",
       "1484  (ZA, VE)               0.999993\n",
       "\n",
       "[1485 rows x 2 columns]"
      ]
     },
     "execution_count": 135,
     "metadata": {},
     "output_type": "execute_result"
    }
   ],
   "source": [
    "blocking_proportion_similarities =\\\n",
    "pd.DataFrame(CountSimilarity, columns=[\n",
    "    'pair',\n",
    "    'proportion-similarity'\n",
    "])\n",
    "blocking_proportion_similarities"
   ]
  },
  {
   "cell_type": "code",
   "execution_count": 136,
   "metadata": {},
   "outputs": [
    {
     "data": {
      "text/plain": [
       "<matplotlib.axes._subplots.AxesSubplot at 0x7f3acfa81f28>"
      ]
     },
     "execution_count": 136,
     "metadata": {},
     "output_type": "execute_result"
    },
    {
     "data": {
      "image/png": "[encoded data removed]",
      "text/plain": [
       "<Figure size 640x480 with 1 Axes>"
      ]
     },
     "metadata": {},
     "output_type": "display_data"
    }
   ],
   "source": [
    "blocking_proportion_similarities['proportion-similarity'].plot.hist()"
   ]
  },
  {
   "cell_type": "markdown",
   "metadata": {},
   "source": [
    "Not much variation here. That's okay. We'll just min-max normalize it."
   ]
  },
  {
   "cell_type": "code",
   "execution_count": 137,
   "metadata": {},
   "outputs": [
    {
     "data": {
      "text/plain": [
       "<matplotlib.axes._subplots.AxesSubplot at 0x7f3ad3bb4898>"
      ]
     },
     "execution_count": 137,
     "metadata": {},
     "output_type": "execute_result"
    },
    {
     "data": {
      "image/png": "[encoded data removed]",
      "text/plain": [
       "<Figure size 640x480 with 1 Axes>"
      ]
     },
     "metadata": {},
     "output_type": "display_data"
    }
   ],
   "source": [
    "def min_max_norm(series):\n",
    "    return (series-series.min())/(series.max()-series.min())\n",
    "\n",
    "blocking_proportion_similarities['proportion-similarity-normalized'] = \\\n",
    "    min_max_norm(blocking_proportion_similarities['proportion-similarity'])\n",
    "blocking_proportion_similarities['proportion-similarity-normalized'].plot.hist()"
   ]
  },
  {
   "cell_type": "markdown",
   "metadata": {},
   "source": [
    "### Merging these two"
   ]
  },
  {
   "cell_type": "code",
   "execution_count": 141,
   "metadata": {},
   "outputs": [
    {
     "data": {
      "text/html": [
       "<div>\n",
       "<style scoped>\n",
       "    .dataframe tbody tr th:only-of-type {\n",
       "        vertical-align: middle;\n",
       "    }\n",
       "\n",
       "    .dataframe tbody tr th {\n",
       "        vertical-align: top;\n",
       "    }\n",
       "\n",
       "    .dataframe thead th {\n",
       "        text-align: right;\n",
       "    }\n",
       "</style>\n",
       "<table border=\"1\" class=\"dataframe\">\n",
       "  <thead>\n",
       "    <tr style=\"text-align: right;\">\n",
       "      <th></th>\n",
       "      <th>pair</th>\n",
       "      <th>country_code_alpha2_A</th>\n",
       "      <th>country_code_alpha2_B</th>\n",
       "      <th>Censored_Category_Similarity</th>\n",
       "      <th>proportion-similarity</th>\n",
       "      <th>Blocking_Proportion_Similarity</th>\n",
       "      <th>Overall_Similarity</th>\n",
       "    </tr>\n",
       "  </thead>\n",
       "  <tbody>\n",
       "    <tr>\n",
       "      <th>80</th>\n",
       "      <td>(BE, IS)</td>\n",
       "      <td>BE</td>\n",
       "      <td>IS</td>\n",
       "      <td>1.0</td>\n",
       "      <td>1.000000</td>\n",
       "      <td>1.0</td>\n",
       "      <td>1.0</td>\n",
       "    </tr>\n",
       "    <tr>\n",
       "      <th>1405</th>\n",
       "      <td>(VE, IL)</td>\n",
       "      <td>VE</td>\n",
       "      <td>IL</td>\n",
       "      <td>1.0</td>\n",
       "      <td>1.000000</td>\n",
       "      <td>1.0</td>\n",
       "      <td>1.0</td>\n",
       "    </tr>\n",
       "    <tr>\n",
       "      <th>87</th>\n",
       "      <td>(BE, VE)</td>\n",
       "      <td>BE</td>\n",
       "      <td>VE</td>\n",
       "      <td>1.0</td>\n",
       "      <td>1.000000</td>\n",
       "      <td>1.0</td>\n",
       "      <td>1.0</td>\n",
       "    </tr>\n",
       "    <tr>\n",
       "      <th>1357</th>\n",
       "      <td>(US, CR)</td>\n",
       "      <td>US</td>\n",
       "      <td>CR</td>\n",
       "      <td>1.0</td>\n",
       "      <td>1.000000</td>\n",
       "      <td>1.0</td>\n",
       "      <td>1.0</td>\n",
       "    </tr>\n",
       "    <tr>\n",
       "      <th>1</th>\n",
       "      <td>(AD, BE)</td>\n",
       "      <td>AD</td>\n",
       "      <td>BE</td>\n",
       "      <td>1.0</td>\n",
       "      <td>1.000000</td>\n",
       "      <td>1.0</td>\n",
       "      <td>1.0</td>\n",
       "    </tr>\n",
       "    <tr>\n",
       "      <th>...</th>\n",
       "      <td>...</td>\n",
       "      <td>...</td>\n",
       "      <td>...</td>\n",
       "      <td>...</td>\n",
       "      <td>...</td>\n",
       "      <td>...</td>\n",
       "      <td>...</td>\n",
       "    </tr>\n",
       "    <tr>\n",
       "      <th>570</th>\n",
       "      <td>(IL, SA)</td>\n",
       "      <td>IL</td>\n",
       "      <td>SA</td>\n",
       "      <td>0.0</td>\n",
       "      <td>0.888421</td>\n",
       "      <td>0.0</td>\n",
       "      <td>0.0</td>\n",
       "    </tr>\n",
       "    <tr>\n",
       "      <th>555</th>\n",
       "      <td>(ID, SA)</td>\n",
       "      <td>ID</td>\n",
       "      <td>SA</td>\n",
       "      <td>0.0</td>\n",
       "      <td>0.888421</td>\n",
       "      <td>0.0</td>\n",
       "      <td>0.0</td>\n",
       "    </tr>\n",
       "    <tr>\n",
       "      <th>209</th>\n",
       "      <td>(CA, SA)</td>\n",
       "      <td>CA</td>\n",
       "      <td>SA</td>\n",
       "      <td>0.0</td>\n",
       "      <td>0.888421</td>\n",
       "      <td>0.0</td>\n",
       "      <td>0.0</td>\n",
       "    </tr>\n",
       "    <tr>\n",
       "      <th>1388</th>\n",
       "      <td>(US, SA)</td>\n",
       "      <td>US</td>\n",
       "      <td>SA</td>\n",
       "      <td>0.0</td>\n",
       "      <td>0.888421</td>\n",
       "      <td>0.0</td>\n",
       "      <td>0.0</td>\n",
       "    </tr>\n",
       "    <tr>\n",
       "      <th>1159</th>\n",
       "      <td>(SA, LI)</td>\n",
       "      <td>SA</td>\n",
       "      <td>LI</td>\n",
       "      <td>0.0</td>\n",
       "      <td>0.888421</td>\n",
       "      <td>0.0</td>\n",
       "      <td>0.0</td>\n",
       "    </tr>\n",
       "  </tbody>\n",
       "</table>\n",
       "<p>1485 rows × 7 columns</p>\n",
       "</div>"
      ],
      "text/plain": [
       "          pair country_code_alpha2_A country_code_alpha2_B  \\\n",
       "80    (BE, IS)                    BE                    IS   \n",
       "1405  (VE, IL)                    VE                    IL   \n",
       "87    (BE, VE)                    BE                    VE   \n",
       "1357  (US, CR)                    US                    CR   \n",
       "1     (AD, BE)                    AD                    BE   \n",
       "...        ...                   ...                   ...   \n",
       "570   (IL, SA)                    IL                    SA   \n",
       "555   (ID, SA)                    ID                    SA   \n",
       "209   (CA, SA)                    CA                    SA   \n",
       "1388  (US, SA)                    US                    SA   \n",
       "1159  (SA, LI)                    SA                    LI   \n",
       "\n",
       "      Censored_Category_Similarity  proportion-similarity  \\\n",
       "80                             1.0               1.000000   \n",
       "1405                           1.0               1.000000   \n",
       "87                             1.0               1.000000   \n",
       "1357                           1.0               1.000000   \n",
       "1                              1.0               1.000000   \n",
       "...                            ...                    ...   \n",
       "570                            0.0               0.888421   \n",
       "555                            0.0               0.888421   \n",
       "209                            0.0               0.888421   \n",
       "1388                           0.0               0.888421   \n",
       "1159                           0.0               0.888421   \n",
       "\n",
       "      Blocking_Proportion_Similarity  Overall_Similarity  \n",
       "80                               1.0                 1.0  \n",
       "1405                             1.0                 1.0  \n",
       "87                               1.0                 1.0  \n",
       "1357                             1.0                 1.0  \n",
       "1                                1.0                 1.0  \n",
       "...                              ...                 ...  \n",
       "570                              0.0                 0.0  \n",
       "555                              0.0                 0.0  \n",
       "209                              0.0                 0.0  \n",
       "1388                             0.0                 0.0  \n",
       "1159                             0.0                 0.0  \n",
       "\n",
       "[1485 rows x 7 columns]"
      ]
     },
     "execution_count": 141,
     "metadata": {},
     "output_type": "execute_result"
    }
   ],
   "source": [
    "MetricDF = pd.merge(simMetricVals,blocking_proportion_similarities,on='pair',how='outer')\n",
    "MetricDF = MetricDF.rename(columns={\n",
    "    'similarity':'Censored_Category_Similarity',\n",
    "    'proportion-similarity-normalized':'Blocking_Proportion_Similarity',\n",
    "})\n",
    "MetricDF['Overall_Similarity'] = (MetricDF['Censored_Category_Similarity']+ MetricDF['Blocking_Proportion_Similarity'])/2\n",
    "MetricDF = MetricDF.sort_values(by='Overall_Similarity',ascending=False)\n",
    "MetricDF"
   ]
  },
  {
   "cell_type": "code",
   "execution_count": 142,
   "metadata": {},
   "outputs": [
    {
     "data": {
      "text/plain": [
       "<matplotlib.axes._subplots.AxesSubplot at 0x7f3add9e7f98>"
      ]
     },
     "execution_count": 142,
     "metadata": {},
     "output_type": "execute_result"
    },
    {
     "data": {
      "image/png": "[encoded data removed]",
      "text/plain": [
       "<Figure size 640x480 with 1 Axes>"
      ]
     },
     "metadata": {},
     "output_type": "display_data"
    }
   ],
   "source": [
    "MetricDF['Overall_Similarity'].plot.hist()"
   ]
  },
  {
   "cell_type": "markdown",
   "metadata": {},
   "source": [
    "WOW! Great variation!  Let's normalize it just to pump it a bit."
   ]
  },
  {
   "cell_type": "code",
   "execution_count": 143,
   "metadata": {},
   "outputs": [],
   "source": [
    "PercentGroup = MetricDF.Overall_Similarity.apply (lambda \n",
    "                                              x : 90 if (x>=90) \n",
    "                                              else (80 if (x>=80 and x<90)\n",
    "                                                    else (70 if (x>=70 and x<80) \n",
    "                                                          else (60 if (x>=60 and x<70) \n",
    "                                                                else (50 if (x>=50 and x<60) \n",
    "                                                                      else (40 if (x>=40 and x<50) \n",
    "                                                                            else (30 if (x>=30 and x<40) \n",
    "                                                                                  else (20 if (x>=20 and x<30) \n",
    "                                                                                        else (10 if (x>=10 and x<20) \n",
    "                                                                                              else 0)  ) )  ) )) )))\n",
    "                                              \n",
    "                                               "
   ]
  },
  {
   "cell_type": "code",
   "execution_count": 144,
   "metadata": {},
   "outputs": [],
   "source": [
    "MetricDF['PercentRangeGroup'] = PercentGroup"
   ]
  },
  {
   "cell_type": "code",
   "execution_count": 145,
   "metadata": {},
   "outputs": [],
   "source": [
    "MetricDF = MetricDF.drop(columns='pair')"
   ]
  },
  {
   "cell_type": "code",
   "execution_count": 146,
   "metadata": {},
   "outputs": [],
   "source": [
    "# def countryCodeConversion()\n",
    "\n",
    "iCA = MetricDF['country_code_alpha2_A']\n",
    "iCB = MetricDF['country_code_alpha2_B']\n",
    "\n",
    "countries = {}\n",
    "for country in pycountry.countries:\n",
    "    countries[country.alpha_2] = country.alpha_3\n",
    "\n",
    "\n",
    "a3A = [countries.get(country, 'Unknown code') for country in iCA]\n",
    "a3B = [countries.get(country, 'Unknown code') for country in iCB]"
   ]
  },
  {
   "cell_type": "code",
   "execution_count": 147,
   "metadata": {},
   "outputs": [],
   "source": [
    "MetricDF['country_code_alpha3_A'] = a3A\n",
    "MetricDF['country_code_alpha3_B'] = a3B"
   ]
  },
  {
   "cell_type": "code",
   "execution_count": 148,
   "metadata": {},
   "outputs": [],
   "source": [
    "MetricDF.drop(columns=['country_code_alpha2_A','country_code_alpha2_B'],inplace=True)"
   ]
  },
  {
   "cell_type": "code",
   "execution_count": 150,
   "metadata": {},
   "outputs": [
    {
     "data": {
      "text/html": [
       "<div>\n",
       "<style scoped>\n",
       "    .dataframe tbody tr th:only-of-type {\n",
       "        vertical-align: middle;\n",
       "    }\n",
       "\n",
       "    .dataframe tbody tr th {\n",
       "        vertical-align: top;\n",
       "    }\n",
       "\n",
       "    .dataframe thead th {\n",
       "        text-align: right;\n",
       "    }\n",
       "</style>\n",
       "<table border=\"1\" class=\"dataframe\">\n",
       "  <thead>\n",
       "    <tr style=\"text-align: right;\">\n",
       "      <th></th>\n",
       "      <th>Censored_Category_Similarity</th>\n",
       "      <th>proportion-similarity</th>\n",
       "      <th>Blocking_Proportion_Similarity</th>\n",
       "      <th>Overall_Similarity</th>\n",
       "      <th>PercentRangeGroup</th>\n",
       "      <th>country_code_alpha3_A</th>\n",
       "      <th>country_code_alpha3_B</th>\n",
       "    </tr>\n",
       "  </thead>\n",
       "  <tbody>\n",
       "    <tr>\n",
       "      <th>80</th>\n",
       "      <td>1.0</td>\n",
       "      <td>1.000000</td>\n",
       "      <td>1.0</td>\n",
       "      <td>1.0</td>\n",
       "      <td>0</td>\n",
       "      <td>BEL</td>\n",
       "      <td>ISL</td>\n",
       "    </tr>\n",
       "    <tr>\n",
       "      <th>1405</th>\n",
       "      <td>1.0</td>\n",
       "      <td>1.000000</td>\n",
       "      <td>1.0</td>\n",
       "      <td>1.0</td>\n",
       "      <td>0</td>\n",
       "      <td>VEN</td>\n",
       "      <td>ISR</td>\n",
       "    </tr>\n",
       "    <tr>\n",
       "      <th>87</th>\n",
       "      <td>1.0</td>\n",
       "      <td>1.000000</td>\n",
       "      <td>1.0</td>\n",
       "      <td>1.0</td>\n",
       "      <td>0</td>\n",
       "      <td>BEL</td>\n",
       "      <td>VEN</td>\n",
       "    </tr>\n",
       "    <tr>\n",
       "      <th>1357</th>\n",
       "      <td>1.0</td>\n",
       "      <td>1.000000</td>\n",
       "      <td>1.0</td>\n",
       "      <td>1.0</td>\n",
       "      <td>0</td>\n",
       "      <td>USA</td>\n",
       "      <td>CRI</td>\n",
       "    </tr>\n",
       "    <tr>\n",
       "      <th>1</th>\n",
       "      <td>1.0</td>\n",
       "      <td>1.000000</td>\n",
       "      <td>1.0</td>\n",
       "      <td>1.0</td>\n",
       "      <td>0</td>\n",
       "      <td>AND</td>\n",
       "      <td>BEL</td>\n",
       "    </tr>\n",
       "    <tr>\n",
       "      <th>...</th>\n",
       "      <td>...</td>\n",
       "      <td>...</td>\n",
       "      <td>...</td>\n",
       "      <td>...</td>\n",
       "      <td>...</td>\n",
       "      <td>...</td>\n",
       "      <td>...</td>\n",
       "    </tr>\n",
       "    <tr>\n",
       "      <th>570</th>\n",
       "      <td>0.0</td>\n",
       "      <td>0.888421</td>\n",
       "      <td>0.0</td>\n",
       "      <td>0.0</td>\n",
       "      <td>0</td>\n",
       "      <td>ISR</td>\n",
       "      <td>SAU</td>\n",
       "    </tr>\n",
       "    <tr>\n",
       "      <th>555</th>\n",
       "      <td>0.0</td>\n",
       "      <td>0.888421</td>\n",
       "      <td>0.0</td>\n",
       "      <td>0.0</td>\n",
       "      <td>0</td>\n",
       "      <td>IDN</td>\n",
       "      <td>SAU</td>\n",
       "    </tr>\n",
       "    <tr>\n",
       "      <th>209</th>\n",
       "      <td>0.0</td>\n",
       "      <td>0.888421</td>\n",
       "      <td>0.0</td>\n",
       "      <td>0.0</td>\n",
       "      <td>0</td>\n",
       "      <td>CAN</td>\n",
       "      <td>SAU</td>\n",
       "    </tr>\n",
       "    <tr>\n",
       "      <th>1388</th>\n",
       "      <td>0.0</td>\n",
       "      <td>0.888421</td>\n",
       "      <td>0.0</td>\n",
       "      <td>0.0</td>\n",
       "      <td>0</td>\n",
       "      <td>USA</td>\n",
       "      <td>SAU</td>\n",
       "    </tr>\n",
       "    <tr>\n",
       "      <th>1159</th>\n",
       "      <td>0.0</td>\n",
       "      <td>0.888421</td>\n",
       "      <td>0.0</td>\n",
       "      <td>0.0</td>\n",
       "      <td>0</td>\n",
       "      <td>SAU</td>\n",
       "      <td>LIE</td>\n",
       "    </tr>\n",
       "  </tbody>\n",
       "</table>\n",
       "<p>1485 rows × 7 columns</p>\n",
       "</div>"
      ],
      "text/plain": [
       "      Censored_Category_Similarity  proportion-similarity  \\\n",
       "80                             1.0               1.000000   \n",
       "1405                           1.0               1.000000   \n",
       "87                             1.0               1.000000   \n",
       "1357                           1.0               1.000000   \n",
       "1                              1.0               1.000000   \n",
       "...                            ...                    ...   \n",
       "570                            0.0               0.888421   \n",
       "555                            0.0               0.888421   \n",
       "209                            0.0               0.888421   \n",
       "1388                           0.0               0.888421   \n",
       "1159                           0.0               0.888421   \n",
       "\n",
       "      Blocking_Proportion_Similarity  Overall_Similarity  PercentRangeGroup  \\\n",
       "80                               1.0                 1.0                  0   \n",
       "1405                             1.0                 1.0                  0   \n",
       "87                               1.0                 1.0                  0   \n",
       "1357                             1.0                 1.0                  0   \n",
       "1                                1.0                 1.0                  0   \n",
       "...                              ...                 ...                ...   \n",
       "570                              0.0                 0.0                  0   \n",
       "555                              0.0                 0.0                  0   \n",
       "209                              0.0                 0.0                  0   \n",
       "1388                             0.0                 0.0                  0   \n",
       "1159                             0.0                 0.0                  0   \n",
       "\n",
       "     country_code_alpha3_A country_code_alpha3_B  \n",
       "80                     BEL                   ISL  \n",
       "1405                   VEN                   ISR  \n",
       "87                     BEL                   VEN  \n",
       "1357                   USA                   CRI  \n",
       "1                      AND                   BEL  \n",
       "...                    ...                   ...  \n",
       "570                    ISR                   SAU  \n",
       "555                    IDN                   SAU  \n",
       "209                    CAN                   SAU  \n",
       "1388                   USA                   SAU  \n",
       "1159                   SAU                   LIE  \n",
       "\n",
       "[1485 rows x 7 columns]"
      ]
     },
     "execution_count": 150,
     "metadata": {},
     "output_type": "execute_result"
    }
   ],
   "source": [
    "MetricDF"
   ]
  },
  {
   "cell_type": "markdown",
   "metadata": {},
   "source": [
    "# Outputting the JSON\n",
    "\n",
    "Dropping other columns for JSON conversion format compliance"
   ]
  },
  {
   "cell_type": "code",
   "execution_count": 153,
   "metadata": {},
   "outputs": [],
   "source": [
    "MetricDFJSON = MetricDF[['country_code_alpha3_A','country_code_alpha3_B','Overall_Similarity']]"
   ]
  },
  {
   "cell_type": "code",
   "execution_count": 154,
   "metadata": {},
   "outputs": [
    {
     "data": {
      "text/html": [
       "<div>\n",
       "<style scoped>\n",
       "    .dataframe tbody tr th:only-of-type {\n",
       "        vertical-align: middle;\n",
       "    }\n",
       "\n",
       "    .dataframe tbody tr th {\n",
       "        vertical-align: top;\n",
       "    }\n",
       "\n",
       "    .dataframe thead th {\n",
       "        text-align: right;\n",
       "    }\n",
       "</style>\n",
       "<table border=\"1\" class=\"dataframe\">\n",
       "  <thead>\n",
       "    <tr style=\"text-align: right;\">\n",
       "      <th></th>\n",
       "      <th>country_code_alpha3_A</th>\n",
       "      <th>country_code_alpha3_B</th>\n",
       "      <th>Overall_Similarity</th>\n",
       "    </tr>\n",
       "  </thead>\n",
       "  <tbody>\n",
       "    <tr>\n",
       "      <th>80</th>\n",
       "      <td>BEL</td>\n",
       "      <td>ISL</td>\n",
       "      <td>1.0</td>\n",
       "    </tr>\n",
       "    <tr>\n",
       "      <th>1405</th>\n",
       "      <td>VEN</td>\n",
       "      <td>ISR</td>\n",
       "      <td>1.0</td>\n",
       "    </tr>\n",
       "    <tr>\n",
       "      <th>87</th>\n",
       "      <td>BEL</td>\n",
       "      <td>VEN</td>\n",
       "      <td>1.0</td>\n",
       "    </tr>\n",
       "    <tr>\n",
       "      <th>1357</th>\n",
       "      <td>USA</td>\n",
       "      <td>CRI</td>\n",
       "      <td>1.0</td>\n",
       "    </tr>\n",
       "    <tr>\n",
       "      <th>1</th>\n",
       "      <td>AND</td>\n",
       "      <td>BEL</td>\n",
       "      <td>1.0</td>\n",
       "    </tr>\n",
       "  </tbody>\n",
       "</table>\n",
       "</div>"
      ],
      "text/plain": [
       "     country_code_alpha3_A country_code_alpha3_B  Overall_Similarity\n",
       "80                     BEL                   ISL                 1.0\n",
       "1405                   VEN                   ISR                 1.0\n",
       "87                     BEL                   VEN                 1.0\n",
       "1357                   USA                   CRI                 1.0\n",
       "1                      AND                   BEL                 1.0"
      ]
     },
     "execution_count": 154,
     "metadata": {},
     "output_type": "execute_result"
    }
   ],
   "source": [
    "MetricDFJSON.head()"
   ]
  },
  {
   "cell_type": "code",
   "execution_count": 157,
   "metadata": {},
   "outputs": [],
   "source": [
    "pairs_of_similarities = {}\n",
    "for _, row in MetricDFJSON.iterrows():\n",
    "    country_pair = row.values[0] +'->'+ row.values[1]\n",
    "    pairs_of_similarities[country_pair] = row.values[2]*100"
   ]
  },
  {
   "cell_type": "code",
   "execution_count": 158,
   "metadata": {},
   "outputs": [
    {
     "data": {
      "text/plain": [
       "'{\"BEL->ISL\": 100.0, \"VEN->ISR\": 100.0, \"BEL->VEN\": 100.0, \"USA->CRI\": 100.0, \"AND->BEL\": 100.0, \"FIN->LIE\": 100.0, \"FIN->ISL\": 100.0, \"FIN->VEN\": 100.0, \"FIN->ISR\": 100.0, \"FIN->GRC\": 100.0, \"FIN->DZA\": 100.0, \"USA->BEL\": 100.0, \"FIN->CZE\": 100.0, \"VEN->CRI\": 100.0, \"GRC->CRI\": 100.0, \"VEN->CZE\": 100.0, \"FIN->CRI\": 100.0, \"VEN->DZA\": 100.0, \"USA->AND\": 100.0, \"ISL->VEN\": 100.0, \"ISL->LIE\": 100.0, \"ISL->ISR\": 100.0, \"USA->ISR\": 100.0, \"USA->GRC\": 100.0, \"USA->IDN\": 100.0, \"BEL->LIE\": 100.0, \"USA->CZE\": 100.0, \"BEL->ISR\": 100.0, \"BEL->GRC\": 100.0, \"BEL->DZA\": 100.0, \"BEL->CZE\": 100.0, \"ISL->GRC\": 100.0, \"BEL->CRI\": 100.0, \"USA->ISL\": 100.0, \"USA->LIE\": 100.0, \"ISL->CRI\": 100.0, \"ISL->CZE\": 100.0, \"USA->VEN\": 100.0, \"ISL->DZA\": 100.0, \"USA->DZA\": 100.0, \"VEN->GRC\": 100.0, \"CRI->LIE\": 100.0, \"IDN->CRI\": 100.0, \"AND->VEN\": 100.0, \"DZA->GRC\": 100.0, \"DZA->CRI\": 100.0, \"IDN->BEL\": 100.0, \"IDN->AND\": 100.0, \"CZE->DZA\": 100.0, \"CZE->GRC\": 100.0, \"CZE->ISR\": 100.0, \"AND->LIE\": 100.0, \"AND->ISL\": 100.0, \"AND->ISR\": 100.0, \"AND->GRC\": 100.0, \"AND->FIN\": 100.0, \"AND->DZA\": 100.0, \"CZE->LIE\": 100.0, \"AND->CZE\": 100.0, \"AND->CRI\": 100.0, \"FIN->BEL\": 100.0, \"DZA->LIE\": 100.0, \"IDN->VEN\": 100.0, \"IDN->LIE\": 100.0, \"VEN->LIE\": 100.0, \"GRC->LIE\": 100.0, \"ISR->LIE\": 100.0, \"ISR->GRC\": 100.0, \"ISR->DZA\": 100.0, \"ISR->CRI\": 100.0, \"CZE->CRI\": 100.0, \"USA->FIN\": 100.0, \"IDN->ISL\": 100.0, \"IDN->ISR\": 100.0, \"IDN->GRC\": 100.0, \"IDN->FIN\": 100.0, \"IDN->DZA\": 100.0, \"IDN->CZE\": 100.0, \"NOR->DNK\": 99.99780848231097, \"SGP->SRB\": 99.98759473600613, \"LUX->CAN\": 99.98057370810862, \"NOR->MYS\": 99.92661822001678, \"MYS->DNK\": 99.92442670232775, \"MYS->POL\": 99.78140156949542, \"NOR->POL\": 99.7080197895122, \"DNK->POL\": 99.70582827182317, \"BGR->NOR\": 98.50685822594512, \"BGR->DNK\": 98.5046667082561, \"BGR->MYS\": 98.43401000860486, \"BGR->POL\": 98.21541157810027, \"HKG->NOR\": 96.98568539099195, \"HKG->DNK\": 96.98349387330292, \"HKG->MYS\": 96.93218682757974, \"HKG->POL\": 96.71358839707516, \"ROU->NOR\": 96.41496695774332, \"ROU->DNK\": 96.41277544005429, \"ROU->MYS\": 96.3593203507994, \"ROU->POL\": 96.14072192029481, \"BLZ->NZL\": 96.0354416121761, \"ROU->CHL\": 95.66184716137472, \"BGR->HKG\": 95.58278024601246, \"BGR->ROU\": 95.02913410590632, \"JPN->HKG\": 94.81664840464116, \"CHL->DNK\": 94.71925189602214, \"CHL->NOR\": 94.71706037833312, \"CHL->MYS\": 94.64367859834991, \"CHL->POL\": 94.42508016784532, \"HKG->ROU\": 94.36050929130731, \"BGR->TWN\": 94.2967425567039, \"NZL->CHL\": 94.15939202706521, \"LTU->ESP\": 94.08847276094916, \"RUS->POL\": 93.7840881619476, \"NLD->SRB\": 93.70948911703685, \"NLD->SGP\": 93.70610115041056, \"RUS->MYS\": 93.56548973144302, \"NOR->RUS\": 93.49210795145981, \"RUS->DNK\": 93.48991643377083, \"HKG->NZL\": 93.47273839659654, \"BGR->CHL\": 93.38152561074709, \"BLZ->HKG\": 93.11775991880775, \"PER->FRA\": 92.8491489247915, \"COL->ROU\": 92.59199482381848, \"LTU->TWN\": 92.51929884151086, \"KEN->NZL\": 92.32747518984105, \"NZL->NOR\": 92.32229827526423, \"NZL->DNK\": 92.32010675757525, \"BLZ->JPN\": 92.31133405129724, \"NZL->MYS\": 92.26919809927632, \"BGR->JPN\": 92.24008447160696, \"BGR->NZL\": 92.19941588197929, \"LTU->ROU\": 92.1846295218246, \"BGR->RUS\": 92.12362714880562, \"NZL->POL\": 92.05059966877174, \"JPN->MYS\": 92.04420510881202, \"JPN->NOR\": 92.0382456801651, \"JPN->DNK\": 92.03605416247608, \"HKG->CHL\": 92.01992586629535, \"ROU->NZL\": 91.92372193285046, \"JPN->POL\": 91.82560667830744, \"JPN->NZL\": 91.67459274888976, \"BLZ->PER\": 91.62133182522933, \"ROU->TWN\": 91.57882820549152, \"TWN->NOR\": 91.24057018278297, \"TWN->DNK\": 91.23837866509395, \"AUS->NZL\": 91.19943457270357, \"TWN->MYS\": 91.18183917566436, \"HKG->RUS\": 90.98693175039844, \"TWN->POL\": 90.96324074515985, \"NLD->BRA\": 90.85929108741396, \"ROU->FRA\": 90.84227194545595, \"CAN->SYC\": 90.81548543544442, \"LUX->SYC\": 90.81474636543679, \"BLZ->MYS\": 90.81186881477873, \"PER->NOR\": 90.80974233944804, \"PER->DNK\": 90.807550821759, \"BLZ->KEN\": 90.76958441258746, \"PER->MYS\": 90.76653397334135, \"BLZ->NOR\": 90.76440749801064, \"BLZ->DNK\": 90.76221598032166, \"ROU->RUS\": 90.61854879232074, \"BLZ->POL\": 90.59327038427416, \"PER->POL\": 90.54793554283684, \"FRA->CHL\": 90.24675929030937, \"LTU->NOR\": 90.08015652840413, \"LTU->DNK\": 90.0779650107151, \"LTU->MYS\": 90.02483426533996, \"KEN->SWE\": 90.00865552778366, \"FRA->DNK\": 89.9996433492868, \"FRA->NOR\": 89.99816513302417, \"HKG->PER\": 89.96544736328968, \"FRA->MYS\": 89.92478335304097, \"JPN->PER\": 89.85346718520668, \"COL->LTU\": 89.84478177805062, \"LTU->POL\": 89.80623583483542, \"HKG->LTU\": 89.77276866506052, \"FRA->POL\": 89.7061849225364, \"BLZ->AUS\": 89.68962595513884, \"JPN->ROU\": 89.59568094581086, \"BGR->PER\": 89.59108179345012, \"BGR->BLZ\": 89.54574695201278, \"NZL->FRA\": 89.49830080313761, \"AUS->FRA\": 89.45796748327989, \"ROU->ESP\": 89.38438526251619, \"HKG->TWN\": 89.22833871801802, \"COL->TWN\": 89.19253044610159, \"HKG->FRA\": 89.15124602413654, \"LTU->NZL\": 88.96871423091777, \"BGR->LTU\": 88.88346043599178, \"BGR->FRA\": 88.80359835751598, \"ESP->NZL\": 88.79648475894552, \"AUS->JPN\": 88.65472932862268, \"KOR->RUS\": 88.62997995357556, \"JPN->TWN\": 88.57646685095273, \"ESP->SYC\": 88.47687023197722, \"PER->NZL\": 88.39982272718775, \"CHL->RUS\": 88.28926646462737, \"LTU->SYC\": 88.18236550076153, \"BLZ->LTU\": 88.13673900138257, \"ROU->PER\": 87.89868305852649, \"BLZ->ROU\": 87.85334821708915, \"COL->ESP\": 87.84977206549979, \"JPN->FRA\": 87.82861918474127, \"NZL->TWN\": 87.69129054790659, \"JPN->CHL\": 87.59166268947949, \"PER->RUS\": 87.55891380523077, \"AUS->PER\": 87.5274068681344, \"ESP->TWN\": 87.4909132045121, \"BGR->AUS\": 87.36344006957842, \"PER->TWN\": 87.27944356465736, \"AUS->HKG\": 87.26727432174202, \"JPN->RUS\": 86.9458093210812, \"CHL->TWN\": 86.8816148105361, \"ESP->CHL\": 86.87252801504823, \"NZL->RUS\": 86.69279807508639, \"COL->BRA\": 86.68823281090266, \"BLZ->FRA\": 86.68008972639625, \"AUS->ROU\": 86.64536747695712, \"AUS->TWN\": 86.63603942141724, \"HKG->KEN\": 86.54738963906263, \"PER->CHL\": 86.49545128841012, \"BLZ->NLD\": 86.47019658450532, \"BLZ->CHL\": 86.4501164469728, \"KOR->HUN\": 86.4477270618862, \"AUS->CHL\": 86.2554365422748, \"TWN->RUS\": 86.0938626284191, \"VNM->PER\": 86.07420003789403, \"BLZ->TWN\": 86.0312956624083, \"BLZ->RUS\": 85.9618731260331, \"COL->CHL\": 85.88663810438607, \"FRA->RUS\": 85.85626245723586, \"LTU->CHL\": 85.84352934990962, \"JPN->LTU\": 85.71492553027554, \"LTU->KEN\": 85.63097941110719, \"AUS->NLD\": 85.39591997089416, \"VNM->NOR\": 85.35044413884667, \"VNM->FRA\": 85.34860927187087, \"VNM->DNK\": 85.34825262115764, \"HUN->CHL\": 85.34771653919499, \"FRA->TWN\": 85.34617880591924, \"ESP->NOR\": 85.33892687740716, \"ESP->DNK\": 85.33673535971813, \"ESP->MYS\": 85.29836946126437, \"VNM->MYS\": 85.28685219982486, \"NLD->PER\": 85.2704501568359, \"ROU->HUN\": 85.22766893283229, \"AUS->BRA\": 85.13391822531318, \"AUS->NOR\": 85.13389778676871, \"AUS->DNK\": 85.13170626907973, \"AUS->MYS\": 85.08866958991183, \"ESP->POL\": 85.07977103075979, \"HKG->ESP\": 85.07061854907367, \"VNM->POL\": 85.06825376932028, \"KOR->TUR\": 84.93515713697747, \"AUS->POL\": 84.87007115940726, \"FRA->HUN\": 84.7798960464066, \"COL->AUS\": 84.73084169765488, \"LTU->RUS\": 84.61806349311443, \"JPN->KEN\": 84.52950897251334, \"COL->NZL\": 84.522422697078, \"COL->NOR\": 84.3940550336526, \"COL->FRA\": 84.39222016667678, \"COL->DNK\": 84.39186351596358, \"COL->MYS\": 84.35728334753271, \"BGR->VNM\": 84.29508888934254, \"BGR->ESP\": 84.28357162790304, \"COL->POL\": 84.13868491702814, \"COL->HKG\": 84.13316804105082, \"LTU->HUN\": 83.80046377915087, \"BLZ->ESP\": 83.63475633627276, \"ESP->HUN\": 83.52793082904637, \"COL->JPN\": 83.42054859555817, \"COL->BGR\": 83.36685477886925, \"VNM->TWN\": 83.33090286738172, \"KEN->NOR\": 83.3281564187565, \"KEN->DNK\": 83.32596490106752, \"KEN->MYS\": 83.26512846792696, \"HKG->VNM\": 83.22587984949787, \"KEN->POL\": 83.04653003742237, \"ROU->VNM\": 82.82263554889168, \"COL->PER\": 82.7772850653659, \"COL->SYC\": 82.76546282634999, \"COL->BLZ\": 82.73838690391536, \"LTU->PER\": 82.72662658692009, \"COL->HUN\": 82.63144955648858, \"BLZ->BRA\": 82.59946212727786, \"BGR->KEN\": 82.33317320492237, \"PER->HUN\": 82.26309785992659, \"LTU->FRA\": 82.06048440405559, \"HUN->TWN\": 81.67362764328443, \"HUN->NOR\": 81.61945325321408, \"HUN->DNK\": 81.61726173552503, \"VNM->CHL\": 81.61358250954042, \"HUN->MYS\": 81.55271817017031, \"JPN->ESP\": 81.50136794573687, \"KEN->ESP\": 81.41573278539202, \"HUN->POL\": 81.33411973966572, \"AUS->RUS\": 81.32639096429, \"TWN->SYC\": 81.26907866259478, \"NZL->HUN\": 81.22879870518037, \"ROU->KEN\": 80.94553235756582, \"ESP->RUS\": 80.79288410979213, \"JPN->VNM\": 80.78143211422699, \"KOR->ROU\": 80.70278642510208, \"BGR->HUN\": 80.67554298674658, \"TWN->BRA\": 80.63398890352919, \"AUS->KEN\": 80.63292411437992, \"ESP->FRA\": 80.62304680252103, \"PER->BRA\": 80.60355551639587, \"SWE->MDA\": 80.48111975156472, \"KOR->POL\": 80.42863543308778, \"AUS->LTU\": 80.34380190024059, \"BLZ->SWE\": 80.27647618133959, \"KOR->PER\": 80.22943382755241, \"KOR->MYS\": 80.21003700258325, \"KOR->NOR\": 80.13665522259998, \"KOR->DNK\": 80.134463704911, \"COL->RUS\": 80.12330651769174, \"NZL->BRA\": 80.09294742482194, \"SGP->BRA\": 79.99968281477123, \"KEN->FRA\": 79.9929882184474, \"SRB->BRA\": 79.98727755077736, \"VNM->NZL\": 79.92830885418132, \"JPN->NLD\": 79.88163117195396, \"KEN->CHL\": 79.80476361375774, \"HKG->HUN\": 79.71602601726842, \"KOR->FRA\": 79.68782475153323, \"JPN->MEX\": 79.45847991386785, \"LTU->BRA\": 79.38972729045159, \"AUS->ESP\": 79.31189727088136, \"KOR->BGR\": 79.30699267532562, \"SWE->NZL\": 79.29605589987455, \"KOR->HKG\": 79.28067640690803, \"KOR->LTU\": 79.13979564731353, \"VNM->RUS\": 79.09731756301899, \"AUS->HUN\": 79.05863319931925, \"ESP->SVK\": 79.0355108764838, \"MEX->FRA\": 78.86701643105924, \"MEX->DNK\": 78.86665978034604, \"ESP->PER\": 78.86618798449936, \"MEX->NOR\": 78.8661756209275, \"KEN->MEX\": 78.86099870635067, \"BLZ->VNM\": 78.81198683158632, \"HUN->RUS\": 78.79632528527416, \"MEX->MYS\": 78.79279384094428, \"KOR->TWN\": 78.7882897768285, \"NLD->NZL\": 78.68832827803034, \"MEX->POL\": 78.5741954104397, \"HUN->BRA\": 78.45719603159012, \"LTU->VNM\": 78.34320063771322, \"ESP->BRA\": 78.26787950408614, \"JPN->BRA\": 78.21266505380892, \"IND->RUS\": 78.0815380510226, \"BGR->MEX\": 78.00399706068494, \"FRA->BRA\": 77.99814469447975, \"ROU->BRA\": 77.84545357858264, \"KEN->MDA\": 77.77761437941282, \"KOR->IND\": 77.63555453491793, \"KOR->JPN\": 77.56228421101336, \"JPN->HUN\": 77.52650692224438, \"KEN->TWN\": 77.496448574288, \"SVK->MYS\": 77.21932498203962, \"KEN->RUS\": 77.2122537640654, \"KEN->PER\": 77.20664290522937, \"SVK->NOR\": 77.15384388602425, \"SVK->DNK\": 77.1516523683352, \"MEX->NZL\": 77.14479368912698, \"HKG->MEX\": 77.12165845192878, \"SVK->POL\": 77.00072655153505, \"COL->NLD\": 76.81081456311611, \"ROU->MEX\": 76.79260794587144, \"BGR->SVK\": 76.7814660013983, \"LTU->LUX\": 76.72180680083007, \"LTU->CAN\": 76.71101528976342, \"NLD->FRA\": 76.62497139305442, \"KOR->CHL\": 76.60605547441577, \"ROU->SYC\": 76.52782840666434, \"AUS->MEX\": 76.5211833646977, \"COL->MEX\": 76.47100425581542, \"COL->KOR\": 76.0388484151826, \"NLD->TWN\": 75.99742736007182, \"HUN->SYC\": 75.81983009416875, \"MEX->CHL\": 75.81692764160724, \"HKG->SVK\": 75.81231355855428, \"BLZ->HUN\": 75.76279077481018, \"KOR->NZL\": 75.70791975205267, \"ROU->SVK\": 75.55262842426683, \"KOR->AUS\": 75.52763452296614, \"NLD->TUR\": 75.08453224433744, \"KOR->BLZ\": 75.08018469389602, \"KOR->ESP\": 75.06042812893685, \"PER->TUR\": 75.00643299620447, \"ESP->VNM\": 74.98848273856049, \"AUS->VNM\": 74.84418929822839, \"SVK->RUS\": 74.60465561154597, \"BRA->SYC\": 74.49165339845385, \"COL->VNM\": 74.31980304316342, \"SVK->CHL\": 74.27550706822173, \"HKG->BRA\": 74.27115277988561, \"HKG->SWE\": 73.94272481732135, \"MEX->TWN\": 73.80582038540591, \"LTU->SWE\": 73.66984399054432, \"JPN->SVK\": 73.64387896783717, \"KEN->VNM\": 73.56994404545544, \"ESP->LUX\": 73.56716100650326, \"MEX->PER\": 73.55380149405953, \"ESP->CAN\": 73.54773471461186, \"BLZ->MEX\": 73.50846665262213, \"NZL->SVK\": 73.50145231081464, \"SVK->TWN\": 73.46538155565301, \"LTU->MEX\": 73.13513489730047, \"NLD->HKG\": 73.09001172990885, \"HKG->IND\": 72.9926855608193, \"BLZ->SVK\": 72.95962504155297, \"HUN->TUR\": 72.93861752642034, \"COL->LUX\": 72.9366154889964, \"COL->KEN\": 72.9284452547013, \"COL->CAN\": 72.917189197105, \"PER->SVK\": 72.91429020011564, \"PER->IND\": 72.91348762252696, \"AUS->IND\": 72.83530483199915, \"MEX->RUS\": 72.7346921755479, \"ROU->IND\": 72.73430851291573, \"FRA->SVK\": 72.43330796288433, \"VNM->HUN\": 72.35910820298692, \"CHL->AUT\": 72.35889980364105, \"CHL->BRA\": 72.3563601647908, \"JPN->SWE\": 72.29400159311061, \"FRA->IND\": 71.97966189458398, \"BGR->BRA\": 71.82795991049292, \"LTU->SVK\": 71.76677743652738, \"TUR->BRA\": 71.57553541892285, \"JPN->IND\": 71.33781798846354, \"IND->POL\": 71.29435462396431, \"KOR->BRA\": 71.25892853088727, \"KEN->HUN\": 71.07999750168207, \"IND->MYS\": 71.07575619345972, \"UKR->BGR\": 71.0555249549853, \"IND->NOR\": 71.00237441347652, \"IND->DNK\": 71.00018289578749, \"BGR->NLD\": 70.94987325224753, \"BGR->IND\": 70.93256580478612, \"ESP->SWE\": 70.86609588309463, \"AUS->SVK\": 70.74984675601246, \"UKR->POL\": 70.62822448592682, \"AUS->TUR\": 70.56597644770076, \"IND->TUR\": 70.53513045709342, \"FRA->TUR\": 70.53090698197673, \"PER->SRB\": 70.41007070402195, \"UKR->MYS\": 70.40962605542225, \"NOR->SYC\": 70.40915005527079, \"DNK->SYC\": 70.40695853758176, \"VNM->MEX\": 70.40618176415867, \"PER->SGP\": 70.39766544002806, \"ESP->MEX\": 70.39466450271917, \"BLZ->SRB\": 70.36473586258455, \"BLZ->SGP\": 70.3523305985907, \"MYS->SYC\": 70.3422972111323, \"UKR->NOR\": 70.33624427543904, \"UKR->DNK\": 70.33405275775007, \"POL->SYC\": 70.12369878062772, \"NOR->BRA\": 69.99997956145558, \"DNK->BRA\": 69.99778804376653, \"KEN->BRA\": 69.99484352396766, \"CAN->BRA\": 69.99390041843606, \"LUX->BRA\": 69.98667328967257, \"MYS->BRA\": 69.92663865856122, \"BLZ->IND\": 69.8378462946672, \"BGR->SYC\": 69.79995317293259, \"POL->BRA\": 69.70804022805663, \"RUS->TUR\": 69.62210480273264, \"NLD->LTU\": 69.56153303623512, \"COL->SVK\": 69.51794302763884, \"NLD->ROU\": 69.44357634121876, \"NLD->NOR\": 69.30725314577005, \"NLD->DNK\": 69.305061628081, \"NLD->MYS\": 69.25033984395337, \"MEX->MDA\": 69.23865761822185, \"UKR->JPN\": 69.21428819020025, \"VNM->SVK\": 69.18522607020684, \"HKG->SYC\": 69.17920724136924, \"NZL->IND\": 69.17680792599631, \"UKR->HKG\": 69.15928034903483, \"NLD->POL\": 69.03174141344884, \"AUS->SRB\": 68.92449856145953, \"AUS->SGP\": 68.91209329746565, \"UKR->ROU\": 68.86813821549802, \"UKR->TWN\": 68.70287225749117, \"KOR->VNM\": 68.505326336333, \"UKR->BRA\": 68.27124050755141, \"SRB->TUR\": 68.25480277588257, \"MEX->HUN\": 68.25275739648202, \"CHL->SYC\": 68.24985494392051, \"SGP->TUR\": 68.2423975118887, \"UKR->CHL\": 68.15184104251435, \"KEN->SVK\": 68.08459569259317, \"RUS->BRA\": 68.00895126245324, \"NLD->ESP\": 67.96302220420648, \"NLD->KEN\": 67.95695726140974, \"UKR->NZL\": 67.82718241705659, \"NLD->CHL\": 67.71840311169399, \"LUX->TWN\": 67.67164776722412, \"TWN->PRT\": 67.66796308074801, \"TWN->CAN\": 67.66426500021187, \"CHL->IND\": 67.63826302436016, \"AUS->SWE\": 67.44866408988861, \"COL->IND\": 67.40068270548723, \"IND->TWN\": 67.36027054359693, \"NZL->SYC\": 67.27526955038255, \"KOR->KEN\": 67.16119820380644, \"HUN->SVK\": 67.15140298922498, \"JPN->SYC\": 67.14183125302789, \"NLD->RUS\": 67.08526106740648, \"KOR->SYC\": 66.90586071944212, \"UKR->BLZ\": 66.79461860079556, \"UKR->PER\": 66.65561235913128, \"PER->SYC\": 66.65484442765074, \"BLZ->SYC\": 66.60950958621342, \"BLZ->TUR\": 66.57245516355684, \"NLD->HUN\": 66.39049777713211, \"FRA->SYC\": 66.32483228365633, \"UKR->LTU\": 66.31338231528436, \"UKR->FRA\": 66.25025042240867, \"UKR->AUS\": 65.82928307186239, \"HUN->CAN\": 65.8019858093527, \"HUN->AUT\": 65.8019858093527, \"HUN->LUX\": 65.80136450043969, \"MEX->SVK\": 65.64659605999519, \"RUS->SYC\": 65.61809361469595, \"JPN->TUR\": 65.02689457064076, \"UKR->RUS\": 65.02221621383934, \"SWE->BRA\": 64.8606861829147, \"VNM->SYC\": 64.4321262771823, \"UKR->ESP\": 64.35842179799974, \"AUS->SYC\": 64.33828821123055, \"LTU->IND\": 64.33582630769097, \"UKR->VNM\": 64.2928233284238, \"SWE->DNK\": 64.29123618867314, \"SWE->NOR\": 64.28904467098411, \"SWE->MYS\": 64.21566289100089, \"VNM->BRA\": 64.13726114179468, \"NZL->MDA\": 64.1056857399682, \"NZL->AUT\": 64.09459308073684, \"SWE->POL\": 63.99706446049631, \"UKR->COL\": 63.969417354064696, \"BGR->SWE\": 63.86206797458194, \"KOR->NLD\": 63.738288022167076, \"NLD->VNM\": 63.654772793150414, \"UKR->KEN\": 63.610971924607526, \"KEN->SYC\": 63.60636390214102, \"BLZ->MDA\": 63.552868316631674, \"AUS->PRT\": 63.50199390685039, \"NLD->MEX\": 63.489977519573415, \"KOR->MEX\": 63.40831528968876, \"ROU->SWE\": 63.257998224640446, \"SVK->BRA\": 62.99776115607643, \"KOR->SVK\": 62.89323044874766, \"SWE->CHL\": 62.7809547333518, \"UKR->HUN\": 62.74968539100212, \"AUS->MDA\": 62.60815836815248, \"NLD->SVK\": 62.448041519778464, \"NLD->SWE\": 62.309730032518914, \"BGR->PRT\": 62.12413340801185, \"JPN->SRB\": 61.99533407901777, \"JPN->SGP\": 61.9829288150239, \"IND->BRA\": 61.81981499296941, \"MEX->SYC\": 61.78051071329964, \"SWE->TWN\": 61.78009673972002, \"ZAF->MDA\": 61.777164497033475, \"ESP->AUT\": 61.762621694836085, \"PER->SWE\": 61.65140990240351, \"NZL->TUR\": 61.62591606441284, \"UKR->MEX\": 61.60708718723089, \"MEX->BRA\": 61.545647106694304, \"COL->SRB\": 61.46522453436349, \"COL->SGP\": 61.45281927036961, \"COL->AUT\": 61.44640250357691, \"SWE->FRA\": 61.432569785584775, \"UKR->SVK\": 61.206988237028796, \"NLD->SYC\": 61.20076165079974, \"HKG->TUR\": 61.18235787851402, \"ESP->IND\": 61.07196032343195, \"SVK->SYC\": 61.04768864178274, \"AUS->AUT\": 60.79460547413487, \"UKR->NLD\": 60.75061880701439, \"PER->CHN\": 60.4121256390608, \"KEN->IND\": 60.232958388517964, \"NLD->IND\": 60.16073989049984, \"VNM->SWE\": 60.09825203180822, \"FRA->SGP\": 59.99782750925098, \"PRT->BRA\": 59.997598498972195, \"FRA->AUT\": 59.995755723956314, \"BRA->AUT\": 59.99390041843606, \"VNM->IND\": 59.993165944886194, \"FRA->SRB\": 59.98542224525711, \"FRA->CHN\": 59.92569219713306, \"COL->SWE\": 59.81530930423462, \"COL->TUR\": 59.78478820953013, \"NZL->SRB\": 59.404606598066565, \"NZL->SGP\": 59.39740550561152, \"ROU->LUX\": 59.2802873465003, \"ROU->CAN\": 59.269820179313506, \"ROU->AUT\": 59.269820179313506, \"NLD->PRT\": 59.1388260912586, \"SWE->HUN\": 59.03294163641599, \"LTU->MDA\": 58.904691821499796, \"HUN->IND\": 58.80718495533694, \"TUR->POL\": 58.533674821814685, \"SWE->RUS\": 58.499616507769225, \"JPN->MDA\": 58.48111168375591, \"TWN->TUR\": 58.422364797720036, \"MYS->TUR\": 58.31507639131011, \"MEX->SWE\": 58.25006327246778, \"NOR->TUR\": 58.24169461132689, \"DNK->TUR\": 58.2395030936379, \"UKR->SYC\": 58.11969269946442, \"COL->ZAF\": 58.08983100307603, \"ESP->MDA\": 57.845343347475556, \"SWE->SVK\": 57.70931980613408, \"BGR->TUR\": 57.685621843536914, \"AUS->ZAF\": 57.63017933092514, \"CHL->TUR\": 57.60810779429883, \"ROU->TUR\": 57.50512010850668, \"UKR->KOR\": 57.24153200304127, \"FRA->ZAF\": 57.069967672310874, \"ZAF->BRA\": 57.068112366790615, \"NLD->MDA\": 56.77414327181394, \"MDA->BRA\": 56.66167358899925, \"FRA->MDA\": 56.65981828347895, \"ROU->ZAF\": 56.553519049936064, \"KOR->SAU\": 55.98047593546207, \"JPN->PRT\": 55.9690792309845, \"TWN->SRB\": 55.887139008553135, \"SGP->TWN\": 55.88556874722879, \"SWE->SYC\": 55.82873179130271, \"UKR->SWE\": 55.7958428622513, \"SVK->IND\": 55.297742133329585, \"HKG->MDA\": 55.216808241179436, \"MEX->IND\": 55.207188505812454, \"UKR->PRT\": 55.19035236578694, \"NLD->CHN\": 55.038993853283394, \"NZL->PRT\": 54.691082477437014, \"LTU->TUR\": 54.64870367108361, \"ESP->TUR\": 54.432425293607935, \"NLD->LUX\": 54.06130548702263, \"NLD->CAN\": 54.05210501470844, \"IND->SAU\": 54.03455470687645, \"RUS->SAU\": 53.987724370071774, \"HKG->SRB\": 53.913500970458216, \"HKG->SGP\": 53.90669826542749, \"SVK->TUR\": 53.890431729584854, \"COL->MDA\": 53.81030403378959, \"JPN->ZAF\": 53.145277954471204, \"KOR->LUX\": 52.97010410505708, \"KOR->CAN\": 52.95067781316569, \"KOR->SWE\": 52.79415459083398, \"VNM->TUR\": 52.78906354719306, \"HKG->ZAF\": 52.756367263292624, \"NLD->ZAF\": 52.1453747720315, \"KEN->TUR\": 52.035818448012215, \"SVK->SRB\": 51.75819647136933, \"SVK->SGP\": 51.74579120737546, \"SVK->PRT\": 51.74307252111889, \"NLD->AUT\": 51.00229121710002, \"CHN->SRB\": 50.958682841285466, \"CHN->SGP\": 50.946277577291596, \"CHN->BRA\": 50.69295793824343, \"UKR->CHN\": 50.642190643789434, \"AUS->CHN\": 50.44744879880062, \"MEX->TUR\": 50.365057038513726, \"CHN->PRT\": 50.31105275648646, \"BLZ->CHN\": 50.25778832907157, \"JPN->CHN\": 50.17684754894691, \"COL->CHN\": 50.134553308458194, \"CHN->TWN\": 50.06096088492137, \"MEX->CHN\": 50.044767432913105, \"USA->CAN\": 50.0, \"VEN->AUT\": 50.0, \"USA->AUT\": 50.0, \"AND->AUT\": 50.0, \"ISR->AUT\": 50.0, \"AND->CAN\": 50.0, \"AUT->GRC\": 50.0, \"AUT->LIE\": 50.0, \"IDN->AUT\": 50.0, \"IDN->CAN\": 50.0, \"ISL->AUT\": 50.0, \"CAN->VEN\": 50.0, \"CAN->LIE\": 50.0, \"CAN->ISL\": 50.0, \"CAN->ISR\": 50.0, \"CAN->GRC\": 50.0, \"CAN->FIN\": 50.0, \"CAN->DZA\": 50.0, \"CAN->CZE\": 50.0, \"CAN->CRI\": 50.0, \"CZE->AUT\": 50.0, \"CAN->BEL\": 50.0, \"BEL->AUT\": 50.0, \"CAN->AUT\": 50.0, \"FIN->AUT\": 50.0, \"DZA->AUT\": 50.0, \"AUT->CRI\": 50.0, \"BGR->SGP\": 49.99992915754828, \"VNM->MDA\": 49.999881404268805, \"SWE->PRT\": 49.9998769715917, \"PRT->DNK\": 49.999810455205655, \"SGP->NOR\": 49.99966237622681, \"SWE->ZAF\": 49.9995690843612, \"FRA->PRT\": 49.99945380449245, \"ZAF->PRT\": 49.9994460559529, \"LUX->SRB\": 49.99939573889514, \"AUS->LUX\": 49.99927035730875, \"ZAF->DNK\": 49.999256511158606, \"MEX->PRT\": 49.99895677607046, \"ZAF->CHL\": 49.99863583486776, \"MEX->ZAF\": 49.99840283202336, \"MEX->SGP\": 49.998324537673014, \"HUN->MDA\": 49.99830983225784, \"PER->LUX\": 49.9982604419336, \"MDA->SYC\": 49.998250951710475, \"CHL->AND\": 49.99822002864316, \"CHL->BEL\": 49.99822002864316, \"IDN->CHL\": 49.99822002864316, \"CHL->CAN\": 49.99822002864316, \"CHL->CRI\": 49.99822002864316, \"CHL->VEN\": 49.99822002864316, \"CHL->CZE\": 49.99822002864316, \"CHL->LIE\": 49.99822002864316, \"CHL->DZA\": 49.99822002864316, \"CHL->ISL\": 49.99822002864316, \"USA->CHL\": 49.99822002864316, \"CHL->ISR\": 49.99822002864316, \"CHL->GRC\": 49.99822002864316, \"CHL->FIN\": 49.99822002864316, \"CHL->PRT\": 49.99808189082071, \"TWN->MDA\": 49.99768812977953, \"NOR->PRT\": 49.99761893751668, \"SGP->DNK\": 49.997470858537774, \"SGP->PRT\": 49.99728131374348, \"SWE->SGP\": 49.997158285335175, \"SGP->SYC\": 49.99707315585083, \"ZAF->NOR\": 49.99706499346958, \"HUN->SGP\": 49.99701427530347, \"ZAF->CZE\": 49.99685586351097, \"ZAF->AND\": 49.99685586351097, \"ZAF->ISL\": 49.99685586351097, \"ZAF->AUT\": 49.99685586351097, \"IDN->ZAF\": 49.99685586351097, \"ZAF->LIE\": 49.99685586351097, \"ZAF->GRC\": 49.99685586351097, \"ZAF->ISR\": 49.99685586351097, \"USA->ZAF\": 49.99685586351097, \"ZAF->FIN\": 49.99685586351097, \"ZAF->DZA\": 49.99685586351097, \"ZAF->CAN\": 49.99685586351097, \"ZAF->CRI\": 49.99685586351097, \"ZAF->BEL\": 49.99685586351097, \"ZAF->VEN\": 49.99685586351097, \"BGR->ZAF\": 49.9967982121481, \"NZL->LUX\": 49.996793653125735, \"ZAF->SGP\": 49.99672736969638, \"HKG->LUX\": 49.99659445941362, \"USA->SWE\": 49.99642494787212, \"SWE->CZE\": 49.99642494787212, \"SWE->VEN\": 49.99642494787212, \"SWE->LIE\": 49.99642494787212, \"SWE->ISL\": 49.99642494787212, \"SWE->ISR\": 49.99642494787212, \"SWE->IDN\": 49.99642494787212, \"SWE->FIN\": 49.99642494787212, \"SWE->DZA\": 49.99642494787212, \"SWE->GRC\": 49.99642494787212, \"SWE->CRI\": 49.99642494787212, \"SWE->BEL\": 49.99642494787212, \"SWE->AUT\": 49.99642494787212, \"SWE->AND\": 49.99642494787212, \"SWE->CAN\": 49.99642494787212, \"ESP->SRB\": 49.996330705846866, \"PRT->LIE\": 49.99630191946387, \"AND->PRT\": 49.99630191946387, \"PRT->CRI\": 49.99630191946387, \"USA->PRT\": 49.99630191946387, \"CAN->PRT\": 49.99630191946387, \"PRT->CZE\": 49.99630191946387, \"VEN->PRT\": 49.99630191946387, \"ISL->PRT\": 49.99630191946387, \"PRT->AUT\": 49.99630191946387, \"FIN->PRT\": 49.99630191946387, \"PRT->ISR\": 49.99630191946387, \"BEL->PRT\": 49.99630191946387, \"PRT->GRC\": 49.99630191946387, \"PRT->DZA\": 49.99630191946387, \"IDN->PRT\": 49.99630191946387, \"LTU->SRB\": 49.996286870692444, \"ROU->MDA\": 49.996145929692254, \"ROU->SRB\": 49.99612469875257, \"DNK->CRI\": 49.99611237466952, \"DNK->DZA\": 49.99611237466952, \"ISL->DNK\": 49.99611237466952, \"BEL->DNK\": 49.99611237466952, \"FIN->DNK\": 49.99611237466952, \"DNK->LIE\": 49.99611237466952, \"AND->DNK\": 49.99611237466952, \"VEN->DNK\": 49.99611237466952, \"DNK->CZE\": 49.99611237466952, \"USA->DNK\": 49.99611237466952, \"DNK->GRC\": 49.99611237466952, \"DNK->AUT\": 49.99611237466952, \"CAN->DNK\": 49.99611237466952, \"IDN->DNK\": 49.99611237466952, \"DNK->ISR\": 49.99611237466952, \"FRA->CAN\": 49.995755723956314, \"FRA->BEL\": 49.995755723956314, \"FRA->CZE\": 49.995755723956314, \"FRA->DZA\": 49.995755723956314, \"FRA->CRI\": 49.995755723956314, \"FRA->FIN\": 49.995755723956314, \"FRA->AND\": 49.995755723956314, \"FRA->LIE\": 49.995755723956314, \"FRA->GRC\": 49.995755723956314, \"FRA->VEN\": 49.995755723956314, \"FRA->IDN\": 49.995755723956314, \"FRA->ISR\": 49.995755723956314, \"FRA->ISL\": 49.995755723956314, \"USA->FRA\": 49.995755723956314, \"VNM->SGP\": 49.9954427032925, \"CHL->SGP\": 49.995363204564136, \"SGP->MDA\": 49.9953241075613, \"MEX->FIN\": 49.995258695534325, \"MEX->GRC\": 49.995258695534325, \"MEX->DZA\": 49.995258695534325, \"MEX->CZE\": 49.995258695534325, \"MEX->BEL\": 49.995258695534325, \"MEX->CAN\": 49.995258695534325, \"MEX->CRI\": 49.995258695534325, \"MEX->VEN\": 49.995258695534325, \"MEX->IDN\": 49.995258695534325, \"MEX->ISR\": 49.995258695534325, \"MEX->ISL\": 49.995258695534325, \"MEX->LIE\": 49.995258695534325, \"USA->MEX\": 49.995258695534325, \"MEX->AND\": 49.995258695534325, \"MEX->AUT\": 49.995258695534325, \"BGR->MDA\": 49.99525326510958, \"KEN->SGP\": 49.99516070919636, \"MDA->NOR\": 49.994986483788104, \"PRT->SYC\": 49.994354469594256, \"HUN->PRT\": 49.99429558904695, \"NOR->FIN\": 49.99392085698054, \"NOR->ISL\": 49.99392085698054, \"NOR->LIE\": 49.99392085698054, \"USA->NOR\": 49.99392085698054, \"NOR->GRC\": 49.99392085698054, \"NOR->DZA\": 49.99392085698054, \"IDN->NOR\": 49.99392085698054, \"NOR->CZE\": 49.99392085698054, \"NOR->AND\": 49.99392085698054, \"NOR->CRI\": 49.99392085698054, \"NOR->CAN\": 49.99392085698054, \"NOR->VEN\": 49.99392085698054, \"NOR->AUT\": 49.99392085698054, \"NOR->BEL\": 49.99392085698054, \"NOR->ISR\": 49.99392085698054, \"ISR->BRA\": 49.99390041843606, \"DZA->BRA\": 49.99390041843606, \"VEN->BRA\": 49.99390041843606, \"BRA->GRC\": 49.99390041843606, \"FIN->BRA\": 49.99390041843606, \"BRA->LIE\": 49.99390041843606, \"AND->BRA\": 49.99390041843606, \"IDN->BRA\": 49.99390041843606, \"CZE->BRA\": 49.99390041843606, \"USA->BRA\": 49.99390041843606, \"BEL->BRA\": 49.99390041843606, \"BRA->CRI\": 49.99390041843606, \"ISL->BRA\": 49.99390041843606, \"ZAF->SYC\": 49.99380052554721, \"ZAF->HUN\": 49.993741644999844, \"BGR->ISL\": 49.993654075659066, \"BGR->VEN\": 49.993654075659066, \"BGR->LIE\": 49.993654075659066, \"BGR->CRI\": 49.993654075659066, \"BGR->ISR\": 49.993654075659066, \"BGR->IDN\": 49.993654075659066, \"BGR->GRC\": 49.993654075659066, \"BGR->FIN\": 49.993654075659066, \"BGR->DZA\": 49.993654075659066, \"BGR->CZE\": 49.993654075659066, \"BGR->CAN\": 49.993654075659066, \"BGR->BEL\": 49.993654075659066, \"USA->BGR\": 49.993654075659066, \"BGR->AUT\": 49.993654075659066, \"BGR->AND\": 49.993654075659066, \"IDN->SGP\": 49.993583233207346, \"USA->SGP\": 49.993583233207346, \"SGP->AND\": 49.993583233207346, \"SGP->ISL\": 49.993583233207346, \"SGP->GRC\": 49.993583233207346, \"SGP->FIN\": 49.993583233207346, \"SGP->AUT\": 49.993583233207346, \"SGP->LIE\": 49.993583233207346, \"SGP->DZA\": 49.993583233207346, \"SGP->VEN\": 49.993583233207346, \"SGP->CRI\": 49.993583233207346, \"SGP->BEL\": 49.993583233207346, \"SGP->CZE\": 49.993583233207346, \"SGP->CAN\": 49.993583233207346, \"SGP->ISR\": 49.993583233207346, \"MDA->DNK\": 49.992794966099076, \"VNM->PRT\": 49.992724017035975, \"MDA->PRT\": 49.99260542130478, \"KEN->PRT\": 49.99244202293984, \"KEN->SRB\": 49.99243402680977, \"MDA->SRB\": 49.99227062844482, \"VNM->ZAF\": 49.99217007298888, \"VNM->SRB\": 49.992152032713626, \"KEN->ZAF\": 49.991888078892735, \"KEN->LUX\": 49.99182976570491, \"LUX->MDA\": 49.99166636733997, \"VNM->LUX\": 49.99154777160877, \"ROU->SGP\": 49.99147003725356, \"LTU->SGP\": 49.99130786531368, \"CHL->MDA\": 49.990687312125495, \"DZA->SYC\": 49.990656389058124, \"CZE->SYC\": 49.990656389058124, \"FIN->SYC\": 49.990656389058124, \"BEL->SYC\": 49.990656389058124, \"ISL->SYC\": 49.990656389058124, \"VEN->SYC\": 49.990656389058124, \"SYC->AUT\": 49.990656389058124, \"SYC->CRI\": 49.990656389058124, \"SYC->GRC\": 49.990656389058124, \"SYC->LIE\": 49.990656389058124, \"USA->SYC\": 49.990656389058124, \"IDN->SYC\": 49.990656389058124, \"AND->SYC\": 49.990656389058124, \"ISR->SYC\": 49.990656389058124, \"HUN->ISR\": 49.99059750851082, \"USA->HUN\": 49.99059750851082, \"HUN->VEN\": 49.99059750851082, \"HUN->LIE\": 49.99059750851082, \"HUN->ISL\": 49.99059750851082, \"IDN->HUN\": 49.99059750851082, \"HUN->GRC\": 49.99059750851082, \"HUN->CZE\": 49.99059750851082, \"HUN->AND\": 49.99059750851082, \"HUN->CRI\": 49.99059750851082, \"HUN->BEL\": 49.99059750851082, \"HUN->FIN\": 49.99059750851082, \"HUN->DZA\": 49.99059750851082, \"HUN->SRB\": 49.99058046070266, \"SRB->SYC\": 49.9905215801553, \"PER->MDA\": 49.98992680927357, \"ZAF->TWN\": 49.989739607037265, \"VNM->DZA\": 49.98902593649985, \"VNM->FIN\": 49.98902593649985, \"VNM->BEL\": 49.98902593649985, \"VNM->AUT\": 49.98902593649985, \"VNM->AND\": 49.98902593649985, \"VNM->IDN\": 49.98902593649985, \"USA->VNM\": 49.98902593649985, \"VNM->ISL\": 49.98902593649985, \"VNM->GRC\": 49.98902593649985, \"VNM->VEN\": 49.98902593649985, \"VNM->CAN\": 49.98902593649985, \"VNM->CRI\": 49.98902593649985, \"VNM->LIE\": 49.98902593649985, \"VNM->CZE\": 49.98902593649985, \"VNM->ISR\": 49.98902593649985, \"USA->MDA\": 49.98890734076865, \"IDN->MDA\": 49.98890734076865, \"MDA->CRI\": 49.98890734076865, \"MDA->AND\": 49.98890734076865, \"MDA->AUT\": 49.98890734076865, \"MDA->BEL\": 49.98890734076865, \"MDA->CAN\": 49.98890734076865, \"MDA->CZE\": 49.98890734076865, \"MDA->DZA\": 49.98890734076865, \"MDA->FIN\": 49.98890734076865, \"MDA->GRC\": 49.98890734076865, \"MDA->ISR\": 49.98890734076865, \"MDA->ISL\": 49.98890734076865, \"MDA->LIE\": 49.98890734076865, \"MDA->VEN\": 49.98890734076865, \"ROU->PRT\": 49.988751350997035, \"USA->KEN\": 49.98874394240371, \"KEN->IDN\": 49.98874394240371, \"KEN->ISR\": 49.98874394240371, \"KEN->VEN\": 49.98874394240371, \"KEN->AND\": 49.98874394240371, \"KEN->ISL\": 49.98874394240371, \"KEN->LIE\": 49.98874394240371, \"KEN->GRC\": 49.98874394240371, \"KEN->FIN\": 49.98874394240371, \"KEN->DZA\": 49.98874394240371, \"KEN->CZE\": 49.98874394240371, \"KEN->CRI\": 49.98874394240371, \"KEN->CAN\": 49.98874394240371, \"KEN->BEL\": 49.98874394240371, \"KEN->AUT\": 49.98874394240371, \"LTU->PRT\": 49.98858917905711, \"NZL->CHN\": 49.98857434649408, \"LTU->ZAF\": 49.98803523501006, \"HKG->PRT\": 49.987677329231126, \"BGR->SRB\": 49.98752389355441, \"NOR->SRB\": 49.98725711223294, \"LUX->SGP\": 49.98699047490127, \"NZL->ZAF\": 49.986924191471914, \"BGR->LUX\": 49.98691963244955, \"LUX->NOR\": 49.98665285112808, \"TWN->DZA\": 49.98659547054818, \"TWN->FIN\": 49.98659547054818, \"TWN->GRC\": 49.98659547054818, \"TWN->ISR\": 49.98659547054818, \"TWN->ISL\": 49.98659547054818, \"TWN->LIE\": 49.98659547054818, \"TWN->VEN\": 49.98659547054818, \"TWN->CZE\": 49.98659547054818, \"IDN->TWN\": 49.98659547054818, \"TWN->AND\": 49.98659547054818, \"TWN->CRI\": 49.98659547054818, \"USA->TWN\": 49.98659547054818, \"TWN->BEL\": 49.98659547054818, \"TWN->AUT\": 49.98659547054818, \"MEX->SRB\": 49.985919273679144, \"USA->NLD\": 49.985686617897215, \"NLD->VEN\": 49.985686617897215, \"NLD->CRI\": 49.985686617897215, \"NLD->AND\": 49.985686617897215, \"NLD->ISR\": 49.985686617897215, \"NLD->DZA\": 49.985686617897215, \"NLD->IDN\": 49.985686617897215, \"NLD->LIE\": 49.985686617897215, \"NLD->BEL\": 49.985686617897215, \"NLD->GRC\": 49.985686617897215, \"NLD->CZE\": 49.985686617897215, \"NLD->FIN\": 49.985686617897215, \"NLD->ISL\": 49.985686617897215, \"MEX->LUX\": 49.98531501257429, \"SRB->DNK\": 49.985065594543904, \"ROU->BEL\": 49.9850532704609, \"ROU->VEN\": 49.9850532704609, \"ROU->CRI\": 49.9850532704609, \"ROU->CZE\": 49.9850532704609, \"ROU->FIN\": 49.9850532704609, \"ROU->GRC\": 49.9850532704609, \"ROU->IDN\": 49.9850532704609, \"ROU->ISR\": 49.9850532704609, \"ROU->AND\": 49.9850532704609, \"ROU->DZA\": 49.9850532704609, \"ROU->LIE\": 49.9850532704609, \"USA->ROU\": 49.9850532704609, \"ROU->ISL\": 49.9850532704609, \"LTU->ISL\": 49.984891098520976, \"USA->LTU\": 49.984891098520976, \"LTU->AND\": 49.984891098520976, \"LTU->AUT\": 49.984891098520976, \"LTU->BEL\": 49.984891098520976, \"LTU->CRI\": 49.984891098520976, \"LTU->CZE\": 49.984891098520976, \"LTU->DZA\": 49.984891098520976, \"LTU->FIN\": 49.984891098520976, \"LTU->GRC\": 49.984891098520976, \"LTU->ISR\": 49.984891098520976, \"LTU->IDN\": 49.984891098520976, \"LTU->LIE\": 49.984891098520976, \"LTU->VEN\": 49.984891098520976, \"SRB->PRT\": 49.98487604974961, \"FRA->LUX\": 49.9848179841523, \"SWE->SRB\": 49.984753021341305, \"LUX->DNK\": 49.98446133343909, \"ZAF->SRB\": 49.9843221057025, \"LUX->PRT\": 49.984271788644755, \"SWE->LUX\": 49.984148760236494, \"USA->HKG\": 49.98397924869499, \"HKG->CRI\": 49.98397924869499, \"HKG->VEN\": 49.98397924869499, \"HKG->LIE\": 49.98397924869499, \"HKG->CZE\": 49.98397924869499, \"HKG->BEL\": 49.98397924869499, \"HKG->ISL\": 49.98397924869499, \"HKG->CAN\": 49.98397924869499, \"HKG->DZA\": 49.98397924869499, \"HKG->IDN\": 49.98397924869499, \"HKG->FIN\": 49.98397924869499, \"HKG->GRC\": 49.98397924869499, \"HKG->AND\": 49.98397924869499, \"HKG->AUT\": 49.98397924869499, \"HKG->ISR\": 49.98397924869499, \"ESP->SGP\": 49.98392544185299, \"USA->NZL\": 49.98378005498289, \"NZL->FIN\": 49.98378005498289, \"NZL->BEL\": 49.98378005498289, \"NZL->ISR\": 49.98378005498289, \"NZL->CAN\": 49.98378005498289, \"NZL->CRI\": 49.98378005498289, \"NZL->CZE\": 49.98378005498289, \"NZL->ISL\": 49.98378005498289, \"NZL->VEN\": 49.98378005498289, \"NZL->LIE\": 49.98378005498289, \"NZL->AND\": 49.98378005498289, \"NZL->IDN\": 49.98378005498289, \"NZL->DZA\": 49.98378005498289, \"NZL->GRC\": 49.98378005498289, \"ZAF->LUX\": 49.98371784459765, \"CHL->SRB\": 49.982957940570266, \"PER->PRT\": 49.98253223057835, \"CHL->LUX\": 49.982353679465454, \"PER->ZAF\": 49.981978286531294, \"ESP->PRT\": 49.98120675559642, \"SRB->ISR\": 49.981177969213476, \"SRB->FIN\": 49.981177969213476, \"SRB->DZA\": 49.981177969213476, \"SRB->CRI\": 49.981177969213476, \"SRB->GRC\": 49.981177969213476, \"SRB->LIE\": 49.981177969213476, \"SRB->CZE\": 49.981177969213476, \"SRB->ISL\": 49.981177969213476, \"SRB->VEN\": 49.981177969213476, \"SRB->BEL\": 49.981177969213476, \"SRB->AUT\": 49.981177969213476, \"IDN->SRB\": 49.981177969213476, \"AND->SRB\": 49.981177969213476, \"CAN->SRB\": 49.981177969213476, \"USA->SRB\": 49.981177969213476, \"ESP->ZAF\": 49.98065281154937, \"USA->LUX\": 49.980573708108615, \"LUX->LIE\": 49.980573708108615, \"LUX->ISL\": 49.980573708108615, \"LUX->FIN\": 49.980573708108615, \"LUX->AUT\": 49.980573708108615, \"LUX->BEL\": 49.980573708108615, \"IDN->LUX\": 49.980573708108615, \"LUX->CRI\": 49.980573708108615, \"LUX->CZE\": 49.980573708108615, \"LUX->DZA\": 49.980573708108615, \"LUX->AND\": 49.980573708108615, \"LUX->GRC\": 49.980573708108615, \"LUX->VEN\": 49.980573708108615, \"LUX->ISR\": 49.980573708108615, \"AUS->ISL\": 49.979844065417375, \"AUS->GRC\": 49.979844065417375, \"AUS->ISR\": 49.979844065417375, \"AUS->DZA\": 49.979844065417375, \"AUS->LIE\": 49.979844065417375, \"AUS->VEN\": 49.979844065417375, \"USA->AUS\": 49.979844065417375, \"AUS->FIN\": 49.979844065417375, \"AUS->IDN\": 49.979844065417375, \"AUS->CZE\": 49.979844065417375, \"AUS->CAN\": 49.979844065417375, \"AUS->BEL\": 49.979844065417375, \"AUS->AND\": 49.979844065417375, \"AUS->CRI\": 49.979844065417375, \"COL->PRT\": 49.979313890584955, \"PER->LIE\": 49.97883415004222, \"PER->IDN\": 49.97883415004222, \"PER->GRC\": 49.97883415004222, \"PER->FIN\": 49.97883415004222, \"PER->DZA\": 49.97883415004222, \"PER->CZE\": 49.97883415004222, \"PER->CRI\": 49.97883415004222, \"PER->VEN\": 49.97883415004222, \"PER->CAN\": 49.97883415004222, \"PER->BEL\": 49.97883415004222, \"PER->AUT\": 49.97883415004222, \"PER->ISL\": 49.97883415004222, \"PER->AND\": 49.97883415004222, \"PER->ISR\": 49.97883415004222, \"USA->PER\": 49.97883415004222, \"ESP->CZE\": 49.97750867506029, \"ESP->FIN\": 49.97750867506029, \"ESP->VEN\": 49.97750867506029, \"ESP->DZA\": 49.97750867506029, \"ESP->GRC\": 49.97750867506029, \"ESP->AND\": 49.97750867506029, \"ESP->ISL\": 49.97750867506029, \"ESP->CRI\": 49.97750867506029, \"ESP->LIE\": 49.97750867506029, \"ESP->ISR\": 49.97750867506029, \"ESP->BEL\": 49.97750867506029, \"USA->ESP\": 49.97750867506029, \"ESP->IDN\": 49.97750867506029, \"COL->FIN\": 49.97561581004882, \"COL->VEN\": 49.97561581004882, \"COL->GRC\": 49.97561581004882, \"COL->DZA\": 49.97561581004882, \"COL->CZE\": 49.97561581004882, \"COL->IDN\": 49.97561581004882, \"COL->AND\": 49.97561581004882, \"COL->USA\": 49.97561581004882, \"COL->ISR\": 49.97561581004882, \"COL->ISL\": 49.97561581004882, \"COL->LIE\": 49.97561581004882, \"COL->CRI\": 49.97561581004882, \"COL->BEL\": 49.97561581004882, \"JPN->LUX\": 49.97367654455682, \"CHN->POL\": 49.97290789490895, \"JPN->LIE\": 49.95425025266548, \"USA->JPN\": 49.95425025266548, \"JPN->AUT\": 49.95425025266548, \"JPN->BEL\": 49.95425025266548, \"JPN->CAN\": 49.95425025266548, \"JPN->ISR\": 49.95425025266548, \"JPN->CRI\": 49.95425025266548, \"JPN->CZE\": 49.95425025266548, \"JPN->DZA\": 49.95425025266548, \"JPN->ISL\": 49.95425025266548, \"JPN->GRC\": 49.95425025266548, \"JPN->IDN\": 49.95425025266548, \"JPN->AND\": 49.95425025266548, \"JPN->VEN\": 49.95425025266548, \"JPN->FIN\": 49.95425025266548, \"BLZ->LUX\": 49.952925600496265, \"SVK->LUX\": 49.943915710872574, \"LUX->MYS\": 49.939965368888714, \"SRB->MYS\": 49.93936110778385, \"BLZ->PRT\": 49.93719738914102, \"BLZ->ZAF\": 49.936643445093914, \"SVK->MDA\": 49.93558207821259, \"BLZ->FIN\": 49.93349930860489, \"BLZ->LIE\": 49.93349930860489, \"BLZ->DZA\": 49.93349930860489, \"BLZ->VEN\": 49.93349930860489, \"BLZ->ISL\": 49.93349930860489, \"BLZ->GRC\": 49.93349930860489, \"BLZ->CZE\": 49.93349930860489, \"BLZ->CRI\": 49.93349930860489, \"BLZ->CAN\": 49.93349930860489, \"BLZ->BEL\": 49.93349930860489, \"BLZ->AUT\": 49.93349930860489, \"BLZ->AND\": 49.93349930860489, \"BLZ->ISR\": 49.93349930860489, \"USA->BLZ\": 49.93349930860489, \"BLZ->IDN\": 49.93349930860489, \"MDA->MYS\": 49.931631736228674, \"UKR->SRB\": 49.928192232933064, \"ZAF->SVK\": 49.927633555470265, \"SGP->MYS\": 49.926955843789976, \"SVK->CRI\": 49.92448941898119, \"USA->SVK\": 49.92448941898119, \"SVK->AND\": 49.92448941898119, \"SVK->AUT\": 49.92448941898119, \"SVK->BEL\": 49.92448941898119, \"IDN->SVK\": 49.92448941898119, \"SVK->VEN\": 49.92448941898119, \"SVK->CAN\": 49.92448941898119, \"SVK->CZE\": 49.92448941898119, \"SVK->ISR\": 49.92448941898119, \"SVK->GRC\": 49.92448941898119, \"SVK->FIN\": 49.92448941898119, \"SVK->DZA\": 49.92448941898119, \"SVK->LIE\": 49.92448941898119, \"SVK->ISL\": 49.92448941898119, \"MYS->PRT\": 49.924237157533454, \"ZAF->MYS\": 49.923683213486356, \"MYS->BEL\": 49.92053907699733, \"AND->MYS\": 49.92053907699733, \"MYS->CRI\": 49.92053907699733, \"MYS->LIE\": 49.92053907699733, \"MYS->VEN\": 49.92053907699733, \"MYS->AUT\": 49.92053907699733, \"IDN->MYS\": 49.92053907699733, \"MYS->CZE\": 49.92053907699733, \"MYS->DZA\": 49.92053907699733, \"MYS->GRC\": 49.92053907699733, \"MYS->ISR\": 49.92053907699733, \"MYS->ISL\": 49.92053907699733, \"CAN->MYS\": 49.92053907699733, \"USA->MYS\": 49.92053907699733, \"FIN->MYS\": 49.92053907699733, \"UKR->SGP\": 49.91578696893919, \"CHN->MDA\": 49.896776578815924, \"UKR->MDA\": 49.84398048336188, \"BGR->CHN\": 49.8345997364247, \"SVK->CHN\": 49.81923467700032, \"HKG->CHN\": 49.78995270062005, \"UKR->IND\": 49.77777726893154, \"CHN->MYS\": 49.75430946440438, \"LUX->POL\": 49.72136693838413, \"SRB->POL\": 49.720762677279275, \"MDA->POL\": 49.713033305724096, \"SGP->POL\": 49.708357413285405, \"PRT->POL\": 49.705638727028884, \"ZAF->POL\": 49.70508478298178, \"USA->POL\": 49.70194064649275, \"AND->POL\": 49.70194064649275, \"VEN->POL\": 49.70194064649275, \"ISL->POL\": 49.70194064649275, \"POL->CRI\": 49.70194064649275, \"POL->DZA\": 49.70194064649275, \"POL->LIE\": 49.70194064649275, \"BEL->POL\": 49.70194064649275, \"ISR->POL\": 49.70194064649275, \"POL->GRC\": 49.70194064649275, \"IDN->POL\": 49.70194064649275, \"FIN->POL\": 49.70194064649275, \"POL->AUT\": 49.70194064649275, \"CAN->POL\": 49.70194064649275, \"CZE->POL\": 49.70194064649275, \"UKR->LUX\": 49.69934935998991, \"ESP->CHN\": 49.697339866341416, \"CHN->LUX\": 49.694274833293086, \"LTU->CHN\": 49.689957442880726, \"ROU->CHN\": 49.6897952709408, \"KEN->CHN\": 49.68610459899799, \"VNM->CHN\": 49.68582260490186, \"HUN->CHN\": 49.684251032890884, \"CHN->SYC\": 49.68419215234358, \"UKR->ZAF\": 49.68306720458761, \"CHN->NOR\": 49.680927684421164, \"UKR->LIE\": 49.679923068098525, \"UKR->AUT\": 49.679923068098525, \"UKR->ISL\": 49.679923068098525, \"UKR->USA\": 49.679923068098525, \"UKR->BEL\": 49.679923068098525, \"UKR->DZA\": 49.679923068098525, \"UKR->FIN\": 49.679923068098525, \"UKR->AND\": 49.679923068098525, \"UKR->CAN\": 49.679923068098525, \"UKR->CRI\": 49.679923068098525, \"UKR->CZE\": 49.679923068098525, \"UKR->ISR\": 49.679923068098525, \"UKR->VEN\": 49.679923068098525, \"UKR->GRC\": 49.679923068098525, \"UKR->IDN\": 49.679923068098525, \"CHN->DNK\": 49.67873616673218, \"SWE->CHN\": 49.67842359352953, \"ZAF->CHN\": 49.677992677890735, \"CHL->CHN\": 49.67662851275854, \"CHN->GRC\": 49.6748485414017, \"CHN->CZE\": 49.6748485414017, \"CHN->FIN\": 49.6748485414017, \"IDN->CHN\": 49.6748485414017, \"USA->CHN\": 49.6748485414017, \"CHN->AND\": 49.6748485414017, \"CHN->BEL\": 49.6748485414017, \"CHN->CAN\": 49.6748485414017, \"CHN->DZA\": 49.6748485414017, \"CHN->ISL\": 49.6748485414017, \"CHN->CRI\": 49.6748485414017, \"CHN->ISR\": 49.6748485414017, \"CHN->AUT\": 49.6748485414017, \"CHN->LIE\": 49.6748485414017, \"CHN->VEN\": 49.6748485414017, \"SWE->IND\": 49.25115414291829, \"IND->SYC\": 48.88615388591991, \"ZAF->TUR\": 48.3692096422857, \"UKR->TUR\": 47.749515741235136, \"RUS->SRB\": 47.61067227912608, \"SGP->RUS\": 47.59826701513221, \"TUR->SYC\": 47.35833241202278, \"POL->SAU\": 47.26904838941669, \"MYS->SAU\": 47.05044995891211, \"NOR->SAU\": 46.977068178928896, \"DNK->SAU\": 46.97487666123992, \"SWE->TUR\": 46.64212768010443, \"ZAF->RUS\": 46.54637306807527, \"CHN->RUS\": 46.39870742010254, \"LUX->RUS\": 45.808980607996965, \"RUS->CAN\": 45.78955431610558, \"BGR->SAU\": 45.74976278908363, \"KOR->SRB\": 45.233416982863424, \"KOR->SGP\": 45.2210117188695, \"MDA->RUS\": 45.178425760637104, \"HKG->SAU\": 44.73662868269588, \"IND->SRB\": 44.72876957792604, \"IND->SGP\": 44.71636431393217, \"RUS->PRT\": 44.66681743899548, \"RUS->ISR\": 44.2447292313336, \"RUS->DZA\": 44.2447292313336, \"RUS->BEL\": 44.2447292313336, \"RUS->FIN\": 44.2447292313336, \"RUS->CRI\": 44.2447292313336, \"RUS->GRC\": 44.2447292313336, \"RUS->CZE\": 44.2447292313336, \"RUS->AUT\": 44.2447292313336, \"RUS->AND\": 44.2447292313336, \"RUS->VEN\": 44.2447292313336, \"RUS->ISL\": 44.2447292313336, \"RUS->LIE\": 44.2447292313336, \"USA->RUS\": 44.2447292313336, \"IDN->RUS\": 44.2447292313336, \"MDA->TUR\": 43.94419140688955, \"ROU->SAU\": 43.87297243535356, \"PER->SAU\": 43.356201146737924, \"TUR->AUT\": 42.594018496920114, \"CHL->SAU\": 42.46084730410418, \"CHN->TUR\": 42.445830935172076, \"FRA->SAU\": 42.40091571708826, \"KOR->ZAF\": 42.24524462488337, \"KOR->AUT\": 41.79552261614919, \"KOR->PRT\": 41.759750886169556, \"JPN->SAU\": 41.45876116601226, \"KOR->MDA\": 41.14714052467972, \"NZL->SAU\": 40.972756409767555, \"TUR->SAU\": 40.84979951875917, \"KOR->CHN\": 40.841432759359044, \"KOR->USA\": 40.271001184977976, \"KOR->CRI\": 40.271001184977976, \"KOR->CZE\": 40.271001184977976, \"KOR->BEL\": 40.271001184977976, \"KOR->ISR\": 40.271001184977976, \"KOR->LIE\": 40.271001184977976, \"KOR->DZA\": 40.271001184977976, \"KOR->AND\": 40.271001184977976, \"KOR->IDN\": 40.271001184977976, \"KOR->VEN\": 40.271001184977976, \"KOR->GRC\": 40.271001184977976, \"KOR->ISL\": 40.271001184977976, \"KOR->FIN\": 40.271001184977976, \"BLZ->SAU\": 40.03556653506287, \"HUN->SAU\": 40.032670484873876, \"LUX->TUR\": 39.79282894151215, \"CAN->TUR\": 39.77340264962076, \"PRT->TUR\": 39.606154315169064, \"TUR->CRI\": 39.602456234632925, \"TUR->DZA\": 39.602456234632925, \"BEL->TUR\": 39.602456234632925, \"ISR->TUR\": 39.602456234632925, \"AND->TUR\": 39.602456234632925, \"ISL->TUR\": 39.602456234632925, \"USA->TUR\": 39.602456234632925, \"VEN->TUR\": 39.602456234632925, \"TUR->GRC\": 39.602456234632925, \"TUR->LIE\": 39.602456234632925, \"FIN->TUR\": 39.602456234632925, \"CZE->TUR\": 39.602456234632925, \"IDN->TUR\": 39.602456234632925, \"TWN->SAU\": 39.48430679182507, \"LTU->SAU\": 37.763443696468656, \"IND->PRT\": 37.72551515536933, \"IND->MDA\": 37.12034570248095, \"AUS->SAU\": 36.95254362802346, \"ZAF->IND\": 36.74433723725301, \"CHN->IND\": 36.285411075222186, \"IND->AUT\": 34.747206137462996, \"ESP->SAU\": 33.9780000233904, \"LUX->IND\": 33.5709074397031, \"IND->CAN\": 33.551481147811714, \"COL->SAU\": 33.4902182190265, \"IDN->IND\": 33.37996321896829, \"IND->ISL\": 33.37996321896829, \"IND->ISR\": 33.37996321896829, \"IND->AND\": 33.37996321896829, \"IND->VEN\": 33.37996321896829, \"IND->BEL\": 33.37996321896829, \"IND->CRI\": 33.37996321896829, \"IND->CZE\": 33.37996321896829, \"USA->IND\": 33.37996321896829, \"IND->DZA\": 33.37996321896829, \"IND->LIE\": 33.37996321896829, \"IND->FIN\": 33.37996321896829, \"IND->GRC\": 33.37996321896829, \"VNM->SAU\": 33.22447892983069, \"KEN->SAU\": 31.65599684729029, \"SVK->SAU\": 27.351164385068095, \"MEX->SAU\": 27.31715956247941, \"BRA->SAU\": 24.61233046405327, \"NLD->SAU\": 22.915598228720405, \"UKR->SAU\": 19.81690867583435, \"SYC->SAU\": 19.185169586248758, \"SWE->SAU\": 13.825582317515117, \"SRB->SAU\": 3.6522921552968435, \"SGP->SAU\": 3.6398868913029716, \"CHN->SAU\": 1.089650267496687, \"SAU->AUT\": 0.9993827454448823, \"PRT->SAU\": 0.7246813468927942, \"MDA->SAU\": 0.5940659274075285, \"ZAF->SAU\": 0.4675274872037345, \"LUX->SAU\": 0.019426291891382393, \"SAU->GRC\": 0.0, \"VEN->SAU\": 0.0, \"BEL->SAU\": 0.0, \"CZE->SAU\": 0.0, \"ISL->SAU\": 0.0, \"SAU->CRI\": 0.0, \"DZA->SAU\": 0.0, \"FIN->SAU\": 0.0, \"AND->SAU\": 0.0, \"ISR->SAU\": 0.0, \"IDN->SAU\": 0.0, \"CAN->SAU\": 0.0, \"USA->SAU\": 0.0, \"SAU->LIE\": 0.0}'"
      ]
     },
     "execution_count": 158,
     "metadata": {},
     "output_type": "execute_result"
    }
   ],
   "source": [
    "output_json = json.dumps(pairs_of_similarities)\n",
    "output_json"
   ]
  },
  {
   "cell_type": "code",
   "execution_count": 159,
   "metadata": {},
   "outputs": [],
   "source": [
    "with open('data.json', 'w') as outfile:\n",
    "    json.dump(output_json, outfile)"
   ]
  },
  {
   "cell_type": "code",
   "execution_count": 160,
   "metadata": {},
   "outputs": [],
   "source": [
    "MetricDF.to_csv(\"MetricDF.csv\")"
   ]
  },
  {
   "cell_type": "code",
   "execution_count": null,
   "metadata": {},
   "outputs": [],
   "source": []
  }
 ],
 "metadata": {
  "kernelspec": {
   "display_name": "Python 3",
   "language": "python",
   "name": "python3"
  },
  "language_info": {
   "codemirror_mode": {
    "name": "ipython",
    "version": 3
   },
   "file_extension": ".py",
   "mimetype": "text/x-python",
   "name": "python",
   "nbconvert_exporter": "python",
   "pygments_lexer": "ipython3",
   "version": "3.6.9"
  }
 },
 "nbformat": 4,
 "nbformat_minor": 2
}
