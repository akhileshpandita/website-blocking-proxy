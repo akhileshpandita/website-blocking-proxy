{
 "cells": [
  {
   "cell_type": "markdown",
   "metadata": {
    "colab_type": "text",
    "id": "9lyLU-8vLJBX"
   },
   "source": [
    "******************\n",
    "# 1. ***`DATA IMPORT AND SETUP`***\n",
    "******************"
   ]
  },
  {
   "cell_type": "markdown",
   "metadata": {
    "colab_type": "text",
    "id": "wwmBWSLLJQzJ"
   },
   "source": [
    "## 1a. Setting up CoLab and Libraries"
   ]
  },
  {
   "cell_type": "code",
   "execution_count": 12,
   "metadata": {
    "colab": {
     "base_uri": "https://localhost:8080/",
     "height": 53
    },
    "colab_type": "code",
    "id": "jQzdm559J4qE",
    "outputId": "22279bf2-3172-49e6-b813-6d882967a418"
   },
   "outputs": [
    {
     "ename": "ModuleNotFoundError",
     "evalue": "No module named 'psutil'",
     "output_type": "error",
     "traceback": [
      "\u001b[0;31m---------------------------------------------------------------------------\u001b[0m",
      "\u001b[0;31mModuleNotFoundError\u001b[0m                       Traceback (most recent call last)",
      "\u001b[0;32m<ipython-input-12-45f465ee5f76>\u001b[0m in \u001b[0;36m<module>\u001b[0;34m()\u001b[0m\n\u001b[1;32m      1\u001b[0m \u001b[0;31m#Checking RAM\u001b[0m\u001b[0;34m\u001b[0m\u001b[0;34m\u001b[0m\u001b[0;34m\u001b[0m\u001b[0m\n\u001b[0;32m----> 2\u001b[0;31m \u001b[0;32mfrom\u001b[0m \u001b[0mpsutil\u001b[0m \u001b[0;32mimport\u001b[0m \u001b[0mvirtual_memory\u001b[0m\u001b[0;34m\u001b[0m\u001b[0;34m\u001b[0m\u001b[0m\n\u001b[0m\u001b[1;32m      3\u001b[0m \u001b[0mram_gb\u001b[0m \u001b[0;34m=\u001b[0m \u001b[0mvirtual_memory\u001b[0m\u001b[0;34m(\u001b[0m\u001b[0;34m)\u001b[0m\u001b[0;34m.\u001b[0m\u001b[0mtotal\u001b[0m \u001b[0;34m/\u001b[0m \u001b[0;36m1e9\u001b[0m\u001b[0;34m\u001b[0m\u001b[0;34m\u001b[0m\u001b[0m\n\u001b[1;32m      4\u001b[0m \u001b[0mprint\u001b[0m\u001b[0;34m(\u001b[0m\u001b[0;34m'Your runtime has {:.1f} gigabytes of available RAM\\n'\u001b[0m\u001b[0;34m.\u001b[0m\u001b[0mformat\u001b[0m\u001b[0;34m(\u001b[0m\u001b[0mram_gb\u001b[0m\u001b[0;34m)\u001b[0m\u001b[0;34m)\u001b[0m\u001b[0;34m\u001b[0m\u001b[0;34m\u001b[0m\u001b[0m\n",
      "\u001b[0;31mModuleNotFoundError\u001b[0m: No module named 'psutil'"
     ]
    }
   ],
   "source": [
    "#Checking RAM\n",
    "from psutil import virtual_memory\n",
    "ram_gb = virtual_memory().total / 1e9\n",
    "print('Your runtime has {:.1f} gigabytes of available RAM\\n'.format(ram_gb))"
   ]
  },
  {
   "cell_type": "code",
   "execution_count": null,
   "metadata": {},
   "outputs": [],
   "source": []
  },
  {
   "cell_type": "code",
   "execution_count": 2,
   "metadata": {
    "colab": {},
    "colab_type": "code",
    "id": "yGznIGEtKxPc"
   },
   "outputs": [],
   "source": [
    "from google.colab import drive"
   ]
  },
  {
   "cell_type": "code",
   "execution_count": null,
   "metadata": {
    "colab": {},
    "colab_type": "code",
    "id": "I9u3t5Q_K4oG"
   },
   "outputs": [],
   "source": [
    "ROOT = \"/content/drive\"\n",
    "print(ROOT)\n",
    "drive.mount(ROOT)"
   ]
  },
  {
   "cell_type": "code",
   "execution_count": 4,
   "metadata": {
    "colab": {
     "base_uri": "https://localhost:8080/",
     "height": 35
    },
    "colab_type": "code",
    "id": "CPu-rVzzz3r-",
    "outputId": "226b38b3-3d5a-4fa7-e0f7-4c9ccec78520"
   },
    "outputs": [],
   "source": [
    "#intended path is  </content/drive/My Drive/Colab Notebooks/CLTC_Notebook_Data>\n",
    "%pwd"
   ]
  },
  {
   "cell_type": "code",
   "execution_count": 5,
   "metadata": {
    "colab": {
     "base_uri": "https://localhost:8080/",
     "height": 35
    },
    "colab_type": "code",
    "id": "uTVpFK64LCKV",
    "outputId": "e77e6890-250e-477c-def5-ccb4995f838a"
   },
   "outputs": [
    {
     "name": "stdout",
     "output_type": "stream",
     "text": [
      "/content/drive/My Drive/Colab Notebooks/CLTC_Notebook_Data\n"
     ]
    }
   ],
   "source": [
    "%cd /content/drive/My Drive/Colab Notebooks/CLTC_Notebook_Data"
   ]
  },
  {
   "cell_type": "code",
   "execution_count": null,
   "metadata": {
    "colab": {},
    "colab_type": "code",
    "id": "iBDP39jgMPms"
   },
   "outputs": [],
   "source": [
    "!pip install tldextract\n",
    "!pip install pycountry\n",
    "!pip install jupyterthemes"
   ]
  },
  {
   "cell_type": "code",
   "execution_count": 13,
   "metadata": {
    "colab": {},
    "colab_type": "code",
    "id": "LtWHpSloJQzK"
   },
   "outputs": [],
   "source": [
    "import pandas as pd\n",
    "import os\n",
    "import re\n",
    "import tldextract\n",
    "import numpy as np\n",
    "import matplotlib.pyplot as plt\n",
    "import seaborn as sns\n",
    "from scipy import spatial\n",
    "import os, time, http.client\n",
    "from termcolor import colored\n",
    "import sys\n",
    "import json\n",
    "from pygments import highlight, lexers, formatters\n",
    "import pycountry\n",
    "import scipy\n",
    "from scipy import stats\n",
    "from scipy.stats import ttest_ind, ttest_ind_from_stats\n",
    "from scipy.special import stdtr\n",
    "import statistics"
   ]
  },
  {
   "cell_type": "code",
   "execution_count": 14,
   "metadata": {
    "colab": {
     "base_uri": "https://localhost:8080/",
     "height": 35
    },
    "colab_type": "code",
    "id": "UvAyoM9MJQzN",
    "outputId": "64532488-6f28-4190-a143-bff3be0f0212"
   },
   "outputs": [
    {
     "name": "stdout",
     "output_type": "stream",
     "text": [
      "Populating the interactive namespace from numpy and matplotlib\n"
     ]
    }
   ],
   "source": [
    "# Tools for visualizing the data\n",
    "\n",
    "# requires jupytertehmes\n",
    "\n",
    "%pylab inline\n",
    "# import jtplot module in notebook\n",
    "from jupyterthemes import jtplot\n",
    "\n",
    "# choose which theme to inherit plotting style from\n",
    "# onedork | grade3 | oceans16 | chesterish | monokai | solarizedl | solarizedd\n",
    "jtplot.style(theme='onedork')\n",
    "\n",
    "# set \"context\" (paper, notebook, talk, poster)\n",
    "# scale font-size of ticklabels, legend, etc.\n",
    "# remove spines from x and y axes and make grid dashed\n",
    "jtplot.style(context='paper', fscale=1.4, spines=False, gridlines='--')\n",
    "\n",
    "# turn on X- and Y-axis tick marks (default=False)\n",
    "# turn off the axis grid lines (default=True)\n",
    "# and set the default figure size\n",
    "jtplot.style(ticks=True, grid=False, figsize=(6, 4.5))\n",
    "\n",
    "# reset default matplotlib rcParams\n",
    "jtplot.reset()"
   ]
  },
  {
   "cell_type": "markdown",
   "metadata": {
    "colab_type": "text",
    "id": "0UcXBgj9MwJl"
   },
   "source": [
    "## 1b. Importing and Cleaning Data"
   ]
  },
  {
   "cell_type": "code",
   "execution_count": null,
   "metadata": {
    "colab": {},
    "colab_type": "code",
    "id": "6-IkJRTtJQzR"
   },
   "outputs": [],
   "source": [
    "#iclabcombined = pd.read_csv(\"combined.csv\", dtype={'country' : str})"
   ]
  },
  {
   "cell_type": "markdown",
   "metadata": {
    "colab_type": "text",
    "id": "WYO-gMQKJQzT"
   },
   "source": [
    "Dropping the columns which were meant for internal use of ICLAB team and the header columns which have come into dataset via join"
   ]
  },
  {
   "cell_type": "code",
   "execution_count": null,
   "metadata": {
    "colab": {},
    "colab_type": "code",
    "id": "4AibN_s5JQzU"
   },
   "outputs": [],
   "source": [
    "# iclabcombined.drop(['filename', 'as_number'], axis=1, inplace= True)\n",
    "\n",
    "# iclabcombined.drop([ 3078134,  4235577, 12411076, 18967078, 25041685, 26600938,\n",
    "#             28192530, 29460039, 30795516, 32569776, 34391850, 36093972,\n",
    "#             37793956, 39298313, 40934970, 42276914, 42976448, 44455181,\n",
    "#             47068048, 49383978], inplace = True)"
   ]
  },
  {
   "cell_type": "markdown",
   "metadata": {
    "colab_type": "text",
    "id": "tH7sF96aJQzW"
   },
   "source": [
    "Correcting wrongly coded boolean values in the datasets"
   ]
  },
  {
   "cell_type": "code",
   "execution_count": null,
   "metadata": {
    "colab": {},
    "colab_type": "code",
    "id": "YXcn1fvyJQzX"
   },
   "outputs": [],
   "source": [
    "# iclabcombined['dns'].replace('false',False,inplace=True)\n",
    "# iclabcombined['dns_all'].replace('false',False,inplace=True)\n",
    "# iclabcombined['block'].replace('false',False,inplace=True)\n",
    "# iclabcombined['packet_updated'].replace('false',False,inplace=True)\n",
    "# iclabcombined['censored_updated'].replace('false',False,inplace=True)\n",
    "\n",
    "# iclabcombined['dns'].replace('true',True,inplace=True)\n",
    "# iclabcombined['dns_all'].replace('true',True,inplace=True)\n",
    "# iclabcombined['block'].replace('true',True,inplace=True)\n",
    "# iclabcombined['packet_updated'].replace('true',True,inplace=True)\n",
    "# iclabcombined['censored_updated'].replace('true',True,inplace=True)"
   ]
  },
  {
   "cell_type": "markdown",
   "metadata": {
    "colab_type": "text",
    "id": "nY8uVQYwJQzZ"
   },
   "source": [
    "## 1c. Importing categories"
   ]
  },
  {
   "cell_type": "code",
   "execution_count": null,
   "metadata": {
    "colab": {},
    "colab_type": "code",
    "id": "Yf1cPsGHJQzZ"
   },
   "outputs": [],
   "source": [
    "# catDF = pd.read_fwf('type_domain_mapping.txt',header=None, names=[ \"Name\"], sep=\"\")"
   ]
  },
  {
   "cell_type": "code",
   "execution_count": null,
   "metadata": {
    "colab": {},
    "colab_type": "code",
    "id": "b5D_8FilJQzc"
   },
   "outputs": [],
   "source": [
    "# catDF = catDF.Name.apply(lambda x: pd.Series(str(x).split(\"|||\"))).rename(columns={0:'category',1:'site'})"
   ]
  },
  {
   "cell_type": "code",
   "execution_count": null,
   "metadata": {
    "colab": {},
    "colab_type": "code",
    "id": "MEhS1aarJQze"
   },
   "outputs": [],
   "source": [
    "# allCategories = set(catDF['category'])\n",
    "# len(allCategories)"
   ]
  },
  {
   "cell_type": "code",
   "execution_count": null,
   "metadata": {
    "colab": {},
    "colab_type": "code",
    "id": "nM61s9ZhJQzg"
   },
   "outputs": [],
   "source": [
    "# ADDING CATEGORY AS A PERMANENT COLUMN\n",
    "\n",
    "# urlListAll = iclabcombined['url'].tolist()\n",
    "# sitesListAll = []\n",
    "\n",
    "# for item in urlListAll:\n",
    "#     domainAll = tldextract.extract(item)[1]\n",
    "#     suffixAll = tldextract.extract(item)[2]\n",
    "#     sitesListAll.append(domainAll + \".\" + suffixAll)"
   ]
  },
  {
   "cell_type": "code",
   "execution_count": null,
   "metadata": {
    "colab": {},
    "colab_type": "code",
    "id": "19IFD5t4JQzi"
   },
   "outputs": [],
   "source": [
    "# iclabcombined['site'] = sitesListAll\n",
    "# iclabcombined = pd.merge(iclabcombined, catDF, on='site',how='left')"
   ]
  },
  {
   "cell_type": "code",
   "execution_count": null,
   "metadata": {
    "colab": {},
    "colab_type": "code",
    "id": "uFOLYKIwPiKU"
   },
   "outputs": [],
   "source": [
    "#iclabcombined['category'] = iclabcombined['category'].fillna(0)\n",
    "#iclabcombined['category']=iclabcombined['category'].replace(0,'Undefined')"
   ]
  },
  {
   "cell_type": "code",
   "execution_count": null,
   "metadata": {
    "colab": {},
    "colab_type": "code",
    "id": "sNOYUWgWPnzP"
   },
   "outputs": [],
   "source": [
    "#iclabcombined.head()"
   ]
  },
  {
   "cell_type": "code",
   "execution_count": null,
   "metadata": {
    "colab": {},
    "colab_type": "code",
    "id": "sXuNehY5JQzk"
   },
   "outputs": [],
   "source": [
    "# PICKLING OUR DATA FOR FASTER ACCESS\n",
    "#iclabcombined.to_pickle('iclabcombined.pkl')"
   ]
  },
  {
   "cell_type": "markdown",
   "metadata": {
    "colab_type": "text",
    "id": "O2XBbOfVJQzm"
   },
   "source": [
    "## 1d. Accessing DataFrame (H5/Pickle)"
   ]
  },
  {
   "cell_type": "code",
   "execution_count": null,
   "metadata": {
    "colab": {},
    "colab_type": "code",
    "id": "Ys6zf3lDJQzm"
   },
   "outputs": [],
   "source": [
    "iclabcombined = pd.read_pickle('iclabcombined.pkl')\n",
    "#iclabcombined.to_hdf('iclabcombined.h5', key='iclabcombined', mode='w')\n",
    "#iclabcombined = pd.read_hdf('iclabcombined.h5', key='iclabcombined',mode='r')"
   ]
  },
  {
   "cell_type": "code",
   "execution_count": null,
   "metadata": {
    "colab": {
     "base_uri": "https://localhost:8080/",
     "height": 35
    },
    "colab_type": "code",
    "id": "7Lg4gdjZJQzo",
    "outputId": "4a75b584-85bc-4004-9a6b-5f8cef071562"
   },
   "outputs": [
    {
     "name": "stdout",
     "output_type": "stream",
     "text": [
      "The number of observations in our original data set are 50436846 and the number of features/columns are 17 \n"
     ]
    }
   ],
   "source": [
    "print(\"The number of observations in our original data set are {0} and the number of features/columns are {1} \".format(iclabcombined.shape[0],iclabcombined.shape[1]))"
   ]
  },
  {
   "cell_type": "code",
   "execution_count": null,
   "metadata": {
    "colab": {
     "base_uri": "https://localhost:8080/"
    },
    "colab_type": "code",
    "id": "z8vAxz0Jciwh",
    "outputId": "9ed24e61-d783-48ad-acb7-9041cc6479dd"
   },
   "outputs": [
    {
     "data": {
      "text/html": [
       "<div>\n",
       "<style scoped>\n",
       "    .dataframe tbody tr th:only-of-type {\n",
       "        vertical-align: middle;\n",
       "    }\n",
       "\n",
       "    .dataframe tbody tr th {\n",
       "        vertical-align: top;\n",
       "    }\n",
       "\n",
       "    .dataframe thead th {\n",
       "        text-align: right;\n",
       "    }\n",
       "</style>\n",
       "<table border=\"1\" class=\"dataframe\">\n",
       "  <thead>\n",
       "    <tr style=\"text-align: right;\">\n",
       "      <th></th>\n",
       "      <th>server_t</th>\n",
       "      <th>country</th>\n",
       "      <th>schedule_name</th>\n",
       "      <th>url</th>\n",
       "      <th>dns</th>\n",
       "      <th>dns_reason</th>\n",
       "      <th>dns_all</th>\n",
       "      <th>dns_reason_all</th>\n",
       "      <th>http_status</th>\n",
       "      <th>block</th>\n",
       "      <th>body_len</th>\n",
       "      <th>http_reason</th>\n",
       "      <th>packet_updated</th>\n",
       "      <th>packet_reason</th>\n",
       "      <th>censored_updated</th>\n",
       "      <th>site</th>\n",
       "      <th>category</th>\n",
       "    </tr>\n",
       "  </thead>\n",
       "  <tbody>\n",
       "    <tr>\n",
       "      <th>47636114</th>\n",
       "      <td>2018-08-07T22:03:55.671Z</td>\n",
       "      <td>US</td>\n",
       "      <td>citizenlab-global</td>\n",
       "      <td>http://indeed.com/</td>\n",
       "      <td>False</td>\n",
       "      <td>NaN</td>\n",
       "      <td>False</td>\n",
       "      <td>NaN</td>\n",
       "      <td>200</td>\n",
       "      <td>False</td>\n",
       "      <td>47445</td>\n",
       "      <td>{}</td>\n",
       "      <td>NaN</td>\n",
       "      <td>NaN</td>\n",
       "      <td>False</td>\n",
       "      <td>indeed.com</td>\n",
       "      <td>Job Search</td>\n",
       "    </tr>\n",
       "    <tr>\n",
       "      <th>18556492</th>\n",
       "      <td>2017-04-28T20:25:16.240Z</td>\n",
       "      <td>US</td>\n",
       "      <td>citizenlab-global</td>\n",
       "      <td>http://kaskus.co.id/</td>\n",
       "      <td>NaN</td>\n",
       "      <td>NaN</td>\n",
       "      <td>-2</td>\n",
       "      <td>no_control_resp</td>\n",
       "      <td>200</td>\n",
       "      <td>False</td>\n",
       "      <td>107401</td>\n",
       "      <td>{}</td>\n",
       "      <td>NaN</td>\n",
       "      <td>NaN</td>\n",
       "      <td>False</td>\n",
       "      <td>kaskus.co.id</td>\n",
       "      <td>Newsgroups and Message Boards</td>\n",
       "    </tr>\n",
       "    <tr>\n",
       "      <th>7700181</th>\n",
       "      <td>2017-03-15T23:58:32.190Z</td>\n",
       "      <td>AU</td>\n",
       "      <td>citizenlab-global</td>\n",
       "      <td>http://www.iucn.org/</td>\n",
       "      <td>False</td>\n",
       "      <td>sameip</td>\n",
       "      <td>False</td>\n",
       "      <td>NaN</td>\n",
       "      <td>-1</td>\n",
       "      <td>False</td>\n",
       "      <td>0</td>\n",
       "      <td>{}</td>\n",
       "      <td>NaN</td>\n",
       "      <td>NaN</td>\n",
       "      <td>False</td>\n",
       "      <td>iucn.org</td>\n",
       "      <td>Undefined</td>\n",
       "    </tr>\n",
       "    <tr>\n",
       "      <th>13640476</th>\n",
       "      <td>2017-04-05T14:00:27.092Z</td>\n",
       "      <td>US</td>\n",
       "      <td>citizenlab-global</td>\n",
       "      <td>http://emol.com/</td>\n",
       "      <td>NaN</td>\n",
       "      <td>NaN</td>\n",
       "      <td>NaN</td>\n",
       "      <td>NaN</td>\n",
       "      <td>200</td>\n",
       "      <td>False</td>\n",
       "      <td>130051</td>\n",
       "      <td>{}</td>\n",
       "      <td>NaN</td>\n",
       "      <td>NaN</td>\n",
       "      <td>False</td>\n",
       "      <td>emol.com</td>\n",
       "      <td>News and Media</td>\n",
       "    </tr>\n",
       "    <tr>\n",
       "      <th>13428836</th>\n",
       "      <td>2017-04-04T17:59:22.555Z</td>\n",
       "      <td>US</td>\n",
       "      <td>citizenlab-global</td>\n",
       "      <td>http://force.com/</td>\n",
       "      <td>-2</td>\n",
       "      <td>no_control_resp</td>\n",
       "      <td>False</td>\n",
       "      <td>NaN</td>\n",
       "      <td>200</td>\n",
       "      <td>False</td>\n",
       "      <td>197170</td>\n",
       "      <td>{}</td>\n",
       "      <td>NaN</td>\n",
       "      <td>NaN</td>\n",
       "      <td>False</td>\n",
       "      <td>force.com</td>\n",
       "      <td>Information Technology</td>\n",
       "    </tr>\n",
       "  </tbody>\n",
       "</table>\n",
       "</div>"
      ],
      "text/plain": [
       "                          server_t  ...                       category\n",
       "47636114  2018-08-07T22:03:55.671Z  ...                     Job Search\n",
       "18556492  2017-04-28T20:25:16.240Z  ...  Newsgroups and Message Boards\n",
       "7700181   2017-03-15T23:58:32.190Z  ...                      Undefined\n",
       "13640476  2017-04-05T14:00:27.092Z  ...                 News and Media\n",
       "13428836  2017-04-04T17:59:22.555Z  ...         Information Technology\n",
       "\n",
       "[5 rows x 17 columns]"
      ]
     },
     "execution_count": 10,
     "metadata": {
      "tags": []
     },
     "output_type": "execute_result"
    }
   ],
   "source": [
    "iclabcombined.sample(5)"
   ]
  },
  {
   "cell_type": "markdown",
   "metadata": {
    "colab_type": "text",
    "id": "bX3Zh6O3JQzx"
   },
   "source": [
    "IN THE LATEST ITERATION OF THIS NOTEBOOK (07/17) NO DATA FOR \"USA\" HAS BEEN DROPPED "
   ]
  },
  {
   "cell_type": "markdown",
   "metadata": {
    "colab_type": "text",
    "id": "nHfBC3U_JQzy"
   },
   "source": [
    "******************\n",
    "# 2. ***`ANALYZING FALSE POSITIVES`*** \n",
    "******************\n",
    "\n",
    "*(Redundant section as of 07/2020)*"
   ]
  },
  {
   "cell_type": "code",
   "execution_count": null,
   "metadata": {
    "colab": {},
    "colab_type": "code",
    "id": "IVhSBcNbJQzy"
   },
   "outputs": [],
   "source": [
    "# #function to find blocked URLs\n",
    "# def blockedURLs(cc):\n",
    "#     return (set(iclabcombined[ (iclabcombined['country']== cc)& ((iclabcombined['censored_updated']==True)) ]['url']))"
   ]
  },
  {
   "cell_type": "markdown",
   "metadata": {
    "colab_type": "text",
    "id": "RQYfLRm6JQz0"
   },
   "source": [
    "## 2a. Looking at sites which only have censored_updated = True"
   ]
  },
  {
   "cell_type": "markdown",
   "metadata": {
    "colab_type": "text",
    "id": "okZBCCbfJQz1"
   },
   "source": [
    "The below query produces 167 urls, these are the URLs for which the ICLab team believes the packets might have been injected i.e. becuase there was a response after RST or FIN or maybe because of ICMP admin prohibited i.e. they determined there's a firewall that blocks a connection. Removing these from our data as these are cases of PROBABLE CENSORSHIP and not ACTUAL censorship"
   ]
  },
  {
   "cell_type": "code",
   "execution_count": null,
   "metadata": {
    "colab": {},
    "colab_type": "code",
    "id": "PTeOJQH3JQz1"
   },
   "outputs": [],
   "source": [
    "#( set(iclabcombined[ (iclabcombined['country']=='US')  & ((iclabcombined['dns']== False) & (iclabcombined['dns_all']== False) & (iclabcombined['block']== False) & (iclabcombined['packet_updated']== True))]['url']))"
   ]
  },
  {
   "cell_type": "markdown",
   "metadata": {
    "colab_type": "text",
    "id": "z-nr1R3vJQz3"
   },
   "source": [
    "Even urls for which a 4xx or 5xx result was returned are accessible and some of them are URLS commonly accessed in US"
   ]
  },
  {
   "cell_type": "code",
   "execution_count": null,
   "metadata": {
    "colab": {},
    "colab_type": "code",
    "id": "8Mk0ognfJQz3"
   },
   "outputs": [],
   "source": [
    "# set(iclabcombined\n",
    "#     [ (iclabcombined['country']=='US') \n",
    "#                    & \n",
    "#      (\n",
    "#          (iclabcombined['http_status']== 403.0) | (iclabcombined['http_status']== 404.0) | (iclabcombined['http_status']== 504.0)\n",
    "#      )\n",
    "#      &\n",
    "#      (   \n",
    "#                        (iclabcombined['dns']== False) & (iclabcombined['dns_all']== False)\n",
    "#                        & (iclabcombined['block']== False) & (iclabcombined['dns_all']== False) \n",
    "#                        & (iclabcombined['packet_updated']== True)\n",
    "#                    )]\n",
    "#      ['url'])"
   ]
  },
  {
   "cell_type": "code",
   "execution_count": null,
   "metadata": {
    "colab": {},
    "colab_type": "code",
    "id": "vBeQtAm8JQz5"
   },
   "outputs": [],
   "source": [
    "#httpError = np.arange(400,600,1,dtype=float)"
   ]
  },
  {
   "cell_type": "markdown",
   "metadata": {
    "colab_type": "text",
    "id": "FoND09pDJQz7"
   },
   "source": [
    "The falsePositIndex here are the sites which return a http 200 and only show packet_updated = True. In below query, I eliminate the countries where the result of HTTP was not a 400/500 errorand the only mechanism of censorship was that the packet_updated = True i.e. all these are probable censorships"
   ]
  },
  {
   "cell_type": "code",
   "execution_count": null,
   "metadata": {
    "colab": {},
    "colab_type": "code",
    "id": "Y6qNxuwqJQz7"
   },
   "outputs": [],
   "source": [
    "# falsePositIndex = iclabcombined[\n",
    "#     (~iclabcombined.http_status.isin(httpError))  \n",
    "#                    & (   (iclabcombined['dns']== False) & (iclabcombined['dns_all']== False) & (iclabcombined['block']== False) & (iclabcombined['dns_all']== False) & (iclabcombined['packet_updated']== True)\n",
    "#                      )] [['country','url','http_status']].index.tolist()"
   ]
  },
  {
   "cell_type": "code",
   "execution_count": null,
   "metadata": {
    "colab": {},
    "colab_type": "code",
    "id": "jCMlUVUmJQz9"
   },
   "outputs": [],
   "source": [
    "# print(\"We have \" + str(len(falsePositIndex)) + \" probable censoriships which could be false positives\")"
   ]
  },
  {
   "cell_type": "code",
   "execution_count": null,
   "metadata": {
    "colab": {},
    "colab_type": "code",
    "id": "XCMe9pMmJQz_"
   },
   "outputs": [],
   "source": [
    "# iclabcombined.drop(falsePositIndex,inplace=True)"
   ]
  },
  {
   "cell_type": "markdown",
   "metadata": {
    "colab_type": "text",
    "id": "iLndsZRgJQ0C"
   },
   "source": [
    "Now having a look at FALSE NEGATIVES\n",
    "We define false negatives as websites which are showing censored_updated = False here but upon testing actually are inaccessible"
   ]
  },
  {
   "cell_type": "code",
   "execution_count": null,
   "metadata": {
    "colab": {},
    "colab_type": "code",
    "id": "ONGaZouuJQ0D"
   },
   "outputs": [],
   "source": [
    "# set(iclabcombined[(iclabcombined['country']=='US')&(iclabcombined['censored_updated']==False) & (iclabcombined.http_status.isin([403.0]))]['url'])"
   ]
  },
  {
   "cell_type": "markdown",
   "metadata": {
    "colab_type": "text",
    "id": "7MLETCOBJQ0F"
   },
   "source": [
    "In total as seen below we have 3389 websites which show up as not censored in US but the corresponding HTTP results are error codes, manual testing of these websites show that they are accessible, its not possible to actually determine the status of all false negatives. Based on our testing and seeing that they are not marked as blocked eventually and also because we believe that false negatives are not too critical to our project  $hence$ $we$ $wont$ $drop$ $them$ $from$ $the$ $data$ $set$"
   ]
  },
  {
   "cell_type": "markdown",
   "metadata": {
    "colab_type": "text",
    "id": "OLDSUbdNJQ0F"
   },
   "source": [
    "## 2b. Removing the FALSE POSITIVIES (US blocked sites) from our main dataset iclabcombined"
   ]
  },
  {
   "cell_type": "markdown",
   "metadata": {
    "colab_type": "text",
    "id": "BiQAETDMJQ0F"
   },
   "source": [
    "From this data looking at the sites that are shown as censored in US. THESE SITES HAVE CENSORED = TRUE AND RETURN A HTTP ERROR"
   ]
  },
  {
   "cell_type": "code",
   "execution_count": null,
   "metadata": {
    "colab": {},
    "colab_type": "code",
    "id": "RQ4IvohRJQ0G"
   },
   "outputs": [],
   "source": [
    "#set( iclabcombined  [  (iclabcombined['country']=='US') & (iclabcombined.http_status.isin(httpError) & ( (iclabcombined['dns_all']== True) | (iclabcombined['block']== True)|(iclabcombined['censored_updated']== True) | (iclabcombined['packet_updated']== True)))]['url'])"
   ]
  },
  {
   "cell_type": "code",
   "execution_count": null,
   "metadata": {
    "colab": {},
    "colab_type": "code",
    "id": "NpJc98yxJQ0I"
   },
   "outputs": [],
   "source": [
    "# SITES SHOWING HTTP status reason as block in US but still accessible\n",
    "#set( iclabcombined  [  (iclabcombined['country']=='US') & (iclabcombined.http_reason.str.contains('block'))]['url'])"
   ]
  },
  {
   "cell_type": "markdown",
   "metadata": {
    "colab_type": "text",
    "id": "55U-NIVvJQ0J"
   },
   "source": [
    "Overall all the above results show a very dirty data, we basically removed the root urls of all the sites that show 404 in US and then checked how many of them are accesible. There are no patterns while some are showing as blocked on testing others are not. BELOW WE REMOVE THESE FALSE POSITIVIES FROM THE US"
   ]
  },
  {
   "cell_type": "code",
   "execution_count": null,
   "metadata": {
    "colab": {},
    "colab_type": "code",
    "id": "2Qd5_v6iJQ0K"
   },
   "outputs": [],
   "source": [
    "#USFPlist = (iclabcombined [(iclabcombined['country']=='US') & (iclabcombined['censored_updated'] == True)]['site']).unique().tolist()"
   ]
  },
  {
   "cell_type": "code",
   "execution_count": null,
   "metadata": {
    "colab": {},
    "colab_type": "code",
    "id": "e7iA0Ch8JQ0M"
   },
   "outputs": [],
   "source": [
    "#USblockIclab = len(iclabcombined[iclabcombined['site'].isin(USFPlist)])"
   ]
  },
  {
   "cell_type": "code",
   "execution_count": null,
   "metadata": {
    "colab": {},
    "colab_type": "code",
    "id": "hv9zL_ZJJQ0O"
   },
   "outputs": [],
   "source": [
    "# print(\"There are {} unique blocked websites in the US\".format(len(USFPlist)))\n",
    "# print(\"There are {} total observations of these blocked websites throughout our dataset\".format(USblockIclab))"
   ]
  },
  {
   "cell_type": "code",
   "execution_count": null,
   "metadata": {
    "colab": {},
    "colab_type": "code",
    "id": "53roh9pYJQ0S"
   },
   "outputs": [],
   "source": [
    "# USFPIndex is the index of all those observations for the unique sites which are blocked in US and we are going to remove from the entire DB\n",
    "#USFPIndex = iclabcombined[iclabcombined['site'].isin(USFPlist)].index"
   ]
  },
  {
   "cell_type": "code",
   "execution_count": null,
   "metadata": {
    "colab": {},
    "colab_type": "code",
    "id": "hC7a5aJHP2GO"
   },
   "outputs": [],
   "source": [
    "#iclabCLEAN = iclabcombined.drop(USFPIndex)"
   ]
  },
  {
   "cell_type": "markdown",
   "metadata": {
    "colab_type": "text",
    "id": "J43i9atpP6ef"
   },
   "source": [
    "iclabCLEAN is our cleaned dataframe"
   ]
  },
  {
   "cell_type": "markdown",
   "metadata": {
    "colab_type": "text",
    "id": "WFyd7MMPJQ0V"
   },
   "source": [
    "## 2c. PICKLING OUR CLEAN DATASET FOR FASTER ACCESS"
   ]
  },
  {
   "cell_type": "code",
   "execution_count": null,
   "metadata": {
    "colab": {},
    "colab_type": "code",
    "id": "qNk94UUJJQ0W"
   },
   "outputs": [],
   "source": [
    "#iclabCLEAN.to_pickle('iclabCLEAN.pkl')"
   ]
  },
  {
   "cell_type": "code",
   "execution_count": null,
   "metadata": {
    "colab": {},
    "colab_type": "code",
    "id": "cDReGC87JQ0X"
   },
   "outputs": [],
   "source": [
    "# LOADING DATA FRAME FROM PICKLE\n",
    "#iclabCLEAN = pd.read_pickle('iclabCLEAN.pkl')"
   ]
  },
  {
   "cell_type": "code",
   "execution_count": null,
   "metadata": {
    "colab": {},
    "colab_type": "code",
    "id": "tfa1bfeIJQ0Z"
   },
   "outputs": [],
   "source": [
    "# COMPARNING DATA SIZES of RAW and CLEAN DATA \n",
    "#print(\"The number of observations in our original data set are {0} and the number of features/columns are {1} \".format(iclabcombined.shape[0],iclabcombined.shape[1]))\n",
    "#print(\"The number of observations in our CLEANED data set i.e. without sites blocked in USA are {0} and the number of features/columns are {1} \".format(iclabCLEAN.shape[0],iclabCLEAN.shape[1]))"
   ]
  },
  {
   "cell_type": "markdown",
   "metadata": {
    "colab_type": "text",
    "id": "hHCy4vm7JQ0b"
   },
   "source": [
    "$******************************************************************$"
   ]
  },
  {
   "cell_type": "markdown",
   "metadata": {
    "colab_type": "text",
    "id": "1fINWfo6JQ0b"
   },
   "source": [
    "******************\n",
    "# 3.  ***`RUNNING EXPERIMENTS`***\n",
    "******************"
   ]
  },
  {
   "cell_type": "markdown",
   "metadata": {
    "colab_type": "text",
    "id": "CHmStC83RD53"
   },
   "source": [
    "## 3a. Experiment 1"
   ]
  },
  {
   "cell_type": "markdown",
   "metadata": {
    "colab_type": "text",
    "id": "k__ejV3AJQ0c"
   },
   "source": [
    "Looking at the exact webpages blocked"
   ]
  },
  {
   "cell_type": "code",
   "execution_count": null,
   "metadata": {
    "colab": {},
    "colab_type": "code",
    "id": "xo4biKFxJQ0c"
   },
   "outputs": [],
   "source": [
    "# blockpageTR = set(iclabCLEAN[(iclabCLEAN['country']=='TR') & ((iclabCLEAN['dns_all']==True)| (iclabCLEAN['censored_updated']==True) | (iclabCLEAN['block']==True) | (iclabCLEAN['packet_updated']==True)) ]['url'])\n",
    "# len(blockpageTR)"
   ]
  },
  {
   "cell_type": "code",
   "execution_count": null,
   "metadata": {
    "colab": {},
    "colab_type": "code",
    "id": "_LDEBA4bJQ0d"
   },
   "outputs": [],
   "source": [
    "# blockpageRU = set(iclabCLEAN[(iclabCLEAN['country']=='RU') & ((iclabCLEAN['dns_all']==True)| (iclabCLEAN['censored_updated']==True) | (iclabCLEAN['block']==True) | (iclabCLEAN['packet_updated']==True)) ]['url'])\n",
    "# len(blockpageRU)"
   ]
  },
  {
   "cell_type": "code",
   "execution_count": null,
   "metadata": {
    "colab": {},
    "colab_type": "code",
    "id": "ETgi7L2uJQ0f"
   },
   "outputs": [],
   "source": [
    "# RUblockpageTR = blockpageTR.intersection(blockpageRU)\n",
    "# RUblockpageTR"
   ]
  },
  {
   "cell_type": "markdown",
   "metadata": {
    "colab_type": "text",
    "id": "Z-Iix1x_JQ0i"
   },
   "source": [
    "## 3b. Experiment 2"
   ]
  },
  {
   "cell_type": "markdown",
   "metadata": {
    "colab_type": "text",
    "id": "pvYo596rDkId"
   },
   "source": [
    "Most captured categories in our dataset"
   ]
  },
  {
   "cell_type": "code",
   "execution_count": null,
   "metadata": {
    "colab": {},
    "colab_type": "code",
    "id": "sFlYf7sJDfsY"
   },
   "outputs": [],
   "source": [
    "iclabcombined[iclabcombined['censored_updated']==True].groupby('category').count().sort_values(by='site',ascending=False).head(10)"
   ]
  },
  {
   "cell_type": "code",
   "execution_count": null,
   "metadata": {
    "colab": {},
    "colab_type": "code",
    "id": "6sOiKdFgJQ0i"
   },
   "outputs": [],
   "source": [
    "# blockIN = set(iclabCLEAN[(iclabCLEAN['country']=='IN') & ((iclabCLEAN['censored_updated']==True))]['site'])\n",
    "# len(blockIN)"
   ]
  },
  {
   "cell_type": "code",
   "execution_count": null,
   "metadata": {
    "colab": {},
    "colab_type": "code",
    "id": "f28GYAHGJQ0k"
   },
   "outputs": [],
   "source": [
    "# blockCN = set(iclabCLEAN[(iclabCLEAN['country']=='CN') & ((iclabCLEAN['censored_updated']==True))]['site'])\n",
    "# len(blockCN)"
   ]
  },
  {
   "cell_type": "code",
   "execution_count": null,
   "metadata": {
    "colab": {},
    "colab_type": "code",
    "id": "la22IePMJQ0n"
   },
   "outputs": [],
   "source": [
    "# blockVN = set(iclabCLEAN[(iclabCLEAN['country']=='VN') & ((iclabCLEAN['censored_updated']==True))]['site'])\n",
    "# len(blockVN)"
   ]
  },
  {
   "cell_type": "code",
   "execution_count": null,
   "metadata": {
    "colab": {},
    "colab_type": "code",
    "id": "WUqKXwWFJQ0o"
   },
   "outputs": [],
   "source": [
    "# blockRU = set(iclabCLEAN[(iclabCLEAN['country']=='RU') & ((iclabCLEAN['dns_all']==True)| (iclabCLEAN['censored_updated']==True)| (iclabCLEAN['block']==True) | (iclabCLEAN['packet_updated']==True))]['site'])\n",
    "# len(blockRU)"
   ]
  },
  {
   "cell_type": "code",
   "execution_count": null,
   "metadata": {
    "colab": {},
    "colab_type": "code",
    "id": "s5B_Z7d3JQ0r"
   },
   "outputs": [],
   "source": [
    "# blockTR = set(iclabCLEAN[(iclabCLEAN['country']=='TR') & ((iclabCLEAN['dns_all']==True)| (iclabCLEAN['censored_updated']==True) | (iclabCLEAN['block']==True) | (iclabCLEAN['packet_updated']==True)) ]['site'])\n",
    "# len(blockTR)"
   ]
  },
  {
   "cell_type": "code",
   "execution_count": null,
   "metadata": {
    "colab": {},
    "colab_type": "code",
    "id": "rZpuj4cFJQ0s"
   },
   "outputs": [],
   "source": [
    "# blockNL = set(iclabCLEAN[(iclabCLEAN['country']=='NL') & ((iclabCLEAN['censored_updated']==True))]['site'])\n",
    "# len(blockNL)"
   ]
  },
  {
   "cell_type": "code",
   "execution_count": null,
   "metadata": {
    "colab": {},
    "colab_type": "code",
    "id": "SWZecsrjJQ0u"
   },
   "outputs": [],
   "source": [
    "# blockNZ = set(iclabCLEAN[(iclabCLEAN['country']=='NZ') & ((iclabCLEAN['censored_updated']==True))]['site'])\n",
    "# len(blockNZ)"
   ]
  },
  {
   "cell_type": "code",
   "execution_count": null,
   "metadata": {
    "colab": {},
    "colab_type": "code",
    "id": "CtufhA0zJQ0w"
   },
   "outputs": [],
   "source": [
    "# AU_NZ = blockNZ.intersection(blockAU)\n",
    "# len(AU_NZ)"
   ]
  },
  {
   "cell_type": "code",
   "execution_count": null,
   "metadata": {
    "colab": {},
    "colab_type": "code",
    "id": "1QNCpW5CJQ0x"
   },
   "outputs": [],
   "source": [
    "# blockMX = set(iclabCLEAN[(iclabCLEAN['country']=='MX') & ((iclabCLEAN['censored_updated']==True))]['site'])\n",
    "# len(blockMX)"
   ]
  },
  {
   "cell_type": "code",
   "execution_count": null,
   "metadata": {
    "colab": {},
    "colab_type": "code",
    "id": "Z0YMDZM2JQ0z"
   },
   "outputs": [],
   "source": [
    "# IN_RU = blockIN.intersection(blockRU)\n",
    "# (IN_RU)"
   ]
  },
  {
   "cell_type": "markdown",
   "metadata": {
    "colab_type": "text",
    "id": "cwq5yOYvJQ01"
   },
   "source": [
    "Intersections as per EXPERIMENT 2"
   ]
  },
  {
   "cell_type": "code",
   "execution_count": null,
   "metadata": {
    "colab": {},
    "colab_type": "code",
    "id": "DaQ3226CJQ01"
   },
   "outputs": [],
   "source": [
    "# RU_TR = blockRU.intersection(blockTR)"
   ]
  },
  {
   "cell_type": "code",
   "execution_count": null,
   "metadata": {
    "colab": {},
    "colab_type": "code",
    "id": "EaAHnkL_JQ03"
   },
   "outputs": [],
   "source": [
    "# BR_MX = blockMX.intersection(blockBR)"
   ]
  },
  {
   "cell_type": "code",
   "execution_count": null,
   "metadata": {
    "colab": {},
    "colab_type": "code",
    "id": "z47JHeTPJQ04"
   },
   "outputs": [],
   "source": [
    "# NL_TR = blockNL.intersection(blockTR)"
   ]
  },
  {
   "cell_type": "markdown",
   "metadata": {
    "colab_type": "text",
    "id": "ar_uOb9zJQ08"
   },
   "source": [
    "As part of Experiment 2 : \n",
    "(a) A look at censored FB Pages in India"
   ]
  },
  {
   "cell_type": "markdown",
   "metadata": {
    "colab_type": "text",
    "id": "v3qpfma3JQ08"
   },
   "source": [
    "Looking at worldwide distribution of FB blocking"
   ]
  },
  {
   "cell_type": "code",
   "execution_count": null,
   "metadata": {
    "colab": {},
    "colab_type": "code",
    "id": "4kysMUrdJQ08"
   },
   "outputs": [],
   "source": [
    "# iclabCLEAN[iclabCLEAN['url'].str.contains('facebook')].groupby('country').count()"
   ]
  },
  {
   "cell_type": "markdown",
   "metadata": {
    "colab_type": "text",
    "id": "dh8ynq1bJQ0-"
   },
   "source": [
    "Looking at FB pages censored in India"
   ]
  },
  {
   "cell_type": "code",
   "execution_count": null,
   "metadata": {
    "colab": {},
    "colab_type": "code",
    "id": "Nb_npH17JQ0-"
   },
   "outputs": [],
   "source": [
    "# fbIndBlock = set (iclabcombined [ ( (iclabcombined['block']== True) | (iclabcombined['censored_updated']== True) | (iclabcombined['packet_updated']== True) ) & (iclabcombined['url'].str.contains('facebook')) & (iclabcombined['country']=='IN') ]['url'])\n",
    "# fbIndBlock"
   ]
  },
  {
   "cell_type": "markdown",
   "metadata": {
    "colab_type": "text",
    "id": "9ErdMJwtJQ1B"
   },
   "source": [
    "(b) A look into religious censorship in the world"
   ]
  },
  {
   "cell_type": "code",
   "execution_count": null,
   "metadata": {
    "colab": {},
    "colab_type": "code",
    "id": "Ola8uwaFJQ1B"
   },
   "outputs": [],
   "source": [
    "# iclabCLEAN[ (iclabCLEAN['category'].isin(['Global Religion','Alternative Beliefs'])) & ( (iclabCLEAN['block']== True) | (iclabCLEAN['censored_updated'] == True) ) ].groupby(['country', 'site']).first()"
   ]
  },
  {
   "cell_type": "markdown",
   "metadata": {
    "colab_type": "text",
    "id": "U0IUy6TCJQ1D"
   },
   "source": [
    "## 3c. Experiment 3 (Important)\n",
    "*Defining a function which computes contribution of each category in a countries blocked sites*"
   ]
  },
  {
   "cell_type": "code",
   "execution_count": null,
   "metadata": {
    "colab": {},
    "colab_type": "code",
    "id": "LwZjRHH1JQ1D"
   },
   "outputs": [],
   "source": [
    "def Category_contributions(cc):\n",
    "    catDataCC = iclabcombined[(iclabcombined['country']==cc) & (iclabcombined['censored_updated']==True) ]\n",
    "    catDataCC= catDataCC.drop(['server_t', 'censored_updated','site','dns_all','packet_reason','url','dns','dns_reason','dns_reason_all','schedule_name','http_status','block','body_len','http_reason','packet_updated'], axis=1)\n",
    "    catDataCC = catDataCC.groupby('category').count()\n",
    "    catDataCC['%Cat'] = (catDataCC['country']*100)/(catDataCC['country'].sum())\n",
    "    catDataCC= catDataCC.reset_index().drop('country',axis=1)\n",
    "    catDataCC= catDataCC.rename(columns={'country':'Number of sites in' + str(cc),'%Cat':cc})\n",
    "    return catDataCC"
   ]
  },
  {
   "cell_type": "code",
   "execution_count": null,
   "metadata": {
    "colab": {},
    "colab_type": "code",
    "id": "x7bFbB9DJQ1F"
   },
   "outputs": [],
   "source": [
    "#Category_contributions('US')\n",
    "#Category_contributions('CA')"
   ]
  },
  {
   "cell_type": "code",
   "execution_count": null,
   "metadata": {
    "colab": {},
    "colab_type": "code",
    "id": "rjAzM0MuJQ1I"
   },
   "outputs": [],
   "source": [
    "# INplot = Category_contributions('IN')\n",
    "# display(INplot)\n",
    "# TRplot =Category_contributions('TR')\n",
    "# RUplot = Category_contributions('RU')\n",
    "# KRplot= Category_contributions('KR')\n",
    "# USplot = Category_contributions('US')\n",
    "# CNplot = Category_contributions('CN')\n",
    "# CAplot  = Category_contributions('CA')\n",
    "# ZAplot  = Category_contributions('ZA')"
   ]
  },
  {
   "cell_type": "markdown",
   "metadata": {
    "colab_type": "text",
    "id": "eFSOy3U3JQ1K"
   },
   "source": [
    " Plotting the graph below:"
   ]
  },
  {
   "cell_type": "code",
   "execution_count": null,
   "metadata": {
    "colab": {},
    "colab_type": "code",
    "id": "Lh5dyDvUJQ1K"
   },
   "outputs": [],
   "source": [
    "# graphcompare1 = pd.merge(INplot,TRplot, on='category', how='outer')\n",
    "# graphcompare2 = pd.merge(graphcompare1,KRplot, on='category', how='outer')\n",
    "# graphcompare3 = pd.merge(graphcompare2,RUplot, on='category', how='outer')\n",
    "# graphcompare4 = pd.merge(graphcompare3,USplot, on='category', how='outer')\n",
    "# graphcompare5 = pd.merge(graphcompare4,CNplot, on='category', how='outer')"
   ]
  },
  {
   "cell_type": "code",
   "execution_count": null,
   "metadata": {
    "colab": {},
    "colab_type": "code",
    "id": "XJJkFBz5JQ1M"
   },
   "outputs": [],
   "source": [
    "# # set width of bar\n",
    "# barWidth = 0.15\n",
    " \n",
    "# # set height of bar\n",
    "# TR = graphcompare3['TR']\n",
    "# RU = graphcompare3['RU']\n",
    "# IN = graphcompare3['IN']\n",
    "# KR = graphcompare3['KR']\n",
    " \n",
    "# # Set position of bar on X axis\n",
    "# r1 = np.arange(len(TR))\n",
    "# r2 = [x + barWidth for x in r1]\n",
    "# r3 = [x + barWidth for x in r2]\n",
    "# r4 = [x + barWidth for x in r3]\n",
    " \n",
    "# # Make the plot\n",
    "# plt.figure(figsize = (20,12))\n",
    "# plt.bar(r1, TR, color='green', width=barWidth, edgecolor='dimgrey', label='Turkey')\n",
    "# plt.bar(r2, RU, color='red', width=barWidth ,  edgecolor='dimgrey',label='RU')\n",
    "# plt.bar(r3, IN, color='blue', width=barWidth,  edgecolor='dimgrey',label='India')\n",
    "# plt.bar(r4, KR, color='darkorange', width=barWidth,  edgecolor= 'dimgrey',label='South Korea') \n",
    "\n",
    "# # Add xticks on the middle of the group bars\n",
    "# plt.ylabel(\"Percentage\", size=15)\n",
    "# plt.ylim(0,100)\n",
    "# plt.xticks([r for r in range(len(TR))], graphcompare3['category'].tolist() ,rotation=-90, size=16)\n",
    "\n",
    "# # Create legend & Show graphic\n",
    "# plt.legend(loc = 'upper left', fontsize = 15)\n",
    "# plt.title(\"\\n Category-wise blocking in countries \\n\", size = 15)\n",
    "# plt.show()"
   ]
  },
  {
   "cell_type": "markdown",
   "metadata": {
    "colab_type": "text",
    "id": "r8PAyK3xJQ1N"
   },
   "source": [
    "Showing a few sample metrics"
   ]
  },
  {
   "cell_type": "code",
   "execution_count": null,
   "metadata": {
    "colab": {},
    "colab_type": "code",
    "id": "Qv6OIUGFJQ1N"
   },
   "outputs": [],
   "source": [
    "# graphcompare5.fillna(0,inplace=True)\n",
    "\n",
    "# KRvals = graphcompare5['KR']\n",
    "# RUvals = graphcompare5['RU']\n",
    "# INvals = graphcompare5['IN']\n",
    "# TRvals = graphcompare5['TR']"
   ]
  },
  {
   "cell_type": "code",
   "execution_count": null,
   "metadata": {
    "colab": {},
    "colab_type": "code",
    "id": "FwvtiJXKJQ1Q"
   },
   "outputs": [],
   "source": [
    "# KRsimilarityRU = (1 - spatial.distance.cosine(KRvals, RUvals))*100\n",
    "# print(KRsimilarityRU)\n",
    "\n",
    "# INsimilarityTR = (1 - spatial.distance.cosine(INvals, TRvals))*100\n",
    "# print(INsimilarityTR)\n",
    "\n",
    "# INsimilarityKR = (1 - spatial.distance.cosine(INvals, KRvals))*100\n",
    "# print(INsimilarityKR)\n",
    "\n",
    "# INsimilarityRU = (1 - spatial.distance.cosine(INvals, RUvals))*100\n",
    "# print(INsimilarityRU)\n",
    "\n",
    "# KRsimilarityTR = (1 - spatial.distance.cosine(KRvals, TRvals))*100\n",
    "# print(KRsimilarityTR)\n",
    "\n",
    "# RUsimilarityTR = (1 - spatial.distance.cosine(RUvals, TRvals))*100\n",
    "# print(RUsimilarityTR)"
   ]
  },
  {
   "cell_type": "markdown",
   "metadata": {
    "colab_type": "text",
    "id": "Rl4-MRMgJQ1k"
   },
   "source": [
    "******************\n",
    "# 4. ***`SIMILARITY METRIC DF FOR ALL COUNTRIES`***\n",
    "******************"
   ]
  },
  {
   "cell_type": "markdown",
   "metadata": {
    "colab_type": "text",
    "id": "5SBW-hF_XIOv"
   },
   "source": [
    "## 4a. Proxy 1"
   ]
  },
  {
   "cell_type": "code",
   "execution_count": null,
   "metadata": {
    "colab": {
     "base_uri": "https://localhost:8080/",
     "height": 35
    },
    "colab_type": "code",
    "id": "MgGtSoTxJQ1l",
    "outputId": "99742bf0-ec45-4a14-ad77-0aabaa28a023"
   },
   "outputs": [
    {
     "name": "stdout",
     "output_type": "stream",
     "text": [
      "The total countries we have in our clean dataset are 55\n"
     ]
    }
   ],
   "source": [
    "allCountries = (iclabcombined['country'].unique())\n",
    "print(\"The total countries we have in our clean dataset are {}\".format(len(allCountries)))"
   ]
  },
  {
   "cell_type": "code",
   "execution_count": null,
   "metadata": {
    "colab": {
     "base_uri": "https://localhost:8080/",
     "height": 35
    },
    "colab_type": "code",
    "id": "FhTJ0GL9JQ1m",
    "outputId": "09203ff5-a56e-42b9-f405-38a3645a61e4"
   },
   "outputs": [
    {
     "name": "stdout",
     "output_type": "stream",
     "text": [
      "The total unique categories we have in our clean dataset are 73\n"
     ]
    }
   ],
   "source": [
    "allCategories = (iclabcombined['category'].unique())\n",
    "print(\"The total unique categories we have in our clean dataset are {}\".format(len(allCategories)))"
   ]
  },
  {
   "cell_type": "code",
   "execution_count": null,
   "metadata": {
    "colab": {},
    "colab_type": "code",
    "id": "e56lnrnTJQ1o"
   },
   "outputs": [],
   "source": [
    "simMetricDF = pd.DataFrame(index = allCategories, columns=None)"
   ]
  },
  {
   "cell_type": "code",
   "execution_count": null,
   "metadata": {
    "colab": {
     "base_uri": "https://localhost:8080/",
     "height": 204
    },
    "colab_type": "code",
    "id": "EweJ1Fg9JQ1p",
    "outputId": "ae58ffd4-0f4f-4bbf-8325-63826b573b74"
   },
   "outputs": [
    {
     "data": {
      "text/html": [
       "<div>\n",
       "<style scoped>\n",
       "    .dataframe tbody tr th:only-of-type {\n",
       "        vertical-align: middle;\n",
       "    }\n",
       "\n",
       "    .dataframe tbody tr th {\n",
       "        vertical-align: top;\n",
       "    }\n",
       "\n",
       "    .dataframe thead th {\n",
       "        text-align: right;\n",
       "    }\n",
       "</style>\n",
       "<table border=\"1\" class=\"dataframe\">\n",
       "  <thead>\n",
       "    <tr style=\"text-align: right;\">\n",
       "      <th></th>\n",
       "      <th>category</th>\n",
       "      <th>dummy</th>\n",
       "    </tr>\n",
       "  </thead>\n",
       "  <tbody>\n",
       "    <tr>\n",
       "      <th>0</th>\n",
       "      <td>File Sharing and Storage</td>\n",
       "      <td>NaN</td>\n",
       "    </tr>\n",
       "    <tr>\n",
       "      <th>1</th>\n",
       "      <td>Reference</td>\n",
       "      <td>NaN</td>\n",
       "    </tr>\n",
       "    <tr>\n",
       "      <th>2</th>\n",
       "      <td>Information Technology</td>\n",
       "      <td>NaN</td>\n",
       "    </tr>\n",
       "    <tr>\n",
       "      <th>3</th>\n",
       "      <td>Instant Messaging</td>\n",
       "      <td>NaN</td>\n",
       "    </tr>\n",
       "    <tr>\n",
       "      <th>4</th>\n",
       "      <td>News and Media</td>\n",
       "      <td>NaN</td>\n",
       "    </tr>\n",
       "  </tbody>\n",
       "</table>\n",
       "</div>"
      ],
      "text/plain": [
       "                   category  dummy\n",
       "0  File Sharing and Storage    NaN\n",
       "1                 Reference    NaN\n",
       "2    Information Technology    NaN\n",
       "3         Instant Messaging    NaN\n",
       "4            News and Media    NaN"
      ]
     },
     "execution_count": 20,
     "metadata": {
      "tags": []
     },
     "output_type": "execute_result"
    }
   ],
   "source": [
    "simMetricDF['dummy']= pd.Series(np.zeros(len(simMetricDF)))\n",
    "simMetricDF.reset_index(inplace=True)\n",
    "simMetricDF.rename(columns={'index':'category'},inplace=True)\n",
    "simMetricDF.head()"
   ]
  },
  {
   "cell_type": "code",
   "execution_count": null,
   "metadata": {
    "colab": {},
    "colab_type": "code",
    "id": "BfbaQNJ3JQ1r"
   },
   "outputs": [],
   "source": [
    "for country in allCountries:\n",
    "    simMetricDF = pd.merge(simMetricDF,Category_contributions(country), on= 'category', how='outer')"
   ]
  },
  {
   "cell_type": "code",
   "execution_count": null,
   "metadata": {
    "colab": {},
    "colab_type": "code",
    "id": "rvU1UWESJQ1s"
   },
   "outputs": [],
   "source": [
    "simMetricDF.set_index('category',inplace = True)"
   ]
  },
  {
   "cell_type": "code",
   "execution_count": null,
   "metadata": {
    "colab": {},
    "colab_type": "code",
    "id": "4fMk9IAkJQ1t"
   },
   "outputs": [],
   "source": [
    "#REPLACING NaN's with 0\n",
    "simMetricDF.fillna(0,inplace=True)"
   ]
  },
  {
   "cell_type": "code",
   "execution_count": null,
   "metadata": {
    "colab": {},
    "colab_type": "code",
    "id": "MhvHOH-gJQ1u"
   },
   "outputs": [],
   "source": [
    "simMetricDF.drop(\"dummy\",axis=1,inplace = True)"
   ]
  },
  {
   "cell_type": "code",
   "execution_count": null,
   "metadata": {
    "colab": {},
    "colab_type": "code",
    "id": "cD1-c3FrJQ1v"
   },
   "outputs": [],
   "source": [
    "simMetricDF.head()"
   ]
  },
  {
   "cell_type": "code",
   "execution_count": null,
   "metadata": {
    "colab": {},
    "colab_type": "code",
    "id": "7WfVMnotJQ1x"
   },
   "outputs": [],
   "source": [
    "countryList =  allCountries.tolist()\n",
    "numCatBlock = []"
   ]
  },
  {
   "cell_type": "code",
   "execution_count": null,
   "metadata": {
    "colab": {},
    "colab_type": "code",
    "id": "wi_tcC7sJQ1y"
   },
   "outputs": [],
   "source": [
    "for item in countryList:\n",
    "    numCatBlock.append(len(simMetricDF[simMetricDF[item]!=0]))"
   ]
  },
  {
   "cell_type": "code",
   "execution_count": null,
   "metadata": {
    "colab": {},
    "colab_type": "code",
    "id": "KExj7Ma-JQ1z"
   },
   "outputs": [],
   "source": [
    "tempDF = pd.DataFrame(index=countryList)\n",
    "tempDF['numCatBlock'] =numCatBlock\n",
    "tempDF = tempDF.sort_values(by='numCatBlock',ascending = False)"
   ]
  },
  {
   "cell_type": "code",
   "execution_count": null,
   "metadata": {
    "colab": {
     "base_uri": "https://localhost:8080/",
     "height": 35
    },
    "colab_type": "code",
    "id": "0MHEiEemJQ12",
    "outputId": "13afc308-af48-4edc-8a79-7f92a1974c7e"
   },
   "outputs": [
    {
     "name": "stdout",
     "output_type": "stream",
     "text": [
      "We have 55 unique countries\n"
     ]
    }
   ],
   "source": [
    "#Getting all columns i.e. countries\n",
    "simCols=[]\n",
    "for i in range(len(simMetricDF.columns)):\n",
    "    simCols.append(simMetricDF.columns[i])\n",
    "print(\"We have {} unique countries\".format(len(simCols)))"
   ]
  },
  {
   "cell_type": "code",
   "execution_count": null,
   "metadata": {
    "colab": {
     "base_uri": "https://localhost:8080/",
     "height": 35
    },
    "colab_type": "code",
    "id": "ZIRh_w6mJQ14",
    "outputId": "50db8986-194a-476e-a9c2-0354c0771209"
   },
   "outputs": [
    {
     "name": "stdout",
     "output_type": "stream",
     "text": [
      "We have 1485 unique pairs from these countries including dummy\n"
     ]
    }
   ],
   "source": [
    "#Creating pairs to do calculation of spatial distance\n",
    "from itertools import combinations\n",
    "pairs = [comb for comb in sorted(combinations(simCols, 2))]\n",
    "print(\"We have {} unique pairs from these countries including dummy\".format(len(pairs)))"
   ]
  },
  {
   "cell_type": "code",
   "execution_count": null,
   "metadata": {
    "colab": {
     "base_uri": "https://localhost:8080/",
     "height": 53
    },
    "colab_type": "code",
    "id": "pKS5fVC9JQ15",
    "outputId": "787c1340-17d8-4386-d351-654edc56dd07"
   },
   "outputs": [
    {
     "name": "stdout",
     "output_type": "stream",
     "text": [
      " **** Similarity is 0.4828392733242386 ****\n",
      " **** Similarity is 0.4783742057862431 ****\n"
     ]
    }
   ],
   "source": [
    "#Both vectors are non zeroes\n",
    "print(\" **** Similarity is {} ****\".format(1-(spatial.distance.cosine(simMetricDF['AU'], simMetricDF['IN']))))\n",
    "\n",
    "# When even one vector is completeley a zero vector\n",
    "print(\" **** Similarity is {} ****\".format(1-(spatial.distance.cosine(simMetricDF['US'], simMetricDF['IN']))))"
   ]
  },
  {
   "cell_type": "code",
   "execution_count": null,
   "metadata": {
    "colab": {},
    "colab_type": "code",
    "id": "Te_cnhVHJQ17"
   },
   "outputs": [],
   "source": [
    "#NewSimVal will store the similarity value calculated from the spatial cosine distance formula\n",
    "\n",
    "NewSimVals = []\n",
    "for item in pairs:\n",
    "    if (np.sum(simMetricDF[item[0]]) == 0) & (np.sum(simMetricDF[item[1]]) ==0):\n",
    "        NewSimVals.append((item,1))\n",
    "    elif (np.sum(simMetricDF[item[0]]) == 0) | (np.sum(simMetricDF[item[1]]) ==0):\n",
    "        NewSimVals.append((item,0))\n",
    "    else :\n",
    "        NewSimVals.append((item,(1 - spatial.distance.cosine(simMetricDF[item[0]], simMetricDF[item[1]]))))"
   ]
  },
  {
   "cell_type": "code",
   "execution_count": null,
   "metadata": {
    "colab": {},
    "colab_type": "code",
    "id": "Isr5ZalUJQ18"
   },
   "outputs": [],
   "source": [
    "simMetricVals = pd.DataFrame(index=pairs, columns = None )\n",
    "simMetricVals['similarity'] = [j for (i,j) in NewSimVals]\n",
    "simMetricVals.reset_index(inplace=True)\n",
    "simMetricVals.rename(columns={'index':'pair'},inplace=True)\n",
    "simMetricVals[['country_code_alpha2_A', 'country_code_alpha2_B']] = pd.DataFrame(simMetricVals['pair'].tolist(), index=simMetricVals.index)\n",
    "simMetricVals = simMetricVals[['pair','country_code_alpha2_A','country_code_alpha2_B','similarity']]\n",
    "simMetricVals.head()"
   ]
  },
  {
   "cell_type": "code",
   "execution_count": null,
   "metadata": {
    "colab": {
     "base_uri": "https://localhost:8080/",
     "height": 433
    },
    "colab_type": "code",
    "id": "tCDXAKldJQ1-",
    "outputId": "b390fb29-2a19-44dc-8b15-6bfb4a33eabf"
   },
   "outputs": [
    {
     "data": {
      "image/png": "[encoded data removed]",
      "text/plain": [
       "<Figure size 640x480 with 1 Axes>"
      ]
     },
     "metadata": {
      "tags": []
     },
     "output_type": "display_data"
    }
   ],
   "source": [
    "simMetricVals['similarity'].plot.hist()\n",
    "plt.show()"
   ]
  },
  {
   "cell_type": "code",
   "execution_count": null,
   "metadata": {
    "colab": {},
    "colab_type": "code",
    "id": "_c5sHmihJQ1_"
   },
   "outputs": [],
   "source": [
    "# #Pickling the simMetricVals data set\n",
    "#simMetricVals.to_pickle(\"simMetricVals.pkl\")"
   ]
  },
  {
   "cell_type": "markdown",
   "metadata": {
    "colab_type": "text",
    "id": "ixUEoPHaJQ2C"
   },
   "source": [
    "## 4b. Proxy 2: Proportion of blocking events\n",
    "\n",
    "While our first metric (above) gives us a good sense of blocking overlaps,\n",
    "it fails to show us variation in the *volume* of blocking. Some countries have more blocking than others. We want to account for that.\n",
    "\n",
    "We'll measure the volume of blocking in each country. We'll do that by measuring, for each country, the *proportion* of observations where `censored=True`."
   ]
  },
  {
   "cell_type": "markdown",
   "metadata": {
    "colab_type": "text",
    "id": "99rJEuAqZ4sj"
   },
   "source": [
    "Reading simMetricVals from pickle\n",
    "\n"
   ]
  },
  {
   "cell_type": "code",
   "execution_count": null,
   "metadata": {
    "colab": {},
    "colab_type": "code",
    "id": "fA2fIz4GZ-Du"
   },
   "outputs": [],
   "source": [
    "simMetricVals = pd.read_pickle(\"simMetricVals.pkl\")"
   ]
  },
  {
   "cell_type": "markdown",
   "metadata": {
    "colab_type": "text",
    "id": "W1v9PotUJQ2C"
   },
   "source": [
    "**Calculating for number of sites blocked in each country**"
   ]
  },
  {
   "cell_type": "code",
   "execution_count": null,
   "metadata": {
    "colab": {},
    "colab_type": "code",
    "id": "gsRa6T47JQ2C"
   },
   "outputs": [],
   "source": [
    "NumSitesBlocked = iclabcombined.loc[(iclabcombined['censored_updated']==True),['site','country']].sort_values(by='country',ascending = False)"
   ]
  },
  {
   "cell_type": "code",
   "execution_count": null,
   "metadata": {
    "colab": {},
    "colab_type": "code",
    "id": "g5TVMxfBJQ2D"
   },
   "outputs": [],
   "source": [
    "total_observations_by_country = iclabcombined.groupby('country').count()"
   ]
  },
  {
   "cell_type": "code",
   "execution_count": null,
   "metadata": {
    "colab": {},
    "colab_type": "code",
    "id": "3YWogYyAJQ2E"
   },
   "outputs": [],
   "source": [
    "total_blocked_observations_by_country = iclabcombined[iclabcombined['censored_updated']==True].groupby('country').count()"
   ]
  },
  {
   "cell_type": "code",
   "execution_count": null,
   "metadata": {
    "colab": {},
    "colab_type": "code",
    "id": "z2bEKxrwJQ2F",
    "scrolled": true
   },
   "outputs": [],
   "source": [
    "dummy_column_for_counting = 'dns'\n",
    "\n",
    "def as_single_column (df):\n",
    "    return df[[dummy_column_for_counting]]\n",
    "\n",
    "def proportion (row):\n",
    "    blocked = row[dummy_column_for_counting+'_blocked']\n",
    "    total = row[dummy_column_for_counting+'_total']\n",
    "    return blocked / total\n",
    "\n",
    "\n",
    "blocking_proporitons =\\\n",
    "as_single_column(total_blocked_observations_by_country)\\\n",
    "    .merge(as_single_column(total_observations_by_country),\n",
    "           on='country', suffixes=('_blocked', '_total'))\\\n",
    "    .apply(proportion, axis=1)\n",
    "\n",
    "blocking_proporitons"
   ]
  },
  {
   "cell_type": "markdown",
   "metadata": {
    "colab_type": "text",
    "id": "NWcWeQScJQ2G"
   },
   "source": [
    "Now we can compute the similarity in proportions between two countries."
   ]
  },
  {
   "cell_type": "code",
   "execution_count": null,
   "metadata": {
    "colab": {},
    "colab_type": "code",
    "id": "GaegmRaLJQ2H"
   },
   "outputs": [],
   "source": [
    "def get_proportion (cc2):\n",
    "    # try to retrieve it\n",
    "    try:\n",
    "        return blocking_proporitons[cc2]\n",
    "    # if we don't have data on it\n",
    "    except KeyError:\n",
    "        # treat it as 0\n",
    "        return 0\n",
    "\n",
    "def compute_similarity(proportion1, proportion2):\n",
    "    # keep it simple....\n",
    "    # minimum and maximum values will still be 0 and 1, since we're dealing with proportions.\n",
    "    return 1 - abs(proportion1 - proportion2)\n",
    "\n",
    "CountSimilarity = []\n",
    "for item in pairs:\n",
    "    (country1, country2) = item\n",
    "    similarity = compute_similarity(get_proportion(country1), get_proportion(country2))\n",
    "    CountSimilarity.append((item, similarity))"
   ]
  },
  {
   "cell_type": "code",
   "execution_count": null,
   "metadata": {
    "colab": {
     "base_uri": "https://localhost:8080/",
     "height": 419
    },
    "colab_type": "code",
    "id": "K53oGq6PJQ2I",
    "outputId": "eda8c07c-9cf4-4f2d-bede-203d24f02b60"
   },
   "outputs": [
    {
     "data": {
      "text/html": [
       "<div>\n",
       "<style scoped>\n",
       "    .dataframe tbody tr th:only-of-type {\n",
       "        vertical-align: middle;\n",
       "    }\n",
       "\n",
       "    .dataframe tbody tr th {\n",
       "        vertical-align: top;\n",
       "    }\n",
       "\n",
       "    .dataframe thead th {\n",
       "        text-align: right;\n",
       "    }\n",
       "</style>\n",
       "<table border=\"1\" class=\"dataframe\">\n",
       "  <thead>\n",
       "    <tr style=\"text-align: right;\">\n",
       "      <th></th>\n",
       "      <th>pair</th>\n",
       "      <th>proportion-similarity</th>\n",
       "    </tr>\n",
       "  </thead>\n",
       "  <tbody>\n",
       "    <tr>\n",
       "      <th>0</th>\n",
       "      <td>(AD, AT)</td>\n",
       "      <td>0.999027</td>\n",
       "    </tr>\n",
       "    <tr>\n",
       "      <th>1</th>\n",
       "      <td>(AD, BE)</td>\n",
       "      <td>0.999367</td>\n",
       "    </tr>\n",
       "    <tr>\n",
       "      <th>2</th>\n",
       "      <td>(AD, BR)</td>\n",
       "      <td>0.998432</td>\n",
       "    </tr>\n",
       "    <tr>\n",
       "      <th>3</th>\n",
       "      <td>(AD, CA)</td>\n",
       "      <td>0.999622</td>\n",
       "    </tr>\n",
       "    <tr>\n",
       "      <th>4</th>\n",
       "      <td>(AD, CR)</td>\n",
       "      <td>NaN</td>\n",
       "    </tr>\n",
       "    <tr>\n",
       "      <th>...</th>\n",
       "      <td>...</td>\n",
       "      <td>...</td>\n",
       "    </tr>\n",
       "    <tr>\n",
       "      <th>1480</th>\n",
       "      <td>(ZA, SG)</td>\n",
       "      <td>0.999872</td>\n",
       "    </tr>\n",
       "    <tr>\n",
       "      <th>1481</th>\n",
       "      <td>(ZA, SK)</td>\n",
       "      <td>0.999836</td>\n",
       "    </tr>\n",
       "    <tr>\n",
       "      <th>1482</th>\n",
       "      <td>(ZA, TR)</td>\n",
       "      <td>0.978623</td>\n",
       "    </tr>\n",
       "    <tr>\n",
       "      <th>1483</th>\n",
       "      <td>(ZA, TW)</td>\n",
       "      <td>0.997475</td>\n",
       "    </tr>\n",
       "    <tr>\n",
       "      <th>1484</th>\n",
       "      <td>(ZA, VE)</td>\n",
       "      <td>0.998201</td>\n",
       "    </tr>\n",
       "  </tbody>\n",
       "</table>\n",
       "<p>1485 rows × 2 columns</p>\n",
       "</div>"
      ],
      "text/plain": [
       "          pair  proportion-similarity\n",
       "0     (AD, AT)               0.999027\n",
       "1     (AD, BE)               0.999367\n",
       "2     (AD, BR)               0.998432\n",
       "3     (AD, CA)               0.999622\n",
       "4     (AD, CR)                    NaN\n",
       "...        ...                    ...\n",
       "1480  (ZA, SG)               0.999872\n",
       "1481  (ZA, SK)               0.999836\n",
       "1482  (ZA, TR)               0.978623\n",
       "1483  (ZA, TW)               0.997475\n",
       "1484  (ZA, VE)               0.998201\n",
       "\n",
       "[1485 rows x 2 columns]"
      ]
     },
     "execution_count": 38,
     "metadata": {
      "tags": []
     },
     "output_type": "execute_result"
    }
   ],
   "source": [
    "blocking_proportion_similarities =\\\n",
    "pd.DataFrame(CountSimilarity, columns=[\n",
    "    'pair',\n",
    "    'proportion-similarity'\n",
    "])\n",
    "blocking_proportion_similarities"
   ]
  },
  {
   "cell_type": "code",
   "execution_count": null,
   "metadata": {
    "colab": {
     "base_uri": "https://localhost:8080/",
     "height": 430
    },
    "colab_type": "code",
    "id": "z2Ss0C3cJQ2J",
    "outputId": "f7bb8398-01f7-4b60-bbb8-281969871707"
   },
   "outputs": [
    {
     "data": {
      "image/png": "[encoded data removed]",
      "text/plain": [
       "<Figure size 640x480 with 1 Axes>"
      ]
     },
     "metadata": {
      "tags": []
     },
     "output_type": "display_data"
    }
   ],
   "source": [
    "blocking_proportion_similarities['proportion-similarity'].plot.hist()\n",
    "plt.show()"
   ]
  },
  {
   "cell_type": "markdown",
   "metadata": {
    "colab_type": "text",
    "id": "CmUTyPdsJQ2L"
   },
   "source": [
    "Not much variation here. That's okay. We'll just min-max normalize it."
   ]
  },
  {
   "cell_type": "code",
   "execution_count": null,
   "metadata": {
    "colab": {
     "base_uri": "https://localhost:8080/",
     "height": 430
    },
    "colab_type": "code",
    "id": "YoOErubFJQ2L",
    "outputId": "079ab4e7-815b-4a51-f2ae-6a851bb8f40b"
   },
   "outputs": [
    {
     "data": {
      "image/png": "[encoded data removed]",
      "text/plain": [
       "<Figure size 640x480 with 1 Axes>"
      ]
     },
     "metadata": {
      "tags": []
     },
     "output_type": "display_data"
    }
   ],
   "source": [
    "def min_max_norm(series):\n",
    "    return (series-series.min())/(series.max()-series.min())\n",
    "\n",
    "blocking_proportion_similarities['proportion-similarity-normalized'] = \\\n",
    "    min_max_norm(blocking_proportion_similarities['proportion-similarity'])\n",
    "blocking_proportion_similarities['proportion-similarity-normalized'].plot.hist()\n",
    "\n",
    "plt.show()"
   ]
  },
  {
   "cell_type": "markdown",
   "metadata": {
    "colab_type": "text",
    "id": "cqW0CImEJQ2M"
   },
   "source": [
    "## 4c. Merging these two"
   ]
  },
  {
   "cell_type": "code",
   "execution_count": null,
   "metadata": {
    "colab": {
     "base_uri": "https://localhost:8080/",
     "height": 419
    },
    "colab_type": "code",
    "id": "79FDP7bEJQ2N",
    "outputId": "62c82a6a-6b67-498d-b04b-dcabec223505"
   },
   "outputs": [
    {
     "data": {
      "text/html": [
       "<div>\n",
       "<style scoped>\n",
       "    .dataframe tbody tr th:only-of-type {\n",
       "        vertical-align: middle;\n",
       "    }\n",
       "\n",
       "    .dataframe tbody tr th {\n",
       "        vertical-align: top;\n",
       "    }\n",
       "\n",
       "    .dataframe thead th {\n",
       "        text-align: right;\n",
       "    }\n",
       "</style>\n",
       "<table border=\"1\" class=\"dataframe\">\n",
       "  <thead>\n",
       "    <tr style=\"text-align: right;\">\n",
       "      <th></th>\n",
       "      <th>pair</th>\n",
       "      <th>country_code_alpha2_A</th>\n",
       "      <th>country_code_alpha2_B</th>\n",
       "      <th>Censored_Category_Similarity</th>\n",
       "      <th>proportion-similarity</th>\n",
       "      <th>Blocking_Proportion_Similarity</th>\n",
       "      <th>Overall_Similarity</th>\n",
       "    </tr>\n",
       "  </thead>\n",
       "  <tbody>\n",
       "    <tr>\n",
       "      <th>308</th>\n",
       "      <td>(CO, PE)</td>\n",
       "      <td>CO</td>\n",
       "      <td>PE</td>\n",
       "      <td>0.998878</td>\n",
       "      <td>0.999969</td>\n",
       "      <td>0.999710</td>\n",
       "      <td>0.999294</td>\n",
       "    </tr>\n",
       "    <tr>\n",
       "      <th>434</th>\n",
       "      <td>(FR, LU)</td>\n",
       "      <td>FR</td>\n",
       "      <td>LU</td>\n",
       "      <td>0.998524</td>\n",
       "      <td>0.999941</td>\n",
       "      <td>0.999442</td>\n",
       "      <td>0.998983</td>\n",
       "    </tr>\n",
       "    <tr>\n",
       "      <th>1188</th>\n",
       "      <td>(SE, NO)</td>\n",
       "      <td>SE</td>\n",
       "      <td>NO</td>\n",
       "      <td>0.998203</td>\n",
       "      <td>0.999972</td>\n",
       "      <td>0.999736</td>\n",
       "      <td>0.998970</td>\n",
       "    </tr>\n",
       "    <tr>\n",
       "      <th>515</th>\n",
       "      <td>(HU, MD)</td>\n",
       "      <td>HU</td>\n",
       "      <td>MD</td>\n",
       "      <td>0.998071</td>\n",
       "      <td>0.999923</td>\n",
       "      <td>0.999275</td>\n",
       "      <td>0.998673</td>\n",
       "    </tr>\n",
       "    <tr>\n",
       "      <th>807</th>\n",
       "      <td>(LU, DK)</td>\n",
       "      <td>LU</td>\n",
       "      <td>DK</td>\n",
       "      <td>0.998202</td>\n",
       "      <td>0.999894</td>\n",
       "      <td>0.998990</td>\n",
       "      <td>0.998596</td>\n",
       "    </tr>\n",
       "    <tr>\n",
       "      <th>...</th>\n",
       "      <td>...</td>\n",
       "      <td>...</td>\n",
       "      <td>...</td>\n",
       "      <td>...</td>\n",
       "      <td>...</td>\n",
       "      <td>...</td>\n",
       "      <td>...</td>\n",
       "    </tr>\n",
       "    <tr>\n",
       "      <th>1404</th>\n",
       "      <td>(VE, GR)</td>\n",
       "      <td>VE</td>\n",
       "      <td>GR</td>\n",
       "      <td>0.039273</td>\n",
       "      <td>NaN</td>\n",
       "      <td>NaN</td>\n",
       "      <td>NaN</td>\n",
       "    </tr>\n",
       "    <tr>\n",
       "      <th>1419</th>\n",
       "      <td>(VN, CR)</td>\n",
       "      <td>VN</td>\n",
       "      <td>CR</td>\n",
       "      <td>0.660093</td>\n",
       "      <td>NaN</td>\n",
       "      <td>NaN</td>\n",
       "      <td>NaN</td>\n",
       "    </tr>\n",
       "    <tr>\n",
       "      <th>1425</th>\n",
       "      <td>(VN, GR)</td>\n",
       "      <td>VN</td>\n",
       "      <td>GR</td>\n",
       "      <td>0.839777</td>\n",
       "      <td>NaN</td>\n",
       "      <td>NaN</td>\n",
       "      <td>NaN</td>\n",
       "    </tr>\n",
       "    <tr>\n",
       "      <th>1459</th>\n",
       "      <td>(ZA, CR)</td>\n",
       "      <td>ZA</td>\n",
       "      <td>CR</td>\n",
       "      <td>0.909832</td>\n",
       "      <td>NaN</td>\n",
       "      <td>NaN</td>\n",
       "      <td>NaN</td>\n",
       "    </tr>\n",
       "    <tr>\n",
       "      <th>1464</th>\n",
       "      <td>(ZA, GR)</td>\n",
       "      <td>ZA</td>\n",
       "      <td>GR</td>\n",
       "      <td>0.937372</td>\n",
       "      <td>NaN</td>\n",
       "      <td>NaN</td>\n",
       "      <td>NaN</td>\n",
       "    </tr>\n",
       "  </tbody>\n",
       "</table>\n",
       "<p>1485 rows × 7 columns</p>\n",
       "</div>"
      ],
      "text/plain": [
       "          pair  ... Overall_Similarity\n",
       "308   (CO, PE)  ...           0.999294\n",
       "434   (FR, LU)  ...           0.998983\n",
       "1188  (SE, NO)  ...           0.998970\n",
       "515   (HU, MD)  ...           0.998673\n",
       "807   (LU, DK)  ...           0.998596\n",
       "...        ...  ...                ...\n",
       "1404  (VE, GR)  ...                NaN\n",
       "1419  (VN, CR)  ...                NaN\n",
       "1425  (VN, GR)  ...                NaN\n",
       "1459  (ZA, CR)  ...                NaN\n",
       "1464  (ZA, GR)  ...                NaN\n",
       "\n",
       "[1485 rows x 7 columns]"
      ]
     },
     "execution_count": 41,
     "metadata": {
      "tags": []
     },
     "output_type": "execute_result"
    }
   ],
   "source": [
    "MetricDF = pd.merge(simMetricVals,blocking_proportion_similarities,on='pair',how='outer')\n",
    "MetricDF = MetricDF.rename(columns={\n",
    "    'similarity':'Censored_Category_Similarity',\n",
    "    'proportion-similarity-normalized':'Blocking_Proportion_Similarity',\n",
    "})\n",
    "MetricDF['Overall_Similarity'] = (MetricDF['Censored_Category_Similarity']+ MetricDF['Blocking_Proportion_Similarity'])/2\n",
    "MetricDF = MetricDF.sort_values(by='Overall_Similarity',ascending=False)\n",
    "MetricDF"
   ]
  },
  {
   "cell_type": "code",
   "execution_count": null,
   "metadata": {
    "colab": {
     "base_uri": "https://localhost:8080/",
     "height": 430
    },
    "colab_type": "code",
    "id": "UUyXMrogJQ2O",
    "outputId": "2de562b1-3659-4552-a6b4-e45b585a592e"
   },
   "outputs": [
    {
     "data": {
      "image/png": "[encoded data removed]",
      "text/plain": [
       "<Figure size 640x480 with 1 Axes>"
      ]
     },
     "metadata": {
      "tags": []
     },
     "output_type": "display_data"
    }
   ],
   "source": [
    "MetricDF['Overall_Similarity'].plot.hist()\n",
    "plt.show()"
   ]
  },
  {
   "cell_type": "markdown",
   "metadata": {
    "colab_type": "text",
    "id": "oulDO8c0JQ2Q"
   },
   "source": [
    "WOW! Great variation!  Let's normalize it just to pump it a bit."
   ]
  },
  {
   "cell_type": "code",
   "execution_count": null,
   "metadata": {
    "colab": {},
    "colab_type": "code",
    "id": "H7dojnOnJQ2R"
   },
   "outputs": [],
   "source": [
    "PercentGroup = MetricDF.Overall_Similarity.apply (lambda \n",
    "                                              x : 90 if (x>=90) \n",
    "                                              else (80 if (x>=80 and x<90)\n",
    "                                                    else (70 if (x>=70 and x<80) \n",
    "                                                          else (60 if (x>=60 and x<70) \n",
    "                                                                else (50 if (x>=50 and x<60) \n",
    "                                                                      else (40 if (x>=40 and x<50) \n",
    "                                                                            else (30 if (x>=30 and x<40) \n",
    "                                                                                  else (20 if (x>=20 and x<30) \n",
    "                                                                                        else (10 if (x>=10 and x<20) \n",
    "                                                                                              else 0)  ) )  ) )) )))\n",
    "                                              \n",
    "                                               "
   ]
  },
  {
   "cell_type": "code",
   "execution_count": null,
   "metadata": {
    "colab": {},
    "colab_type": "code",
    "id": "pHDfjVhkJQ2S"
   },
   "outputs": [],
   "source": [
    "MetricDF['PercentRangeGroup'] = PercentGroup"
   ]
  },
  {
   "cell_type": "code",
   "execution_count": null,
   "metadata": {
    "colab": {},
    "colab_type": "code",
    "id": "aMWafLm1JQ2S"
   },
   "outputs": [],
   "source": [
    "#MetricDF = MetricDF.drop(columns='pair')"
   ]
  },
  {
   "cell_type": "code",
   "execution_count": null,
   "metadata": {
    "colab": {},
    "colab_type": "code",
    "id": "xS7e2rdvJQ2U"
   },
   "outputs": [],
   "source": [
    "# def countryCodeConversion()\n",
    "\n",
    "iCA = MetricDF['country_code_alpha2_A']\n",
    "iCB = MetricDF['country_code_alpha2_B']\n",
    "\n",
    "countries = {}\n",
    "for country in pycountry.countries:\n",
    "    countries[country.alpha_2] = country.alpha_3\n",
    "\n",
    "\n",
    "a3A = [countries.get(country, 'Unknown code') for country in iCA]\n",
    "a3B = [countries.get(country, 'Unknown code') for country in iCB]"
   ]
  },
  {
   "cell_type": "code",
   "execution_count": null,
   "metadata": {
    "colab": {},
    "colab_type": "code",
    "id": "E3vcf9ZLJQ2V"
   },
   "outputs": [],
   "source": [
    "MetricDF['country_code_alpha3_A'] = a3A\n",
    "MetricDF['country_code_alpha3_B'] = a3B"
   ]
  },
  {
   "cell_type": "code",
   "execution_count": null,
   "metadata": {
    "colab": {},
    "colab_type": "code",
    "id": "rxzXEOTfJQ2W"
   },
   "outputs": [],
   "source": [
    "MetricDF.drop(columns=['country_code_alpha2_A','country_code_alpha2_B'],inplace=True)"
   ]
  },
  {
   "cell_type": "code",
   "execution_count": null,
   "metadata": {
    "colab": {
     "base_uri": "https://localhost:8080/",
     "height": 204
    },
    "colab_type": "code",
    "id": "27WQeBRBJQ2X",
    "outputId": "99687e7a-3798-446e-c540-c1b85f1114af"
   },
   "outputs": [
    {
     "data": {
      "text/html": [
       "<div>\n",
       "<style scoped>\n",
       "    .dataframe tbody tr th:only-of-type {\n",
       "        vertical-align: middle;\n",
       "    }\n",
       "\n",
       "    .dataframe tbody tr th {\n",
       "        vertical-align: top;\n",
       "    }\n",
       "\n",
       "    .dataframe thead th {\n",
       "        text-align: right;\n",
       "    }\n",
       "</style>\n",
       "<table border=\"1\" class=\"dataframe\">\n",
       "  <thead>\n",
       "    <tr style=\"text-align: right;\">\n",
       "      <th></th>\n",
       "      <th>pair</th>\n",
       "      <th>Censored_Category_Similarity</th>\n",
       "      <th>proportion-similarity</th>\n",
       "      <th>Blocking_Proportion_Similarity</th>\n",
       "      <th>Overall_Similarity</th>\n",
       "      <th>PercentRangeGroup</th>\n",
       "      <th>country_code_alpha3_A</th>\n",
       "      <th>country_code_alpha3_B</th>\n",
       "    </tr>\n",
       "  </thead>\n",
       "  <tbody>\n",
       "    <tr>\n",
       "      <th>308</th>\n",
       "      <td>(CO, PE)</td>\n",
       "      <td>0.998878</td>\n",
       "      <td>0.999969</td>\n",
       "      <td>0.999710</td>\n",
       "      <td>0.999294</td>\n",
       "      <td>0</td>\n",
       "      <td>COL</td>\n",
       "      <td>PER</td>\n",
       "    </tr>\n",
       "    <tr>\n",
       "      <th>434</th>\n",
       "      <td>(FR, LU)</td>\n",
       "      <td>0.998524</td>\n",
       "      <td>0.999941</td>\n",
       "      <td>0.999442</td>\n",
       "      <td>0.998983</td>\n",
       "      <td>0</td>\n",
       "      <td>FRA</td>\n",
       "      <td>LUX</td>\n",
       "    </tr>\n",
       "    <tr>\n",
       "      <th>1188</th>\n",
       "      <td>(SE, NO)</td>\n",
       "      <td>0.998203</td>\n",
       "      <td>0.999972</td>\n",
       "      <td>0.999736</td>\n",
       "      <td>0.998970</td>\n",
       "      <td>0</td>\n",
       "      <td>SWE</td>\n",
       "      <td>NOR</td>\n",
       "    </tr>\n",
       "    <tr>\n",
       "      <th>515</th>\n",
       "      <td>(HU, MD)</td>\n",
       "      <td>0.998071</td>\n",
       "      <td>0.999923</td>\n",
       "      <td>0.999275</td>\n",
       "      <td>0.998673</td>\n",
       "      <td>0</td>\n",
       "      <td>HUN</td>\n",
       "      <td>MDA</td>\n",
       "    </tr>\n",
       "    <tr>\n",
       "      <th>807</th>\n",
       "      <td>(LU, DK)</td>\n",
       "      <td>0.998202</td>\n",
       "      <td>0.999894</td>\n",
       "      <td>0.998990</td>\n",
       "      <td>0.998596</td>\n",
       "      <td>0</td>\n",
       "      <td>LUX</td>\n",
       "      <td>DNK</td>\n",
       "    </tr>\n",
       "  </tbody>\n",
       "</table>\n",
       "</div>"
      ],
      "text/plain": [
       "          pair  ...  country_code_alpha3_B\n",
       "308   (CO, PE)  ...                    PER\n",
       "434   (FR, LU)  ...                    LUX\n",
       "1188  (SE, NO)  ...                    NOR\n",
       "515   (HU, MD)  ...                    MDA\n",
       "807   (LU, DK)  ...                    DNK\n",
       "\n",
       "[5 rows x 8 columns]"
      ]
     },
     "execution_count": 48,
     "metadata": {
      "tags": []
     },
     "output_type": "execute_result"
    }
   ],
   "source": [
    "MetricDF.head()"
   ]
  },
  {
   "cell_type": "markdown",
   "metadata": {
    "colab_type": "text",
    "id": "BrNYT1KMJQ2Y"
   },
   "source": [
    "******************\n",
    "#5 ***`GENERATING JSON`***\n",
    "******************\n",
    "\n",
    "*Dropping other columns for JSON conversion format compliance*"
   ]
  },
  {
   "cell_type": "code",
   "execution_count": 21,
   "metadata": {
    "colab": {},
    "colab_type": "code",
    "id": "G9perx9lux40"
   },
   "outputs": [],
   "source": [
    "# Function to change country name to alpha_3 code\n",
    "\n",
    "def change_code(input_countries):\n",
    "  input_countries = input_countries.to_list()\n",
    "  countries = {}\n",
    "  for country in pycountry.countries:\n",
    "    countries[country.name] = country.alpha_3\n",
    "  codes = [countries.get(country, 'Unknown code') for country in input_countries]\n",
    "  return codes"
   ]
  },
  {
   "cell_type": "code",
   "execution_count": null,
   "metadata": {
    "colab": {},
    "colab_type": "code",
    "id": "w3MmPHkLJQ2Y"
   },
   "outputs": [],
   "source": [
    "MetricDFJSON = MetricDF[['country_code_alpha3_A','country_code_alpha3_B','Overall_Similarity']]"
   ]
  },
  {
   "cell_type": "code",
   "execution_count": null,
   "metadata": {
    "colab": {
     "base_uri": "https://localhost:8080/",
     "height": 204
    },
    "colab_type": "code",
    "id": "1rRp5pcgJQ2a",
    "outputId": "085cef91-fda8-40c0-a76d-a80728d3f3ac"
   },
   "outputs": [
    {
     "data": {
      "text/html": [
       "<div>\n",
       "<style scoped>\n",
       "    .dataframe tbody tr th:only-of-type {\n",
       "        vertical-align: middle;\n",
       "    }\n",
       "\n",
       "    .dataframe tbody tr th {\n",
       "        vertical-align: top;\n",
       "    }\n",
       "\n",
       "    .dataframe thead th {\n",
       "        text-align: right;\n",
       "    }\n",
       "</style>\n",
       "<table border=\"1\" class=\"dataframe\">\n",
       "  <thead>\n",
       "    <tr style=\"text-align: right;\">\n",
       "      <th></th>\n",
       "      <th>country_code_alpha3_A</th>\n",
       "      <th>country_code_alpha3_B</th>\n",
       "      <th>Overall_Similarity</th>\n",
       "    </tr>\n",
       "  </thead>\n",
       "  <tbody>\n",
       "    <tr>\n",
       "      <th>308</th>\n",
       "      <td>COL</td>\n",
       "      <td>PER</td>\n",
       "      <td>0.999294</td>\n",
       "    </tr>\n",
       "    <tr>\n",
       "      <th>434</th>\n",
       "      <td>FRA</td>\n",
       "      <td>LUX</td>\n",
       "      <td>0.998983</td>\n",
       "    </tr>\n",
       "    <tr>\n",
       "      <th>1188</th>\n",
       "      <td>SWE</td>\n",
       "      <td>NOR</td>\n",
       "      <td>0.998970</td>\n",
       "    </tr>\n",
       "    <tr>\n",
       "      <th>515</th>\n",
       "      <td>HUN</td>\n",
       "      <td>MDA</td>\n",
       "      <td>0.998673</td>\n",
       "    </tr>\n",
       "    <tr>\n",
       "      <th>807</th>\n",
       "      <td>LUX</td>\n",
       "      <td>DNK</td>\n",
       "      <td>0.998596</td>\n",
       "    </tr>\n",
       "  </tbody>\n",
       "</table>\n",
       "</div>"
      ],
      "text/plain": [
       "     country_code_alpha3_A country_code_alpha3_B  Overall_Similarity\n",
       "308                    COL                   PER            0.999294\n",
       "434                    FRA                   LUX            0.998983\n",
       "1188                   SWE                   NOR            0.998970\n",
       "515                    HUN                   MDA            0.998673\n",
       "807                    LUX                   DNK            0.998596"
      ]
     },
     "execution_count": 50,
     "metadata": {
      "tags": []
     },
     "output_type": "execute_result"
    }
   ],
   "source": [
    "MetricDFJSON.head()"
   ]
  },
  {
   "cell_type": "code",
   "execution_count": null,
   "metadata": {
    "colab": {},
    "colab_type": "code",
    "id": "V5qIdLe7JQ2b"
   },
   "outputs": [],
   "source": [
    "pairs_of_similarities = {}\n",
    "for _, row in MetricDFJSON.iterrows():\n",
    "    country_pair = row.values[0] +'->'+ row.values[1]\n",
    "    pairs_of_similarities[country_pair] = row.values[2]*100"
   ]
  },
  {
   "cell_type": "code",
   "execution_count": null,
   "metadata": {
    "colab": {
     "base_uri": "https://localhost:8080/",
     "height": 125
    },
    "colab_type": "code",
    "id": "Bz-hDEixJQ2c",
    "outputId": "e4053626-cc64-4e5a-b8bf-a79ae5f8599c"
   },
    "outputs": [],
   "source": [
    "output_json = json.dumps(pairs_of_similarities)\n",
    "output_json"
   ]
  },
  {
   "cell_type": "code",
   "execution_count": null,
   "metadata": {
    "colab": {},
    "colab_type": "code",
    "id": "M4eGx3gVJQ2d"
   },
   "outputs": [],
   "source": [
    "with open('data.json', 'w') as outfile:\n",
    "    json.dump(output_json, outfile)"
   ]
  },
  {
   "cell_type": "markdown",
   "metadata": {
    "colab_type": "text",
    "id": "cJaZwE6EIW-5"
   },
   "source": [
    "****************\n",
    "# ***`6. Verifying results from 4 and 5`***"
   ]
  },
  {
   "cell_type": "markdown",
   "metadata": {
    "colab_type": "text",
    "id": "mxWYz9Q4lWsn"
   },
   "source": [
    "## 6a. Verifying results from 4 and 5"
   ]
  },
  {
   "cell_type": "markdown",
   "metadata": {
    "colab_type": "text",
    "id": "bNTgXy5Glhz_"
   },
   "source": [
    "Why are there NA results for Greece and South Africa when data is present"
   ]
  },
  {
   "cell_type": "code",
   "execution_count": null,
   "metadata": {
    "colab": {},
    "colab_type": "code",
    "id": "xPQCqjUgI2Mp"
   },
   "outputs": [],
   "source": [
    "# iclabcombined[(iclabcombined['country']=='GR')&(iclabcombined['censored_updated']==True)]['site'].unique()"
   ]
  },
  {
   "cell_type": "code",
   "execution_count": null,
   "metadata": {
    "colab": {},
    "colab_type": "code",
    "id": "eLW6JuYVJk9X"
   },
   "outputs": [],
   "source": [
    "# iclabcombined[(iclabcombined['country']=='ZA')&(iclabcombined['censored_updated']==True)]['site'].unique()"
   ]
  },
  {
   "cell_type": "code",
   "execution_count": null,
   "metadata": {
    "colab": {},
    "colab_type": "code",
    "id": "hN5vy-0pKfhR"
   },
   "outputs": [],
   "source": [
    "# display(iclabcombined[(iclabcombined['country']=='GR')&(iclabcombined['censored_updated']==True)]['category'].unique())\n",
    "# display(iclabcombined[(iclabcombined['country']=='ZA')&(iclabcombined['censored_updated']==True)]['category'].unique())"
   ]
  },
  {
   "cell_type": "markdown",
   "metadata": {
    "colab_type": "text",
    "id": "sBMlkEnolpOZ"
   },
   "source": [
    "The NA results seem to be on account of dns being the column and values being zero for DNS in case of Greece"
   ]
  },
  {
   "cell_type": "markdown",
   "metadata": {
    "colab_type": "text",
    "id": "WA4MsodRlQXc"
   },
   "source": [
    "## 6b. Testing for different columns"
   ]
  },
  {
   "cell_type": "code",
   "execution_count": null,
   "metadata": {
    "colab": {
     "base_uri": "https://localhost:8080/",
     "height": 341
    },
    "colab_type": "code",
    "id": "4wQbkR1uaLUr",
    "outputId": "67f8158b-b24c-49c6-b0f6-55d4d8615319"
   },
   "outputs": [
    {
     "data": {
      "text/plain": [
       "server_t                   0\n",
       "country                    0\n",
       "schedule_name              0\n",
       "url                        0\n",
       "dns                 27829396\n",
       "dns_reason          35216027\n",
       "dns_all             13600017\n",
       "dns_reason_all      37719857\n",
       "http_status          2125476\n",
       "block                2125476\n",
       "body_len             2125476\n",
       "http_reason          5185276\n",
       "packet_updated      46636786\n",
       "packet_reason       46636786\n",
       "censored_updated           0\n",
       "site                       0\n",
       "category                   0\n",
       "dtype: int64"
      ]
     },
     "execution_count": 215,
     "metadata": {
      "tags": []
     },
     "output_type": "execute_result"
    }
   ],
   "source": [
    "iclabcombined.isnull().sum(axis = 0)"
   ]
  },
  {
   "cell_type": "code",
   "execution_count": null,
   "metadata": {
    "colab": {},
    "colab_type": "code",
    "id": "GYBYLuE6Kz0N"
   },
   "outputs": [],
   "source": [
    "dummy_column_for_counting1 = 'block'\n",
    "\n",
    "def as_single_column1 (df):\n",
    "    return df[[dummy_column_for_counting1]]\n",
    "\n",
    "def proportion1 (row):\n",
    "    blocked = row[dummy_column_for_counting1+'_blocked']\n",
    "    total = row[dummy_column_for_counting1+'_total']\n",
    "    return blocked / total\n",
    "\n",
    "\n",
    "blocking_proporitons1 =\\\n",
    "as_single_column1(total_blocked_observations_by_country)\\\n",
    "    .merge(as_single_column1(total_observations_by_country),\n",
    "           on='country', suffixes=('_blocked', '_total'))\\\n",
    "    .apply(proportion1, axis=1)"
   ]
  },
  {
   "cell_type": "code",
   "execution_count": null,
   "metadata": {
    "colab": {},
    "colab_type": "code",
    "id": "1fcDYzeTkeo3"
   },
   "outputs": [],
   "source": [
    "def get_proportion1 (cc2):\n",
    "    # try to retrieve it\n",
    "    try:\n",
    "        return blocking_proporitons1[cc2]\n",
    "    # if we don't have data on it\n",
    "    except KeyError:\n",
    "        # treat it as 0\n",
    "        return 0\n",
    "\n",
    "def compute_similarity1(proportion1, proportion2):\n",
    "    # keep it simple....\n",
    "    # minimum and maximum values will still be 0 and 1, since we're dealing with proportions.\n",
    "    return 1 - abs(proportion1 - proportion2)\n",
    "\n",
    "CountSimilarity1 = []\n",
    "for item in pairs:\n",
    "    (country1, country2) = item\n",
    "    similarity1 = compute_similarity1(get_proportion1(country1), get_proportion1(country2))\n",
    "    CountSimilarity1.append((item, similarity1))"
   ]
  },
  {
   "cell_type": "code",
   "execution_count": null,
   "metadata": {
    "colab": {
     "base_uri": "https://localhost:8080/",
     "height": 419
    },
    "colab_type": "code",
    "id": "3QwzDSg-kjgs",
    "outputId": "f89c2e7c-1c18-4451-de73-98f5aaf0386d"
   },
   "outputs": [
    {
     "data": {
      "text/html": [
       "<div>\n",
       "<style scoped>\n",
       "    .dataframe tbody tr th:only-of-type {\n",
       "        vertical-align: middle;\n",
       "    }\n",
       "\n",
       "    .dataframe tbody tr th {\n",
       "        vertical-align: top;\n",
       "    }\n",
       "\n",
       "    .dataframe thead th {\n",
       "        text-align: right;\n",
       "    }\n",
       "</style>\n",
       "<table border=\"1\" class=\"dataframe\">\n",
       "  <thead>\n",
       "    <tr style=\"text-align: right;\">\n",
       "      <th></th>\n",
       "      <th>pair</th>\n",
       "      <th>proportion-similarity</th>\n",
       "    </tr>\n",
       "  </thead>\n",
       "  <tbody>\n",
       "    <tr>\n",
       "      <th>0</th>\n",
       "      <td>(AD, AT)</td>\n",
       "      <td>0.999677</td>\n",
       "    </tr>\n",
       "    <tr>\n",
       "      <th>1</th>\n",
       "      <td>(AD, BE)</td>\n",
       "      <td>0.999441</td>\n",
       "    </tr>\n",
       "    <tr>\n",
       "      <th>2</th>\n",
       "      <td>(AD, BR)</td>\n",
       "      <td>0.998499</td>\n",
       "    </tr>\n",
       "    <tr>\n",
       "      <th>3</th>\n",
       "      <td>(AD, CA)</td>\n",
       "      <td>0.999493</td>\n",
       "    </tr>\n",
       "    <tr>\n",
       "      <th>4</th>\n",
       "      <td>(AD, CR)</td>\n",
       "      <td>0.999595</td>\n",
       "    </tr>\n",
       "    <tr>\n",
       "      <th>...</th>\n",
       "      <td>...</td>\n",
       "      <td>...</td>\n",
       "    </tr>\n",
       "    <tr>\n",
       "      <th>1480</th>\n",
       "      <td>(ZA, SG)</td>\n",
       "      <td>0.999847</td>\n",
       "    </tr>\n",
       "    <tr>\n",
       "      <th>1481</th>\n",
       "      <td>(ZA, SK)</td>\n",
       "      <td>0.999613</td>\n",
       "    </tr>\n",
       "    <tr>\n",
       "      <th>1482</th>\n",
       "      <td>(ZA, TR)</td>\n",
       "      <td>0.978443</td>\n",
       "    </tr>\n",
       "    <tr>\n",
       "      <th>1483</th>\n",
       "      <td>(ZA, TW)</td>\n",
       "      <td>0.997163</td>\n",
       "    </tr>\n",
       "    <tr>\n",
       "      <th>1484</th>\n",
       "      <td>(ZA, VE)</td>\n",
       "      <td>0.997246</td>\n",
       "    </tr>\n",
       "  </tbody>\n",
       "</table>\n",
       "<p>1485 rows × 2 columns</p>\n",
       "</div>"
      ],
      "text/plain": [
       "          pair  proportion-similarity\n",
       "0     (AD, AT)               0.999677\n",
       "1     (AD, BE)               0.999441\n",
       "2     (AD, BR)               0.998499\n",
       "3     (AD, CA)               0.999493\n",
       "4     (AD, CR)               0.999595\n",
       "...        ...                    ...\n",
       "1480  (ZA, SG)               0.999847\n",
       "1481  (ZA, SK)               0.999613\n",
       "1482  (ZA, TR)               0.978443\n",
       "1483  (ZA, TW)               0.997163\n",
       "1484  (ZA, VE)               0.997246\n",
       "\n",
       "[1485 rows x 2 columns]"
      ]
     },
     "execution_count": 218,
     "metadata": {
      "tags": []
     },
     "output_type": "execute_result"
    }
   ],
   "source": [
    "blocking_proportion_similarities1 =\\\n",
    "pd.DataFrame(CountSimilarity1, columns=[\n",
    "    'pair',\n",
    "    'proportion-similarity'\n",
    "])\n",
    "blocking_proportion_similarities1"
   ]
  },
  {
   "cell_type": "code",
   "execution_count": null,
   "metadata": {
    "colab": {
     "base_uri": "https://localhost:8080/",
     "height": 430
    },
    "colab_type": "code",
    "id": "e_XIxH2lmB1c",
    "outputId": "2ff993fc-bf0f-41e6-c5a8-1fb1c5f68a4b"
   },
   "outputs": [
    {
     "data": {
      "image/png": "[encoded data removed]",
      "text/plain": [
       "<Figure size 640x480 with 1 Axes>"
      ]
     },
     "metadata": {
      "tags": []
     },
     "output_type": "display_data"
    }
   ],
   "source": [
    "blocking_proportion_similarities1['proportion-similarity'].plot.hist()\n",
    "plt.show()"
   ]
  },
  {
   "cell_type": "code",
   "execution_count": null,
   "metadata": {
    "colab": {
     "base_uri": "https://localhost:8080/",
     "height": 430
    },
    "colab_type": "code",
    "id": "eDS7cxrTWlC8",
    "outputId": "62cc5de6-580c-45af-cc98-043ddb153ae7"
   },
   "outputs": [
    {
     "data": {
      "image/png": "[encoded data removed]",
      "text/plain": [
       "<Figure size 640x480 with 1 Axes>"
      ]
     },
     "metadata": {
      "tags": []
     },
     "output_type": "display_data"
    }
   ],
   "source": [
    "def min_max_norm(series):\n",
    "    return (series-series.min())/(series.max()-series.min())\n",
    "\n",
    "blocking_proportion_similarities1['proportion-similarity-normalized'] = \\\n",
    "    min_max_norm(blocking_proportion_similarities1['proportion-similarity'])\n",
    "blocking_proportion_similarities1['proportion-similarity-normalized'].plot.hist()\n",
    "\n",
    "plt.show()"
   ]
  },
  {
   "cell_type": "code",
   "execution_count": null,
   "metadata": {
    "colab": {
     "base_uri": "https://localhost:8080/",
     "height": 419
    },
    "colab_type": "code",
    "id": "1xMI9N1cZPtS",
    "outputId": "33dff513-a87f-454d-dfa8-a7493ccbb6ab"
   },
   "outputs": [
    {
     "data": {
      "text/html": [
       "<div>\n",
       "<style scoped>\n",
       "    .dataframe tbody tr th:only-of-type {\n",
       "        vertical-align: middle;\n",
       "    }\n",
       "\n",
       "    .dataframe tbody tr th {\n",
       "        vertical-align: top;\n",
       "    }\n",
       "\n",
       "    .dataframe thead th {\n",
       "        text-align: right;\n",
       "    }\n",
       "</style>\n",
       "<table border=\"1\" class=\"dataframe\">\n",
       "  <thead>\n",
       "    <tr style=\"text-align: right;\">\n",
       "      <th></th>\n",
       "      <th>pair</th>\n",
       "      <th>country_code_alpha2_A</th>\n",
       "      <th>country_code_alpha2_B</th>\n",
       "      <th>Censored_Category_Similarity</th>\n",
       "      <th>proportion-similarity</th>\n",
       "      <th>Blocking_Proportion_Similarity</th>\n",
       "      <th>Overall_Similarity</th>\n",
       "    </tr>\n",
       "  </thead>\n",
       "  <tbody>\n",
       "    <tr>\n",
       "      <th>961</th>\n",
       "      <td>(NO, DK)</td>\n",
       "      <td>NO</td>\n",
       "      <td>DK</td>\n",
       "      <td>99.921272</td>\n",
       "      <td>0.999939</td>\n",
       "      <td>0.999424</td>\n",
       "      <td>50.460348</td>\n",
       "    </tr>\n",
       "    <tr>\n",
       "      <th>783</th>\n",
       "      <td>(LT, NZ)</td>\n",
       "      <td>LT</td>\n",
       "      <td>NZ</td>\n",
       "      <td>99.906682</td>\n",
       "      <td>0.999900</td>\n",
       "      <td>0.999054</td>\n",
       "      <td>50.452868</td>\n",
       "    </tr>\n",
       "    <tr>\n",
       "      <th>926</th>\n",
       "      <td>(NL, IL)</td>\n",
       "      <td>NL</td>\n",
       "      <td>IL</td>\n",
       "      <td>99.905538</td>\n",
       "      <td>0.999800</td>\n",
       "      <td>0.998099</td>\n",
       "      <td>50.451819</td>\n",
       "    </tr>\n",
       "    <tr>\n",
       "      <th>308</th>\n",
       "      <td>(CO, PE)</td>\n",
       "      <td>CO</td>\n",
       "      <td>PE</td>\n",
       "      <td>99.887805</td>\n",
       "      <td>0.999957</td>\n",
       "      <td>0.999596</td>\n",
       "      <td>50.443700</td>\n",
       "    </tr>\n",
       "    <tr>\n",
       "      <th>377</th>\n",
       "      <td>(ES, MD)</td>\n",
       "      <td>ES</td>\n",
       "      <td>MD</td>\n",
       "      <td>99.887884</td>\n",
       "      <td>0.999470</td>\n",
       "      <td>0.994966</td>\n",
       "      <td>50.441425</td>\n",
       "    </tr>\n",
       "    <tr>\n",
       "      <th>...</th>\n",
       "      <td>...</td>\n",
       "      <td>...</td>\n",
       "      <td>...</td>\n",
       "      <td>...</td>\n",
       "      <td>...</td>\n",
       "      <td>...</td>\n",
       "      <td>...</td>\n",
       "    </tr>\n",
       "    <tr>\n",
       "      <th>1227</th>\n",
       "      <td>(SG, VE)</td>\n",
       "      <td>SG</td>\n",
       "      <td>VE</td>\n",
       "      <td>3.475451</td>\n",
       "      <td>0.997398</td>\n",
       "      <td>0.975288</td>\n",
       "      <td>2.225370</td>\n",
       "    </tr>\n",
       "    <tr>\n",
       "      <th>135</th>\n",
       "      <td>(BG, VE)</td>\n",
       "      <td>BG</td>\n",
       "      <td>VE</td>\n",
       "      <td>3.224529</td>\n",
       "      <td>0.997901</td>\n",
       "      <td>0.980061</td>\n",
       "      <td>2.102295</td>\n",
       "    </tr>\n",
       "    <tr>\n",
       "      <th>1400</th>\n",
       "      <td>(VE, CR)</td>\n",
       "      <td>VE</td>\n",
       "      <td>CR</td>\n",
       "      <td>2.410872</td>\n",
       "      <td>0.997508</td>\n",
       "      <td>0.976333</td>\n",
       "      <td>1.693602</td>\n",
       "    </tr>\n",
       "    <tr>\n",
       "      <th>271</th>\n",
       "      <td>(CN, VE)</td>\n",
       "      <td>CN</td>\n",
       "      <td>VE</td>\n",
       "      <td>2.393743</td>\n",
       "      <td>0.992320</td>\n",
       "      <td>0.927041</td>\n",
       "      <td>1.660392</td>\n",
       "    </tr>\n",
       "    <tr>\n",
       "      <th>1411</th>\n",
       "      <td>(VE, TR)</td>\n",
       "      <td>VE</td>\n",
       "      <td>TR</td>\n",
       "      <td>2.374639</td>\n",
       "      <td>0.975689</td>\n",
       "      <td>0.769052</td>\n",
       "      <td>1.571846</td>\n",
       "    </tr>\n",
       "  </tbody>\n",
       "</table>\n",
       "<p>1485 rows × 7 columns</p>\n",
       "</div>"
      ],
      "text/plain": [
       "          pair  ... Overall_Similarity\n",
       "961   (NO, DK)  ...          50.460348\n",
       "783   (LT, NZ)  ...          50.452868\n",
       "926   (NL, IL)  ...          50.451819\n",
       "308   (CO, PE)  ...          50.443700\n",
       "377   (ES, MD)  ...          50.441425\n",
       "...        ...  ...                ...\n",
       "1227  (SG, VE)  ...           2.225370\n",
       "135   (BG, VE)  ...           2.102295\n",
       "1400  (VE, CR)  ...           1.693602\n",
       "271   (CN, VE)  ...           1.660392\n",
       "1411  (VE, TR)  ...           1.571846\n",
       "\n",
       "[1485 rows x 7 columns]"
      ]
     },
     "execution_count": 221,
     "metadata": {
      "tags": []
     },
     "output_type": "execute_result"
    }
   ],
   "source": [
    "MetricDF1 = pd.merge(simMetricVals,blocking_proportion_similarities1,on='pair',how='outer')\n",
    "MetricDF1 = MetricDF1.rename(columns={\n",
    "    'similarity':'Censored_Category_Similarity',\n",
    "    'proportion-similarity-normalized':'Blocking_Proportion_Similarity',\n",
    "})\n",
    "MetricDF1['Overall_Similarity'] = (MetricDF1['Censored_Category_Similarity']+ MetricDF1['Blocking_Proportion_Similarity'])/2\n",
    "MetricDF1 = MetricDF1.sort_values(by='Overall_Similarity',ascending=False)\n",
    "MetricDF1"
   ]
  },
  {
   "cell_type": "code",
   "execution_count": null,
   "metadata": {
    "colab": {
     "base_uri": "https://localhost:8080/",
     "height": 433
    },
    "colab_type": "code",
    "id": "1yJWjfQtZdfU",
    "outputId": "f3db2ce0-43d3-4912-d930-650fc5e5dcff"
   },
   "outputs": [
    {
     "data": {
      "image/png": "[encoded data removed]",
      "text/plain": [
       "<Figure size 640x480 with 1 Axes>"
      ]
     },
     "metadata": {
      "tags": []
     },
     "output_type": "display_data"
    }
   ],
   "source": [
    "MetricDF1['Overall_Similarity'].plot.hist()\n",
    "plt.show()"
   ]
  },
  {
   "cell_type": "markdown",
   "metadata": {
    "colab_type": "text",
    "id": "TN50poI7bRp-"
   },
   "source": [
    "****************\n",
    "# 7. ***`HYPOTHESIS TESTING`***\n",
    "****************"
   ]
  },
  {
   "cell_type": "markdown",
   "metadata": {
    "colab_type": "text",
    "id": "k2KccZxOuhQg"
   },
   "source": [
    "## Importing the Data"
   ]
  },
  {
   "cell_type": "markdown",
   "metadata": {
    "colab_type": "text",
    "id": "gdn9EYYtt9Nu"
   },
   "source": [
    "Importing the METRICDFJSON DataFrame"
   ]
  },
  {
   "cell_type": "code",
   "execution_count": 16,
   "metadata": {
    "colab": {
     "base_uri": "https://localhost:8080/",
     "height": 35
    },
    "colab_type": "code",
    "id": "J3_bkKujtkZ6",
    "outputId": "a28a9ef5-9bf8-43b9-8817-cafd3837e3ea"
   },
   "outputs": [
    {
     "data": {
      "text/plain": [
       "(1378, 3)"
      ]
     },
     "execution_count": 16,
     "metadata": {},
     "output_type": "execute_result"
    }
   ],
   "source": [
    "#MetricDFJSON.to_pickle(\"MetricDFJSON.pkl\")\n",
    "MetricDFJSON = pd.read_pickle(\"../data/iclabcombined_and_hypothesis_data/MetricDFJSON.pkl\")\n",
    "MetricDFJSON = MetricDFJSON.dropna()\n",
    "MetricDFJSON.shape"
   ]
  },
  {
   "cell_type": "markdown",
   "metadata": {
    "colab_type": "text",
    "id": "n_oWSRVHuYS7"
   },
   "source": [
    "Importing non-Internet proxy data files"
   ]
  },
  {
   "cell_type": "code",
   "execution_count": 35,
   "metadata": {
    "colab": {},
    "colab_type": "code",
    "id": "YI8x3U33ufxV"
   },
   "outputs": [
    {
     "data": {
      "text/plain": [
       "(29, 2)"
      ]
     },
     "execution_count": 35,
     "metadata": {},
     "output_type": "execute_result"
    }
   ],
   "source": [
    "#Reading the NATO data\n",
    "NATO = pd.read_pickle(\"../data/iclabcombined_and_hypothesis_data/NATO.pkl\")\n",
    "NATO.shape"
   ]
  },
  {
   "cell_type": "code",
   "execution_count": 22,
   "metadata": {
    "colab": {},
    "colab_type": "code",
    "id": "9DyFrloYvzAU"
   },
   "outputs": [],
   "source": [
    "#Prepping the WEF Data\n",
    "WEF = pd.read_csv(\"../data/iclabcombined_and_hypothesis_data/WEFCompIndex.csv\",index_col=0)\n",
    "WEF['code'] = change_code(WEF['Country'])\n",
    "missCodes =['TWN','KOR','IRL','CZE','RUS','BRN','VNM','GEO','MDA','IRN','BOL','Unknown code','Unknown code','TZA','CIV','GMB','VEN','COD']\n",
    "missIdxs = WEF[WEF['code']=='Unknown code'].index\n",
    "\n",
    "for i in range(len(missIdxs)):\n",
    "  WEF.at[missIdxs[i],'code']= missCodes[i]\n",
    "\n",
    "WEF = WEF[['code','scores']]\n",
    "\n",
    "#Reading the WEF Data\n",
    "WEF.to_pickle(\"WEF.pkl\")\n",
    "WEF = pd.read_pickle(\"WEF.pkl\")"
   ]
  },
  {
   "cell_type": "code",
   "execution_count": 27,
   "metadata": {
    "colab": {},
    "colab_type": "code",
    "id": "BqwcvMpLwRjy"
   },
   "outputs": [
    {
     "data": {
      "text/plain": [
       "(49, 2)"
      ]
     },
     "execution_count": 27,
     "metadata": {},
     "output_type": "execute_result"
    }
   ],
   "source": [
    "#Prepping the Commonwealth Data\n",
    "# Commonwealth = pd.read_csv(\"../data/iclabcombined_and_hypothesis_data/CWdata.csv\")\n",
    "# code = change_code(Commonwealth['COUNTRY'])\n",
    "# Commonwealth['code'] = code\n",
    "# Commonwealth.at[6,'code']= 'BRN'\n",
    "# Commonwealth.at[11,'code']= 'GMB'\n",
    "# Commonwealth.at[31,'code']= 'CYP'\n",
    "# Commonwealth.at[50,'code']= 'TZA'\n",
    "# Commonwealth = Commonwealth[Commonwealth['code']!='Unknown code']\n",
    "\n",
    "# #Reading the Commonwealth Data\n",
    "# Commonwealth.to_pickle(\"../data/iclabcombined_and_hypothesis_data/Commonwealth.pkl\")\n",
    "Commonwealth = pd.read_pickle(\"../data/iclabcombined_and_hypothesis_data/Commonwealth.pkl\")\n",
    "Commonwealth.shape"
   ]
  },
  {
   "cell_type": "code",
   "execution_count": 32,
   "metadata": {
    "colab": {},
    "colab_type": "code",
    "id": "Ks2BmUciwh3b"
   },
   "outputs": [
    {
     "data": {
      "text/plain": [
       "(180, 2)"
      ]
     },
     "execution_count": 32,
     "metadata": {},
     "output_type": "execute_result"
    }
   ],
   "source": [
    "# #Prepping the Media Freedom Data\n",
    "# MediaDF = pd.read_csv('../data/iclabcombined_and_hypothesis_data/PressFreedomIndex.csv').loc[:,['ISO','Score 2019','Rank 2019']].sort_values(by='Rank 2019',ascending=True).set_index(\"Rank 2019\")\n",
    "# MediaDF['Score 2019'] = MediaDF['Score 2019'].apply(lambda x : x.replace(',','.') )\n",
    "# MediaDF['Score 2019'] = MediaDF['Score 2019'].astype(float)\n",
    "# MediaDF.rename(columns={'ISO':'code','Score 2019':'scores'},inplace=True)\n",
    "# MediaDF['scores'] = 100 - MediaDF['scores']\n",
    "\n",
    "# #Reading the Media Freedom Data\n",
    "# MediaDF.to_pickle(\"../data/iclabcombined_and_hypothesis_data/MediaDF.pkl\")\n",
    "MediaDF = pd.read_pickle(\"../data/iclabcombined_and_hypothesis_data/MediaDF.pkl\")\n",
    "MediaDF.shape"
   ]
  },
  {
   "cell_type": "code",
   "execution_count": 33,
   "metadata": {
    "colab": {},
    "colab_type": "code",
    "id": "JXzNMmBnwuqd"
   },
   "outputs": [
    {
     "data": {
      "text/plain": [
       "(209, 2)"
      ]
     },
     "execution_count": 33,
     "metadata": {},
     "output_type": "execute_result"
    }
   ],
   "source": [
    "# #Prepping the QNI Data\n",
    "# QNI = pd.read_csv('QNI.csv').sort_values(by='Total',ascending=False).dropna()\n",
    "# CCode = change_code(QNI['Country'])\n",
    "# QNI['code']= CCode\n",
    "# QNI = QNI[['code','Total']].rename(columns={'Total':'scores'})\n",
    "\n",
    "# #Reading the Media Freedom Data\n",
    "# QNI.to_pickle(\"../data/iclabcombined_and_hypothesis_data/QNI.pkl\")\n",
    "QNI = pd.read_pickle(\"../data/iclabcombined_and_hypothesis_data/QNI.pkl\")\n",
    "QNI.shape"
   ]
  },
  {
   "cell_type": "code",
   "execution_count": 34,
   "metadata": {
    "colab": {},
    "colab_type": "code",
    "id": "KIC_dytZw6kC"
   },
   "outputs": [
    {
     "data": {
      "text/plain": [
       "(174, 2)"
      ]
     },
     "execution_count": 34,
     "metadata": {},
     "output_type": "execute_result"
    }
   ],
   "source": [
    "# #Prepping the FIW (Freedom in the World) Data\n",
    "# Freedom = pd.read_csv('../data/iclabcombined_and_hypothesis_data/FH2018.csv')\n",
    "# code = change_code(Freedom['Country/Territory'])\n",
    "# Freedom['code'] = code\n",
    "# Freedom = Freedom[['code','Total']].rename(columns={'Total':'scores'})\n",
    "# Freedom = Freedom.sort_values(by='scores',ascending=False)\n",
    "# Freedom = Freedom[Freedom['code']!='Unknown code']\n",
    "\n",
    "# #Reading the FIW Data\n",
    "# Freedom.to_pickle(\"../data/iclabcombined_and_hypothesis_data/Freedom.pkl\")\n",
    "Freedom = pd.read_pickle(\"../data/iclabcombined_and_hypothesis_data/Freedom.pkl\")\n",
    "Freedom.shape"
   ]
  },
  {
   "cell_type": "markdown",
   "metadata": {
    "colab_type": "text",
    "id": "MgPK89cKXPj7"
   },
   "source": [
    "## General purpose functions to test our hypothesis'."
   ]
  },
  {
   "cell_type": "markdown",
   "metadata": {
    "colab_type": "text",
    "id": "kt7G2G-Bn0IZ"
   },
   "source": [
    "We will be using the Mann Whitney U test to determine if two groups are similar to each other or not. This is a non-parametric test used for samples of at least size 20 when the samples dont originate from normal distributions. To learn more refer the link below:\n",
    "\n",
    "[MannWhitneyUTest](https://machinelearningmastery.com/nonparametric-statistical-significance-tests-in-python/)"
   ]
  },
  {
   "cell_type": "code",
   "execution_count": 168,
   "metadata": {
    "colab": {
     "base_uri": "https://localhost:8080/",
     "height": 71
    },
    "colab_type": "code",
    "id": "lwYIQzJCzxXl",
    "outputId": "5e651de7-6252-4c80-ca42-afb6124d520a"
   },
   "outputs": [],
   "source": [
    "def correlation (df):\n",
    "    blocking_sims = []\n",
    "    wef_sims = []\n",
    "    \n",
    "    def get_value (country):\n",
    "        return df[df['code']==country].scores.values[0]\n",
    "    \n",
    "    for _, row in MetricDFJSON.iterrows():\n",
    "        country1 = row['country_code_alpha3_A']\n",
    "        country2 = row['country_code_alpha3_B']\n",
    "        try:\n",
    "            country1_wef = get_value(country1)\n",
    "        except:\n",
    "            pass\n",
    "        try:\n",
    "            country2_wef = get_value(country2)\n",
    "        except:\n",
    "            pass\n",
    "        sim = 100 - abs(country1_wef - country2_wef)\n",
    "        wef_sim = sim/100\n",
    "        wef_sims.append(wef_sim)\n",
    "        blocking_sim = row['Overall_Similarity']\n",
    "        blocking_sims.append(blocking_sim)\n",
    "        \n",
    "    deg_freedom = len(blocking_sims)-2\n",
    "    test = scipy.stats.pearsonr(blocking_sims, wef_sims)\n",
    "    \n",
    "    return {\n",
    "        'test': test, \n",
    "        'degrees of freedom': deg_freedom,\n",
    "    }"
   ]
  },
  {
   "cell_type": "code",
   "execution_count": 169,
   "metadata": {
    "colab": {},
    "colab_type": "code",
    "id": "6Q0qeWPpecAg"
   },
   "outputs": [],
   "source": [
    "def Hypo_Test_Groups(df):\n",
    "\n",
    "  '''\n",
    "  Parameters:\n",
    "  Dataframe of non-interent proxy\n",
    "\n",
    "  Used when our proxy measure buckets countries based on their presence or absence in a group e.g. NATO or CommonWealth\n",
    "  Creates 2 buckets\n",
    "  One for an edge where both vertices are countries that are members of a given group\n",
    "  Another for an edge where one vertice belongs to member country and another to a non-member country.\n",
    "\n",
    "  Returns:\n",
    "  p value for the MannWhitneyU test run on these two buckets\n",
    "  variances for these two buckets\n",
    "  '''\n",
    "\n",
    "  #List of countries which are in the Affinity group like NATO or Commonwealth\n",
    "  AffinityGroup = df['code'].to_list()\n",
    "  \n",
    "  #Determining indexes of our two buckets\n",
    "  #One bucket is for similar edges i.e. both countries are members of a group\n",
    "  #The other bucket is for dissimilar edges i.e. while one country is a group member the other is not\n",
    "  allIndex = MetricDFJSON.index.to_list()\n",
    "  nonMembersIndex =  (MetricDFJSON[~((MetricDFJSON['country_code_alpha3_A'].isin(AffinityGroup)) | (MetricDFJSON['country_code_alpha3_B'].isin(AffinityGroup)))]).index.to_list()\n",
    "  bothMembersIndex = (MetricDFJSON[(MetricDFJSON['country_code_alpha3_A'].isin(AffinityGroup)) & (MetricDFJSON['country_code_alpha3_B'].isin(AffinityGroup))]).index.to_list()\n",
    "  oneMemberIndex =  [idx for idx in allIndex if idx not in (nonMembersIndex+bothMembersIndex)]\n",
    "\n",
    "  #Similarity scores for the two buckets\n",
    "  Member2MemberScores = MetricDFJSON.loc[bothMembersIndex]['Overall_Similarity'].to_list()\n",
    "  Member2NonMemberScores = MetricDFJSON.loc[oneMemberIndex]['Overall_Similarity'].to_list()\n",
    "\n",
    "  #MannWhitneyUTest\n",
    "  tScore,p = scipy.stats.mannwhitneyu(Member2MemberScores,Member2NonMemberScores,use_continuity=True,alternative='greater')\n",
    "  testResults = {'test score':tScore, 'p Value':p}\n",
    "\n",
    "  variancesDict = {\n",
    "      'Varinace between Similiar Edges' : statistics.variance(Member2MemberScores),\n",
    "      'Variance between Dissimilar Edges' : statistics.variance(Member2NonMemberScores),\n",
    "  }\n",
    "\n",
    "  mediansDict = {\n",
    "      'Median of hyp. greater group': np.median(Member2MemberScores),\n",
    "      'Median of hyp. less group': np.median(Member2NonMemberScores),\n",
    "  }\n",
    "\n",
    "  return testResults, variancesDict, mediansDict"
   ]
  },
  {
   "cell_type": "markdown",
   "metadata": {
    "colab_type": "text",
    "id": "TSl2v_JOLLig"
   },
   "source": [
    "## 7a. Military Alliance (NATO Members)"
   ]
  },
  {
   "cell_type": "markdown",
   "metadata": {
    "colab_type": "text",
    "id": "4ICFlC26iTvC"
   },
   "source": [
    "The North Atlantic Treaty Organization, also called the North Atlantic Alliance, is an intergovernmental military alliance between 30 North American and European countries\n",
    "\n",
    "Learn More: \n",
    "\n",
    "[About NATO](https://en.wikipedia.org/wiki/Member_states_of_NATO)"
   ]
  },
  {
   "cell_type": "code",
   "execution_count": 170,
   "metadata": {
    "colab": {
     "base_uri": "https://localhost:8080/",
     "height": 142
    },
    "colab_type": "code",
    "id": "37_j44xYoUrW",
    "outputId": "8eb4190f-f197-48a0-e007-272ebe8cea49"
   },
   "outputs": [
    {
     "data": {
      "text/html": [
       "<div>\n",
       "<style scoped>\n",
       "    .dataframe tbody tr th:only-of-type {\n",
       "        vertical-align: middle;\n",
       "    }\n",
       "\n",
       "    .dataframe tbody tr th {\n",
       "        vertical-align: top;\n",
       "    }\n",
       "\n",
       "    .dataframe thead th {\n",
       "        text-align: right;\n",
       "    }\n",
       "</style>\n",
       "<table border=\"1\" class=\"dataframe\">\n",
       "  <thead>\n",
       "    <tr style=\"text-align: right;\">\n",
       "      <th></th>\n",
       "      <th>CNTRY_NAME</th>\n",
       "      <th>code</th>\n",
       "    </tr>\n",
       "  </thead>\n",
       "  <tbody>\n",
       "    <tr>\n",
       "      <th>0</th>\n",
       "      <td>Albania</td>\n",
       "      <td>ALB</td>\n",
       "    </tr>\n",
       "    <tr>\n",
       "      <th>1</th>\n",
       "      <td>Belgium</td>\n",
       "      <td>BEL</td>\n",
       "    </tr>\n",
       "    <tr>\n",
       "      <th>2</th>\n",
       "      <td>Bulgaria</td>\n",
       "      <td>BGR</td>\n",
       "    </tr>\n",
       "  </tbody>\n",
       "</table>\n",
       "</div>"
      ],
      "text/plain": [
       "  CNTRY_NAME code\n",
       "0    Albania  ALB\n",
       "1    Belgium  BEL\n",
       "2   Bulgaria  BGR"
      ]
     },
     "execution_count": 170,
     "metadata": {},
     "output_type": "execute_result"
    }
   ],
   "source": [
    "#Checking the Data\n",
    "NATO.head(3)"
   ]
  },
  {
   "cell_type": "markdown",
   "metadata": {
    "colab_type": "text",
    "id": "zzdAG2ogNi7u"
   },
   "source": [
    "Essentially testing - Countries are more similar to each other in Internet Censorship when they are NATO members as opposed to when one of them is a NATO member and the other isnt\n",
    "\n",
    "**H0** - SIMILARITY SCORE FOR country pairs wherein both are memebers of NATO AND country pairs wherein one country is a member of NATO while the other isnt ARE SIMILIAR \n",
    "                          \n",
    "\n",
    "H1 - SIMILARITY SCORES FOR country pairs wherein both are memebers of NATO IS GREATER THAN country pairs wherein one country is a member of NATO while the other isnt. \n"
   ]
  },
  {
   "cell_type": "code",
   "execution_count": 171,
   "metadata": {
    "colab": {
     "base_uri": "https://localhost:8080/",
     "height": 71
    },
    "colab_type": "code",
    "id": "UdKDtPFXgire",
    "outputId": "650f38b7-8824-4cb0-ed76-b39dd49d8c69"
   },
   "outputs": [
    {
     "data": {
      "text/plain": [
       "({'test score': 79556.0, 'p Value': 3.87518494655817e-19},\n",
       " {'Varinace between Similiar Edges': 0.012768973625993559,\n",
       "  'Variance between Dissimilar Edges': 0.026379295854797202},\n",
       " {'Median of hyp. greater group': 0.9908185531792778,\n",
       "  'Median of hyp. less group': 0.9553708687940732})"
      ]
     },
     "execution_count": 171,
     "metadata": {},
     "output_type": "execute_result"
    }
   ],
   "source": [
    "Hypo_Test_Groups(NATO)"
   ]
  },
  {
   "cell_type": "markdown",
   "metadata": {
    "colab_type": "text",
    "id": "s3xZHWEkM9ND"
   },
   "source": [
    "Since the above p value is lesser than threshold(0.5), we can reject H0\n",
    "\n",
    "Hence we can conclude that countries which are memebrs of NATO are more similar to each other than to countries which arent members of NATO\n",
    "\n",
    "As expected non-members states have much higher variance than member states"
   ]
  },
  {
   "cell_type": "markdown",
   "metadata": {
    "colab_type": "text",
    "id": "LRU1AaZNRov2"
   },
   "source": [
    "## 7b. Economy (WEF Competitiveness Index)"
   ]
  },
  {
   "cell_type": "markdown",
   "metadata": {
    "colab_type": "text",
    "id": "dxM-FnIskmdG"
   },
   "source": [
    "The World Economic Forums Global Competitiveness Index measures the set of institutions, policies, and factors that set the sustainable current and medium-term levels of economic prosperity. The Global Competitiveness Index's annual reports are somewhat similar to the Ease of Doing Business Index.\n",
    "\n",
    "Learn More:\n",
    "\n",
    "[WEF 2019 Report](https://en.wikipedia.org/wiki/Global_Competitiveness_Report)"
   ]
  },
  {
   "cell_type": "code",
   "execution_count": 172,
   "metadata": {
    "colab": {
     "base_uri": "https://localhost:8080/",
     "height": 142
    },
    "colab_type": "code",
    "id": "ONyI_2e-Rurk",
    "outputId": "23cb051d-a1b3-4889-953b-0289f9788fbd"
   },
   "outputs": [
    {
     "data": {
      "text/html": [
       "<div>\n",
       "<style scoped>\n",
       "    .dataframe tbody tr th:only-of-type {\n",
       "        vertical-align: middle;\n",
       "    }\n",
       "\n",
       "    .dataframe tbody tr th {\n",
       "        vertical-align: top;\n",
       "    }\n",
       "\n",
       "    .dataframe thead th {\n",
       "        text-align: right;\n",
       "    }\n",
       "</style>\n",
       "<table border=\"1\" class=\"dataframe\">\n",
       "  <thead>\n",
       "    <tr style=\"text-align: right;\">\n",
       "      <th></th>\n",
       "      <th>code</th>\n",
       "      <th>scores</th>\n",
       "      <th>Index</th>\n",
       "    </tr>\n",
       "  </thead>\n",
       "  <tbody>\n",
       "    <tr>\n",
       "      <th>0</th>\n",
       "      <td>SGP</td>\n",
       "      <td>84.8</td>\n",
       "      <td>High</td>\n",
       "    </tr>\n",
       "    <tr>\n",
       "      <th>1</th>\n",
       "      <td>USA</td>\n",
       "      <td>83.7</td>\n",
       "      <td>High</td>\n",
       "    </tr>\n",
       "    <tr>\n",
       "      <th>2</th>\n",
       "      <td>HKG</td>\n",
       "      <td>83.1</td>\n",
       "      <td>High</td>\n",
       "    </tr>\n",
       "  </tbody>\n",
       "</table>\n",
       "</div>"
      ],
      "text/plain": [
       "  code  scores Index\n",
       "0  SGP    84.8  High\n",
       "1  USA    83.7  High\n",
       "2  HKG    83.1  High"
      ]
     },
     "execution_count": 172,
     "metadata": {},
     "output_type": "execute_result"
    }
   ],
   "source": [
    "# Reading the Data\n",
    "WEF.head(3)"
   ]
  },
  {
   "cell_type": "markdown",
   "metadata": {
    "colab_type": "text",
    "id": "nh0Dc6S2jmq_"
   },
   "source": [
    "### Test 1: Correlation\n",
    "We compute simliarities between WEF scores across country pairs. "
   ]
  },
  {
   "cell_type": "code",
   "execution_count": 173,
   "metadata": {},
   "outputs": [
    {
     "data": {
      "text/plain": [
       "{'test': (0.1532195406499631, 1.0883644659921674e-08),\n",
       " 'degrees of freedom': 1376}"
      ]
     },
     "execution_count": 173,
     "metadata": {},
     "output_type": "execute_result"
    }
   ],
   "source": [
    "correlation(WEF)"
   ]
  },
  {
   "cell_type": "markdown",
   "metadata": {},
   "source": [
    "We find similarities in WEF scores to be slightly positively correlated with similarities in website blocking, r(1376) = 0.15, p<0.001. "
   ]
  },
  {
   "cell_type": "markdown",
   "metadata": {
    "colab_type": "text",
    "id": "g2esjFV4jbi9"
   },
   "source": [
    "## European Economic Area (EEA) \n",
    "\n",
    "\n",
    "Austria, Belgium, Bulgaria, Croatia, Republic of Cyprus, Czech Republic, Denmark, Estonia, Finland, France, Germany, Greece, Hungary, Ireland, Italy, Latvia, Lithuania, Luxembourg, Malta, Netherlands, Poland, Portugal, Romania, Slovakia, Slovenia, Spain, Iceland, Norway, Sweden.\n",
    "\n"
   ]
  },
  {
   "cell_type": "code",
   "execution_count": 174,
   "metadata": {},
   "outputs": [],
   "source": [
    "EEA_country_names = [\n",
    " 'Austria', 'Belgium', 'Bulgaria', 'Croatia', 'Republic of Cyprus', 'Czech Republic', 'Denmark', 'Estonia', 'Finland', 'France', 'Germany', 'Greece', 'Hungary', 'Ireland', 'Italy', 'Latvia', 'Lithuania', 'Luxembourg', 'Malta', 'Netherlands', 'Poland', 'Portugal', 'Romania', 'Slovakia', 'Slovenia', 'Spain', 'Iceland', 'Norway', 'Sweden', 'Liechtenstein', 'Norway', 'Switzerland',   \n",
    "]\n",
    "\n",
    "ccs = pd.read_csv('../local_country_variables/countries_codes_and_coordinates.csv')\n",
    "\n",
    "eea = []\n",
    "for name in EEA_country_names:\n",
    "    try:\n",
    "        alpha3cc = ccs[ccs['Country'] == name]['Alpha-3 code'].values[0][2:-1]\n",
    "    except:\n",
    "        pass\n",
    "    eea.append([name, alpha3cc])\n",
    "\n",
    "EEA = pd.DataFrame(eea, columns=['CNTRY_NAME', 'code'])"
   ]
  },
  {
   "cell_type": "code",
   "execution_count": 175,
   "metadata": {},
   "outputs": [
    {
     "data": {
      "text/plain": [
       "({'test score': 90590.0, 'p Value': 4.2886529811028635e-21},\n",
       " {'Varinace between Similiar Edges': 0.0010116765775590615,\n",
       "  'Variance between Dissimilar Edges': 0.025814691328673017},\n",
       " {'Median of hyp. greater group': 0.9889461276295837,\n",
       "  'Median of hyp. less group': 0.9552646623894848})"
      ]
     },
     "execution_count": 175,
     "metadata": {},
     "output_type": "execute_result"
    }
   ],
   "source": [
    "Hypo_Test_Groups(EEA)"
   ]
  },
  {
   "cell_type": "markdown",
   "metadata": {
    "colab_type": "text",
    "id": "yJvpa_PVirs8"
   },
   "source": [
    "## 7c. Cultural affinity (Commonwealth Members)"
   ]
  },
  {
   "cell_type": "markdown",
   "metadata": {
    "colab_type": "text",
    "id": "6AfF0X5wleAn"
   },
   "source": [
    "The Commonwealth of Nations is a political association of 54 member states, nearly all former territories of the British Empire. Member states have no legal obligations to one another, but are connected through their use of the English language and historical ties.\n",
    "\n",
    "Learn More:\n",
    "[Commonwealth of Nations](https://en.wikipedia.org/wiki/Commonwealth_of_Nations)"
   ]
  },
  {
   "cell_type": "code",
   "execution_count": 183,
   "metadata": {
    "colab": {
     "base_uri": "https://localhost:8080/",
     "height": 142
    },
    "colab_type": "code",
    "id": "8QBTPPfLVAcN",
    "outputId": "e3cdd14b-159e-4760-840c-b0eb301ccf02"
   },
   "outputs": [
    {
     "data": {
      "text/html": [
       "<div>\n",
       "<style scoped>\n",
       "    .dataframe tbody tr th:only-of-type {\n",
       "        vertical-align: middle;\n",
       "    }\n",
       "\n",
       "    .dataframe tbody tr th {\n",
       "        vertical-align: top;\n",
       "    }\n",
       "\n",
       "    .dataframe thead th {\n",
       "        text-align: right;\n",
       "    }\n",
       "</style>\n",
       "<table border=\"1\" class=\"dataframe\">\n",
       "  <thead>\n",
       "    <tr style=\"text-align: right;\">\n",
       "      <th></th>\n",
       "      <th>COUNTRY</th>\n",
       "      <th>code</th>\n",
       "    </tr>\n",
       "  </thead>\n",
       "  <tbody>\n",
       "    <tr>\n",
       "      <th>0</th>\n",
       "      <td>Antigua and Barbuda</td>\n",
       "      <td>ATG</td>\n",
       "    </tr>\n",
       "    <tr>\n",
       "      <th>1</th>\n",
       "      <td>Australia</td>\n",
       "      <td>AUS</td>\n",
       "    </tr>\n",
       "    <tr>\n",
       "      <th>2</th>\n",
       "      <td>Bangladesh</td>\n",
       "      <td>BGD</td>\n",
       "    </tr>\n",
       "  </tbody>\n",
       "</table>\n",
       "</div>"
      ],
      "text/plain": [
       "               COUNTRY code\n",
       "0  Antigua and Barbuda  ATG\n",
       "1            Australia  AUS\n",
       "2           Bangladesh  BGD"
      ]
     },
     "execution_count": 183,
     "metadata": {},
     "output_type": "execute_result"
    }
   ],
   "source": [
    "#Reading the Data\n",
    "Commonwealth.head(3)"
   ]
  },
  {
   "cell_type": "markdown",
   "metadata": {
    "colab_type": "text",
    "id": "F19w2wP04A0a"
   },
   "source": [
    "Essentially testing - Countries are more similar to each other in Internet Censorship when they are culturally aligned (e.g. both are Commonwealth nations) as opposed to when one of them is a Commonwealth member and the other isnt\n",
    "\n",
    "**H0** - SIMILARITY SCORE FOR country pairs wherein both are memebers of Commonwealth AND country pairs wherein one country is a member of Commonwealth while the other isnt ARE SIMILIAR \n",
    "                          \n",
    "\n",
    "H1 - SIMILARITY SCORES FOR country pairs wherein both are memebers of Commonwealth IS GREATER THAN country pairs wherein one country is a member of Commonwealth while the other isnt. \n"
   ]
  },
  {
   "cell_type": "code",
   "execution_count": 184,
   "metadata": {
    "colab": {
     "base_uri": "https://localhost:8080/",
     "height": 71
    },
    "colab_type": "code",
    "id": "FLP_JuPkjDOp",
    "outputId": "f1e58a0b-28a6-483e-e79e-3fb1acae0b0d"
   },
   "outputs": [
    {
     "data": {
      "text/plain": [
       "({'test score': 9393.0, 'p Value': 0.6264448631342487},\n",
       " {'Varinace between Similiar Edges': 0.03171062310318558,\n",
       "  'Variance between Dissimilar Edges': 0.02995818757560687},\n",
       " {'Median of hyp. greater group': 0.9466965491621719,\n",
       "  'Median of hyp. less group': 0.9540215084273962})"
      ]
     },
     "execution_count": 184,
     "metadata": {},
     "output_type": "execute_result"
    }
   ],
   "source": [
    "Hypo_Test_Groups(Commonwealth)"
   ]
  },
  {
   "cell_type": "markdown",
   "metadata": {
    "colab_type": "text",
    "id": "Co4F93DybZmX"
   },
   "source": [
    "Since the above p value is greater than threshold(0.5), we CAN NOT reject H0\n",
    "\n",
    "Hence we CAN NOT SAY that countries which are memebrs of commonwealth are more similar to each other than to countries which arent members of COMMONWEALTH.\n",
    "\n",
    "Chances are a country could be as similar to a member of commonwealth in terms of its internet censorship as it could be to a non member\n",
    "\n",
    "The variance calculated for these two buckets also demonstrates the same"
   ]
  },
  {
   "cell_type": "markdown",
   "metadata": {
    "colab_type": "text",
    "id": "IvijQ-Lxbusz"
   },
   "source": [
    "## 7d. Media Freedom (World Freedom of Press Index)"
   ]
  },
  {
   "cell_type": "markdown",
   "metadata": {
    "colab_type": "text",
    "id": "sy0VTSIOxXW0"
   },
   "source": [
    "The WORLD PRESS FREEDOM INDEX by Reporters Without Borders ranks 180 countries and regions according to the level of freedom available to journalists. It is a snapshot of the media freedom situation based on an evaluation of pluralism, independence of the media, quality of legislative framework and safety of journalists in each country and region.\n",
    "\n",
    "Learn More:\n",
    "\n",
    "Reporters Without Borders Report [2019 Ranking](https://rsf.org/en/ranking/2019)\n",
    "\n"
   ]
  },
  {
   "cell_type": "code",
   "execution_count": 178,
   "metadata": {
    "colab": {
     "base_uri": "https://localhost:8080/",
     "height": 173
    },
    "colab_type": "code",
    "id": "HViBsQCSb0Ek",
    "outputId": "332c16ff-7b89-44df-faba-69408663203c"
   },
   "outputs": [
    {
     "data": {
      "text/html": [
       "<div>\n",
       "<style scoped>\n",
       "    .dataframe tbody tr th:only-of-type {\n",
       "        vertical-align: middle;\n",
       "    }\n",
       "\n",
       "    .dataframe tbody tr th {\n",
       "        vertical-align: top;\n",
       "    }\n",
       "\n",
       "    .dataframe thead th {\n",
       "        text-align: right;\n",
       "    }\n",
       "</style>\n",
       "<table border=\"1\" class=\"dataframe\">\n",
       "  <thead>\n",
       "    <tr style=\"text-align: right;\">\n",
       "      <th></th>\n",
       "      <th>code</th>\n",
       "      <th>scores</th>\n",
       "    </tr>\n",
       "    <tr>\n",
       "      <th>Rank 2019</th>\n",
       "      <th></th>\n",
       "      <th></th>\n",
       "    </tr>\n",
       "  </thead>\n",
       "  <tbody>\n",
       "    <tr>\n",
       "      <th>1</th>\n",
       "      <td>NOR</td>\n",
       "      <td>92.18</td>\n",
       "    </tr>\n",
       "    <tr>\n",
       "      <th>2</th>\n",
       "      <td>FIN</td>\n",
       "      <td>92.10</td>\n",
       "    </tr>\n",
       "    <tr>\n",
       "      <th>3</th>\n",
       "      <td>SWE</td>\n",
       "      <td>91.69</td>\n",
       "    </tr>\n",
       "  </tbody>\n",
       "</table>\n",
       "</div>"
      ],
      "text/plain": [
       "          code  scores\n",
       "Rank 2019             \n",
       "1          NOR   92.18\n",
       "2          FIN   92.10\n",
       "3          SWE   91.69"
      ]
     },
     "execution_count": 178,
     "metadata": {},
     "output_type": "execute_result"
    }
   ],
   "source": [
    "#Reading the Data\n",
    "MediaDF.head(3)"
   ]
  },
  {
   "cell_type": "code",
   "execution_count": 179,
   "metadata": {},
   "outputs": [
    {
     "data": {
      "text/plain": [
       "{'test': (0.40284008922040404, 6.573405995296292e-55),\n",
       " 'degrees of freedom': 1376}"
      ]
     },
     "execution_count": 179,
     "metadata": {},
     "output_type": "execute_result"
    }
   ],
   "source": [
    "correlation(MediaDF)"
   ]
  },
  {
   "cell_type": "markdown",
   "metadata": {
    "colab_type": "text",
    "id": "8NqFGHc1eICF"
   },
   "source": [
    "We find a moderate positive correlation between blocking similarity and media freedom, r(1376 )= 0.40, p<0.001."
   ]
  },
  {
   "cell_type": "markdown",
   "metadata": {
    "colab_type": "text",
    "id": "LjGbJOuedxoB"
   },
   "source": [
    "Since the above p value is lesser than threshold(0.5), we can reject H0\n",
    "\n",
    "\n",
    "Hence we can conclude that country which are having high press Freedom  are more similar in internet censorship to countries where there is also high press Freedom THAN to countries which are having lesser press freedom\n",
    "\n",
    "The difference in variation of their similarity scores is noteworthy. The variance of similarity scores for edges where both countries have high press freedom is 10 times lesser than variance in similarity scores for edges wherein only one country has high press freedom while the other has low press freedom"
   ]
  },
  {
   "cell_type": "markdown",
   "metadata": {
    "colab_type": "text",
    "id": "i-PkEfHqfAxn"
   },
   "source": [
    "## 7e. Quality of Nationality (QNI Index)"
   ]
  },
  {
   "cell_type": "markdown",
   "metadata": {
    "colab_type": "text",
    "id": "kkAuQdqovUFE"
   },
   "source": [
    "The Quality of Nationality Index (QNI) ranks the objective quality of nationalities worldwide. It explores three internal factors (economic strength, human development, and peace and stability) and four external factors (diversity and weight of travel freedom and diversity and weight of settlement freedom) which are used to measure the value of virtually all nationalities worldwide\n",
    "\n",
    "Learn More:\n",
    "\n",
    "[QNI website](https://www.nationalityindex.com/)\n",
    "\n",
    "[Wiki Page](https://en.wikipedia.org/wiki/The_Quality_of_Nationality_Index)"
   ]
  },
  {
   "cell_type": "code",
   "execution_count": 180,
   "metadata": {
    "colab": {
     "base_uri": "https://localhost:8080/",
     "height": 142
    },
    "colab_type": "code",
    "id": "ko5SIpvFlJlh",
    "outputId": "c6d9ed9c-adae-4f1b-ef12-b098292fd20e"
   },
   "outputs": [
    {
     "data": {
      "text/html": [
       "<div>\n",
       "<style scoped>\n",
       "    .dataframe tbody tr th:only-of-type {\n",
       "        vertical-align: middle;\n",
       "    }\n",
       "\n",
       "    .dataframe tbody tr th {\n",
       "        vertical-align: top;\n",
       "    }\n",
       "\n",
       "    .dataframe thead th {\n",
       "        text-align: right;\n",
       "    }\n",
       "</style>\n",
       "<table border=\"1\" class=\"dataframe\">\n",
       "  <thead>\n",
       "    <tr style=\"text-align: right;\">\n",
       "      <th></th>\n",
       "      <th>code</th>\n",
       "      <th>scores</th>\n",
       "    </tr>\n",
       "  </thead>\n",
       "  <tbody>\n",
       "    <tr>\n",
       "      <th>60</th>\n",
       "      <td>FRA</td>\n",
       "      <td>83.46</td>\n",
       "    </tr>\n",
       "    <tr>\n",
       "      <th>127</th>\n",
       "      <td>NLD</td>\n",
       "      <td>82.82</td>\n",
       "    </tr>\n",
       "    <tr>\n",
       "      <th>64</th>\n",
       "      <td>DEU</td>\n",
       "      <td>82.75</td>\n",
       "    </tr>\n",
       "  </tbody>\n",
       "</table>\n",
       "</div>"
      ],
      "text/plain": [
       "    code  scores\n",
       "60   FRA   83.46\n",
       "127  NLD   82.82\n",
       "64   DEU   82.75"
      ]
     },
     "execution_count": 180,
     "metadata": {},
     "output_type": "execute_result"
    }
   ],
   "source": [
    "#Reading the Data\n",
    "QNI.head(3)"
   ]
  },
  {
   "cell_type": "code",
   "execution_count": 182,
   "metadata": {
    "colab": {
     "base_uri": "https://localhost:8080/",
     "height": 71
    },
    "colab_type": "code",
    "id": "B5oJ_icIYUid",
    "outputId": "cf8c8e6a-1837-4ba4-e56f-cc4ac5616cdd"
   },
   "outputs": [
    {
     "data": {
      "text/plain": [
       "{'test': (0.08112200732025271, 0.0025816851857823515),\n",
       " 'degrees of freedom': 1376}"
      ]
     },
     "execution_count": 182,
     "metadata": {},
     "output_type": "execute_result"
    }
   ],
   "source": [
    "correlation(QNI)"
   ]
  },
  {
   "cell_type": "markdown",
   "metadata": {
    "colab_type": "text",
    "id": "f__oAeB_ueQC"
   },
   "source": [
    "Since the above p value is lesser than threshold(0.5), we can reject H0\n",
    "\n",
    "Hence we can conclude that country which are having high quality of overall living  are more similar in internet censorship to countries where there is high quality of overall living THAN to countries which are having low quality of overall living \n",
    "\n",
    "The difference in variation of their similarity scores is noteworthy. The variance of similarity scores for edges where both countries have high QNI Index is almost 8 times lesser than variance in similarity scores for edges wherein only one country has high QNI index  while the other has low QNI index "
   ]
  },
  {
   "cell_type": "markdown",
   "metadata": {
    "colab_type": "text",
    "id": "V36DLT4yu6cj"
   },
   "source": [
    "## 7f. Civil Rights and Freedom  (Freedom in the World Index)"
   ]
  },
  {
   "cell_type": "markdown",
   "metadata": {
    "colab_type": "text",
    "id": "AvU9wJ3Fih6q"
   },
   "source": [
    "Freedom in the World is Freedom House's flagship annual report, assessing the condition of political rights and civil liberties around the world. For each country and territory, Freedom in the World analyzes the electoral process, political pluralism and participation, the functioning of the government, freedom of expression and of belief, associational and organizational rights, the rule of law, and personal autonomy and individual rights.\n",
    "\n",
    "Learn More:\n",
    "\n",
    "[FIW 2018 Report](https://freedomhouse.org/sites/default/files/2020-02/FreedomintheWorld2018COMPLETEBOOK.pdf)"
   ]
  },
  {
   "cell_type": "code",
   "execution_count": 24,
   "metadata": {
    "colab": {
     "base_uri": "https://localhost:8080/",
     "height": 142
    },
    "colab_type": "code",
    "id": "0RIAtMiy3p0u",
    "outputId": "2c6b6ad9-c846-4312-b250-a791a7bd1cf1"
   },
   "outputs": [
    {
     "data": {
      "text/html": [
       "<div>\n",
       "<style scoped>\n",
       "    .dataframe tbody tr th:only-of-type {\n",
       "        vertical-align: middle;\n",
       "    }\n",
       "\n",
       "    .dataframe tbody tr th {\n",
       "        vertical-align: top;\n",
       "    }\n",
       "\n",
       "    .dataframe thead th {\n",
       "        text-align: right;\n",
       "    }\n",
       "</style>\n",
       "<table border=\"1\" class=\"dataframe\">\n",
       "  <thead>\n",
       "    <tr style=\"text-align: right;\">\n",
       "      <th></th>\n",
       "      <th>code</th>\n",
       "      <th>scores</th>\n",
       "    </tr>\n",
       "  </thead>\n",
       "  <tbody>\n",
       "    <tr>\n",
       "      <th>135</th>\n",
       "      <td>NOR</td>\n",
       "      <td>100</td>\n",
       "    </tr>\n",
       "    <tr>\n",
       "      <th>61</th>\n",
       "      <td>FIN</td>\n",
       "      <td>100</td>\n",
       "    </tr>\n",
       "    <tr>\n",
       "      <th>176</th>\n",
       "      <td>SWE</td>\n",
       "      <td>100</td>\n",
       "    </tr>\n",
       "  </tbody>\n",
       "</table>\n",
       "</div>"
      ],
      "text/plain": [
       "    code  scores\n",
       "135  NOR     100\n",
       "61   FIN     100\n",
       "176  SWE     100"
      ]
     },
     "execution_count": 24,
     "metadata": {
      "tags": []
     },
     "output_type": "execute_result"
    }
   ],
   "source": [
    "#Reading the Data\n",
    "Freedom.head(3)"
   ]
  },
  {
   "cell_type": "code",
   "execution_count": 167,
   "metadata": {
    "colab": {
     "base_uri": "https://localhost:8080/",
     "height": 71
    },
    "colab_type": "code",
    "id": "xLsGjRxKt-jg",
    "outputId": "a2603398-9e4e-440d-a86f-9026ac4fc781"
   },
   "outputs": [
    {
     "data": {
      "text/plain": [
       "{'test': (0.44549826210629173, 3.799586314786976e-68),\n",
       " 'degrees of freedom': 1376}"
      ]
     },
     "execution_count": 167,
     "metadata": {},
     "output_type": "execute_result"
    }
   ],
   "source": [
    "correlation(Freedom)"
   ]
  },
  {
   "cell_type": "markdown",
   "metadata": {
    "colab_type": "text",
    "id": "CxuZaeiFxyTf"
   },
   "source": [
    "We find a moderate positive correlation between World Press Freedom ranking similarity and Internet blocking similarity, r(1376) = 0.45, p<0.001."
   ]
  }
 ],
 "metadata": {
  "accelerator": "TPU",
  "colab": {
   "collapsed_sections": [
    "wwmBWSLLJQzJ",
    "0UcXBgj9MwJl",
    "nY8uVQYwJQzZ",
    "O2XBbOfVJQzm",
    "nHfBC3U_JQzy",
    "RQYfLRm6JQz0",
    "OLDSUbdNJQ0F",
    "WFyd7MMPJQ0V",
    "1fINWfo6JQ0b",
    "CHmStC83RD53",
    "Z-Iix1x_JQ0i",
    "U0IUy6TCJQ1D",
    "Rl4-MRMgJQ1k",
    "5SBW-hF_XIOv",
    "ixUEoPHaJQ2C",
    "cqW0CImEJQ2M",
    "BrNYT1KMJQ2Y",
    "cJaZwE6EIW-5",
    "mxWYz9Q4lWsn",
    "WA4MsodRlQXc",
    "k2KccZxOuhQg",
    "MgPK89cKXPj7",
    "TSl2v_JOLLig",
    "LRU1AaZNRov2",
    "yJvpa_PVirs8",
    "IvijQ-Lxbusz",
    "i-PkEfHqfAxn",
    "V36DLT4yu6cj"
   ],
   "machine_shape": "hm",
   "name": "ICLAB_Data_Cleaning_and_Analysis.ipynb",
   "provenance": []
  },
  "kernelspec": {
   "display_name": "Python 3",
   "language": "python",
   "name": "python3"
  },
  "language_info": {
   "codemirror_mode": {
    "name": "ipython",
    "version": 3
   },
   "file_extension": ".py",
   "mimetype": "text/x-python",
   "name": "python",
   "nbconvert_exporter": "python",
   "pygments_lexer": "ipython3",
   "version": "3.6.9"
  }
 },
 "nbformat": 4,
 "nbformat_minor": 1
}
