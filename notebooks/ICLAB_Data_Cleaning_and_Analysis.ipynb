{
 "cells": [
  {
   "cell_type": "markdown",
   "metadata": {},
   "source": [
    "# 1a)  IMPORTING AND CLEANING THE DATA"
   ]
  },
  {
   "cell_type": "code",
   "execution_count": 1,
   "metadata": {},
   "outputs": [],
   "source": [
    "import pandas as pd\n",
    "import os\n",
    "import re\n",
    "import tldextract\n",
    "import numpy as np\n",
    "import matplotlib.pyplot as plt\n",
    "import seaborn as sns\n",
    "from scipy import spatial\n",
    "import os, time, http.client\n",
    "from termcolor import colored\n",
    "import sys\n",
    "import json\n",
    "from pygments import highlight, lexers, formatters\n",
    "import pycountry"
   ]
  },
  {
   "cell_type": "code",
   "execution_count": 2,
   "metadata": {},
   "outputs": [],
   "source": [
    "#iclabcombined = pd.read_csv(\"combined.csv\", dtype={'country' : str})"
   ]
  },
  {
   "cell_type": "markdown",
   "metadata": {},
   "source": [
    "Dropping the columns which were meant for internal use of ICLAB team and the header columns which have come into dataset via join"
   ]
  },
  {
   "cell_type": "code",
   "execution_count": 3,
   "metadata": {},
   "outputs": [],
   "source": [
    "# iclabcombined.drop(['filename', 'as_number'], axis=1, inplace= True)\n",
    "\n",
    "# iclabcombined.drop([ 3078134,  4235577, 12411076, 18967078, 25041685, 26600938,\n",
    "#             28192530, 29460039, 30795516, 32569776, 34391850, 36093972,\n",
    "#             37793956, 39298313, 40934970, 42276914, 42976448, 44455181,\n",
    "#             47068048, 49383978], inplace = True)"
   ]
  },
  {
   "cell_type": "markdown",
   "metadata": {},
   "source": [
    "Correcting wrongly coded boolean values in the datasets"
   ]
  },
  {
   "cell_type": "code",
   "execution_count": 4,
   "metadata": {},
   "outputs": [],
   "source": [
    "# iclabcombined['dns'].replace('false',False,inplace=True)\n",
    "# iclabcombined['dns_all'].replace('false',False,inplace=True)\n",
    "# iclabcombined['block'].replace('false',False,inplace=True)\n",
    "# iclabcombined['packet_updated'].replace('false',False,inplace=True)\n",
    "# iclabcombined['censored_updated'].replace('false',False,inplace=True)\n",
    "\n",
    "# iclabcombined['dns'].replace('true',True,inplace=True)\n",
    "# iclabcombined['dns_all'].replace('true',True,inplace=True)\n",
    "# iclabcombined['block'].replace('true',True,inplace=True)\n",
    "# iclabcombined['packet_updated'].replace('true',True,inplace=True)\n",
    "# iclabcombined['censored_updated'].replace('true',True,inplace=True)"
   ]
  },
  {
   "cell_type": "markdown",
   "metadata": {},
   "source": [
    "# 1b) Importing categories"
   ]
  },
  {
   "cell_type": "code",
   "execution_count": 5,
   "metadata": {},
   "outputs": [],
   "source": [
    "# catDF = pd.read_fwf('type_domain_mapping.txt',header=None, names=[ \"Name\"], sep=\"\")"
   ]
  },
  {
   "cell_type": "code",
   "execution_count": 6,
   "metadata": {},
   "outputs": [],
   "source": [
    "# catDF = catDF.Name.apply(lambda x: pd.Series(str(x).split(\"|||\"))).rename(columns={0:'category',1:'site'})"
   ]
  },
  {
   "cell_type": "code",
   "execution_count": 7,
   "metadata": {},
   "outputs": [],
   "source": [
    "# allCategories = set(catDF['category'])\n",
    "# len(allCategories)"
   ]
  },
  {
   "cell_type": "code",
   "execution_count": 8,
   "metadata": {},
   "outputs": [],
   "source": [
    "# ADDING CATEGORY AS A PERMANENT COLUMN\n",
    "\n",
    "# urlListAll = iclabcombined['url'].tolist()\n",
    "# sitesListAll = []\n",
    "\n",
    "# for item in urlListAll:\n",
    "#     domainAll = tldextract.extract(item)[1]\n",
    "#     suffixAll = tldextract.extract(item)[2]\n",
    "#     sitesListAll.append(domainAll + \".\" + suffixAll)"
   ]
  },
  {
   "cell_type": "code",
   "execution_count": 9,
   "metadata": {},
   "outputs": [],
   "source": [
    "# iclabcombined['site'] = sitesListAll\n",
    "# iclabcombined = pd.merge(iclabcombined, catDF, on='site',how='left')"
   ]
  },
  {
   "cell_type": "code",
   "execution_count": 10,
   "metadata": {},
   "outputs": [],
   "source": [
    "# PICKLING OUR DATA FOR FASTER ACCESS\n",
    "#iclabcombined.to_pickle('iclabcombined.pkl')"
   ]
  },
  {
   "cell_type": "markdown",
   "metadata": {},
   "source": [
    "==\n",
    "LOADING DATA FRAME FROM PICKLE=="
   ]
  },
  {
   "cell_type": "code",
   "execution_count": 11,
   "metadata": {},
   "outputs": [],
   "source": [
    "iclabcombined = pd.read_pickle('../data//iclab_cleaned_data/iclabCLEAN.pkl')"
   ]
  },
  {
   "cell_type": "code",
   "execution_count": 647,
   "metadata": {},
   "outputs": [
    {
     "name": "stdout",
     "output_type": "stream",
     "text": [
      "The number of observations in our original data set are 50436846 and the number of features/columns are 17 \n"
     ]
    }
   ],
   "source": [
    "print(\"The number of observations in our original data set are {0} and the number of features/columns are {1} \".format(iclabcombined.shape[0],iclabcombined.shape[1]))"
   ]
  },
  {
   "cell_type": "code",
   "execution_count": 12,
   "metadata": {},
   "outputs": [],
   "source": [
    "iclabcombined['category'] = iclabcombined['category'].fillna(0)"
   ]
  },
  {
   "cell_type": "code",
   "execution_count": 13,
   "metadata": {
    "scrolled": true
   },
   "outputs": [],
   "source": [
    "iclabcombined['category']=iclabcombined['category'].replace(0,'Undefined')"
   ]
  },
  {
   "cell_type": "code",
   "execution_count": 14,
   "metadata": {},
   "outputs": [
    {
     "data": {
      "text/html": [
       "<div>\n",
       "<style scoped>\n",
       "    .dataframe tbody tr th:only-of-type {\n",
       "        vertical-align: middle;\n",
       "    }\n",
       "\n",
       "    .dataframe tbody tr th {\n",
       "        vertical-align: top;\n",
       "    }\n",
       "\n",
       "    .dataframe thead th {\n",
       "        text-align: right;\n",
       "    }\n",
       "</style>\n",
       "<table border=\"1\" class=\"dataframe\">\n",
       "  <thead>\n",
       "    <tr style=\"text-align: right;\">\n",
       "      <th></th>\n",
       "      <th>server_t</th>\n",
       "      <th>country</th>\n",
       "      <th>schedule_name</th>\n",
       "      <th>url</th>\n",
       "      <th>dns</th>\n",
       "      <th>dns_reason</th>\n",
       "      <th>dns_all</th>\n",
       "      <th>dns_reason_all</th>\n",
       "      <th>http_status</th>\n",
       "      <th>block</th>\n",
       "      <th>body_len</th>\n",
       "      <th>http_reason</th>\n",
       "      <th>packet_updated</th>\n",
       "      <th>packet_reason</th>\n",
       "      <th>censored_updated</th>\n",
       "      <th>site</th>\n",
       "      <th>category</th>\n",
       "    </tr>\n",
       "  </thead>\n",
       "  <tbody>\n",
       "    <tr>\n",
       "      <th>0</th>\n",
       "      <td>2017-01-01T00:03:55.797Z</td>\n",
       "      <td>UA</td>\n",
       "      <td>alexa-global</td>\n",
       "      <td>4shared.com</td>\n",
       "      <td>False</td>\n",
       "      <td>sameip</td>\n",
       "      <td>False</td>\n",
       "      <td>NaN</td>\n",
       "      <td>200</td>\n",
       "      <td>False</td>\n",
       "      <td>89694</td>\n",
       "      <td>NaN</td>\n",
       "      <td>NaN</td>\n",
       "      <td>NaN</td>\n",
       "      <td>False</td>\n",
       "      <td>4shared.com</td>\n",
       "      <td>File Sharing and Storage</td>\n",
       "    </tr>\n",
       "    <tr>\n",
       "      <th>1</th>\n",
       "      <td>2017-01-01T00:03:55.797Z</td>\n",
       "      <td>UA</td>\n",
       "      <td>alexa-global</td>\n",
       "      <td>quora.com</td>\n",
       "      <td>-2</td>\n",
       "      <td>no_control_resp</td>\n",
       "      <td>False</td>\n",
       "      <td>NaN</td>\n",
       "      <td>200</td>\n",
       "      <td>False</td>\n",
       "      <td>99907</td>\n",
       "      <td>NaN</td>\n",
       "      <td>NaN</td>\n",
       "      <td>NaN</td>\n",
       "      <td>False</td>\n",
       "      <td>quora.com</td>\n",
       "      <td>Reference</td>\n",
       "    </tr>\n",
       "    <tr>\n",
       "      <th>2</th>\n",
       "      <td>2017-01-01T00:03:55.797Z</td>\n",
       "      <td>UA</td>\n",
       "      <td>alexa-global</td>\n",
       "      <td>stackexchange.com</td>\n",
       "      <td>-2</td>\n",
       "      <td>no_control_resp</td>\n",
       "      <td>False</td>\n",
       "      <td>NaN</td>\n",
       "      <td>200</td>\n",
       "      <td>False</td>\n",
       "      <td>83096</td>\n",
       "      <td>NaN</td>\n",
       "      <td>NaN</td>\n",
       "      <td>NaN</td>\n",
       "      <td>False</td>\n",
       "      <td>stackexchange.com</td>\n",
       "      <td>Information Technology</td>\n",
       "    </tr>\n",
       "    <tr>\n",
       "      <th>3</th>\n",
       "      <td>2017-01-01T00:03:55.797Z</td>\n",
       "      <td>UA</td>\n",
       "      <td>alexa-global</td>\n",
       "      <td>whatsapp.com</td>\n",
       "      <td>-2</td>\n",
       "      <td>no_control_resp</td>\n",
       "      <td>False</td>\n",
       "      <td>NaN</td>\n",
       "      <td>200</td>\n",
       "      <td>False</td>\n",
       "      <td>32799</td>\n",
       "      <td>NaN</td>\n",
       "      <td>NaN</td>\n",
       "      <td>NaN</td>\n",
       "      <td>False</td>\n",
       "      <td>whatsapp.com</td>\n",
       "      <td>Instant Messaging</td>\n",
       "    </tr>\n",
       "    <tr>\n",
       "      <th>4</th>\n",
       "      <td>2017-01-01T00:03:55.797Z</td>\n",
       "      <td>UA</td>\n",
       "      <td>alexa-global</td>\n",
       "      <td>atlassian.net</td>\n",
       "      <td>-2</td>\n",
       "      <td>no_control_resp</td>\n",
       "      <td>False</td>\n",
       "      <td>NaN</td>\n",
       "      <td>200</td>\n",
       "      <td>False</td>\n",
       "      <td>38180</td>\n",
       "      <td>NaN</td>\n",
       "      <td>NaN</td>\n",
       "      <td>NaN</td>\n",
       "      <td>False</td>\n",
       "      <td>atlassian.net</td>\n",
       "      <td>Information Technology</td>\n",
       "    </tr>\n",
       "  </tbody>\n",
       "</table>\n",
       "</div>"
      ],
      "text/plain": [
       "                   server_t country schedule_name                url    dns  \\\n",
       "0  2017-01-01T00:03:55.797Z      UA  alexa-global        4shared.com  False   \n",
       "1  2017-01-01T00:03:55.797Z      UA  alexa-global          quora.com     -2   \n",
       "2  2017-01-01T00:03:55.797Z      UA  alexa-global  stackexchange.com     -2   \n",
       "3  2017-01-01T00:03:55.797Z      UA  alexa-global       whatsapp.com     -2   \n",
       "4  2017-01-01T00:03:55.797Z      UA  alexa-global      atlassian.net     -2   \n",
       "\n",
       "        dns_reason dns_all dns_reason_all http_status  block body_len  \\\n",
       "0           sameip   False            NaN         200  False    89694   \n",
       "1  no_control_resp   False            NaN         200  False    99907   \n",
       "2  no_control_resp   False            NaN         200  False    83096   \n",
       "3  no_control_resp   False            NaN         200  False    32799   \n",
       "4  no_control_resp   False            NaN         200  False    38180   \n",
       "\n",
       "  http_reason packet_updated packet_reason  censored_updated  \\\n",
       "0         NaN            NaN           NaN             False   \n",
       "1         NaN            NaN           NaN             False   \n",
       "2         NaN            NaN           NaN             False   \n",
       "3         NaN            NaN           NaN             False   \n",
       "4         NaN            NaN           NaN             False   \n",
       "\n",
       "                site                  category  \n",
       "0        4shared.com  File Sharing and Storage  \n",
       "1          quora.com                 Reference  \n",
       "2  stackexchange.com    Information Technology  \n",
       "3       whatsapp.com         Instant Messaging  \n",
       "4      atlassian.net    Information Technology  "
      ]
     },
     "execution_count": 14,
     "metadata": {},
     "output_type": "execute_result"
    }
   ],
   "source": [
    "iclabcombined.head()"
   ]
  },
  {
   "cell_type": "markdown",
   "metadata": {},
   "source": [
    "# -====- IN THE LATEST ITERATION OF THIS NOTEBOOK, NO FALSE POSITIVIES i.e. NO DATA FOR US HAS BEEN DROPPED -====-"
   ]
  },
  {
   "cell_type": "markdown",
   "metadata": {},
   "source": [
    "# 2. ANALYZING FALSE POSITIVES  (REDUNDANT SECTION)"
   ]
  },
  {
   "cell_type": "code",
   "execution_count": 15,
   "metadata": {},
   "outputs": [],
   "source": [
    "# #function to find blocked URLs\n",
    "# def blockedURLs(cc):\n",
    "#     return (set(iclabcombined[ (iclabcombined['country']== cc)& ((iclabcombined['censored_updated']==True)) ]['url']))"
   ]
  },
  {
   "cell_type": "markdown",
   "metadata": {},
   "source": [
    "### 2a) Looking at sites which only have censored_updated = True"
   ]
  },
  {
   "cell_type": "markdown",
   "metadata": {},
   "source": [
    "The below query produces 167 urls, these are the URLs for which the ICLab team believes the packets might have been injected i.e. becuase there was a response after RST or FIN or maybe because of ICMP admin prohibited i.e. they determined there's a firewall that blocks a connection. Removing these from our data as these are cases of PROBABLE CENSORSHIP and not ACTUAL censorship"
   ]
  },
  {
   "cell_type": "code",
   "execution_count": 16,
   "metadata": {},
   "outputs": [],
   "source": [
    "#( set(iclabcombined[ (iclabcombined['country']=='US')  & ((iclabcombined['dns']== False) & (iclabcombined['dns_all']== False) & (iclabcombined['block']== False) & (iclabcombined['packet_updated']== True))]['url']))"
   ]
  },
  {
   "cell_type": "markdown",
   "metadata": {},
   "source": [
    "Even urls for which a 4xx or 5xx result was returned are accessible and some of them are URLS commonly accessed in US"
   ]
  },
  {
   "cell_type": "code",
   "execution_count": 17,
   "metadata": {},
   "outputs": [],
   "source": [
    "# set(iclabcombined\n",
    "#     [ (iclabcombined['country']=='US') \n",
    "#                    & \n",
    "#      (\n",
    "#          (iclabcombined['http_status']== 403.0) | (iclabcombined['http_status']== 404.0) | (iclabcombined['http_status']== 504.0)\n",
    "#      )\n",
    "#      &\n",
    "#      (   \n",
    "#                        (iclabcombined['dns']== False) & (iclabcombined['dns_all']== False)\n",
    "#                        & (iclabcombined['block']== False) & (iclabcombined['dns_all']== False) \n",
    "#                        & (iclabcombined['packet_updated']== True)\n",
    "#                    )]\n",
    "#      ['url'])"
   ]
  },
  {
   "cell_type": "code",
   "execution_count": 18,
   "metadata": {},
   "outputs": [],
   "source": [
    "#httpError = np.arange(400,600,1,dtype=float)"
   ]
  },
  {
   "cell_type": "markdown",
   "metadata": {},
   "source": [
    "The falsePositIndex here are the sites which return a http 200 and only show packet_updated = True. In below query, I eliminate the countries where the result of HTTP was not a 400/500 errorand the only mechanism of censorship was that the packet_updated = True i.e. all these are probable censorships"
   ]
  },
  {
   "cell_type": "code",
   "execution_count": 19,
   "metadata": {},
   "outputs": [],
   "source": [
    "# falsePositIndex = iclabcombined[\n",
    "#     (~iclabcombined.http_status.isin(httpError))  \n",
    "#                    & (   (iclabcombined['dns']== False) & (iclabcombined['dns_all']== False) & (iclabcombined['block']== False) & (iclabcombined['dns_all']== False) & (iclabcombined['packet_updated']== True)\n",
    "#                      )] [['country','url','http_status']].index.tolist()"
   ]
  },
  {
   "cell_type": "code",
   "execution_count": 20,
   "metadata": {},
   "outputs": [],
   "source": [
    "# print(\"We have \" + str(len(falsePositIndex)) + \" probable censoriships which could be false positives\")"
   ]
  },
  {
   "cell_type": "code",
   "execution_count": 21,
   "metadata": {},
   "outputs": [],
   "source": [
    "# iclabcombined.drop(falsePositIndex,inplace=True)"
   ]
  },
  {
   "cell_type": "markdown",
   "metadata": {},
   "source": [
    "Now having a look at FALSE NEGATIVES\n",
    "We define false negatives as websites which are showing censored_updated = False here but upon testing actually are inaccessible"
   ]
  },
  {
   "cell_type": "code",
   "execution_count": 22,
   "metadata": {},
   "outputs": [],
   "source": [
    "# set(iclabcombined[(iclabcombined['country']=='US')&(iclabcombined['censored_updated']==False) & (iclabcombined.http_status.isin([403.0]))]['url'])"
   ]
  },
  {
   "cell_type": "markdown",
   "metadata": {},
   "source": [
    "In total as seen below we have 3389 websites which show up as not censored in US but the corresponding HTTP results are error codes, manual testing of these websites show that they are accessible, its not possible to actually determine the status of all false negatives. Based on our testing and seeing that they are not marked as blocked eventually and also because we believe that false negatives are not too critical to our project  $hence$ $we$ $wont$ $drop$ $them$ $from$ $the$ $data$ $set$"
   ]
  },
  {
   "cell_type": "markdown",
   "metadata": {},
   "source": [
    "## 2b) Removing the FALSE POSITIVIES (US blocked sites) from our main dataset iclabcombined"
   ]
  },
  {
   "cell_type": "markdown",
   "metadata": {},
   "source": [
    "From this data looking at the sites that are shown as censored in US. THESE SITES HAVE CENSORED = TRUE AND RETURN A HTTP ERROR"
   ]
  },
  {
   "cell_type": "code",
   "execution_count": 23,
   "metadata": {},
   "outputs": [],
   "source": [
    "#set( iclabcombined  [  (iclabcombined['country']=='US') & (iclabcombined.http_status.isin(httpError) & ( (iclabcombined['dns_all']== True) | (iclabcombined['block']== True)|(iclabcombined['censored_updated']== True) | (iclabcombined['packet_updated']== True)))]['url'])"
   ]
  },
  {
   "cell_type": "code",
   "execution_count": 24,
   "metadata": {},
   "outputs": [],
   "source": [
    "# SITES SHOWING HTTP status reason as block in US but still accessible\n",
    "#set( iclabcombined  [  (iclabcombined['country']=='US') & (iclabcombined.http_reason.str.contains('block'))]['url'])"
   ]
  },
  {
   "cell_type": "markdown",
   "metadata": {},
   "source": [
    "Overall all the above results show a very dirty data, we basically removed the root urls of all the sites that show 404 in US and then checked how many of them are accesible. There are no patterns while some are showing as blocked on testing others are not. BELOW WE REMOVE THESE FALSE POSITIVIES FROM THE US"
   ]
  },
  {
   "cell_type": "code",
   "execution_count": 25,
   "metadata": {},
   "outputs": [],
   "source": [
    "#USFPlist = (iclabcombined [(iclabcombined['country']=='US') & (iclabcombined['censored_updated'] == True)]['site']).unique().tolist()"
   ]
  },
  {
   "cell_type": "code",
   "execution_count": 26,
   "metadata": {},
   "outputs": [],
   "source": [
    "#USblockIclab = len(iclabcombined[iclabcombined['site'].isin(USFPlist)])"
   ]
  },
  {
   "cell_type": "code",
   "execution_count": 27,
   "metadata": {},
   "outputs": [],
   "source": [
    "# print(\"There are {} unique blocked websites in the US\".format(len(USFPlist)))\n",
    "# print(\"There are {} total observations of these blocked websites throughout our dataset\".format(USblockIclab))"
   ]
  },
  {
   "cell_type": "code",
   "execution_count": 28,
   "metadata": {},
   "outputs": [],
   "source": [
    "# USFPIndex is the index of all those observations for the unique sites which are blocked in US and we are going to remove from the entire DB\n",
    "#USFPIndex = iclabcombined[iclabcombined['site'].isin(USFPlist)].index"
   ]
  },
  {
   "cell_type": "markdown",
   "metadata": {},
   "source": [
    "# iclabCLEAN is our cleaned dataframe"
   ]
  },
  {
   "cell_type": "code",
   "execution_count": 29,
   "metadata": {},
   "outputs": [],
   "source": [
    "#iclabCLEAN = iclabcombined.drop(USFPIndex)"
   ]
  },
  {
   "cell_type": "markdown",
   "metadata": {},
   "source": [
    "## PICKLING OUR CLEAN DATASET FOR FASTER ACCESS"
   ]
  },
  {
   "cell_type": "code",
   "execution_count": 30,
   "metadata": {},
   "outputs": [],
   "source": [
    "#iclabCLEAN.to_pickle('iclabCLEAN.pkl')"
   ]
  },
  {
   "cell_type": "code",
   "execution_count": 31,
   "metadata": {},
   "outputs": [],
   "source": [
    "# LOADING DATA FRAME FROM PICKLE\n",
    "#iclabCLEAN = pd.read_pickle('iclabCLEAN.pkl')"
   ]
  },
  {
   "cell_type": "code",
   "execution_count": 32,
   "metadata": {},
   "outputs": [],
   "source": [
    "# COMPARNING DATA SIZES of RAW and CLEAN DATA \n",
    "#print(\"The number of observations in our original data set are {0} and the number of features/columns are {1} \".format(iclabcombined.shape[0],iclabcombined.shape[1]))\n",
    "#print(\"The number of observations in our CLEANED data set i.e. without sites blocked in USA are {0} and the number of features/columns are {1} \".format(iclabCLEAN.shape[0],iclabCLEAN.shape[1]))"
   ]
  },
  {
   "cell_type": "markdown",
   "metadata": {},
   "source": [
    "$******************************************************************$"
   ]
  },
  {
   "cell_type": "markdown",
   "metadata": {},
   "source": [
    "# 3.  EXPERIMENT 1"
   ]
  },
  {
   "cell_type": "markdown",
   "metadata": {},
   "source": [
    "Looking at the exact webpages blocked"
   ]
  },
  {
   "cell_type": "code",
   "execution_count": 33,
   "metadata": {},
   "outputs": [],
   "source": [
    "# blockpageTR = set(iclabCLEAN[(iclabCLEAN['country']=='TR') & ((iclabCLEAN['dns_all']==True)| (iclabCLEAN['censored_updated']==True) | (iclabCLEAN['block']==True) | (iclabCLEAN['packet_updated']==True)) ]['url'])\n",
    "# len(blockpageTR)"
   ]
  },
  {
   "cell_type": "code",
   "execution_count": 34,
   "metadata": {},
   "outputs": [],
   "source": [
    "# blockpageRU = set(iclabCLEAN[(iclabCLEAN['country']=='RU') & ((iclabCLEAN['dns_all']==True)| (iclabCLEAN['censored_updated']==True) | (iclabCLEAN['block']==True) | (iclabCLEAN['packet_updated']==True)) ]['url'])\n",
    "# len(blockpageRU)"
   ]
  },
  {
   "cell_type": "code",
   "execution_count": 35,
   "metadata": {},
   "outputs": [],
   "source": [
    "# RUblockpageTR = blockpageTR.intersection(blockpageRU)\n",
    "# RUblockpageTR"
   ]
  },
  {
   "cell_type": "markdown",
   "metadata": {},
   "source": [
    "# EXPERIMENT 2"
   ]
  },
  {
   "cell_type": "code",
   "execution_count": 36,
   "metadata": {},
   "outputs": [],
   "source": [
    "# blockIN = set(iclabCLEAN[(iclabCLEAN['country']=='IN') & ((iclabCLEAN['censored_updated']==True))]['site'])\n",
    "# len(blockIN)"
   ]
  },
  {
   "cell_type": "code",
   "execution_count": 37,
   "metadata": {},
   "outputs": [],
   "source": [
    "# blockCN = set(iclabCLEAN[(iclabCLEAN['country']=='CN') & ((iclabCLEAN['censored_updated']==True))]['site'])\n",
    "# len(blockCN)"
   ]
  },
  {
   "cell_type": "code",
   "execution_count": 38,
   "metadata": {},
   "outputs": [],
   "source": [
    "# blockVN = set(iclabCLEAN[(iclabCLEAN['country']=='VN') & ((iclabCLEAN['censored_updated']==True))]['site'])\n",
    "# len(blockVN)"
   ]
  },
  {
   "cell_type": "code",
   "execution_count": 39,
   "metadata": {},
   "outputs": [],
   "source": [
    "# blockRU = set(iclabCLEAN[(iclabCLEAN['country']=='RU') & ((iclabCLEAN['dns_all']==True)| (iclabCLEAN['censored_updated']==True)| (iclabCLEAN['block']==True) | (iclabCLEAN['packet_updated']==True))]['site'])\n",
    "# len(blockRU)"
   ]
  },
  {
   "cell_type": "code",
   "execution_count": 40,
   "metadata": {},
   "outputs": [],
   "source": [
    "# blockTR = set(iclabCLEAN[(iclabCLEAN['country']=='TR') & ((iclabCLEAN['dns_all']==True)| (iclabCLEAN['censored_updated']==True) | (iclabCLEAN['block']==True) | (iclabCLEAN['packet_updated']==True)) ]['site'])\n",
    "# len(blockTR)"
   ]
  },
  {
   "cell_type": "code",
   "execution_count": 41,
   "metadata": {},
   "outputs": [],
   "source": [
    "# blockNL = set(iclabCLEAN[(iclabCLEAN['country']=='NL') & ((iclabCLEAN['censored_updated']==True))]['site'])\n",
    "# len(blockNL)"
   ]
  },
  {
   "cell_type": "code",
   "execution_count": 42,
   "metadata": {},
   "outputs": [],
   "source": [
    "# blockNZ = set(iclabCLEAN[(iclabCLEAN['country']=='NZ') & ((iclabCLEAN['censored_updated']==True))]['site'])\n",
    "# len(blockNZ)"
   ]
  },
  {
   "cell_type": "code",
   "execution_count": 43,
   "metadata": {},
   "outputs": [],
   "source": [
    "# AU_NZ = blockNZ.intersection(blockAU)\n",
    "# len(AU_NZ)"
   ]
  },
  {
   "cell_type": "code",
   "execution_count": 44,
   "metadata": {},
   "outputs": [],
   "source": [
    "# blockMX = set(iclabCLEAN[(iclabCLEAN['country']=='MX') & ((iclabCLEAN['censored_updated']==True))]['site'])\n",
    "# len(blockMX)"
   ]
  },
  {
   "cell_type": "code",
   "execution_count": 45,
   "metadata": {},
   "outputs": [],
   "source": [
    "# IN_RU = blockIN.intersection(blockRU)\n",
    "# (IN_RU)"
   ]
  },
  {
   "cell_type": "markdown",
   "metadata": {},
   "source": [
    "Intersections as per EXPERIMENT 2"
   ]
  },
  {
   "cell_type": "code",
   "execution_count": 46,
   "metadata": {},
   "outputs": [],
   "source": [
    "# RU_TR = blockRU.intersection(blockTR)"
   ]
  },
  {
   "cell_type": "code",
   "execution_count": 47,
   "metadata": {},
   "outputs": [],
   "source": [
    "# BR_MX = blockMX.intersection(blockBR)"
   ]
  },
  {
   "cell_type": "code",
   "execution_count": 48,
   "metadata": {},
   "outputs": [],
   "source": [
    "# NL_TR = blockNL.intersection(blockTR)"
   ]
  },
  {
   "cell_type": "markdown",
   "metadata": {},
   "source": [
    "As part of Experiment 2 : \n",
    "(a) A look at censored FB Pages in India"
   ]
  },
  {
   "cell_type": "markdown",
   "metadata": {},
   "source": [
    "Looking at worldwide distribution of FB blocking"
   ]
  },
  {
   "cell_type": "code",
   "execution_count": 49,
   "metadata": {},
   "outputs": [],
   "source": [
    "# iclabCLEAN[iclabCLEAN['url'].str.contains('facebook')].groupby('country').count()"
   ]
  },
  {
   "cell_type": "markdown",
   "metadata": {},
   "source": [
    "Looking at FB pages censored in India"
   ]
  },
  {
   "cell_type": "code",
   "execution_count": 50,
   "metadata": {},
   "outputs": [],
   "source": [
    "# fbIndBlock = set (iclabcombined [ ( (iclabcombined['block']== True) | (iclabcombined['censored_updated']== True) | (iclabcombined['packet_updated']== True) ) & (iclabcombined['url'].str.contains('facebook')) & (iclabcombined['country']=='IN') ]['url'])\n",
    "# fbIndBlock"
   ]
  },
  {
   "cell_type": "markdown",
   "metadata": {},
   "source": [
    "(b) A look into religious censorship in the world"
   ]
  },
  {
   "cell_type": "code",
   "execution_count": 51,
   "metadata": {},
   "outputs": [],
   "source": [
    "# iclabCLEAN[ (iclabCLEAN['category'].isin(['Global Religion','Alternative Beliefs'])) & ( (iclabCLEAN['block']== True) | (iclabCLEAN['censored_updated'] == True) ) ].groupby(['country', 'site']).first()"
   ]
  },
  {
   "cell_type": "markdown",
   "metadata": {},
   "source": [
    "# 4) EXPERIMENT 3 : "
   ]
  },
  {
   "cell_type": "markdown",
   "metadata": {},
   "source": [
    "----------Defining a function which computes contribution of each category in a countries blocked sites--------"
   ]
  },
  {
   "cell_type": "code",
   "execution_count": 52,
   "metadata": {},
   "outputs": [],
   "source": [
    "def Category_contributions(cc):\n",
    "    catDataCC = iclabcombined[(iclabcombined['country']==cc) & (iclabcombined['censored_updated']==True) ]\n",
    "    catDataCC= catDataCC.drop(['server_t', 'censored_updated','site','dns_all','packet_reason','url','dns','dns_reason','dns_reason_all','schedule_name','http_status','block','body_len','http_reason','packet_updated'], axis=1)\n",
    "    catDataCC = catDataCC.groupby('category').count()\n",
    "    catDataCC['%Cat'] = (catDataCC['country']*100)/(catDataCC['country'].sum())\n",
    "    catDataCC= catDataCC.reset_index().drop('country',axis=1)\n",
    "    catDataCC= catDataCC.rename(columns={'country':'Number of sites in' + str(cc),'%Cat':cc})\n",
    "    return catDataCC"
   ]
  },
  {
   "cell_type": "code",
   "execution_count": 53,
   "metadata": {},
   "outputs": [],
   "source": [
    "#Category_contributions('US')"
   ]
  },
  {
   "cell_type": "code",
   "execution_count": 54,
   "metadata": {},
   "outputs": [],
   "source": [
    "#Category_contributions('CA')"
   ]
  },
  {
   "cell_type": "code",
   "execution_count": 55,
   "metadata": {},
   "outputs": [],
   "source": [
    "# INplot = Category_contributions('IN')\n",
    "# display(INplot)\n",
    "# TRplot =Category_contributions('TR')\n",
    "# RUplot = Category_contributions('RU')\n",
    "# KRplot= Category_contributions('KR')\n",
    "# USplot = Category_contributions('US')\n",
    "# CNplot = Category_contributions('CN')\n",
    "# CAplot  = Category_contributions('CA')\n",
    "# ZAplot  = Category_contributions('ZA')"
   ]
  },
  {
   "cell_type": "markdown",
   "metadata": {},
   "source": [
    " Plotting the graph below:"
   ]
  },
  {
   "cell_type": "code",
   "execution_count": 56,
   "metadata": {},
   "outputs": [],
   "source": [
    "# graphcompare1 = pd.merge(INplot,TRplot, on='category', how='outer')\n",
    "# graphcompare2 = pd.merge(graphcompare1,KRplot, on='category', how='outer')\n",
    "# graphcompare3 = pd.merge(graphcompare2,RUplot, on='category', how='outer')\n",
    "# graphcompare4 = pd.merge(graphcompare3,USplot, on='category', how='outer')\n",
    "# graphcompare5 = pd.merge(graphcompare4,CNplot, on='category', how='outer')"
   ]
  },
  {
   "cell_type": "code",
   "execution_count": 57,
   "metadata": {},
   "outputs": [],
   "source": [
    "# # set width of bar\n",
    "# barWidth = 0.15\n",
    " \n",
    "# # set height of bar\n",
    "# TR = graphcompare3['TR']\n",
    "# RU = graphcompare3['RU']\n",
    "# IN = graphcompare3['IN']\n",
    "# KR = graphcompare3['KR']\n",
    " \n",
    "# # Set position of bar on X axis\n",
    "# r1 = np.arange(len(TR))\n",
    "# r2 = [x + barWidth for x in r1]\n",
    "# r3 = [x + barWidth for x in r2]\n",
    "# r4 = [x + barWidth for x in r3]\n",
    " \n",
    "# # Make the plot\n",
    "# plt.figure(figsize = (20,12))\n",
    "# plt.bar(r1, TR, color='green', width=barWidth, edgecolor='dimgrey', label='Turkey')\n",
    "# plt.bar(r2, RU, color='red', width=barWidth ,  edgecolor='dimgrey',label='RU')\n",
    "# plt.bar(r3, IN, color='blue', width=barWidth,  edgecolor='dimgrey',label='India')\n",
    "# plt.bar(r4, KR, color='darkorange', width=barWidth,  edgecolor= 'dimgrey',label='South Korea') \n",
    "\n",
    "# # Add xticks on the middle of the group bars\n",
    "# plt.ylabel(\"Percentage\", size=15)\n",
    "# plt.ylim(0,100)\n",
    "# plt.xticks([r for r in range(len(TR))], graphcompare3['category'].tolist() ,rotation=-90, size=16)\n",
    "\n",
    "# # Create legend & Show graphic\n",
    "# plt.legend(loc = 'upper left', fontsize = 15)\n",
    "# plt.title(\"\\n Category-wise blocking in countries \\n\", size = 15)\n",
    "# plt.show()"
   ]
  },
  {
   "cell_type": "markdown",
   "metadata": {},
   "source": [
    "A few sample metrics"
   ]
  },
  {
   "cell_type": "code",
   "execution_count": 58,
   "metadata": {},
   "outputs": [],
   "source": [
    "# graphcompare5.fillna(0,inplace=True)"
   ]
  },
  {
   "cell_type": "code",
   "execution_count": 59,
   "metadata": {},
   "outputs": [],
   "source": [
    "# KRvals = graphcompare5['KR']\n",
    "# RUvals = graphcompare5['RU']\n",
    "# INvals = graphcompare5['IN']\n",
    "# TRvals = graphcompare5['TR']"
   ]
  },
  {
   "cell_type": "code",
   "execution_count": 60,
   "metadata": {},
   "outputs": [],
   "source": [
    "# KRsimilarityRU = (1 - spatial.distance.cosine(KRvals, RUvals))*100\n",
    "# KRsimilarityRU"
   ]
  },
  {
   "cell_type": "code",
   "execution_count": 61,
   "metadata": {},
   "outputs": [],
   "source": [
    "# INsimilarityTR = (1 - spatial.distance.cosine(INvals, TRvals))*100\n",
    "# INsimilarityTR"
   ]
  },
  {
   "cell_type": "code",
   "execution_count": 62,
   "metadata": {},
   "outputs": [],
   "source": [
    "# INsimilarityKR = (1 - spatial.distance.cosine(INvals, KRvals))*100\n",
    "# INsimilarityKR"
   ]
  },
  {
   "cell_type": "code",
   "execution_count": 63,
   "metadata": {},
   "outputs": [],
   "source": [
    "# INsimilarityRU = (1 - spatial.distance.cosine(INvals, RUvals))*100\n",
    "# INsimilarityRU"
   ]
  },
  {
   "cell_type": "code",
   "execution_count": null,
   "metadata": {},
   "outputs": [],
   "source": [
    "# KRsimilarityTR = (1 - spatial.distance.cosine(KRvals, TRvals))*100\n",
    "# KRsimilarityTR"
   ]
  },
  {
   "cell_type": "code",
   "execution_count": null,
   "metadata": {},
   "outputs": [],
   "source": [
    "# RUsimilarityTR = (1 - spatial.distance.cosine(RUvals, TRvals))*100\n",
    "# RUsimilarityTR"
   ]
  },
  {
   "cell_type": "markdown",
   "metadata": {},
   "source": [
    "# Can/Should we do KNN ?"
   ]
  },
  {
   "cell_type": "code",
   "execution_count": 615,
   "metadata": {},
   "outputs": [],
   "source": [
    "# iclabcombinedTEST = iclabcombined.sample(500)"
   ]
  },
  {
   "cell_type": "code",
   "execution_count": 616,
   "metadata": {},
   "outputs": [],
   "source": [
    "# iclabcombinedTEST = iclabcombinedTEST[['country','site','category','censored_updated']]"
   ]
  },
  {
   "cell_type": "code",
   "execution_count": 617,
   "metadata": {},
   "outputs": [],
   "source": [
    "# iclabcombinedTEST.censored_updated.replace([True,False],[1,0],inplace=True)"
   ]
  },
  {
   "cell_type": "code",
   "execution_count": 619,
   "metadata": {},
   "outputs": [],
   "source": [
    "# iclabcombinedTEST =iclabcombinedTEST.groupby('country').agg(dict)"
   ]
  },
  {
   "cell_type": "code",
   "execution_count": 611,
   "metadata": {},
   "outputs": [],
   "source": [
    "# SiteNo = iclabcombinedTEST.site.apply(lambda x: len(x))\n",
    "# CatNo = iclabcombinedTEST.category.apply(lambda x: len(x))\n",
    "# CensoredNo = iclabcombinedTEST.censored_updated.apply(lambda x: sum(x))"
   ]
  },
  {
   "cell_type": "code",
   "execution_count": 612,
   "metadata": {},
   "outputs": [],
   "source": [
    "# iclabcombinedTEST['SiteNo']=SiteNo\n",
    "# iclabcombinedTEST['CatNo']=CatNo\n",
    "# iclabcombinedTEST['CensoredNo']=CensoredNo"
   ]
  },
  {
   "cell_type": "code",
   "execution_count": 746,
   "metadata": {},
   "outputs": [],
   "source": [
    "#iclabcombinedTEST.head()"
   ]
  },
  {
   "cell_type": "markdown",
   "metadata": {},
   "source": [
    "\n",
    "# 5) SIMILARITY METRIC DATAFRAME FOR ALL COUNTRIES\n",
    "# FINAL DATAFRAME NAME IS METRICDF"
   ]
  },
  {
   "cell_type": "code",
   "execution_count": 64,
   "metadata": {},
   "outputs": [
    {
     "name": "stdout",
     "output_type": "stream",
     "text": [
      "The total countries we have in our clean dataset are 55\n"
     ]
    }
   ],
   "source": [
    "allCountries = (iclabcombined['country'].unique())\n",
    "print(\"The total countries we have in our clean dataset are {}\".format(len(allCountries)))"
   ]
  },
  {
   "cell_type": "code",
   "execution_count": 65,
   "metadata": {},
   "outputs": [
    {
     "name": "stdout",
     "output_type": "stream",
     "text": [
      "The total unique categories we have in our clean dataset are 72\n"
     ]
    }
   ],
   "source": [
    "allCategories = (iclabcombined['category'].unique())\n",
    "print(\"The total unique categories we have in our clean dataset are {}\".format(len(allCategories)))"
   ]
  },
  {
   "cell_type": "code",
   "execution_count": 66,
   "metadata": {},
   "outputs": [],
   "source": [
    "simMetricDF = pd.DataFrame(index = allCategories, columns=None)"
   ]
  },
  {
   "cell_type": "code",
   "execution_count": 67,
   "metadata": {},
   "outputs": [
    {
     "data": {
      "text/html": [
       "<div>\n",
       "<style scoped>\n",
       "    .dataframe tbody tr th:only-of-type {\n",
       "        vertical-align: middle;\n",
       "    }\n",
       "\n",
       "    .dataframe tbody tr th {\n",
       "        vertical-align: top;\n",
       "    }\n",
       "\n",
       "    .dataframe thead th {\n",
       "        text-align: right;\n",
       "    }\n",
       "</style>\n",
       "<table border=\"1\" class=\"dataframe\">\n",
       "  <thead>\n",
       "    <tr style=\"text-align: right;\">\n",
       "      <th></th>\n",
       "      <th>category</th>\n",
       "      <th>dummy</th>\n",
       "    </tr>\n",
       "  </thead>\n",
       "  <tbody>\n",
       "    <tr>\n",
       "      <th>0</th>\n",
       "      <td>File Sharing and Storage</td>\n",
       "      <td>NaN</td>\n",
       "    </tr>\n",
       "    <tr>\n",
       "      <th>1</th>\n",
       "      <td>Reference</td>\n",
       "      <td>NaN</td>\n",
       "    </tr>\n",
       "    <tr>\n",
       "      <th>2</th>\n",
       "      <td>Information Technology</td>\n",
       "      <td>NaN</td>\n",
       "    </tr>\n",
       "    <tr>\n",
       "      <th>3</th>\n",
       "      <td>Instant Messaging</td>\n",
       "      <td>NaN</td>\n",
       "    </tr>\n",
       "    <tr>\n",
       "      <th>4</th>\n",
       "      <td>News and Media</td>\n",
       "      <td>NaN</td>\n",
       "    </tr>\n",
       "  </tbody>\n",
       "</table>\n",
       "</div>"
      ],
      "text/plain": [
       "                   category  dummy\n",
       "0  File Sharing and Storage    NaN\n",
       "1                 Reference    NaN\n",
       "2    Information Technology    NaN\n",
       "3         Instant Messaging    NaN\n",
       "4            News and Media    NaN"
      ]
     },
     "execution_count": 67,
     "metadata": {},
     "output_type": "execute_result"
    }
   ],
   "source": [
    "simMetricDF['dummy']= pd.Series(np.zeros(len(simMetricDF)))\n",
    "simMetricDF.reset_index(inplace=True)\n",
    "simMetricDF.rename(columns={'index':'category'},inplace=True)\n",
    "simMetricDF.head()"
   ]
  },
  {
   "cell_type": "code",
   "execution_count": 68,
   "metadata": {},
   "outputs": [],
   "source": [
    "for country in allCountries:\n",
    "    simMetricDF = pd.merge(simMetricDF,Category_contributions(country), on= 'category', how='outer')"
   ]
  },
  {
   "cell_type": "code",
   "execution_count": 69,
   "metadata": {},
   "outputs": [],
   "source": [
    "simMetricDF.set_index('category',inplace = True)"
   ]
  },
  {
   "cell_type": "code",
   "execution_count": 70,
   "metadata": {},
   "outputs": [],
   "source": [
    "#REPLACING NaN's with 0\n",
    "simMetricDF.fillna(0,inplace=True)"
   ]
  },
  {
   "cell_type": "code",
   "execution_count": 71,
   "metadata": {},
   "outputs": [],
   "source": [
    "simMetricDF.drop(\"dummy\",axis=1,inplace = True)"
   ]
  },
  {
   "cell_type": "code",
   "execution_count": 72,
   "metadata": {},
   "outputs": [
    {
     "data": {
      "text/html": [
       "<div>\n",
       "<style scoped>\n",
       "    .dataframe tbody tr th:only-of-type {\n",
       "        vertical-align: middle;\n",
       "    }\n",
       "\n",
       "    .dataframe tbody tr th {\n",
       "        vertical-align: top;\n",
       "    }\n",
       "\n",
       "    .dataframe thead th {\n",
       "        text-align: right;\n",
       "    }\n",
       "</style>\n",
       "<table border=\"1\" class=\"dataframe\">\n",
       "  <thead>\n",
       "    <tr style=\"text-align: right;\">\n",
       "      <th></th>\n",
       "      <th>UA</th>\n",
       "      <th>CO</th>\n",
       "      <th>KR</th>\n",
       "      <th>US</th>\n",
       "      <th>BG</th>\n",
       "      <th>BZ</th>\n",
       "      <th>AU</th>\n",
       "      <th>JP</th>\n",
       "      <th>NL</th>\n",
       "      <th>HK</th>\n",
       "      <th>...</th>\n",
       "      <th>TR</th>\n",
       "      <th>PL</th>\n",
       "      <th>DZ</th>\n",
       "      <th>BR</th>\n",
       "      <th>SC</th>\n",
       "      <th>SA</th>\n",
       "      <th>AT</th>\n",
       "      <th>GR</th>\n",
       "      <th>CR</th>\n",
       "      <th>LI</th>\n",
       "    </tr>\n",
       "    <tr>\n",
       "      <th>category</th>\n",
       "      <th></th>\n",
       "      <th></th>\n",
       "      <th></th>\n",
       "      <th></th>\n",
       "      <th></th>\n",
       "      <th></th>\n",
       "      <th></th>\n",
       "      <th></th>\n",
       "      <th></th>\n",
       "      <th></th>\n",
       "      <th></th>\n",
       "      <th></th>\n",
       "      <th></th>\n",
       "      <th></th>\n",
       "      <th></th>\n",
       "      <th></th>\n",
       "      <th></th>\n",
       "      <th></th>\n",
       "      <th></th>\n",
       "      <th></th>\n",
       "      <th></th>\n",
       "    </tr>\n",
       "  </thead>\n",
       "  <tbody>\n",
       "    <tr>\n",
       "      <th>File Sharing and Storage</th>\n",
       "      <td>0.000000</td>\n",
       "      <td>0.000000</td>\n",
       "      <td>2.176180</td>\n",
       "      <td>0.0</td>\n",
       "      <td>0.0</td>\n",
       "      <td>0.0</td>\n",
       "      <td>10.714286</td>\n",
       "      <td>0.000000</td>\n",
       "      <td>0.000000</td>\n",
       "      <td>4.347826</td>\n",
       "      <td>...</td>\n",
       "      <td>2.062589</td>\n",
       "      <td>0.0</td>\n",
       "      <td>0.0</td>\n",
       "      <td>0.000000</td>\n",
       "      <td>0.0</td>\n",
       "      <td>0.400375</td>\n",
       "      <td>0.0</td>\n",
       "      <td>0.0</td>\n",
       "      <td>0.0</td>\n",
       "      <td>0.0</td>\n",
       "    </tr>\n",
       "    <tr>\n",
       "      <th>Reference</th>\n",
       "      <td>0.000000</td>\n",
       "      <td>0.000000</td>\n",
       "      <td>1.255837</td>\n",
       "      <td>0.0</td>\n",
       "      <td>0.0</td>\n",
       "      <td>0.0</td>\n",
       "      <td>0.000000</td>\n",
       "      <td>1.234568</td>\n",
       "      <td>0.000000</td>\n",
       "      <td>4.347826</td>\n",
       "      <td>...</td>\n",
       "      <td>0.711238</td>\n",
       "      <td>0.0</td>\n",
       "      <td>0.0</td>\n",
       "      <td>6.666667</td>\n",
       "      <td>0.0</td>\n",
       "      <td>0.000000</td>\n",
       "      <td>0.0</td>\n",
       "      <td>0.0</td>\n",
       "      <td>0.0</td>\n",
       "      <td>0.0</td>\n",
       "    </tr>\n",
       "    <tr>\n",
       "      <th>Information Technology</th>\n",
       "      <td>7.667732</td>\n",
       "      <td>0.000000</td>\n",
       "      <td>1.364646</td>\n",
       "      <td>0.0</td>\n",
       "      <td>20.0</td>\n",
       "      <td>0.0</td>\n",
       "      <td>8.928571</td>\n",
       "      <td>4.938272</td>\n",
       "      <td>8.256881</td>\n",
       "      <td>0.000000</td>\n",
       "      <td>...</td>\n",
       "      <td>0.000000</td>\n",
       "      <td>0.0</td>\n",
       "      <td>0.0</td>\n",
       "      <td>6.666667</td>\n",
       "      <td>0.0</td>\n",
       "      <td>0.860380</td>\n",
       "      <td>0.0</td>\n",
       "      <td>0.0</td>\n",
       "      <td>0.0</td>\n",
       "      <td>0.0</td>\n",
       "    </tr>\n",
       "    <tr>\n",
       "      <th>Instant Messaging</th>\n",
       "      <td>0.000000</td>\n",
       "      <td>0.000000</td>\n",
       "      <td>0.040803</td>\n",
       "      <td>0.0</td>\n",
       "      <td>0.0</td>\n",
       "      <td>0.0</td>\n",
       "      <td>0.000000</td>\n",
       "      <td>0.000000</td>\n",
       "      <td>0.000000</td>\n",
       "      <td>0.000000</td>\n",
       "      <td>...</td>\n",
       "      <td>0.000000</td>\n",
       "      <td>0.0</td>\n",
       "      <td>0.0</td>\n",
       "      <td>0.000000</td>\n",
       "      <td>0.0</td>\n",
       "      <td>0.000000</td>\n",
       "      <td>0.0</td>\n",
       "      <td>0.0</td>\n",
       "      <td>0.0</td>\n",
       "      <td>0.0</td>\n",
       "    </tr>\n",
       "    <tr>\n",
       "      <th>News and Media</th>\n",
       "      <td>0.319489</td>\n",
       "      <td>9.090909</td>\n",
       "      <td>4.542776</td>\n",
       "      <td>0.0</td>\n",
       "      <td>0.0</td>\n",
       "      <td>25.0</td>\n",
       "      <td>12.500000</td>\n",
       "      <td>9.876543</td>\n",
       "      <td>39.449541</td>\n",
       "      <td>4.347826</td>\n",
       "      <td>...</td>\n",
       "      <td>23.826458</td>\n",
       "      <td>0.0</td>\n",
       "      <td>0.0</td>\n",
       "      <td>20.000000</td>\n",
       "      <td>0.0</td>\n",
       "      <td>4.335974</td>\n",
       "      <td>0.0</td>\n",
       "      <td>0.0</td>\n",
       "      <td>0.0</td>\n",
       "      <td>0.0</td>\n",
       "    </tr>\n",
       "    <tr>\n",
       "      <th>...</th>\n",
       "      <td>...</td>\n",
       "      <td>...</td>\n",
       "      <td>...</td>\n",
       "      <td>...</td>\n",
       "      <td>...</td>\n",
       "      <td>...</td>\n",
       "      <td>...</td>\n",
       "      <td>...</td>\n",
       "      <td>...</td>\n",
       "      <td>...</td>\n",
       "      <td>...</td>\n",
       "      <td>...</td>\n",
       "      <td>...</td>\n",
       "      <td>...</td>\n",
       "      <td>...</td>\n",
       "      <td>...</td>\n",
       "      <td>...</td>\n",
       "      <td>...</td>\n",
       "      <td>...</td>\n",
       "      <td>...</td>\n",
       "      <td>...</td>\n",
       "    </tr>\n",
       "    <tr>\n",
       "      <th>Online Meeting</th>\n",
       "      <td>0.000000</td>\n",
       "      <td>0.000000</td>\n",
       "      <td>0.000000</td>\n",
       "      <td>0.0</td>\n",
       "      <td>0.0</td>\n",
       "      <td>0.0</td>\n",
       "      <td>0.000000</td>\n",
       "      <td>0.000000</td>\n",
       "      <td>0.000000</td>\n",
       "      <td>0.000000</td>\n",
       "      <td>...</td>\n",
       "      <td>0.000000</td>\n",
       "      <td>0.0</td>\n",
       "      <td>0.0</td>\n",
       "      <td>0.000000</td>\n",
       "      <td>0.0</td>\n",
       "      <td>0.000000</td>\n",
       "      <td>0.0</td>\n",
       "      <td>0.0</td>\n",
       "      <td>0.0</td>\n",
       "      <td>0.0</td>\n",
       "    </tr>\n",
       "    <tr>\n",
       "      <th>Brokerage and Trading</th>\n",
       "      <td>0.000000</td>\n",
       "      <td>0.000000</td>\n",
       "      <td>0.000000</td>\n",
       "      <td>0.0</td>\n",
       "      <td>0.0</td>\n",
       "      <td>0.0</td>\n",
       "      <td>0.000000</td>\n",
       "      <td>0.000000</td>\n",
       "      <td>0.000000</td>\n",
       "      <td>0.000000</td>\n",
       "      <td>...</td>\n",
       "      <td>0.000000</td>\n",
       "      <td>0.0</td>\n",
       "      <td>0.0</td>\n",
       "      <td>0.000000</td>\n",
       "      <td>0.0</td>\n",
       "      <td>0.000000</td>\n",
       "      <td>0.0</td>\n",
       "      <td>0.0</td>\n",
       "      <td>0.0</td>\n",
       "      <td>0.0</td>\n",
       "    </tr>\n",
       "    <tr>\n",
       "      <th>Dynamic DNS</th>\n",
       "      <td>0.000000</td>\n",
       "      <td>0.000000</td>\n",
       "      <td>0.000000</td>\n",
       "      <td>0.0</td>\n",
       "      <td>0.0</td>\n",
       "      <td>0.0</td>\n",
       "      <td>0.000000</td>\n",
       "      <td>0.000000</td>\n",
       "      <td>0.000000</td>\n",
       "      <td>0.000000</td>\n",
       "      <td>...</td>\n",
       "      <td>0.000000</td>\n",
       "      <td>0.0</td>\n",
       "      <td>0.0</td>\n",
       "      <td>0.000000</td>\n",
       "      <td>0.0</td>\n",
       "      <td>0.000000</td>\n",
       "      <td>0.0</td>\n",
       "      <td>0.0</td>\n",
       "      <td>0.0</td>\n",
       "      <td>0.0</td>\n",
       "    </tr>\n",
       "    <tr>\n",
       "      <th>Medicine</th>\n",
       "      <td>0.000000</td>\n",
       "      <td>0.000000</td>\n",
       "      <td>0.000000</td>\n",
       "      <td>0.0</td>\n",
       "      <td>0.0</td>\n",
       "      <td>0.0</td>\n",
       "      <td>0.000000</td>\n",
       "      <td>0.000000</td>\n",
       "      <td>0.000000</td>\n",
       "      <td>0.000000</td>\n",
       "      <td>...</td>\n",
       "      <td>0.000000</td>\n",
       "      <td>0.0</td>\n",
       "      <td>0.0</td>\n",
       "      <td>0.000000</td>\n",
       "      <td>0.0</td>\n",
       "      <td>0.000000</td>\n",
       "      <td>0.0</td>\n",
       "      <td>0.0</td>\n",
       "      <td>0.0</td>\n",
       "      <td>0.0</td>\n",
       "    </tr>\n",
       "    <tr>\n",
       "      <th>Child Education</th>\n",
       "      <td>0.000000</td>\n",
       "      <td>0.000000</td>\n",
       "      <td>0.000000</td>\n",
       "      <td>0.0</td>\n",
       "      <td>0.0</td>\n",
       "      <td>0.0</td>\n",
       "      <td>0.000000</td>\n",
       "      <td>0.000000</td>\n",
       "      <td>0.000000</td>\n",
       "      <td>0.000000</td>\n",
       "      <td>...</td>\n",
       "      <td>0.000000</td>\n",
       "      <td>0.0</td>\n",
       "      <td>0.0</td>\n",
       "      <td>0.000000</td>\n",
       "      <td>0.0</td>\n",
       "      <td>0.000000</td>\n",
       "      <td>0.0</td>\n",
       "      <td>0.0</td>\n",
       "      <td>0.0</td>\n",
       "      <td>0.0</td>\n",
       "    </tr>\n",
       "  </tbody>\n",
       "</table>\n",
       "<p>72 rows × 55 columns</p>\n",
       "</div>"
      ],
      "text/plain": [
       "                                UA        CO        KR   US    BG    BZ  \\\n",
       "category                                                                  \n",
       "File Sharing and Storage  0.000000  0.000000  2.176180  0.0   0.0   0.0   \n",
       "Reference                 0.000000  0.000000  1.255837  0.0   0.0   0.0   \n",
       "Information Technology    7.667732  0.000000  1.364646  0.0  20.0   0.0   \n",
       "Instant Messaging         0.000000  0.000000  0.040803  0.0   0.0   0.0   \n",
       "News and Media            0.319489  9.090909  4.542776  0.0   0.0  25.0   \n",
       "...                            ...       ...       ...  ...   ...   ...   \n",
       "Online Meeting            0.000000  0.000000  0.000000  0.0   0.0   0.0   \n",
       "Brokerage and Trading     0.000000  0.000000  0.000000  0.0   0.0   0.0   \n",
       "Dynamic DNS               0.000000  0.000000  0.000000  0.0   0.0   0.0   \n",
       "Medicine                  0.000000  0.000000  0.000000  0.0   0.0   0.0   \n",
       "Child Education           0.000000  0.000000  0.000000  0.0   0.0   0.0   \n",
       "\n",
       "                                 AU        JP         NL        HK  ...  \\\n",
       "category                                                            ...   \n",
       "File Sharing and Storage  10.714286  0.000000   0.000000  4.347826  ...   \n",
       "Reference                  0.000000  1.234568   0.000000  4.347826  ...   \n",
       "Information Technology     8.928571  4.938272   8.256881  0.000000  ...   \n",
       "Instant Messaging          0.000000  0.000000   0.000000  0.000000  ...   \n",
       "News and Media            12.500000  9.876543  39.449541  4.347826  ...   \n",
       "...                             ...       ...        ...       ...  ...   \n",
       "Online Meeting             0.000000  0.000000   0.000000  0.000000  ...   \n",
       "Brokerage and Trading      0.000000  0.000000   0.000000  0.000000  ...   \n",
       "Dynamic DNS                0.000000  0.000000   0.000000  0.000000  ...   \n",
       "Medicine                   0.000000  0.000000   0.000000  0.000000  ...   \n",
       "Child Education            0.000000  0.000000   0.000000  0.000000  ...   \n",
       "\n",
       "                                 TR   PL   DZ         BR   SC        SA   AT  \\\n",
       "category                                                                       \n",
       "File Sharing and Storage   2.062589  0.0  0.0   0.000000  0.0  0.400375  0.0   \n",
       "Reference                  0.711238  0.0  0.0   6.666667  0.0  0.000000  0.0   \n",
       "Information Technology     0.000000  0.0  0.0   6.666667  0.0  0.860380  0.0   \n",
       "Instant Messaging          0.000000  0.0  0.0   0.000000  0.0  0.000000  0.0   \n",
       "News and Media            23.826458  0.0  0.0  20.000000  0.0  4.335974  0.0   \n",
       "...                             ...  ...  ...        ...  ...       ...  ...   \n",
       "Online Meeting             0.000000  0.0  0.0   0.000000  0.0  0.000000  0.0   \n",
       "Brokerage and Trading      0.000000  0.0  0.0   0.000000  0.0  0.000000  0.0   \n",
       "Dynamic DNS                0.000000  0.0  0.0   0.000000  0.0  0.000000  0.0   \n",
       "Medicine                   0.000000  0.0  0.0   0.000000  0.0  0.000000  0.0   \n",
       "Child Education            0.000000  0.0  0.0   0.000000  0.0  0.000000  0.0   \n",
       "\n",
       "                           GR   CR   LI  \n",
       "category                                 \n",
       "File Sharing and Storage  0.0  0.0  0.0  \n",
       "Reference                 0.0  0.0  0.0  \n",
       "Information Technology    0.0  0.0  0.0  \n",
       "Instant Messaging         0.0  0.0  0.0  \n",
       "News and Media            0.0  0.0  0.0  \n",
       "...                       ...  ...  ...  \n",
       "Online Meeting            0.0  0.0  0.0  \n",
       "Brokerage and Trading     0.0  0.0  0.0  \n",
       "Dynamic DNS               0.0  0.0  0.0  \n",
       "Medicine                  0.0  0.0  0.0  \n",
       "Child Education           0.0  0.0  0.0  \n",
       "\n",
       "[72 rows x 55 columns]"
      ]
     },
     "execution_count": 72,
     "metadata": {},
     "output_type": "execute_result"
    }
   ],
   "source": [
    "simMetricDF"
   ]
  },
  {
   "cell_type": "code",
   "execution_count": 73,
   "metadata": {},
   "outputs": [],
   "source": [
    "countryList =  allCountries.tolist()\n",
    "numCatBlock = []"
   ]
  },
  {
   "cell_type": "code",
   "execution_count": 74,
   "metadata": {},
   "outputs": [],
   "source": [
    "for item in countryList:\n",
    "    numCatBlock.append(len(simMetricDF[simMetricDF[item]!=0]))"
   ]
  },
  {
   "cell_type": "code",
   "execution_count": 75,
   "metadata": {},
   "outputs": [],
   "source": [
    "tempDF = pd.DataFrame(index=countryList)"
   ]
  },
  {
   "cell_type": "code",
   "execution_count": 76,
   "metadata": {},
   "outputs": [],
   "source": [
    "tempDF['numCatBlock'] =numCatBlock"
   ]
  },
  {
   "cell_type": "code",
   "execution_count": 77,
   "metadata": {},
   "outputs": [],
   "source": [
    "tempDF = tempDF.sort_values(by='numCatBlock',ascending = False)"
   ]
  },
  {
   "cell_type": "code",
   "execution_count": 78,
   "metadata": {},
   "outputs": [
    {
     "name": "stdout",
     "output_type": "stream",
     "text": [
      "We have 55 unique countries\n"
     ]
    }
   ],
   "source": [
    "#Getting all columns i.e. countries\n",
    "simCols=[]\n",
    "for i in range(len(simMetricDF.columns)):\n",
    "    simCols.append(simMetricDF.columns[i])\n",
    "print(\"We have {} unique countries\".format(len(simCols)))"
   ]
  },
  {
   "cell_type": "code",
   "execution_count": 79,
   "metadata": {},
   "outputs": [
    {
     "name": "stdout",
     "output_type": "stream",
     "text": [
      "We have 1485 unique pairs from these countries including dummy\n"
     ]
    }
   ],
   "source": [
    "#Creating pairs to do calculation of spatial distance\n",
    "from itertools import combinations\n",
    "pairs = [comb for comb in sorted(combinations(simCols, 2))]\n",
    "print(\"We have {} unique pairs from these countries including dummy\".format(len(pairs)))"
   ]
  },
  {
   "cell_type": "code",
   "execution_count": 80,
   "metadata": {},
   "outputs": [],
   "source": [
    "#Both vectors are non zeroes\n",
    "#print(\" **** Similarity is {} ****\".format(1-(spatial.distance.cosine(simMetricDF['AU'], simMetricDF['IN']))))\n",
    "\n",
    "# When even one vector is completeley a zero vector\n",
    "#print(\" **** Similarity is {} ****\".format(1-(spatial.distance.cosine(simMetricDF['US'], simMetricDF['IN']))))"
   ]
  },
  {
   "cell_type": "code",
   "execution_count": 81,
   "metadata": {},
   "outputs": [],
   "source": [
    "#NewSimVal will store the similarity value calculated from the spatial cosine distance formula\n",
    "\n",
    "NewSimVals = []\n",
    "for item in pairs:\n",
    "    if (np.sum(simMetricDF[item[0]]) == 0) & (np.sum(simMetricDF[item[1]]) ==0):\n",
    "        NewSimVals.append((item,100))\n",
    "    elif (np.sum(simMetricDF[item[0]]) == 0) | (np.sum(simMetricDF[item[1]]) ==0):\n",
    "        NewSimVals.append((item,0))\n",
    "    else :\n",
    "        NewSimVals.append((item,(1 - spatial.distance.cosine(simMetricDF[item[0]], simMetricDF[item[1]]))*100))"
   ]
  },
  {
   "cell_type": "code",
   "execution_count": 82,
   "metadata": {},
   "outputs": [
    {
     "data": {
      "text/html": [
       "<div>\n",
       "<style scoped>\n",
       "    .dataframe tbody tr th:only-of-type {\n",
       "        vertical-align: middle;\n",
       "    }\n",
       "\n",
       "    .dataframe tbody tr th {\n",
       "        vertical-align: top;\n",
       "    }\n",
       "\n",
       "    .dataframe thead th {\n",
       "        text-align: right;\n",
       "    }\n",
       "</style>\n",
       "<table border=\"1\" class=\"dataframe\">\n",
       "  <thead>\n",
       "    <tr style=\"text-align: right;\">\n",
       "      <th></th>\n",
       "      <th>pair</th>\n",
       "      <th>country_code_alpha2_A</th>\n",
       "      <th>country_code_alpha2_B</th>\n",
       "      <th>similarity</th>\n",
       "    </tr>\n",
       "  </thead>\n",
       "  <tbody>\n",
       "    <tr>\n",
       "      <th>0</th>\n",
       "      <td>(AD, AT)</td>\n",
       "      <td>AD</td>\n",
       "      <td>AT</td>\n",
       "      <td>0.000000</td>\n",
       "    </tr>\n",
       "    <tr>\n",
       "      <th>1</th>\n",
       "      <td>(AD, BE)</td>\n",
       "      <td>AD</td>\n",
       "      <td>BE</td>\n",
       "      <td>100.000000</td>\n",
       "    </tr>\n",
       "    <tr>\n",
       "      <th>2</th>\n",
       "      <td>(AD, BR)</td>\n",
       "      <td>AD</td>\n",
       "      <td>BR</td>\n",
       "      <td>0.000000</td>\n",
       "    </tr>\n",
       "    <tr>\n",
       "      <th>3</th>\n",
       "      <td>(AD, CA)</td>\n",
       "      <td>AD</td>\n",
       "      <td>CA</td>\n",
       "      <td>0.000000</td>\n",
       "    </tr>\n",
       "    <tr>\n",
       "      <th>4</th>\n",
       "      <td>(AD, CR)</td>\n",
       "      <td>AD</td>\n",
       "      <td>CR</td>\n",
       "      <td>100.000000</td>\n",
       "    </tr>\n",
       "    <tr>\n",
       "      <th>...</th>\n",
       "      <td>...</td>\n",
       "      <td>...</td>\n",
       "      <td>...</td>\n",
       "      <td>...</td>\n",
       "    </tr>\n",
       "    <tr>\n",
       "      <th>1480</th>\n",
       "      <td>(ZA, SG)</td>\n",
       "      <td>ZA</td>\n",
       "      <td>SG</td>\n",
       "      <td>0.000000</td>\n",
       "    </tr>\n",
       "    <tr>\n",
       "      <th>1481</th>\n",
       "      <td>(ZA, SK)</td>\n",
       "      <td>ZA</td>\n",
       "      <td>SK</td>\n",
       "      <td>0.000000</td>\n",
       "    </tr>\n",
       "    <tr>\n",
       "      <th>1482</th>\n",
       "      <td>(ZA, TR)</td>\n",
       "      <td>ZA</td>\n",
       "      <td>TR</td>\n",
       "      <td>17.527219</td>\n",
       "    </tr>\n",
       "    <tr>\n",
       "      <th>1483</th>\n",
       "      <td>(ZA, TW)</td>\n",
       "      <td>ZA</td>\n",
       "      <td>TW</td>\n",
       "      <td>0.000000</td>\n",
       "    </tr>\n",
       "    <tr>\n",
       "      <th>1484</th>\n",
       "      <td>(ZA, VE)</td>\n",
       "      <td>ZA</td>\n",
       "      <td>VE</td>\n",
       "      <td>0.000000</td>\n",
       "    </tr>\n",
       "  </tbody>\n",
       "</table>\n",
       "<p>1485 rows × 4 columns</p>\n",
       "</div>"
      ],
      "text/plain": [
       "          pair country_code_alpha2_A country_code_alpha2_B  similarity\n",
       "0     (AD, AT)                    AD                    AT    0.000000\n",
       "1     (AD, BE)                    AD                    BE  100.000000\n",
       "2     (AD, BR)                    AD                    BR    0.000000\n",
       "3     (AD, CA)                    AD                    CA    0.000000\n",
       "4     (AD, CR)                    AD                    CR  100.000000\n",
       "...        ...                   ...                   ...         ...\n",
       "1480  (ZA, SG)                    ZA                    SG    0.000000\n",
       "1481  (ZA, SK)                    ZA                    SK    0.000000\n",
       "1482  (ZA, TR)                    ZA                    TR   17.527219\n",
       "1483  (ZA, TW)                    ZA                    TW    0.000000\n",
       "1484  (ZA, VE)                    ZA                    VE    0.000000\n",
       "\n",
       "[1485 rows x 4 columns]"
      ]
     },
     "execution_count": 82,
     "metadata": {},
     "output_type": "execute_result"
    }
   ],
   "source": [
    "simMetricVals = pd.DataFrame(index=pairs, columns = None )\n",
    "simMetricVals['similarity'] = [j for (i,j) in NewSimVals]\n",
    "simMetricVals.reset_index(inplace=True)\n",
    "simMetricVals.rename(columns={'index':'pair'},inplace=True)\n",
    "simMetricVals[['country_code_alpha2_A', 'country_code_alpha2_B']] = pd.DataFrame(simMetricVals['pair'].tolist(), index=simMetricVals.index)\n",
    "simMetricVals = simMetricVals[['pair','country_code_alpha2_A','country_code_alpha2_B','similarity']]\n",
    "simMetricVals"
   ]
  },
  {
   "cell_type": "code",
   "execution_count": 767,
   "metadata": {},
   "outputs": [],
   "source": [
    "# #Pickling the simMetricVals data set\n",
    "simMetricVals.to_pickle(\"simMetricVals.pkl\")"
   ]
  },
  {
   "cell_type": "markdown",
   "metadata": {},
   "source": [
    "-->> Reading simMetricVals from pickle"
   ]
  },
  {
   "cell_type": "code",
   "execution_count": 402,
   "metadata": {},
   "outputs": [],
   "source": [
    "#simMetricVals = pd.read_pickle(\"simMetricVals.pkl\")"
   ]
  },
  {
   "cell_type": "markdown",
   "metadata": {},
   "source": [
    "## Proxy 2: Proportion of blocking events\n",
    "\n",
    "While our first metric (above) gives us a good sense of blocking overlaps,\n",
    "it fails to show us variation in the *volume* of blocking. Some countries have more blocking than others. We want to account for that.\n",
    "\n",
    "We'll measure the volume of blocking in each country. We'll do that by measuring, for each country, the *proportion* of observations where `censored=True`."
   ]
  },
  {
   "cell_type": "markdown",
   "metadata": {},
   "source": [
    "### Number of sites are blocked"
   ]
  },
  {
   "cell_type": "code",
   "execution_count": 83,
   "metadata": {},
   "outputs": [],
   "source": [
    "NumSitesBlocked = iclabcombined.loc[(iclabcombined['censored_updated']==True),['site','country']].sort_values(by='country',ascending = False)"
   ]
  },
  {
   "cell_type": "code",
   "execution_count": 89,
   "metadata": {},
   "outputs": [],
   "source": [
    "total_observations_by_country = iclabcombined.groupby('country').count()"
   ]
  },
  {
   "cell_type": "code",
   "execution_count": 94,
   "metadata": {},
   "outputs": [],
   "source": [
    "total_blocked_observations_by_country = iclabcombined[iclabcombined['censored_updated']==True].groupby('country').count()"
   ]
  },
  {
   "cell_type": "code",
   "execution_count": 116,
   "metadata": {},
   "outputs": [
    {
     "data": {
      "text/plain": [
       "country\n",
       "AT    0.000000\n",
       "AU    0.000045\n",
       "BG    0.000014\n",
       "BR    0.000014\n",
       "BZ    0.000148\n",
       "CA    0.000000\n",
       "CL    0.000004\n",
       "CN    0.000726\n",
       "CO    0.000054\n",
       "DK    0.000009\n",
       "ES    0.000050\n",
       "FR    0.000009\n",
       "HK    0.000036\n",
       "HU    0.000021\n",
       "IN    0.037089\n",
       "JP    0.000102\n",
       "KE    0.000025\n",
       "KR    0.021711\n",
       "LT    0.000034\n",
       "LU    0.000043\n",
       "MD    0.000025\n",
       "MX    0.000011\n",
       "MY    0.000177\n",
       "NL    0.000032\n",
       "NO    0.000014\n",
       "NZ    0.000036\n",
       "PE    0.000047\n",
       "PL    0.000665\n",
       "PT    0.000008\n",
       "RO    0.000033\n",
       "RS    0.000042\n",
       "RU    0.012843\n",
       "SA    0.111579\n",
       "SC    0.000021\n",
       "SE    0.000008\n",
       "SG    0.000014\n",
       "SK    0.000169\n",
       "TR    0.023203\n",
       "TW    0.000030\n",
       "UA    0.000714\n",
       "VN    0.000024\n",
       "ZA    0.000007\n",
       "dtype: float64"
      ]
     },
     "execution_count": 116,
     "metadata": {},
     "output_type": "execute_result"
    }
   ],
   "source": [
    "dummy_column_for_counting = 'dns'\n",
    "\n",
    "def as_single_column (df):\n",
    "    return df[[dummy_column_for_counting]]\n",
    "\n",
    "def proportion (row):\n",
    "    blocked = row[dummy_column_for_counting+'_blocked']\n",
    "    total = row[dummy_column_for_counting+'_total']\n",
    "    return blocked / total\n",
    "\n",
    "\n",
    "blocking_proporitons =\\\n",
    "as_single_column(total_blocked_observations_by_country)\\\n",
    "    .merge(as_single_column(total_observations_by_country),\n",
    "           on='country', suffixes=('_blocked', '_total'))\\\n",
    "    .apply(proportion, axis=1)\n",
    "\n",
    "blocking_proporitons"
   ]
  },
  {
   "cell_type": "markdown",
   "metadata": {},
   "source": [
    "Now we can compute the similarity in proportions between two countries."
   ]
  },
  {
   "cell_type": "code",
   "execution_count": 196,
   "metadata": {},
   "outputs": [],
   "source": [
    "def get_proportion (cc2):\n",
    "    # try to retrieve it\n",
    "    try:\n",
    "        return blocking_proporitons[cc2]\n",
    "    # if we don't have data on it\n",
    "    except KeyError:\n",
    "        # treat it as 0\n",
    "        return 0\n",
    "\n",
    "def compute_similarity(proportion1, proportion2):\n",
    "    # keep it simple....\n",
    "    # minimum and maximum values will still be 0 and 1, since we're dealing with proportions.\n",
    "    return 1 - abs(proportion1 - proportion2)\n",
    "\n",
    "CountSimilarity = []\n",
    "for item in pairs:\n",
    "    (country1, country2) = item\n",
    "    similarity = compute_similarity(get_proportion(country1), get_proportion(country2))\n",
    "    CountSimilarity.append((item, similarity))"
   ]
  },
  {
   "cell_type": "code",
   "execution_count": 231,
   "metadata": {},
   "outputs": [
    {
     "data": {
      "text/html": [
       "<div>\n",
       "<style scoped>\n",
       "    .dataframe tbody tr th:only-of-type {\n",
       "        vertical-align: middle;\n",
       "    }\n",
       "\n",
       "    .dataframe tbody tr th {\n",
       "        vertical-align: top;\n",
       "    }\n",
       "\n",
       "    .dataframe thead th {\n",
       "        text-align: right;\n",
       "    }\n",
       "</style>\n",
       "<table border=\"1\" class=\"dataframe\">\n",
       "  <thead>\n",
       "    <tr style=\"text-align: right;\">\n",
       "      <th></th>\n",
       "      <th>pair</th>\n",
       "      <th>proportion-similarity</th>\n",
       "    </tr>\n",
       "  </thead>\n",
       "  <tbody>\n",
       "    <tr>\n",
       "      <th>0</th>\n",
       "      <td>(AD, AT)</td>\n",
       "      <td>1.000000</td>\n",
       "    </tr>\n",
       "    <tr>\n",
       "      <th>1</th>\n",
       "      <td>(AD, BE)</td>\n",
       "      <td>1.000000</td>\n",
       "    </tr>\n",
       "    <tr>\n",
       "      <th>2</th>\n",
       "      <td>(AD, BR)</td>\n",
       "      <td>0.999986</td>\n",
       "    </tr>\n",
       "    <tr>\n",
       "      <th>3</th>\n",
       "      <td>(AD, CA)</td>\n",
       "      <td>1.000000</td>\n",
       "    </tr>\n",
       "    <tr>\n",
       "      <th>4</th>\n",
       "      <td>(AD, CR)</td>\n",
       "      <td>1.000000</td>\n",
       "    </tr>\n",
       "    <tr>\n",
       "      <th>...</th>\n",
       "      <td>...</td>\n",
       "      <td>...</td>\n",
       "    </tr>\n",
       "    <tr>\n",
       "      <th>1480</th>\n",
       "      <td>(ZA, SG)</td>\n",
       "      <td>0.999993</td>\n",
       "    </tr>\n",
       "    <tr>\n",
       "      <th>1481</th>\n",
       "      <td>(ZA, SK)</td>\n",
       "      <td>0.999839</td>\n",
       "    </tr>\n",
       "    <tr>\n",
       "      <th>1482</th>\n",
       "      <td>(ZA, TR)</td>\n",
       "      <td>0.976804</td>\n",
       "    </tr>\n",
       "    <tr>\n",
       "      <th>1483</th>\n",
       "      <td>(ZA, TW)</td>\n",
       "      <td>0.999977</td>\n",
       "    </tr>\n",
       "    <tr>\n",
       "      <th>1484</th>\n",
       "      <td>(ZA, VE)</td>\n",
       "      <td>0.999993</td>\n",
       "    </tr>\n",
       "  </tbody>\n",
       "</table>\n",
       "<p>1485 rows × 2 columns</p>\n",
       "</div>"
      ],
      "text/plain": [
       "          pair  proportion-similarity\n",
       "0     (AD, AT)               1.000000\n",
       "1     (AD, BE)               1.000000\n",
       "2     (AD, BR)               0.999986\n",
       "3     (AD, CA)               1.000000\n",
       "4     (AD, CR)               1.000000\n",
       "...        ...                    ...\n",
       "1480  (ZA, SG)               0.999993\n",
       "1481  (ZA, SK)               0.999839\n",
       "1482  (ZA, TR)               0.976804\n",
       "1483  (ZA, TW)               0.999977\n",
       "1484  (ZA, VE)               0.999993\n",
       "\n",
       "[1485 rows x 2 columns]"
      ]
     },
     "execution_count": 231,
     "metadata": {},
     "output_type": "execute_result"
    }
   ],
   "source": [
    "blocking_proportion_similarities =\\\n",
    "pd.DataFrame(CountSimilarity, columns=[\n",
    "    'pair',\n",
    "    'proportion-similarity'\n",
    "])\n",
    "blocking_proportion_similarities"
   ]
  },
  {
   "cell_type": "code",
   "execution_count": 232,
   "metadata": {},
   "outputs": [
    {
     "data": {
      "text/plain": [
       "<matplotlib.axes._subplots.AxesSubplot at 0x7ff68ce243c8>"
      ]
     },
     "execution_count": 232,
     "metadata": {},
     "output_type": "execute_result"
    },
    {
     "data": {
      "image/png": "[encoded data removed]",
      "text/plain": [
       "<Figure size 432x288 with 1 Axes>"
      ]
     },
     "metadata": {
      "needs_background": "light"
     },
     "output_type": "display_data"
    }
   ],
   "source": [
    "series = blocking_proportion_similarities['proportion-similarity']\n",
    "series.plot.hist()"
   ]
  },
  {
   "cell_type": "markdown",
   "metadata": {},
   "source": [
    "Not much variation here. That's okay. We'll just min-max normalize it."
   ]
  },
  {
   "cell_type": "code",
   "execution_count": 233,
   "metadata": {},
   "outputs": [
    {
     "data": {
      "text/plain": [
       "<matplotlib.axes._subplots.AxesSubplot at 0x7ff68c6b8780>"
      ]
     },
     "execution_count": 233,
     "metadata": {},
     "output_type": "execute_result"
    },
    {
     "data": {
      "image/png": "[encoded data removed]",
      "text/plain": [
       "<Figure size 432x288 with 1 Axes>"
      ]
     },
     "metadata": {
      "needs_background": "light"
     },
     "output_type": "display_data"
    }
   ],
   "source": [
    "blocking_proportion_similarities['proportion-similarity-normalized'] = (series-series.min())/(series.max()-series.min())\n",
    "blocking_proportion_similarities['proportion-similarity-normalized'].plot.hist()"
   ]
  },
  {
   "cell_type": "markdown",
   "metadata": {},
   "source": [
    "### Merging these two"
   ]
  },
  {
   "cell_type": "code",
   "execution_count": 234,
   "metadata": {},
   "outputs": [
    {
     "data": {
      "text/html": [
       "<div>\n",
       "<style scoped>\n",
       "    .dataframe tbody tr th:only-of-type {\n",
       "        vertical-align: middle;\n",
       "    }\n",
       "\n",
       "    .dataframe tbody tr th {\n",
       "        vertical-align: top;\n",
       "    }\n",
       "\n",
       "    .dataframe thead th {\n",
       "        text-align: right;\n",
       "    }\n",
       "</style>\n",
       "<table border=\"1\" class=\"dataframe\">\n",
       "  <thead>\n",
       "    <tr style=\"text-align: right;\">\n",
       "      <th></th>\n",
       "      <th>pair</th>\n",
       "      <th>country_code_alpha2_A</th>\n",
       "      <th>country_code_alpha2_B</th>\n",
       "      <th>Censored_Category_Similarity</th>\n",
       "      <th>proportion-similarity</th>\n",
       "      <th>Blocking_Proportion_Similarity</th>\n",
       "      <th>Overall_Similarity</th>\n",
       "    </tr>\n",
       "  </thead>\n",
       "  <tbody>\n",
       "    <tr>\n",
       "      <th>1358</th>\n",
       "      <td>(US, CZ)</td>\n",
       "      <td>US</td>\n",
       "      <td>CZ</td>\n",
       "      <td>100.0</td>\n",
       "      <td>1.000000</td>\n",
       "      <td>1.0</td>\n",
       "      <td>50.5</td>\n",
       "    </tr>\n",
       "    <tr>\n",
       "      <th>1405</th>\n",
       "      <td>(VE, IL)</td>\n",
       "      <td>VE</td>\n",
       "      <td>IL</td>\n",
       "      <td>100.0</td>\n",
       "      <td>1.000000</td>\n",
       "      <td>1.0</td>\n",
       "      <td>50.5</td>\n",
       "    </tr>\n",
       "    <tr>\n",
       "      <th>332</th>\n",
       "      <td>(CZ, LI)</td>\n",
       "      <td>CZ</td>\n",
       "      <td>LI</td>\n",
       "      <td>100.0</td>\n",
       "      <td>1.000000</td>\n",
       "      <td>1.0</td>\n",
       "      <td>50.5</td>\n",
       "    </tr>\n",
       "    <tr>\n",
       "      <th>1362</th>\n",
       "      <td>(US, FI)</td>\n",
       "      <td>US</td>\n",
       "      <td>FI</td>\n",
       "      <td>100.0</td>\n",
       "      <td>1.000000</td>\n",
       "      <td>1.0</td>\n",
       "      <td>50.5</td>\n",
       "    </tr>\n",
       "    <tr>\n",
       "      <th>1364</th>\n",
       "      <td>(US, GR)</td>\n",
       "      <td>US</td>\n",
       "      <td>GR</td>\n",
       "      <td>100.0</td>\n",
       "      <td>1.000000</td>\n",
       "      <td>1.0</td>\n",
       "      <td>50.5</td>\n",
       "    </tr>\n",
       "    <tr>\n",
       "      <th>...</th>\n",
       "      <td>...</td>\n",
       "      <td>...</td>\n",
       "      <td>...</td>\n",
       "      <td>...</td>\n",
       "      <td>...</td>\n",
       "      <td>...</td>\n",
       "      <td>...</td>\n",
       "    </tr>\n",
       "    <tr>\n",
       "      <th>611</th>\n",
       "      <td>(IS, SA)</td>\n",
       "      <td>IS</td>\n",
       "      <td>SA</td>\n",
       "      <td>0.0</td>\n",
       "      <td>0.888421</td>\n",
       "      <td>0.0</td>\n",
       "      <td>0.0</td>\n",
       "    </tr>\n",
       "    <tr>\n",
       "      <th>17</th>\n",
       "      <td>(AD, SA)</td>\n",
       "      <td>AD</td>\n",
       "      <td>SA</td>\n",
       "      <td>0.0</td>\n",
       "      <td>0.888421</td>\n",
       "      <td>0.0</td>\n",
       "      <td>0.0</td>\n",
       "    </tr>\n",
       "    <tr>\n",
       "      <th>334</th>\n",
       "      <td>(CZ, SA)</td>\n",
       "      <td>CZ</td>\n",
       "      <td>SA</td>\n",
       "      <td>0.0</td>\n",
       "      <td>0.888421</td>\n",
       "      <td>0.0</td>\n",
       "      <td>0.0</td>\n",
       "    </tr>\n",
       "    <tr>\n",
       "      <th>570</th>\n",
       "      <td>(IL, SA)</td>\n",
       "      <td>IL</td>\n",
       "      <td>SA</td>\n",
       "      <td>0.0</td>\n",
       "      <td>0.888421</td>\n",
       "      <td>0.0</td>\n",
       "      <td>0.0</td>\n",
       "    </tr>\n",
       "    <tr>\n",
       "      <th>1159</th>\n",
       "      <td>(SA, LI)</td>\n",
       "      <td>SA</td>\n",
       "      <td>LI</td>\n",
       "      <td>0.0</td>\n",
       "      <td>0.888421</td>\n",
       "      <td>0.0</td>\n",
       "      <td>0.0</td>\n",
       "    </tr>\n",
       "  </tbody>\n",
       "</table>\n",
       "<p>1485 rows × 7 columns</p>\n",
       "</div>"
      ],
      "text/plain": [
       "          pair country_code_alpha2_A country_code_alpha2_B  \\\n",
       "1358  (US, CZ)                    US                    CZ   \n",
       "1405  (VE, IL)                    VE                    IL   \n",
       "332   (CZ, LI)                    CZ                    LI   \n",
       "1362  (US, FI)                    US                    FI   \n",
       "1364  (US, GR)                    US                    GR   \n",
       "...        ...                   ...                   ...   \n",
       "611   (IS, SA)                    IS                    SA   \n",
       "17    (AD, SA)                    AD                    SA   \n",
       "334   (CZ, SA)                    CZ                    SA   \n",
       "570   (IL, SA)                    IL                    SA   \n",
       "1159  (SA, LI)                    SA                    LI   \n",
       "\n",
       "      Censored_Category_Similarity  proportion-similarity  \\\n",
       "1358                         100.0               1.000000   \n",
       "1405                         100.0               1.000000   \n",
       "332                          100.0               1.000000   \n",
       "1362                         100.0               1.000000   \n",
       "1364                         100.0               1.000000   \n",
       "...                            ...                    ...   \n",
       "611                            0.0               0.888421   \n",
       "17                             0.0               0.888421   \n",
       "334                            0.0               0.888421   \n",
       "570                            0.0               0.888421   \n",
       "1159                           0.0               0.888421   \n",
       "\n",
       "      Blocking_Proportion_Similarity  Overall_Similarity  \n",
       "1358                             1.0                50.5  \n",
       "1405                             1.0                50.5  \n",
       "332                              1.0                50.5  \n",
       "1362                             1.0                50.5  \n",
       "1364                             1.0                50.5  \n",
       "...                              ...                 ...  \n",
       "611                              0.0                 0.0  \n",
       "17                               0.0                 0.0  \n",
       "334                              0.0                 0.0  \n",
       "570                              0.0                 0.0  \n",
       "1159                             0.0                 0.0  \n",
       "\n",
       "[1485 rows x 7 columns]"
      ]
     },
     "execution_count": 234,
     "metadata": {},
     "output_type": "execute_result"
    }
   ],
   "source": [
    "MetricDF = pd.merge(simMetricVals,blocking_proportion_similarities,on='pair',how='outer')\n",
    "MetricDF = MetricDF.rename(columns={\n",
    "    'similarity':'Censored_Category_Similarity',\n",
    "    'proportion-similarity-normalized':'Blocking_Proportion_Similarity',\n",
    "})\n",
    "MetricDF['Overall_Similarity'] = (MetricDF['Censored_Category_Similarity']+ MetricDF['Blocking_Proportion_Similarity'])/2\n",
    "MetricDF = MetricDF.sort_values(by='Overall_Similarity',ascending=False)\n",
    "MetricDF"
   ]
  },
  {
   "cell_type": "code",
   "execution_count": 237,
   "metadata": {},
   "outputs": [
    {
     "data": {
      "text/plain": [
       "<matplotlib.axes._subplots.AxesSubplot at 0x7ff68cdf2400>"
      ]
     },
     "execution_count": 237,
     "metadata": {},
     "output_type": "execute_result"
    },
    {
     "data": {
      "image/png": "[encoded data removed]",
      "text/plain": [
       "<Figure size 432x288 with 1 Axes>"
      ]
     },
     "metadata": {
      "needs_background": "light"
     },
     "output_type": "display_data"
    }
   ],
   "source": [
    "MetricDF['Overall_Similarity'].plot.hist()"
   ]
  },
  {
   "cell_type": "markdown",
   "metadata": {},
   "source": [
    "WOW! Great variation!"
   ]
  },
  {
   "cell_type": "code",
   "execution_count": 238,
   "metadata": {},
   "outputs": [],
   "source": [
    "PercentGroup = MetricDF.Overall_Similarity.apply (lambda \n",
    "                                              x : 90 if (x>=90) \n",
    "                                              else (80 if (x>=80 and x<90)\n",
    "                                                    else (70 if (x>=70 and x<80) \n",
    "                                                          else (60 if (x>=60 and x<70) \n",
    "                                                                else (50 if (x>=50 and x<60) \n",
    "                                                                      else (40 if (x>=40 and x<50) \n",
    "                                                                            else (30 if (x>=30 and x<40) \n",
    "                                                                                  else (20 if (x>=20 and x<30) \n",
    "                                                                                        else (10 if (x>=10 and x<20) \n",
    "                                                                                              else 0)  ) )  ) )) )))\n",
    "                                              \n",
    "                                               "
   ]
  },
  {
   "cell_type": "code",
   "execution_count": 239,
   "metadata": {},
   "outputs": [],
   "source": [
    "MetricDF['PercentRangeGroup'] = PercentGroup"
   ]
  },
  {
   "cell_type": "code",
   "execution_count": 240,
   "metadata": {},
   "outputs": [],
   "source": [
    "MetricDF = MetricDF.drop(columns='pair')"
   ]
  },
  {
   "cell_type": "code",
   "execution_count": 241,
   "metadata": {},
   "outputs": [],
   "source": [
    "# def countryCodeConversion()\n",
    "\n",
    "iCA = MetricDF['country_code_alpha2_A']\n",
    "iCB = MetricDF['country_code_alpha2_B']\n",
    "\n",
    "countries = {}\n",
    "for country in pycountry.countries:\n",
    "    countries[country.alpha_2] = country.alpha_3\n",
    "\n",
    "\n",
    "a3A = [countries.get(country, 'Unknown code') for country in iCA]\n",
    "a3B = [countries.get(country, 'Unknown code') for country in iCB]"
   ]
  },
  {
   "cell_type": "code",
   "execution_count": 242,
   "metadata": {},
   "outputs": [],
   "source": [
    "MetricDF['country_code_alpha3_A'] = a3A\n",
    "MetricDF['country_code_alpha3_B'] = a3B"
   ]
  },
  {
   "cell_type": "code",
   "execution_count": 243,
   "metadata": {},
   "outputs": [],
   "source": [
    "MetricDF.drop(columns=['country_code_alpha2_A','country_code_alpha2_B'],inplace=True)"
   ]
  },
  {
   "cell_type": "code",
   "execution_count": 246,
   "metadata": {},
   "outputs": [],
   "source": [
    "MetricDF = MetricDF[['country_code_alpha3_A','country_code_alpha3_B','Censored_Category_Similarity', 'Blocking_Proportion_Similarity','Overall_Similarity', 'PercentRangeGroup']]"
   ]
  },
  {
   "cell_type": "code",
   "execution_count": 247,
   "metadata": {},
   "outputs": [
    {
     "data": {
      "text/html": [
       "<div>\n",
       "<style scoped>\n",
       "    .dataframe tbody tr th:only-of-type {\n",
       "        vertical-align: middle;\n",
       "    }\n",
       "\n",
       "    .dataframe tbody tr th {\n",
       "        vertical-align: top;\n",
       "    }\n",
       "\n",
       "    .dataframe thead th {\n",
       "        text-align: right;\n",
       "    }\n",
       "</style>\n",
       "<table border=\"1\" class=\"dataframe\">\n",
       "  <thead>\n",
       "    <tr style=\"text-align: right;\">\n",
       "      <th></th>\n",
       "      <th>country_code_alpha3_A</th>\n",
       "      <th>country_code_alpha3_B</th>\n",
       "      <th>Censored_Category_Similarity</th>\n",
       "      <th>Blocking_Proportion_Similarity</th>\n",
       "      <th>Overall_Similarity</th>\n",
       "      <th>PercentRangeGroup</th>\n",
       "    </tr>\n",
       "  </thead>\n",
       "  <tbody>\n",
       "    <tr>\n",
       "      <th>1358</th>\n",
       "      <td>USA</td>\n",
       "      <td>CZE</td>\n",
       "      <td>100.0</td>\n",
       "      <td>1.0</td>\n",
       "      <td>50.5</td>\n",
       "      <td>50</td>\n",
       "    </tr>\n",
       "    <tr>\n",
       "      <th>1405</th>\n",
       "      <td>VEN</td>\n",
       "      <td>ISR</td>\n",
       "      <td>100.0</td>\n",
       "      <td>1.0</td>\n",
       "      <td>50.5</td>\n",
       "      <td>50</td>\n",
       "    </tr>\n",
       "    <tr>\n",
       "      <th>332</th>\n",
       "      <td>CZE</td>\n",
       "      <td>LIE</td>\n",
       "      <td>100.0</td>\n",
       "      <td>1.0</td>\n",
       "      <td>50.5</td>\n",
       "      <td>50</td>\n",
       "    </tr>\n",
       "    <tr>\n",
       "      <th>1362</th>\n",
       "      <td>USA</td>\n",
       "      <td>FIN</td>\n",
       "      <td>100.0</td>\n",
       "      <td>1.0</td>\n",
       "      <td>50.5</td>\n",
       "      <td>50</td>\n",
       "    </tr>\n",
       "    <tr>\n",
       "      <th>1364</th>\n",
       "      <td>USA</td>\n",
       "      <td>GRC</td>\n",
       "      <td>100.0</td>\n",
       "      <td>1.0</td>\n",
       "      <td>50.5</td>\n",
       "      <td>50</td>\n",
       "    </tr>\n",
       "    <tr>\n",
       "      <th>...</th>\n",
       "      <td>...</td>\n",
       "      <td>...</td>\n",
       "      <td>...</td>\n",
       "      <td>...</td>\n",
       "      <td>...</td>\n",
       "      <td>...</td>\n",
       "    </tr>\n",
       "    <tr>\n",
       "      <th>611</th>\n",
       "      <td>ISL</td>\n",
       "      <td>SAU</td>\n",
       "      <td>0.0</td>\n",
       "      <td>0.0</td>\n",
       "      <td>0.0</td>\n",
       "      <td>0</td>\n",
       "    </tr>\n",
       "    <tr>\n",
       "      <th>17</th>\n",
       "      <td>AND</td>\n",
       "      <td>SAU</td>\n",
       "      <td>0.0</td>\n",
       "      <td>0.0</td>\n",
       "      <td>0.0</td>\n",
       "      <td>0</td>\n",
       "    </tr>\n",
       "    <tr>\n",
       "      <th>334</th>\n",
       "      <td>CZE</td>\n",
       "      <td>SAU</td>\n",
       "      <td>0.0</td>\n",
       "      <td>0.0</td>\n",
       "      <td>0.0</td>\n",
       "      <td>0</td>\n",
       "    </tr>\n",
       "    <tr>\n",
       "      <th>570</th>\n",
       "      <td>ISR</td>\n",
       "      <td>SAU</td>\n",
       "      <td>0.0</td>\n",
       "      <td>0.0</td>\n",
       "      <td>0.0</td>\n",
       "      <td>0</td>\n",
       "    </tr>\n",
       "    <tr>\n",
       "      <th>1159</th>\n",
       "      <td>SAU</td>\n",
       "      <td>LIE</td>\n",
       "      <td>0.0</td>\n",
       "      <td>0.0</td>\n",
       "      <td>0.0</td>\n",
       "      <td>0</td>\n",
       "    </tr>\n",
       "  </tbody>\n",
       "</table>\n",
       "<p>1485 rows × 6 columns</p>\n",
       "</div>"
      ],
      "text/plain": [
       "     country_code_alpha3_A country_code_alpha3_B  \\\n",
       "1358                   USA                   CZE   \n",
       "1405                   VEN                   ISR   \n",
       "332                    CZE                   LIE   \n",
       "1362                   USA                   FIN   \n",
       "1364                   USA                   GRC   \n",
       "...                    ...                   ...   \n",
       "611                    ISL                   SAU   \n",
       "17                     AND                   SAU   \n",
       "334                    CZE                   SAU   \n",
       "570                    ISR                   SAU   \n",
       "1159                   SAU                   LIE   \n",
       "\n",
       "      Censored_Category_Similarity  Blocking_Proportion_Similarity  \\\n",
       "1358                         100.0                             1.0   \n",
       "1405                         100.0                             1.0   \n",
       "332                          100.0                             1.0   \n",
       "1362                         100.0                             1.0   \n",
       "1364                         100.0                             1.0   \n",
       "...                            ...                             ...   \n",
       "611                            0.0                             0.0   \n",
       "17                             0.0                             0.0   \n",
       "334                            0.0                             0.0   \n",
       "570                            0.0                             0.0   \n",
       "1159                           0.0                             0.0   \n",
       "\n",
       "      Overall_Similarity  PercentRangeGroup  \n",
       "1358                50.5                 50  \n",
       "1405                50.5                 50  \n",
       "332                 50.5                 50  \n",
       "1362                50.5                 50  \n",
       "1364                50.5                 50  \n",
       "...                  ...                ...  \n",
       "611                  0.0                  0  \n",
       "17                   0.0                  0  \n",
       "334                  0.0                  0  \n",
       "570                  0.0                  0  \n",
       "1159                 0.0                  0  \n",
       "\n",
       "[1485 rows x 6 columns]"
      ]
     },
     "execution_count": 247,
     "metadata": {},
     "output_type": "execute_result"
    }
   ],
   "source": [
    "MetricDF"
   ]
  },
  {
   "cell_type": "markdown",
   "metadata": {},
   "source": [
    "Dropping other columns for JSON conversion format compliance"
   ]
  },
  {
   "cell_type": "code",
   "execution_count": 248,
   "metadata": {},
   "outputs": [],
   "source": [
    "MetricDFJSON = MetricDF[['country_code_alpha3_A','country_code_alpha3_B','Overall_Similarity']]"
   ]
  },
  {
   "cell_type": "code",
   "execution_count": 249,
   "metadata": {},
   "outputs": [
    {
     "data": {
      "text/html": [
       "<div>\n",
       "<style scoped>\n",
       "    .dataframe tbody tr th:only-of-type {\n",
       "        vertical-align: middle;\n",
       "    }\n",
       "\n",
       "    .dataframe tbody tr th {\n",
       "        vertical-align: top;\n",
       "    }\n",
       "\n",
       "    .dataframe thead th {\n",
       "        text-align: right;\n",
       "    }\n",
       "</style>\n",
       "<table border=\"1\" class=\"dataframe\">\n",
       "  <thead>\n",
       "    <tr style=\"text-align: right;\">\n",
       "      <th></th>\n",
       "      <th>country_code_alpha3_A</th>\n",
       "      <th>country_code_alpha3_B</th>\n",
       "      <th>Overall_Similarity</th>\n",
       "    </tr>\n",
       "  </thead>\n",
       "  <tbody>\n",
       "    <tr>\n",
       "      <th>1358</th>\n",
       "      <td>USA</td>\n",
       "      <td>CZE</td>\n",
       "      <td>50.5</td>\n",
       "    </tr>\n",
       "    <tr>\n",
       "      <th>1405</th>\n",
       "      <td>VEN</td>\n",
       "      <td>ISR</td>\n",
       "      <td>50.5</td>\n",
       "    </tr>\n",
       "    <tr>\n",
       "      <th>332</th>\n",
       "      <td>CZE</td>\n",
       "      <td>LIE</td>\n",
       "      <td>50.5</td>\n",
       "    </tr>\n",
       "    <tr>\n",
       "      <th>1362</th>\n",
       "      <td>USA</td>\n",
       "      <td>FIN</td>\n",
       "      <td>50.5</td>\n",
       "    </tr>\n",
       "    <tr>\n",
       "      <th>1364</th>\n",
       "      <td>USA</td>\n",
       "      <td>GRC</td>\n",
       "      <td>50.5</td>\n",
       "    </tr>\n",
       "  </tbody>\n",
       "</table>\n",
       "</div>"
      ],
      "text/plain": [
       "     country_code_alpha3_A country_code_alpha3_B  Overall_Similarity\n",
       "1358                   USA                   CZE                50.5\n",
       "1405                   VEN                   ISR                50.5\n",
       "332                    CZE                   LIE                50.5\n",
       "1362                   USA                   FIN                50.5\n",
       "1364                   USA                   GRC                50.5"
      ]
     },
     "execution_count": 249,
     "metadata": {},
     "output_type": "execute_result"
    }
   ],
   "source": [
    "MetricDFJSON.head()"
   ]
  },
  {
   "cell_type": "code",
   "execution_count": 250,
   "metadata": {},
   "outputs": [],
   "source": [
    "pairs_of_similarities = {}\n",
    "for _, row in MetricDFJSON.iterrows():\n",
    "    country_pair = row.values[0] +'->'+ row.values[1]\n",
    "    pairs_of_similarities[country_pair] = row.values[2]"
   ]
  },
  {
   "cell_type": "code",
   "execution_count": 251,
   "metadata": {},
   "outputs": [],
   "source": [
    "output_json = json.dumps(pairs_of_similarities)"
   ]
  },
  {
   "cell_type": "code",
   "execution_count": 252,
   "metadata": {},
   "outputs": [
    {
     "data": {
      "text/plain": [
       "'{\"USA->CZE\": 50.5, \"VEN->ISR\": 50.5, \"CZE->LIE\": 50.5, \"USA->FIN\": 50.5, \"USA->GRC\": 50.5, \"USA->IDN\": 50.5, \"BEL->VEN\": 50.5, \"USA->ISR\": 50.5, \"USA->ISL\": 50.5, \"USA->LIE\": 50.5, \"USA->VEN\": 50.5, \"BEL->LIE\": 50.5, \"BEL->ISL\": 50.5, \"BEL->ISR\": 50.5, \"BEL->GRC\": 50.5, \"BEL->DZA\": 50.5, \"BEL->CZE\": 50.5, \"BEL->CRI\": 50.5, \"VEN->CZE\": 50.5, \"VEN->DZA\": 50.5, \"VEN->GRC\": 50.5, \"DZA->CRI\": 50.5, \"DZA->GRC\": 50.5, \"USA->DZA\": 50.5, \"CZE->ISR\": 50.5, \"USA->CRI\": 50.5, \"IDN->FIN\": 50.5, \"ISR->LIE\": 50.5, \"ISR->GRC\": 50.5, \"ISR->DZA\": 50.5, \"ISR->CRI\": 50.5, \"IDN->VEN\": 50.5, \"IDN->LIE\": 50.5, \"IDN->ISL\": 50.5, \"IDN->ISR\": 50.5, \"IDN->GRC\": 50.5, \"IDN->DZA\": 50.5, \"CZE->GRC\": 50.5, \"IDN->CZE\": 50.5, \"IDN->CRI\": 50.5, \"IDN->BEL\": 50.5, \"IDN->AND\": 50.5, \"CRI->LIE\": 50.5, \"USA->AND\": 50.5, \"CZE->CRI\": 50.5, \"CZE->DZA\": 50.5, \"USA->BEL\": 50.5, \"DZA->LIE\": 50.5, \"VEN->CRI\": 50.5, \"GRC->CRI\": 50.5, \"ISL->DZA\": 50.5, \"FIN->CRI\": 50.5, \"FIN->CZE\": 50.5, \"FIN->DZA\": 50.5, \"ISL->CRI\": 50.5, \"FIN->GRC\": 50.5, \"FIN->ISR\": 50.5, \"ISL->GRC\": 50.5, \"FIN->ISL\": 50.5, \"AND->LIE\": 50.5, \"AND->ISL\": 50.5, \"FIN->LIE\": 50.5, \"ISL->CZE\": 50.5, \"FIN->VEN\": 50.5, \"FIN->BEL\": 50.5, \"AND->ISR\": 50.5, \"AND->GRC\": 50.5, \"ISL->ISR\": 50.5, \"AND->FIN\": 50.5, \"AND->DZA\": 50.5, \"VEN->LIE\": 50.5, \"AND->VEN\": 50.5, \"ISL->LIE\": 50.5, \"AND->CZE\": 50.5, \"AND->CRI\": 50.5, \"ISL->VEN\": 50.5, \"GRC->LIE\": 50.5, \"AND->BEL\": 50.5, \"NOR->DNK\": 50.49997808482311, \"SGP->SRB\": 50.49987594736006, \"LUX->CAN\": 50.49980573708108, \"NOR->MYS\": 50.49926618220017, \"MYS->DNK\": 50.49924426702328, \"MYS->POL\": 50.497814015694956, \"NOR->POL\": 50.49708019789512, \"DNK->POL\": 50.49705828271823, \"RUS->POL\": 49.686727462955155, \"RUS->MYS\": 49.684541478650104, \"NOR->RUS\": 49.68380766085028, \"RUS->DNK\": 49.68378574567338, \"BGR->NOR\": 49.00712233945339, \"BGR->DNK\": 49.007100424276494, \"BGR->MYS\": 49.00639385727998, \"BGR->POL\": 49.00420787297494, \"BGR->RUS\": 48.31506274468783, \"RUS->SAU\": 48.290006309092036, \"HKG->NOR\": 47.495527583194594, \"HKG->DNK\": 47.4955056680177, \"HKG->MYS\": 47.49499259756047, \"HKG->POL\": 47.492806613255425, \"HKG->RUS\": 47.16878926758623, \"POL->SAU\": 46.97396962944451, \"MYS->SAU\": 46.97178364513947, \"NOR->SAU\": 46.971049827339634, \"DNK->SAU\": 46.97102791216275, \"ROU->NOR\": 46.92374586839777, \"ROU->DNK\": 46.92372395322088, \"ROU->MYS\": 46.92318940232833, \"ROU->POL\": 46.92100341802328, \"ROU->RUS\": 46.80146959105678, \"BLZ->NZL\": 46.585219551090326, \"KOR->HUN\": 46.570127422183646, \"KOR->SAU\": 46.34876710859027, \"ROU->CHL\": 46.174882251975156, \"BGR->HKG\": 46.09235832470684, \"BGR->SAU\": 45.743480323986105, \"BGR->ROU\": 45.53764890305251, \"JPN->HKG\": 45.346080110710425, \"CHL->DNK\": 45.22133847345605, \"CHL->NOR\": 45.22131655827916, \"CHL->MYS\": 45.22058274047933, \"CHL->POL\": 45.218396756174286, \"HKG->ROU\": 44.861572572855515, \"BGR->TWN\": 44.80373057576367, \"HKG->SAU\": 44.72076813890392, \"NZL->CHL\": 44.67368760098887, \"LTU->ESP\": 44.595781360175245, \"CHL->RUS\": 44.48522235396385, \"NLD->SRB\": 44.21395267923381, \"NLD->SGP\": 44.21391879956755, \"HKG->NZL\": 43.972935598371585, \"BGR->CHL\": 43.886045904201396, \"ROU->SAU\": 43.858175173109856, \"PER->RUS\": 43.73567767475231, \"BLZ->HKG\": 43.667735059496955, \"PER->FRA\": 43.36590128296647, \"PER->SAU\": 43.33524695527972, \"COL->ROU\": 43.10133790962639, \"JPN->RUS\": 43.09823513219971, \"KOR->RUS\": 43.06397071946762, \"LTU->TWN\": 43.02098616981779, \"NZL->RUS\": 42.87445839049917, \"KEN->NZL\": 42.83238943838767, \"NZL->NOR\": 42.8323376692419, \"NZL->DNK\": 42.832315754065014, \"BLZ->JPN\": 42.83187748591723, \"NZL->MYS\": 42.83180666748203, \"NZL->POL\": 42.82962068317698, \"BGR->JPN\": 42.779094256370605, \"BGR->NZL\": 42.70919116244871, \"LTU->ROU\": 42.68479007204513, \"JPN->MYS\": 42.57757917272349, \"JPN->NOR\": 42.57751957843702, \"JPN->DNK\": 42.577497663260125, \"JPN->POL\": 42.57539318841844, \"HKG->CHL\": 42.53402423844404, \"CHL->SAU\": 42.459085132460906, \"ROU->NZL\": 42.42498241617369, \"FRA->SAU\": 42.39671388380501, \"TWN->RUS\": 42.27831020524154, \"JPN->NZL\": 42.203827253183995, \"BLZ->PER\": 42.16621331825229, \"BLZ->RUS\": 42.09375550253166, \"ROU->TWN\": 42.08035498357794, \"FRA->RUS\": 42.04977868493234, \"TWN->NOR\": 41.74782231535095, \"TWN->DNK\": 41.74780040017406, \"TWN->MYS\": 41.74723500527976, \"TWN->POL\": 41.74504902097472, \"AUS->NZL\": 41.703331202373434, \"JPN->SAU\": 41.41346891615104, \"NLD->BRA\": 41.36742274994742, \"ROU->FRA\": 41.352867374416455, \"CAN->SYC\": 41.32473561027688, \"LUX->SYC\": 41.324728219576805, \"BLZ->MYS\": 41.32469944407022, \"PER->NOR\": 41.32467817931692, \"PER->DNK\": 41.324656264140025, \"BLZ->KEN\": 41.32427660004831, \"PER->MYS\": 41.32424609565585, \"BLZ->NOR\": 41.324224830902544, \"BLZ->DNK\": 41.32420291572565, \"BLZ->POL\": 41.322513459765176, \"PER->POL\": 41.3220601113508, \"NZL->SAU\": 40.956698664200616, \"KOR->ROU\": 40.81969798973018, \"LTU->RUS\": 40.80082374162994, \"FRA->CHL\": 40.74919895194934, \"LTU->NOR\": 40.58909598927906, \"LTU->DNK\": 40.589074074102165, \"LTU->MYS\": 40.588542766648416, \"LTU->POL\": 40.586356782343366, \"KEN->SWE\": 40.51625972319737, \"FRA->DNK\": 40.49999643349287, \"FRA->NOR\": 40.499981651330245, \"FRA->MYS\": 40.49924783353041, \"FRA->POL\": 40.49706184922536, \"HKG->PER\": 40.470541010955934, \"JPN->PER\": 40.3778052436097, \"COL->LTU\": 40.35396431363806, \"KOR->PER\": 40.34018846296601, \"HKG->LTU\": 40.273671396388245, \"KOR->POL\": 40.26526549998741, \"KOR->MYS\": 40.26307951568236, \"KOR->NOR\": 40.26234569788252, \"KOR->DNK\": 40.262323782705636, \"BLZ->AUS\": 40.23550726438319, \"JPN->ROU\": 40.126175933428314, \"BGR->PER\": 40.105753519810804, \"BGR->BLZ\": 40.10530017139643, \"HUN->SAU\": 40.02336201829958, \"NZL->FRA\": 40.010156715421346, \"AUS->FRA\": 39.9737200252335, \"BLZ->SAU\": 39.9697308505817, \"HKG->IND\": 39.93066143024874, \"ROU->ESP\": 39.89185441196276, \"PER->IND\": 39.84636984429014, \"KOR->FRA\": 39.81533174512179, \"AUS->IND\": 39.76918686998374, \"HKG->TWN\": 39.730928777652686, \"COL->TWN\": 39.70340030999595, \"ROU->IND\": 39.673347663893374, \"HKG->FRA\": 39.662904734645245, \"TWN->SAU\": 39.47103630766777, \"LTU->NZL\": 39.46981416402048, \"KOR->BGR\": 39.4324190370999, \"KOR->HKG\": 39.39652468998787, \"BGR->LTU\": 39.39213578335849, \"IND->RUS\": 39.33765640326426, \"BGR->FRA\": 39.3056789893303, \"ESP->NZL\": 39.302693425068895, \"KOR->LTU\": 39.25654666172111, \"AUS->JPN\": 39.18006720324704, \"JPN->TWN\": 39.10848861665665, \"ESP->SYC\": 38.98988646883507, \"FRA->IND\": 38.92929647452213, \"KOR->TWN\": 38.90672811954301, \"PER->NZL\": 38.904719173079016, \"LTU->SYC\": 38.6880731383933, \"BLZ->LTU\": 38.6876168733995, \"ROU->PER\": 38.40483998774098, \"BLZ->ROU\": 38.4043866393266, \"JPN->FRA\": 38.369709601319244, \"COL->ESP\": 38.351646001861155, \"JPN->IND\": 38.24636215182371, \"NZL->TWN\": 38.194077809316234, \"JPN->CHL\": 38.135192767697426, \"AUS->PER\": 38.02840668435581, \"ESP->TWN\": 37.99990913204512, \"IND->POL\": 37.95311227721348, \"IND->MYS\": 37.95092629290843, \"IND->NOR\": 37.950192475108594, \"IND->DNK\": 37.950170559931706, \"BGR->IND\": 37.88011975290994, \"BGR->AUS\": 37.87711197971769, \"PER->TWN\": 37.78712727195827, \"AUS->HKG\": 37.77136815318687, \"LTU->SAU\": 37.74848588400443, \"KOR->JPN\": 37.64870078802395, \"IND->SAU\": 37.58071829365505, \"AUS->RUS\": 37.50415465003293, \"CHL->TWN\": 37.39312312305014, \"ESP->CHL\": 37.39303225509527, \"BLZ->FRA\": 37.24172357759416, \"COL->BRA\": 37.206334573206014, \"AUS->ROU\": 37.150524589950216, \"AUS->TWN\": 37.14272331249675, \"HKG->KEN\": 37.05210668583426, \"BLZ->NLD\": 37.02186202070473, \"PER->CHL\": 37.01464330822506, \"BLZ->CHL\": 37.01418995981069, \"ESP->RUS\": 36.968335759081555, \"AUS->SAU\": 36.932589252786656, \"AUS->CHL\": 36.77362874586832, \"KOR->CHL\": 36.73600212964429, \"BLZ->IND\": 36.72584702340744, \"VNM->PER\": 36.58428990648703, \"BLZ->TWN\": 36.583860862732166, \"COL->CHL\": 36.40901628079445, \"LTU->CHL\": 36.356724990730584, \"COL->RUS\": 36.29688423061981, \"JPN->LTU\": 36.245259967672524, \"COL->KOR\": 36.14641689400273, \"LTU->KEN\": 36.13479372655109, \"NZL->IND\": 36.11458659365071, \"KOR->TUR\": 36.09701663781907, \"AUS->NLD\": 35.90170409784919, \"NLD->TUR\": 35.8639303237691, \"VNM->NOR\": 35.85529011012256, \"VNM->FRA\": 35.85527176145282, \"VNM->DNK\": 35.85526819494567, \"HUN->CHL\": 35.85526283412605, \"FRA->TWN\": 35.855247456793286, \"ESP->NOR\": 35.85517493750817, \"ESP->DNK\": 35.85515302233128, \"ESP->MYS\": 35.85476936334674, \"VNM->MYS\": 35.85465419073235, \"ESP->POL\": 35.8525833790417, \"VNM->POL\": 35.8524682064273, \"KOR->NZL\": 35.823570833357536, \"PER->TUR\": 35.77904713245966, \"NLD->PER\": 35.777234100012365, \"ROU->HUN\": 35.7331577285017, \"AUS->BRA\": 35.647834014801695, \"AUS->NOR\": 35.64783381041625, \"AUS->DNK\": 35.647811895239364, \"AUS->MYS\": 35.64738152844768, \"AUS->POL\": 35.64519554414264, \"KOR->AUS\": 35.63938897460115, \"HKG->ESP\": 35.57702441697203, \"FRA->HUN\": 35.28500267969771, \"VNM->RUS\": 35.284171301133576, \"COL->AUS\": 35.2350276704697, \"KOR->ESP\": 35.16987054411834, \"KOR->BLZ\": 35.146057836286666, \"JPN->KEN\": 35.063657725354176, \"COL->NZL\": 35.03050529956268, \"HUN->RUS\": 34.98473487967956, \"KOR->IND\": 34.95768212126752, \"COL->NOR\": 34.912177030114954, \"COL->FRA\": 34.9121586814452, \"COL->DNK\": 34.912155114938066, \"COL->MYS\": 34.911809313253755, \"COL->POL\": 34.90962332894871, \"BGR->VNM\": 34.79967074711018, \"BGR->ESP\": 34.799555574495784, \"COL->HKG\": 34.64144784531053, \"CHL->IND\": 34.59033726593828, \"COL->IND\": 34.33037877065694, \"LTU->HUN\": 34.30611312504077, \"IND->TWN\": 34.30083647266102, \"BLZ->ESP\": 34.17832560906362, \"ESP->HUN\": 34.04088877416234, \"ESP->SAU\": 33.95573361170008, \"COL->JPN\": 33.941700497367734, \"COL->BGR\": 33.88471266182333, \"VNM->TWN\": 33.83330902867381, \"KEN->NOR\": 33.833281564187565, \"KEN->DNK\": 33.83325964901068, \"KEN->MYS\": 33.83265128467927, \"KEN->POL\": 33.83046530037423, \"HKG->VNM\": 33.73087607042463, \"HUN->TUR\": 33.72287738755945, \"COL->SAU\": 33.466077870974836, \"KEN->RUS\": 33.39882832802479, \"ROU->VNM\": 33.32656848827025, \"COL->PER\": 33.28047122195936, \"COL->SYC\": 33.280352999569196, \"COL->BLZ\": 33.28008224034485, \"LTU->PER\": 33.23262296591407, \"VNM->SAU\": 33.213614606965535, \"BLZ->BRA\": 33.15925922601073, \"COL->HUN\": 33.14628143796591, \"BGR->KEN\": 32.83803423684518, \"PER->HUN\": 32.77474358481045, \"LTU->FRA\": 32.57124038323658, \"TUR->BRA\": 32.36306516088795, \"HUN->TWN\": 32.17758966086739, \"HUN->NOR\": 32.12274336819909, \"HUN->DNK\": 32.1227214530222, \"VNM->CHL\": 32.12268466076235, \"HUN->MYS\": 32.122076017368656, \"HUN->POL\": 32.119890033063605, \"JPN->ESP\": 32.024393783907776, \"KEN->ESP\": 31.92685570006201, \"TWN->SYC\": 31.773098971919627, \"NZL->HUN\": 31.73554798417302, \"KEN->SAU\": 31.644853350269962, \"ROU->KEN\": 31.44918612278921, \"KOR->BRA\": 31.384598772010783, \"AUS->TUR\": 31.339590400177357, \"FRA->TUR\": 31.320273476406925, \"JPN->VNM\": 31.315860041223008, \"LTU->IND\": 31.274704908448133, \"BGR->HUN\": 31.178568988223336, \"AUS->KEN\": 31.141734992596394, \"TWN->BRA\": 31.141220801938182, \"ESP->FRA\": 31.141111380928102, \"PER->BRA\": 31.118471122105785, \"SWE->MDA\": 30.988562182597207, \"AUS->LTU\": 30.84879846301316, \"BLZ->SWE\": 30.838772564214207, \"SVK->RUS\": 30.727618197317078, \"NZL->BRA\": 30.602966584640587, \"TUR->SAU\": 30.556231191045768, \"SGP->BRA\": 30.49999682814771, \"KEN->FRA\": 30.499929882184475, \"SRB->BRA\": 30.499872775507775, \"VNM->NZL\": 30.4335022768831, \"JPN->NLD\": 30.41275317353342, \"KEN->CHL\": 30.314144939134803, \"HKG->HUN\": 30.222578094486035, \"JPN->MEX\": 29.999078272308005, \"LTU->BRA\": 29.89864651716753, \"AUS->ESP\": 29.81420930733487, \"SWE->NZL\": 29.808574343834927, \"ESP->SVK\": 29.58799994000211, \"AUS->HUN\": 29.569279107981757, \"MEX->FRA\": 29.36750848919706, \"MEX->DNK\": 29.367504922689935, \"ESP->PER\": 29.36750020473147, \"MEX->NOR\": 29.36750008109575, \"KEN->MEX\": 29.367448311949985, \"BLZ->VNM\": 29.366958193202336, \"MEX->MYS\": 29.36676626329592, \"MEX->POL\": 29.36458027899087, \"NLD->NZL\": 29.19021577531553, \"SRB->TUR\": 29.029737293117307, \"SGP->TUR\": 29.029613240477367, \"HUN->BRA\": 28.960465912416165, \"MEX->RUS\": 28.92771634510658, \"LTU->VNM\": 28.847294127312253, \"ESP->BRA\": 28.78410733002815, \"IND->BRA\": 28.767612820442505, \"JPN->BRA\": 28.751918717921836, \"KOR->VNM\": 28.62617084033959, \"BGR->MEX\": 28.50558563436145, \"FRA->BRA\": 28.499981446944794, \"ROU->BRA\": 28.354212255078032, \"KEN->MDA\": 28.277776143794124, \"JPN->HUN\": 28.062490705531257, \"ESP->IND\": 28.003530324963027, \"KEN->TWN\": 27.998575561424964, \"SVK->MYS\": 27.7232358206037, \"SVK->NOR\": 27.722581009643548, \"SVK->DNK\": 27.722559094466657, \"SVK->POL\": 27.721049836298654, \"KEN->PER\": 27.716453599667247, \"MEX->NZL\": 27.656157543272908, \"HKG->MEX\": 27.63282510429968, \"BGR->SVK\": 27.349939011509345, \"COL->NLD\": 27.32078466288602, \"MEX->SAU\": 27.312465671058394, \"ROU->MEX\": 27.302711316694133, \"BLZ->TUR\": 27.300187806789083, \"KOR->KEN\": 27.28176353365791, \"SVK->SAU\": 27.276408909859473, \"LTU->LUX\": 27.226081017338316, \"LTU->CAN\": 27.225973102227652, \"IND->TUR\": 27.195398542601414, \"KEN->IND\": 27.175651304719032, \"NLD->FRA\": 27.134939808052923, \"NLD->IND\": 27.100406055439468, \"AUS->MEX\": 27.03644384851349, \"ROU->SYC\": 27.03337549407564, \"KOR->SYC\": 27.028319371481466, \"COL->MEX\": 26.990450712446023, \"VNM->IND\": 26.93613803524238, \"NLD->TWN\": 26.498327124196283, \"HKG->SVK\": 26.371208489970947, \"HUN->SYC\": 26.319888385910637, \"MEX->CHL\": 26.319859361385024, \"BLZ->HUN\": 26.319317992717053, \"ROU->SVK\": 26.112586637231686, \"JPN->TUR\": 25.775170648493003, \"HUN->IND\": 25.751712901983993, \"ESP->VNM\": 25.499884827385603, \"AUS->VNM\": 25.35327935060003, \"BRA->SYC\": 24.994864987538005, \"SVK->CHL\": 24.848500371787075, \"COL->VNM\": 24.83307906834988, \"HKG->BRA\": 24.780974737929263, \"RUS->TUR\": 24.7179550694663, \"BRA->SAU\": 24.606291878304972, \"HKG->SWE\": 24.455046059506707, \"MEX->TWN\": 24.314396978142142, \"RUS->BRA\": 24.200630737684662, \"LTU->SWE\": 24.18126250140195, \"JPN->SVK\": 24.173342193184574, \"KEN->VNM\": 24.070223219610625, \"ESP->LUX\": 24.0701953892211, \"MEX->PER\": 24.070061794096663, \"ESP->CAN\": 24.070001126302188, \"BLZ->MEX\": 24.06960844568229, \"NZL->SVK\": 24.060150040456268, \"SVK->TWN\": 24.02686654670433, \"KOR->NLD\": 23.85582660075713, \"LTU->MEX\": 23.64539881834365, \"NLD->HKG\": 23.591702025419064, \"KOR->MEX\": 23.53533022513949, \"BLZ->SVK\": 23.468544832280426, \"PER->SVK\": 23.468091483866054, \"COL->LUX\": 23.441523808075583, \"COL->KEN\": 23.441442105732634, \"COL->CAN\": 23.44132954515667, \"NLD->RUS\": 23.268808880104455, \"FRA->SVK\": 23.003861604809707, \"KOR->SVK\": 22.950183800410848, \"NLD->SAU\": 22.901427980438648, \"VNM->HUN\": 22.860664059277784, \"CHL->AUT\": 22.860661975284327, \"CHL->BRA\": 22.86063657889583, \"JPN->SWE\": 22.835754541365233, \"NZL->TUR\": 22.403426646559303, \"BGR->BRA\": 22.328203789842195, \"LTU->SVK\": 22.326575099271768, \"SVK->IND\": 22.176823071342355, \"MEX->IND\": 22.156331027612776, \"HKG->TUR\": 21.960065662435458, \"UKR->BGR\": 21.866118652470238, \"RUS->SYC\": 21.806561500843234, \"KEN->HUN\": 21.58183253212812, \"BGR->NLD\": 21.45776103543176, \"ESP->SWE\": 21.384822993178332, \"AUS->SVK\": 21.304647855984285, \"UKR->POL\": 21.150021888537115, \"UKR->MYS\": 21.147835904232068, \"UKR->NOR\": 21.147102086432234, \"UKR->DNK\": 21.147080171255347, \"PER->SRB\": 20.91239108500144, \"NOR->SYC\": 20.912381878513926, \"DNK->SYC\": 20.912359963337035, \"VNM->MEX\": 20.9123521956028, \"PER->SGP\": 20.9122670323615, \"ESP->MEX\": 20.912237022988418, \"BLZ->SRB\": 20.911937736587063, \"BLZ->SGP\": 20.911813683947123, \"MYS->SYC\": 20.911713350072542, \"POL->SYC\": 20.909527365767495, \"UKR->RUS\": 20.903058112236614, \"COL->TUR\": 20.554216189191916, \"NOR->BRA\": 20.499999795614556, \"DNK->BRA\": 20.499977880437665, \"KEN->BRA\": 20.499948435239677, \"CAN->BRA\": 20.49993900418436, \"LUX->BRA\": 20.499866732896727, \"MYS->BRA\": 20.499266386585614, \"POL->BRA\": 20.497080402280567, \"BGR->SYC\": 20.302920882667475, \"COL->SVK\": 20.0685581547958, \"NLD->LTU\": 20.06232060041759, \"UKR->JPN\": 19.985872102921483, \"UKR->HKG\": 19.960295967825328, \"NLD->ROU\": 19.944203355180704, \"NLD->NOR\": 19.81540504246248, \"NLD->DNK\": 19.81538312728559, \"NLD->MYS\": 19.814835909444312, \"NLD->POL\": 19.81264992513927, \"VNM->SVK\": 19.749117222550264, \"MEX->MDA\": 19.74494545943987, \"HKG->SYC\": 19.685817610328744, \"UKR->ROU\": 19.67021711583677, \"UKR->TWN\": 19.506477935916333, \"UKR->SAU\": 19.500032513251888, \"AUS->SRB\": 19.425819126217668, \"AUS->SGP\": 19.425695073577728, \"TWN->TUR\": 19.20266264127614, \"SYC->SAU\": 19.175919411416302, \"UKR->BRA\": 19.08207808438557, \"TUR->POL\": 19.032164389555902, \"MYS->TUR\": 19.02997840525086, \"NOR->TUR\": 19.029244587451025, \"DNK->TUR\": 19.029222672274134, \"UKR->CHL\": 18.96695503345353, \"MEX->HUN\": 18.7573719716353, \"CHL->SYC\": 18.757342947109688, \"KEN->SVK\": 18.648207670781463, \"UKR->NZL\": 18.628000834072104, \"BGR->TUR\": 18.4729077061528, \"NLD->ESP\": 18.471118367615038, \"NLD->KEN\": 18.459984012671168, \"CHL->TUR\": 18.399913950368973, \"ROU->TUR\": 18.28389117397638, \"NLD->CHL\": 18.230811188332474, \"LUX->TWN\": 18.17760931203929, \"TWN->PRT\": 18.177572465174528, \"TWN->CAN\": 18.177535484369166, \"AUS->SWE\": 17.96507916351886, \"NZL->SYC\": 17.782077121117037, \"HUN->SVK\": 17.71684999785925, \"JPN->SYC\": 17.67787332805664, \"UKR->BLZ\": 17.545659078896847, \"UKR->PER\": 17.451534330255544, \"PER->SYC\": 17.166548444276504, \"BLZ->SYC\": 17.166095095862133, \"UKR->LTU\": 17.115300665402586, \"UKR->FRA\": 17.06292475170787, \"UKR->KOR\": 17.056364667330616, \"NLD->HUN\": 16.895359558839516, \"FRA->SYC\": 16.82988062520554, \"UKR->AUS\": 16.626204859208052, \"UKR->IND\": 16.414737519570473, \"HUN->AUT\": 16.311294275927004, \"HUN->CAN\": 16.311294275927004, \"HUN->LUX\": 16.31128806283787, \"MEX->SVK\": 16.216657643782753, \"SWE->IND\": 16.201451254533083, \"IND->SYC\": 15.830740124308845, \"LTU->TUR\": 15.427314186332787, \"SWE->BRA\": 15.363185467056406, \"ESP->TUR\": 15.203727209631015, \"UKR->ESP\": 15.153031548891878, \"UKR->VNM\": 15.098835168141092, \"VNM->SYC\": 14.93374042521506, \"AUS->SYC\": 14.8489924116349, \"SWE->DNK\": 14.791545636143713, \"SWE->NOR\": 14.791523720966822, \"SWE->MYS\": 14.79078990316699, \"SWE->POL\": 14.788603918861943, \"UKR->COL\": 14.762153168595496, \"SWE->RUS\": 14.69379526714236, \"VNM->BRA\": 14.642086878911593, \"NZL->MDA\": 14.610761752896101, \"NZL->AUT\": 14.610650826303788, \"SVK->TUR\": 14.609244582089637, \"UKR->KEN\": 14.41670459016966, \"BGR->SWE\": 14.364811138072916, \"NLD->VNM\": 14.158078718566964, \"KEN->SYC\": 14.10825722432889, \"BLZ->MDA\": 14.107722268473795, \"AUS->PRT\": 14.018287182356412, \"NLD->MEX\": 13.99945387643411, \"SWE->SAU\": 13.822043015908516, \"ROU->SWE\": 13.769256185277596, \"VNM->TUR\": 13.571767552041301, \"SVK->BRA\": 13.56647804553675, \"UKR->HUN\": 13.557253087010237, \"SWE->CHL\": 13.282731863315131, \"AUS->MDA\": 13.117131010750239, \"KOR->LUX\": 13.082580902956414, \"KOR->CAN\": 13.0823866400375, \"NLD->SVK\": 13.008626746705334, \"KOR->SWE\": 12.92232411609918, \"NLD->SWE\": 12.820360979194076, \"KEN->TUR\": 12.818243278705289, \"BGR->PRT\": 12.6267547733786, \"JPN->SRB\": 12.521992518400285, \"JPN->SGP\": 12.521868465760345, \"UKR->MEX\": 12.419269458392336, \"SWE->TWN\": 12.289827922270721, \"MEX->SYC\": 12.285066996711032, \"ZAF->MDA\": 12.285033534548365, \"ESP->AUT\": 12.284888106526397, \"PER->SWE\": 12.168824792255112, \"MEX->BRA\": 12.046991801021537, \"COL->SRB\": 11.970731071936445, \"COL->SGP\": 11.970607019296505, \"COL->AUT\": 11.97054285162858, \"UKR->SVK\": 11.94910892440263, \"SWE->FRA\": 11.933232317261432, \"NLD->SYC\": 11.705681724249038, \"IND->SRB\": 11.66397218066872, \"IND->SGP\": 11.663848128028782, \"SVK->SYC\": 11.613193942158906, \"UKR->NLD\": 11.553324721315091, \"AUS->AUT\": 11.314559849371673, \"PER->CHN\": 11.2130713916149, \"MEX->TUR\": 11.153931474806122, \"FRA->CHN\": 10.743390307862125, \"VNM->SWE\": 10.605577053066819, \"FRA->SGP\": 10.499978275092507, \"PRT->BRA\": 10.499975984989721, \"FRA->AUT\": 10.499957557239561, \"BRA->AUT\": 10.499939004184359, \"FRA->SRB\": 10.49985422245257, \"COL->SWE\": 10.33591035067969, \"NZL->SRB\": 9.907182662978283, \"NZL->SGP\": 9.907110652053733, \"ROU->LUX\": 9.78472211322907, \"ROU->CAN\": 9.784617441557202, \"ROU->AUT\": 9.784617441557202, \"NLD->PRT\": 9.649335239809586, \"SWE->HUN\": 9.53871080138373, \"LTU->MDA\": 9.408667901325, \"ZAF->TUR\": 9.15966527487496, \"JPN->MDA\": 9.015422200978046, \"UKR->SYC\": 8.927318687214424, \"MEX->SWE\": 8.75121786228224, \"COL->ZAF\": 8.610858656003506, \"ESP->MDA\": 8.356628026526776, \"SWE->SVK\": 8.280535979736108, \"UKR->TUR\": 8.22620790636608, \"AUS->ZAF\": 8.14702101103779, \"TUR->SYC\": 8.142650564903732, \"FRA->ZAF\": 7.5710568104699325, \"ZAF->BRA\": 7.571038257414729, \"SWE->TUR\": 7.432156706211279, \"NLD->MDA\": 7.277331787456656, \"MDA->BRA\": 7.166616735889991, \"FRA->MDA\": 7.166598182834788, \"ROU->ZAF\": 7.0652036170556265, \"UKR->SWE\": 6.6091797232271645, \"JPN->PRT\": 6.510710381114895, \"TWN->SRB\": 6.39250233487455, \"SGP->TWN\": 6.392486632261306, \"SWE->SYC\": 6.334442664528566, \"UKR->PRT\": 6.00356742863863, \"NLD->CHN\": 5.846723549013943, \"HKG->MDA\": 5.72168705233231, \"KOR->SRB\": 5.346491999256515, \"KOR->SGP\": 5.346367946616576, \"NZL->PRT\": 5.203479123273179, \"MDA->TUR\": 4.72677800196391, \"IND->PRT\": 4.675690468859946, \"NLD->LUX\": 4.5663672677133365, \"NLD->CAN\": 4.566275262990195, \"HKG->SRB\": 4.416274237144969, \"HKG->SGP\": 4.4162062100946615, \"COL->MDA\": 4.323462649202166, \"IND->MDA\": 4.063200383063253, \"RUS->SRB\": 3.7897565296271507, \"SGP->RUS\": 3.789632476987212, \"ZAF->IND\": 3.69506095535022, \"JPN->ZAF\": 3.687457509208236, \"SRB->SAU\": 3.633658344818184, \"SGP->SAU\": 3.633534292178245, \"TUR->AUT\": 3.3875868246335186, \"HKG->ZAF\": 3.2691151119603976, \"CHN->TUR\": 2.91749931887316, \"CHN->IND\": 2.917347544431262, \"ZAF->RUS\": 2.7409784339308145, \"NLD->ZAF\": 2.6564323251890696, \"KOR->ZAF\": 2.373840756630983, \"SVK->SRB\": 2.3143181360992475, \"SVK->SGP\": 2.314194083459309, \"SVK->PRT\": 2.3141668965967432, \"CHN->RUS\": 2.274525537069954, \"LUX->RUS\": 1.9874666400042278, \"RUS->CAN\": 1.987272377085314, \"KOR->AUT\": 1.9272314430209905, \"KOR->PRT\": 1.8877986133105886, \"CHN->SRB\": 1.7619489748191255, \"CHN->SGP\": 1.7618249221791866, \"IND->AUT\": 1.7010425506843871, \"NLD->AUT\": 1.5164614653817805, \"CHN->BRA\": 1.5088192965074487, \"MDA->RUS\": 1.3651620889778022, \"KOR->MDA\": 1.2678676189124871, \"AUS->CHN\": 1.2493943675761303, \"UKR->CHN\": 1.147214425219287, \"CHN->PRT\": 1.129291600768, \"BLZ->CHN\": 1.0138525886027305, \"SAU->AUT\": 0.9993827454448823, \"JPN->CHN\": 0.9534552430980571, \"COL->CHN\": 0.9323129044188425, \"CHN->TWN\": 0.8695903447763871, \"MEX->CHN\": 0.8619734855044079, \"RUS->PRT\": 0.8608744002444424, \"NZL->CHN\": 0.7944165449394527, \"CHN->SAU\": 0.7677503234843724, \"UKR->SRB\": 0.7264345850368614, \"UKR->SGP\": 0.7263105323969227, \"PRT->SAU\": 0.7210202471620231, \"CHN->MDA\": 0.7076947901892026, \"KOR->CHN\": 0.6512416422185383, \"BGR->CHN\": 0.650217215339493, \"UKR->MDA\": 0.6498749133053079, \"HKG->CHN\": 0.5959921008404089, \"MDA->SAU\": 0.5830841947684925, \"LUX->TUR\": 0.5671652402530812, \"CAN->TUR\": 0.5669709773341673, \"SVK->CHN\": 0.566379145804011, \"LUX->IND\": 0.50551182395202, \"IND->CAN\": 0.5053175610331061, \"USA->CAN\": 0.5, \"VEN->AUT\": 0.5, \"USA->AUT\": 0.5, \"AND->AUT\": 0.5, \"CZE->AUT\": 0.5, \"BEL->AUT\": 0.5, \"IDN->AUT\": 0.5, \"CAN->LIE\": 0.5, \"CAN->ISL\": 0.5, \"CAN->ISR\": 0.5, \"CAN->GRC\": 0.5, \"DZA->AUT\": 0.5, \"CAN->FIN\": 0.5, \"CAN->DZA\": 0.5, \"CAN->CZE\": 0.5, \"CAN->CRI\": 0.5, \"CAN->BEL\": 0.5, \"CAN->AUT\": 0.5, \"AUT->CRI\": 0.5, \"AUT->GRC\": 0.5, \"ISR->AUT\": 0.5, \"AUT->LIE\": 0.5, \"AND->CAN\": 0.5, \"FIN->AUT\": 0.5, \"IDN->CAN\": 0.5, \"ISL->AUT\": 0.5, \"CAN->VEN\": 0.5, \"BGR->SGP\": 0.4999992915754828, \"VNM->MDA\": 0.49999881404268803, \"SWE->PRT\": 0.499998769715917, \"PRT->DNK\": 0.49999810455205657, \"SGP->NOR\": 0.49999662376226806, \"SWE->ZAF\": 0.499995690843612, \"FRA->PRT\": 0.4999945380449245, \"ZAF->PRT\": 0.499994460559529, \"LUX->SRB\": 0.4999939573889514, \"AUS->LUX\": 0.4999927035730875, \"ZAF->DNK\": 0.4999925651115861, \"MEX->PRT\": 0.4999895677607046, \"ZAF->CHL\": 0.4999863583486776, \"MEX->ZAF\": 0.4999840283202336, \"MEX->SGP\": 0.49998324537673017, \"HUN->MDA\": 0.49998309832257837, \"PER->LUX\": 0.499982604419336, \"MDA->SYC\": 0.49998250951710477, \"CHL->ISL\": 0.4999822002864316, \"CHL->ISR\": 0.4999822002864316, \"IDN->CHL\": 0.4999822002864316, \"CHL->GRC\": 0.4999822002864316, \"CHL->FIN\": 0.4999822002864316, \"CHL->LIE\": 0.4999822002864316, \"CHL->AND\": 0.4999822002864316, \"CHL->DZA\": 0.4999822002864316, \"CHL->VEN\": 0.4999822002864316, \"CHL->CZE\": 0.4999822002864316, \"CHL->CRI\": 0.4999822002864316, \"USA->CHL\": 0.4999822002864316, \"CHL->CAN\": 0.4999822002864316, \"CHL->BEL\": 0.4999822002864316, \"CHL->PRT\": 0.49998081890820706, \"TWN->MDA\": 0.49997688129779533, \"NOR->PRT\": 0.49997618937516675, \"SGP->DNK\": 0.49997470858537774, \"SGP->PRT\": 0.4999728131374348, \"SWE->SGP\": 0.49997158285335175, \"SGP->SYC\": 0.4999707315585083, \"ZAF->NOR\": 0.49997064993469575, \"HUN->SGP\": 0.4999701427530347, \"ZAF->LIE\": 0.4999685586351097, \"ZAF->ISL\": 0.4999685586351097, \"ZAF->ISR\": 0.4999685586351097, \"ZAF->GRC\": 0.4999685586351097, \"ZAF->FIN\": 0.4999685586351097, \"USA->ZAF\": 0.4999685586351097, \"ZAF->DZA\": 0.4999685586351097, \"ZAF->CZE\": 0.4999685586351097, \"ZAF->CRI\": 0.4999685586351097, \"ZAF->CAN\": 0.4999685586351097, \"ZAF->BEL\": 0.4999685586351097, \"ZAF->AUT\": 0.4999685586351097, \"ZAF->AND\": 0.4999685586351097, \"ZAF->VEN\": 0.4999685586351097, \"IDN->ZAF\": 0.4999685586351097, \"BGR->ZAF\": 0.49996798212148097, \"NZL->LUX\": 0.4999679365312573, \"ZAF->SGP\": 0.4999672736969638, \"HKG->LUX\": 0.49996594459413624, \"SWE->IDN\": 0.4999642494787212, \"SWE->CAN\": 0.4999642494787212, \"USA->SWE\": 0.4999642494787212, \"SWE->LIE\": 0.4999642494787212, \"SWE->ISL\": 0.4999642494787212, \"SWE->ISR\": 0.4999642494787212, \"SWE->AND\": 0.4999642494787212, \"SWE->VEN\": 0.4999642494787212, \"SWE->BEL\": 0.4999642494787212, \"SWE->AUT\": 0.4999642494787212, \"SWE->FIN\": 0.4999642494787212, \"SWE->GRC\": 0.4999642494787212, \"SWE->CRI\": 0.4999642494787212, \"SWE->CZE\": 0.4999642494787212, \"SWE->DZA\": 0.4999642494787212, \"ESP->SRB\": 0.49996330705846864, \"BEL->PRT\": 0.4999630191946387, \"USA->PRT\": 0.4999630191946387, \"PRT->LIE\": 0.4999630191946387, \"PRT->ISR\": 0.4999630191946387, \"PRT->GRC\": 0.4999630191946387, \"PRT->CZE\": 0.4999630191946387, \"PRT->CRI\": 0.4999630191946387, \"PRT->AUT\": 0.4999630191946387, \"PRT->DZA\": 0.4999630191946387, \"IDN->PRT\": 0.4999630191946387, \"AND->PRT\": 0.4999630191946387, \"CAN->PRT\": 0.4999630191946387, \"VEN->PRT\": 0.4999630191946387, \"FIN->PRT\": 0.4999630191946387, \"ISL->PRT\": 0.4999630191946387, \"LTU->SRB\": 0.49996286870692447, \"ROU->MDA\": 0.49996145929692254, \"ROU->SRB\": 0.4999612469875257, \"IDN->DNK\": 0.4999611237466952, \"AND->DNK\": 0.4999611237466952, \"ISL->DNK\": 0.4999611237466952, \"DNK->DZA\": 0.4999611237466952, \"DNK->ISR\": 0.4999611237466952, \"FIN->DNK\": 0.4999611237466952, \"BEL->DNK\": 0.4999611237466952, \"DNK->GRC\": 0.4999611237466952, \"VEN->DNK\": 0.4999611237466952, \"DNK->CRI\": 0.4999611237466952, \"DNK->CZE\": 0.4999611237466952, \"USA->DNK\": 0.4999611237466952, \"CAN->DNK\": 0.4999611237466952, \"DNK->LIE\": 0.4999611237466952, \"DNK->AUT\": 0.4999611237466952, \"USA->FRA\": 0.49995755723956314, \"FRA->LIE\": 0.49995755723956314, \"FRA->VEN\": 0.49995755723956314, \"FRA->CAN\": 0.49995755723956314, \"FRA->CZE\": 0.49995755723956314, \"FRA->DZA\": 0.49995755723956314, \"FRA->FIN\": 0.49995755723956314, \"FRA->GRC\": 0.49995755723956314, \"FRA->IDN\": 0.49995755723956314, \"FRA->ISR\": 0.49995755723956314, \"FRA->BEL\": 0.49995755723956314, \"FRA->ISL\": 0.49995755723956314, \"FRA->CRI\": 0.49995755723956314, \"FRA->AND\": 0.49995755723956314, \"VNM->SGP\": 0.499954427032925, \"CHL->SGP\": 0.49995363204564136, \"SGP->MDA\": 0.499953241075613, \"MEX->IDN\": 0.4999525869553433, \"MEX->GRC\": 0.4999525869553433, \"MEX->VEN\": 0.4999525869553433, \"USA->MEX\": 0.4999525869553433, \"MEX->LIE\": 0.4999525869553433, \"MEX->ISL\": 0.4999525869553433, \"MEX->AND\": 0.4999525869553433, \"MEX->AUT\": 0.4999525869553433, \"MEX->BEL\": 0.4999525869553433, \"MEX->CAN\": 0.4999525869553433, \"MEX->CRI\": 0.4999525869553433, \"MEX->ISR\": 0.4999525869553433, \"MEX->DZA\": 0.4999525869553433, \"MEX->FIN\": 0.4999525869553433, \"MEX->CZE\": 0.4999525869553433, \"BGR->MDA\": 0.49995253265109585, \"KEN->SGP\": 0.4999516070919636, \"MDA->NOR\": 0.49994986483788106, \"PRT->SYC\": 0.4999435446959426, \"HUN->PRT\": 0.4999429558904695, \"NOR->CZE\": 0.4999392085698054, \"IDN->NOR\": 0.4999392085698054, \"NOR->DZA\": 0.4999392085698054, \"NOR->GRC\": 0.4999392085698054, \"NOR->CRI\": 0.4999392085698054, \"NOR->CAN\": 0.4999392085698054, \"NOR->AND\": 0.4999392085698054, \"NOR->AUT\": 0.4999392085698054, \"NOR->FIN\": 0.4999392085698054, \"NOR->BEL\": 0.4999392085698054, \"NOR->ISR\": 0.4999392085698054, \"NOR->ISL\": 0.4999392085698054, \"NOR->LIE\": 0.4999392085698054, \"USA->NOR\": 0.4999392085698054, \"NOR->VEN\": 0.4999392085698054, \"ISL->BRA\": 0.4999390041843606, \"IDN->BRA\": 0.4999390041843606, \"AND->BRA\": 0.4999390041843606, \"VEN->BRA\": 0.4999390041843606, \"BRA->CRI\": 0.4999390041843606, \"BEL->BRA\": 0.4999390041843606, \"CZE->BRA\": 0.4999390041843606, \"USA->BRA\": 0.4999390041843606, \"BRA->GRC\": 0.4999390041843606, \"DZA->BRA\": 0.4999390041843606, \"ISR->BRA\": 0.4999390041843606, \"FIN->BRA\": 0.4999390041843606, \"BRA->LIE\": 0.4999390041843606, \"ZAF->SYC\": 0.49993800525547205, \"ZAF->HUN\": 0.49993741644999845, \"BGR->VEN\": 0.49993654075659066, \"BGR->GRC\": 0.49993654075659066, \"BGR->IDN\": 0.49993654075659066, \"BGR->CAN\": 0.49993654075659066, \"BGR->CRI\": 0.49993654075659066, \"BGR->CZE\": 0.49993654075659066, \"BGR->DZA\": 0.49993654075659066, \"USA->BGR\": 0.49993654075659066, \"BGR->FIN\": 0.49993654075659066, \"BGR->AUT\": 0.49993654075659066, \"BGR->AND\": 0.49993654075659066, \"BGR->BEL\": 0.49993654075659066, \"BGR->LIE\": 0.49993654075659066, \"BGR->ISL\": 0.49993654075659066, \"BGR->ISR\": 0.49993654075659066, \"SGP->FIN\": 0.49993583233207345, \"SGP->DZA\": 0.49993583233207345, \"IDN->SGP\": 0.49993583233207345, \"SGP->GRC\": 0.49993583233207345, \"SGP->AND\": 0.49993583233207345, \"SGP->AUT\": 0.49993583233207345, \"SGP->BEL\": 0.49993583233207345, \"SGP->ISL\": 0.49993583233207345, \"SGP->CAN\": 0.49993583233207345, \"SGP->CRI\": 0.49993583233207345, \"SGP->ISR\": 0.49993583233207345, \"SGP->LIE\": 0.49993583233207345, \"USA->SGP\": 0.49993583233207345, \"SGP->CZE\": 0.49993583233207345, \"SGP->VEN\": 0.49993583233207345, \"MDA->DNK\": 0.49992794966099074, \"VNM->PRT\": 0.4999272401703598, \"MDA->PRT\": 0.4999260542130478, \"KEN->PRT\": 0.4999244202293984, \"KEN->SRB\": 0.4999243402680977, \"MDA->SRB\": 0.49992270628444824, \"VNM->ZAF\": 0.4999217007298888, \"VNM->SRB\": 0.49992152032713627, \"KEN->ZAF\": 0.4999188807889274, \"KEN->LUX\": 0.4999182976570491, \"LUX->MDA\": 0.49991666367339965, \"VNM->LUX\": 0.49991547771608774, \"ROU->SGP\": 0.4999147003725356, \"LTU->SGP\": 0.4999130786531368, \"CHL->MDA\": 0.4999068731212549, \"BEL->SYC\": 0.49990656389058125, \"ISL->SYC\": 0.49990656389058125, \"USA->SYC\": 0.49990656389058125, \"VEN->SYC\": 0.49990656389058125, \"AND->SYC\": 0.49990656389058125, \"SYC->GRC\": 0.49990656389058125, \"FIN->SYC\": 0.49990656389058125, \"IDN->SYC\": 0.49990656389058125, \"CZE->SYC\": 0.49990656389058125, \"SYC->AUT\": 0.49990656389058125, \"SYC->CRI\": 0.49990656389058125, \"SYC->LIE\": 0.49990656389058125, \"ISR->SYC\": 0.49990656389058125, \"DZA->SYC\": 0.49990656389058125, \"HUN->FIN\": 0.49990597508510815, \"USA->HUN\": 0.49990597508510815, \"HUN->GRC\": 0.49990597508510815, \"HUN->ISR\": 0.49990597508510815, \"HUN->AND\": 0.49990597508510815, \"HUN->ISL\": 0.49990597508510815, \"HUN->LIE\": 0.49990597508510815, \"IDN->HUN\": 0.49990597508510815, \"HUN->DZA\": 0.49990597508510815, \"HUN->CZE\": 0.49990597508510815, \"HUN->CRI\": 0.49990597508510815, \"HUN->VEN\": 0.49990597508510815, \"HUN->BEL\": 0.49990597508510815, \"HUN->SRB\": 0.4999058046070266, \"SRB->SYC\": 0.499905215801553, \"PER->MDA\": 0.49989926809273566, \"ZAF->TWN\": 0.49989739607037265, \"VNM->FIN\": 0.4998902593649985, \"USA->VNM\": 0.4998902593649985, \"VNM->VEN\": 0.4998902593649985, \"VNM->ISL\": 0.4998902593649985, \"VNM->ISR\": 0.4998902593649985, \"VNM->IDN\": 0.4998902593649985, \"VNM->GRC\": 0.4998902593649985, \"VNM->CRI\": 0.4998902593649985, \"VNM->CAN\": 0.4998902593649985, \"VNM->LIE\": 0.4998902593649985, \"VNM->DZA\": 0.4998902593649985, \"VNM->CZE\": 0.4998902593649985, \"VNM->BEL\": 0.4998902593649985, \"VNM->AUT\": 0.4998902593649985, \"VNM->AND\": 0.4998902593649985, \"MDA->CRI\": 0.4998890734076865, \"MDA->CZE\": 0.4998890734076865, \"MDA->CAN\": 0.4998890734076865, \"MDA->AND\": 0.4998890734076865, \"MDA->BEL\": 0.4998890734076865, \"MDA->AUT\": 0.4998890734076865, \"MDA->LIE\": 0.4998890734076865, \"MDA->DZA\": 0.4998890734076865, \"MDA->GRC\": 0.4998890734076865, \"MDA->ISR\": 0.4998890734076865, \"MDA->ISL\": 0.4998890734076865, \"USA->MDA\": 0.4998890734076865, \"MDA->VEN\": 0.4998890734076865, \"IDN->MDA\": 0.4998890734076865, \"MDA->FIN\": 0.4998890734076865, \"ROU->PRT\": 0.49988751350997035, \"KEN->CZE\": 0.49988743942403707, \"KEN->IDN\": 0.49988743942403707, \"KEN->LIE\": 0.49988743942403707, \"KEN->FIN\": 0.49988743942403707, \"KEN->DZA\": 0.49988743942403707, \"USA->KEN\": 0.49988743942403707, \"KEN->ISL\": 0.49988743942403707, \"KEN->ISR\": 0.49988743942403707, \"KEN->CRI\": 0.49988743942403707, \"KEN->GRC\": 0.49988743942403707, \"KEN->AND\": 0.49988743942403707, \"KEN->AUT\": 0.49988743942403707, \"KEN->BEL\": 0.49988743942403707, \"KEN->VEN\": 0.49988743942403707, \"KEN->CAN\": 0.49988743942403707, \"LTU->PRT\": 0.4998858917905711, \"LTU->ZAF\": 0.4998803523501006, \"HKG->PRT\": 0.4998767732923112, \"BGR->SRB\": 0.4998752389355441, \"NOR->SRB\": 0.49987257112232936, \"LUX->SGP\": 0.4998699047490127, \"NZL->ZAF\": 0.49986924191471915, \"BGR->LUX\": 0.4998691963244955, \"LUX->NOR\": 0.49986652851128077, \"TWN->LIE\": 0.49986595470548184, \"TWN->DZA\": 0.49986595470548184, \"TWN->VEN\": 0.49986595470548184, \"TWN->CZE\": 0.49986595470548184, \"IDN->TWN\": 0.49986595470548184, \"TWN->FIN\": 0.49986595470548184, \"TWN->GRC\": 0.49986595470548184, \"TWN->ISR\": 0.49986595470548184, \"TWN->ISL\": 0.49986595470548184, \"TWN->CRI\": 0.49986595470548184, \"TWN->AND\": 0.49986595470548184, \"TWN->AUT\": 0.49986595470548184, \"TWN->BEL\": 0.49986595470548184, \"USA->TWN\": 0.49986595470548184, \"MEX->SRB\": 0.49985919273679147, \"NLD->GRC\": 0.4998568661789722, \"NLD->LIE\": 0.4998568661789722, \"NLD->DZA\": 0.4998568661789722, \"NLD->FIN\": 0.4998568661789722, \"NLD->ISR\": 0.4998568661789722, \"NLD->IDN\": 0.4998568661789722, \"NLD->ISL\": 0.4998568661789722, \"NLD->VEN\": 0.4998568661789722, \"NLD->CZE\": 0.4998568661789722, \"NLD->CRI\": 0.4998568661789722, \"NLD->BEL\": 0.4998568661789722, \"NLD->AND\": 0.4998568661789722, \"USA->NLD\": 0.4998568661789722, \"MEX->LUX\": 0.4998531501257429, \"SRB->DNK\": 0.49985065594543904, \"ROU->CZE\": 0.49985053270460905, \"USA->ROU\": 0.49985053270460905, \"ROU->AND\": 0.49985053270460905, \"ROU->BEL\": 0.49985053270460905, \"ROU->CRI\": 0.49985053270460905, \"ROU->FIN\": 0.49985053270460905, \"ROU->DZA\": 0.49985053270460905, \"ROU->VEN\": 0.49985053270460905, \"ROU->GRC\": 0.49985053270460905, \"ROU->IDN\": 0.49985053270460905, \"ROU->ISR\": 0.49985053270460905, \"ROU->ISL\": 0.49985053270460905, \"ROU->LIE\": 0.49985053270460905, \"USA->LTU\": 0.4998489109852098, \"LTU->BEL\": 0.4998489109852098, \"LTU->AUT\": 0.4998489109852098, \"LTU->LIE\": 0.4998489109852098, \"LTU->AND\": 0.4998489109852098, \"LTU->CRI\": 0.4998489109852098, \"LTU->CZE\": 0.4998489109852098, \"LTU->DZA\": 0.4998489109852098, \"LTU->VEN\": 0.4998489109852098, \"LTU->FIN\": 0.4998489109852098, \"LTU->GRC\": 0.4998489109852098, \"LTU->IDN\": 0.4998489109852098, \"LTU->ISR\": 0.4998489109852098, \"LTU->ISL\": 0.4998489109852098, \"SRB->PRT\": 0.4998487604974961, \"FRA->LUX\": 0.499848179841523, \"SWE->SRB\": 0.49984753021341305, \"LUX->DNK\": 0.49984461333439095, \"ZAF->SRB\": 0.49984322105702506, \"LUX->PRT\": 0.4998427178864475, \"SWE->LUX\": 0.49984148760236496, \"HKG->LIE\": 0.49983979248694993, \"HKG->IDN\": 0.49983979248694993, \"HKG->AND\": 0.49983979248694993, \"HKG->AUT\": 0.49983979248694993, \"HKG->ISL\": 0.49983979248694993, \"HKG->ISR\": 0.49983979248694993, \"HKG->FIN\": 0.49983979248694993, \"HKG->GRC\": 0.49983979248694993, \"HKG->BEL\": 0.49983979248694993, \"HKG->DZA\": 0.49983979248694993, \"HKG->CZE\": 0.49983979248694993, \"HKG->CRI\": 0.49983979248694993, \"HKG->VEN\": 0.49983979248694993, \"HKG->CAN\": 0.49983979248694993, \"USA->HKG\": 0.49983979248694993, \"ESP->SGP\": 0.4998392544185299, \"NZL->ISR\": 0.49983780054982885, \"NZL->ISL\": 0.49983780054982885, \"NZL->LIE\": 0.49983780054982885, \"NZL->GRC\": 0.49983780054982885, \"NZL->FIN\": 0.49983780054982885, \"NZL->DZA\": 0.49983780054982885, \"NZL->CZE\": 0.49983780054982885, \"NZL->CRI\": 0.49983780054982885, \"NZL->CAN\": 0.49983780054982885, \"NZL->BEL\": 0.49983780054982885, \"NZL->AND\": 0.49983780054982885, \"USA->NZL\": 0.49983780054982885, \"NZL->VEN\": 0.49983780054982885, \"NZL->IDN\": 0.49983780054982885, \"ZAF->LUX\": 0.49983717844597647, \"CHL->SRB\": 0.49982957940570266, \"PER->PRT\": 0.49982532230578347, \"CHL->LUX\": 0.4998235367946546, \"PER->ZAF\": 0.499819782865313, \"ESP->PRT\": 0.4998120675559642, \"CAN->SRB\": 0.49981177969213475, \"AND->SRB\": 0.49981177969213475, \"IDN->SRB\": 0.49981177969213475, \"USA->SRB\": 0.49981177969213475, \"SRB->VEN\": 0.49981177969213475, \"SRB->DZA\": 0.49981177969213475, \"SRB->AUT\": 0.49981177969213475, \"SRB->BEL\": 0.49981177969213475, \"SRB->CZE\": 0.49981177969213475, \"SRB->GRC\": 0.49981177969213475, \"SRB->ISR\": 0.49981177969213475, \"SRB->ISL\": 0.49981177969213475, \"SRB->LIE\": 0.49981177969213475, \"SRB->CRI\": 0.49981177969213475, \"SRB->FIN\": 0.49981177969213475, \"ESP->ZAF\": 0.4998065281154937, \"LUX->CRI\": 0.49980573708108617, \"LUX->FIN\": 0.49980573708108617, \"LUX->ISR\": 0.49980573708108617, \"LUX->ISL\": 0.49980573708108617, \"IDN->LUX\": 0.49980573708108617, \"LUX->LIE\": 0.49980573708108617, \"LUX->AND\": 0.49980573708108617, \"LUX->GRC\": 0.49980573708108617, \"LUX->VEN\": 0.49980573708108617, \"LUX->BEL\": 0.49980573708108617, \"LUX->DZA\": 0.49980573708108617, \"USA->LUX\": 0.49980573708108617, \"LUX->CZE\": 0.49980573708108617, \"LUX->AUT\": 0.49980573708108617, \"AUS->DZA\": 0.4997984406541737, \"AUS->BEL\": 0.4997984406541737, \"AUS->CAN\": 0.4997984406541737, \"AUS->FIN\": 0.4997984406541737, \"AUS->CRI\": 0.4997984406541737, \"AUS->ISL\": 0.4997984406541737, \"AUS->VEN\": 0.4997984406541737, \"USA->AUS\": 0.4997984406541737, \"AUS->AND\": 0.4997984406541737, \"AUS->LIE\": 0.4997984406541737, \"AUS->ISR\": 0.4997984406541737, \"AUS->IDN\": 0.4997984406541737, \"AUS->CZE\": 0.4997984406541737, \"AUS->GRC\": 0.4997984406541737, \"COL->PRT\": 0.49979313890584953, \"PER->BEL\": 0.4997883415004222, \"PER->ISL\": 0.4997883415004222, \"PER->AUT\": 0.4997883415004222, \"PER->ISR\": 0.4997883415004222, \"PER->IDN\": 0.4997883415004222, \"PER->CAN\": 0.4997883415004222, \"PER->CZE\": 0.4997883415004222, \"PER->GRC\": 0.4997883415004222, \"PER->FIN\": 0.4997883415004222, \"PER->DZA\": 0.4997883415004222, \"PER->CRI\": 0.4997883415004222, \"PER->LIE\": 0.4997883415004222, \"PER->AND\": 0.4997883415004222, \"USA->PER\": 0.4997883415004222, \"PER->VEN\": 0.4997883415004222, \"ESP->CRI\": 0.4997750867506029, \"ESP->CZE\": 0.4997750867506029, \"ESP->ISR\": 0.4997750867506029, \"ESP->ISL\": 0.4997750867506029, \"ESP->DZA\": 0.4997750867506029, \"ESP->LIE\": 0.4997750867506029, \"ESP->IDN\": 0.4997750867506029, \"ESP->VEN\": 0.4997750867506029, \"USA->ESP\": 0.4997750867506029, \"ESP->GRC\": 0.4997750867506029, \"ESP->AND\": 0.4997750867506029, \"ESP->BEL\": 0.4997750867506029, \"ESP->FIN\": 0.4997750867506029, \"COL->VEN\": 0.49975615810048823, \"COL->LIE\": 0.49975615810048823, \"COL->ISR\": 0.49975615810048823, \"COL->USA\": 0.49975615810048823, \"COL->ISL\": 0.49975615810048823, \"COL->CZE\": 0.49975615810048823, \"COL->CRI\": 0.49975615810048823, \"COL->DZA\": 0.49975615810048823, \"COL->IDN\": 0.49975615810048823, \"COL->BEL\": 0.49975615810048823, \"COL->GRC\": 0.49975615810048823, \"COL->AND\": 0.49975615810048823, \"COL->FIN\": 0.49975615810048823, \"JPN->LUX\": 0.49973676544556817, \"CHN->POL\": 0.4997290789490895, \"JPN->CAN\": 0.49954250252665483, \"JPN->LIE\": 0.49954250252665483, \"USA->JPN\": 0.49954250252665483, \"JPN->CZE\": 0.49954250252665483, \"JPN->VEN\": 0.49954250252665483, \"JPN->FIN\": 0.49954250252665483, \"JPN->AND\": 0.49954250252665483, \"JPN->CRI\": 0.49954250252665483, \"JPN->BEL\": 0.49954250252665483, \"JPN->DZA\": 0.49954250252665483, \"JPN->IDN\": 0.49954250252665483, \"JPN->ISL\": 0.49954250252665483, \"JPN->ISR\": 0.49954250252665483, \"JPN->AUT\": 0.49954250252665483, \"JPN->GRC\": 0.49954250252665483, \"BLZ->LUX\": 0.4995292560049627, \"SVK->LUX\": 0.4994391571087257, \"LUX->MYS\": 0.4993996536888871, \"SRB->MYS\": 0.49939361107783853, \"BLZ->PRT\": 0.4993719738914102, \"BLZ->ZAF\": 0.49936643445093915, \"SVK->MDA\": 0.49935582078212587, \"BLZ->IDN\": 0.49933499308604884, \"BLZ->VEN\": 0.49933499308604884, \"BLZ->ISL\": 0.49933499308604884, \"BLZ->ISR\": 0.49933499308604884, \"USA->BLZ\": 0.49933499308604884, \"BLZ->AND\": 0.49933499308604884, \"BLZ->GRC\": 0.49933499308604884, \"BLZ->AUT\": 0.49933499308604884, \"BLZ->FIN\": 0.49933499308604884, \"BLZ->LIE\": 0.49933499308604884, \"BLZ->DZA\": 0.49933499308604884, \"BLZ->CZE\": 0.49933499308604884, \"BLZ->CRI\": 0.49933499308604884, \"BLZ->CAN\": 0.49933499308604884, \"BLZ->BEL\": 0.49933499308604884, \"MDA->MYS\": 0.49931631736228677, \"ZAF->SVK\": 0.4992763355547027, \"SGP->MYS\": 0.4992695584378998, \"SVK->VEN\": 0.4992448941898119, \"SVK->CRI\": 0.4992448941898119, \"SVK->BEL\": 0.4992448941898119, \"SVK->LIE\": 0.4992448941898119, \"SVK->ISL\": 0.4992448941898119, \"SVK->ISR\": 0.4992448941898119, \"SVK->GRC\": 0.4992448941898119, \"SVK->FIN\": 0.4992448941898119, \"SVK->DZA\": 0.4992448941898119, \"SVK->CZE\": 0.4992448941898119, \"SVK->CAN\": 0.4992448941898119, \"IDN->SVK\": 0.4992448941898119, \"SVK->AUT\": 0.4992448941898119, \"SVK->AND\": 0.4992448941898119, \"USA->SVK\": 0.4992448941898119, \"MYS->PRT\": 0.4992423715753346, \"ZAF->MYS\": 0.4992368321348636, \"MYS->VEN\": 0.4992053907699733, \"MYS->ISL\": 0.4992053907699733, \"MYS->GRC\": 0.4992053907699733, \"MYS->DZA\": 0.4992053907699733, \"USA->MYS\": 0.4992053907699733, \"MYS->LIE\": 0.4992053907699733, \"MYS->CZE\": 0.4992053907699733, \"MYS->AUT\": 0.4992053907699733, \"MYS->BEL\": 0.4992053907699733, \"MYS->ISR\": 0.4992053907699733, \"MYS->CRI\": 0.4992053907699733, \"AND->MYS\": 0.4992053907699733, \"IDN->MYS\": 0.4992053907699733, \"FIN->MYS\": 0.4992053907699733, \"CAN->MYS\": 0.4992053907699733, \"CHN->MYS\": 0.4975430946440438, \"LUX->POL\": 0.4972136693838413, \"SRB->POL\": 0.49720762677279273, \"MDA->POL\": 0.49713033305724097, \"SGP->POL\": 0.49708357413285403, \"PRT->POL\": 0.49705638727028884, \"ZAF->POL\": 0.4970508478298178, \"POL->GRC\": 0.4970194064649275, \"POL->CRI\": 0.4970194064649275, \"POL->DZA\": 0.4970194064649275, \"FIN->POL\": 0.4970194064649275, \"POL->LIE\": 0.4970194064649275, \"ISL->POL\": 0.4970194064649275, \"USA->POL\": 0.4970194064649275, \"POL->AUT\": 0.4970194064649275, \"VEN->POL\": 0.4970194064649275, \"CAN->POL\": 0.4970194064649275, \"AND->POL\": 0.4970194064649275, \"CZE->POL\": 0.4970194064649275, \"ISR->POL\": 0.4970194064649275, \"BEL->POL\": 0.4970194064649275, \"IDN->POL\": 0.4970194064649275, \"UKR->LUX\": 0.4969934935998991, \"ESP->CHN\": 0.49697339866341417, \"CHN->LUX\": 0.49694274833293084, \"LTU->CHN\": 0.4968995744288072, \"ROU->CHN\": 0.496897952709408, \"KEN->CHN\": 0.49686104598997993, \"VNM->CHN\": 0.4968582260490186, \"HUN->CHN\": 0.49684251032890886, \"CHN->SYC\": 0.49684192152343576, \"UKR->ZAF\": 0.49683067204587605, \"CHN->NOR\": 0.4968092768442116, \"UKR->FIN\": 0.49679923068098525, \"UKR->BEL\": 0.49679923068098525, \"UKR->CAN\": 0.49679923068098525, \"UKR->CRI\": 0.49679923068098525, \"UKR->AUT\": 0.49679923068098525, \"UKR->CZE\": 0.49679923068098525, \"UKR->AND\": 0.49679923068098525, \"UKR->DZA\": 0.49679923068098525, \"UKR->GRC\": 0.49679923068098525, \"UKR->IDN\": 0.49679923068098525, \"UKR->ISR\": 0.49679923068098525, \"UKR->ISL\": 0.49679923068098525, \"UKR->LIE\": 0.49679923068098525, \"UKR->USA\": 0.49679923068098525, \"UKR->VEN\": 0.49679923068098525, \"CHN->DNK\": 0.4967873616673218, \"SWE->CHN\": 0.4967842359352953, \"ZAF->CHN\": 0.49677992677890737, \"CHL->CHN\": 0.4967662851275854, \"CHN->CAN\": 0.496748485414017, \"CHN->LIE\": 0.496748485414017, \"CHN->ISL\": 0.496748485414017, \"CHN->VEN\": 0.496748485414017, \"CHN->ISR\": 0.496748485414017, \"CHN->AND\": 0.496748485414017, \"IDN->CHN\": 0.496748485414017, \"CHN->BEL\": 0.496748485414017, \"USA->CHN\": 0.496748485414017, \"CHN->CRI\": 0.496748485414017, \"CHN->DZA\": 0.496748485414017, \"CHN->GRC\": 0.496748485414017, \"CHN->FIN\": 0.496748485414017, \"CHN->CZE\": 0.496748485414017, \"CHN->AUT\": 0.496748485414017, \"ZAF->SAU\": 0.4644147920795441, \"RUS->DZA\": 0.442447292313336, \"RUS->ISR\": 0.442447292313336, \"RUS->GRC\": 0.442447292313336, \"RUS->CRI\": 0.442447292313336, \"RUS->FIN\": 0.442447292313336, \"RUS->BEL\": 0.442447292313336, \"RUS->ISL\": 0.442447292313336, \"RUS->LIE\": 0.442447292313336, \"RUS->AUT\": 0.442447292313336, \"RUS->CZE\": 0.442447292313336, \"RUS->VEN\": 0.442447292313336, \"IDN->RUS\": 0.442447292313336, \"RUS->AND\": 0.442447292313336, \"USA->RUS\": 0.442447292313336, \"KOR->DZA\": 0.4027100118497798, \"KOR->ISR\": 0.4027100118497798, \"KOR->GRC\": 0.4027100118497798, \"KOR->FIN\": 0.4027100118497798, \"KOR->ISL\": 0.4027100118497798, \"KOR->CZE\": 0.4027100118497798, \"KOR->CRI\": 0.4027100118497798, \"KOR->BEL\": 0.4027100118497798, \"KOR->AND\": 0.4027100118497798, \"KOR->LIE\": 0.4027100118497798, \"KOR->USA\": 0.4027100118497798, \"KOR->IDN\": 0.4027100118497798, \"KOR->VEN\": 0.4027100118497798, \"PRT->TUR\": 0.3960615431516906, \"TUR->DZA\": 0.39602456234632927, \"TUR->CRI\": 0.39602456234632927, \"USA->TUR\": 0.39602456234632927, \"BEL->TUR\": 0.39602456234632927, \"TUR->LIE\": 0.39602456234632927, \"TUR->GRC\": 0.39602456234632927, \"FIN->TUR\": 0.39602456234632927, \"ISR->TUR\": 0.39602456234632927, \"CZE->TUR\": 0.39602456234632927, \"VEN->TUR\": 0.39602456234632927, \"ISL->TUR\": 0.39602456234632927, \"IDN->TUR\": 0.39602456234632927, \"AND->TUR\": 0.39602456234632927, \"IND->ISR\": 0.3337996321896829, \"IND->LIE\": 0.3337996321896829, \"IND->FIN\": 0.3337996321896829, \"IND->GRC\": 0.3337996321896829, \"USA->IND\": 0.3337996321896829, \"IND->ISL\": 0.3337996321896829, \"IND->VEN\": 0.3337996321896829, \"IND->DZA\": 0.3337996321896829, \"IDN->IND\": 0.3337996321896829, \"IND->CRI\": 0.3337996321896829, \"IND->BEL\": 0.3337996321896829, \"IND->AND\": 0.3337996321896829, \"IND->CZE\": 0.3337996321896829, \"LUX->SAU\": 0.00019426291891382392, \"SAU->GRC\": 0.0, \"CAN->SAU\": 0.0, \"DZA->SAU\": 0.0, \"BEL->SAU\": 0.0, \"SAU->CRI\": 0.0, \"USA->SAU\": 0.0, \"FIN->SAU\": 0.0, \"VEN->SAU\": 0.0, \"IDN->SAU\": 0.0, \"ISL->SAU\": 0.0, \"AND->SAU\": 0.0, \"CZE->SAU\": 0.0, \"ISR->SAU\": 0.0, \"SAU->LIE\": 0.0}'"
      ]
     },
     "execution_count": 252,
     "metadata": {},
     "output_type": "execute_result"
    }
   ],
   "source": [
    "output_json"
   ]
  },
  {
   "cell_type": "code",
   "execution_count": 253,
   "metadata": {},
   "outputs": [],
   "source": [
    "with open('data.json', 'w') as outfile:\n",
    "    json.dump(output_json, outfile)"
   ]
  },
  {
   "cell_type": "code",
   "execution_count": 254,
   "metadata": {},
   "outputs": [],
   "source": [
    "MetricDF.to_csv(\"MetricDF.csv\")"
   ]
  },
  {
   "cell_type": "markdown",
   "metadata": {},
   "source": [
    "Normalization (to be done)"
   ]
  },
  {
   "cell_type": "code",
   "execution_count": null,
   "metadata": {},
   "outputs": [],
   "source": [
    "# from sklearn.preprocessing import StandardScaler\n",
    "# numSites.head()\n",
    "# numSites.reset_index(inplace=True)\n",
    "# numSites.head(10)\n",
    "# len(numSites)\n",
    "\n",
    "# from sklearn import preprocessing\n",
    "# # Create x, where x the 'scores' column's values as floats\n",
    "# x = numSites[['site']].values.astype(float)\n",
    "# min_max_scaler = preprocessing.MinMaxScaler()\n",
    "# x_scaled = min_max_scaler.fit_transform(x)\n",
    "# x_scaled"
   ]
  },
  {
   "cell_type": "code",
   "execution_count": 340,
   "metadata": {},
   "outputs": [],
   "source": [
    "#newDF = pd.merge(tempDF,numSites,on='country',how='outer')"
   ]
  },
  {
   "cell_type": "code",
   "execution_count": 350,
   "metadata": {},
   "outputs": [],
   "source": [
    "#newDF = newDF.drop('normNUM',axis=1)\n",
    "# newDF=newDF.fillna(0.0)\n",
    "# newDF = newDF.rename(columns ={'NumBlocked':'NumSitesBlocked'})"
   ]
  },
  {
   "cell_type": "code",
   "execution_count": 413,
   "metadata": {},
   "outputs": [],
   "source": [
    "# iclabCLEAN[\"only_date\"] = [d.date() for d in iclabCLEAN[\"datetime\"]]"
   ]
  },
  {
   "cell_type": "code",
   "execution_count": 418,
   "metadata": {},
   "outputs": [],
   "source": [
    "# numDays=[]\n",
    "# for country in newDF['country']:\n",
    "#     numDays.append(len(iclabCLEAN[(iclabCLEAN['country']==country)&(iclabCLEAN['censored_updated']==True)]['only_date'].unique()))\n"
   ]
  },
  {
   "cell_type": "code",
   "execution_count": 420,
   "metadata": {},
   "outputs": [],
   "source": [
    "# newDF['numDays'] =numDays"
   ]
  },
  {
   "cell_type": "code",
   "execution_count": 423,
   "metadata": {},
   "outputs": [],
   "source": [
    "# newDF['percentDays'] = (newDF['numDays']/638)*100"
   ]
  }
 ],
 "metadata": {
  "kernelspec": {
   "display_name": "Python 3",
   "language": "python",
   "name": "python3"
  },
  "language_info": {
   "codemirror_mode": {
    "name": "ipython",
    "version": 3
   },
   "file_extension": ".py",
   "mimetype": "text/x-python",
   "name": "python",
   "nbconvert_exporter": "python",
   "pygments_lexer": "ipython3",
   "version": "3.6.9"
  }
 },
 "nbformat": 4,
 "nbformat_minor": 2
}
