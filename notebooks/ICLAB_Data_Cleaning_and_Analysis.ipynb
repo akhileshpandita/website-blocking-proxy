{
 "cells": [
  {
   "cell_type": "markdown",
   "metadata": {
    "colab_type": "text",
    "id": "9lyLU-8vLJBX"
   },
   "source": [
    "# How to use this notebook\n",
    "\n",
    "**Section 1. Data import and cleaning**. This section marshals and cleans the source ICLab dataset. It produces `iclabCLEAN.pkl`.\n",
    "\n",
    "**Section 2. Experiments**. This walks through the various experiments we undertook to produce our metric. It starts by loading `iclabCLEAN.pkl` and finishes by producing `MetricDF.pkl`.\n",
    "\n",
    "**Section 3. Hypothesis testing**. This walks through the various experiments we undertook to produce our metric. It starts by loading `MetricDF.pkl` and does not produce any output to disk.\n"
   ]
  },
  {
   "cell_type": "code",
   "execution_count": 1,
   "metadata": {
    "colab": {},
    "colab_type": "code",
    "collapsed": true,
    "id": "iBDP39jgMPms"
   },
   "outputs": [
    {
     "name": "stdout",
     "output_type": "stream",
     "text": [
      "Requirement already satisfied: tldextract in /usr/local/lib/python3.6/dist-packages (2.2.2)\n",
      "Requirement already satisfied: requests-file>=1.4 in /usr/local/lib/python3.6/dist-packages (from tldextract) (1.5.1)\n",
      "Requirement already satisfied: requests>=2.1.0 in /home/ffff/.local/lib/python3.6/site-packages (from tldextract) (2.20.1)\n",
      "Requirement already satisfied: setuptools in /usr/local/lib/python3.6/dist-packages (from tldextract) (40.6.2)\n",
      "Requirement already satisfied: idna in /usr/lib/python3/dist-packages (from tldextract) (2.6)\n",
      "Requirement already satisfied: six in /usr/lib/python3/dist-packages (from requests-file>=1.4->tldextract) (1.11.0)\n",
      "Requirement already satisfied: chardet<3.1.0,>=3.0.2 in /home/ffff/.local/lib/python3.6/site-packages (from requests>=2.1.0->tldextract) (3.0.4)\n",
      "Requirement already satisfied: urllib3<1.25,>=1.21.1 in /home/ffff/.local/lib/python3.6/site-packages (from requests>=2.1.0->tldextract) (1.24.1)\n",
      "Requirement already satisfied: certifi>=2017.4.17 in /home/ffff/.local/lib/python3.6/site-packages (from requests>=2.1.0->tldextract) (2018.10.15)\n",
      "\u001b[33mYou are using pip version 18.1, however version 20.2b1 is available.\n",
      "You should consider upgrading via the 'pip install --upgrade pip' command.\u001b[0m\n",
      "Requirement already satisfied: pycountry in /usr/local/lib/python3.6/dist-packages (19.8.18)\n",
      "\u001b[33mYou are using pip version 18.1, however version 20.2b1 is available.\n",
      "You should consider upgrading via the 'pip install --upgrade pip' command.\u001b[0m\n",
      "Requirement already satisfied: jupyterthemes in /usr/local/lib/python3.6/dist-packages (0.20.0)\n",
      "Requirement already satisfied: jupyter-core in /home/ffff/.local/lib/python3.6/site-packages (from jupyterthemes) (4.4.0)\n",
      "Requirement already satisfied: matplotlib>=1.4.3 in /home/ffff/.local/lib/python3.6/site-packages (from jupyterthemes) (3.0.2)\n",
      "Requirement already satisfied: ipython>=5.4.1 in /home/ffff/.local/lib/python3.6/site-packages (from jupyterthemes) (6.5.0)\n",
      "Requirement already satisfied: notebook>=5.6.0 in /home/ffff/.local/lib/python3.6/site-packages (from jupyterthemes) (5.6.0)\n",
      "Requirement already satisfied: lesscpy>=0.11.2 in /usr/local/lib/python3.6/dist-packages (from jupyterthemes) (0.13.0)\n",
      "Requirement already satisfied: traitlets in /home/ffff/.local/lib/python3.6/site-packages (from jupyter-core->jupyterthemes) (4.3.2)\n",
      "Requirement already satisfied: python-dateutil>=2.1 in /home/ffff/.local/lib/python3.6/site-packages (from matplotlib>=1.4.3->jupyterthemes) (2.7.3)\n",
      "Requirement already satisfied: pyparsing!=2.0.4,!=2.1.2,!=2.1.6,>=2.0.1 in /home/ffff/.local/lib/python3.6/site-packages (from matplotlib>=1.4.3->jupyterthemes) (2.3.0)\n",
      "Requirement already satisfied: cycler>=0.10 in /home/ffff/.local/lib/python3.6/site-packages (from matplotlib>=1.4.3->jupyterthemes) (0.10.0)\n",
      "Requirement already satisfied: numpy>=1.10.0 in /home/ffff/.local/lib/python3.6/site-packages (from matplotlib>=1.4.3->jupyterthemes) (1.15.4)\n",
      "Requirement already satisfied: kiwisolver>=1.0.1 in /home/ffff/.local/lib/python3.6/site-packages (from matplotlib>=1.4.3->jupyterthemes) (1.0.1)\n",
      "Requirement already satisfied: pickleshare in /home/ffff/.local/lib/python3.6/site-packages (from ipython>=5.4.1->jupyterthemes) (0.7.4)\n",
      "Requirement already satisfied: decorator in /home/ffff/.local/lib/python3.6/site-packages (from ipython>=5.4.1->jupyterthemes) (4.3.0)\n",
      "Requirement already satisfied: simplegeneric>0.8 in /home/ffff/.local/lib/python3.6/site-packages (from ipython>=5.4.1->jupyterthemes) (0.8.1)\n",
      "Requirement already satisfied: prompt-toolkit<2.0.0,>=1.0.15 in /home/ffff/.local/lib/python3.6/site-packages (from ipython>=5.4.1->jupyterthemes) (1.0.15)\n",
      "Requirement already satisfied: backcall in /home/ffff/.local/lib/python3.6/site-packages (from ipython>=5.4.1->jupyterthemes) (0.1.0)\n",
      "Requirement already satisfied: jedi>=0.10 in /home/ffff/.local/lib/python3.6/site-packages (from ipython>=5.4.1->jupyterthemes) (0.12.1)\n",
      "Requirement already satisfied: pexpect; sys_platform != \"win32\" in /home/ffff/.local/lib/python3.6/site-packages (from ipython>=5.4.1->jupyterthemes) (4.6.0)\n",
      "Requirement already satisfied: pygments in /home/ffff/.local/lib/python3.6/site-packages (from ipython>=5.4.1->jupyterthemes) (2.2.0)\n",
      "Requirement already satisfied: setuptools>=18.5 in /usr/local/lib/python3.6/dist-packages (from ipython>=5.4.1->jupyterthemes) (40.6.2)\n",
      "Requirement already satisfied: nbconvert in /home/ffff/.local/lib/python3.6/site-packages (from notebook>=5.6.0->jupyterthemes) (5.3.1)\n",
      "Requirement already satisfied: ipykernel in /home/ffff/.local/lib/python3.6/site-packages (from notebook>=5.6.0->jupyterthemes) (4.9.0)\n",
      "Requirement already satisfied: pyzmq>=17 in /home/ffff/.local/lib/python3.6/site-packages (from notebook>=5.6.0->jupyterthemes) (17.1.2)\n",
      "Requirement already satisfied: tornado>=4 in /home/ffff/.local/lib/python3.6/site-packages (from notebook>=5.6.0->jupyterthemes) (5.1)\n",
      "Requirement already satisfied: Send2Trash in /home/ffff/.local/lib/python3.6/site-packages (from notebook>=5.6.0->jupyterthemes) (1.5.0)\n",
      "Requirement already satisfied: prometheus-client in /home/ffff/.local/lib/python3.6/site-packages (from notebook>=5.6.0->jupyterthemes) (0.3.1)\n",
      "Requirement already satisfied: jinja2 in /home/ffff/.local/lib/python3.6/site-packages (from notebook>=5.6.0->jupyterthemes) (2.10)\n",
      "Requirement already satisfied: nbformat in /home/ffff/.local/lib/python3.6/site-packages (from notebook>=5.6.0->jupyterthemes) (4.4.0)\n",
      "Requirement already satisfied: ipython-genutils in /home/ffff/.local/lib/python3.6/site-packages (from notebook>=5.6.0->jupyterthemes) (0.2.0)\n",
      "Requirement already satisfied: terminado>=0.8.1 in /home/ffff/.local/lib/python3.6/site-packages (from notebook>=5.6.0->jupyterthemes) (0.8.1)\n",
      "Requirement already satisfied: jupyter-client>=5.2.0 in /home/ffff/.local/lib/python3.6/site-packages (from notebook>=5.6.0->jupyterthemes) (5.2.3)\n",
      "Requirement already satisfied: ply in /usr/local/lib/python3.6/dist-packages (from lesscpy>=0.11.2->jupyterthemes) (3.11)\n",
      "Requirement already satisfied: six in /usr/lib/python3/dist-packages (from lesscpy>=0.11.2->jupyterthemes) (1.11.0)\n",
      "Requirement already satisfied: wcwidth in /home/ffff/.local/lib/python3.6/site-packages (from prompt-toolkit<2.0.0,>=1.0.15->ipython>=5.4.1->jupyterthemes) (0.1.7)\n",
      "Requirement already satisfied: parso>=0.3.0 in /home/ffff/.local/lib/python3.6/site-packages (from jedi>=0.10->ipython>=5.4.1->jupyterthemes) (0.3.1)\n",
      "Requirement already satisfied: ptyprocess>=0.5 in /home/ffff/.local/lib/python3.6/site-packages (from pexpect; sys_platform != \"win32\"->ipython>=5.4.1->jupyterthemes) (0.6.0)\n",
      "Requirement already satisfied: testpath in /home/ffff/.local/lib/python3.6/site-packages (from nbconvert->notebook>=5.6.0->jupyterthemes) (0.3.1)\n",
      "Requirement already satisfied: mistune>=0.7.4 in /home/ffff/.local/lib/python3.6/site-packages (from nbconvert->notebook>=5.6.0->jupyterthemes) (0.8.3)\n",
      "Requirement already satisfied: pandocfilters>=1.4.1 in /home/ffff/.local/lib/python3.6/site-packages (from nbconvert->notebook>=5.6.0->jupyterthemes) (1.4.2)\n",
      "Requirement already satisfied: entrypoints>=0.2.2 in /home/ffff/.local/lib/python3.6/site-packages (from nbconvert->notebook>=5.6.0->jupyterthemes) (0.2.3)\n",
      "Requirement already satisfied: bleach in /home/ffff/.local/lib/python3.6/site-packages (from nbconvert->notebook>=5.6.0->jupyterthemes) (2.1.4)\n",
      "Requirement already satisfied: MarkupSafe>=0.23 in /home/ffff/.local/lib/python3.6/site-packages (from jinja2->notebook>=5.6.0->jupyterthemes) (1.1.0)\n",
      "Requirement already satisfied: jsonschema!=2.5.0,>=2.4 in /home/ffff/.local/lib/python3.6/site-packages (from nbformat->notebook>=5.6.0->jupyterthemes) (2.6.0)\n",
      "Requirement already satisfied: html5lib!=1.0b1,!=1.0b2,!=1.0b3,!=1.0b4,!=1.0b5,!=1.0b6,!=1.0b7,!=1.0b8,>=0.99999999pre in /home/ffff/.local/lib/python3.6/site-packages (from bleach->nbconvert->notebook>=5.6.0->jupyterthemes) (1.0.1)\n",
      "Requirement already satisfied: webencodings in /home/ffff/.local/lib/python3.6/site-packages (from html5lib!=1.0b1,!=1.0b2,!=1.0b3,!=1.0b4,!=1.0b5,!=1.0b6,!=1.0b7,!=1.0b8,>=0.99999999pre->bleach->nbconvert->notebook>=5.6.0->jupyterthemes) (0.5.1)\n",
      "\u001b[33mYou are using pip version 18.1, however version 20.2b1 is available.\n",
      "You should consider upgrading via the 'pip install --upgrade pip' command.\u001b[0m\n"
     ]
    }
   ],
   "source": [
    "!pip install tldextract\n",
    "!pip install pycountry\n",
    "!pip install jupyterthemes"
   ]
  },
  {
   "cell_type": "code",
   "execution_count": 2,
   "metadata": {
    "colab": {},
    "colab_type": "code",
    "id": "LtWHpSloJQzK"
   },
   "outputs": [],
   "source": [
    "import pandas as pd\n",
    "import os\n",
    "import re\n",
    "import tldextract\n",
    "import numpy as np\n",
    "import matplotlib.pyplot as plt\n",
    "import seaborn as sns\n",
    "from scipy import spatial\n",
    "import os, time, http.client\n",
    "from termcolor import colored\n",
    "import sys\n",
    "import json\n",
    "from pygments import highlight, lexers, formatters\n",
    "import pycountry\n",
    "import scipy\n",
    "from scipy import stats\n",
    "from scipy.stats import ttest_ind, ttest_ind_from_stats\n",
    "from scipy.special import stdtr\n",
    "import statistics"
   ]
  },
  {
   "cell_type": "code",
   "execution_count": 3,
   "metadata": {
    "colab": {
     "base_uri": "https://localhost:8080/",
     "height": 35
    },
    "colab_type": "code",
    "id": "UvAyoM9MJQzN",
    "outputId": "64532488-6f28-4190-a143-bff3be0f0212"
   },
   "outputs": [
    {
     "name": "stdout",
     "output_type": "stream",
     "text": [
      "Populating the interactive namespace from numpy and matplotlib\n"
     ]
    }
   ],
   "source": [
    "# Tools for visualizing the data\n",
    "\n",
    "# requires jupytertehmes\n",
    "\n",
    "%pylab inline\n",
    "# import jtplot module in notebook\n",
    "from jupyterthemes import jtplot\n",
    "\n",
    "# choose which theme to inherit plotting style from\n",
    "# onedork | grade3 | oceans16 | chesterish | monokai | solarizedl | solarizedd\n",
    "jtplot.style(theme='grade3')\n",
    "\n",
    "# set \"context\" (paper, notebook, talk, poster)\n",
    "# scale font-size of ticklabels, legend, etc.\n",
    "# remove spines from x and y axes and make grid dashed\n",
    "jtplot.style(context='paper', fscale=1.4, spines=False, gridlines='--')\n",
    "\n",
    "# turn on X- and Y-axis tick marks (default=False)\n",
    "# turn off the axis grid lines (default=True)\n",
    "# and set the default figure size\n",
    "jtplot.style(ticks=True, grid=False, figsize=(6, 4.5))"
   ]
  },
  {
   "cell_type": "markdown",
   "metadata": {
    "colab_type": "text",
    "id": "0UcXBgj9MwJl"
   },
   "source": [
    "# Section 1. Data import and cleaning\n",
    "\n",
    "This section imports and cleans  all the [ICLab data](https://iclab.org/post/iclab_data/) as of this writing, 2020-07-22. \n",
    "\n",
    "If you want to add new data, or clean our data differently, edit this section.\n",
    "\n",
    "**If you are interested in metric computation or hypothesis testing, SKIP THIS SECTION. You can load the cleaned data at the beginning of Sections 2 and 3**.\n",
    "\n",
    "If you would like to continue, you'll need to [download combined.csv here](https://berkeley.box.com/s/je4ld219m7somvqmb9bqu2v7z3il3n48). This is a large (8GB) file.\n",
    "It is created by concatenating all of the ICLab data (see link above)."
   ]
  },
  {
   "cell_type": "code",
   "execution_count": 39,
   "metadata": {
    "colab": {},
    "colab_type": "code",
    "collapsed": true,
    "id": "6-IkJRTtJQzR"
   },
   "outputs": [
    {
     "ename": "KeyboardInterrupt",
     "evalue": "",
     "output_type": "error",
     "traceback": [
      "\u001b[0;31m---------------------------------------------------------------------------\u001b[0m",
      "\u001b[0;31mKeyboardInterrupt\u001b[0m                         Traceback (most recent call last)",
      "\u001b[0;32m<ipython-input-39-9f46c27a7941>\u001b[0m in \u001b[0;36m<module>\u001b[0;34m()\u001b[0m\n\u001b[1;32m      1\u001b[0m \u001b[0;31m# make sure you've downloaded combined.csv - see link above.\u001b[0m\u001b[0;34m\u001b[0m\u001b[0;34m\u001b[0m\u001b[0;34m\u001b[0m\u001b[0m\n\u001b[1;32m      2\u001b[0m \u001b[0;31m# WARNING - this is a large dataset and will produce some memory pressure.\u001b[0m\u001b[0;34m\u001b[0m\u001b[0;34m\u001b[0m\u001b[0;34m\u001b[0m\u001b[0m\n\u001b[0;32m----> 3\u001b[0;31m \u001b[0miclabcombined\u001b[0m \u001b[0;34m=\u001b[0m \u001b[0mpd\u001b[0m\u001b[0;34m.\u001b[0m\u001b[0mread_csv\u001b[0m\u001b[0;34m(\u001b[0m\u001b[0;34m\"../data/combined.csv\"\u001b[0m\u001b[0;34m,\u001b[0m \u001b[0mdtype\u001b[0m\u001b[0;34m=\u001b[0m\u001b[0;34m{\u001b[0m\u001b[0;34m'country'\u001b[0m \u001b[0;34m:\u001b[0m \u001b[0mstr\u001b[0m\u001b[0;34m}\u001b[0m\u001b[0;34m)\u001b[0m\u001b[0;34m\u001b[0m\u001b[0;34m\u001b[0m\u001b[0m\n\u001b[0m",
      "\u001b[0;32m/usr/local/lib/python3.6/dist-packages/pandas/io/parsers.py\u001b[0m in \u001b[0;36mparser_f\u001b[0;34m(filepath_or_buffer, sep, delimiter, header, names, index_col, usecols, squeeze, prefix, mangle_dupe_cols, dtype, engine, converters, true_values, false_values, skipinitialspace, skiprows, skipfooter, nrows, na_values, keep_default_na, na_filter, verbose, skip_blank_lines, parse_dates, infer_datetime_format, keep_date_col, date_parser, dayfirst, cache_dates, iterator, chunksize, compression, thousands, decimal, lineterminator, quotechar, quoting, doublequote, escapechar, comment, encoding, dialect, error_bad_lines, warn_bad_lines, delim_whitespace, low_memory, memory_map, float_precision)\u001b[0m\n\u001b[1;32m    674\u001b[0m         )\n\u001b[1;32m    675\u001b[0m \u001b[0;34m\u001b[0m\u001b[0m\n\u001b[0;32m--> 676\u001b[0;31m         \u001b[0;32mreturn\u001b[0m \u001b[0m_read\u001b[0m\u001b[0;34m(\u001b[0m\u001b[0mfilepath_or_buffer\u001b[0m\u001b[0;34m,\u001b[0m \u001b[0mkwds\u001b[0m\u001b[0;34m)\u001b[0m\u001b[0;34m\u001b[0m\u001b[0;34m\u001b[0m\u001b[0m\n\u001b[0m\u001b[1;32m    677\u001b[0m \u001b[0;34m\u001b[0m\u001b[0m\n\u001b[1;32m    678\u001b[0m     \u001b[0mparser_f\u001b[0m\u001b[0;34m.\u001b[0m\u001b[0m__name__\u001b[0m \u001b[0;34m=\u001b[0m \u001b[0mname\u001b[0m\u001b[0;34m\u001b[0m\u001b[0;34m\u001b[0m\u001b[0m\n",
      "\u001b[0;32m/usr/local/lib/python3.6/dist-packages/pandas/io/parsers.py\u001b[0m in \u001b[0;36m_read\u001b[0;34m(filepath_or_buffer, kwds)\u001b[0m\n\u001b[1;32m    452\u001b[0m \u001b[0;34m\u001b[0m\u001b[0m\n\u001b[1;32m    453\u001b[0m     \u001b[0;32mtry\u001b[0m\u001b[0;34m:\u001b[0m\u001b[0;34m\u001b[0m\u001b[0;34m\u001b[0m\u001b[0m\n\u001b[0;32m--> 454\u001b[0;31m         \u001b[0mdata\u001b[0m \u001b[0;34m=\u001b[0m \u001b[0mparser\u001b[0m\u001b[0;34m.\u001b[0m\u001b[0mread\u001b[0m\u001b[0;34m(\u001b[0m\u001b[0mnrows\u001b[0m\u001b[0;34m)\u001b[0m\u001b[0;34m\u001b[0m\u001b[0;34m\u001b[0m\u001b[0m\n\u001b[0m\u001b[1;32m    455\u001b[0m     \u001b[0;32mfinally\u001b[0m\u001b[0;34m:\u001b[0m\u001b[0;34m\u001b[0m\u001b[0;34m\u001b[0m\u001b[0m\n\u001b[1;32m    456\u001b[0m         \u001b[0mparser\u001b[0m\u001b[0;34m.\u001b[0m\u001b[0mclose\u001b[0m\u001b[0;34m(\u001b[0m\u001b[0;34m)\u001b[0m\u001b[0;34m\u001b[0m\u001b[0;34m\u001b[0m\u001b[0m\n",
      "\u001b[0;32m/usr/local/lib/python3.6/dist-packages/pandas/io/parsers.py\u001b[0m in \u001b[0;36mread\u001b[0;34m(self, nrows)\u001b[0m\n\u001b[1;32m   1131\u001b[0m     \u001b[0;32mdef\u001b[0m \u001b[0mread\u001b[0m\u001b[0;34m(\u001b[0m\u001b[0mself\u001b[0m\u001b[0;34m,\u001b[0m \u001b[0mnrows\u001b[0m\u001b[0;34m=\u001b[0m\u001b[0;32mNone\u001b[0m\u001b[0;34m)\u001b[0m\u001b[0;34m:\u001b[0m\u001b[0;34m\u001b[0m\u001b[0;34m\u001b[0m\u001b[0m\n\u001b[1;32m   1132\u001b[0m         \u001b[0mnrows\u001b[0m \u001b[0;34m=\u001b[0m \u001b[0m_validate_integer\u001b[0m\u001b[0;34m(\u001b[0m\u001b[0;34m\"nrows\"\u001b[0m\u001b[0;34m,\u001b[0m \u001b[0mnrows\u001b[0m\u001b[0;34m)\u001b[0m\u001b[0;34m\u001b[0m\u001b[0;34m\u001b[0m\u001b[0m\n\u001b[0;32m-> 1133\u001b[0;31m         \u001b[0mret\u001b[0m \u001b[0;34m=\u001b[0m \u001b[0mself\u001b[0m\u001b[0;34m.\u001b[0m\u001b[0m_engine\u001b[0m\u001b[0;34m.\u001b[0m\u001b[0mread\u001b[0m\u001b[0;34m(\u001b[0m\u001b[0mnrows\u001b[0m\u001b[0;34m)\u001b[0m\u001b[0;34m\u001b[0m\u001b[0;34m\u001b[0m\u001b[0m\n\u001b[0m\u001b[1;32m   1134\u001b[0m \u001b[0;34m\u001b[0m\u001b[0m\n\u001b[1;32m   1135\u001b[0m         \u001b[0;31m# May alter columns / col_dict\u001b[0m\u001b[0;34m\u001b[0m\u001b[0;34m\u001b[0m\u001b[0;34m\u001b[0m\u001b[0m\n",
      "\u001b[0;32m/usr/local/lib/python3.6/dist-packages/pandas/io/parsers.py\u001b[0m in \u001b[0;36mread\u001b[0;34m(self, nrows)\u001b[0m\n\u001b[1;32m   2035\u001b[0m     \u001b[0;32mdef\u001b[0m \u001b[0mread\u001b[0m\u001b[0;34m(\u001b[0m\u001b[0mself\u001b[0m\u001b[0;34m,\u001b[0m \u001b[0mnrows\u001b[0m\u001b[0;34m=\u001b[0m\u001b[0;32mNone\u001b[0m\u001b[0;34m)\u001b[0m\u001b[0;34m:\u001b[0m\u001b[0;34m\u001b[0m\u001b[0;34m\u001b[0m\u001b[0m\n\u001b[1;32m   2036\u001b[0m         \u001b[0;32mtry\u001b[0m\u001b[0;34m:\u001b[0m\u001b[0;34m\u001b[0m\u001b[0;34m\u001b[0m\u001b[0m\n\u001b[0;32m-> 2037\u001b[0;31m             \u001b[0mdata\u001b[0m \u001b[0;34m=\u001b[0m \u001b[0mself\u001b[0m\u001b[0;34m.\u001b[0m\u001b[0m_reader\u001b[0m\u001b[0;34m.\u001b[0m\u001b[0mread\u001b[0m\u001b[0;34m(\u001b[0m\u001b[0mnrows\u001b[0m\u001b[0;34m)\u001b[0m\u001b[0;34m\u001b[0m\u001b[0;34m\u001b[0m\u001b[0m\n\u001b[0m\u001b[1;32m   2038\u001b[0m         \u001b[0;32mexcept\u001b[0m \u001b[0mStopIteration\u001b[0m\u001b[0;34m:\u001b[0m\u001b[0;34m\u001b[0m\u001b[0;34m\u001b[0m\u001b[0m\n\u001b[1;32m   2039\u001b[0m             \u001b[0;32mif\u001b[0m \u001b[0mself\u001b[0m\u001b[0;34m.\u001b[0m\u001b[0m_first_chunk\u001b[0m\u001b[0;34m:\u001b[0m\u001b[0;34m\u001b[0m\u001b[0;34m\u001b[0m\u001b[0m\n",
      "\u001b[0;32mpandas/_libs/parsers.pyx\u001b[0m in \u001b[0;36mpandas._libs.parsers.TextReader.read\u001b[0;34m()\u001b[0m\n",
      "\u001b[0;32mpandas/_libs/parsers.pyx\u001b[0m in \u001b[0;36mpandas._libs.parsers.TextReader._read_low_memory\u001b[0;34m()\u001b[0m\n",
      "\u001b[0;32mpandas/_libs/parsers.pyx\u001b[0m in \u001b[0;36mpandas._libs.parsers.TextReader._read_rows\u001b[0;34m()\u001b[0m\n",
      "\u001b[0;32mpandas/_libs/parsers.pyx\u001b[0m in \u001b[0;36mpandas._libs.parsers.TextReader._convert_column_data\u001b[0;34m()\u001b[0m\n",
      "\u001b[0;32mpandas/_libs/parsers.pyx\u001b[0m in \u001b[0;36mpandas._libs.parsers.TextReader._convert_tokens\u001b[0;34m()\u001b[0m\n",
      "\u001b[0;32mpandas/_libs/parsers.pyx\u001b[0m in \u001b[0;36mpandas._libs.parsers.TextReader._convert_with_dtype\u001b[0;34m()\u001b[0m\n",
      "\u001b[0;32m/usr/local/lib/python3.6/dist-packages/pandas/core/dtypes/common.py\u001b[0m in \u001b[0;36mis_categorical_dtype\u001b[0;34m(arr_or_dtype)\u001b[0m\n\u001b[1;32m    540\u001b[0m \u001b[0;34m\u001b[0m\u001b[0m\n\u001b[1;32m    541\u001b[0m \u001b[0;34m\u001b[0m\u001b[0m\n\u001b[0;32m--> 542\u001b[0;31m \u001b[0;32mdef\u001b[0m \u001b[0mis_categorical_dtype\u001b[0m\u001b[0;34m(\u001b[0m\u001b[0marr_or_dtype\u001b[0m\u001b[0;34m)\u001b[0m \u001b[0;34m->\u001b[0m \u001b[0mbool\u001b[0m\u001b[0;34m:\u001b[0m\u001b[0;34m\u001b[0m\u001b[0;34m\u001b[0m\u001b[0m\n\u001b[0m\u001b[1;32m    543\u001b[0m     \"\"\"\n\u001b[1;32m    544\u001b[0m     \u001b[0mCheck\u001b[0m \u001b[0mwhether\u001b[0m \u001b[0man\u001b[0m \u001b[0marray\u001b[0m\u001b[0;34m-\u001b[0m\u001b[0mlike\u001b[0m \u001b[0;32mor\u001b[0m \u001b[0mdtype\u001b[0m \u001b[0;32mis\u001b[0m \u001b[0mof\u001b[0m \u001b[0mthe\u001b[0m \u001b[0mCategorical\u001b[0m \u001b[0mdtype\u001b[0m\u001b[0;34m.\u001b[0m\u001b[0;34m\u001b[0m\u001b[0;34m\u001b[0m\u001b[0m\n",
      "\u001b[0;31mKeyboardInterrupt\u001b[0m: "
     ]
    }
   ],
   "source": [
    "# make sure you've downloaded combined.csv - see link above.\n",
    "# WARNING - this is a large dataset and will produce some memory pressure.\n",
    "iclabcombined = pd.read_csv(\"../data/combined.csv\", dtype={'country' : str})"
   ]
  },
  {
   "cell_type": "markdown",
   "metadata": {
    "colab_type": "text",
    "id": "WYO-gMQKJQzT"
   },
   "source": [
    "Drop the columns which were meant for internal use of ICLAB team and the header columns which have come into dataset via join."
   ]
  },
  {
   "cell_type": "code",
   "execution_count": 5,
   "metadata": {
    "colab": {},
    "colab_type": "code",
    "id": "4AibN_s5JQzU"
   },
   "outputs": [],
   "source": [
    "iclabcombined.drop(['filename', 'as_number'], axis=1, inplace= True)\n",
    "\n",
    "iclabcombined.drop([ 3078134,  4235577, 12411076, 18967078, 25041685, 26600938,\n",
    "            28192530, 29460039, 30795516, 32569776, 34391850, 36093972,\n",
    "            37793956, 39298313, 40934970, 42276914, 42976448, 44455181,\n",
    "            47068048, 49383978], inplace = True)"
   ]
  },
  {
   "cell_type": "markdown",
   "metadata": {
    "colab_type": "text",
    "id": "tH7sF96aJQzW"
   },
   "source": [
    "Correcting wrongly coded boolean values in the datasets"
   ]
  },
  {
   "cell_type": "code",
   "execution_count": 6,
   "metadata": {
    "colab": {},
    "colab_type": "code",
    "id": "YXcn1fvyJQzX"
   },
   "outputs": [],
   "source": [
    "iclabcombined['dns'].replace('false',False,inplace=True)\n",
    "iclabcombined['dns_all'].replace('false',False,inplace=True)\n",
    "iclabcombined['block'].replace('false',False,inplace=True)\n",
    "iclabcombined['packet_updated'].replace('false',False,inplace=True)\n",
    "iclabcombined['censored_updated'].replace('false',False,inplace=True)\n",
    "\n",
    "iclabcombined['dns'].replace('true',True,inplace=True)\n",
    "iclabcombined['dns_all'].replace('true',True,inplace=True)\n",
    "iclabcombined['block'].replace('true',True,inplace=True)\n",
    "iclabcombined['packet_updated'].replace('true',True,inplace=True)\n",
    "iclabcombined['censored_updated'].replace('true',True,inplace=True)"
   ]
  },
  {
   "cell_type": "markdown",
   "metadata": {
    "colab_type": "text",
    "id": "nY8uVQYwJQzZ"
   },
   "source": [
    "## 1a. Merging with Fortiguard categories\n",
    "\n",
    "We'll also be importing the Fortiguard categories for each URL blocked, and merging them into our dataset of blocking observations.\n",
    "\n",
    "The result will be a list of ICLab blocking observations, along with the Fortiguard category for each URL observed."
   ]
  },
  {
   "cell_type": "code",
   "execution_count": 8,
   "metadata": {
    "colab": {},
    "colab_type": "code",
    "id": "Yf1cPsGHJQzZ"
   },
   "outputs": [],
   "source": [
    "catDF = pd.read_fwf('../data/type_domain_mapping.txt',header=None, names=[ \"Name\"], sep=\"\")"
   ]
  },
  {
   "cell_type": "code",
   "execution_count": 9,
   "metadata": {
    "colab": {},
    "colab_type": "code",
    "id": "b5D_8FilJQzc"
   },
   "outputs": [],
   "source": [
    "catDF = catDF.Name.apply(lambda x: pd.Series(str(x).split(\"|||\"))).rename(columns={0:'category',1:'site'})"
   ]
  },
  {
   "cell_type": "code",
   "execution_count": 10,
   "metadata": {
    "colab": {},
    "colab_type": "code",
    "id": "MEhS1aarJQze"
   },
   "outputs": [
    {
     "data": {
      "text/plain": [
       "80"
      ]
     },
     "execution_count": 10,
     "metadata": {},
     "output_type": "execute_result"
    }
   ],
   "source": [
    "allCategories = set(catDF['category'])\n",
    "len(allCategories)"
   ]
  },
  {
   "cell_type": "code",
   "execution_count": 11,
   "metadata": {
    "colab": {},
    "colab_type": "code",
    "id": "nM61s9ZhJQzg"
   },
   "outputs": [],
   "source": [
    "# ADDING CATEGORY AS A PERMANENT COLUMN\n",
    "urlListAll = iclabcombined['url'].tolist()\n",
    "sitesListAll = []\n",
    "for item in urlListAll:\n",
    "    domainAll = tldextract.extract(item)[1]\n",
    "    suffixAll = tldextract.extract(item)[2]\n",
    "    sitesListAll.append(domainAll + \".\" + suffixAll)"
   ]
  },
  {
   "cell_type": "code",
   "execution_count": 12,
   "metadata": {
    "colab": {},
    "colab_type": "code",
    "id": "19IFD5t4JQzi"
   },
   "outputs": [],
   "source": [
    "iclabcombined['site'] = sitesListAll\n",
    "iclabcombined = pd.merge(iclabcombined, catDF, on='site',how='left')"
   ]
  },
  {
   "cell_type": "code",
   "execution_count": 23,
   "metadata": {},
   "outputs": [
    {
     "data": {
      "text/plain": [
       "279"
      ]
     },
     "execution_count": 23,
     "metadata": {},
     "output_type": "execute_result"
    }
   ],
   "source": [
    "# free memory\n",
    "del sitesListAll\n",
    "del urlListAll\n",
    "# manually trigger garbage collector\n",
    "import gc\n",
    "gc.collect()"
   ]
  },
  {
   "cell_type": "code",
   "execution_count": 13,
   "metadata": {
    "colab": {},
    "colab_type": "code",
    "id": "uFOLYKIwPiKU"
   },
   "outputs": [
    {
     "data": {
      "text/html": [
       "<div>\n",
       "<style scoped>\n",
       "    .dataframe tbody tr th:only-of-type {\n",
       "        vertical-align: middle;\n",
       "    }\n",
       "\n",
       "    .dataframe tbody tr th {\n",
       "        vertical-align: top;\n",
       "    }\n",
       "\n",
       "    .dataframe thead th {\n",
       "        text-align: right;\n",
       "    }\n",
       "</style>\n",
       "<table border=\"1\" class=\"dataframe\">\n",
       "  <thead>\n",
       "    <tr style=\"text-align: right;\">\n",
       "      <th></th>\n",
       "      <th>server_t</th>\n",
       "      <th>country</th>\n",
       "      <th>schedule_name</th>\n",
       "      <th>url</th>\n",
       "      <th>dns</th>\n",
       "      <th>dns_reason</th>\n",
       "      <th>dns_all</th>\n",
       "      <th>dns_reason_all</th>\n",
       "      <th>http_status</th>\n",
       "      <th>block</th>\n",
       "      <th>body_len</th>\n",
       "      <th>http_reason</th>\n",
       "      <th>packet_updated</th>\n",
       "      <th>packet_reason</th>\n",
       "      <th>censored_updated</th>\n",
       "      <th>site</th>\n",
       "      <th>category</th>\n",
       "    </tr>\n",
       "  </thead>\n",
       "  <tbody>\n",
       "    <tr>\n",
       "      <th>0</th>\n",
       "      <td>2017-01-01T00:03:55.797Z</td>\n",
       "      <td>UA</td>\n",
       "      <td>alexa-global</td>\n",
       "      <td>4shared.com</td>\n",
       "      <td>False</td>\n",
       "      <td>sameip</td>\n",
       "      <td>False</td>\n",
       "      <td>NaN</td>\n",
       "      <td>200</td>\n",
       "      <td>False</td>\n",
       "      <td>89694</td>\n",
       "      <td>NaN</td>\n",
       "      <td>NaN</td>\n",
       "      <td>NaN</td>\n",
       "      <td>False</td>\n",
       "      <td>4shared.com</td>\n",
       "      <td>File Sharing and Storage</td>\n",
       "    </tr>\n",
       "    <tr>\n",
       "      <th>1</th>\n",
       "      <td>2017-01-01T00:03:55.797Z</td>\n",
       "      <td>UA</td>\n",
       "      <td>alexa-global</td>\n",
       "      <td>quora.com</td>\n",
       "      <td>-2</td>\n",
       "      <td>no_control_resp</td>\n",
       "      <td>False</td>\n",
       "      <td>NaN</td>\n",
       "      <td>200</td>\n",
       "      <td>False</td>\n",
       "      <td>99907</td>\n",
       "      <td>NaN</td>\n",
       "      <td>NaN</td>\n",
       "      <td>NaN</td>\n",
       "      <td>False</td>\n",
       "      <td>quora.com</td>\n",
       "      <td>Reference</td>\n",
       "    </tr>\n",
       "    <tr>\n",
       "      <th>2</th>\n",
       "      <td>2017-01-01T00:03:55.797Z</td>\n",
       "      <td>UA</td>\n",
       "      <td>alexa-global</td>\n",
       "      <td>stackexchange.com</td>\n",
       "      <td>-2</td>\n",
       "      <td>no_control_resp</td>\n",
       "      <td>False</td>\n",
       "      <td>NaN</td>\n",
       "      <td>200</td>\n",
       "      <td>False</td>\n",
       "      <td>83096</td>\n",
       "      <td>NaN</td>\n",
       "      <td>NaN</td>\n",
       "      <td>NaN</td>\n",
       "      <td>False</td>\n",
       "      <td>stackexchange.com</td>\n",
       "      <td>Information Technology</td>\n",
       "    </tr>\n",
       "    <tr>\n",
       "      <th>3</th>\n",
       "      <td>2017-01-01T00:03:55.797Z</td>\n",
       "      <td>UA</td>\n",
       "      <td>alexa-global</td>\n",
       "      <td>whatsapp.com</td>\n",
       "      <td>-2</td>\n",
       "      <td>no_control_resp</td>\n",
       "      <td>False</td>\n",
       "      <td>NaN</td>\n",
       "      <td>200</td>\n",
       "      <td>False</td>\n",
       "      <td>32799</td>\n",
       "      <td>NaN</td>\n",
       "      <td>NaN</td>\n",
       "      <td>NaN</td>\n",
       "      <td>False</td>\n",
       "      <td>whatsapp.com</td>\n",
       "      <td>Instant Messaging</td>\n",
       "    </tr>\n",
       "    <tr>\n",
       "      <th>4</th>\n",
       "      <td>2017-01-01T00:03:55.797Z</td>\n",
       "      <td>UA</td>\n",
       "      <td>alexa-global</td>\n",
       "      <td>atlassian.net</td>\n",
       "      <td>-2</td>\n",
       "      <td>no_control_resp</td>\n",
       "      <td>False</td>\n",
       "      <td>NaN</td>\n",
       "      <td>200</td>\n",
       "      <td>False</td>\n",
       "      <td>38180</td>\n",
       "      <td>NaN</td>\n",
       "      <td>NaN</td>\n",
       "      <td>NaN</td>\n",
       "      <td>False</td>\n",
       "      <td>atlassian.net</td>\n",
       "      <td>Information Technology</td>\n",
       "    </tr>\n",
       "  </tbody>\n",
       "</table>\n",
       "</div>"
      ],
      "text/plain": [
       "                   server_t country schedule_name                url    dns  \\\n",
       "0  2017-01-01T00:03:55.797Z      UA  alexa-global        4shared.com  False   \n",
       "1  2017-01-01T00:03:55.797Z      UA  alexa-global          quora.com     -2   \n",
       "2  2017-01-01T00:03:55.797Z      UA  alexa-global  stackexchange.com     -2   \n",
       "3  2017-01-01T00:03:55.797Z      UA  alexa-global       whatsapp.com     -2   \n",
       "4  2017-01-01T00:03:55.797Z      UA  alexa-global      atlassian.net     -2   \n",
       "\n",
       "        dns_reason dns_all dns_reason_all http_status  block body_len  \\\n",
       "0           sameip   False            NaN         200  False    89694   \n",
       "1  no_control_resp   False            NaN         200  False    99907   \n",
       "2  no_control_resp   False            NaN         200  False    83096   \n",
       "3  no_control_resp   False            NaN         200  False    32799   \n",
       "4  no_control_resp   False            NaN         200  False    38180   \n",
       "\n",
       "  http_reason packet_updated packet_reason  censored_updated  \\\n",
       "0         NaN            NaN           NaN             False   \n",
       "1         NaN            NaN           NaN             False   \n",
       "2         NaN            NaN           NaN             False   \n",
       "3         NaN            NaN           NaN             False   \n",
       "4         NaN            NaN           NaN             False   \n",
       "\n",
       "                site                  category  \n",
       "0        4shared.com  File Sharing and Storage  \n",
       "1          quora.com                 Reference  \n",
       "2  stackexchange.com    Information Technology  \n",
       "3       whatsapp.com         Instant Messaging  \n",
       "4      atlassian.net    Information Technology  "
      ]
     },
     "execution_count": 13,
     "metadata": {},
     "output_type": "execute_result"
    }
   ],
   "source": [
    "iclabcombined['category'] = iclabcombined['category'].fillna(0)\n",
    "iclabcombined['category']=iclabcombined['category'].replace(0,'Undefined')\n",
    "iclabcombined.head()"
   ]
  },
  {
   "cell_type": "code",
   "execution_count": 14,
   "metadata": {
    "colab": {
     "base_uri": "https://localhost:8080/",
     "height": 35
    },
    "colab_type": "code",
    "id": "7Lg4gdjZJQzo",
    "outputId": "4a75b584-85bc-4004-9a6b-5f8cef071562"
   },
   "outputs": [
    {
     "name": "stdout",
     "output_type": "stream",
     "text": [
      "The number of observations in our original data set are 50436846 and the number of features/columns are 17 \n"
     ]
    }
   ],
   "source": [
    "print(\"The number of observations in our original data set are {0} and the number of features/columns are {1} \".format(iclabcombined.shape[0],iclabcombined.shape[1]))"
   ]
  },
  {
   "cell_type": "code",
   "execution_count": 24,
   "metadata": {
    "colab": {
     "base_uri": "https://localhost:8080/"
    },
    "colab_type": "code",
    "id": "z8vAxz0Jciwh",
    "outputId": "9ed24e61-d783-48ad-acb7-9041cc6479dd"
   },
   "outputs": [],
   "source": [
    "# iclabcombined.sample(5)"
   ]
  },
  {
   "cell_type": "markdown",
   "metadata": {
    "colab_type": "text",
    "id": "bX3Zh6O3JQzx"
   },
   "source": [
    "IN THE LATEST ITERATION OF THIS NOTEBOOK (07/17) NO DATA FOR \"USA\" HAS BEEN DROPPED "
   ]
  },
  {
   "cell_type": "markdown",
   "metadata": {
    "colab_type": "text",
    "id": "nHfBC3U_JQzy"
   },
   "source": [
    "******************\n",
    "# 2. ***`ANALYZING FALSE POSITIVES`*** \n",
    "******************\n",
    "\n",
    "*(Redundant section as of 07/2020)*"
   ]
  },
  {
   "cell_type": "code",
   "execution_count": null,
   "metadata": {
    "colab": {},
    "colab_type": "code",
    "id": "IVhSBcNbJQzy"
   },
   "outputs": [],
   "source": [
    "# #function to find blocked URLs\n",
    "# def blockedURLs(cc):\n",
    "#     return (set(iclabcombined[ (iclabcombined['country']== cc)& ((iclabcombined['censored_updated']==True)) ]['url']))"
   ]
  },
  {
   "cell_type": "markdown",
   "metadata": {
    "colab_type": "text",
    "id": "RQYfLRm6JQz0"
   },
   "source": [
    "## 2a. Looking at sites which only have censored_updated = True"
   ]
  },
  {
   "cell_type": "markdown",
   "metadata": {
    "colab_type": "text",
    "id": "okZBCCbfJQz1"
   },
   "source": [
    "The below query produces 167 urls, these are the URLs for which the ICLab team believes the packets might have been injected i.e. becuase there was a response after RST or FIN or maybe because of ICMP admin prohibited i.e. they determined there's a firewall that blocks a connection. Removing these from our data as these are cases of PROBABLE CENSORSHIP and not ACTUAL censorship"
   ]
  },
  {
   "cell_type": "code",
   "execution_count": null,
   "metadata": {
    "colab": {},
    "colab_type": "code",
    "id": "PTeOJQH3JQz1"
   },
   "outputs": [],
   "source": [
    "#( set(iclabcombined[ (iclabcombined['country']=='US')  & ((iclabcombined['dns']== False) & (iclabcombined['dns_all']== False) & (iclabcombined['block']== False) & (iclabcombined['packet_updated']== True))]['url']))"
   ]
  },
  {
   "cell_type": "markdown",
   "metadata": {
    "colab_type": "text",
    "id": "z-nr1R3vJQz3"
   },
   "source": [
    "Even urls for which a 4xx or 5xx result was returned are accessible and some of them are URLS commonly accessed in US"
   ]
  },
  {
   "cell_type": "code",
   "execution_count": null,
   "metadata": {
    "colab": {},
    "colab_type": "code",
    "id": "8Mk0ognfJQz3"
   },
   "outputs": [],
   "source": [
    "# set(iclabcombined\n",
    "#     [ (iclabcombined['country']=='US') \n",
    "#                    & \n",
    "#      (\n",
    "#          (iclabcombined['http_status']== 403.0) | (iclabcombined['http_status']== 404.0) | (iclabcombined['http_status']== 504.0)\n",
    "#      )\n",
    "#      &\n",
    "#      (   \n",
    "#                        (iclabcombined['dns']== False) & (iclabcombined['dns_all']== False)\n",
    "#                        & (iclabcombined['block']== False) & (iclabcombined['dns_all']== False) \n",
    "#                        & (iclabcombined['packet_updated']== True)\n",
    "#                    )]\n",
    "#      ['url'])"
   ]
  },
  {
   "cell_type": "markdown",
   "metadata": {
    "colab_type": "text",
    "id": "FoND09pDJQz7"
   },
   "source": [
    "The falsePositIndex here are the sites which return a http 200 and only show packet_updated = True. In below query, I eliminate the countries where the result of HTTP was not a 400/500 errorand the only mechanism of censorship was that the packet_updated = True i.e. all these are probable censorships"
   ]
  },
  {
   "cell_type": "code",
   "execution_count": null,
   "metadata": {
    "colab": {},
    "colab_type": "code",
    "id": "Y6qNxuwqJQz7"
   },
   "outputs": [],
   "source": [
    "httpError = np.arange(400,600,1,dtype=float)\n",
    "falsePositIndex = iclabcombined[\n",
    "    (~iclabcombined.http_status.isin(httpError))  \n",
    "                   & (   (iclabcombined['dns']== False) & (iclabcombined['dns_all']== False) & (iclabcombined['block']== False) & (iclabcombined['dns_all']== False) & (iclabcombined['packet_updated']== True)\n",
    "                     )] [['country','url','http_status']].index.tolist()"
   ]
  },
  {
   "cell_type": "code",
   "execution_count": null,
   "metadata": {
    "colab": {},
    "colab_type": "code",
    "id": "jCMlUVUmJQz9"
   },
   "outputs": [],
   "source": [
    "# print(\"We have \" + str(len(falsePositIndex)) + \" probable censoriships which could be false positives\")"
   ]
  },
  {
   "cell_type": "code",
   "execution_count": null,
   "metadata": {
    "colab": {},
    "colab_type": "code",
    "id": "XCMe9pMmJQz_"
   },
   "outputs": [],
   "source": [
    "# iclabcombined.drop(falsePositIndex,inplace=True)"
   ]
  },
  {
   "cell_type": "markdown",
   "metadata": {
    "colab_type": "text",
    "id": "iLndsZRgJQ0C"
   },
   "source": [
    "Now having a look at FALSE NEGATIVES\n",
    "We define false negatives as websites which are showing censored_updated = False here but upon testing actually are inaccessible"
   ]
  },
  {
   "cell_type": "code",
   "execution_count": null,
   "metadata": {
    "colab": {},
    "colab_type": "code",
    "id": "ONGaZouuJQ0D"
   },
   "outputs": [],
   "source": [
    "# set(iclabcombined[(iclabcombined['country']=='US')&(iclabcombined['censored_updated']==False) & (iclabcombined.http_status.isin([403.0]))]['url'])"
   ]
  },
  {
   "cell_type": "markdown",
   "metadata": {
    "colab_type": "text",
    "id": "7MLETCOBJQ0F"
   },
   "source": [
    "In total as seen below we have 3389 websites which show up as not censored in US but the corresponding HTTP results are error codes, manual testing of these websites show that they are accessible, its not possible to actually determine the status of all false negatives. Based on our testing and seeing that they are not marked as blocked eventually and also because we believe that false negatives are not too critical to our project  $hence$ $we$ $wont$ $drop$ $them$ $from$ $the$ $data$ $set$"
   ]
  },
  {
   "cell_type": "markdown",
   "metadata": {
    "colab_type": "text",
    "id": "OLDSUbdNJQ0F"
   },
   "source": [
    "## 2b. Removing the FALSE POSITIVIES (US blocked sites) from our main dataset iclabcombined"
   ]
  },
  {
   "cell_type": "markdown",
   "metadata": {
    "colab_type": "text",
    "id": "BiQAETDMJQ0F"
   },
   "source": [
    "From this data looking at the sites that are shown as censored in US. THESE SITES HAVE CENSORED = TRUE AND RETURN A HTTP ERROR"
   ]
  },
  {
   "cell_type": "code",
   "execution_count": null,
   "metadata": {
    "colab": {},
    "colab_type": "code",
    "id": "RQ4IvohRJQ0G"
   },
   "outputs": [],
   "source": [
    "#set( iclabcombined  [  (iclabcombined['country']=='US') & (iclabcombined.http_status.isin(httpError) & ( (iclabcombined['dns_all']== True) | (iclabcombined['block']== True)|(iclabcombined['censored_updated']== True) | (iclabcombined['packet_updated']== True)))]['url'])"
   ]
  },
  {
   "cell_type": "code",
   "execution_count": null,
   "metadata": {
    "colab": {},
    "colab_type": "code",
    "id": "NpJc98yxJQ0I"
   },
   "outputs": [],
   "source": [
    "# SITES SHOWING HTTP status reason as block in US but still accessible\n",
    "#set( iclabcombined  [  (iclabcombined['country']=='US') & (iclabcombined.http_reason.str.contains('block'))]['url'])"
   ]
  },
  {
   "cell_type": "markdown",
   "metadata": {
    "colab_type": "text",
    "id": "55U-NIVvJQ0J"
   },
   "source": [
    "Overall all the above results show a very dirty data, we basically removed the root urls of all the sites that show 404 in US and then checked how many of them are accesible. There are no patterns while some are showing as blocked on testing others are not. BELOW WE REMOVE THESE FALSE POSITIVIES FROM THE US"
   ]
  },
  {
   "cell_type": "code",
   "execution_count": null,
   "metadata": {
    "colab": {},
    "colab_type": "code",
    "id": "2Qd5_v6iJQ0K"
   },
   "outputs": [],
   "source": [
    "#USFPlist = (iclabcombined [(iclabcombined['country']=='US') & (iclabcombined['censored_updated'] == True)]['site']).unique().tolist()"
   ]
  },
  {
   "cell_type": "code",
   "execution_count": null,
   "metadata": {
    "colab": {},
    "colab_type": "code",
    "id": "e7iA0Ch8JQ0M"
   },
   "outputs": [],
   "source": [
    "#USblockIclab = len(iclabcombined[iclabcombined['site'].isin(USFPlist)])"
   ]
  },
  {
   "cell_type": "code",
   "execution_count": null,
   "metadata": {
    "colab": {},
    "colab_type": "code",
    "id": "hv9zL_ZJJQ0O"
   },
   "outputs": [],
   "source": [
    "# print(\"There are {} unique blocked websites in the US\".format(len(USFPlist)))\n",
    "# print(\"There are {} total observations of these blocked websites throughout our dataset\".format(USblockIclab))"
   ]
  },
  {
   "cell_type": "code",
   "execution_count": null,
   "metadata": {
    "colab": {},
    "colab_type": "code",
    "id": "53roh9pYJQ0S"
   },
   "outputs": [],
   "source": [
    "# USFPIndex is the index of all those observations for the unique sites which are blocked in US and we are going to remove from the entire DB\n",
    "#USFPIndex = iclabcombined[iclabcombined['site'].isin(USFPlist)].index"
   ]
  },
  {
   "cell_type": "code",
   "execution_count": null,
   "metadata": {
    "colab": {},
    "colab_type": "code",
    "id": "hC7a5aJHP2GO"
   },
   "outputs": [],
   "source": [
    "#iclabCLEAN = iclabcombined.drop(USFPIndex)"
   ]
  },
  {
   "cell_type": "markdown",
   "metadata": {
    "colab_type": "text",
    "id": "J43i9atpP6ef"
   },
   "source": [
    "iclabCLEAN is our cleaned dataframe"
   ]
  },
  {
   "cell_type": "markdown",
   "metadata": {
    "colab_type": "text",
    "id": "WFyd7MMPJQ0V"
   },
   "source": [
    "# Produce iclabCLEAN.csv"
   ]
  },
  {
   "cell_type": "code",
   "execution_count": 28,
   "metadata": {
    "colab": {},
    "colab_type": "code",
    "id": "qNk94UUJJQ0W"
   },
   "outputs": [],
   "source": [
    "iclabcombined.to_csv('../data/iclab_cleaned_data/iclabCLEAN.csv')"
   ]
  },
  {
   "cell_type": "markdown",
   "metadata": {
    "colab_type": "text",
    "id": "1fINWfo6JQ0b"
   },
   "source": [
    "# Section 2.  Running experiments\n",
    "\n",
    "In this section, we walk through the metrics with which we experimented in our paper.\n",
    "\n",
    "At the end of this section, we produce `data/MetricDF.csv`, which contains all of our final metrics and associated data.\n",
    "\n",
    "If you have NOT run Section 1, above, you'll need to [download iclabCLEAN.csv here](https://berkeley.box.com/s/je4ld219m7somvqmb9bqu2v7z3il3n48)."
   ]
  },
  {
   "cell_type": "code",
   "execution_count": 4,
   "metadata": {
    "colab": {},
    "colab_type": "code",
    "id": "cDReGC87JQ0X"
   },
   "outputs": [
    {
     "name": "stderr",
     "output_type": "stream",
     "text": [
      "/home/ffff/.local/lib/python3.6/site-packages/IPython/core/interactiveshell.py:2785: DtypeWarning: Columns (5,6,10) have mixed types.Specify dtype option on import or set low_memory=False.\n",
      "  interactivity=interactivity, compiler=compiler, result=result)\n"
     ]
    }
   ],
   "source": [
    "# WARNING - this is a pretty big file, and will prdouce some memory pessure\n",
    "# iclabCLEAN = pd.read_pickle('../data/iclab_cleaned_data/iclabCLEAN.pkl')\n",
    "iclabCLEAN = pd.read_csv('../data/iclab_cleaned_data/iclabCLEAN.csv').drop(columns=[\"Unnamed: 0\"])"
   ]
  },
  {
   "cell_type": "markdown",
   "metadata": {
    "colab_type": "text",
    "id": "CHmStC83RD53"
   },
   "source": [
    "## Experiment 1: Exact URL blocking"
   ]
  },
  {
   "cell_type": "code",
   "execution_count": 5,
   "metadata": {
    "colab": {},
    "colab_type": "code",
    "id": "xo4biKFxJQ0c"
   },
   "outputs": [
    {
     "data": {
      "text/plain": [
       "121"
      ]
     },
     "execution_count": 5,
     "metadata": {},
     "output_type": "execute_result"
    }
   ],
   "source": [
    "blockpageTR = set(iclabCLEAN[(iclabCLEAN['country']=='TR') & ((iclabCLEAN['dns_all']==True)| (iclabCLEAN['censored_updated']==True) | (iclabCLEAN['block']==True) | (iclabCLEAN['packet_updated']==True)) ]['url'])\n",
    "len(blockpageTR)"
   ]
  },
  {
   "cell_type": "code",
   "execution_count": 6,
   "metadata": {
    "colab": {},
    "colab_type": "code",
    "id": "_LDEBA4bJQ0d"
   },
   "outputs": [
    {
     "data": {
      "text/plain": [
       "340"
      ]
     },
     "execution_count": 6,
     "metadata": {},
     "output_type": "execute_result"
    }
   ],
   "source": [
    "blockpageRU = set(iclabCLEAN[(iclabCLEAN['country']=='RU') & ((iclabCLEAN['dns_all']==True)| (iclabCLEAN['censored_updated']==True) | (iclabCLEAN['block']==True) | (iclabCLEAN['packet_updated']==True)) ]['url'])\n",
    "len(blockpageRU)"
   ]
  },
  {
   "cell_type": "code",
   "execution_count": 7,
   "metadata": {
    "colab": {},
    "colab_type": "code",
    "id": "ETgi7L2uJQ0f"
   },
   "outputs": [
    {
     "data": {
      "text/plain": [
       "{'17ok.com',\n",
       " '39.net',\n",
       " 'hclips.com',\n",
       " 'http://1905.com/',\n",
       " 'http://advocacy.globalvoicesonline.org/',\n",
       " 'http://anonymouse.org',\n",
       " 'http://anonymouse.org/',\n",
       " 'http://bittornado.com',\n",
       " 'http://bittornado.com/',\n",
       " 'http://globalvoicesonline.org/',\n",
       " 'http://hclips.com/',\n",
       " 'http://hdzog.com/',\n",
       " 'http://kdnet.net/',\n",
       " 'http://warc.jalb.de/',\n",
       " 'http://www.cameolingerieonline.com',\n",
       " 'http://www.heritage.org',\n",
       " 'http://www.hrcr.org',\n",
       " 'http://www.hrcr.org/',\n",
       " 'http://www.lineriderfun.com',\n",
       " 'http://www.oovoo.com/',\n",
       " 'http://www.schwarzreport.org/',\n",
       " 'http://xhamster.com/',\n",
       " 'xhamster.com'}"
      ]
     },
     "execution_count": 7,
     "metadata": {},
     "output_type": "execute_result"
    }
   ],
   "source": [
    "blockpageTR.intersection(blockpageRU)"
   ]
  },
  {
   "cell_type": "markdown",
   "metadata": {
    "colab_type": "text",
    "id": "Z-Iix1x_JQ0i"
   },
   "source": [
    "## Experiment 2: Fuzzy blocking"
   ]
  },
  {
   "cell_type": "markdown",
   "metadata": {
    "colab_type": "text",
    "id": "pvYo596rDkId"
   },
   "source": [
    "Most captured categories in our dataset"
   ]
  },
  {
   "cell_type": "code",
   "execution_count": 8,
   "metadata": {
    "colab": {},
    "colab_type": "code",
    "id": "6sOiKdFgJQ0i"
   },
   "outputs": [
    {
     "data": {
      "text/plain": [
       "519"
      ]
     },
     "execution_count": 8,
     "metadata": {},
     "output_type": "execute_result"
    }
   ],
   "source": [
    "blockIN = set(iclabCLEAN[(iclabCLEAN['country']=='IN') & ((iclabCLEAN['censored_updated']==True))]['site'])\n",
    "len(blockIN)"
   ]
  },
  {
   "cell_type": "code",
   "execution_count": 9,
   "metadata": {
    "colab": {},
    "colab_type": "code",
    "id": "WUqKXwWFJQ0o"
   },
   "outputs": [
    {
     "data": {
      "text/plain": [
       "224"
      ]
     },
     "execution_count": 9,
     "metadata": {},
     "output_type": "execute_result"
    }
   ],
   "source": [
    "blockRU = set(iclabCLEAN[(iclabCLEAN['country']=='RU') & ((iclabCLEAN['dns_all']==True)| (iclabCLEAN['censored_updated']==True)| (iclabCLEAN['block']==True) | (iclabCLEAN['packet_updated']==True))]['site'])\n",
    "len(blockRU)"
   ]
  },
  {
   "cell_type": "code",
   "execution_count": 10,
   "metadata": {
    "colab": {},
    "colab_type": "code",
    "id": "s5B_Z7d3JQ0r"
   },
   "outputs": [
    {
     "data": {
      "text/plain": [
       "102"
      ]
     },
     "execution_count": 10,
     "metadata": {},
     "output_type": "execute_result"
    }
   ],
   "source": [
    "blockTR = set(iclabCLEAN[(iclabCLEAN['country']=='TR') & ((iclabCLEAN['dns_all']==True)| (iclabCLEAN['censored_updated']==True) | (iclabCLEAN['block']==True) | (iclabCLEAN['packet_updated']==True)) ]['site'])\n",
    "len(blockTR)"
   ]
  },
  {
   "cell_type": "code",
   "execution_count": 11,
   "metadata": {
    "colab": {},
    "colab_type": "code",
    "id": "rZpuj4cFJQ0s"
   },
   "outputs": [
    {
     "data": {
      "text/plain": [
       "158"
      ]
     },
     "execution_count": 11,
     "metadata": {},
     "output_type": "execute_result"
    }
   ],
   "source": [
    "blockNL = set(iclabCLEAN[(iclabCLEAN['country']=='NL') & ((iclabCLEAN['censored_updated']==True))]['site'])\n",
    "len(blockNL)"
   ]
  },
  {
   "cell_type": "code",
   "execution_count": 12,
   "metadata": {
    "colab": {},
    "colab_type": "code",
    "id": "Z0YMDZM2JQ0z"
   },
   "outputs": [
    {
     "data": {
      "text/plain": [
       "{'17ok.com',\n",
       " '1905.com',\n",
       " '39.net',\n",
       " '3dmgame.com',\n",
       " 'adobe.com',\n",
       " 'anonymouse.org',\n",
       " 'arablounge.com',\n",
       " 'baidu.com',\n",
       " 'bittornado.com',\n",
       " 'blogspot.com',\n",
       " 'blogspot.in',\n",
       " 'buddhanet.net',\n",
       " 'cameolingerieonline.com',\n",
       " 'dailymotion.com',\n",
       " 'doublepimp.com',\n",
       " 'ebay.it',\n",
       " 'facebook.com',\n",
       " 'fanpage.gr',\n",
       " 'globalvoicesonline.org',\n",
       " 'guildwars.com',\n",
       " 'hdzog.com',\n",
       " 'heritage.org',\n",
       " 'hrcr.org',\n",
       " 'jalb.de',\n",
       " 'kavkazcenter.com',\n",
       " 'kdnet.net',\n",
       " 'khilafah.net',\n",
       " 'lineriderfun.com',\n",
       " 'oovoo.com',\n",
       " 'pandora.com',\n",
       " 'peoplesproxy.com',\n",
       " 'rutracker.org',\n",
       " 'sabah.com.tr',\n",
       " 'sberbank.ru',\n",
       " 'schwarzreport.org',\n",
       " 'sectsco.org',\n",
       " 'sozcu.com.tr',\n",
       " 'tmall.com',\n",
       " 'wordpress.com',\n",
       " 'youtube.com'}"
      ]
     },
     "execution_count": 12,
     "metadata": {},
     "output_type": "execute_result"
    }
   ],
   "source": [
    "blockIN.intersection(blockRU)"
   ]
  },
  {
   "cell_type": "code",
   "execution_count": 13,
   "metadata": {
    "colab": {},
    "colab_type": "code",
    "id": "DaQ3226CJQ01"
   },
   "outputs": [
    {
     "data": {
      "text/plain": [
       "{'17ok.com',\n",
       " '1905.com',\n",
       " '39.net',\n",
       " 'anonymouse.org',\n",
       " 'bittornado.com',\n",
       " 'cameolingerieonline.com',\n",
       " 'globalvoicesonline.org',\n",
       " 'hclips.com',\n",
       " 'hdzog.com',\n",
       " 'heritage.org',\n",
       " 'hrcr.org',\n",
       " 'jalb.de',\n",
       " 'kdnet.net',\n",
       " 'lineriderfun.com',\n",
       " 'oovoo.com',\n",
       " 'schwarzreport.org',\n",
       " 'wordpress.com',\n",
       " 'xhamster.com'}"
      ]
     },
     "execution_count": 13,
     "metadata": {},
     "output_type": "execute_result"
    }
   ],
   "source": [
    "blockRU.intersection(blockTR)"
   ]
  },
  {
   "cell_type": "code",
   "execution_count": 14,
   "metadata": {
    "colab": {},
    "colab_type": "code",
    "id": "z47JHeTPJQ04"
   },
   "outputs": [
    {
     "data": {
      "text/plain": [
       "{'17ok.com',\n",
       " '1905.com',\n",
       " '39.net',\n",
       " 'anonymouse.org',\n",
       " 'beeg.com',\n",
       " 'bittornado.com',\n",
       " 'cameolingerieonline.com',\n",
       " 'chinadaily.com.cn',\n",
       " 'e-hentai.org',\n",
       " 'globalvoicesonline.org',\n",
       " 'hclips.com',\n",
       " 'heritage.org',\n",
       " 'hrcr.org',\n",
       " 'jalb.de',\n",
       " 'kat.ph',\n",
       " 'kdnet.net',\n",
       " 'lineriderfun.com',\n",
       " 'oovoo.com',\n",
       " 'rarbg.to',\n",
       " 'schwarzreport.org',\n",
       " 'xhamster.com'}"
      ]
     },
     "execution_count": 14,
     "metadata": {},
     "output_type": "execute_result"
    }
   ],
   "source": [
    "blockNL.intersection(blockTR)"
   ]
  },
  {
   "cell_type": "markdown",
   "metadata": {
    "colab_type": "text",
    "id": "ar_uOb9zJQ08"
   },
   "source": [
    "As part of Experiment 2 : \n",
    "(a) A look at censored FB Pages in India"
   ]
  },
  {
   "cell_type": "markdown",
   "metadata": {
    "colab_type": "text",
    "id": "v3qpfma3JQ08"
   },
   "source": [
    "Looking at worldwide distribution of FB blocking"
   ]
  },
  {
   "cell_type": "code",
   "execution_count": 15,
   "metadata": {
    "colab": {},
    "colab_type": "code",
    "id": "4kysMUrdJQ08"
   },
   "outputs": [
    {
     "data": {
      "text/html": [
       "<div>\n",
       "<style scoped>\n",
       "    .dataframe tbody tr th:only-of-type {\n",
       "        vertical-align: middle;\n",
       "    }\n",
       "\n",
       "    .dataframe tbody tr th {\n",
       "        vertical-align: top;\n",
       "    }\n",
       "\n",
       "    .dataframe thead th {\n",
       "        text-align: right;\n",
       "    }\n",
       "</style>\n",
       "<table border=\"1\" class=\"dataframe\">\n",
       "  <thead>\n",
       "    <tr style=\"text-align: right;\">\n",
       "      <th></th>\n",
       "      <th>server_t</th>\n",
       "      <th>schedule_name</th>\n",
       "      <th>url</th>\n",
       "      <th>dns</th>\n",
       "      <th>dns_reason</th>\n",
       "      <th>dns_all</th>\n",
       "      <th>dns_reason_all</th>\n",
       "      <th>http_status</th>\n",
       "      <th>block</th>\n",
       "      <th>body_len</th>\n",
       "      <th>http_reason</th>\n",
       "      <th>packet_updated</th>\n",
       "      <th>packet_reason</th>\n",
       "      <th>censored_updated</th>\n",
       "      <th>site</th>\n",
       "      <th>category</th>\n",
       "    </tr>\n",
       "    <tr>\n",
       "      <th>country</th>\n",
       "      <th></th>\n",
       "      <th></th>\n",
       "      <th></th>\n",
       "      <th></th>\n",
       "      <th></th>\n",
       "      <th></th>\n",
       "      <th></th>\n",
       "      <th></th>\n",
       "      <th></th>\n",
       "      <th></th>\n",
       "      <th></th>\n",
       "      <th></th>\n",
       "      <th></th>\n",
       "      <th></th>\n",
       "      <th></th>\n",
       "      <th></th>\n",
       "    </tr>\n",
       "  </thead>\n",
       "  <tbody>\n",
       "    <tr>\n",
       "      <th>AD</th>\n",
       "      <td>6</td>\n",
       "      <td>6</td>\n",
       "      <td>6</td>\n",
       "      <td>6</td>\n",
       "      <td>5</td>\n",
       "      <td>6</td>\n",
       "      <td>2</td>\n",
       "      <td>6</td>\n",
       "      <td>6</td>\n",
       "      <td>6</td>\n",
       "      <td>0</td>\n",
       "      <td>0</td>\n",
       "      <td>0</td>\n",
       "      <td>6</td>\n",
       "      <td>6</td>\n",
       "      <td>6</td>\n",
       "    </tr>\n",
       "    <tr>\n",
       "      <th>AT</th>\n",
       "      <td>259</td>\n",
       "      <td>259</td>\n",
       "      <td>259</td>\n",
       "      <td>3</td>\n",
       "      <td>1</td>\n",
       "      <td>35</td>\n",
       "      <td>30</td>\n",
       "      <td>257</td>\n",
       "      <td>257</td>\n",
       "      <td>257</td>\n",
       "      <td>257</td>\n",
       "      <td>0</td>\n",
       "      <td>0</td>\n",
       "      <td>259</td>\n",
       "      <td>259</td>\n",
       "      <td>259</td>\n",
       "    </tr>\n",
       "    <tr>\n",
       "      <th>AU</th>\n",
       "      <td>1800</td>\n",
       "      <td>1800</td>\n",
       "      <td>1800</td>\n",
       "      <td>1243</td>\n",
       "      <td>881</td>\n",
       "      <td>1356</td>\n",
       "      <td>106</td>\n",
       "      <td>1742</td>\n",
       "      <td>1742</td>\n",
       "      <td>1742</td>\n",
       "      <td>1649</td>\n",
       "      <td>0</td>\n",
       "      <td>0</td>\n",
       "      <td>1800</td>\n",
       "      <td>1800</td>\n",
       "      <td>1800</td>\n",
       "    </tr>\n",
       "    <tr>\n",
       "      <th>BE</th>\n",
       "      <td>211</td>\n",
       "      <td>211</td>\n",
       "      <td>211</td>\n",
       "      <td>100</td>\n",
       "      <td>97</td>\n",
       "      <td>101</td>\n",
       "      <td>1</td>\n",
       "      <td>210</td>\n",
       "      <td>210</td>\n",
       "      <td>210</td>\n",
       "      <td>192</td>\n",
       "      <td>0</td>\n",
       "      <td>0</td>\n",
       "      <td>211</td>\n",
       "      <td>211</td>\n",
       "      <td>211</td>\n",
       "    </tr>\n",
       "    <tr>\n",
       "      <th>BG</th>\n",
       "      <td>550</td>\n",
       "      <td>550</td>\n",
       "      <td>550</td>\n",
       "      <td>522</td>\n",
       "      <td>213</td>\n",
       "      <td>525</td>\n",
       "      <td>0</td>\n",
       "      <td>529</td>\n",
       "      <td>529</td>\n",
       "      <td>529</td>\n",
       "      <td>487</td>\n",
       "      <td>0</td>\n",
       "      <td>0</td>\n",
       "      <td>550</td>\n",
       "      <td>550</td>\n",
       "      <td>550</td>\n",
       "    </tr>\n",
       "    <tr>\n",
       "      <th>BR</th>\n",
       "      <td>6740</td>\n",
       "      <td>6740</td>\n",
       "      <td>6740</td>\n",
       "      <td>5705</td>\n",
       "      <td>2382</td>\n",
       "      <td>6360</td>\n",
       "      <td>516</td>\n",
       "      <td>6677</td>\n",
       "      <td>6677</td>\n",
       "      <td>6677</td>\n",
       "      <td>6677</td>\n",
       "      <td>25</td>\n",
       "      <td>25</td>\n",
       "      <td>6740</td>\n",
       "      <td>6740</td>\n",
       "      <td>6740</td>\n",
       "    </tr>\n",
       "    <tr>\n",
       "      <th>BZ</th>\n",
       "      <td>293</td>\n",
       "      <td>293</td>\n",
       "      <td>293</td>\n",
       "      <td>45</td>\n",
       "      <td>43</td>\n",
       "      <td>45</td>\n",
       "      <td>0</td>\n",
       "      <td>293</td>\n",
       "      <td>293</td>\n",
       "      <td>293</td>\n",
       "      <td>265</td>\n",
       "      <td>0</td>\n",
       "      <td>0</td>\n",
       "      <td>293</td>\n",
       "      <td>293</td>\n",
       "      <td>293</td>\n",
       "    </tr>\n",
       "    <tr>\n",
       "      <th>CA</th>\n",
       "      <td>1008</td>\n",
       "      <td>1008</td>\n",
       "      <td>1008</td>\n",
       "      <td>155</td>\n",
       "      <td>49</td>\n",
       "      <td>364</td>\n",
       "      <td>196</td>\n",
       "      <td>1007</td>\n",
       "      <td>1007</td>\n",
       "      <td>1007</td>\n",
       "      <td>947</td>\n",
       "      <td>0</td>\n",
       "      <td>0</td>\n",
       "      <td>1008</td>\n",
       "      <td>1008</td>\n",
       "      <td>1008</td>\n",
       "    </tr>\n",
       "    <tr>\n",
       "      <th>CL</th>\n",
       "      <td>1867</td>\n",
       "      <td>1867</td>\n",
       "      <td>1867</td>\n",
       "      <td>1580</td>\n",
       "      <td>376</td>\n",
       "      <td>1635</td>\n",
       "      <td>0</td>\n",
       "      <td>1850</td>\n",
       "      <td>1850</td>\n",
       "      <td>1850</td>\n",
       "      <td>1811</td>\n",
       "      <td>24</td>\n",
       "      <td>24</td>\n",
       "      <td>1867</td>\n",
       "      <td>1867</td>\n",
       "      <td>1867</td>\n",
       "    </tr>\n",
       "    <tr>\n",
       "      <th>CN</th>\n",
       "      <td>364</td>\n",
       "      <td>364</td>\n",
       "      <td>364</td>\n",
       "      <td>334</td>\n",
       "      <td>252</td>\n",
       "      <td>336</td>\n",
       "      <td>0</td>\n",
       "      <td>342</td>\n",
       "      <td>342</td>\n",
       "      <td>342</td>\n",
       "      <td>274</td>\n",
       "      <td>4</td>\n",
       "      <td>4</td>\n",
       "      <td>364</td>\n",
       "      <td>364</td>\n",
       "      <td>364</td>\n",
       "    </tr>\n",
       "    <tr>\n",
       "      <th>CO</th>\n",
       "      <td>533</td>\n",
       "      <td>533</td>\n",
       "      <td>533</td>\n",
       "      <td>508</td>\n",
       "      <td>314</td>\n",
       "      <td>509</td>\n",
       "      <td>2</td>\n",
       "      <td>498</td>\n",
       "      <td>498</td>\n",
       "      <td>498</td>\n",
       "      <td>486</td>\n",
       "      <td>0</td>\n",
       "      <td>0</td>\n",
       "      <td>533</td>\n",
       "      <td>533</td>\n",
       "      <td>533</td>\n",
       "    </tr>\n",
       "    <tr>\n",
       "      <th>CR</th>\n",
       "      <td>41</td>\n",
       "      <td>41</td>\n",
       "      <td>41</td>\n",
       "      <td>0</td>\n",
       "      <td>0</td>\n",
       "      <td>39</td>\n",
       "      <td>36</td>\n",
       "      <td>41</td>\n",
       "      <td>41</td>\n",
       "      <td>41</td>\n",
       "      <td>41</td>\n",
       "      <td>0</td>\n",
       "      <td>0</td>\n",
       "      <td>41</td>\n",
       "      <td>41</td>\n",
       "      <td>41</td>\n",
       "    </tr>\n",
       "    <tr>\n",
       "      <th>CZ</th>\n",
       "      <td>102</td>\n",
       "      <td>102</td>\n",
       "      <td>102</td>\n",
       "      <td>59</td>\n",
       "      <td>22</td>\n",
       "      <td>59</td>\n",
       "      <td>2</td>\n",
       "      <td>99</td>\n",
       "      <td>99</td>\n",
       "      <td>99</td>\n",
       "      <td>87</td>\n",
       "      <td>0</td>\n",
       "      <td>0</td>\n",
       "      <td>102</td>\n",
       "      <td>102</td>\n",
       "      <td>102</td>\n",
       "    </tr>\n",
       "    <tr>\n",
       "      <th>DK</th>\n",
       "      <td>292</td>\n",
       "      <td>292</td>\n",
       "      <td>292</td>\n",
       "      <td>181</td>\n",
       "      <td>141</td>\n",
       "      <td>181</td>\n",
       "      <td>7</td>\n",
       "      <td>283</td>\n",
       "      <td>283</td>\n",
       "      <td>283</td>\n",
       "      <td>247</td>\n",
       "      <td>0</td>\n",
       "      <td>0</td>\n",
       "      <td>292</td>\n",
       "      <td>292</td>\n",
       "      <td>292</td>\n",
       "    </tr>\n",
       "    <tr>\n",
       "      <th>DZ</th>\n",
       "      <td>262</td>\n",
       "      <td>262</td>\n",
       "      <td>262</td>\n",
       "      <td>109</td>\n",
       "      <td>67</td>\n",
       "      <td>109</td>\n",
       "      <td>0</td>\n",
       "      <td>258</td>\n",
       "      <td>258</td>\n",
       "      <td>258</td>\n",
       "      <td>246</td>\n",
       "      <td>0</td>\n",
       "      <td>0</td>\n",
       "      <td>262</td>\n",
       "      <td>262</td>\n",
       "      <td>262</td>\n",
       "    </tr>\n",
       "    <tr>\n",
       "      <th>ES</th>\n",
       "      <td>325</td>\n",
       "      <td>325</td>\n",
       "      <td>325</td>\n",
       "      <td>304</td>\n",
       "      <td>182</td>\n",
       "      <td>304</td>\n",
       "      <td>0</td>\n",
       "      <td>319</td>\n",
       "      <td>319</td>\n",
       "      <td>319</td>\n",
       "      <td>271</td>\n",
       "      <td>1</td>\n",
       "      <td>1</td>\n",
       "      <td>325</td>\n",
       "      <td>325</td>\n",
       "      <td>325</td>\n",
       "    </tr>\n",
       "    <tr>\n",
       "      <th>FI</th>\n",
       "      <td>75</td>\n",
       "      <td>75</td>\n",
       "      <td>75</td>\n",
       "      <td>33</td>\n",
       "      <td>31</td>\n",
       "      <td>75</td>\n",
       "      <td>36</td>\n",
       "      <td>73</td>\n",
       "      <td>73</td>\n",
       "      <td>73</td>\n",
       "      <td>49</td>\n",
       "      <td>0</td>\n",
       "      <td>0</td>\n",
       "      <td>75</td>\n",
       "      <td>75</td>\n",
       "      <td>75</td>\n",
       "    </tr>\n",
       "    <tr>\n",
       "      <th>FR</th>\n",
       "      <td>1414</td>\n",
       "      <td>1414</td>\n",
       "      <td>1414</td>\n",
       "      <td>528</td>\n",
       "      <td>296</td>\n",
       "      <td>582</td>\n",
       "      <td>71</td>\n",
       "      <td>1409</td>\n",
       "      <td>1409</td>\n",
       "      <td>1409</td>\n",
       "      <td>1247</td>\n",
       "      <td>0</td>\n",
       "      <td>0</td>\n",
       "      <td>1414</td>\n",
       "      <td>1414</td>\n",
       "      <td>1414</td>\n",
       "    </tr>\n",
       "    <tr>\n",
       "      <th>GR</th>\n",
       "      <td>3</td>\n",
       "      <td>3</td>\n",
       "      <td>3</td>\n",
       "      <td>0</td>\n",
       "      <td>0</td>\n",
       "      <td>3</td>\n",
       "      <td>3</td>\n",
       "      <td>3</td>\n",
       "      <td>3</td>\n",
       "      <td>3</td>\n",
       "      <td>3</td>\n",
       "      <td>0</td>\n",
       "      <td>0</td>\n",
       "      <td>3</td>\n",
       "      <td>3</td>\n",
       "      <td>3</td>\n",
       "    </tr>\n",
       "    <tr>\n",
       "      <th>HK</th>\n",
       "      <td>2216</td>\n",
       "      <td>2216</td>\n",
       "      <td>2216</td>\n",
       "      <td>1867</td>\n",
       "      <td>1188</td>\n",
       "      <td>1925</td>\n",
       "      <td>7</td>\n",
       "      <td>2157</td>\n",
       "      <td>2157</td>\n",
       "      <td>2157</td>\n",
       "      <td>2061</td>\n",
       "      <td>0</td>\n",
       "      <td>0</td>\n",
       "      <td>2216</td>\n",
       "      <td>2216</td>\n",
       "      <td>2216</td>\n",
       "    </tr>\n",
       "    <tr>\n",
       "      <th>HU</th>\n",
       "      <td>12617</td>\n",
       "      <td>12617</td>\n",
       "      <td>12617</td>\n",
       "      <td>10793</td>\n",
       "      <td>3534</td>\n",
       "      <td>11172</td>\n",
       "      <td>333</td>\n",
       "      <td>12574</td>\n",
       "      <td>12574</td>\n",
       "      <td>12574</td>\n",
       "      <td>12520</td>\n",
       "      <td>0</td>\n",
       "      <td>0</td>\n",
       "      <td>12617</td>\n",
       "      <td>12617</td>\n",
       "      <td>12617</td>\n",
       "    </tr>\n",
       "    <tr>\n",
       "      <th>ID</th>\n",
       "      <td>857</td>\n",
       "      <td>857</td>\n",
       "      <td>857</td>\n",
       "      <td>857</td>\n",
       "      <td>579</td>\n",
       "      <td>857</td>\n",
       "      <td>56</td>\n",
       "      <td>851</td>\n",
       "      <td>851</td>\n",
       "      <td>851</td>\n",
       "      <td>761</td>\n",
       "      <td>0</td>\n",
       "      <td>0</td>\n",
       "      <td>857</td>\n",
       "      <td>857</td>\n",
       "      <td>857</td>\n",
       "    </tr>\n",
       "    <tr>\n",
       "      <th>IL</th>\n",
       "      <td>170</td>\n",
       "      <td>170</td>\n",
       "      <td>170</td>\n",
       "      <td>80</td>\n",
       "      <td>50</td>\n",
       "      <td>80</td>\n",
       "      <td>4</td>\n",
       "      <td>163</td>\n",
       "      <td>163</td>\n",
       "      <td>163</td>\n",
       "      <td>145</td>\n",
       "      <td>0</td>\n",
       "      <td>0</td>\n",
       "      <td>170</td>\n",
       "      <td>170</td>\n",
       "      <td>170</td>\n",
       "    </tr>\n",
       "    <tr>\n",
       "      <th>IN</th>\n",
       "      <td>30084</td>\n",
       "      <td>30084</td>\n",
       "      <td>30084</td>\n",
       "      <td>8990</td>\n",
       "      <td>902</td>\n",
       "      <td>27868</td>\n",
       "      <td>15982</td>\n",
       "      <td>29986</td>\n",
       "      <td>29986</td>\n",
       "      <td>29986</td>\n",
       "      <td>29750</td>\n",
       "      <td>10109</td>\n",
       "      <td>10109</td>\n",
       "      <td>30084</td>\n",
       "      <td>30084</td>\n",
       "      <td>30084</td>\n",
       "    </tr>\n",
       "    <tr>\n",
       "      <th>IS</th>\n",
       "      <td>126</td>\n",
       "      <td>126</td>\n",
       "      <td>126</td>\n",
       "      <td>63</td>\n",
       "      <td>30</td>\n",
       "      <td>66</td>\n",
       "      <td>6</td>\n",
       "      <td>114</td>\n",
       "      <td>114</td>\n",
       "      <td>114</td>\n",
       "      <td>102</td>\n",
       "      <td>0</td>\n",
       "      <td>0</td>\n",
       "      <td>126</td>\n",
       "      <td>126</td>\n",
       "      <td>126</td>\n",
       "    </tr>\n",
       "    <tr>\n",
       "      <th>JP</th>\n",
       "      <td>1366</td>\n",
       "      <td>1366</td>\n",
       "      <td>1366</td>\n",
       "      <td>1033</td>\n",
       "      <td>860</td>\n",
       "      <td>1046</td>\n",
       "      <td>23</td>\n",
       "      <td>1341</td>\n",
       "      <td>1341</td>\n",
       "      <td>1341</td>\n",
       "      <td>1224</td>\n",
       "      <td>45</td>\n",
       "      <td>45</td>\n",
       "      <td>1366</td>\n",
       "      <td>1366</td>\n",
       "      <td>1366</td>\n",
       "    </tr>\n",
       "    <tr>\n",
       "      <th>KE</th>\n",
       "      <td>800</td>\n",
       "      <td>800</td>\n",
       "      <td>800</td>\n",
       "      <td>734</td>\n",
       "      <td>388</td>\n",
       "      <td>771</td>\n",
       "      <td>23</td>\n",
       "      <td>786</td>\n",
       "      <td>786</td>\n",
       "      <td>786</td>\n",
       "      <td>771</td>\n",
       "      <td>0</td>\n",
       "      <td>0</td>\n",
       "      <td>800</td>\n",
       "      <td>800</td>\n",
       "      <td>800</td>\n",
       "    </tr>\n",
       "    <tr>\n",
       "      <th>KR</th>\n",
       "      <td>1418</td>\n",
       "      <td>1418</td>\n",
       "      <td>1418</td>\n",
       "      <td>1257</td>\n",
       "      <td>900</td>\n",
       "      <td>1304</td>\n",
       "      <td>11</td>\n",
       "      <td>1383</td>\n",
       "      <td>1383</td>\n",
       "      <td>1383</td>\n",
       "      <td>1071</td>\n",
       "      <td>92</td>\n",
       "      <td>92</td>\n",
       "      <td>1418</td>\n",
       "      <td>1418</td>\n",
       "      <td>1418</td>\n",
       "    </tr>\n",
       "    <tr>\n",
       "      <th>LI</th>\n",
       "      <td>26</td>\n",
       "      <td>26</td>\n",
       "      <td>26</td>\n",
       "      <td>26</td>\n",
       "      <td>8</td>\n",
       "      <td>26</td>\n",
       "      <td>2</td>\n",
       "      <td>23</td>\n",
       "      <td>23</td>\n",
       "      <td>23</td>\n",
       "      <td>23</td>\n",
       "      <td>0</td>\n",
       "      <td>0</td>\n",
       "      <td>26</td>\n",
       "      <td>26</td>\n",
       "      <td>26</td>\n",
       "    </tr>\n",
       "    <tr>\n",
       "      <th>LT</th>\n",
       "      <td>306</td>\n",
       "      <td>306</td>\n",
       "      <td>306</td>\n",
       "      <td>125</td>\n",
       "      <td>65</td>\n",
       "      <td>295</td>\n",
       "      <td>0</td>\n",
       "      <td>293</td>\n",
       "      <td>293</td>\n",
       "      <td>293</td>\n",
       "      <td>251</td>\n",
       "      <td>0</td>\n",
       "      <td>0</td>\n",
       "      <td>306</td>\n",
       "      <td>306</td>\n",
       "      <td>306</td>\n",
       "    </tr>\n",
       "    <tr>\n",
       "      <th>LU</th>\n",
       "      <td>548</td>\n",
       "      <td>548</td>\n",
       "      <td>548</td>\n",
       "      <td>338</td>\n",
       "      <td>299</td>\n",
       "      <td>341</td>\n",
       "      <td>12</td>\n",
       "      <td>539</td>\n",
       "      <td>539</td>\n",
       "      <td>539</td>\n",
       "      <td>440</td>\n",
       "      <td>2</td>\n",
       "      <td>2</td>\n",
       "      <td>548</td>\n",
       "      <td>548</td>\n",
       "      <td>548</td>\n",
       "    </tr>\n",
       "    <tr>\n",
       "      <th>MD</th>\n",
       "      <td>325</td>\n",
       "      <td>325</td>\n",
       "      <td>325</td>\n",
       "      <td>313</td>\n",
       "      <td>238</td>\n",
       "      <td>314</td>\n",
       "      <td>0</td>\n",
       "      <td>316</td>\n",
       "      <td>316</td>\n",
       "      <td>316</td>\n",
       "      <td>274</td>\n",
       "      <td>0</td>\n",
       "      <td>0</td>\n",
       "      <td>325</td>\n",
       "      <td>325</td>\n",
       "      <td>325</td>\n",
       "    </tr>\n",
       "    <tr>\n",
       "      <th>MX</th>\n",
       "      <td>294</td>\n",
       "      <td>294</td>\n",
       "      <td>294</td>\n",
       "      <td>95</td>\n",
       "      <td>54</td>\n",
       "      <td>227</td>\n",
       "      <td>137</td>\n",
       "      <td>273</td>\n",
       "      <td>273</td>\n",
       "      <td>273</td>\n",
       "      <td>252</td>\n",
       "      <td>1</td>\n",
       "      <td>1</td>\n",
       "      <td>294</td>\n",
       "      <td>294</td>\n",
       "      <td>294</td>\n",
       "    </tr>\n",
       "    <tr>\n",
       "      <th>MY</th>\n",
       "      <td>533</td>\n",
       "      <td>533</td>\n",
       "      <td>533</td>\n",
       "      <td>428</td>\n",
       "      <td>286</td>\n",
       "      <td>451</td>\n",
       "      <td>55</td>\n",
       "      <td>526</td>\n",
       "      <td>526</td>\n",
       "      <td>526</td>\n",
       "      <td>430</td>\n",
       "      <td>0</td>\n",
       "      <td>0</td>\n",
       "      <td>533</td>\n",
       "      <td>533</td>\n",
       "      <td>533</td>\n",
       "    </tr>\n",
       "    <tr>\n",
       "      <th>NL</th>\n",
       "      <td>2918</td>\n",
       "      <td>2918</td>\n",
       "      <td>2918</td>\n",
       "      <td>1145</td>\n",
       "      <td>1079</td>\n",
       "      <td>1931</td>\n",
       "      <td>717</td>\n",
       "      <td>2881</td>\n",
       "      <td>2881</td>\n",
       "      <td>2881</td>\n",
       "      <td>2522</td>\n",
       "      <td>0</td>\n",
       "      <td>0</td>\n",
       "      <td>2918</td>\n",
       "      <td>2918</td>\n",
       "      <td>2918</td>\n",
       "    </tr>\n",
       "    <tr>\n",
       "      <th>NO</th>\n",
       "      <td>696</td>\n",
       "      <td>696</td>\n",
       "      <td>696</td>\n",
       "      <td>270</td>\n",
       "      <td>240</td>\n",
       "      <td>330</td>\n",
       "      <td>67</td>\n",
       "      <td>681</td>\n",
       "      <td>681</td>\n",
       "      <td>681</td>\n",
       "      <td>555</td>\n",
       "      <td>0</td>\n",
       "      <td>0</td>\n",
       "      <td>696</td>\n",
       "      <td>696</td>\n",
       "      <td>696</td>\n",
       "    </tr>\n",
       "    <tr>\n",
       "      <th>NZ</th>\n",
       "      <td>790</td>\n",
       "      <td>790</td>\n",
       "      <td>790</td>\n",
       "      <td>649</td>\n",
       "      <td>457</td>\n",
       "      <td>733</td>\n",
       "      <td>71</td>\n",
       "      <td>760</td>\n",
       "      <td>760</td>\n",
       "      <td>760</td>\n",
       "      <td>706</td>\n",
       "      <td>0</td>\n",
       "      <td>0</td>\n",
       "      <td>790</td>\n",
       "      <td>790</td>\n",
       "      <td>790</td>\n",
       "    </tr>\n",
       "    <tr>\n",
       "      <th>PE</th>\n",
       "      <td>265</td>\n",
       "      <td>265</td>\n",
       "      <td>265</td>\n",
       "      <td>245</td>\n",
       "      <td>158</td>\n",
       "      <td>249</td>\n",
       "      <td>1</td>\n",
       "      <td>256</td>\n",
       "      <td>256</td>\n",
       "      <td>256</td>\n",
       "      <td>247</td>\n",
       "      <td>0</td>\n",
       "      <td>0</td>\n",
       "      <td>265</td>\n",
       "      <td>265</td>\n",
       "      <td>265</td>\n",
       "    </tr>\n",
       "    <tr>\n",
       "      <th>PL</th>\n",
       "      <td>311</td>\n",
       "      <td>311</td>\n",
       "      <td>311</td>\n",
       "      <td>149</td>\n",
       "      <td>117</td>\n",
       "      <td>149</td>\n",
       "      <td>8</td>\n",
       "      <td>299</td>\n",
       "      <td>299</td>\n",
       "      <td>299</td>\n",
       "      <td>284</td>\n",
       "      <td>0</td>\n",
       "      <td>0</td>\n",
       "      <td>311</td>\n",
       "      <td>311</td>\n",
       "      <td>311</td>\n",
       "    </tr>\n",
       "    <tr>\n",
       "      <th>PT</th>\n",
       "      <td>181</td>\n",
       "      <td>181</td>\n",
       "      <td>181</td>\n",
       "      <td>168</td>\n",
       "      <td>99</td>\n",
       "      <td>180</td>\n",
       "      <td>19</td>\n",
       "      <td>166</td>\n",
       "      <td>166</td>\n",
       "      <td>166</td>\n",
       "      <td>148</td>\n",
       "      <td>0</td>\n",
       "      <td>0</td>\n",
       "      <td>181</td>\n",
       "      <td>181</td>\n",
       "      <td>181</td>\n",
       "    </tr>\n",
       "    <tr>\n",
       "      <th>RO</th>\n",
       "      <td>606</td>\n",
       "      <td>606</td>\n",
       "      <td>606</td>\n",
       "      <td>289</td>\n",
       "      <td>137</td>\n",
       "      <td>289</td>\n",
       "      <td>0</td>\n",
       "      <td>602</td>\n",
       "      <td>602</td>\n",
       "      <td>602</td>\n",
       "      <td>581</td>\n",
       "      <td>0</td>\n",
       "      <td>0</td>\n",
       "      <td>606</td>\n",
       "      <td>606</td>\n",
       "      <td>606</td>\n",
       "    </tr>\n",
       "    <tr>\n",
       "      <th>RS</th>\n",
       "      <td>114</td>\n",
       "      <td>114</td>\n",
       "      <td>114</td>\n",
       "      <td>54</td>\n",
       "      <td>54</td>\n",
       "      <td>106</td>\n",
       "      <td>15</td>\n",
       "      <td>111</td>\n",
       "      <td>111</td>\n",
       "      <td>111</td>\n",
       "      <td>72</td>\n",
       "      <td>0</td>\n",
       "      <td>0</td>\n",
       "      <td>114</td>\n",
       "      <td>114</td>\n",
       "      <td>114</td>\n",
       "    </tr>\n",
       "    <tr>\n",
       "      <th>RU</th>\n",
       "      <td>1340</td>\n",
       "      <td>1340</td>\n",
       "      <td>1340</td>\n",
       "      <td>1273</td>\n",
       "      <td>457</td>\n",
       "      <td>1273</td>\n",
       "      <td>72</td>\n",
       "      <td>1320</td>\n",
       "      <td>1320</td>\n",
       "      <td>1320</td>\n",
       "      <td>1152</td>\n",
       "      <td>9</td>\n",
       "      <td>9</td>\n",
       "      <td>1340</td>\n",
       "      <td>1340</td>\n",
       "      <td>1340</td>\n",
       "    </tr>\n",
       "    <tr>\n",
       "      <th>SA</th>\n",
       "      <td>141</td>\n",
       "      <td>141</td>\n",
       "      <td>141</td>\n",
       "      <td>141</td>\n",
       "      <td>27</td>\n",
       "      <td>141</td>\n",
       "      <td>0</td>\n",
       "      <td>141</td>\n",
       "      <td>141</td>\n",
       "      <td>141</td>\n",
       "      <td>141</td>\n",
       "      <td>0</td>\n",
       "      <td>0</td>\n",
       "      <td>141</td>\n",
       "      <td>141</td>\n",
       "      <td>141</td>\n",
       "    </tr>\n",
       "    <tr>\n",
       "      <th>SC</th>\n",
       "      <td>278</td>\n",
       "      <td>278</td>\n",
       "      <td>278</td>\n",
       "      <td>254</td>\n",
       "      <td>168</td>\n",
       "      <td>273</td>\n",
       "      <td>0</td>\n",
       "      <td>258</td>\n",
       "      <td>258</td>\n",
       "      <td>258</td>\n",
       "      <td>258</td>\n",
       "      <td>0</td>\n",
       "      <td>0</td>\n",
       "      <td>278</td>\n",
       "      <td>278</td>\n",
       "      <td>278</td>\n",
       "    </tr>\n",
       "    <tr>\n",
       "      <th>SE</th>\n",
       "      <td>1786</td>\n",
       "      <td>1786</td>\n",
       "      <td>1786</td>\n",
       "      <td>450</td>\n",
       "      <td>387</td>\n",
       "      <td>457</td>\n",
       "      <td>7</td>\n",
       "      <td>1779</td>\n",
       "      <td>1779</td>\n",
       "      <td>1779</td>\n",
       "      <td>1578</td>\n",
       "      <td>0</td>\n",
       "      <td>0</td>\n",
       "      <td>1786</td>\n",
       "      <td>1786</td>\n",
       "      <td>1786</td>\n",
       "    </tr>\n",
       "    <tr>\n",
       "      <th>SG</th>\n",
       "      <td>161</td>\n",
       "      <td>161</td>\n",
       "      <td>161</td>\n",
       "      <td>158</td>\n",
       "      <td>110</td>\n",
       "      <td>158</td>\n",
       "      <td>22</td>\n",
       "      <td>152</td>\n",
       "      <td>152</td>\n",
       "      <td>152</td>\n",
       "      <td>108</td>\n",
       "      <td>0</td>\n",
       "      <td>0</td>\n",
       "      <td>161</td>\n",
       "      <td>161</td>\n",
       "      <td>161</td>\n",
       "    </tr>\n",
       "    <tr>\n",
       "      <th>SK</th>\n",
       "      <td>405</td>\n",
       "      <td>405</td>\n",
       "      <td>405</td>\n",
       "      <td>390</td>\n",
       "      <td>256</td>\n",
       "      <td>390</td>\n",
       "      <td>3</td>\n",
       "      <td>397</td>\n",
       "      <td>397</td>\n",
       "      <td>397</td>\n",
       "      <td>343</td>\n",
       "      <td>0</td>\n",
       "      <td>0</td>\n",
       "      <td>405</td>\n",
       "      <td>405</td>\n",
       "      <td>405</td>\n",
       "    </tr>\n",
       "    <tr>\n",
       "      <th>TR</th>\n",
       "      <td>115</td>\n",
       "      <td>115</td>\n",
       "      <td>115</td>\n",
       "      <td>115</td>\n",
       "      <td>58</td>\n",
       "      <td>115</td>\n",
       "      <td>4</td>\n",
       "      <td>114</td>\n",
       "      <td>114</td>\n",
       "      <td>114</td>\n",
       "      <td>94</td>\n",
       "      <td>0</td>\n",
       "      <td>0</td>\n",
       "      <td>115</td>\n",
       "      <td>115</td>\n",
       "      <td>115</td>\n",
       "    </tr>\n",
       "    <tr>\n",
       "      <th>TW</th>\n",
       "      <td>826</td>\n",
       "      <td>826</td>\n",
       "      <td>826</td>\n",
       "      <td>655</td>\n",
       "      <td>469</td>\n",
       "      <td>790</td>\n",
       "      <td>6</td>\n",
       "      <td>793</td>\n",
       "      <td>793</td>\n",
       "      <td>793</td>\n",
       "      <td>745</td>\n",
       "      <td>0</td>\n",
       "      <td>0</td>\n",
       "      <td>826</td>\n",
       "      <td>826</td>\n",
       "      <td>826</td>\n",
       "    </tr>\n",
       "    <tr>\n",
       "      <th>UA</th>\n",
       "      <td>3925</td>\n",
       "      <td>3925</td>\n",
       "      <td>3925</td>\n",
       "      <td>3849</td>\n",
       "      <td>656</td>\n",
       "      <td>3867</td>\n",
       "      <td>7</td>\n",
       "      <td>3862</td>\n",
       "      <td>3862</td>\n",
       "      <td>3862</td>\n",
       "      <td>3834</td>\n",
       "      <td>0</td>\n",
       "      <td>0</td>\n",
       "      <td>3925</td>\n",
       "      <td>3925</td>\n",
       "      <td>3925</td>\n",
       "    </tr>\n",
       "    <tr>\n",
       "      <th>US</th>\n",
       "      <td>34299</td>\n",
       "      <td>34299</td>\n",
       "      <td>34299</td>\n",
       "      <td>11817</td>\n",
       "      <td>8604</td>\n",
       "      <td>24643</td>\n",
       "      <td>11796</td>\n",
       "      <td>33366</td>\n",
       "      <td>33366</td>\n",
       "      <td>33366</td>\n",
       "      <td>30873</td>\n",
       "      <td>26</td>\n",
       "      <td>26</td>\n",
       "      <td>34299</td>\n",
       "      <td>34299</td>\n",
       "      <td>34299</td>\n",
       "    </tr>\n",
       "    <tr>\n",
       "      <th>VE</th>\n",
       "      <td>54</td>\n",
       "      <td>54</td>\n",
       "      <td>54</td>\n",
       "      <td>26</td>\n",
       "      <td>25</td>\n",
       "      <td>31</td>\n",
       "      <td>3</td>\n",
       "      <td>54</td>\n",
       "      <td>54</td>\n",
       "      <td>54</td>\n",
       "      <td>42</td>\n",
       "      <td>21</td>\n",
       "      <td>21</td>\n",
       "      <td>54</td>\n",
       "      <td>54</td>\n",
       "      <td>54</td>\n",
       "    </tr>\n",
       "    <tr>\n",
       "      <th>VN</th>\n",
       "      <td>1663</td>\n",
       "      <td>1663</td>\n",
       "      <td>1663</td>\n",
       "      <td>1374</td>\n",
       "      <td>136</td>\n",
       "      <td>1376</td>\n",
       "      <td>3</td>\n",
       "      <td>1657</td>\n",
       "      <td>1657</td>\n",
       "      <td>1657</td>\n",
       "      <td>1605</td>\n",
       "      <td>56</td>\n",
       "      <td>56</td>\n",
       "      <td>1663</td>\n",
       "      <td>1663</td>\n",
       "      <td>1663</td>\n",
       "    </tr>\n",
       "    <tr>\n",
       "      <th>ZA</th>\n",
       "      <td>470</td>\n",
       "      <td>470</td>\n",
       "      <td>470</td>\n",
       "      <td>388</td>\n",
       "      <td>290</td>\n",
       "      <td>459</td>\n",
       "      <td>55</td>\n",
       "      <td>451</td>\n",
       "      <td>451</td>\n",
       "      <td>451</td>\n",
       "      <td>436</td>\n",
       "      <td>1</td>\n",
       "      <td>1</td>\n",
       "      <td>470</td>\n",
       "      <td>470</td>\n",
       "      <td>470</td>\n",
       "    </tr>\n",
       "  </tbody>\n",
       "</table>\n",
       "</div>"
      ],
      "text/plain": [
       "         server_t  schedule_name    url    dns  dns_reason  dns_all  \\\n",
       "country                                                               \n",
       "AD              6              6      6      6           5        6   \n",
       "AT            259            259    259      3           1       35   \n",
       "AU           1800           1800   1800   1243         881     1356   \n",
       "BE            211            211    211    100          97      101   \n",
       "BG            550            550    550    522         213      525   \n",
       "BR           6740           6740   6740   5705        2382     6360   \n",
       "BZ            293            293    293     45          43       45   \n",
       "CA           1008           1008   1008    155          49      364   \n",
       "CL           1867           1867   1867   1580         376     1635   \n",
       "CN            364            364    364    334         252      336   \n",
       "CO            533            533    533    508         314      509   \n",
       "CR             41             41     41      0           0       39   \n",
       "CZ            102            102    102     59          22       59   \n",
       "DK            292            292    292    181         141      181   \n",
       "DZ            262            262    262    109          67      109   \n",
       "ES            325            325    325    304         182      304   \n",
       "FI             75             75     75     33          31       75   \n",
       "FR           1414           1414   1414    528         296      582   \n",
       "GR              3              3      3      0           0        3   \n",
       "HK           2216           2216   2216   1867        1188     1925   \n",
       "HU          12617          12617  12617  10793        3534    11172   \n",
       "ID            857            857    857    857         579      857   \n",
       "IL            170            170    170     80          50       80   \n",
       "IN          30084          30084  30084   8990         902    27868   \n",
       "IS            126            126    126     63          30       66   \n",
       "JP           1366           1366   1366   1033         860     1046   \n",
       "KE            800            800    800    734         388      771   \n",
       "KR           1418           1418   1418   1257         900     1304   \n",
       "LI             26             26     26     26           8       26   \n",
       "LT            306            306    306    125          65      295   \n",
       "LU            548            548    548    338         299      341   \n",
       "MD            325            325    325    313         238      314   \n",
       "MX            294            294    294     95          54      227   \n",
       "MY            533            533    533    428         286      451   \n",
       "NL           2918           2918   2918   1145        1079     1931   \n",
       "NO            696            696    696    270         240      330   \n",
       "NZ            790            790    790    649         457      733   \n",
       "PE            265            265    265    245         158      249   \n",
       "PL            311            311    311    149         117      149   \n",
       "PT            181            181    181    168          99      180   \n",
       "RO            606            606    606    289         137      289   \n",
       "RS            114            114    114     54          54      106   \n",
       "RU           1340           1340   1340   1273         457     1273   \n",
       "SA            141            141    141    141          27      141   \n",
       "SC            278            278    278    254         168      273   \n",
       "SE           1786           1786   1786    450         387      457   \n",
       "SG            161            161    161    158         110      158   \n",
       "SK            405            405    405    390         256      390   \n",
       "TR            115            115    115    115          58      115   \n",
       "TW            826            826    826    655         469      790   \n",
       "UA           3925           3925   3925   3849         656     3867   \n",
       "US          34299          34299  34299  11817        8604    24643   \n",
       "VE             54             54     54     26          25       31   \n",
       "VN           1663           1663   1663   1374         136     1376   \n",
       "ZA            470            470    470    388         290      459   \n",
       "\n",
       "         dns_reason_all  http_status  block  body_len  http_reason  \\\n",
       "country                                                              \n",
       "AD                    2            6      6         6            0   \n",
       "AT                   30          257    257       257          257   \n",
       "AU                  106         1742   1742      1742         1649   \n",
       "BE                    1          210    210       210          192   \n",
       "BG                    0          529    529       529          487   \n",
       "BR                  516         6677   6677      6677         6677   \n",
       "BZ                    0          293    293       293          265   \n",
       "CA                  196         1007   1007      1007          947   \n",
       "CL                    0         1850   1850      1850         1811   \n",
       "CN                    0          342    342       342          274   \n",
       "CO                    2          498    498       498          486   \n",
       "CR                   36           41     41        41           41   \n",
       "CZ                    2           99     99        99           87   \n",
       "DK                    7          283    283       283          247   \n",
       "DZ                    0          258    258       258          246   \n",
       "ES                    0          319    319       319          271   \n",
       "FI                   36           73     73        73           49   \n",
       "FR                   71         1409   1409      1409         1247   \n",
       "GR                    3            3      3         3            3   \n",
       "HK                    7         2157   2157      2157         2061   \n",
       "HU                  333        12574  12574     12574        12520   \n",
       "ID                   56          851    851       851          761   \n",
       "IL                    4          163    163       163          145   \n",
       "IN                15982        29986  29986     29986        29750   \n",
       "IS                    6          114    114       114          102   \n",
       "JP                   23         1341   1341      1341         1224   \n",
       "KE                   23          786    786       786          771   \n",
       "KR                   11         1383   1383      1383         1071   \n",
       "LI                    2           23     23        23           23   \n",
       "LT                    0          293    293       293          251   \n",
       "LU                   12          539    539       539          440   \n",
       "MD                    0          316    316       316          274   \n",
       "MX                  137          273    273       273          252   \n",
       "MY                   55          526    526       526          430   \n",
       "NL                  717         2881   2881      2881         2522   \n",
       "NO                   67          681    681       681          555   \n",
       "NZ                   71          760    760       760          706   \n",
       "PE                    1          256    256       256          247   \n",
       "PL                    8          299    299       299          284   \n",
       "PT                   19          166    166       166          148   \n",
       "RO                    0          602    602       602          581   \n",
       "RS                   15          111    111       111           72   \n",
       "RU                   72         1320   1320      1320         1152   \n",
       "SA                    0          141    141       141          141   \n",
       "SC                    0          258    258       258          258   \n",
       "SE                    7         1779   1779      1779         1578   \n",
       "SG                   22          152    152       152          108   \n",
       "SK                    3          397    397       397          343   \n",
       "TR                    4          114    114       114           94   \n",
       "TW                    6          793    793       793          745   \n",
       "UA                    7         3862   3862      3862         3834   \n",
       "US                11796        33366  33366     33366        30873   \n",
       "VE                    3           54     54        54           42   \n",
       "VN                    3         1657   1657      1657         1605   \n",
       "ZA                   55          451    451       451          436   \n",
       "\n",
       "         packet_updated  packet_reason  censored_updated   site  category  \n",
       "country                                                                    \n",
       "AD                    0              0                 6      6         6  \n",
       "AT                    0              0               259    259       259  \n",
       "AU                    0              0              1800   1800      1800  \n",
       "BE                    0              0               211    211       211  \n",
       "BG                    0              0               550    550       550  \n",
       "BR                   25             25              6740   6740      6740  \n",
       "BZ                    0              0               293    293       293  \n",
       "CA                    0              0              1008   1008      1008  \n",
       "CL                   24             24              1867   1867      1867  \n",
       "CN                    4              4               364    364       364  \n",
       "CO                    0              0               533    533       533  \n",
       "CR                    0              0                41     41        41  \n",
       "CZ                    0              0               102    102       102  \n",
       "DK                    0              0               292    292       292  \n",
       "DZ                    0              0               262    262       262  \n",
       "ES                    1              1               325    325       325  \n",
       "FI                    0              0                75     75        75  \n",
       "FR                    0              0              1414   1414      1414  \n",
       "GR                    0              0                 3      3         3  \n",
       "HK                    0              0              2216   2216      2216  \n",
       "HU                    0              0             12617  12617     12617  \n",
       "ID                    0              0               857    857       857  \n",
       "IL                    0              0               170    170       170  \n",
       "IN                10109          10109             30084  30084     30084  \n",
       "IS                    0              0               126    126       126  \n",
       "JP                   45             45              1366   1366      1366  \n",
       "KE                    0              0               800    800       800  \n",
       "KR                   92             92              1418   1418      1418  \n",
       "LI                    0              0                26     26        26  \n",
       "LT                    0              0               306    306       306  \n",
       "LU                    2              2               548    548       548  \n",
       "MD                    0              0               325    325       325  \n",
       "MX                    1              1               294    294       294  \n",
       "MY                    0              0               533    533       533  \n",
       "NL                    0              0              2918   2918      2918  \n",
       "NO                    0              0               696    696       696  \n",
       "NZ                    0              0               790    790       790  \n",
       "PE                    0              0               265    265       265  \n",
       "PL                    0              0               311    311       311  \n",
       "PT                    0              0               181    181       181  \n",
       "RO                    0              0               606    606       606  \n",
       "RS                    0              0               114    114       114  \n",
       "RU                    9              9              1340   1340      1340  \n",
       "SA                    0              0               141    141       141  \n",
       "SC                    0              0               278    278       278  \n",
       "SE                    0              0              1786   1786      1786  \n",
       "SG                    0              0               161    161       161  \n",
       "SK                    0              0               405    405       405  \n",
       "TR                    0              0               115    115       115  \n",
       "TW                    0              0               826    826       826  \n",
       "UA                    0              0              3925   3925      3925  \n",
       "US                   26             26             34299  34299     34299  \n",
       "VE                   21             21                54     54        54  \n",
       "VN                   56             56              1663   1663      1663  \n",
       "ZA                    1              1               470    470       470  "
      ]
     },
     "execution_count": 15,
     "metadata": {},
     "output_type": "execute_result"
    }
   ],
   "source": [
    "iclabCLEAN[iclabCLEAN['url'].str.contains('facebook')].groupby('country').count()"
   ]
  },
  {
   "cell_type": "markdown",
   "metadata": {
    "colab_type": "text",
    "id": "9ErdMJwtJQ1B"
   },
   "source": [
    "A look into religious censorship in the world"
   ]
  },
  {
   "cell_type": "code",
   "execution_count": 16,
   "metadata": {
    "colab": {},
    "colab_type": "code",
    "id": "Ola8uwaFJQ1B",
    "scrolled": true
   },
   "outputs": [
    {
     "data": {
      "text/html": [
       "<div>\n",
       "<style scoped>\n",
       "    .dataframe tbody tr th:only-of-type {\n",
       "        vertical-align: middle;\n",
       "    }\n",
       "\n",
       "    .dataframe tbody tr th {\n",
       "        vertical-align: top;\n",
       "    }\n",
       "\n",
       "    .dataframe thead th {\n",
       "        text-align: right;\n",
       "    }\n",
       "</style>\n",
       "<table border=\"1\" class=\"dataframe\">\n",
       "  <thead>\n",
       "    <tr style=\"text-align: right;\">\n",
       "      <th></th>\n",
       "      <th></th>\n",
       "      <th>server_t</th>\n",
       "      <th>schedule_name</th>\n",
       "      <th>url</th>\n",
       "      <th>dns</th>\n",
       "      <th>dns_reason</th>\n",
       "      <th>dns_all</th>\n",
       "      <th>dns_reason_all</th>\n",
       "      <th>http_status</th>\n",
       "      <th>block</th>\n",
       "      <th>body_len</th>\n",
       "      <th>http_reason</th>\n",
       "      <th>packet_updated</th>\n",
       "      <th>packet_reason</th>\n",
       "      <th>censored_updated</th>\n",
       "      <th>category</th>\n",
       "    </tr>\n",
       "    <tr>\n",
       "      <th>country</th>\n",
       "      <th>site</th>\n",
       "      <th></th>\n",
       "      <th></th>\n",
       "      <th></th>\n",
       "      <th></th>\n",
       "      <th></th>\n",
       "      <th></th>\n",
       "      <th></th>\n",
       "      <th></th>\n",
       "      <th></th>\n",
       "      <th></th>\n",
       "      <th></th>\n",
       "      <th></th>\n",
       "      <th></th>\n",
       "      <th></th>\n",
       "      <th></th>\n",
       "    </tr>\n",
       "  </thead>\n",
       "  <tbody>\n",
       "    <tr>\n",
       "      <th>CN</th>\n",
       "      <th>cefc.org</th>\n",
       "      <td>2018-06-29T12:46:51.538Z</td>\n",
       "      <td>country-sensitive-cn</td>\n",
       "      <td>http://cefc.org/</td>\n",
       "      <td>False</td>\n",
       "      <td>no_control_node</td>\n",
       "      <td>False</td>\n",
       "      <td>NaN</td>\n",
       "      <td>403.0</td>\n",
       "      <td>True</td>\n",
       "      <td>3031.0</td>\n",
       "      <td>HTTP body contains [\\u003ctitle\\u003eWeb Site ...</td>\n",
       "      <td>NaN</td>\n",
       "      <td>NaN</td>\n",
       "      <td>True</td>\n",
       "      <td>Global Religion</td>\n",
       "    </tr>\n",
       "    <tr>\n",
       "      <th>FR</th>\n",
       "      <th>khilafah.net</th>\n",
       "      <td>2017-03-30T04:29:38.024Z</td>\n",
       "      <td>citizenlab-global</td>\n",
       "      <td>http://khilafah.net/</td>\n",
       "      <td>False</td>\n",
       "      <td>not_violate_threshold</td>\n",
       "      <td>False</td>\n",
       "      <td>NaN</td>\n",
       "      <td>200.0</td>\n",
       "      <td>True</td>\n",
       "      <td>3737.0</td>\n",
       "      <td>HTTP body contains [xtpage = \\\"\"page-blocage-t...</td>\n",
       "      <td>NaN</td>\n",
       "      <td>NaN</td>\n",
       "      <td>True</td>\n",
       "      <td>Global Religion</td>\n",
       "    </tr>\n",
       "    <tr>\n",
       "      <th rowspan=\"5\" valign=\"top\">IN</th>\n",
       "      <th>ethiomuslimsmedia.com</th>\n",
       "      <td>2017-04-09T21:04:05.009Z</td>\n",
       "      <td>country-sensitive-in</td>\n",
       "      <td>http://ethiomuslimsmedia.com/index.php/news-pa...</td>\n",
       "      <td>False</td>\n",
       "      <td>NaN</td>\n",
       "      <td>False</td>\n",
       "      <td>sameip</td>\n",
       "      <td>200.0</td>\n",
       "      <td>True</td>\n",
       "      <td>3045.0</td>\n",
       "      <td>HTTP body contains [The page you have requeste...</td>\n",
       "      <td>NaN</td>\n",
       "      <td>NaN</td>\n",
       "      <td>True</td>\n",
       "      <td>Global Religion</td>\n",
       "    </tr>\n",
       "    <tr>\n",
       "      <th>hinduhumanrights.org</th>\n",
       "      <td>2017-03-09T09:45:35.370Z</td>\n",
       "      <td>country-sensitive-in</td>\n",
       "      <td>http://www.hinduhumanrights.org/hindufocus.html</td>\n",
       "      <td>NaN</td>\n",
       "      <td>NaN</td>\n",
       "      <td>False</td>\n",
       "      <td>sameip</td>\n",
       "      <td>200.0</td>\n",
       "      <td>True</td>\n",
       "      <td>748.0</td>\n",
       "      <td>HTTP body contains [\\\\u003ciframe src=\\\"\"http:...</td>\n",
       "      <td>NaN</td>\n",
       "      <td>NaN</td>\n",
       "      <td>True</td>\n",
       "      <td>Global Religion</td>\n",
       "    </tr>\n",
       "    <tr>\n",
       "      <th>isaalmasih.net</th>\n",
       "      <td>2017-06-23T21:16:18.708Z</td>\n",
       "      <td>citizenlab-global</td>\n",
       "      <td>http://isaalmasih.net/</td>\n",
       "      <td>NaN</td>\n",
       "      <td>NaN</td>\n",
       "      <td>False</td>\n",
       "      <td>NaN</td>\n",
       "      <td>200.0</td>\n",
       "      <td>False</td>\n",
       "      <td>10096.0</td>\n",
       "      <td>{}</td>\n",
       "      <td>True</td>\n",
       "      <td>Data after FIN</td>\n",
       "      <td>True</td>\n",
       "      <td>Global Religion</td>\n",
       "    </tr>\n",
       "    <tr>\n",
       "      <th>khilafah.com</th>\n",
       "      <td>2017-03-09T09:45:35.370Z</td>\n",
       "      <td>citizenlab-global</td>\n",
       "      <td>http://www.khilafah.com/</td>\n",
       "      <td>NaN</td>\n",
       "      <td>NaN</td>\n",
       "      <td>False</td>\n",
       "      <td>sameip</td>\n",
       "      <td>200.0</td>\n",
       "      <td>True</td>\n",
       "      <td>135.0</td>\n",
       "      <td>HTTP body contains [Your requested URL has bee...</td>\n",
       "      <td>NaN</td>\n",
       "      <td>NaN</td>\n",
       "      <td>True</td>\n",
       "      <td>Global Religion</td>\n",
       "    </tr>\n",
       "    <tr>\n",
       "      <th>khilafah.net</th>\n",
       "      <td>2017-03-09T09:45:35.370Z</td>\n",
       "      <td>citizenlab-global</td>\n",
       "      <td>http://khilafah.net/</td>\n",
       "      <td>NaN</td>\n",
       "      <td>NaN</td>\n",
       "      <td>False</td>\n",
       "      <td>sameip</td>\n",
       "      <td>200.0</td>\n",
       "      <td>True</td>\n",
       "      <td>716.0</td>\n",
       "      <td>HTTP body contains [\\\\u003ciframe src=\\\"\"http:...</td>\n",
       "      <td>True</td>\n",
       "      <td>Data after RST</td>\n",
       "      <td>True</td>\n",
       "      <td>Global Religion</td>\n",
       "    </tr>\n",
       "    <tr>\n",
       "      <th rowspan=\"8\" valign=\"top\">KR</th>\n",
       "      <th>debate.org.uk</th>\n",
       "      <td>2017-01-10T00:10:37.747Z</td>\n",
       "      <td>citizenlab-global</td>\n",
       "      <td>http://debate.org.uk</td>\n",
       "      <td>False</td>\n",
       "      <td>sameip</td>\n",
       "      <td>False</td>\n",
       "      <td>NaN</td>\n",
       "      <td>200.0</td>\n",
       "      <td>False</td>\n",
       "      <td>44299.0</td>\n",
       "      <td>NaN</td>\n",
       "      <td>True</td>\n",
       "      <td>Payload collision</td>\n",
       "      <td>True</td>\n",
       "      <td>Global Religion</td>\n",
       "    </tr>\n",
       "    <tr>\n",
       "      <th>emchurch.org</th>\n",
       "      <td>2017-01-10T00:10:37.747Z</td>\n",
       "      <td>citizenlab-global</td>\n",
       "      <td>http://www.emchurch.org</td>\n",
       "      <td>False</td>\n",
       "      <td>sameip</td>\n",
       "      <td>False</td>\n",
       "      <td>sameip</td>\n",
       "      <td>403.0</td>\n",
       "      <td>False</td>\n",
       "      <td>362.0</td>\n",
       "      <td>HTTP body contains [\\u003ciframe id=\\\"\"f\\\"\"fra...</td>\n",
       "      <td>True</td>\n",
       "      <td>Payload collision</td>\n",
       "      <td>True</td>\n",
       "      <td>Global Religion</td>\n",
       "    </tr>\n",
       "    <tr>\n",
       "      <th>iarf.net</th>\n",
       "      <td>2017-01-10T00:10:37.747Z</td>\n",
       "      <td>citizenlab-global</td>\n",
       "      <td>http://www.iarf.net</td>\n",
       "      <td>False</td>\n",
       "      <td>NaN</td>\n",
       "      <td>False</td>\n",
       "      <td>NaN</td>\n",
       "      <td>200.0</td>\n",
       "      <td>False</td>\n",
       "      <td>350.0</td>\n",
       "      <td>HTTP body contains [\\u003ciframe id=\\\"\"f\\\"\"fra...</td>\n",
       "      <td>True</td>\n",
       "      <td>Payload collision</td>\n",
       "      <td>True</td>\n",
       "      <td>Global Religion</td>\n",
       "    </tr>\n",
       "    <tr>\n",
       "      <th>infidels.org</th>\n",
       "      <td>2017-01-10T00:10:37.747Z</td>\n",
       "      <td>citizenlab-global</td>\n",
       "      <td>http://www.infidels.org</td>\n",
       "      <td>False</td>\n",
       "      <td>sameip</td>\n",
       "      <td>False</td>\n",
       "      <td>NaN</td>\n",
       "      <td>200.0</td>\n",
       "      <td>False</td>\n",
       "      <td>16748.0</td>\n",
       "      <td>NaN</td>\n",
       "      <td>True</td>\n",
       "      <td>Payload collision</td>\n",
       "      <td>True</td>\n",
       "      <td>Global Religion</td>\n",
       "    </tr>\n",
       "    <tr>\n",
       "      <th>islaminstitut.de</th>\n",
       "      <td>2017-01-13T00:19:19.932Z</td>\n",
       "      <td>citizenlab-global</td>\n",
       "      <td>http://islaminstitut.de</td>\n",
       "      <td>False</td>\n",
       "      <td>sameip</td>\n",
       "      <td>False</td>\n",
       "      <td>NaN</td>\n",
       "      <td>200.0</td>\n",
       "      <td>False</td>\n",
       "      <td>29763.0</td>\n",
       "      <td>NaN</td>\n",
       "      <td>True</td>\n",
       "      <td>Payload collision</td>\n",
       "      <td>True</td>\n",
       "      <td>Global Religion</td>\n",
       "    </tr>\n",
       "    <tr>\n",
       "      <th>islamonline.net</th>\n",
       "      <td>2017-01-03T00:17:24.763Z</td>\n",
       "      <td>citizenlab-global</td>\n",
       "      <td>http://www.islamonline.net</td>\n",
       "      <td>False</td>\n",
       "      <td>sameip</td>\n",
       "      <td>False</td>\n",
       "      <td>NaN</td>\n",
       "      <td>403.0</td>\n",
       "      <td>False</td>\n",
       "      <td>373.0</td>\n",
       "      <td>HTTP body contains [\\u003ciframe id=\\\"\"f\\\"\"fra...</td>\n",
       "      <td>True</td>\n",
       "      <td>Payload collision</td>\n",
       "      <td>True</td>\n",
       "      <td>Global Religion</td>\n",
       "    </tr>\n",
       "    <tr>\n",
       "      <th>jainworld.com</th>\n",
       "      <td>2017-01-18T00:15:46.119Z</td>\n",
       "      <td>citizenlab-global</td>\n",
       "      <td>http://www.jainworld.com</td>\n",
       "      <td>False</td>\n",
       "      <td>sameip</td>\n",
       "      <td>False</td>\n",
       "      <td>NaN</td>\n",
       "      <td>200.0</td>\n",
       "      <td>False</td>\n",
       "      <td>354.0</td>\n",
       "      <td>HTTP body contains [\\u003ciframe id=\\\"\"f\\\"\"fra...</td>\n",
       "      <td>True</td>\n",
       "      <td>Payload collision</td>\n",
       "      <td>True</td>\n",
       "      <td>Global Religion</td>\n",
       "    </tr>\n",
       "    <tr>\n",
       "      <th>torah.org</th>\n",
       "      <td>2017-01-03T00:17:24.763Z</td>\n",
       "      <td>citizenlab-global</td>\n",
       "      <td>http://www.torah.org</td>\n",
       "      <td>False</td>\n",
       "      <td>sameip</td>\n",
       "      <td>False</td>\n",
       "      <td>NaN</td>\n",
       "      <td>403.0</td>\n",
       "      <td>False</td>\n",
       "      <td>359.0</td>\n",
       "      <td>HTTP body contains [\\u003ciframe id=\\\"\"f\\\"\"fra...</td>\n",
       "      <td>True</td>\n",
       "      <td>Payload collision</td>\n",
       "      <td>True</td>\n",
       "      <td>Global Religion</td>\n",
       "    </tr>\n",
       "    <tr>\n",
       "      <th rowspan=\"4\" valign=\"top\">NL</th>\n",
       "      <th>christwire.org</th>\n",
       "      <td>2017-01-24T04:59:43.594Z</td>\n",
       "      <td>citizenlab-global</td>\n",
       "      <td>http://christwire.org</td>\n",
       "      <td>NaN</td>\n",
       "      <td>NaN</td>\n",
       "      <td>NaN</td>\n",
       "      <td>NaN</td>\n",
       "      <td>200.0</td>\n",
       "      <td>False</td>\n",
       "      <td>61841.0</td>\n",
       "      <td>NaN</td>\n",
       "      <td>True</td>\n",
       "      <td>Data after RST</td>\n",
       "      <td>True</td>\n",
       "      <td>Global Religion</td>\n",
       "    </tr>\n",
       "    <tr>\n",
       "      <th>hizb-ut-tahrir.org</th>\n",
       "      <td>2017-07-18T03:27:09.971Z</td>\n",
       "      <td>citizenlab-global</td>\n",
       "      <td>http://www.hizb-ut-tahrir.org/</td>\n",
       "      <td>NaN</td>\n",
       "      <td>NaN</td>\n",
       "      <td>NaN</td>\n",
       "      <td>NaN</td>\n",
       "      <td>403.0</td>\n",
       "      <td>False</td>\n",
       "      <td>3303.0</td>\n",
       "      <td>{}</td>\n",
       "      <td>True</td>\n",
       "      <td>Data after RST</td>\n",
       "      <td>True</td>\n",
       "      <td>Global Religion</td>\n",
       "    </tr>\n",
       "    <tr>\n",
       "      <th>khilafah.net</th>\n",
       "      <td>2017-12-31T13:37:30.925Z</td>\n",
       "      <td>citizenlab-global</td>\n",
       "      <td>http://khilafah.net/</td>\n",
       "      <td>NaN</td>\n",
       "      <td>NaN</td>\n",
       "      <td>NaN</td>\n",
       "      <td>NaN</td>\n",
       "      <td>-1.0</td>\n",
       "      <td>False</td>\n",
       "      <td>0.0</td>\n",
       "      <td>{}</td>\n",
       "      <td>True</td>\n",
       "      <td>Data after RST</td>\n",
       "      <td>True</td>\n",
       "      <td>Global Religion</td>\n",
       "    </tr>\n",
       "    <tr>\n",
       "      <th>wupj.org</th>\n",
       "      <td>2017-03-11T23:52:25.574Z</td>\n",
       "      <td>citizenlab-global</td>\n",
       "      <td>http://wupj.org/</td>\n",
       "      <td>NaN</td>\n",
       "      <td>NaN</td>\n",
       "      <td>NaN</td>\n",
       "      <td>NaN</td>\n",
       "      <td>-1.0</td>\n",
       "      <td>False</td>\n",
       "      <td>0.0</td>\n",
       "      <td>{}</td>\n",
       "      <td>True</td>\n",
       "      <td>Data after RST</td>\n",
       "      <td>True</td>\n",
       "      <td>Global Religion</td>\n",
       "    </tr>\n",
       "    <tr>\n",
       "      <th>PE</th>\n",
       "      <th>torah.org</th>\n",
       "      <td>2017-01-03T14:52:32.602Z</td>\n",
       "      <td>citizenlab-global</td>\n",
       "      <td>http://www.torah.org</td>\n",
       "      <td>False</td>\n",
       "      <td>sameip</td>\n",
       "      <td>False</td>\n",
       "      <td>NaN</td>\n",
       "      <td>-1.0</td>\n",
       "      <td>False</td>\n",
       "      <td>0.0</td>\n",
       "      <td>NaN</td>\n",
       "      <td>True</td>\n",
       "      <td>Data after RST</td>\n",
       "      <td>True</td>\n",
       "      <td>Global Religion</td>\n",
       "    </tr>\n",
       "    <tr>\n",
       "      <th rowspan=\"2\" valign=\"top\">RU</th>\n",
       "      <th>hizb-ut-tahrir.org</th>\n",
       "      <td>2017-01-05T09:08:01.678Z</td>\n",
       "      <td>citizenlab-global</td>\n",
       "      <td>http://www.hizb-ut-tahrir.org</td>\n",
       "      <td>False</td>\n",
       "      <td>sameip</td>\n",
       "      <td>False</td>\n",
       "      <td>NaN</td>\n",
       "      <td>403.0</td>\n",
       "      <td>True</td>\n",
       "      <td>47691.0</td>\n",
       "      <td>HTTP header field [Location] contains [https:/...</td>\n",
       "      <td>NaN</td>\n",
       "      <td>NaN</td>\n",
       "      <td>True</td>\n",
       "      <td>Global Religion</td>\n",
       "    </tr>\n",
       "    <tr>\n",
       "      <th>khilafah.net</th>\n",
       "      <td>2017-01-05T09:08:01.678Z</td>\n",
       "      <td>citizenlab-global</td>\n",
       "      <td>http://khilafah.net</td>\n",
       "      <td>False</td>\n",
       "      <td>sameip</td>\n",
       "      <td>False</td>\n",
       "      <td>sameip</td>\n",
       "      <td>403.0</td>\n",
       "      <td>True</td>\n",
       "      <td>47691.0</td>\n",
       "      <td>HTTP header field [Location] contains [https:/...</td>\n",
       "      <td>NaN</td>\n",
       "      <td>NaN</td>\n",
       "      <td>True</td>\n",
       "      <td>Global Religion</td>\n",
       "    </tr>\n",
       "    <tr>\n",
       "      <th rowspan=\"2\" valign=\"top\">SA</th>\n",
       "      <th>khilafah.net</th>\n",
       "      <td>2017-03-05T08:59:40.652Z</td>\n",
       "      <td>citizenlab-global</td>\n",
       "      <td>http://khilafah.net/</td>\n",
       "      <td>False</td>\n",
       "      <td>sameip</td>\n",
       "      <td>False</td>\n",
       "      <td>NaN</td>\n",
       "      <td>403.0</td>\n",
       "      <td>True</td>\n",
       "      <td>134.0</td>\n",
       "      <td>HTTP header field [Server] contains [Protected...</td>\n",
       "      <td>NaN</td>\n",
       "      <td>NaN</td>\n",
       "      <td>True</td>\n",
       "      <td>Global Religion</td>\n",
       "    </tr>\n",
       "    <tr>\n",
       "      <th>krishna.com</th>\n",
       "      <td>2017-03-05T08:59:40.652Z</td>\n",
       "      <td>citizenlab-global</td>\n",
       "      <td>http://www.krishna.com/</td>\n",
       "      <td>False</td>\n",
       "      <td>sameip</td>\n",
       "      <td>False</td>\n",
       "      <td>NaN</td>\n",
       "      <td>403.0</td>\n",
       "      <td>True</td>\n",
       "      <td>134.0</td>\n",
       "      <td>HTTP header field [Server] contains [Protected...</td>\n",
       "      <td>NaN</td>\n",
       "      <td>NaN</td>\n",
       "      <td>True</td>\n",
       "      <td>Global Religion</td>\n",
       "    </tr>\n",
       "    <tr>\n",
       "      <th>TR</th>\n",
       "      <th>fgulen.com</th>\n",
       "      <td>2018-07-04T00:10:07.959Z</td>\n",
       "      <td>country-sensitive-tr</td>\n",
       "      <td>http://fgulen.com/en/</td>\n",
       "      <td>-2</td>\n",
       "      <td>no_control_resp</td>\n",
       "      <td>-2</td>\n",
       "      <td>no_control_resp</td>\n",
       "      <td>404.0</td>\n",
       "      <td>True</td>\n",
       "      <td>564.0</td>\n",
       "      <td>HTTP header field [Location] contains [http://...</td>\n",
       "      <td>NaN</td>\n",
       "      <td>NaN</td>\n",
       "      <td>True</td>\n",
       "      <td>Global Religion</td>\n",
       "    </tr>\n",
       "  </tbody>\n",
       "</table>\n",
       "</div>"
      ],
      "text/plain": [
       "                                               server_t         schedule_name  \\\n",
       "country site                                                                    \n",
       "CN      cefc.org               2018-06-29T12:46:51.538Z  country-sensitive-cn   \n",
       "FR      khilafah.net           2017-03-30T04:29:38.024Z     citizenlab-global   \n",
       "IN      ethiomuslimsmedia.com  2017-04-09T21:04:05.009Z  country-sensitive-in   \n",
       "        hinduhumanrights.org   2017-03-09T09:45:35.370Z  country-sensitive-in   \n",
       "        isaalmasih.net         2017-06-23T21:16:18.708Z     citizenlab-global   \n",
       "        khilafah.com           2017-03-09T09:45:35.370Z     citizenlab-global   \n",
       "        khilafah.net           2017-03-09T09:45:35.370Z     citizenlab-global   \n",
       "KR      debate.org.uk          2017-01-10T00:10:37.747Z     citizenlab-global   \n",
       "        emchurch.org           2017-01-10T00:10:37.747Z     citizenlab-global   \n",
       "        iarf.net               2017-01-10T00:10:37.747Z     citizenlab-global   \n",
       "        infidels.org           2017-01-10T00:10:37.747Z     citizenlab-global   \n",
       "        islaminstitut.de       2017-01-13T00:19:19.932Z     citizenlab-global   \n",
       "        islamonline.net        2017-01-03T00:17:24.763Z     citizenlab-global   \n",
       "        jainworld.com          2017-01-18T00:15:46.119Z     citizenlab-global   \n",
       "        torah.org              2017-01-03T00:17:24.763Z     citizenlab-global   \n",
       "NL      christwire.org         2017-01-24T04:59:43.594Z     citizenlab-global   \n",
       "        hizb-ut-tahrir.org     2017-07-18T03:27:09.971Z     citizenlab-global   \n",
       "        khilafah.net           2017-12-31T13:37:30.925Z     citizenlab-global   \n",
       "        wupj.org               2017-03-11T23:52:25.574Z     citizenlab-global   \n",
       "PE      torah.org              2017-01-03T14:52:32.602Z     citizenlab-global   \n",
       "RU      hizb-ut-tahrir.org     2017-01-05T09:08:01.678Z     citizenlab-global   \n",
       "        khilafah.net           2017-01-05T09:08:01.678Z     citizenlab-global   \n",
       "SA      khilafah.net           2017-03-05T08:59:40.652Z     citizenlab-global   \n",
       "        krishna.com            2017-03-05T08:59:40.652Z     citizenlab-global   \n",
       "TR      fgulen.com             2018-07-04T00:10:07.959Z  country-sensitive-tr   \n",
       "\n",
       "                                                                             url  \\\n",
       "country site                                                                       \n",
       "CN      cefc.org                                                http://cefc.org/   \n",
       "FR      khilafah.net                                        http://khilafah.net/   \n",
       "IN      ethiomuslimsmedia.com  http://ethiomuslimsmedia.com/index.php/news-pa...   \n",
       "        hinduhumanrights.org     http://www.hinduhumanrights.org/hindufocus.html   \n",
       "        isaalmasih.net                                    http://isaalmasih.net/   \n",
       "        khilafah.com                                    http://www.khilafah.com/   \n",
       "        khilafah.net                                        http://khilafah.net/   \n",
       "KR      debate.org.uk                                       http://debate.org.uk   \n",
       "        emchurch.org                                     http://www.emchurch.org   \n",
       "        iarf.net                                             http://www.iarf.net   \n",
       "        infidels.org                                     http://www.infidels.org   \n",
       "        islaminstitut.de                                 http://islaminstitut.de   \n",
       "        islamonline.net                               http://www.islamonline.net   \n",
       "        jainworld.com                                   http://www.jainworld.com   \n",
       "        torah.org                                           http://www.torah.org   \n",
       "NL      christwire.org                                     http://christwire.org   \n",
       "        hizb-ut-tahrir.org                        http://www.hizb-ut-tahrir.org/   \n",
       "        khilafah.net                                        http://khilafah.net/   \n",
       "        wupj.org                                                http://wupj.org/   \n",
       "PE      torah.org                                           http://www.torah.org   \n",
       "RU      hizb-ut-tahrir.org                         http://www.hizb-ut-tahrir.org   \n",
       "        khilafah.net                                         http://khilafah.net   \n",
       "SA      khilafah.net                                        http://khilafah.net/   \n",
       "        krishna.com                                      http://www.krishna.com/   \n",
       "TR      fgulen.com                                         http://fgulen.com/en/   \n",
       "\n",
       "                                 dns             dns_reason dns_all  \\\n",
       "country site                                                          \n",
       "CN      cefc.org               False        no_control_node   False   \n",
       "FR      khilafah.net           False  not_violate_threshold   False   \n",
       "IN      ethiomuslimsmedia.com  False                    NaN   False   \n",
       "        hinduhumanrights.org     NaN                    NaN   False   \n",
       "        isaalmasih.net           NaN                    NaN   False   \n",
       "        khilafah.com             NaN                    NaN   False   \n",
       "        khilafah.net             NaN                    NaN   False   \n",
       "KR      debate.org.uk          False                 sameip   False   \n",
       "        emchurch.org           False                 sameip   False   \n",
       "        iarf.net               False                    NaN   False   \n",
       "        infidels.org           False                 sameip   False   \n",
       "        islaminstitut.de       False                 sameip   False   \n",
       "        islamonline.net        False                 sameip   False   \n",
       "        jainworld.com          False                 sameip   False   \n",
       "        torah.org              False                 sameip   False   \n",
       "NL      christwire.org           NaN                    NaN     NaN   \n",
       "        hizb-ut-tahrir.org       NaN                    NaN     NaN   \n",
       "        khilafah.net             NaN                    NaN     NaN   \n",
       "        wupj.org                 NaN                    NaN     NaN   \n",
       "PE      torah.org              False                 sameip   False   \n",
       "RU      hizb-ut-tahrir.org     False                 sameip   False   \n",
       "        khilafah.net           False                 sameip   False   \n",
       "SA      khilafah.net           False                 sameip   False   \n",
       "        krishna.com            False                 sameip   False   \n",
       "TR      fgulen.com                -2        no_control_resp      -2   \n",
       "\n",
       "                                dns_reason_all  http_status  block  body_len  \\\n",
       "country site                                                                   \n",
       "CN      cefc.org                           NaN        403.0   True    3031.0   \n",
       "FR      khilafah.net                       NaN        200.0   True    3737.0   \n",
       "IN      ethiomuslimsmedia.com           sameip        200.0   True    3045.0   \n",
       "        hinduhumanrights.org            sameip        200.0   True     748.0   \n",
       "        isaalmasih.net                     NaN        200.0  False   10096.0   \n",
       "        khilafah.com                    sameip        200.0   True     135.0   \n",
       "        khilafah.net                    sameip        200.0   True     716.0   \n",
       "KR      debate.org.uk                      NaN        200.0  False   44299.0   \n",
       "        emchurch.org                    sameip        403.0  False     362.0   \n",
       "        iarf.net                           NaN        200.0  False     350.0   \n",
       "        infidels.org                       NaN        200.0  False   16748.0   \n",
       "        islaminstitut.de                   NaN        200.0  False   29763.0   \n",
       "        islamonline.net                    NaN        403.0  False     373.0   \n",
       "        jainworld.com                      NaN        200.0  False     354.0   \n",
       "        torah.org                          NaN        403.0  False     359.0   \n",
       "NL      christwire.org                     NaN        200.0  False   61841.0   \n",
       "        hizb-ut-tahrir.org                 NaN        403.0  False    3303.0   \n",
       "        khilafah.net                       NaN         -1.0  False       0.0   \n",
       "        wupj.org                           NaN         -1.0  False       0.0   \n",
       "PE      torah.org                          NaN         -1.0  False       0.0   \n",
       "RU      hizb-ut-tahrir.org                 NaN        403.0   True   47691.0   \n",
       "        khilafah.net                    sameip        403.0   True   47691.0   \n",
       "SA      khilafah.net                       NaN        403.0   True     134.0   \n",
       "        krishna.com                        NaN        403.0   True     134.0   \n",
       "TR      fgulen.com             no_control_resp        404.0   True     564.0   \n",
       "\n",
       "                                                                     http_reason  \\\n",
       "country site                                                                       \n",
       "CN      cefc.org               HTTP body contains [\\u003ctitle\\u003eWeb Site ...   \n",
       "FR      khilafah.net           HTTP body contains [xtpage = \\\"\"page-blocage-t...   \n",
       "IN      ethiomuslimsmedia.com  HTTP body contains [The page you have requeste...   \n",
       "        hinduhumanrights.org   HTTP body contains [\\\\u003ciframe src=\\\"\"http:...   \n",
       "        isaalmasih.net                                                        {}   \n",
       "        khilafah.com           HTTP body contains [Your requested URL has bee...   \n",
       "        khilafah.net           HTTP body contains [\\\\u003ciframe src=\\\"\"http:...   \n",
       "KR      debate.org.uk                                                        NaN   \n",
       "        emchurch.org           HTTP body contains [\\u003ciframe id=\\\"\"f\\\"\"fra...   \n",
       "        iarf.net               HTTP body contains [\\u003ciframe id=\\\"\"f\\\"\"fra...   \n",
       "        infidels.org                                                         NaN   \n",
       "        islaminstitut.de                                                     NaN   \n",
       "        islamonline.net        HTTP body contains [\\u003ciframe id=\\\"\"f\\\"\"fra...   \n",
       "        jainworld.com          HTTP body contains [\\u003ciframe id=\\\"\"f\\\"\"fra...   \n",
       "        torah.org              HTTP body contains [\\u003ciframe id=\\\"\"f\\\"\"fra...   \n",
       "NL      christwire.org                                                       NaN   \n",
       "        hizb-ut-tahrir.org                                                    {}   \n",
       "        khilafah.net                                                          {}   \n",
       "        wupj.org                                                              {}   \n",
       "PE      torah.org                                                            NaN   \n",
       "RU      hizb-ut-tahrir.org     HTTP header field [Location] contains [https:/...   \n",
       "        khilafah.net           HTTP header field [Location] contains [https:/...   \n",
       "SA      khilafah.net           HTTP header field [Server] contains [Protected...   \n",
       "        krishna.com            HTTP header field [Server] contains [Protected...   \n",
       "TR      fgulen.com             HTTP header field [Location] contains [http://...   \n",
       "\n",
       "                              packet_updated      packet_reason  \\\n",
       "country site                                                      \n",
       "CN      cefc.org                         NaN                NaN   \n",
       "FR      khilafah.net                     NaN                NaN   \n",
       "IN      ethiomuslimsmedia.com            NaN                NaN   \n",
       "        hinduhumanrights.org             NaN                NaN   \n",
       "        isaalmasih.net                  True     Data after FIN   \n",
       "        khilafah.com                     NaN                NaN   \n",
       "        khilafah.net                    True     Data after RST   \n",
       "KR      debate.org.uk                   True  Payload collision   \n",
       "        emchurch.org                    True  Payload collision   \n",
       "        iarf.net                        True  Payload collision   \n",
       "        infidels.org                    True  Payload collision   \n",
       "        islaminstitut.de                True  Payload collision   \n",
       "        islamonline.net                 True  Payload collision   \n",
       "        jainworld.com                   True  Payload collision   \n",
       "        torah.org                       True  Payload collision   \n",
       "NL      christwire.org                  True     Data after RST   \n",
       "        hizb-ut-tahrir.org              True     Data after RST   \n",
       "        khilafah.net                    True     Data after RST   \n",
       "        wupj.org                        True     Data after RST   \n",
       "PE      torah.org                       True     Data after RST   \n",
       "RU      hizb-ut-tahrir.org               NaN                NaN   \n",
       "        khilafah.net                     NaN                NaN   \n",
       "SA      khilafah.net                     NaN                NaN   \n",
       "        krishna.com                      NaN                NaN   \n",
       "TR      fgulen.com                       NaN                NaN   \n",
       "\n",
       "                               censored_updated         category  \n",
       "country site                                                      \n",
       "CN      cefc.org                           True  Global Religion  \n",
       "FR      khilafah.net                       True  Global Religion  \n",
       "IN      ethiomuslimsmedia.com              True  Global Religion  \n",
       "        hinduhumanrights.org               True  Global Religion  \n",
       "        isaalmasih.net                     True  Global Religion  \n",
       "        khilafah.com                       True  Global Religion  \n",
       "        khilafah.net                       True  Global Religion  \n",
       "KR      debate.org.uk                      True  Global Religion  \n",
       "        emchurch.org                       True  Global Religion  \n",
       "        iarf.net                           True  Global Religion  \n",
       "        infidels.org                       True  Global Religion  \n",
       "        islaminstitut.de                   True  Global Religion  \n",
       "        islamonline.net                    True  Global Religion  \n",
       "        jainworld.com                      True  Global Religion  \n",
       "        torah.org                          True  Global Religion  \n",
       "NL      christwire.org                     True  Global Religion  \n",
       "        hizb-ut-tahrir.org                 True  Global Religion  \n",
       "        khilafah.net                       True  Global Religion  \n",
       "        wupj.org                           True  Global Religion  \n",
       "PE      torah.org                          True  Global Religion  \n",
       "RU      hizb-ut-tahrir.org                 True  Global Religion  \n",
       "        khilafah.net                       True  Global Religion  \n",
       "SA      khilafah.net                       True  Global Religion  \n",
       "        krishna.com                        True  Global Religion  \n",
       "TR      fgulen.com                         True  Global Religion  "
      ]
     },
     "execution_count": 16,
     "metadata": {},
     "output_type": "execute_result"
    }
   ],
   "source": [
    "iclabCLEAN[ (iclabCLEAN['category'].isin(['Global Religion','Alternative Beliefs'])) & ( (iclabCLEAN['block']== True) | (iclabCLEAN['censored_updated'] == True) ) ].groupby(['country', 'site']).first()"
   ]
  },
  {
   "cell_type": "markdown",
   "metadata": {
    "colab_type": "text",
    "id": "U0IUy6TCJQ1D"
   },
   "source": [
    "## Experiment 3: Blocking by content category (our final metric)\n",
    "\n",
    "\n",
    "### Exploring blocking by category"
   ]
  },
  {
   "cell_type": "code",
   "execution_count": 17,
   "metadata": {
    "colab": {},
    "colab_type": "code",
    "id": "sFlYf7sJDfsY",
    "scrolled": true
   },
   "outputs": [
    {
     "data": {
      "text/html": [
       "<div>\n",
       "<style scoped>\n",
       "    .dataframe tbody tr th:only-of-type {\n",
       "        vertical-align: middle;\n",
       "    }\n",
       "\n",
       "    .dataframe tbody tr th {\n",
       "        vertical-align: top;\n",
       "    }\n",
       "\n",
       "    .dataframe thead th {\n",
       "        text-align: right;\n",
       "    }\n",
       "</style>\n",
       "<table border=\"1\" class=\"dataframe\">\n",
       "  <thead>\n",
       "    <tr style=\"text-align: right;\">\n",
       "      <th></th>\n",
       "      <th>server_t</th>\n",
       "      <th>country</th>\n",
       "      <th>schedule_name</th>\n",
       "      <th>url</th>\n",
       "      <th>dns</th>\n",
       "      <th>dns_reason</th>\n",
       "      <th>dns_all</th>\n",
       "      <th>dns_reason_all</th>\n",
       "      <th>http_status</th>\n",
       "      <th>block</th>\n",
       "      <th>body_len</th>\n",
       "      <th>http_reason</th>\n",
       "      <th>packet_updated</th>\n",
       "      <th>packet_reason</th>\n",
       "      <th>censored_updated</th>\n",
       "      <th>site</th>\n",
       "    </tr>\n",
       "    <tr>\n",
       "      <th>category</th>\n",
       "      <th></th>\n",
       "      <th></th>\n",
       "      <th></th>\n",
       "      <th></th>\n",
       "      <th></th>\n",
       "      <th></th>\n",
       "      <th></th>\n",
       "      <th></th>\n",
       "      <th></th>\n",
       "      <th></th>\n",
       "      <th></th>\n",
       "      <th></th>\n",
       "      <th></th>\n",
       "      <th></th>\n",
       "      <th></th>\n",
       "      <th></th>\n",
       "    </tr>\n",
       "  </thead>\n",
       "  <tbody>\n",
       "    <tr>\n",
       "      <th>Undefined</th>\n",
       "      <td>60172</td>\n",
       "      <td>60172</td>\n",
       "      <td>60172</td>\n",
       "      <td>60172</td>\n",
       "      <td>36650</td>\n",
       "      <td>23826</td>\n",
       "      <td>50414</td>\n",
       "      <td>14086</td>\n",
       "      <td>59961</td>\n",
       "      <td>59961</td>\n",
       "      <td>59961</td>\n",
       "      <td>53897</td>\n",
       "      <td>33150</td>\n",
       "      <td>33150</td>\n",
       "      <td>60172</td>\n",
       "      <td>60172</td>\n",
       "    </tr>\n",
       "    <tr>\n",
       "      <th>News and Media</th>\n",
       "      <td>22704</td>\n",
       "      <td>22704</td>\n",
       "      <td>22704</td>\n",
       "      <td>22704</td>\n",
       "      <td>10074</td>\n",
       "      <td>6221</td>\n",
       "      <td>18600</td>\n",
       "      <td>7670</td>\n",
       "      <td>22704</td>\n",
       "      <td>22704</td>\n",
       "      <td>22704</td>\n",
       "      <td>22610</td>\n",
       "      <td>18610</td>\n",
       "      <td>18610</td>\n",
       "      <td>22704</td>\n",
       "      <td>22704</td>\n",
       "    </tr>\n",
       "    <tr>\n",
       "      <th>Health and Wellness</th>\n",
       "      <td>19999</td>\n",
       "      <td>19999</td>\n",
       "      <td>19999</td>\n",
       "      <td>19999</td>\n",
       "      <td>8117</td>\n",
       "      <td>7196</td>\n",
       "      <td>12928</td>\n",
       "      <td>4650</td>\n",
       "      <td>19999</td>\n",
       "      <td>19999</td>\n",
       "      <td>19999</td>\n",
       "      <td>19173</td>\n",
       "      <td>19925</td>\n",
       "      <td>19925</td>\n",
       "      <td>19999</td>\n",
       "      <td>19999</td>\n",
       "    </tr>\n",
       "    <tr>\n",
       "      <th>Entertainment</th>\n",
       "      <td>19971</td>\n",
       "      <td>19971</td>\n",
       "      <td>19971</td>\n",
       "      <td>19971</td>\n",
       "      <td>7115</td>\n",
       "      <td>4340</td>\n",
       "      <td>15890</td>\n",
       "      <td>7787</td>\n",
       "      <td>19969</td>\n",
       "      <td>19969</td>\n",
       "      <td>19969</td>\n",
       "      <td>19962</td>\n",
       "      <td>15007</td>\n",
       "      <td>15007</td>\n",
       "      <td>19971</td>\n",
       "      <td>19971</td>\n",
       "    </tr>\n",
       "    <tr>\n",
       "      <th>Proxy Avoidance</th>\n",
       "      <td>16343</td>\n",
       "      <td>16343</td>\n",
       "      <td>16343</td>\n",
       "      <td>16343</td>\n",
       "      <td>7861</td>\n",
       "      <td>5511</td>\n",
       "      <td>12703</td>\n",
       "      <td>4458</td>\n",
       "      <td>16343</td>\n",
       "      <td>16343</td>\n",
       "      <td>16343</td>\n",
       "      <td>14834</td>\n",
       "      <td>15648</td>\n",
       "      <td>15648</td>\n",
       "      <td>16343</td>\n",
       "      <td>16343</td>\n",
       "    </tr>\n",
       "    <tr>\n",
       "      <th>Peer-to-peer File Sharing</th>\n",
       "      <td>15609</td>\n",
       "      <td>15609</td>\n",
       "      <td>15609</td>\n",
       "      <td>15609</td>\n",
       "      <td>7083</td>\n",
       "      <td>5447</td>\n",
       "      <td>11927</td>\n",
       "      <td>4459</td>\n",
       "      <td>15609</td>\n",
       "      <td>15609</td>\n",
       "      <td>15609</td>\n",
       "      <td>14141</td>\n",
       "      <td>15561</td>\n",
       "      <td>15561</td>\n",
       "      <td>15609</td>\n",
       "      <td>15609</td>\n",
       "    </tr>\n",
       "    <tr>\n",
       "      <th>Social Networking</th>\n",
       "      <td>11735</td>\n",
       "      <td>11735</td>\n",
       "      <td>11735</td>\n",
       "      <td>11735</td>\n",
       "      <td>2775</td>\n",
       "      <td>184</td>\n",
       "      <td>10837</td>\n",
       "      <td>7113</td>\n",
       "      <td>11734</td>\n",
       "      <td>11734</td>\n",
       "      <td>11734</td>\n",
       "      <td>11703</td>\n",
       "      <td>10428</td>\n",
       "      <td>10428</td>\n",
       "      <td>11735</td>\n",
       "      <td>11735</td>\n",
       "    </tr>\n",
       "    <tr>\n",
       "      <th>Pornography</th>\n",
       "      <td>10806</td>\n",
       "      <td>10806</td>\n",
       "      <td>10806</td>\n",
       "      <td>10806</td>\n",
       "      <td>9904</td>\n",
       "      <td>5657</td>\n",
       "      <td>10229</td>\n",
       "      <td>386</td>\n",
       "      <td>10806</td>\n",
       "      <td>10806</td>\n",
       "      <td>10806</td>\n",
       "      <td>10792</td>\n",
       "      <td>1478</td>\n",
       "      <td>1478</td>\n",
       "      <td>10806</td>\n",
       "      <td>10806</td>\n",
       "    </tr>\n",
       "    <tr>\n",
       "      <th>Games</th>\n",
       "      <td>10053</td>\n",
       "      <td>10053</td>\n",
       "      <td>10053</td>\n",
       "      <td>10053</td>\n",
       "      <td>3766</td>\n",
       "      <td>3087</td>\n",
       "      <td>6679</td>\n",
       "      <td>2654</td>\n",
       "      <td>10051</td>\n",
       "      <td>10051</td>\n",
       "      <td>10051</td>\n",
       "      <td>9963</td>\n",
       "      <td>10001</td>\n",
       "      <td>10001</td>\n",
       "      <td>10053</td>\n",
       "      <td>10053</td>\n",
       "    </tr>\n",
       "    <tr>\n",
       "      <th>Personal Websites and Blogs</th>\n",
       "      <td>5276</td>\n",
       "      <td>5276</td>\n",
       "      <td>5276</td>\n",
       "      <td>5276</td>\n",
       "      <td>1172</td>\n",
       "      <td>320</td>\n",
       "      <td>4867</td>\n",
       "      <td>3531</td>\n",
       "      <td>5276</td>\n",
       "      <td>5276</td>\n",
       "      <td>5276</td>\n",
       "      <td>5249</td>\n",
       "      <td>54</td>\n",
       "      <td>54</td>\n",
       "      <td>5276</td>\n",
       "      <td>5276</td>\n",
       "    </tr>\n",
       "  </tbody>\n",
       "</table>\n",
       "</div>"
      ],
      "text/plain": [
       "                             server_t  country  schedule_name    url    dns  \\\n",
       "category                                                                      \n",
       "Undefined                       60172    60172          60172  60172  36650   \n",
       "News and Media                  22704    22704          22704  22704  10074   \n",
       "Health and Wellness             19999    19999          19999  19999   8117   \n",
       "Entertainment                   19971    19971          19971  19971   7115   \n",
       "Proxy Avoidance                 16343    16343          16343  16343   7861   \n",
       "Peer-to-peer File Sharing       15609    15609          15609  15609   7083   \n",
       "Social Networking               11735    11735          11735  11735   2775   \n",
       "Pornography                     10806    10806          10806  10806   9904   \n",
       "Games                           10053    10053          10053  10053   3766   \n",
       "Personal Websites and Blogs      5276     5276           5276   5276   1172   \n",
       "\n",
       "                             dns_reason  dns_all  dns_reason_all  http_status  \\\n",
       "category                                                                        \n",
       "Undefined                         23826    50414           14086        59961   \n",
       "News and Media                     6221    18600            7670        22704   \n",
       "Health and Wellness                7196    12928            4650        19999   \n",
       "Entertainment                      4340    15890            7787        19969   \n",
       "Proxy Avoidance                    5511    12703            4458        16343   \n",
       "Peer-to-peer File Sharing          5447    11927            4459        15609   \n",
       "Social Networking                   184    10837            7113        11734   \n",
       "Pornography                        5657    10229             386        10806   \n",
       "Games                              3087     6679            2654        10051   \n",
       "Personal Websites and Blogs         320     4867            3531         5276   \n",
       "\n",
       "                             block  body_len  http_reason  packet_updated  \\\n",
       "category                                                                    \n",
       "Undefined                    59961     59961        53897           33150   \n",
       "News and Media               22704     22704        22610           18610   \n",
       "Health and Wellness          19999     19999        19173           19925   \n",
       "Entertainment                19969     19969        19962           15007   \n",
       "Proxy Avoidance              16343     16343        14834           15648   \n",
       "Peer-to-peer File Sharing    15609     15609        14141           15561   \n",
       "Social Networking            11734     11734        11703           10428   \n",
       "Pornography                  10806     10806        10792            1478   \n",
       "Games                        10051     10051         9963           10001   \n",
       "Personal Websites and Blogs   5276      5276         5249              54   \n",
       "\n",
       "                             packet_reason  censored_updated   site  \n",
       "category                                                             \n",
       "Undefined                            33150             60172  60172  \n",
       "News and Media                       18610             22704  22704  \n",
       "Health and Wellness                  19925             19999  19999  \n",
       "Entertainment                        15007             19971  19971  \n",
       "Proxy Avoidance                      15648             16343  16343  \n",
       "Peer-to-peer File Sharing            15561             15609  15609  \n",
       "Social Networking                    10428             11735  11735  \n",
       "Pornography                           1478             10806  10806  \n",
       "Games                                10001             10053  10053  \n",
       "Personal Websites and Blogs             54              5276   5276  "
      ]
     },
     "execution_count": 17,
     "metadata": {},
     "output_type": "execute_result"
    }
   ],
   "source": [
    "iclabCLEAN[iclabCLEAN['censored_updated']==True].groupby('category').count().sort_values(by='site',ascending=False).head(10)"
   ]
  },
  {
   "cell_type": "code",
   "execution_count": 18,
   "metadata": {
    "colab": {},
    "colab_type": "code",
    "id": "LwZjRHH1JQ1D"
   },
   "outputs": [],
   "source": [
    "def Category_contributions(cc):\n",
    "    '''\n",
    "    Computes contribution of each category in a countries blocked sites*\n",
    "    '''\n",
    "    catDataCC = iclabCLEAN[(iclabCLEAN['country']==cc) & (iclabCLEAN['censored_updated']==True) ]\n",
    "    catDataCC= catDataCC.drop(['server_t', 'censored_updated','site','dns_all','packet_reason','url','dns','dns_reason','dns_reason_all','schedule_name','http_status','block','body_len','http_reason','packet_updated'], axis=1)\n",
    "    catDataCC = catDataCC.groupby('category').count()\n",
    "    catDataCC['%Cat'] = (catDataCC['country']*100)/(catDataCC['country'].sum())\n",
    "    catDataCC= catDataCC.reset_index().drop('country',axis=1)\n",
    "    catDataCC= catDataCC.rename(columns={'country':'Number of sites in' + str(cc),'%Cat':cc})\n",
    "    return catDataCC"
   ]
  },
  {
   "cell_type": "code",
   "execution_count": 19,
   "metadata": {
    "colab": {},
    "colab_type": "code",
    "id": "x7bFbB9DJQ1F"
   },
   "outputs": [
    {
     "data": {
      "text/html": [
       "<div>\n",
       "<style scoped>\n",
       "    .dataframe tbody tr th:only-of-type {\n",
       "        vertical-align: middle;\n",
       "    }\n",
       "\n",
       "    .dataframe tbody tr th {\n",
       "        vertical-align: top;\n",
       "    }\n",
       "\n",
       "    .dataframe thead th {\n",
       "        text-align: right;\n",
       "    }\n",
       "</style>\n",
       "<table border=\"1\" class=\"dataframe\">\n",
       "  <thead>\n",
       "    <tr style=\"text-align: right;\">\n",
       "      <th></th>\n",
       "      <th>category</th>\n",
       "      <th>CA</th>\n",
       "    </tr>\n",
       "  </thead>\n",
       "  <tbody>\n",
       "    <tr>\n",
       "      <th>0</th>\n",
       "      <td>Brokerage and Trading</td>\n",
       "      <td>0.974930</td>\n",
       "    </tr>\n",
       "    <tr>\n",
       "      <th>1</th>\n",
       "      <td>Domain Parking</td>\n",
       "      <td>0.348189</td>\n",
       "    </tr>\n",
       "    <tr>\n",
       "      <th>2</th>\n",
       "      <td>Entertainment</td>\n",
       "      <td>10.828691</td>\n",
       "    </tr>\n",
       "    <tr>\n",
       "      <th>3</th>\n",
       "      <td>Games</td>\n",
       "      <td>8.983287</td>\n",
       "    </tr>\n",
       "    <tr>\n",
       "      <th>4</th>\n",
       "      <td>General Organizations</td>\n",
       "      <td>0.034819</td>\n",
       "    </tr>\n",
       "    <tr>\n",
       "      <th>5</th>\n",
       "      <td>Health and Wellness</td>\n",
       "      <td>19.603064</td>\n",
       "    </tr>\n",
       "    <tr>\n",
       "      <th>6</th>\n",
       "      <td>Illegal or Unethical</td>\n",
       "      <td>0.034819</td>\n",
       "    </tr>\n",
       "    <tr>\n",
       "      <th>7</th>\n",
       "      <td>Information Technology</td>\n",
       "      <td>0.069638</td>\n",
       "    </tr>\n",
       "    <tr>\n",
       "      <th>8</th>\n",
       "      <td>Meaningless Content</td>\n",
       "      <td>0.034819</td>\n",
       "    </tr>\n",
       "    <tr>\n",
       "      <th>9</th>\n",
       "      <td>News and Media</td>\n",
       "      <td>10.967967</td>\n",
       "    </tr>\n",
       "    <tr>\n",
       "      <th>10</th>\n",
       "      <td>Newsgroups and Message Boards</td>\n",
       "      <td>0.696379</td>\n",
       "    </tr>\n",
       "    <tr>\n",
       "      <th>11</th>\n",
       "      <td>Peer-to-peer File Sharing</td>\n",
       "      <td>11.176880</td>\n",
       "    </tr>\n",
       "    <tr>\n",
       "      <th>12</th>\n",
       "      <td>Proxy Avoidance</td>\n",
       "      <td>11.072423</td>\n",
       "    </tr>\n",
       "    <tr>\n",
       "      <th>13</th>\n",
       "      <td>Reference</td>\n",
       "      <td>0.383008</td>\n",
       "    </tr>\n",
       "    <tr>\n",
       "      <th>14</th>\n",
       "      <td>Search Engines and Portals</td>\n",
       "      <td>0.139276</td>\n",
       "    </tr>\n",
       "    <tr>\n",
       "      <th>15</th>\n",
       "      <td>Shopping</td>\n",
       "      <td>0.069638</td>\n",
       "    </tr>\n",
       "    <tr>\n",
       "      <th>16</th>\n",
       "      <td>Undefined</td>\n",
       "      <td>24.582173</td>\n",
       "    </tr>\n",
       "  </tbody>\n",
       "</table>\n",
       "</div>"
      ],
      "text/plain": [
       "                         category         CA\n",
       "0           Brokerage and Trading   0.974930\n",
       "1                  Domain Parking   0.348189\n",
       "2                   Entertainment  10.828691\n",
       "3                           Games   8.983287\n",
       "4           General Organizations   0.034819\n",
       "5             Health and Wellness  19.603064\n",
       "6            Illegal or Unethical   0.034819\n",
       "7          Information Technology   0.069638\n",
       "8             Meaningless Content   0.034819\n",
       "9                  News and Media  10.967967\n",
       "10  Newsgroups and Message Boards   0.696379\n",
       "11      Peer-to-peer File Sharing  11.176880\n",
       "12                Proxy Avoidance  11.072423\n",
       "13                      Reference   0.383008\n",
       "14     Search Engines and Portals   0.139276\n",
       "15                       Shopping   0.069638\n",
       "16                      Undefined  24.582173"
      ]
     },
     "execution_count": 19,
     "metadata": {},
     "output_type": "execute_result"
    }
   ],
   "source": [
    "# Category_contributions('US')\n",
    "Category_contributions('CA')"
   ]
  },
  {
   "cell_type": "code",
   "execution_count": 20,
   "metadata": {
    "colab": {},
    "colab_type": "code",
    "id": "rjAzM0MuJQ1I"
   },
   "outputs": [],
   "source": [
    "INplot = Category_contributions('IN')\n",
    "TRplot =Category_contributions('TR')\n",
    "RUplot = Category_contributions('RU')\n",
    "KRplot= Category_contributions('KR')\n",
    "USplot = Category_contributions('US')\n",
    "CNplot = Category_contributions('CN')\n",
    "CAplot  = Category_contributions('CA')\n",
    "ZAplot  = Category_contributions('ZA')"
   ]
  },
  {
   "cell_type": "markdown",
   "metadata": {
    "colab_type": "text",
    "id": "eFSOy3U3JQ1K"
   },
   "source": [
    " Plotting the graph below:"
   ]
  },
  {
   "cell_type": "code",
   "execution_count": 21,
   "metadata": {
    "colab": {},
    "colab_type": "code",
    "id": "Lh5dyDvUJQ1K"
   },
   "outputs": [],
   "source": [
    "graphcompare1 = pd.merge(INplot,TRplot, on='category', how='outer')\n",
    "graphcompare2 = pd.merge(graphcompare1,KRplot, on='category', how='outer')\n",
    "graphcompare3 = pd.merge(graphcompare2,RUplot, on='category', how='outer')\n",
    "graphcompare4 = pd.merge(graphcompare3,USplot, on='category', how='outer')\n",
    "graphcompare5 = pd.merge(graphcompare4,CNplot, on='category', how='outer')"
   ]
  },
  {
   "cell_type": "code",
   "execution_count": 22,
   "metadata": {
    "colab": {},
    "colab_type": "code",
    "id": "XJJkFBz5JQ1M"
   },
   "outputs": [
    {
     "data": {
      "image/png": "[encoded data removed]",
      "text/plain": [
       "<Figure size 1440x864 with 1 Axes>"
      ]
     },
     "metadata": {},
     "output_type": "display_data"
    }
   ],
   "source": [
    "# set width of bar\n",
    "barWidth = 0.15\n",
    " \n",
    "# set height of bar\n",
    "TR = graphcompare3['TR']\n",
    "RU = graphcompare3['RU']\n",
    "IN = graphcompare3['IN']\n",
    "KR = graphcompare3['KR']\n",
    " \n",
    "# Set position of bar on X axis\n",
    "r1 = np.arange(len(TR))\n",
    "r2 = [x + barWidth for x in r1]\n",
    "r3 = [x + barWidth for x in r2]\n",
    "r4 = [x + barWidth for x in r3]\n",
    " \n",
    "# Make the plot\n",
    "plt.figure(figsize = (20,12))\n",
    "plt.bar(r1, TR, color='green', width=barWidth, edgecolor='dimgrey', label='Turkey')\n",
    "plt.bar(r2, RU, color='red', width=barWidth ,  edgecolor='dimgrey',label='RU')\n",
    "plt.bar(r3, IN, color='blue', width=barWidth,  edgecolor='dimgrey',label='India')\n",
    "plt.bar(r4, KR, color='darkorange', width=barWidth,  edgecolor= 'dimgrey',label='South Korea') \n",
    "\n",
    "# Add xticks on the middle of the group bars\n",
    "plt.ylabel(\"Percentage\", size=15)\n",
    "plt.ylim(0,100)\n",
    "plt.xticks([r for r in range(len(TR))], graphcompare3['category'].tolist() ,rotation=-90, size=16)\n",
    "\n",
    "# Create legend & Show graphic\n",
    "plt.legend(loc = 'upper left', fontsize = 15)\n",
    "plt.title(\"\\n Category-wise blocking in countries \\n\", size = 15)\n",
    "plt.show()"
   ]
  },
  {
   "cell_type": "markdown",
   "metadata": {
    "colab_type": "text",
    "id": "5SBW-hF_XIOv"
   },
   "source": [
    "### Producing a proxy from blocking by category\n",
    "\n",
    "Here, we describe each country by the proportions of categories in which they block websites (e.g., 30% pornography, 70% gambling).\n",
    "\n",
    "We then interpret these blocking cateogries as coordinates, and find the spatial cosine distance between any pair of two countries to produce a distance metric."
   ]
  },
  {
   "cell_type": "code",
   "execution_count": 23,
   "metadata": {
    "colab": {},
    "colab_type": "code",
    "id": "Qv6OIUGFJQ1N"
   },
   "outputs": [],
   "source": [
    "graphcompare5.fillna(0,inplace=True)\n",
    "\n",
    "KRvals = graphcompare5['KR']\n",
    "RUvals = graphcompare5['RU']\n",
    "INvals = graphcompare5['IN']\n",
    "TRvals = graphcompare5['TR']"
   ]
  },
  {
   "cell_type": "code",
   "execution_count": 24,
   "metadata": {
    "colab": {},
    "colab_type": "code",
    "id": "FwvtiJXKJQ1Q"
   },
   "outputs": [
    {
     "name": "stdout",
     "output_type": "stream",
     "text": [
      "india/russia 83.22426542796096\n",
      "india/turkey 44.158715035832664\n",
      "india/korea 44.90450469802651\n",
      "india/russia 55.88219813515176\n",
      "korea/turkey 73.25632615432515\n",
      "russia/turkey 57.13891380413104\n"
     ]
    }
   ],
   "source": [
    "KRsimilarityRU = (1 - spatial.distance.cosine(KRvals, RUvals))*100\n",
    "print('india/russia', KRsimilarityRU)\n",
    "\n",
    "INsimilarityTR = (1 - spatial.distance.cosine(INvals, TRvals))*100\n",
    "print('india/turkey', INsimilarityTR)\n",
    "\n",
    "INsimilarityKR = (1 - spatial.distance.cosine(INvals, KRvals))*100\n",
    "print('india/korea', INsimilarityKR)\n",
    "\n",
    "INsimilarityRU = (1 - spatial.distance.cosine(INvals, RUvals))*100\n",
    "print('india/russia', INsimilarityRU)\n",
    "\n",
    "KRsimilarityTR = (1 - spatial.distance.cosine(KRvals, TRvals))*100\n",
    "print('korea/turkey', KRsimilarityTR)\n",
    "\n",
    "RUsimilarityTR = (1 - spatial.distance.cosine(RUvals, TRvals))*100\n",
    "print('russia/turkey', RUsimilarityTR)"
   ]
  },
  {
   "cell_type": "markdown",
   "metadata": {
    "colab_type": "text",
    "id": "5SBW-hF_XIOv"
   },
   "source": [
    "### Computing pairwise distance across all countries\n",
    "\n",
    "We find the spatial cosine distance between **every** pair of two countries."
   ]
  },
  {
   "cell_type": "code",
   "execution_count": 25,
   "metadata": {
    "colab": {
     "base_uri": "https://localhost:8080/",
     "height": 35
    },
    "colab_type": "code",
    "id": "MgGtSoTxJQ1l",
    "outputId": "99742bf0-ec45-4a14-ad77-0aabaa28a023"
   },
   "outputs": [
    {
     "name": "stdout",
     "output_type": "stream",
     "text": [
      "The total countries we have in our clean dataset are 55\n"
     ]
    }
   ],
   "source": [
    "allCountries = (iclabCLEAN['country'].unique())\n",
    "print(\"The total countries we have in our clean dataset are {}\".format(len(allCountries)))"
   ]
  },
  {
   "cell_type": "code",
   "execution_count": 26,
   "metadata": {
    "colab": {
     "base_uri": "https://localhost:8080/",
     "height": 35
    },
    "colab_type": "code",
    "id": "FhTJ0GL9JQ1m",
    "outputId": "09203ff5-a56e-42b9-f405-38a3645a61e4"
   },
   "outputs": [
    {
     "name": "stdout",
     "output_type": "stream",
     "text": [
      "The total unique categories we have in our clean dataset are 73\n"
     ]
    }
   ],
   "source": [
    "allCategories = (iclabCLEAN['category'].unique())\n",
    "print(\"The total unique categories we have in our clean dataset are {}\".format(len(allCategories)))"
   ]
  },
  {
   "cell_type": "code",
   "execution_count": 27,
   "metadata": {
    "colab": {
     "base_uri": "https://localhost:8080/",
     "height": 204
    },
    "colab_type": "code",
    "id": "EweJ1Fg9JQ1p",
    "outputId": "ae58ffd4-0f4f-4bbf-8325-63826b573b74"
   },
   "outputs": [
    {
     "data": {
      "text/html": [
       "<div>\n",
       "<style scoped>\n",
       "    .dataframe tbody tr th:only-of-type {\n",
       "        vertical-align: middle;\n",
       "    }\n",
       "\n",
       "    .dataframe tbody tr th {\n",
       "        vertical-align: top;\n",
       "    }\n",
       "\n",
       "    .dataframe thead th {\n",
       "        text-align: right;\n",
       "    }\n",
       "</style>\n",
       "<table border=\"1\" class=\"dataframe\">\n",
       "  <thead>\n",
       "    <tr style=\"text-align: right;\">\n",
       "      <th></th>\n",
       "      <th>category</th>\n",
       "      <th>dummy</th>\n",
       "    </tr>\n",
       "  </thead>\n",
       "  <tbody>\n",
       "    <tr>\n",
       "      <th>0</th>\n",
       "      <td>File Sharing and Storage</td>\n",
       "      <td>NaN</td>\n",
       "    </tr>\n",
       "    <tr>\n",
       "      <th>1</th>\n",
       "      <td>Reference</td>\n",
       "      <td>NaN</td>\n",
       "    </tr>\n",
       "    <tr>\n",
       "      <th>2</th>\n",
       "      <td>Information Technology</td>\n",
       "      <td>NaN</td>\n",
       "    </tr>\n",
       "    <tr>\n",
       "      <th>3</th>\n",
       "      <td>Instant Messaging</td>\n",
       "      <td>NaN</td>\n",
       "    </tr>\n",
       "    <tr>\n",
       "      <th>4</th>\n",
       "      <td>News and Media</td>\n",
       "      <td>NaN</td>\n",
       "    </tr>\n",
       "  </tbody>\n",
       "</table>\n",
       "</div>"
      ],
      "text/plain": [
       "                   category  dummy\n",
       "0  File Sharing and Storage    NaN\n",
       "1                 Reference    NaN\n",
       "2    Information Technology    NaN\n",
       "3         Instant Messaging    NaN\n",
       "4            News and Media    NaN"
      ]
     },
     "execution_count": 27,
     "metadata": {},
     "output_type": "execute_result"
    }
   ],
   "source": [
    "simMetricDF = pd.DataFrame(index = allCategories, columns=None)\n",
    "simMetricDF['dummy']= pd.Series(np.zeros(len(simMetricDF)))\n",
    "simMetricDF.reset_index(inplace=True)\n",
    "simMetricDF.rename(columns={'index':'category'},inplace=True)\n",
    "simMetricDF.head()"
   ]
  },
  {
   "cell_type": "code",
   "execution_count": 28,
   "metadata": {
    "colab": {},
    "colab_type": "code",
    "id": "BfbaQNJ3JQ1r"
   },
   "outputs": [],
   "source": [
    "for country in allCountries:\n",
    "    simMetricDF = pd.merge(simMetricDF,Category_contributions(country), on= 'category', how='outer')"
   ]
  },
  {
   "cell_type": "code",
   "execution_count": 29,
   "metadata": {},
   "outputs": [
    {
     "data": {
      "text/html": [
       "<div>\n",
       "<style scoped>\n",
       "    .dataframe tbody tr th:only-of-type {\n",
       "        vertical-align: middle;\n",
       "    }\n",
       "\n",
       "    .dataframe tbody tr th {\n",
       "        vertical-align: top;\n",
       "    }\n",
       "\n",
       "    .dataframe thead th {\n",
       "        text-align: right;\n",
       "    }\n",
       "</style>\n",
       "<table border=\"1\" class=\"dataframe\">\n",
       "  <thead>\n",
       "    <tr style=\"text-align: right;\">\n",
       "      <th></th>\n",
       "      <th>category</th>\n",
       "      <th>dummy</th>\n",
       "      <th>UA</th>\n",
       "      <th>CO</th>\n",
       "      <th>KR</th>\n",
       "      <th>US</th>\n",
       "      <th>BG</th>\n",
       "      <th>BZ</th>\n",
       "      <th>AU</th>\n",
       "      <th>JP</th>\n",
       "      <th>...</th>\n",
       "      <th>TR</th>\n",
       "      <th>PL</th>\n",
       "      <th>DZ</th>\n",
       "      <th>BR</th>\n",
       "      <th>SC</th>\n",
       "      <th>SA</th>\n",
       "      <th>AT</th>\n",
       "      <th>GR</th>\n",
       "      <th>CR</th>\n",
       "      <th>LI</th>\n",
       "    </tr>\n",
       "  </thead>\n",
       "  <tbody>\n",
       "    <tr>\n",
       "      <th>0</th>\n",
       "      <td>File Sharing and Storage</td>\n",
       "      <td>NaN</td>\n",
       "      <td>NaN</td>\n",
       "      <td>NaN</td>\n",
       "      <td>1.854885</td>\n",
       "      <td>0.001238</td>\n",
       "      <td>NaN</td>\n",
       "      <td>NaN</td>\n",
       "      <td>0.123153</td>\n",
       "      <td>NaN</td>\n",
       "      <td>...</td>\n",
       "      <td>1.598677</td>\n",
       "      <td>NaN</td>\n",
       "      <td>NaN</td>\n",
       "      <td>NaN</td>\n",
       "      <td>NaN</td>\n",
       "      <td>0.339546</td>\n",
       "      <td>NaN</td>\n",
       "      <td>NaN</td>\n",
       "      <td>NaN</td>\n",
       "      <td>NaN</td>\n",
       "    </tr>\n",
       "    <tr>\n",
       "      <th>1</th>\n",
       "      <td>Reference</td>\n",
       "      <td>NaN</td>\n",
       "      <td>1.443124</td>\n",
       "      <td>1.430615</td>\n",
       "      <td>1.165492</td>\n",
       "      <td>1.374983</td>\n",
       "      <td>0.692841</td>\n",
       "      <td>0.917431</td>\n",
       "      <td>0.779967</td>\n",
       "      <td>1.554094</td>\n",
       "      <td>...</td>\n",
       "      <td>1.323043</td>\n",
       "      <td>1.353180</td>\n",
       "      <td>1.574803</td>\n",
       "      <td>1.887840</td>\n",
       "      <td>0.945946</td>\n",
       "      <td>NaN</td>\n",
       "      <td>0.972222</td>\n",
       "      <td>NaN</td>\n",
       "      <td>NaN</td>\n",
       "      <td>9.876543</td>\n",
       "    </tr>\n",
       "    <tr>\n",
       "      <th>2</th>\n",
       "      <td>Information Technology</td>\n",
       "      <td>NaN</td>\n",
       "      <td>2.037351</td>\n",
       "      <td>0.286123</td>\n",
       "      <td>1.268330</td>\n",
       "      <td>0.211631</td>\n",
       "      <td>0.230947</td>\n",
       "      <td>NaN</td>\n",
       "      <td>0.328407</td>\n",
       "      <td>0.537956</td>\n",
       "      <td>...</td>\n",
       "      <td>NaN</td>\n",
       "      <td>0.135318</td>\n",
       "      <td>NaN</td>\n",
       "      <td>0.166574</td>\n",
       "      <td>0.270270</td>\n",
       "      <td>1.069210</td>\n",
       "      <td>NaN</td>\n",
       "      <td>NaN</td>\n",
       "      <td>0.877193</td>\n",
       "      <td>NaN</td>\n",
       "    </tr>\n",
       "    <tr>\n",
       "      <th>3</th>\n",
       "      <td>Instant Messaging</td>\n",
       "      <td>NaN</td>\n",
       "      <td>NaN</td>\n",
       "      <td>NaN</td>\n",
       "      <td>0.041897</td>\n",
       "      <td>0.001238</td>\n",
       "      <td>NaN</td>\n",
       "      <td>NaN</td>\n",
       "      <td>NaN</td>\n",
       "      <td>0.059773</td>\n",
       "      <td>...</td>\n",
       "      <td>NaN</td>\n",
       "      <td>NaN</td>\n",
       "      <td>NaN</td>\n",
       "      <td>NaN</td>\n",
       "      <td>NaN</td>\n",
       "      <td>NaN</td>\n",
       "      <td>NaN</td>\n",
       "      <td>NaN</td>\n",
       "      <td>NaN</td>\n",
       "      <td>NaN</td>\n",
       "    </tr>\n",
       "    <tr>\n",
       "      <th>4</th>\n",
       "      <td>News and Media</td>\n",
       "      <td>NaN</td>\n",
       "      <td>13.921902</td>\n",
       "      <td>13.590844</td>\n",
       "      <td>4.517235</td>\n",
       "      <td>12.600092</td>\n",
       "      <td>9.083911</td>\n",
       "      <td>4.587156</td>\n",
       "      <td>10.714286</td>\n",
       "      <td>11.775254</td>\n",
       "      <td>...</td>\n",
       "      <td>20.066152</td>\n",
       "      <td>11.231394</td>\n",
       "      <td>9.842520</td>\n",
       "      <td>13.214881</td>\n",
       "      <td>12.972973</td>\n",
       "      <td>3.677214</td>\n",
       "      <td>14.166667</td>\n",
       "      <td>11.111111</td>\n",
       "      <td>15.789474</td>\n",
       "      <td>19.753086</td>\n",
       "    </tr>\n",
       "  </tbody>\n",
       "</table>\n",
       "<p>5 rows × 57 columns</p>\n",
       "</div>"
      ],
      "text/plain": [
       "                   category  dummy         UA         CO        KR         US  \\\n",
       "0  File Sharing and Storage    NaN        NaN        NaN  1.854885   0.001238   \n",
       "1                 Reference    NaN   1.443124   1.430615  1.165492   1.374983   \n",
       "2    Information Technology    NaN   2.037351   0.286123  1.268330   0.211631   \n",
       "3         Instant Messaging    NaN        NaN        NaN  0.041897   0.001238   \n",
       "4            News and Media    NaN  13.921902  13.590844  4.517235  12.600092   \n",
       "\n",
       "         BG        BZ         AU         JP  ...         TR         PL  \\\n",
       "0       NaN       NaN   0.123153        NaN  ...   1.598677        NaN   \n",
       "1  0.692841  0.917431   0.779967   1.554094  ...   1.323043   1.353180   \n",
       "2  0.230947       NaN   0.328407   0.537956  ...        NaN   0.135318   \n",
       "3       NaN       NaN        NaN   0.059773  ...        NaN        NaN   \n",
       "4  9.083911  4.587156  10.714286  11.775254  ...  20.066152  11.231394   \n",
       "\n",
       "         DZ         BR         SC        SA         AT         GR         CR  \\\n",
       "0       NaN        NaN        NaN  0.339546        NaN        NaN        NaN   \n",
       "1  1.574803   1.887840   0.945946       NaN   0.972222        NaN        NaN   \n",
       "2       NaN   0.166574   0.270270  1.069210        NaN        NaN   0.877193   \n",
       "3       NaN        NaN        NaN       NaN        NaN        NaN        NaN   \n",
       "4  9.842520  13.214881  12.972973  3.677214  14.166667  11.111111  15.789474   \n",
       "\n",
       "          LI  \n",
       "0        NaN  \n",
       "1   9.876543  \n",
       "2        NaN  \n",
       "3        NaN  \n",
       "4  19.753086  \n",
       "\n",
       "[5 rows x 57 columns]"
      ]
     },
     "execution_count": 29,
     "metadata": {},
     "output_type": "execute_result"
    }
   ],
   "source": [
    "simMetricDF.head()"
   ]
  },
  {
   "cell_type": "code",
   "execution_count": 30,
   "metadata": {
    "colab": {},
    "colab_type": "code",
    "id": "rvU1UWESJQ1s"
   },
   "outputs": [],
   "source": [
    "simMetricDF.set_index('category',inplace = True)"
   ]
  },
  {
   "cell_type": "code",
   "execution_count": 31,
   "metadata": {
    "colab": {},
    "colab_type": "code",
    "id": "4fMk9IAkJQ1t"
   },
   "outputs": [],
   "source": [
    "#REPLACING NaN's with 0\n",
    "simMetricDF.fillna(0,inplace=True)"
   ]
  },
  {
   "cell_type": "code",
   "execution_count": 32,
   "metadata": {
    "colab": {},
    "colab_type": "code",
    "id": "MhvHOH-gJQ1u"
   },
   "outputs": [],
   "source": [
    "simMetricDF.drop(\"dummy\",axis=1,inplace = True)"
   ]
  },
  {
   "cell_type": "code",
   "execution_count": 33,
   "metadata": {
    "colab": {},
    "colab_type": "code",
    "id": "cD1-c3FrJQ1v"
   },
   "outputs": [
    {
     "data": {
      "text/html": [
       "<div>\n",
       "<style scoped>\n",
       "    .dataframe tbody tr th:only-of-type {\n",
       "        vertical-align: middle;\n",
       "    }\n",
       "\n",
       "    .dataframe tbody tr th {\n",
       "        vertical-align: top;\n",
       "    }\n",
       "\n",
       "    .dataframe thead th {\n",
       "        text-align: right;\n",
       "    }\n",
       "</style>\n",
       "<table border=\"1\" class=\"dataframe\">\n",
       "  <thead>\n",
       "    <tr style=\"text-align: right;\">\n",
       "      <th></th>\n",
       "      <th>UA</th>\n",
       "      <th>CO</th>\n",
       "      <th>KR</th>\n",
       "      <th>US</th>\n",
       "      <th>BG</th>\n",
       "      <th>BZ</th>\n",
       "      <th>AU</th>\n",
       "      <th>JP</th>\n",
       "      <th>NL</th>\n",
       "      <th>HK</th>\n",
       "      <th>...</th>\n",
       "      <th>TR</th>\n",
       "      <th>PL</th>\n",
       "      <th>DZ</th>\n",
       "      <th>BR</th>\n",
       "      <th>SC</th>\n",
       "      <th>SA</th>\n",
       "      <th>AT</th>\n",
       "      <th>GR</th>\n",
       "      <th>CR</th>\n",
       "      <th>LI</th>\n",
       "    </tr>\n",
       "    <tr>\n",
       "      <th>category</th>\n",
       "      <th></th>\n",
       "      <th></th>\n",
       "      <th></th>\n",
       "      <th></th>\n",
       "      <th></th>\n",
       "      <th></th>\n",
       "      <th></th>\n",
       "      <th></th>\n",
       "      <th></th>\n",
       "      <th></th>\n",
       "      <th></th>\n",
       "      <th></th>\n",
       "      <th></th>\n",
       "      <th></th>\n",
       "      <th></th>\n",
       "      <th></th>\n",
       "      <th></th>\n",
       "      <th></th>\n",
       "      <th></th>\n",
       "      <th></th>\n",
       "      <th></th>\n",
       "    </tr>\n",
       "  </thead>\n",
       "  <tbody>\n",
       "    <tr>\n",
       "      <th>File Sharing and Storage</th>\n",
       "      <td>0.000000</td>\n",
       "      <td>0.000000</td>\n",
       "      <td>1.854885</td>\n",
       "      <td>0.001238</td>\n",
       "      <td>0.000000</td>\n",
       "      <td>0.000000</td>\n",
       "      <td>0.123153</td>\n",
       "      <td>0.000000</td>\n",
       "      <td>0.000000</td>\n",
       "      <td>0.032680</td>\n",
       "      <td>...</td>\n",
       "      <td>1.598677</td>\n",
       "      <td>0.000000</td>\n",
       "      <td>0.000000</td>\n",
       "      <td>0.000000</td>\n",
       "      <td>0.000000</td>\n",
       "      <td>0.339546</td>\n",
       "      <td>0.000000</td>\n",
       "      <td>0.000000</td>\n",
       "      <td>0.000000</td>\n",
       "      <td>0.000000</td>\n",
       "    </tr>\n",
       "    <tr>\n",
       "      <th>Reference</th>\n",
       "      <td>1.443124</td>\n",
       "      <td>1.430615</td>\n",
       "      <td>1.165492</td>\n",
       "      <td>1.374983</td>\n",
       "      <td>0.692841</td>\n",
       "      <td>0.917431</td>\n",
       "      <td>0.779967</td>\n",
       "      <td>1.554094</td>\n",
       "      <td>2.189119</td>\n",
       "      <td>0.555556</td>\n",
       "      <td>...</td>\n",
       "      <td>1.323043</td>\n",
       "      <td>1.353180</td>\n",
       "      <td>1.574803</td>\n",
       "      <td>1.887840</td>\n",
       "      <td>0.945946</td>\n",
       "      <td>0.000000</td>\n",
       "      <td>0.972222</td>\n",
       "      <td>0.000000</td>\n",
       "      <td>0.000000</td>\n",
       "      <td>9.876543</td>\n",
       "    </tr>\n",
       "    <tr>\n",
       "      <th>Information Technology</th>\n",
       "      <td>2.037351</td>\n",
       "      <td>0.286123</td>\n",
       "      <td>1.268330</td>\n",
       "      <td>0.211631</td>\n",
       "      <td>0.230947</td>\n",
       "      <td>0.000000</td>\n",
       "      <td>0.328407</td>\n",
       "      <td>0.537956</td>\n",
       "      <td>0.233161</td>\n",
       "      <td>0.196078</td>\n",
       "      <td>...</td>\n",
       "      <td>0.000000</td>\n",
       "      <td>0.135318</td>\n",
       "      <td>0.000000</td>\n",
       "      <td>0.166574</td>\n",
       "      <td>0.270270</td>\n",
       "      <td>1.069210</td>\n",
       "      <td>0.000000</td>\n",
       "      <td>0.000000</td>\n",
       "      <td>0.877193</td>\n",
       "      <td>0.000000</td>\n",
       "    </tr>\n",
       "    <tr>\n",
       "      <th>Instant Messaging</th>\n",
       "      <td>0.000000</td>\n",
       "      <td>0.000000</td>\n",
       "      <td>0.041897</td>\n",
       "      <td>0.001238</td>\n",
       "      <td>0.000000</td>\n",
       "      <td>0.000000</td>\n",
       "      <td>0.000000</td>\n",
       "      <td>0.059773</td>\n",
       "      <td>0.000000</td>\n",
       "      <td>0.000000</td>\n",
       "      <td>...</td>\n",
       "      <td>0.000000</td>\n",
       "      <td>0.000000</td>\n",
       "      <td>0.000000</td>\n",
       "      <td>0.000000</td>\n",
       "      <td>0.000000</td>\n",
       "      <td>0.000000</td>\n",
       "      <td>0.000000</td>\n",
       "      <td>0.000000</td>\n",
       "      <td>0.000000</td>\n",
       "      <td>0.000000</td>\n",
       "    </tr>\n",
       "    <tr>\n",
       "      <th>News and Media</th>\n",
       "      <td>13.921902</td>\n",
       "      <td>13.590844</td>\n",
       "      <td>4.517235</td>\n",
       "      <td>12.600092</td>\n",
       "      <td>9.083911</td>\n",
       "      <td>4.587156</td>\n",
       "      <td>10.714286</td>\n",
       "      <td>11.775254</td>\n",
       "      <td>12.163212</td>\n",
       "      <td>35.163399</td>\n",
       "      <td>...</td>\n",
       "      <td>20.066152</td>\n",
       "      <td>11.231394</td>\n",
       "      <td>9.842520</td>\n",
       "      <td>13.214881</td>\n",
       "      <td>12.972973</td>\n",
       "      <td>3.677214</td>\n",
       "      <td>14.166667</td>\n",
       "      <td>11.111111</td>\n",
       "      <td>15.789474</td>\n",
       "      <td>19.753086</td>\n",
       "    </tr>\n",
       "  </tbody>\n",
       "</table>\n",
       "<p>5 rows × 55 columns</p>\n",
       "</div>"
      ],
      "text/plain": [
       "                                 UA         CO        KR         US        BG  \\\n",
       "category                                                                        \n",
       "File Sharing and Storage   0.000000   0.000000  1.854885   0.001238  0.000000   \n",
       "Reference                  1.443124   1.430615  1.165492   1.374983  0.692841   \n",
       "Information Technology     2.037351   0.286123  1.268330   0.211631  0.230947   \n",
       "Instant Messaging          0.000000   0.000000  0.041897   0.001238  0.000000   \n",
       "News and Media            13.921902  13.590844  4.517235  12.600092  9.083911   \n",
       "\n",
       "                                BZ         AU         JP         NL  \\\n",
       "category                                                              \n",
       "File Sharing and Storage  0.000000   0.123153   0.000000   0.000000   \n",
       "Reference                 0.917431   0.779967   1.554094   2.189119   \n",
       "Information Technology    0.000000   0.328407   0.537956   0.233161   \n",
       "Instant Messaging         0.000000   0.000000   0.059773   0.000000   \n",
       "News and Media            4.587156  10.714286  11.775254  12.163212   \n",
       "\n",
       "                                 HK  ...         TR         PL        DZ  \\\n",
       "category                             ...                                   \n",
       "File Sharing and Storage   0.032680  ...   1.598677   0.000000  0.000000   \n",
       "Reference                  0.555556  ...   1.323043   1.353180  1.574803   \n",
       "Information Technology     0.196078  ...   0.000000   0.135318  0.000000   \n",
       "Instant Messaging          0.000000  ...   0.000000   0.000000  0.000000   \n",
       "News and Media            35.163399  ...  20.066152  11.231394  9.842520   \n",
       "\n",
       "                                 BR         SC        SA         AT  \\\n",
       "category                                                              \n",
       "File Sharing and Storage   0.000000   0.000000  0.339546   0.000000   \n",
       "Reference                  1.887840   0.945946  0.000000   0.972222   \n",
       "Information Technology     0.166574   0.270270  1.069210   0.000000   \n",
       "Instant Messaging          0.000000   0.000000  0.000000   0.000000   \n",
       "News and Media            13.214881  12.972973  3.677214  14.166667   \n",
       "\n",
       "                                 GR         CR         LI  \n",
       "category                                                   \n",
       "File Sharing and Storage   0.000000   0.000000   0.000000  \n",
       "Reference                  0.000000   0.000000   9.876543  \n",
       "Information Technology     0.000000   0.877193   0.000000  \n",
       "Instant Messaging          0.000000   0.000000   0.000000  \n",
       "News and Media            11.111111  15.789474  19.753086  \n",
       "\n",
       "[5 rows x 55 columns]"
      ]
     },
     "execution_count": 33,
     "metadata": {},
     "output_type": "execute_result"
    }
   ],
   "source": [
    "simMetricDF.head()"
   ]
  },
  {
   "cell_type": "code",
   "execution_count": 34,
   "metadata": {
    "colab": {},
    "colab_type": "code",
    "id": "7WfVMnotJQ1x"
   },
   "outputs": [],
   "source": [
    "countryList =  allCountries.tolist()\n",
    "numCatBlock = []"
   ]
  },
  {
   "cell_type": "code",
   "execution_count": 35,
   "metadata": {
    "colab": {},
    "colab_type": "code",
    "id": "wi_tcC7sJQ1y"
   },
   "outputs": [],
   "source": [
    "for item in countryList:\n",
    "    numCatBlock.append(len(simMetricDF[simMetricDF[item]!=0]))"
   ]
  },
  {
   "cell_type": "code",
   "execution_count": 36,
   "metadata": {
    "colab": {},
    "colab_type": "code",
    "id": "KExj7Ma-JQ1z"
   },
   "outputs": [],
   "source": [
    "tempDF = pd.DataFrame(index=countryList)\n",
    "tempDF['numCatBlock'] =numCatBlock\n",
    "tempDF = tempDF.sort_values(by='numCatBlock',ascending = False)"
   ]
  },
  {
   "cell_type": "code",
   "execution_count": 37,
   "metadata": {
    "colab": {
     "base_uri": "https://localhost:8080/",
     "height": 35
    },
    "colab_type": "code",
    "id": "0MHEiEemJQ12",
    "outputId": "13afc308-af48-4edc-8a79-7f92a1974c7e"
   },
   "outputs": [
    {
     "name": "stdout",
     "output_type": "stream",
     "text": [
      "We have 55 unique countries\n"
     ]
    }
   ],
   "source": [
    "#Getting all columns i.e. countries\n",
    "simCols=[]\n",
    "for i in range(len(simMetricDF.columns)):\n",
    "    simCols.append(simMetricDF.columns[i])\n",
    "print(\"We have {} unique countries\".format(len(simCols)))"
   ]
  },
  {
   "cell_type": "code",
   "execution_count": 38,
   "metadata": {
    "colab": {
     "base_uri": "https://localhost:8080/",
     "height": 35
    },
    "colab_type": "code",
    "id": "ZIRh_w6mJQ14",
    "outputId": "50db8986-194a-476e-a9c2-0354c0771209"
   },
   "outputs": [
    {
     "name": "stdout",
     "output_type": "stream",
     "text": [
      "We have 1485 unique pairs from these countries including dummy\n"
     ]
    }
   ],
   "source": [
    "#Creating pairs to do calculation of spatial distance\n",
    "from itertools import combinations\n",
    "pairs = [comb for comb in sorted(combinations(simCols, 2))]\n",
    "print(\"We have {} unique pairs from these countries including dummy\".format(len(pairs)))"
   ]
  },
  {
   "cell_type": "code",
   "execution_count": 39,
   "metadata": {
    "colab": {
     "base_uri": "https://localhost:8080/",
     "height": 53
    },
    "colab_type": "code",
    "id": "pKS5fVC9JQ15",
    "outputId": "787c1340-17d8-4386-d351-654edc56dd07"
   },
   "outputs": [
    {
     "name": "stdout",
     "output_type": "stream",
     "text": [
      " **** Similarity is 0.4828392733242386 ****\n",
      " **** Similarity is 0.4783742057862431 ****\n"
     ]
    }
   ],
   "source": [
    "#Both vectors are non zeroes\n",
    "print(\" **** Similarity is {} ****\".format(1-(spatial.distance.cosine(simMetricDF['AU'], simMetricDF['IN']))))\n",
    "\n",
    "# When even one vector is completeley a zero vector\n",
    "print(\" **** Similarity is {} ****\".format(1-(spatial.distance.cosine(simMetricDF['US'], simMetricDF['IN']))))"
   ]
  },
  {
   "cell_type": "code",
   "execution_count": 41,
   "metadata": {
    "colab": {},
    "colab_type": "code",
    "id": "Te_cnhVHJQ17"
   },
   "outputs": [],
   "source": [
    "#NewSimVal will store the similarity value calculated from the spatial cosine distance formula\n",
    "\n",
    "def dist (country1, country2):\n",
    "    return 1 - (\n",
    "        spatial.distance.cosine(\n",
    "            simMetricDF[country1].values,\n",
    "            simMetricDF[country2].values,\n",
    "        )\n",
    "    )\n",
    "    \n",
    "\n",
    "NewSimVals = []\n",
    "for item in pairs:\n",
    "    (country1, country2) = item\n",
    "#     if (np.sum(simMetricDF[item[0]]) == 0) & (np.sum(simMetricDF[item[1]]) ==0):\n",
    "#         NewSimVals.append((item,1))\n",
    "#     elif (np.sum(simMetricDF[item[0]]) == 0) | (np.sum(simMetricDF[item[1]]) ==0):\n",
    "#         NewSimVals.append((item,0))\n",
    "#     else :\n",
    "    NewSimVals.append((item, \n",
    "        dist(country1, country2)))"
   ]
  },
  {
   "cell_type": "code",
   "execution_count": 42,
   "metadata": {
    "colab": {},
    "colab_type": "code",
    "id": "Isr5ZalUJQ18"
   },
   "outputs": [
    {
     "data": {
      "text/html": [
       "<div>\n",
       "<style scoped>\n",
       "    .dataframe tbody tr th:only-of-type {\n",
       "        vertical-align: middle;\n",
       "    }\n",
       "\n",
       "    .dataframe tbody tr th {\n",
       "        vertical-align: top;\n",
       "    }\n",
       "\n",
       "    .dataframe thead th {\n",
       "        text-align: right;\n",
       "    }\n",
       "</style>\n",
       "<table border=\"1\" class=\"dataframe\">\n",
       "  <thead>\n",
       "    <tr style=\"text-align: right;\">\n",
       "      <th></th>\n",
       "      <th>pair</th>\n",
       "      <th>country_code_alpha2_A</th>\n",
       "      <th>country_code_alpha2_B</th>\n",
       "      <th>similarity</th>\n",
       "    </tr>\n",
       "  </thead>\n",
       "  <tbody>\n",
       "    <tr>\n",
       "      <th>0</th>\n",
       "      <td>(AD, AT)</td>\n",
       "      <td>AD</td>\n",
       "      <td>AT</td>\n",
       "      <td>0.688001</td>\n",
       "    </tr>\n",
       "    <tr>\n",
       "      <th>1</th>\n",
       "      <td>(AD, BE)</td>\n",
       "      <td>AD</td>\n",
       "      <td>BE</td>\n",
       "      <td>0.747421</td>\n",
       "    </tr>\n",
       "    <tr>\n",
       "      <th>2</th>\n",
       "      <td>(AD, BR)</td>\n",
       "      <td>AD</td>\n",
       "      <td>BR</td>\n",
       "      <td>0.752393</td>\n",
       "    </tr>\n",
       "    <tr>\n",
       "      <th>3</th>\n",
       "      <td>(AD, CA)</td>\n",
       "      <td>AD</td>\n",
       "      <td>CA</td>\n",
       "      <td>0.733737</td>\n",
       "    </tr>\n",
       "    <tr>\n",
       "      <th>4</th>\n",
       "      <td>(AD, CR)</td>\n",
       "      <td>AD</td>\n",
       "      <td>CR</td>\n",
       "      <td>0.598550</td>\n",
       "    </tr>\n",
       "  </tbody>\n",
       "</table>\n",
       "</div>"
      ],
      "text/plain": [
       "       pair country_code_alpha2_A country_code_alpha2_B  similarity\n",
       "0  (AD, AT)                    AD                    AT    0.688001\n",
       "1  (AD, BE)                    AD                    BE    0.747421\n",
       "2  (AD, BR)                    AD                    BR    0.752393\n",
       "3  (AD, CA)                    AD                    CA    0.733737\n",
       "4  (AD, CR)                    AD                    CR    0.598550"
      ]
     },
     "execution_count": 42,
     "metadata": {},
     "output_type": "execute_result"
    }
   ],
   "source": [
    "simMetricVals = pd.DataFrame(index=pairs, columns = None )\n",
    "simMetricVals['similarity'] = [j for (i,j) in NewSimVals]\n",
    "simMetricVals.reset_index(inplace=True)\n",
    "simMetricVals.rename(columns={'index':'pair'},inplace=True)\n",
    "simMetricVals[['country_code_alpha2_A', 'country_code_alpha2_B']] = pd.DataFrame(simMetricVals['pair'].tolist(), index=simMetricVals.index)\n",
    "simMetricVals = simMetricVals[['pair','country_code_alpha2_A','country_code_alpha2_B','similarity']]\n",
    "simMetricVals.head()"
   ]
  },
  {
   "cell_type": "code",
   "execution_count": 52,
   "metadata": {
    "colab": {
     "base_uri": "https://localhost:8080/",
     "height": 433
    },
    "colab_type": "code",
    "id": "tCDXAKldJQ1-",
    "outputId": "b390fb29-2a19-44dc-8b15-6bfb4a33eabf"
   },
   "outputs": [
    {
     "data": {
      "text/plain": [
       "<matplotlib.axes._subplots.AxesSubplot at 0x7f84a371c3c8>"
      ]
     },
     "execution_count": 52,
     "metadata": {},
     "output_type": "execute_result"
    },
    {
     "data": {
      "image/png": "[encoded data removed]",
      "text/plain": [
       "<Figure size 345.6x259.2 with 1 Axes>"
      ]
     },
     "metadata": {},
     "output_type": "display_data"
    }
   ],
   "source": [
    "simMetricVals['similarity'].plot.hist(bins=15)"
   ]
  },
  {
   "cell_type": "markdown",
   "metadata": {
    "colab_type": "text",
    "id": "ixUEoPHaJQ2C"
   },
   "source": [
    "### Introducing blocking *volume* into metric.\n",
    "\n",
    "While our first metric (above) gives us a good sense of blocking overlaps,\n",
    "it fails to show us variation in the *volume* of blocking. Some countries have more blocking than others. We want to account for that.\n",
    "\n",
    "We'll measure the volume of blocking in each country. We'll do that by measuring, for each country, the *proportion* of observations where `censored=True`."
   ]
  },
  {
   "cell_type": "code",
   "execution_count": 53,
   "metadata": {
    "colab": {},
    "colab_type": "code",
    "id": "gsRa6T47JQ2C"
   },
   "outputs": [],
   "source": [
    "NumSitesBlocked = iclabCLEAN.loc[\n",
    "    (iclabCLEAN['censored_updated']==True),\n",
    "    ['site','country']\n",
    "].sort_values(by='country',ascending = False)"
   ]
  },
  {
   "cell_type": "code",
   "execution_count": 54,
   "metadata": {
    "colab": {},
    "colab_type": "code",
    "id": "g5TVMxfBJQ2D"
   },
   "outputs": [],
   "source": [
    "total_observations_by_country = iclabCLEAN.groupby('country').count()"
   ]
  },
  {
   "cell_type": "code",
   "execution_count": 55,
   "metadata": {
    "colab": {},
    "colab_type": "code",
    "id": "3YWogYyAJQ2E"
   },
   "outputs": [],
   "source": [
    "total_blocked_observations_by_country = iclabCLEAN[iclabCLEAN['censored_updated']==True].groupby('country').count()"
   ]
  },
  {
   "cell_type": "code",
   "execution_count": 104,
   "metadata": {
    "colab": {},
    "colab_type": "code",
    "id": "z2bEKxrwJQ2F",
    "scrolled": true
   },
   "outputs": [
    {
     "data": {
      "text/plain": [
       "country\n",
       "AD    0.002910\n",
       "AT    0.003197\n",
       "AU    0.003185\n",
       "BE    0.003462\n",
       "BG    0.002762\n",
       "BR    0.001325\n",
       "BZ    0.000444\n",
       "CA    0.003412\n",
       "CL    0.000914\n",
       "CN    0.007894\n",
       "CO    0.002568\n",
       "CR    0.003318\n",
       "CZ    0.003147\n",
       "DK    0.003372\n",
       "DZ    0.003422\n",
       "ES    0.003197\n",
       "FI    0.003202\n",
       "FR    0.003372\n",
       "GR    0.003521\n",
       "HK    0.003529\n",
       "HU    0.002680\n",
       "ID    0.002492\n",
       "IL    0.003268\n",
       "IN    0.057488\n",
       "IS    0.003019\n",
       "JP    0.002852\n",
       "KE    0.001833\n",
       "KR    0.020348\n",
       "LI    0.003260\n",
       "LT    0.003261\n",
       "LU    0.003413\n",
       "MD    0.002620\n",
       "MX    0.002213\n",
       "MY    0.002776\n",
       "NL    0.003184\n",
       "NO    0.003448\n",
       "NZ    0.003180\n",
       "PE    0.002616\n",
       "PL    0.003639\n",
       "PT    0.003246\n",
       "RO    0.001553\n",
       "RS    0.002796\n",
       "RU    0.014301\n",
       "SA    0.105711\n",
       "SC    0.002923\n",
       "SE    0.003405\n",
       "SG    0.003200\n",
       "SK    0.003116\n",
       "TR    0.024376\n",
       "TW    0.000700\n",
       "UA    0.002311\n",
       "US    0.002981\n",
       "VE    0.000826\n",
       "VN    0.001500\n",
       "ZA    0.003331\n",
       "dtype: float64"
      ]
     },
     "execution_count": 104,
     "metadata": {},
     "output_type": "execute_result"
    }
   ],
   "source": [
    "dummy_column_for_counting = 'server_t'\n",
    "\n",
    "def as_single_column (df):\n",
    "    return df[[dummy_column_for_counting]]\n",
    "\n",
    "def proportion (row):\n",
    "    blocked = row[dummy_column_for_counting+'_blocked']\n",
    "    total = row[dummy_column_for_counting+'_total']\n",
    "    return blocked / total\n",
    "\n",
    "\n",
    "blocking_proporitons =\\\n",
    "as_single_column(total_blocked_observations_by_country)\\\n",
    "    .merge(as_single_column(total_observations_by_country),\n",
    "           on='country', suffixes=('_blocked', '_total'))\\\n",
    "    .apply(proportion, axis=1)\n",
    "\n",
    "blocking_proporitons"
   ]
  },
  {
   "cell_type": "markdown",
   "metadata": {
    "colab_type": "text",
    "id": "NWcWeQScJQ2G"
   },
   "source": [
    "Now we can compute the similarity in proportions between two countries."
   ]
  },
  {
   "cell_type": "code",
   "execution_count": 105,
   "metadata": {
    "colab": {},
    "colab_type": "code",
    "id": "GaegmRaLJQ2H"
   },
   "outputs": [],
   "source": [
    "def get_proportion (cc2):\n",
    "    return blocking_proporitons[cc2]\n",
    "\n",
    "def compute_similarity(proportion1, proportion2):\n",
    "    # keep it simple....\n",
    "    # minimum and maximum values will still be 0 and 1, since we're dealing with proportions.\n",
    "    return 1 - abs(proportion1 - proportion2)\n",
    "\n",
    "CountSimilarity = []\n",
    "for item in pairs:\n",
    "    (country1, country2) = item\n",
    "    similarity = compute_similarity(get_proportion(country1), get_proportion(country2))\n",
    "    if not similarity >0:\n",
    "        print(country1, country2, similarity, get_proportion(country1), get_proportion(country2))\n",
    "        raise \n",
    "    CountSimilarity.append((item, similarity))"
   ]
  },
  {
   "cell_type": "code",
   "execution_count": 106,
   "metadata": {
    "colab": {
     "base_uri": "https://localhost:8080/",
     "height": 419
    },
    "colab_type": "code",
    "id": "K53oGq6PJQ2I",
    "outputId": "eda8c07c-9cf4-4f2d-bede-203d24f02b60"
   },
   "outputs": [
    {
     "data": {
      "text/plain": [
       "<matplotlib.axes._subplots.AxesSubplot at 0x7f84a23419b0>"
      ]
     },
     "execution_count": 106,
     "metadata": {},
     "output_type": "execute_result"
    },
    {
     "data": {
      "image/png": "[encoded data removed]",
      "text/plain": [
       "<Figure size 345.6x259.2 with 1 Axes>"
      ]
     },
     "metadata": {},
     "output_type": "display_data"
    }
   ],
   "source": [
    "blocking_proportion_similarities =\\\n",
    "pd.DataFrame(CountSimilarity, columns=[\n",
    "    'pair',\n",
    "    'proportion-similarity'\n",
    "])\n",
    "blocking_proportion_similarities.plot.hist()"
   ]
  },
  {
   "cell_type": "markdown",
   "metadata": {
    "colab_type": "text",
    "id": "CmUTyPdsJQ2L"
   },
   "source": [
    "Not much variation here. That's okay. We'll just min-max normalize it."
   ]
  },
  {
   "cell_type": "code",
   "execution_count": 107,
   "metadata": {
    "colab": {
     "base_uri": "https://localhost:8080/",
     "height": 430
    },
    "colab_type": "code",
    "id": "YoOErubFJQ2L",
    "outputId": "079ab4e7-815b-4a51-f2ae-6a851bb8f40b"
   },
   "outputs": [
    {
     "data": {
      "image/png": "[encoded data removed]",
      "text/plain": [
       "<Figure size 345.6x259.2 with 1 Axes>"
      ]
     },
     "metadata": {},
     "output_type": "display_data"
    }
   ],
   "source": [
    "def min_max_norm(series):\n",
    "    return (series-series.min())/(series.max()-series.min())\n",
    "\n",
    "blocking_proportion_similarities['proportion-similarity-normalized'] = \\\n",
    "    min_max_norm(blocking_proportion_similarities['proportion-similarity'])\n",
    "blocking_proportion_similarities['proportion-similarity-normalized'].plot.hist()\n",
    "\n",
    "plt.show()"
   ]
  },
  {
   "cell_type": "markdown",
   "metadata": {
    "colab_type": "text",
    "id": "cqW0CImEJQ2M"
   },
   "source": [
    "## 4c. Merging these two"
   ]
  },
  {
   "cell_type": "code",
   "execution_count": 119,
   "metadata": {
    "colab": {
     "base_uri": "https://localhost:8080/",
     "height": 419
    },
    "colab_type": "code",
    "id": "79FDP7bEJQ2N",
    "outputId": "62c82a6a-6b67-498d-b04b-dcabec223505"
   },
   "outputs": [
    {
     "data": {
      "text/html": [
       "<div>\n",
       "<style scoped>\n",
       "    .dataframe tbody tr th:only-of-type {\n",
       "        vertical-align: middle;\n",
       "    }\n",
       "\n",
       "    .dataframe tbody tr th {\n",
       "        vertical-align: top;\n",
       "    }\n",
       "\n",
       "    .dataframe thead th {\n",
       "        text-align: right;\n",
       "    }\n",
       "</style>\n",
       "<table border=\"1\" class=\"dataframe\">\n",
       "  <thead>\n",
       "    <tr style=\"text-align: right;\">\n",
       "      <th></th>\n",
       "      <th>pair</th>\n",
       "      <th>country_code_alpha2_A</th>\n",
       "      <th>country_code_alpha2_B</th>\n",
       "      <th>Censored_Category_Similarity</th>\n",
       "      <th>proportion-similarity</th>\n",
       "      <th>Blocking_Proportion_Similarity</th>\n",
       "      <th>Overall_Similarity</th>\n",
       "    </tr>\n",
       "  </thead>\n",
       "  <tbody>\n",
       "    <tr>\n",
       "      <th>961</th>\n",
       "      <td>(NO, DK)</td>\n",
       "      <td>NO</td>\n",
       "      <td>DK</td>\n",
       "      <td>0.999213</td>\n",
       "      <td>0.999923</td>\n",
       "      <td>0.999271</td>\n",
       "      <td>0.999242</td>\n",
       "    </tr>\n",
       "    <tr>\n",
       "      <th>308</th>\n",
       "      <td>(CO, PE)</td>\n",
       "      <td>CO</td>\n",
       "      <td>PE</td>\n",
       "      <td>0.998878</td>\n",
       "      <td>0.999951</td>\n",
       "      <td>0.999538</td>\n",
       "      <td>0.999208</td>\n",
       "    </tr>\n",
       "    <tr>\n",
       "      <th>783</th>\n",
       "      <td>(LT, NZ)</td>\n",
       "      <td>LT</td>\n",
       "      <td>NZ</td>\n",
       "      <td>0.999067</td>\n",
       "      <td>0.999919</td>\n",
       "      <td>0.999227</td>\n",
       "      <td>0.999147</td>\n",
       "    </tr>\n",
       "    <tr>\n",
       "      <th>926</th>\n",
       "      <td>(NL, IL)</td>\n",
       "      <td>NL</td>\n",
       "      <td>IL</td>\n",
       "      <td>0.999055</td>\n",
       "      <td>0.999916</td>\n",
       "      <td>0.999199</td>\n",
       "      <td>0.999127</td>\n",
       "    </tr>\n",
       "    <tr>\n",
       "      <th>1185</th>\n",
       "      <td>(SE, LU)</td>\n",
       "      <td>SE</td>\n",
       "      <td>LU</td>\n",
       "      <td>0.998222</td>\n",
       "      <td>0.999992</td>\n",
       "      <td>0.999924</td>\n",
       "      <td>0.999073</td>\n",
       "    </tr>\n",
       "    <tr>\n",
       "      <th>...</th>\n",
       "      <td>...</td>\n",
       "      <td>...</td>\n",
       "      <td>...</td>\n",
       "      <td>...</td>\n",
       "      <td>...</td>\n",
       "      <td>...</td>\n",
       "      <td>...</td>\n",
       "    </tr>\n",
       "    <tr>\n",
       "      <th>599</th>\n",
       "      <td>(IN, VE)</td>\n",
       "      <td>IN</td>\n",
       "      <td>VE</td>\n",
       "      <td>0.066841</td>\n",
       "      <td>0.943338</td>\n",
       "      <td>0.461735</td>\n",
       "      <td>0.264288</td>\n",
       "    </tr>\n",
       "    <tr>\n",
       "      <th>487</th>\n",
       "      <td>(HK, SA)</td>\n",
       "      <td>HK</td>\n",
       "      <td>SA</td>\n",
       "      <td>0.477792</td>\n",
       "      <td>0.897818</td>\n",
       "      <td>0.029306</td>\n",
       "      <td>0.253549</td>\n",
       "    </tr>\n",
       "    <tr>\n",
       "      <th>1157</th>\n",
       "      <td>(SA, CR)</td>\n",
       "      <td>SA</td>\n",
       "      <td>CR</td>\n",
       "      <td>0.474148</td>\n",
       "      <td>0.897607</td>\n",
       "      <td>0.027305</td>\n",
       "      <td>0.250726</td>\n",
       "    </tr>\n",
       "    <tr>\n",
       "      <th>266</th>\n",
       "      <td>(CN, SA)</td>\n",
       "      <td>CN</td>\n",
       "      <td>SA</td>\n",
       "      <td>0.291390</td>\n",
       "      <td>0.902183</td>\n",
       "      <td>0.070775</td>\n",
       "      <td>0.181082</td>\n",
       "    </tr>\n",
       "    <tr>\n",
       "      <th>1409</th>\n",
       "      <td>(VE, SA)</td>\n",
       "      <td>VE</td>\n",
       "      <td>SA</td>\n",
       "      <td>0.061236</td>\n",
       "      <td>0.895116</td>\n",
       "      <td>0.003635</td>\n",
       "      <td>0.032436</td>\n",
       "    </tr>\n",
       "  </tbody>\n",
       "</table>\n",
       "<p>1485 rows × 7 columns</p>\n",
       "</div>"
      ],
      "text/plain": [
       "          pair country_code_alpha2_A country_code_alpha2_B  \\\n",
       "961   (NO, DK)                    NO                    DK   \n",
       "308   (CO, PE)                    CO                    PE   \n",
       "783   (LT, NZ)                    LT                    NZ   \n",
       "926   (NL, IL)                    NL                    IL   \n",
       "1185  (SE, LU)                    SE                    LU   \n",
       "...        ...                   ...                   ...   \n",
       "599   (IN, VE)                    IN                    VE   \n",
       "487   (HK, SA)                    HK                    SA   \n",
       "1157  (SA, CR)                    SA                    CR   \n",
       "266   (CN, SA)                    CN                    SA   \n",
       "1409  (VE, SA)                    VE                    SA   \n",
       "\n",
       "      Censored_Category_Similarity  proportion-similarity  \\\n",
       "961                       0.999213               0.999923   \n",
       "308                       0.998878               0.999951   \n",
       "783                       0.999067               0.999919   \n",
       "926                       0.999055               0.999916   \n",
       "1185                      0.998222               0.999992   \n",
       "...                            ...                    ...   \n",
       "599                       0.066841               0.943338   \n",
       "487                       0.477792               0.897818   \n",
       "1157                      0.474148               0.897607   \n",
       "266                       0.291390               0.902183   \n",
       "1409                      0.061236               0.895116   \n",
       "\n",
       "      Blocking_Proportion_Similarity  Overall_Similarity  \n",
       "961                         0.999271            0.999242  \n",
       "308                         0.999538            0.999208  \n",
       "783                         0.999227            0.999147  \n",
       "926                         0.999199            0.999127  \n",
       "1185                        0.999924            0.999073  \n",
       "...                              ...                 ...  \n",
       "599                         0.461735            0.264288  \n",
       "487                         0.029306            0.253549  \n",
       "1157                        0.027305            0.250726  \n",
       "266                         0.070775            0.181082  \n",
       "1409                        0.003635            0.032436  \n",
       "\n",
       "[1485 rows x 7 columns]"
      ]
     },
     "execution_count": 119,
     "metadata": {},
     "output_type": "execute_result"
    }
   ],
   "source": [
    "MetricDF = pd.merge(\n",
    "    simMetricVals,\n",
    "    blocking_proportion_similarities,\n",
    "    on='pair',\n",
    "    how='outer')\n",
    "MetricDF = MetricDF.rename(columns={\n",
    "    'similarity':'Censored_Category_Similarity',\n",
    "    'proportion-similarity-normalized':'Blocking_Proportion_Similarity',\n",
    "})\n",
    "MetricDF['Overall_Similarity'] = (MetricDF['Censored_Category_Similarity']+ MetricDF['Blocking_Proportion_Similarity'])/2\n",
    "MetricDF = MetricDF.sort_values(by='Overall_Similarity',ascending=False)\n",
    "MetricDF"
   ]
  },
  {
   "cell_type": "code",
   "execution_count": 120,
   "metadata": {
    "colab": {
     "base_uri": "https://localhost:8080/",
     "height": 430
    },
    "colab_type": "code",
    "id": "UUyXMrogJQ2O",
    "outputId": "2de562b1-3659-4552-a6b4-e45b585a592e"
   },
   "outputs": [
    {
     "data": {
      "image/png": "[encoded data removed]",
      "text/plain": [
       "<Figure size 345.6x259.2 with 1 Axes>"
      ]
     },
     "metadata": {},
     "output_type": "display_data"
    }
   ],
   "source": [
    "MetricDF['Overall_Similarity'].plot.hist()\n",
    "plt.show()"
   ]
  },
  {
   "cell_type": "code",
   "execution_count": 121,
   "metadata": {
    "colab": {},
    "colab_type": "code",
    "id": "xS7e2rdvJQ2U"
   },
   "outputs": [],
   "source": [
    "# def countryCodeConversion()\n",
    "\n",
    "iCA = MetricDF['country_code_alpha2_A']\n",
    "iCB = MetricDF['country_code_alpha2_B']\n",
    "\n",
    "countries = {}\n",
    "for country in pycountry.countries:\n",
    "    countries[country.alpha_2] = country.alpha_3\n",
    "\n",
    "\n",
    "a3A = [countries.get(country, 'Unknown code') for country in iCA]\n",
    "a3B = [countries.get(country, 'Unknown code') for country in iCB]"
   ]
  },
  {
   "cell_type": "code",
   "execution_count": 122,
   "metadata": {
    "colab": {},
    "colab_type": "code",
    "id": "E3vcf9ZLJQ2V"
   },
   "outputs": [],
   "source": [
    "MetricDF['country_code_alpha3_A'] = a3A\n",
    "MetricDF['country_code_alpha3_B'] = a3B"
   ]
  },
  {
   "cell_type": "code",
   "execution_count": 123,
   "metadata": {
    "colab": {
     "base_uri": "https://localhost:8080/",
     "height": 204
    },
    "colab_type": "code",
    "id": "27WQeBRBJQ2X",
    "outputId": "99687e7a-3798-446e-c540-c1b85f1114af"
   },
   "outputs": [
    {
     "data": {
      "text/html": [
       "<div>\n",
       "<style scoped>\n",
       "    .dataframe tbody tr th:only-of-type {\n",
       "        vertical-align: middle;\n",
       "    }\n",
       "\n",
       "    .dataframe tbody tr th {\n",
       "        vertical-align: top;\n",
       "    }\n",
       "\n",
       "    .dataframe thead th {\n",
       "        text-align: right;\n",
       "    }\n",
       "</style>\n",
       "<table border=\"1\" class=\"dataframe\">\n",
       "  <thead>\n",
       "    <tr style=\"text-align: right;\">\n",
       "      <th></th>\n",
       "      <th>pair</th>\n",
       "      <th>country_code_alpha2_A</th>\n",
       "      <th>country_code_alpha2_B</th>\n",
       "      <th>Censored_Category_Similarity</th>\n",
       "      <th>proportion-similarity</th>\n",
       "      <th>Blocking_Proportion_Similarity</th>\n",
       "      <th>Overall_Similarity</th>\n",
       "      <th>country_code_alpha3_A</th>\n",
       "      <th>country_code_alpha3_B</th>\n",
       "    </tr>\n",
       "  </thead>\n",
       "  <tbody>\n",
       "    <tr>\n",
       "      <th>961</th>\n",
       "      <td>(NO, DK)</td>\n",
       "      <td>NO</td>\n",
       "      <td>DK</td>\n",
       "      <td>0.999213</td>\n",
       "      <td>0.999923</td>\n",
       "      <td>0.999271</td>\n",
       "      <td>0.999242</td>\n",
       "      <td>NOR</td>\n",
       "      <td>DNK</td>\n",
       "    </tr>\n",
       "    <tr>\n",
       "      <th>308</th>\n",
       "      <td>(CO, PE)</td>\n",
       "      <td>CO</td>\n",
       "      <td>PE</td>\n",
       "      <td>0.998878</td>\n",
       "      <td>0.999951</td>\n",
       "      <td>0.999538</td>\n",
       "      <td>0.999208</td>\n",
       "      <td>COL</td>\n",
       "      <td>PER</td>\n",
       "    </tr>\n",
       "    <tr>\n",
       "      <th>783</th>\n",
       "      <td>(LT, NZ)</td>\n",
       "      <td>LT</td>\n",
       "      <td>NZ</td>\n",
       "      <td>0.999067</td>\n",
       "      <td>0.999919</td>\n",
       "      <td>0.999227</td>\n",
       "      <td>0.999147</td>\n",
       "      <td>LTU</td>\n",
       "      <td>NZL</td>\n",
       "    </tr>\n",
       "    <tr>\n",
       "      <th>926</th>\n",
       "      <td>(NL, IL)</td>\n",
       "      <td>NL</td>\n",
       "      <td>IL</td>\n",
       "      <td>0.999055</td>\n",
       "      <td>0.999916</td>\n",
       "      <td>0.999199</td>\n",
       "      <td>0.999127</td>\n",
       "      <td>NLD</td>\n",
       "      <td>ISR</td>\n",
       "    </tr>\n",
       "    <tr>\n",
       "      <th>1185</th>\n",
       "      <td>(SE, LU)</td>\n",
       "      <td>SE</td>\n",
       "      <td>LU</td>\n",
       "      <td>0.998222</td>\n",
       "      <td>0.999992</td>\n",
       "      <td>0.999924</td>\n",
       "      <td>0.999073</td>\n",
       "      <td>SWE</td>\n",
       "      <td>LUX</td>\n",
       "    </tr>\n",
       "  </tbody>\n",
       "</table>\n",
       "</div>"
      ],
      "text/plain": [
       "          pair country_code_alpha2_A country_code_alpha2_B  \\\n",
       "961   (NO, DK)                    NO                    DK   \n",
       "308   (CO, PE)                    CO                    PE   \n",
       "783   (LT, NZ)                    LT                    NZ   \n",
       "926   (NL, IL)                    NL                    IL   \n",
       "1185  (SE, LU)                    SE                    LU   \n",
       "\n",
       "      Censored_Category_Similarity  proportion-similarity  \\\n",
       "961                       0.999213               0.999923   \n",
       "308                       0.998878               0.999951   \n",
       "783                       0.999067               0.999919   \n",
       "926                       0.999055               0.999916   \n",
       "1185                      0.998222               0.999992   \n",
       "\n",
       "      Blocking_Proportion_Similarity  Overall_Similarity  \\\n",
       "961                         0.999271            0.999242   \n",
       "308                         0.999538            0.999208   \n",
       "783                         0.999227            0.999147   \n",
       "926                         0.999199            0.999127   \n",
       "1185                        0.999924            0.999073   \n",
       "\n",
       "     country_code_alpha3_A country_code_alpha3_B  \n",
       "961                    NOR                   DNK  \n",
       "308                    COL                   PER  \n",
       "783                    LTU                   NZL  \n",
       "926                    NLD                   ISR  \n",
       "1185                   SWE                   LUX  "
      ]
     },
     "execution_count": 123,
     "metadata": {},
     "output_type": "execute_result"
    }
   ],
   "source": [
    "MetricDF.head()"
   ]
  },
  {
   "cell_type": "markdown",
   "metadata": {
    "colab_type": "text",
    "id": "BrNYT1KMJQ2Y"
   },
   "source": [
    "******************\n",
    "#5 ***`GENERATING JSON`***\n",
    "******************\n",
    "\n",
    "*Dropping other columns for JSON conversion format compliance*"
   ]
  },
  {
   "cell_type": "code",
   "execution_count": 124,
   "metadata": {
    "colab": {},
    "colab_type": "code",
    "id": "w3MmPHkLJQ2Y"
   },
   "outputs": [],
   "source": [
    "MetricDFJSON = MetricDF[['country_code_alpha3_A','country_code_alpha3_B','Overall_Similarity']]"
   ]
  },
  {
   "cell_type": "code",
   "execution_count": 125,
   "metadata": {
    "colab": {
     "base_uri": "https://localhost:8080/",
     "height": 204
    },
    "colab_type": "code",
    "id": "1rRp5pcgJQ2a",
    "outputId": "085cef91-fda8-40c0-a76d-a80728d3f3ac"
   },
   "outputs": [
    {
     "data": {
      "text/html": [
       "<div>\n",
       "<style scoped>\n",
       "    .dataframe tbody tr th:only-of-type {\n",
       "        vertical-align: middle;\n",
       "    }\n",
       "\n",
       "    .dataframe tbody tr th {\n",
       "        vertical-align: top;\n",
       "    }\n",
       "\n",
       "    .dataframe thead th {\n",
       "        text-align: right;\n",
       "    }\n",
       "</style>\n",
       "<table border=\"1\" class=\"dataframe\">\n",
       "  <thead>\n",
       "    <tr style=\"text-align: right;\">\n",
       "      <th></th>\n",
       "      <th>country_code_alpha3_A</th>\n",
       "      <th>country_code_alpha3_B</th>\n",
       "      <th>Overall_Similarity</th>\n",
       "    </tr>\n",
       "  </thead>\n",
       "  <tbody>\n",
       "    <tr>\n",
       "      <th>961</th>\n",
       "      <td>NOR</td>\n",
       "      <td>DNK</td>\n",
       "      <td>0.999242</td>\n",
       "    </tr>\n",
       "    <tr>\n",
       "      <th>308</th>\n",
       "      <td>COL</td>\n",
       "      <td>PER</td>\n",
       "      <td>0.999208</td>\n",
       "    </tr>\n",
       "    <tr>\n",
       "      <th>783</th>\n",
       "      <td>LTU</td>\n",
       "      <td>NZL</td>\n",
       "      <td>0.999147</td>\n",
       "    </tr>\n",
       "    <tr>\n",
       "      <th>926</th>\n",
       "      <td>NLD</td>\n",
       "      <td>ISR</td>\n",
       "      <td>0.999127</td>\n",
       "    </tr>\n",
       "    <tr>\n",
       "      <th>1185</th>\n",
       "      <td>SWE</td>\n",
       "      <td>LUX</td>\n",
       "      <td>0.999073</td>\n",
       "    </tr>\n",
       "  </tbody>\n",
       "</table>\n",
       "</div>"
      ],
      "text/plain": [
       "     country_code_alpha3_A country_code_alpha3_B  Overall_Similarity\n",
       "961                    NOR                   DNK            0.999242\n",
       "308                    COL                   PER            0.999208\n",
       "783                    LTU                   NZL            0.999147\n",
       "926                    NLD                   ISR            0.999127\n",
       "1185                   SWE                   LUX            0.999073"
      ]
     },
     "execution_count": 125,
     "metadata": {},
     "output_type": "execute_result"
    }
   ],
   "source": [
    "MetricDFJSON.head()"
   ]
  },
  {
   "cell_type": "code",
   "execution_count": 126,
   "metadata": {
    "colab": {},
    "colab_type": "code",
    "id": "V5qIdLe7JQ2b"
   },
   "outputs": [],
   "source": [
    "pairs_of_similarities = {}\n",
    "for _, row in MetricDFJSON.iterrows():\n",
    "    country_pair = row.values[0] +'->'+ row.values[1]\n",
    "    pairs_of_similarities[country_pair] = row.values[2]*100"
   ]
  },
  {
   "cell_type": "code",
   "execution_count": 129,
   "metadata": {
    "colab": {
     "base_uri": "https://localhost:8080/",
     "height": 125
    },
    "colab_type": "code",
    "id": "Bz-hDEixJQ2c",
    "outputId": "e4053626-cc64-4e5a-b8bf-a79ae5f8599c"
   },
   "outputs": [],
   "source": [
    "output_json = json.dumps(pairs_of_similarities)"
   ]
  },
  {
   "cell_type": "code",
   "execution_count": 130,
   "metadata": {
    "colab": {},
    "colab_type": "code",
    "id": "M4eGx3gVJQ2d"
   },
   "outputs": [],
   "source": [
    "with open('data.json', 'w') as outfile:\n",
    "    json.dump(output_json, outfile)"
   ]
  },
  {
   "cell_type": "markdown",
   "metadata": {
    "colab_type": "text",
    "id": "cJaZwE6EIW-5"
   },
   "source": [
    "****************\n",
    "# ***`6. Verifying results from 4 and 5`***"
   ]
  },
  {
   "cell_type": "markdown",
   "metadata": {
    "colab_type": "text",
    "id": "mxWYz9Q4lWsn"
   },
   "source": [
    "## 6a. Verifying results from 4 and 5"
   ]
  },
  {
   "cell_type": "markdown",
   "metadata": {
    "colab_type": "text",
    "id": "bNTgXy5Glhz_"
   },
   "source": [
    "Why are there NA results for Greece and South Africa when data is present"
   ]
  },
  {
   "cell_type": "code",
   "execution_count": null,
   "metadata": {
    "colab": {},
    "colab_type": "code",
    "id": "xPQCqjUgI2Mp"
   },
   "outputs": [],
   "source": [
    "# iclabcombined[(iclabcombined['country']=='GR')&(iclabcombined['censored_updated']==True)]['site'].unique()"
   ]
  },
  {
   "cell_type": "code",
   "execution_count": null,
   "metadata": {
    "colab": {},
    "colab_type": "code",
    "id": "eLW6JuYVJk9X"
   },
   "outputs": [],
   "source": [
    "# iclabcombined[(iclabcombined['country']=='ZA')&(iclabcombined['censored_updated']==True)]['site'].unique()"
   ]
  },
  {
   "cell_type": "code",
   "execution_count": null,
   "metadata": {
    "colab": {},
    "colab_type": "code",
    "id": "hN5vy-0pKfhR"
   },
   "outputs": [],
   "source": [
    "# display(iclabcombined[(iclabcombined['country']=='GR')&(iclabcombined['censored_updated']==True)]['category'].unique())\n",
    "# display(iclabcombined[(iclabcombined['country']=='ZA')&(iclabcombined['censored_updated']==True)]['category'].unique())"
   ]
  },
  {
   "cell_type": "markdown",
   "metadata": {
    "colab_type": "text",
    "id": "sBMlkEnolpOZ"
   },
   "source": [
    "The NA results seem to be on account of dns being the column and values being zero for DNS in case of Greece"
   ]
  },
  {
   "cell_type": "markdown",
   "metadata": {
    "colab_type": "text",
    "id": "WA4MsodRlQXc"
   },
   "source": [
    "## 6b. Testing for different columns"
   ]
  },
  {
   "cell_type": "code",
   "execution_count": null,
   "metadata": {
    "colab": {
     "base_uri": "https://localhost:8080/",
     "height": 341
    },
    "colab_type": "code",
    "id": "4wQbkR1uaLUr",
    "outputId": "67f8158b-b24c-49c6-b0f6-55d4d8615319"
   },
   "outputs": [
    {
     "data": {
      "text/plain": [
       "server_t                   0\n",
       "country                    0\n",
       "schedule_name              0\n",
       "url                        0\n",
       "dns                 27829396\n",
       "dns_reason          35216027\n",
       "dns_all             13600017\n",
       "dns_reason_all      37719857\n",
       "http_status          2125476\n",
       "block                2125476\n",
       "body_len             2125476\n",
       "http_reason          5185276\n",
       "packet_updated      46636786\n",
       "packet_reason       46636786\n",
       "censored_updated           0\n",
       "site                       0\n",
       "category                   0\n",
       "dtype: int64"
      ]
     },
     "execution_count": 215,
     "metadata": {
      "tags": []
     },
     "output_type": "execute_result"
    }
   ],
   "source": [
    "iclabcombined.isnull().sum(axis = 0)"
   ]
  },
  {
   "cell_type": "code",
   "execution_count": null,
   "metadata": {
    "colab": {},
    "colab_type": "code",
    "id": "GYBYLuE6Kz0N"
   },
   "outputs": [],
   "source": [
    "dummy_column_for_counting1 = 'block'\n",
    "\n",
    "def as_single_column1 (df):\n",
    "    return df[[dummy_column_for_counting1]]\n",
    "\n",
    "def proportion1 (row):\n",
    "    blocked = row[dummy_column_for_counting1+'_blocked']\n",
    "    total = row[dummy_column_for_counting1+'_total']\n",
    "    return blocked / total\n",
    "\n",
    "\n",
    "blocking_proporitons1 =\\\n",
    "as_single_column1(total_blocked_observations_by_country)\\\n",
    "    .merge(as_single_column1(total_observations_by_country),\n",
    "           on='country', suffixes=('_blocked', '_total'))\\\n",
    "    .apply(proportion1, axis=1)"
   ]
  },
  {
   "cell_type": "code",
   "execution_count": null,
   "metadata": {
    "colab": {},
    "colab_type": "code",
    "id": "1fcDYzeTkeo3"
   },
   "outputs": [],
   "source": [
    "def get_proportion1 (cc2):\n",
    "    # try to retrieve it\n",
    "    try:\n",
    "        return blocking_proporitons1[cc2]\n",
    "    # if we don't have data on it\n",
    "    except KeyError:\n",
    "        # treat it as 0\n",
    "        return 0\n",
    "\n",
    "def compute_similarity1(proportion1, proportion2):\n",
    "    # keep it simple....\n",
    "    # minimum and maximum values will still be 0 and 1, since we're dealing with proportions.\n",
    "    return 1 - abs(proportion1 - proportion2)\n",
    "\n",
    "CountSimilarity1 = []\n",
    "for item in pairs:\n",
    "    (country1, country2) = item\n",
    "    similarity1 = compute_similarity1(get_proportion1(country1), get_proportion1(country2))\n",
    "    CountSimilarity1.append((item, similarity1))"
   ]
  },
  {
   "cell_type": "code",
   "execution_count": null,
   "metadata": {
    "colab": {
     "base_uri": "https://localhost:8080/",
     "height": 419
    },
    "colab_type": "code",
    "id": "3QwzDSg-kjgs",
    "outputId": "f89c2e7c-1c18-4451-de73-98f5aaf0386d"
   },
   "outputs": [
    {
     "data": {
      "text/html": [
       "<div>\n",
       "<style scoped>\n",
       "    .dataframe tbody tr th:only-of-type {\n",
       "        vertical-align: middle;\n",
       "    }\n",
       "\n",
       "    .dataframe tbody tr th {\n",
       "        vertical-align: top;\n",
       "    }\n",
       "\n",
       "    .dataframe thead th {\n",
       "        text-align: right;\n",
       "    }\n",
       "</style>\n",
       "<table border=\"1\" class=\"dataframe\">\n",
       "  <thead>\n",
       "    <tr style=\"text-align: right;\">\n",
       "      <th></th>\n",
       "      <th>pair</th>\n",
       "      <th>proportion-similarity</th>\n",
       "    </tr>\n",
       "  </thead>\n",
       "  <tbody>\n",
       "    <tr>\n",
       "      <th>0</th>\n",
       "      <td>(AD, AT)</td>\n",
       "      <td>0.999677</td>\n",
       "    </tr>\n",
       "    <tr>\n",
       "      <th>1</th>\n",
       "      <td>(AD, BE)</td>\n",
       "      <td>0.999441</td>\n",
       "    </tr>\n",
       "    <tr>\n",
       "      <th>2</th>\n",
       "      <td>(AD, BR)</td>\n",
       "      <td>0.998499</td>\n",
       "    </tr>\n",
       "    <tr>\n",
       "      <th>3</th>\n",
       "      <td>(AD, CA)</td>\n",
       "      <td>0.999493</td>\n",
       "    </tr>\n",
       "    <tr>\n",
       "      <th>4</th>\n",
       "      <td>(AD, CR)</td>\n",
       "      <td>0.999595</td>\n",
       "    </tr>\n",
       "    <tr>\n",
       "      <th>...</th>\n",
       "      <td>...</td>\n",
       "      <td>...</td>\n",
       "    </tr>\n",
       "    <tr>\n",
       "      <th>1480</th>\n",
       "      <td>(ZA, SG)</td>\n",
       "      <td>0.999847</td>\n",
       "    </tr>\n",
       "    <tr>\n",
       "      <th>1481</th>\n",
       "      <td>(ZA, SK)</td>\n",
       "      <td>0.999613</td>\n",
       "    </tr>\n",
       "    <tr>\n",
       "      <th>1482</th>\n",
       "      <td>(ZA, TR)</td>\n",
       "      <td>0.978443</td>\n",
       "    </tr>\n",
       "    <tr>\n",
       "      <th>1483</th>\n",
       "      <td>(ZA, TW)</td>\n",
       "      <td>0.997163</td>\n",
       "    </tr>\n",
       "    <tr>\n",
       "      <th>1484</th>\n",
       "      <td>(ZA, VE)</td>\n",
       "      <td>0.997246</td>\n",
       "    </tr>\n",
       "  </tbody>\n",
       "</table>\n",
       "<p>1485 rows × 2 columns</p>\n",
       "</div>"
      ],
      "text/plain": [
       "          pair  proportion-similarity\n",
       "0     (AD, AT)               0.999677\n",
       "1     (AD, BE)               0.999441\n",
       "2     (AD, BR)               0.998499\n",
       "3     (AD, CA)               0.999493\n",
       "4     (AD, CR)               0.999595\n",
       "...        ...                    ...\n",
       "1480  (ZA, SG)               0.999847\n",
       "1481  (ZA, SK)               0.999613\n",
       "1482  (ZA, TR)               0.978443\n",
       "1483  (ZA, TW)               0.997163\n",
       "1484  (ZA, VE)               0.997246\n",
       "\n",
       "[1485 rows x 2 columns]"
      ]
     },
     "execution_count": 218,
     "metadata": {
      "tags": []
     },
     "output_type": "execute_result"
    }
   ],
   "source": [
    "blocking_proportion_similarities1 =\\\n",
    "pd.DataFrame(CountSimilarity1, columns=[\n",
    "    'pair',\n",
    "    'proportion-similarity'\n",
    "])\n",
    "blocking_proportion_similarities1"
   ]
  },
  {
   "cell_type": "code",
   "execution_count": null,
   "metadata": {
    "colab": {
     "base_uri": "https://localhost:8080/",
     "height": 430
    },
    "colab_type": "code",
    "id": "e_XIxH2lmB1c",
    "outputId": "2ff993fc-bf0f-41e6-c5a8-1fb1c5f68a4b"
   },
   "outputs": [
    {
     "data": {
      "image/png": "[encoded data removed]",
      "text/plain": [
       "<Figure size 640x480 with 1 Axes>"
      ]
     },
     "metadata": {
      "tags": []
     },
     "output_type": "display_data"
    }
   ],
   "source": [
    "blocking_proportion_similarities1['proportion-similarity'].plot.hist()\n",
    "plt.show()"
   ]
  },
  {
   "cell_type": "code",
   "execution_count": null,
   "metadata": {
    "colab": {
     "base_uri": "https://localhost:8080/",
     "height": 430
    },
    "colab_type": "code",
    "id": "eDS7cxrTWlC8",
    "outputId": "62cc5de6-580c-45af-cc98-043ddb153ae7"
   },
   "outputs": [
    {
     "data": {
      "image/png": "[encoded data removed]",
      "text/plain": [
       "<Figure size 640x480 with 1 Axes>"
      ]
     },
     "metadata": {
      "tags": []
     },
     "output_type": "display_data"
    }
   ],
   "source": [
    "def min_max_norm(series):\n",
    "    return (series-series.min())/(series.max()-series.min())\n",
    "\n",
    "blocking_proportion_similarities1['proportion-similarity-normalized'] = \\\n",
    "    min_max_norm(blocking_proportion_similarities1['proportion-similarity'])\n",
    "blocking_proportion_similarities1['proportion-similarity-normalized'].plot.hist()\n",
    "\n",
    "plt.show()"
   ]
  },
  {
   "cell_type": "code",
   "execution_count": null,
   "metadata": {
    "colab": {
     "base_uri": "https://localhost:8080/",
     "height": 419
    },
    "colab_type": "code",
    "id": "1xMI9N1cZPtS",
    "outputId": "33dff513-a87f-454d-dfa8-a7493ccbb6ab"
   },
   "outputs": [
    {
     "data": {
      "text/html": [
       "<div>\n",
       "<style scoped>\n",
       "    .dataframe tbody tr th:only-of-type {\n",
       "        vertical-align: middle;\n",
       "    }\n",
       "\n",
       "    .dataframe tbody tr th {\n",
       "        vertical-align: top;\n",
       "    }\n",
       "\n",
       "    .dataframe thead th {\n",
       "        text-align: right;\n",
       "    }\n",
       "</style>\n",
       "<table border=\"1\" class=\"dataframe\">\n",
       "  <thead>\n",
       "    <tr style=\"text-align: right;\">\n",
       "      <th></th>\n",
       "      <th>pair</th>\n",
       "      <th>country_code_alpha2_A</th>\n",
       "      <th>country_code_alpha2_B</th>\n",
       "      <th>Censored_Category_Similarity</th>\n",
       "      <th>proportion-similarity</th>\n",
       "      <th>Blocking_Proportion_Similarity</th>\n",
       "      <th>Overall_Similarity</th>\n",
       "    </tr>\n",
       "  </thead>\n",
       "  <tbody>\n",
       "    <tr>\n",
       "      <th>961</th>\n",
       "      <td>(NO, DK)</td>\n",
       "      <td>NO</td>\n",
       "      <td>DK</td>\n",
       "      <td>99.921272</td>\n",
       "      <td>0.999939</td>\n",
       "      <td>0.999424</td>\n",
       "      <td>50.460348</td>\n",
       "    </tr>\n",
       "    <tr>\n",
       "      <th>783</th>\n",
       "      <td>(LT, NZ)</td>\n",
       "      <td>LT</td>\n",
       "      <td>NZ</td>\n",
       "      <td>99.906682</td>\n",
       "      <td>0.999900</td>\n",
       "      <td>0.999054</td>\n",
       "      <td>50.452868</td>\n",
       "    </tr>\n",
       "    <tr>\n",
       "      <th>926</th>\n",
       "      <td>(NL, IL)</td>\n",
       "      <td>NL</td>\n",
       "      <td>IL</td>\n",
       "      <td>99.905538</td>\n",
       "      <td>0.999800</td>\n",
       "      <td>0.998099</td>\n",
       "      <td>50.451819</td>\n",
       "    </tr>\n",
       "    <tr>\n",
       "      <th>308</th>\n",
       "      <td>(CO, PE)</td>\n",
       "      <td>CO</td>\n",
       "      <td>PE</td>\n",
       "      <td>99.887805</td>\n",
       "      <td>0.999957</td>\n",
       "      <td>0.999596</td>\n",
       "      <td>50.443700</td>\n",
       "    </tr>\n",
       "    <tr>\n",
       "      <th>377</th>\n",
       "      <td>(ES, MD)</td>\n",
       "      <td>ES</td>\n",
       "      <td>MD</td>\n",
       "      <td>99.887884</td>\n",
       "      <td>0.999470</td>\n",
       "      <td>0.994966</td>\n",
       "      <td>50.441425</td>\n",
       "    </tr>\n",
       "    <tr>\n",
       "      <th>...</th>\n",
       "      <td>...</td>\n",
       "      <td>...</td>\n",
       "      <td>...</td>\n",
       "      <td>...</td>\n",
       "      <td>...</td>\n",
       "      <td>...</td>\n",
       "      <td>...</td>\n",
       "    </tr>\n",
       "    <tr>\n",
       "      <th>1227</th>\n",
       "      <td>(SG, VE)</td>\n",
       "      <td>SG</td>\n",
       "      <td>VE</td>\n",
       "      <td>3.475451</td>\n",
       "      <td>0.997398</td>\n",
       "      <td>0.975288</td>\n",
       "      <td>2.225370</td>\n",
       "    </tr>\n",
       "    <tr>\n",
       "      <th>135</th>\n",
       "      <td>(BG, VE)</td>\n",
       "      <td>BG</td>\n",
       "      <td>VE</td>\n",
       "      <td>3.224529</td>\n",
       "      <td>0.997901</td>\n",
       "      <td>0.980061</td>\n",
       "      <td>2.102295</td>\n",
       "    </tr>\n",
       "    <tr>\n",
       "      <th>1400</th>\n",
       "      <td>(VE, CR)</td>\n",
       "      <td>VE</td>\n",
       "      <td>CR</td>\n",
       "      <td>2.410872</td>\n",
       "      <td>0.997508</td>\n",
       "      <td>0.976333</td>\n",
       "      <td>1.693602</td>\n",
       "    </tr>\n",
       "    <tr>\n",
       "      <th>271</th>\n",
       "      <td>(CN, VE)</td>\n",
       "      <td>CN</td>\n",
       "      <td>VE</td>\n",
       "      <td>2.393743</td>\n",
       "      <td>0.992320</td>\n",
       "      <td>0.927041</td>\n",
       "      <td>1.660392</td>\n",
       "    </tr>\n",
       "    <tr>\n",
       "      <th>1411</th>\n",
       "      <td>(VE, TR)</td>\n",
       "      <td>VE</td>\n",
       "      <td>TR</td>\n",
       "      <td>2.374639</td>\n",
       "      <td>0.975689</td>\n",
       "      <td>0.769052</td>\n",
       "      <td>1.571846</td>\n",
       "    </tr>\n",
       "  </tbody>\n",
       "</table>\n",
       "<p>1485 rows × 7 columns</p>\n",
       "</div>"
      ],
      "text/plain": [
       "          pair  ... Overall_Similarity\n",
       "961   (NO, DK)  ...          50.460348\n",
       "783   (LT, NZ)  ...          50.452868\n",
       "926   (NL, IL)  ...          50.451819\n",
       "308   (CO, PE)  ...          50.443700\n",
       "377   (ES, MD)  ...          50.441425\n",
       "...        ...  ...                ...\n",
       "1227  (SG, VE)  ...           2.225370\n",
       "135   (BG, VE)  ...           2.102295\n",
       "1400  (VE, CR)  ...           1.693602\n",
       "271   (CN, VE)  ...           1.660392\n",
       "1411  (VE, TR)  ...           1.571846\n",
       "\n",
       "[1485 rows x 7 columns]"
      ]
     },
     "execution_count": 221,
     "metadata": {
      "tags": []
     },
     "output_type": "execute_result"
    }
   ],
   "source": [
    "MetricDF1 = pd.merge(simMetricVals,blocking_proportion_similarities1,on='pair',how='outer')\n",
    "MetricDF1 = MetricDF1.rename(columns={\n",
    "    'similarity':'Censored_Category_Similarity',\n",
    "    'proportion-similarity-normalized':'Blocking_Proportion_Similarity',\n",
    "})\n",
    "MetricDF1['Overall_Similarity'] = (MetricDF1['Censored_Category_Similarity']+ MetricDF1['Blocking_Proportion_Similarity'])/2\n",
    "MetricDF1 = MetricDF1.sort_values(by='Overall_Similarity',ascending=False)\n",
    "MetricDF1"
   ]
  },
  {
   "cell_type": "code",
   "execution_count": null,
   "metadata": {
    "colab": {
     "base_uri": "https://localhost:8080/",
     "height": 433
    },
    "colab_type": "code",
    "id": "1yJWjfQtZdfU",
    "outputId": "f3db2ce0-43d3-4912-d930-650fc5e5dcff"
   },
   "outputs": [
    {
     "data": {
      "image/png": "[encoded data removed]",
      "text/plain": [
       "<Figure size 640x480 with 1 Axes>"
      ]
     },
     "metadata": {
      "tags": []
     },
     "output_type": "display_data"
    }
   ],
   "source": [
    "MetricDF1['Overall_Similarity'].plot.hist()\n",
    "plt.show()"
   ]
  },
  {
   "cell_type": "markdown",
   "metadata": {
    "colab_type": "text",
    "id": "TN50poI7bRp-"
   },
   "source": [
    "****************\n",
    "# 7. ***`HYPOTHESIS TESTING`***\n",
    "****************"
   ]
  },
  {
   "cell_type": "markdown",
   "metadata": {
    "colab_type": "text",
    "id": "k2KccZxOuhQg"
   },
   "source": [
    "## Importing the Data"
   ]
  },
  {
   "cell_type": "markdown",
   "metadata": {
    "colab_type": "text",
    "id": "gdn9EYYtt9Nu"
   },
   "source": [
    "Importing the METRICDFJSON DataFrame"
   ]
  },
  {
   "cell_type": "code",
   "execution_count": 16,
   "metadata": {
    "colab": {
     "base_uri": "https://localhost:8080/",
     "height": 35
    },
    "colab_type": "code",
    "id": "J3_bkKujtkZ6",
    "outputId": "a28a9ef5-9bf8-43b9-8817-cafd3837e3ea"
   },
   "outputs": [
    {
     "data": {
      "text/plain": [
       "(1378, 3)"
      ]
     },
     "execution_count": 16,
     "metadata": {},
     "output_type": "execute_result"
    }
   ],
   "source": [
    "#MetricDFJSON.to_pickle(\"MetricDFJSON.pkl\")\n",
    "MetricDFJSON = pd.read_pickle(\"../data/iclabcombined_and_hypothesis_data/MetricDFJSON.pkl\")\n",
    "MetricDFJSON = MetricDFJSON.dropna()\n",
    "MetricDFJSON.shape"
   ]
  },
  {
   "cell_type": "markdown",
   "metadata": {
    "colab_type": "text",
    "id": "n_oWSRVHuYS7"
   },
   "source": [
    "Importing non-Internet proxy data files"
   ]
  },
  {
   "cell_type": "code",
   "execution_count": 35,
   "metadata": {
    "colab": {},
    "colab_type": "code",
    "id": "YI8x3U33ufxV"
   },
   "outputs": [
    {
     "data": {
      "text/plain": [
       "(29, 2)"
      ]
     },
     "execution_count": 35,
     "metadata": {},
     "output_type": "execute_result"
    }
   ],
   "source": [
    "#Reading the NATO data\n",
    "NATO = pd.read_pickle(\"../data/iclabcombined_and_hypothesis_data/NATO.pkl\")\n",
    "NATO.shape"
   ]
  },
  {
   "cell_type": "code",
   "execution_count": 22,
   "metadata": {
    "colab": {},
    "colab_type": "code",
    "id": "9DyFrloYvzAU"
   },
   "outputs": [],
   "source": [
    "#Prepping the WEF Data\n",
    "WEF = pd.read_csv(\"../data/iclabcombined_and_hypothesis_data/WEFCompIndex.csv\",index_col=0)\n",
    "WEF['code'] = change_code(WEF['Country'])\n",
    "missCodes =['TWN','KOR','IRL','CZE','RUS','BRN','VNM','GEO','MDA','IRN','BOL','Unknown code','Unknown code','TZA','CIV','GMB','VEN','COD']\n",
    "missIdxs = WEF[WEF['code']=='Unknown code'].index\n",
    "\n",
    "for i in range(len(missIdxs)):\n",
    "  WEF.at[missIdxs[i],'code']= missCodes[i]\n",
    "\n",
    "WEF = WEF[['code','scores']]\n",
    "\n",
    "#Reading the WEF Data\n",
    "WEF.to_pickle(\"WEF.pkl\")\n",
    "WEF = pd.read_pickle(\"WEF.pkl\")"
   ]
  },
  {
   "cell_type": "code",
   "execution_count": 27,
   "metadata": {
    "colab": {},
    "colab_type": "code",
    "id": "BqwcvMpLwRjy"
   },
   "outputs": [
    {
     "data": {
      "text/plain": [
       "(49, 2)"
      ]
     },
     "execution_count": 27,
     "metadata": {},
     "output_type": "execute_result"
    }
   ],
   "source": [
    "#Prepping the Commonwealth Data\n",
    "# Commonwealth = pd.read_csv(\"../data/iclabcombined_and_hypothesis_data/CWdata.csv\")\n",
    "# code = change_code(Commonwealth['COUNTRY'])\n",
    "# Commonwealth['code'] = code\n",
    "# Commonwealth.at[6,'code']= 'BRN'\n",
    "# Commonwealth.at[11,'code']= 'GMB'\n",
    "# Commonwealth.at[31,'code']= 'CYP'\n",
    "# Commonwealth.at[50,'code']= 'TZA'\n",
    "# Commonwealth = Commonwealth[Commonwealth['code']!='Unknown code']\n",
    "\n",
    "# #Reading the Commonwealth Data\n",
    "# Commonwealth.to_pickle(\"../data/iclabcombined_and_hypothesis_data/Commonwealth.pkl\")\n",
    "Commonwealth = pd.read_pickle(\"../data/iclabcombined_and_hypothesis_data/Commonwealth.pkl\")\n",
    "Commonwealth.shape"
   ]
  },
  {
   "cell_type": "code",
   "execution_count": 32,
   "metadata": {
    "colab": {},
    "colab_type": "code",
    "id": "Ks2BmUciwh3b"
   },
   "outputs": [
    {
     "data": {
      "text/plain": [
       "(180, 2)"
      ]
     },
     "execution_count": 32,
     "metadata": {},
     "output_type": "execute_result"
    }
   ],
   "source": [
    "# #Prepping the Media Freedom Data\n",
    "# MediaDF = pd.read_csv('../data/iclabcombined_and_hypothesis_data/PressFreedomIndex.csv').loc[:,['ISO','Score 2019','Rank 2019']].sort_values(by='Rank 2019',ascending=True).set_index(\"Rank 2019\")\n",
    "# MediaDF['Score 2019'] = MediaDF['Score 2019'].apply(lambda x : x.replace(',','.') )\n",
    "# MediaDF['Score 2019'] = MediaDF['Score 2019'].astype(float)\n",
    "# MediaDF.rename(columns={'ISO':'code','Score 2019':'scores'},inplace=True)\n",
    "# MediaDF['scores'] = 100 - MediaDF['scores']\n",
    "\n",
    "# #Reading the Media Freedom Data\n",
    "# MediaDF.to_pickle(\"../data/iclabcombined_and_hypothesis_data/MediaDF.pkl\")\n",
    "MediaDF = pd.read_pickle(\"../data/iclabcombined_and_hypothesis_data/MediaDF.pkl\")\n",
    "MediaDF.shape"
   ]
  },
  {
   "cell_type": "code",
   "execution_count": 33,
   "metadata": {
    "colab": {},
    "colab_type": "code",
    "id": "JXzNMmBnwuqd"
   },
   "outputs": [
    {
     "data": {
      "text/plain": [
       "(209, 2)"
      ]
     },
     "execution_count": 33,
     "metadata": {},
     "output_type": "execute_result"
    }
   ],
   "source": [
    "# #Prepping the QNI Data\n",
    "# QNI = pd.read_csv('QNI.csv').sort_values(by='Total',ascending=False).dropna()\n",
    "# CCode = change_code(QNI['Country'])\n",
    "# QNI['code']= CCode\n",
    "# QNI = QNI[['code','Total']].rename(columns={'Total':'scores'})\n",
    "\n",
    "# #Reading the Media Freedom Data\n",
    "# QNI.to_pickle(\"../data/iclabcombined_and_hypothesis_data/QNI.pkl\")\n",
    "QNI = pd.read_pickle(\"../data/iclabcombined_and_hypothesis_data/QNI.pkl\")\n",
    "QNI.shape"
   ]
  },
  {
   "cell_type": "code",
   "execution_count": 34,
   "metadata": {
    "colab": {},
    "colab_type": "code",
    "id": "KIC_dytZw6kC"
   },
   "outputs": [
    {
     "data": {
      "text/plain": [
       "(174, 2)"
      ]
     },
     "execution_count": 34,
     "metadata": {},
     "output_type": "execute_result"
    }
   ],
   "source": [
    "# #Prepping the FIW (Freedom in the World) Data\n",
    "# Freedom = pd.read_csv('../data/iclabcombined_and_hypothesis_data/FH2018.csv')\n",
    "# code = change_code(Freedom['Country/Territory'])\n",
    "# Freedom['code'] = code\n",
    "# Freedom = Freedom[['code','Total']].rename(columns={'Total':'scores'})\n",
    "# Freedom = Freedom.sort_values(by='scores',ascending=False)\n",
    "# Freedom = Freedom[Freedom['code']!='Unknown code']\n",
    "\n",
    "# #Reading the FIW Data\n",
    "# Freedom.to_pickle(\"../data/iclabcombined_and_hypothesis_data/Freedom.pkl\")\n",
    "Freedom = pd.read_pickle(\"../data/iclabcombined_and_hypothesis_data/Freedom.pkl\")\n",
    "Freedom.shape"
   ]
  },
  {
   "cell_type": "markdown",
   "metadata": {
    "colab_type": "text",
    "id": "MgPK89cKXPj7"
   },
   "source": [
    "## General purpose functions to test our hypothesis'."
   ]
  },
  {
   "cell_type": "markdown",
   "metadata": {
    "colab_type": "text",
    "id": "kt7G2G-Bn0IZ"
   },
   "source": [
    "We will be using the Mann Whitney U test to determine if two groups are similar to each other or not. This is a non-parametric test used for samples of at least size 20 when the samples dont originate from normal distributions. To learn more refer the link below:\n",
    "\n",
    "[MannWhitneyUTest](https://machinelearningmastery.com/nonparametric-statistical-significance-tests-in-python/)"
   ]
  },
  {
   "cell_type": "code",
   "execution_count": 168,
   "metadata": {
    "colab": {
     "base_uri": "https://localhost:8080/",
     "height": 71
    },
    "colab_type": "code",
    "id": "lwYIQzJCzxXl",
    "outputId": "5e651de7-6252-4c80-ca42-afb6124d520a"
   },
   "outputs": [],
   "source": [
    "def correlation (df):\n",
    "    blocking_sims = []\n",
    "    wef_sims = []\n",
    "    \n",
    "    def get_value (country):\n",
    "        return df[df['code']==country].scores.values[0]\n",
    "    \n",
    "    for _, row in MetricDFJSON.iterrows():\n",
    "        country1 = row['country_code_alpha3_A']\n",
    "        country2 = row['country_code_alpha3_B']\n",
    "        try:\n",
    "            country1_wef = get_value(country1)\n",
    "        except:\n",
    "            pass\n",
    "        try:\n",
    "            country2_wef = get_value(country2)\n",
    "        except:\n",
    "            pass\n",
    "        sim = 100 - abs(country1_wef - country2_wef)\n",
    "        wef_sim = sim/100\n",
    "        wef_sims.append(wef_sim)\n",
    "        blocking_sim = row['Overall_Similarity']\n",
    "        blocking_sims.append(blocking_sim)\n",
    "        \n",
    "    deg_freedom = len(blocking_sims)-2\n",
    "    test = scipy.stats.pearsonr(blocking_sims, wef_sims)\n",
    "    \n",
    "    return {\n",
    "        'test': test, \n",
    "        'degrees of freedom': deg_freedom,\n",
    "    }"
   ]
  },
  {
   "cell_type": "code",
   "execution_count": 169,
   "metadata": {
    "colab": {},
    "colab_type": "code",
    "id": "6Q0qeWPpecAg"
   },
   "outputs": [],
   "source": [
    "def Hypo_Test_Groups(df):\n",
    "\n",
    "  '''\n",
    "  Parameters:\n",
    "  Dataframe of non-interent proxy\n",
    "\n",
    "  Used when our proxy measure buckets countries based on their presence or absence in a group e.g. NATO or CommonWealth\n",
    "  Creates 2 buckets\n",
    "  One for an edge where both vertices are countries that are members of a given group\n",
    "  Another for an edge where one vertice belongs to member country and another to a non-member country.\n",
    "\n",
    "  Returns:\n",
    "  p value for the MannWhitneyU test run on these two buckets\n",
    "  variances for these two buckets\n",
    "  '''\n",
    "\n",
    "  #List of countries which are in the Affinity group like NATO or Commonwealth\n",
    "  AffinityGroup = df['code'].to_list()\n",
    "  \n",
    "  #Determining indexes of our two buckets\n",
    "  #One bucket is for similar edges i.e. both countries are members of a group\n",
    "  #The other bucket is for dissimilar edges i.e. while one country is a group member the other is not\n",
    "  allIndex = MetricDFJSON.index.to_list()\n",
    "  nonMembersIndex =  (MetricDFJSON[~((MetricDFJSON['country_code_alpha3_A'].isin(AffinityGroup)) | (MetricDFJSON['country_code_alpha3_B'].isin(AffinityGroup)))]).index.to_list()\n",
    "  bothMembersIndex = (MetricDFJSON[(MetricDFJSON['country_code_alpha3_A'].isin(AffinityGroup)) & (MetricDFJSON['country_code_alpha3_B'].isin(AffinityGroup))]).index.to_list()\n",
    "  oneMemberIndex =  [idx for idx in allIndex if idx not in (nonMembersIndex+bothMembersIndex)]\n",
    "\n",
    "  #Similarity scores for the two buckets\n",
    "  Member2MemberScores = MetricDFJSON.loc[bothMembersIndex]['Overall_Similarity'].to_list()\n",
    "  Member2NonMemberScores = MetricDFJSON.loc[oneMemberIndex]['Overall_Similarity'].to_list()\n",
    "\n",
    "  #MannWhitneyUTest\n",
    "  tScore,p = scipy.stats.mannwhitneyu(Member2MemberScores,Member2NonMemberScores,use_continuity=True,alternative='greater')\n",
    "  testResults = {'test score':tScore, 'p Value':p}\n",
    "\n",
    "  variancesDict = {\n",
    "      'Varinace between Similiar Edges' : statistics.variance(Member2MemberScores),\n",
    "      'Variance between Dissimilar Edges' : statistics.variance(Member2NonMemberScores),\n",
    "  }\n",
    "\n",
    "  mediansDict = {\n",
    "      'Median of hyp. greater group': np.median(Member2MemberScores),\n",
    "      'Median of hyp. less group': np.median(Member2NonMemberScores),\n",
    "  }\n",
    "\n",
    "  return testResults, variancesDict, mediansDict"
   ]
  },
  {
   "cell_type": "markdown",
   "metadata": {
    "colab_type": "text",
    "id": "TSl2v_JOLLig"
   },
   "source": [
    "## 7a. Military Alliance (NATO Members)"
   ]
  },
  {
   "cell_type": "markdown",
   "metadata": {
    "colab_type": "text",
    "id": "4ICFlC26iTvC"
   },
   "source": [
    "The North Atlantic Treaty Organization, also called the North Atlantic Alliance, is an intergovernmental military alliance between 30 North American and European countries\n",
    "\n",
    "Learn More: \n",
    "\n",
    "[About NATO](https://en.wikipedia.org/wiki/Member_states_of_NATO)"
   ]
  },
  {
   "cell_type": "code",
   "execution_count": 170,
   "metadata": {
    "colab": {
     "base_uri": "https://localhost:8080/",
     "height": 142
    },
    "colab_type": "code",
    "id": "37_j44xYoUrW",
    "outputId": "8eb4190f-f197-48a0-e007-272ebe8cea49"
   },
   "outputs": [
    {
     "data": {
      "text/html": [
       "<div>\n",
       "<style scoped>\n",
       "    .dataframe tbody tr th:only-of-type {\n",
       "        vertical-align: middle;\n",
       "    }\n",
       "\n",
       "    .dataframe tbody tr th {\n",
       "        vertical-align: top;\n",
       "    }\n",
       "\n",
       "    .dataframe thead th {\n",
       "        text-align: right;\n",
       "    }\n",
       "</style>\n",
       "<table border=\"1\" class=\"dataframe\">\n",
       "  <thead>\n",
       "    <tr style=\"text-align: right;\">\n",
       "      <th></th>\n",
       "      <th>CNTRY_NAME</th>\n",
       "      <th>code</th>\n",
       "    </tr>\n",
       "  </thead>\n",
       "  <tbody>\n",
       "    <tr>\n",
       "      <th>0</th>\n",
       "      <td>Albania</td>\n",
       "      <td>ALB</td>\n",
       "    </tr>\n",
       "    <tr>\n",
       "      <th>1</th>\n",
       "      <td>Belgium</td>\n",
       "      <td>BEL</td>\n",
       "    </tr>\n",
       "    <tr>\n",
       "      <th>2</th>\n",
       "      <td>Bulgaria</td>\n",
       "      <td>BGR</td>\n",
       "    </tr>\n",
       "  </tbody>\n",
       "</table>\n",
       "</div>"
      ],
      "text/plain": [
       "  CNTRY_NAME code\n",
       "0    Albania  ALB\n",
       "1    Belgium  BEL\n",
       "2   Bulgaria  BGR"
      ]
     },
     "execution_count": 170,
     "metadata": {},
     "output_type": "execute_result"
    }
   ],
   "source": [
    "#Checking the Data\n",
    "NATO.head(3)"
   ]
  },
  {
   "cell_type": "markdown",
   "metadata": {
    "colab_type": "text",
    "id": "zzdAG2ogNi7u"
   },
   "source": [
    "Essentially testing - Countries are more similar to each other in Internet Censorship when they are NATO members as opposed to when one of them is a NATO member and the other isnt\n",
    "\n",
    "**H0** - SIMILARITY SCORE FOR country pairs wherein both are memebers of NATO AND country pairs wherein one country is a member of NATO while the other isnt ARE SIMILIAR \n",
    "                          \n",
    "\n",
    "H1 - SIMILARITY SCORES FOR country pairs wherein both are memebers of NATO IS GREATER THAN country pairs wherein one country is a member of NATO while the other isnt. \n"
   ]
  },
  {
   "cell_type": "code",
   "execution_count": 171,
   "metadata": {
    "colab": {
     "base_uri": "https://localhost:8080/",
     "height": 71
    },
    "colab_type": "code",
    "id": "UdKDtPFXgire",
    "outputId": "650f38b7-8824-4cb0-ed76-b39dd49d8c69"
   },
   "outputs": [
    {
     "data": {
      "text/plain": [
       "({'test score': 79556.0, 'p Value': 3.87518494655817e-19},\n",
       " {'Varinace between Similiar Edges': 0.012768973625993559,\n",
       "  'Variance between Dissimilar Edges': 0.026379295854797202},\n",
       " {'Median of hyp. greater group': 0.9908185531792778,\n",
       "  'Median of hyp. less group': 0.9553708687940732})"
      ]
     },
     "execution_count": 171,
     "metadata": {},
     "output_type": "execute_result"
    }
   ],
   "source": [
    "Hypo_Test_Groups(NATO)"
   ]
  },
  {
   "cell_type": "markdown",
   "metadata": {
    "colab_type": "text",
    "id": "s3xZHWEkM9ND"
   },
   "source": [
    "Since the above p value is lesser than threshold(0.5), we can reject H0\n",
    "\n",
    "Hence we can conclude that countries which are memebrs of NATO are more similar to each other than to countries which arent members of NATO\n",
    "\n",
    "As expected non-members states have much higher variance than member states"
   ]
  },
  {
   "cell_type": "markdown",
   "metadata": {
    "colab_type": "text",
    "id": "LRU1AaZNRov2"
   },
   "source": [
    "## 7b. Economy (WEF Competitiveness Index)"
   ]
  },
  {
   "cell_type": "markdown",
   "metadata": {
    "colab_type": "text",
    "id": "dxM-FnIskmdG"
   },
   "source": [
    "The World Economic Forums Global Competitiveness Index measures the set of institutions, policies, and factors that set the sustainable current and medium-term levels of economic prosperity. The Global Competitiveness Index's annual reports are somewhat similar to the Ease of Doing Business Index.\n",
    "\n",
    "Learn More:\n",
    "\n",
    "[WEF 2019 Report](https://en.wikipedia.org/wiki/Global_Competitiveness_Report)"
   ]
  },
  {
   "cell_type": "code",
   "execution_count": 172,
   "metadata": {
    "colab": {
     "base_uri": "https://localhost:8080/",
     "height": 142
    },
    "colab_type": "code",
    "id": "ONyI_2e-Rurk",
    "outputId": "23cb051d-a1b3-4889-953b-0289f9788fbd"
   },
   "outputs": [
    {
     "data": {
      "text/html": [
       "<div>\n",
       "<style scoped>\n",
       "    .dataframe tbody tr th:only-of-type {\n",
       "        vertical-align: middle;\n",
       "    }\n",
       "\n",
       "    .dataframe tbody tr th {\n",
       "        vertical-align: top;\n",
       "    }\n",
       "\n",
       "    .dataframe thead th {\n",
       "        text-align: right;\n",
       "    }\n",
       "</style>\n",
       "<table border=\"1\" class=\"dataframe\">\n",
       "  <thead>\n",
       "    <tr style=\"text-align: right;\">\n",
       "      <th></th>\n",
       "      <th>code</th>\n",
       "      <th>scores</th>\n",
       "      <th>Index</th>\n",
       "    </tr>\n",
       "  </thead>\n",
       "  <tbody>\n",
       "    <tr>\n",
       "      <th>0</th>\n",
       "      <td>SGP</td>\n",
       "      <td>84.8</td>\n",
       "      <td>High</td>\n",
       "    </tr>\n",
       "    <tr>\n",
       "      <th>1</th>\n",
       "      <td>USA</td>\n",
       "      <td>83.7</td>\n",
       "      <td>High</td>\n",
       "    </tr>\n",
       "    <tr>\n",
       "      <th>2</th>\n",
       "      <td>HKG</td>\n",
       "      <td>83.1</td>\n",
       "      <td>High</td>\n",
       "    </tr>\n",
       "  </tbody>\n",
       "</table>\n",
       "</div>"
      ],
      "text/plain": [
       "  code  scores Index\n",
       "0  SGP    84.8  High\n",
       "1  USA    83.7  High\n",
       "2  HKG    83.1  High"
      ]
     },
     "execution_count": 172,
     "metadata": {},
     "output_type": "execute_result"
    }
   ],
   "source": [
    "# Reading the Data\n",
    "WEF.head(3)"
   ]
  },
  {
   "cell_type": "markdown",
   "metadata": {
    "colab_type": "text",
    "id": "nh0Dc6S2jmq_"
   },
   "source": [
    "### Test 1: Correlation\n",
    "We compute simliarities between WEF scores across country pairs. "
   ]
  },
  {
   "cell_type": "code",
   "execution_count": 173,
   "metadata": {},
   "outputs": [
    {
     "data": {
      "text/plain": [
       "{'test': (0.1532195406499631, 1.0883644659921674e-08),\n",
       " 'degrees of freedom': 1376}"
      ]
     },
     "execution_count": 173,
     "metadata": {},
     "output_type": "execute_result"
    }
   ],
   "source": [
    "correlation(WEF)"
   ]
  },
  {
   "cell_type": "markdown",
   "metadata": {},
   "source": [
    "We find similarities in WEF scores to be slightly positively correlated with similarities in website blocking, r(1376) = 0.15, p<0.001. "
   ]
  },
  {
   "cell_type": "markdown",
   "metadata": {
    "colab_type": "text",
    "id": "g2esjFV4jbi9"
   },
   "source": [
    "## European Economic Area (EEA) \n",
    "\n",
    "\n",
    "Austria, Belgium, Bulgaria, Croatia, Republic of Cyprus, Czech Republic, Denmark, Estonia, Finland, France, Germany, Greece, Hungary, Ireland, Italy, Latvia, Lithuania, Luxembourg, Malta, Netherlands, Poland, Portugal, Romania, Slovakia, Slovenia, Spain, Iceland, Norway, Sweden.\n",
    "\n"
   ]
  },
  {
   "cell_type": "code",
   "execution_count": 174,
   "metadata": {},
   "outputs": [],
   "source": [
    "EEA_country_names = [\n",
    " 'Austria', 'Belgium', 'Bulgaria', 'Croatia', 'Republic of Cyprus', 'Czech Republic', 'Denmark', 'Estonia', 'Finland', 'France', 'Germany', 'Greece', 'Hungary', 'Ireland', 'Italy', 'Latvia', 'Lithuania', 'Luxembourg', 'Malta', 'Netherlands', 'Poland', 'Portugal', 'Romania', 'Slovakia', 'Slovenia', 'Spain', 'Iceland', 'Norway', 'Sweden', 'Liechtenstein', 'Norway', 'Switzerland',   \n",
    "]\n",
    "\n",
    "ccs = pd.read_csv('../local_country_variables/countries_codes_and_coordinates.csv')\n",
    "\n",
    "eea = []\n",
    "for name in EEA_country_names:\n",
    "    try:\n",
    "        alpha3cc = ccs[ccs['Country'] == name]['Alpha-3 code'].values[0][2:-1]\n",
    "    except:\n",
    "        pass\n",
    "    eea.append([name, alpha3cc])\n",
    "\n",
    "EEA = pd.DataFrame(eea, columns=['CNTRY_NAME', 'code'])"
   ]
  },
  {
   "cell_type": "code",
   "execution_count": 175,
   "metadata": {},
   "outputs": [
    {
     "data": {
      "text/plain": [
       "({'test score': 90590.0, 'p Value': 4.2886529811028635e-21},\n",
       " {'Varinace between Similiar Edges': 0.0010116765775590615,\n",
       "  'Variance between Dissimilar Edges': 0.025814691328673017},\n",
       " {'Median of hyp. greater group': 0.9889461276295837,\n",
       "  'Median of hyp. less group': 0.9552646623894848})"
      ]
     },
     "execution_count": 175,
     "metadata": {},
     "output_type": "execute_result"
    }
   ],
   "source": [
    "Hypo_Test_Groups(EEA)"
   ]
  },
  {
   "cell_type": "markdown",
   "metadata": {
    "colab_type": "text",
    "id": "yJvpa_PVirs8"
   },
   "source": [
    "## 7c. Cultural affinity (Commonwealth Members)"
   ]
  },
  {
   "cell_type": "markdown",
   "metadata": {
    "colab_type": "text",
    "id": "6AfF0X5wleAn"
   },
   "source": [
    "The Commonwealth of Nations is a political association of 54 member states, nearly all former territories of the British Empire. Member states have no legal obligations to one another, but are connected through their use of the English language and historical ties.\n",
    "\n",
    "Learn More:\n",
    "[Commonwealth of Nations](https://en.wikipedia.org/wiki/Commonwealth_of_Nations)"
   ]
  },
  {
   "cell_type": "code",
   "execution_count": 183,
   "metadata": {
    "colab": {
     "base_uri": "https://localhost:8080/",
     "height": 142
    },
    "colab_type": "code",
    "id": "8QBTPPfLVAcN",
    "outputId": "e3cdd14b-159e-4760-840c-b0eb301ccf02"
   },
   "outputs": [
    {
     "data": {
      "text/html": [
       "<div>\n",
       "<style scoped>\n",
       "    .dataframe tbody tr th:only-of-type {\n",
       "        vertical-align: middle;\n",
       "    }\n",
       "\n",
       "    .dataframe tbody tr th {\n",
       "        vertical-align: top;\n",
       "    }\n",
       "\n",
       "    .dataframe thead th {\n",
       "        text-align: right;\n",
       "    }\n",
       "</style>\n",
       "<table border=\"1\" class=\"dataframe\">\n",
       "  <thead>\n",
       "    <tr style=\"text-align: right;\">\n",
       "      <th></th>\n",
       "      <th>COUNTRY</th>\n",
       "      <th>code</th>\n",
       "    </tr>\n",
       "  </thead>\n",
       "  <tbody>\n",
       "    <tr>\n",
       "      <th>0</th>\n",
       "      <td>Antigua and Barbuda</td>\n",
       "      <td>ATG</td>\n",
       "    </tr>\n",
       "    <tr>\n",
       "      <th>1</th>\n",
       "      <td>Australia</td>\n",
       "      <td>AUS</td>\n",
       "    </tr>\n",
       "    <tr>\n",
       "      <th>2</th>\n",
       "      <td>Bangladesh</td>\n",
       "      <td>BGD</td>\n",
       "    </tr>\n",
       "  </tbody>\n",
       "</table>\n",
       "</div>"
      ],
      "text/plain": [
       "               COUNTRY code\n",
       "0  Antigua and Barbuda  ATG\n",
       "1            Australia  AUS\n",
       "2           Bangladesh  BGD"
      ]
     },
     "execution_count": 183,
     "metadata": {},
     "output_type": "execute_result"
    }
   ],
   "source": [
    "#Reading the Data\n",
    "Commonwealth.head(3)"
   ]
  },
  {
   "cell_type": "markdown",
   "metadata": {
    "colab_type": "text",
    "id": "F19w2wP04A0a"
   },
   "source": [
    "Essentially testing - Countries are more similar to each other in Internet Censorship when they are culturally aligned (e.g. both are Commonwealth nations) as opposed to when one of them is a Commonwealth member and the other isnt\n",
    "\n",
    "**H0** - SIMILARITY SCORE FOR country pairs wherein both are memebers of Commonwealth AND country pairs wherein one country is a member of Commonwealth while the other isnt ARE SIMILIAR \n",
    "                          \n",
    "\n",
    "H1 - SIMILARITY SCORES FOR country pairs wherein both are memebers of Commonwealth IS GREATER THAN country pairs wherein one country is a member of Commonwealth while the other isnt. \n"
   ]
  },
  {
   "cell_type": "code",
   "execution_count": 184,
   "metadata": {
    "colab": {
     "base_uri": "https://localhost:8080/",
     "height": 71
    },
    "colab_type": "code",
    "id": "FLP_JuPkjDOp",
    "outputId": "f1e58a0b-28a6-483e-e79e-3fb1acae0b0d"
   },
   "outputs": [
    {
     "data": {
      "text/plain": [
       "({'test score': 9393.0, 'p Value': 0.6264448631342487},\n",
       " {'Varinace between Similiar Edges': 0.03171062310318558,\n",
       "  'Variance between Dissimilar Edges': 0.02995818757560687},\n",
       " {'Median of hyp. greater group': 0.9466965491621719,\n",
       "  'Median of hyp. less group': 0.9540215084273962})"
      ]
     },
     "execution_count": 184,
     "metadata": {},
     "output_type": "execute_result"
    }
   ],
   "source": [
    "Hypo_Test_Groups(Commonwealth)"
   ]
  },
  {
   "cell_type": "markdown",
   "metadata": {
    "colab_type": "text",
    "id": "Co4F93DybZmX"
   },
   "source": [
    "Since the above p value is greater than threshold(0.5), we CAN NOT reject H0\n",
    "\n",
    "Hence we CAN NOT SAY that countries which are memebrs of commonwealth are more similar to each other than to countries which arent members of COMMONWEALTH.\n",
    "\n",
    "Chances are a country could be as similar to a member of commonwealth in terms of its internet censorship as it could be to a non member\n",
    "\n",
    "The variance calculated for these two buckets also demonstrates the same"
   ]
  },
  {
   "cell_type": "markdown",
   "metadata": {
    "colab_type": "text",
    "id": "IvijQ-Lxbusz"
   },
   "source": [
    "## 7d. Media Freedom (World Freedom of Press Index)"
   ]
  },
  {
   "cell_type": "markdown",
   "metadata": {
    "colab_type": "text",
    "id": "sy0VTSIOxXW0"
   },
   "source": [
    "The WORLD PRESS FREEDOM INDEX by Reporters Without Borders ranks 180 countries and regions according to the level of freedom available to journalists. It is a snapshot of the media freedom situation based on an evaluation of pluralism, independence of the media, quality of legislative framework and safety of journalists in each country and region.\n",
    "\n",
    "Learn More:\n",
    "\n",
    "Reporters Without Borders Report [2019 Ranking](https://rsf.org/en/ranking/2019)\n",
    "\n"
   ]
  },
  {
   "cell_type": "code",
   "execution_count": 178,
   "metadata": {
    "colab": {
     "base_uri": "https://localhost:8080/",
     "height": 173
    },
    "colab_type": "code",
    "id": "HViBsQCSb0Ek",
    "outputId": "332c16ff-7b89-44df-faba-69408663203c"
   },
   "outputs": [
    {
     "data": {
      "text/html": [
       "<div>\n",
       "<style scoped>\n",
       "    .dataframe tbody tr th:only-of-type {\n",
       "        vertical-align: middle;\n",
       "    }\n",
       "\n",
       "    .dataframe tbody tr th {\n",
       "        vertical-align: top;\n",
       "    }\n",
       "\n",
       "    .dataframe thead th {\n",
       "        text-align: right;\n",
       "    }\n",
       "</style>\n",
       "<table border=\"1\" class=\"dataframe\">\n",
       "  <thead>\n",
       "    <tr style=\"text-align: right;\">\n",
       "      <th></th>\n",
       "      <th>code</th>\n",
       "      <th>scores</th>\n",
       "    </tr>\n",
       "    <tr>\n",
       "      <th>Rank 2019</th>\n",
       "      <th></th>\n",
       "      <th></th>\n",
       "    </tr>\n",
       "  </thead>\n",
       "  <tbody>\n",
       "    <tr>\n",
       "      <th>1</th>\n",
       "      <td>NOR</td>\n",
       "      <td>92.18</td>\n",
       "    </tr>\n",
       "    <tr>\n",
       "      <th>2</th>\n",
       "      <td>FIN</td>\n",
       "      <td>92.10</td>\n",
       "    </tr>\n",
       "    <tr>\n",
       "      <th>3</th>\n",
       "      <td>SWE</td>\n",
       "      <td>91.69</td>\n",
       "    </tr>\n",
       "  </tbody>\n",
       "</table>\n",
       "</div>"
      ],
      "text/plain": [
       "          code  scores\n",
       "Rank 2019             \n",
       "1          NOR   92.18\n",
       "2          FIN   92.10\n",
       "3          SWE   91.69"
      ]
     },
     "execution_count": 178,
     "metadata": {},
     "output_type": "execute_result"
    }
   ],
   "source": [
    "#Reading the Data\n",
    "MediaDF.head(3)"
   ]
  },
  {
   "cell_type": "code",
   "execution_count": 179,
   "metadata": {},
   "outputs": [
    {
     "data": {
      "text/plain": [
       "{'test': (0.40284008922040404, 6.573405995296292e-55),\n",
       " 'degrees of freedom': 1376}"
      ]
     },
     "execution_count": 179,
     "metadata": {},
     "output_type": "execute_result"
    }
   ],
   "source": [
    "correlation(MediaDF)"
   ]
  },
  {
   "cell_type": "markdown",
   "metadata": {
    "colab_type": "text",
    "id": "8NqFGHc1eICF"
   },
   "source": [
    "We find a moderate positive correlation between blocking similarity and media freedom, r(1376 )= 0.40, p<0.001."
   ]
  },
  {
   "cell_type": "markdown",
   "metadata": {
    "colab_type": "text",
    "id": "LjGbJOuedxoB"
   },
   "source": [
    "Since the above p value is lesser than threshold(0.5), we can reject H0\n",
    "\n",
    "\n",
    "Hence we can conclude that country which are having high press Freedom  are more similar in internet censorship to countries where there is also high press Freedom THAN to countries which are having lesser press freedom\n",
    "\n",
    "The difference in variation of their similarity scores is noteworthy. The variance of similarity scores for edges where both countries have high press freedom is 10 times lesser than variance in similarity scores for edges wherein only one country has high press freedom while the other has low press freedom"
   ]
  },
  {
   "cell_type": "markdown",
   "metadata": {
    "colab_type": "text",
    "id": "i-PkEfHqfAxn"
   },
   "source": [
    "## 7e. Quality of Nationality (QNI Index)"
   ]
  },
  {
   "cell_type": "markdown",
   "metadata": {
    "colab_type": "text",
    "id": "kkAuQdqovUFE"
   },
   "source": [
    "The Quality of Nationality Index (QNI) ranks the objective quality of nationalities worldwide. It explores three internal factors (economic strength, human development, and peace and stability) and four external factors (diversity and weight of travel freedom and diversity and weight of settlement freedom) which are used to measure the value of virtually all nationalities worldwide\n",
    "\n",
    "Learn More:\n",
    "\n",
    "[QNI website](https://www.nationalityindex.com/)\n",
    "\n",
    "[Wiki Page](https://en.wikipedia.org/wiki/The_Quality_of_Nationality_Index)"
   ]
  },
  {
   "cell_type": "code",
   "execution_count": 180,
   "metadata": {
    "colab": {
     "base_uri": "https://localhost:8080/",
     "height": 142
    },
    "colab_type": "code",
    "id": "ko5SIpvFlJlh",
    "outputId": "c6d9ed9c-adae-4f1b-ef12-b098292fd20e"
   },
   "outputs": [
    {
     "data": {
      "text/html": [
       "<div>\n",
       "<style scoped>\n",
       "    .dataframe tbody tr th:only-of-type {\n",
       "        vertical-align: middle;\n",
       "    }\n",
       "\n",
       "    .dataframe tbody tr th {\n",
       "        vertical-align: top;\n",
       "    }\n",
       "\n",
       "    .dataframe thead th {\n",
       "        text-align: right;\n",
       "    }\n",
       "</style>\n",
       "<table border=\"1\" class=\"dataframe\">\n",
       "  <thead>\n",
       "    <tr style=\"text-align: right;\">\n",
       "      <th></th>\n",
       "      <th>code</th>\n",
       "      <th>scores</th>\n",
       "    </tr>\n",
       "  </thead>\n",
       "  <tbody>\n",
       "    <tr>\n",
       "      <th>60</th>\n",
       "      <td>FRA</td>\n",
       "      <td>83.46</td>\n",
       "    </tr>\n",
       "    <tr>\n",
       "      <th>127</th>\n",
       "      <td>NLD</td>\n",
       "      <td>82.82</td>\n",
       "    </tr>\n",
       "    <tr>\n",
       "      <th>64</th>\n",
       "      <td>DEU</td>\n",
       "      <td>82.75</td>\n",
       "    </tr>\n",
       "  </tbody>\n",
       "</table>\n",
       "</div>"
      ],
      "text/plain": [
       "    code  scores\n",
       "60   FRA   83.46\n",
       "127  NLD   82.82\n",
       "64   DEU   82.75"
      ]
     },
     "execution_count": 180,
     "metadata": {},
     "output_type": "execute_result"
    }
   ],
   "source": [
    "#Reading the Data\n",
    "QNI.head(3)"
   ]
  },
  {
   "cell_type": "code",
   "execution_count": 182,
   "metadata": {
    "colab": {
     "base_uri": "https://localhost:8080/",
     "height": 71
    },
    "colab_type": "code",
    "id": "B5oJ_icIYUid",
    "outputId": "cf8c8e6a-1837-4ba4-e56f-cc4ac5616cdd"
   },
   "outputs": [
    {
     "data": {
      "text/plain": [
       "{'test': (0.08112200732025271, 0.0025816851857823515),\n",
       " 'degrees of freedom': 1376}"
      ]
     },
     "execution_count": 182,
     "metadata": {},
     "output_type": "execute_result"
    }
   ],
   "source": [
    "correlation(QNI)"
   ]
  },
  {
   "cell_type": "markdown",
   "metadata": {
    "colab_type": "text",
    "id": "f__oAeB_ueQC"
   },
   "source": [
    "Since the above p value is lesser than threshold(0.5), we can reject H0\n",
    "\n",
    "Hence we can conclude that country which are having high quality of overall living  are more similar in internet censorship to countries where there is high quality of overall living THAN to countries which are having low quality of overall living \n",
    "\n",
    "The difference in variation of their similarity scores is noteworthy. The variance of similarity scores for edges where both countries have high QNI Index is almost 8 times lesser than variance in similarity scores for edges wherein only one country has high QNI index  while the other has low QNI index "
   ]
  },
  {
   "cell_type": "markdown",
   "metadata": {
    "colab_type": "text",
    "id": "V36DLT4yu6cj"
   },
   "source": [
    "## 7f. Civil Rights and Freedom  (Freedom in the World Index)"
   ]
  },
  {
   "cell_type": "markdown",
   "metadata": {
    "colab_type": "text",
    "id": "AvU9wJ3Fih6q"
   },
   "source": [
    "Freedom in the World is Freedom House's flagship annual report, assessing the condition of political rights and civil liberties around the world. For each country and territory, Freedom in the World analyzes the electoral process, political pluralism and participation, the functioning of the government, freedom of expression and of belief, associational and organizational rights, the rule of law, and personal autonomy and individual rights.\n",
    "\n",
    "Learn More:\n",
    "\n",
    "[FIW 2018 Report](https://freedomhouse.org/sites/default/files/2020-02/FreedomintheWorld2018COMPLETEBOOK.pdf)"
   ]
  },
  {
   "cell_type": "code",
   "execution_count": 24,
   "metadata": {
    "colab": {
     "base_uri": "https://localhost:8080/",
     "height": 142
    },
    "colab_type": "code",
    "id": "0RIAtMiy3p0u",
    "outputId": "2c6b6ad9-c846-4312-b250-a791a7bd1cf1"
   },
   "outputs": [
    {
     "data": {
      "text/html": [
       "<div>\n",
       "<style scoped>\n",
       "    .dataframe tbody tr th:only-of-type {\n",
       "        vertical-align: middle;\n",
       "    }\n",
       "\n",
       "    .dataframe tbody tr th {\n",
       "        vertical-align: top;\n",
       "    }\n",
       "\n",
       "    .dataframe thead th {\n",
       "        text-align: right;\n",
       "    }\n",
       "</style>\n",
       "<table border=\"1\" class=\"dataframe\">\n",
       "  <thead>\n",
       "    <tr style=\"text-align: right;\">\n",
       "      <th></th>\n",
       "      <th>code</th>\n",
       "      <th>scores</th>\n",
       "    </tr>\n",
       "  </thead>\n",
       "  <tbody>\n",
       "    <tr>\n",
       "      <th>135</th>\n",
       "      <td>NOR</td>\n",
       "      <td>100</td>\n",
       "    </tr>\n",
       "    <tr>\n",
       "      <th>61</th>\n",
       "      <td>FIN</td>\n",
       "      <td>100</td>\n",
       "    </tr>\n",
       "    <tr>\n",
       "      <th>176</th>\n",
       "      <td>SWE</td>\n",
       "      <td>100</td>\n",
       "    </tr>\n",
       "  </tbody>\n",
       "</table>\n",
       "</div>"
      ],
      "text/plain": [
       "    code  scores\n",
       "135  NOR     100\n",
       "61   FIN     100\n",
       "176  SWE     100"
      ]
     },
     "execution_count": 24,
     "metadata": {
      "tags": []
     },
     "output_type": "execute_result"
    }
   ],
   "source": [
    "#Reading the Data\n",
    "Freedom.head(3)"
   ]
  },
  {
   "cell_type": "code",
   "execution_count": 167,
   "metadata": {
    "colab": {
     "base_uri": "https://localhost:8080/",
     "height": 71
    },
    "colab_type": "code",
    "id": "xLsGjRxKt-jg",
    "outputId": "a2603398-9e4e-440d-a86f-9026ac4fc781"
   },
   "outputs": [
    {
     "data": {
      "text/plain": [
       "{'test': (0.44549826210629173, 3.799586314786976e-68),\n",
       " 'degrees of freedom': 1376}"
      ]
     },
     "execution_count": 167,
     "metadata": {},
     "output_type": "execute_result"
    }
   ],
   "source": [
    "correlation(Freedom)"
   ]
  },
  {
   "cell_type": "markdown",
   "metadata": {
    "colab_type": "text",
    "id": "CxuZaeiFxyTf"
   },
   "source": [
    "We find a moderate positive correlation between World Press Freedom ranking similarity and Internet blocking similarity, r(1376) = 0.45, p<0.001."
   ]
  }
 ],
 "metadata": {
  "accelerator": "TPU",
  "colab": {
   "collapsed_sections": [
    "wwmBWSLLJQzJ",
    "0UcXBgj9MwJl",
    "nY8uVQYwJQzZ",
    "O2XBbOfVJQzm",
    "nHfBC3U_JQzy",
    "RQYfLRm6JQz0",
    "OLDSUbdNJQ0F",
    "WFyd7MMPJQ0V",
    "1fINWfo6JQ0b",
    "CHmStC83RD53",
    "Z-Iix1x_JQ0i",
    "U0IUy6TCJQ1D",
    "Rl4-MRMgJQ1k",
    "5SBW-hF_XIOv",
    "ixUEoPHaJQ2C",
    "cqW0CImEJQ2M",
    "BrNYT1KMJQ2Y",
    "cJaZwE6EIW-5",
    "mxWYz9Q4lWsn",
    "WA4MsodRlQXc",
    "k2KccZxOuhQg",
    "MgPK89cKXPj7",
    "TSl2v_JOLLig",
    "LRU1AaZNRov2",
    "yJvpa_PVirs8",
    "IvijQ-Lxbusz",
    "i-PkEfHqfAxn",
    "V36DLT4yu6cj"
   ],
   "machine_shape": "hm",
   "name": "ICLAB_Data_Cleaning_and_Analysis.ipynb",
   "provenance": []
  },
  "kernelspec": {
   "display_name": "Python 3",
   "language": "python",
   "name": "python3"
  }
 },
 "nbformat": 4,
 "nbformat_minor": 1
}
