{
 "cells": [
  {
   "cell_type": "markdown",
   "metadata": {},
   "source": [
    "# 1a)  IMPORTING AND CLEANING THE DATA"
   ]
  },
  {
   "cell_type": "code",
   "execution_count": 1,
   "metadata": {},
   "outputs": [],
   "source": [
    "import pandas as pd\n",
    "import os\n",
    "import re\n",
    "import tldextract\n",
    "import numpy as np\n",
    "import matplotlib.pyplot as plt\n",
    "import seaborn as sns\n",
    "from scipy import spatial\n",
    "import os, time, http.client\n",
    "from termcolor import colored\n",
    "import sys\n",
    "import json\n",
    "from pygments import highlight, lexers, formatters\n",
    "import pycountry"
   ]
  },
  {
   "cell_type": "code",
   "execution_count": 88,
   "metadata": {},
   "outputs": [
    {
     "name": "stdout",
     "output_type": "stream",
     "text": [
      "Populating the interactive namespace from numpy and matplotlib\n"
     ]
    }
   ],
   "source": [
    "# Tools for visualizing the data\n",
    "\n",
    "# requires jupytertehmes\n",
    "\n",
    "%pylab inline\n",
    "# import jtplot module in notebook\n",
    "from jupyterthemes import jtplot\n",
    "\n",
    "# choose which theme to inherit plotting style from\n",
    "# onedork | grade3 | oceans16 | chesterish | monokai | solarizedl | solarizedd\n",
    "jtplot.style(theme='onedork')\n",
    "\n",
    "# set \"context\" (paper, notebook, talk, poster)\n",
    "# scale font-size of ticklabels, legend, etc.\n",
    "# remove spines from x and y axes and make grid dashed\n",
    "jtplot.style(context='paper', fscale=1.4, spines=False, gridlines='--')\n",
    "\n",
    "# turn on X- and Y-axis tick marks (default=False)\n",
    "# turn off the axis grid lines (default=True)\n",
    "# and set the default figure size\n",
    "jtplot.style(ticks=True, grid=False, figsize=(6, 4.5))\n",
    "\n",
    "# reset default matplotlib rcParams\n",
    "jtplot.reset()"
   ]
  },
  {
   "cell_type": "code",
   "execution_count": 2,
   "metadata": {},
   "outputs": [],
   "source": [
    "#iclabcombined = pd.read_csv(\"combined.csv\", dtype={'country' : str})"
   ]
  },
  {
   "cell_type": "markdown",
   "metadata": {},
   "source": [
    "Dropping the columns which were meant for internal use of ICLAB team and the header columns which have come into dataset via join"
   ]
  },
  {
   "cell_type": "code",
   "execution_count": 3,
   "metadata": {},
   "outputs": [],
   "source": [
    "# iclabcombined.drop(['filename', 'as_number'], axis=1, inplace= True)\n",
    "\n",
    "# iclabcombined.drop([ 3078134,  4235577, 12411076, 18967078, 25041685, 26600938,\n",
    "#             28192530, 29460039, 30795516, 32569776, 34391850, 36093972,\n",
    "#             37793956, 39298313, 40934970, 42276914, 42976448, 44455181,\n",
    "#             47068048, 49383978], inplace = True)"
   ]
  },
  {
   "cell_type": "markdown",
   "metadata": {},
   "source": [
    "Correcting wrongly coded boolean values in the datasets"
   ]
  },
  {
   "cell_type": "code",
   "execution_count": 4,
   "metadata": {},
   "outputs": [],
   "source": [
    "# iclabcombined['dns'].replace('false',False,inplace=True)\n",
    "# iclabcombined['dns_all'].replace('false',False,inplace=True)\n",
    "# iclabcombined['block'].replace('false',False,inplace=True)\n",
    "# iclabcombined['packet_updated'].replace('false',False,inplace=True)\n",
    "# iclabcombined['censored_updated'].replace('false',False,inplace=True)\n",
    "\n",
    "# iclabcombined['dns'].replace('true',True,inplace=True)\n",
    "# iclabcombined['dns_all'].replace('true',True,inplace=True)\n",
    "# iclabcombined['block'].replace('true',True,inplace=True)\n",
    "# iclabcombined['packet_updated'].replace('true',True,inplace=True)\n",
    "# iclabcombined['censored_updated'].replace('true',True,inplace=True)"
   ]
  },
  {
   "cell_type": "markdown",
   "metadata": {},
   "source": [
    "# 1b) Importing categories"
   ]
  },
  {
   "cell_type": "code",
   "execution_count": 5,
   "metadata": {},
   "outputs": [],
   "source": [
    "# catDF = pd.read_fwf('type_domain_mapping.txt',header=None, names=[ \"Name\"], sep=\"\")"
   ]
  },
  {
   "cell_type": "code",
   "execution_count": 6,
   "metadata": {},
   "outputs": [],
   "source": [
    "# catDF = catDF.Name.apply(lambda x: pd.Series(str(x).split(\"|||\"))).rename(columns={0:'category',1:'site'})"
   ]
  },
  {
   "cell_type": "code",
   "execution_count": 7,
   "metadata": {},
   "outputs": [],
   "source": [
    "# allCategories = set(catDF['category'])\n",
    "# len(allCategories)"
   ]
  },
  {
   "cell_type": "code",
   "execution_count": 8,
   "metadata": {},
   "outputs": [],
   "source": [
    "# ADDING CATEGORY AS A PERMANENT COLUMN\n",
    "\n",
    "# urlListAll = iclabcombined['url'].tolist()\n",
    "# sitesListAll = []\n",
    "\n",
    "# for item in urlListAll:\n",
    "#     domainAll = tldextract.extract(item)[1]\n",
    "#     suffixAll = tldextract.extract(item)[2]\n",
    "#     sitesListAll.append(domainAll + \".\" + suffixAll)"
   ]
  },
  {
   "cell_type": "code",
   "execution_count": 9,
   "metadata": {},
   "outputs": [],
   "source": [
    "# iclabcombined['site'] = sitesListAll\n",
    "# iclabcombined = pd.merge(iclabcombined, catDF, on='site',how='left')"
   ]
  },
  {
   "cell_type": "code",
   "execution_count": 10,
   "metadata": {},
   "outputs": [],
   "source": [
    "# PICKLING OUR DATA FOR FASTER ACCESS\n",
    "#iclabcombined.to_pickle('iclabcombined.pkl')"
   ]
  },
  {
   "cell_type": "markdown",
   "metadata": {},
   "source": [
    "==\n",
    "LOADING DATA FRAME FROM PICKLE=="
   ]
  },
  {
   "cell_type": "code",
   "execution_count": 30,
   "metadata": {},
   "outputs": [],
   "source": [
    "iclabcombined = pd.read_pickle('../data//iclab_cleaned_data/iclabCLEAN.pkl')"
   ]
  },
  {
   "cell_type": "code",
   "execution_count": 47,
   "metadata": {},
   "outputs": [
    {
     "name": "stdout",
     "output_type": "stream",
     "text": [
      "The number of observations in our original data set are 40303928 and the number of features/columns are 17 \n"
     ]
    }
   ],
   "source": [
    "print(\"The number of observations in our original data set are {0} and the number of features/columns are {1} \".format(iclabcombined.shape[0],iclabcombined.shape[1]))"
   ]
  },
  {
   "cell_type": "code",
   "execution_count": 48,
   "metadata": {},
   "outputs": [],
   "source": [
    "iclabcombined['category'] = iclabcombined['category'].fillna(0)"
   ]
  },
  {
   "cell_type": "code",
   "execution_count": 49,
   "metadata": {
    "scrolled": true
   },
   "outputs": [],
   "source": [
    "iclabcombined['category']=iclabcombined['category'].replace(0,'Undefined')"
   ]
  },
  {
   "cell_type": "code",
   "execution_count": 50,
   "metadata": {},
   "outputs": [
    {
     "data": {
      "text/html": [
       "<div>\n",
       "<style scoped>\n",
       "    .dataframe tbody tr th:only-of-type {\n",
       "        vertical-align: middle;\n",
       "    }\n",
       "\n",
       "    .dataframe tbody tr th {\n",
       "        vertical-align: top;\n",
       "    }\n",
       "\n",
       "    .dataframe thead th {\n",
       "        text-align: right;\n",
       "    }\n",
       "</style>\n",
       "<table border=\"1\" class=\"dataframe\">\n",
       "  <thead>\n",
       "    <tr style=\"text-align: right;\">\n",
       "      <th></th>\n",
       "      <th>server_t</th>\n",
       "      <th>country</th>\n",
       "      <th>schedule_name</th>\n",
       "      <th>url</th>\n",
       "      <th>dns</th>\n",
       "      <th>dns_reason</th>\n",
       "      <th>dns_all</th>\n",
       "      <th>dns_reason_all</th>\n",
       "      <th>http_status</th>\n",
       "      <th>block</th>\n",
       "      <th>body_len</th>\n",
       "      <th>http_reason</th>\n",
       "      <th>packet_updated</th>\n",
       "      <th>packet_reason</th>\n",
       "      <th>censored_updated</th>\n",
       "      <th>site</th>\n",
       "      <th>category</th>\n",
       "    </tr>\n",
       "  </thead>\n",
       "  <tbody>\n",
       "    <tr>\n",
       "      <th>0</th>\n",
       "      <td>2017-01-01T00:03:55.797Z</td>\n",
       "      <td>UA</td>\n",
       "      <td>alexa-global</td>\n",
       "      <td>4shared.com</td>\n",
       "      <td>False</td>\n",
       "      <td>sameip</td>\n",
       "      <td>False</td>\n",
       "      <td>NaN</td>\n",
       "      <td>200</td>\n",
       "      <td>False</td>\n",
       "      <td>89694</td>\n",
       "      <td>NaN</td>\n",
       "      <td>NaN</td>\n",
       "      <td>NaN</td>\n",
       "      <td>False</td>\n",
       "      <td>4shared.com</td>\n",
       "      <td>File Sharing and Storage</td>\n",
       "    </tr>\n",
       "    <tr>\n",
       "      <th>1</th>\n",
       "      <td>2017-01-01T00:03:55.797Z</td>\n",
       "      <td>UA</td>\n",
       "      <td>alexa-global</td>\n",
       "      <td>quora.com</td>\n",
       "      <td>-2</td>\n",
       "      <td>no_control_resp</td>\n",
       "      <td>False</td>\n",
       "      <td>NaN</td>\n",
       "      <td>200</td>\n",
       "      <td>False</td>\n",
       "      <td>99907</td>\n",
       "      <td>NaN</td>\n",
       "      <td>NaN</td>\n",
       "      <td>NaN</td>\n",
       "      <td>False</td>\n",
       "      <td>quora.com</td>\n",
       "      <td>Reference</td>\n",
       "    </tr>\n",
       "    <tr>\n",
       "      <th>2</th>\n",
       "      <td>2017-01-01T00:03:55.797Z</td>\n",
       "      <td>UA</td>\n",
       "      <td>alexa-global</td>\n",
       "      <td>stackexchange.com</td>\n",
       "      <td>-2</td>\n",
       "      <td>no_control_resp</td>\n",
       "      <td>False</td>\n",
       "      <td>NaN</td>\n",
       "      <td>200</td>\n",
       "      <td>False</td>\n",
       "      <td>83096</td>\n",
       "      <td>NaN</td>\n",
       "      <td>NaN</td>\n",
       "      <td>NaN</td>\n",
       "      <td>False</td>\n",
       "      <td>stackexchange.com</td>\n",
       "      <td>Information Technology</td>\n",
       "    </tr>\n",
       "    <tr>\n",
       "      <th>3</th>\n",
       "      <td>2017-01-01T00:03:55.797Z</td>\n",
       "      <td>UA</td>\n",
       "      <td>alexa-global</td>\n",
       "      <td>whatsapp.com</td>\n",
       "      <td>-2</td>\n",
       "      <td>no_control_resp</td>\n",
       "      <td>False</td>\n",
       "      <td>NaN</td>\n",
       "      <td>200</td>\n",
       "      <td>False</td>\n",
       "      <td>32799</td>\n",
       "      <td>NaN</td>\n",
       "      <td>NaN</td>\n",
       "      <td>NaN</td>\n",
       "      <td>False</td>\n",
       "      <td>whatsapp.com</td>\n",
       "      <td>Instant Messaging</td>\n",
       "    </tr>\n",
       "    <tr>\n",
       "      <th>4</th>\n",
       "      <td>2017-01-01T00:03:55.797Z</td>\n",
       "      <td>UA</td>\n",
       "      <td>alexa-global</td>\n",
       "      <td>atlassian.net</td>\n",
       "      <td>-2</td>\n",
       "      <td>no_control_resp</td>\n",
       "      <td>False</td>\n",
       "      <td>NaN</td>\n",
       "      <td>200</td>\n",
       "      <td>False</td>\n",
       "      <td>38180</td>\n",
       "      <td>NaN</td>\n",
       "      <td>NaN</td>\n",
       "      <td>NaN</td>\n",
       "      <td>False</td>\n",
       "      <td>atlassian.net</td>\n",
       "      <td>Information Technology</td>\n",
       "    </tr>\n",
       "  </tbody>\n",
       "</table>\n",
       "</div>"
      ],
      "text/plain": [
       "                   server_t country schedule_name                url    dns  \\\n",
       "0  2017-01-01T00:03:55.797Z      UA  alexa-global        4shared.com  False   \n",
       "1  2017-01-01T00:03:55.797Z      UA  alexa-global          quora.com     -2   \n",
       "2  2017-01-01T00:03:55.797Z      UA  alexa-global  stackexchange.com     -2   \n",
       "3  2017-01-01T00:03:55.797Z      UA  alexa-global       whatsapp.com     -2   \n",
       "4  2017-01-01T00:03:55.797Z      UA  alexa-global      atlassian.net     -2   \n",
       "\n",
       "        dns_reason dns_all dns_reason_all http_status  block body_len  \\\n",
       "0           sameip   False            NaN         200  False    89694   \n",
       "1  no_control_resp   False            NaN         200  False    99907   \n",
       "2  no_control_resp   False            NaN         200  False    83096   \n",
       "3  no_control_resp   False            NaN         200  False    32799   \n",
       "4  no_control_resp   False            NaN         200  False    38180   \n",
       "\n",
       "  http_reason packet_updated packet_reason  censored_updated  \\\n",
       "0         NaN            NaN           NaN             False   \n",
       "1         NaN            NaN           NaN             False   \n",
       "2         NaN            NaN           NaN             False   \n",
       "3         NaN            NaN           NaN             False   \n",
       "4         NaN            NaN           NaN             False   \n",
       "\n",
       "                site                  category  \n",
       "0        4shared.com  File Sharing and Storage  \n",
       "1          quora.com                 Reference  \n",
       "2  stackexchange.com    Information Technology  \n",
       "3       whatsapp.com         Instant Messaging  \n",
       "4      atlassian.net    Information Technology  "
      ]
     },
     "execution_count": 50,
     "metadata": {},
     "output_type": "execute_result"
    }
   ],
   "source": [
    "iclabcombined.head()"
   ]
  },
  {
   "cell_type": "markdown",
   "metadata": {},
   "source": [
    "# -====- IN THE LATEST ITERATION OF THIS NOTEBOOK, NO FALSE POSITIVIES i.e. NO DATA FOR US HAS BEEN DROPPED -====-"
   ]
  },
  {
   "cell_type": "markdown",
   "metadata": {},
   "source": [
    "# 2. ANALYZING FALSE POSITIVES  (REDUNDANT SECTION)"
   ]
  },
  {
   "cell_type": "code",
   "execution_count": 51,
   "metadata": {},
   "outputs": [],
   "source": [
    "# #function to find blocked URLs\n",
    "# def blockedURLs(cc):\n",
    "#     return (set(iclabcombined[ (iclabcombined['country']== cc)& ((iclabcombined['censored_updated']==True)) ]['url']))"
   ]
  },
  {
   "cell_type": "markdown",
   "metadata": {},
   "source": [
    "### 2a) Looking at sites which only have censored_updated = True"
   ]
  },
  {
   "cell_type": "markdown",
   "metadata": {},
   "source": [
    "The below query produces 167 urls, these are the URLs for which the ICLab team believes the packets might have been injected i.e. becuase there was a response after RST or FIN or maybe because of ICMP admin prohibited i.e. they determined there's a firewall that blocks a connection. Removing these from our data as these are cases of PROBABLE CENSORSHIP and not ACTUAL censorship"
   ]
  },
  {
   "cell_type": "code",
   "execution_count": 52,
   "metadata": {},
   "outputs": [],
   "source": [
    "#( set(iclabcombined[ (iclabcombined['country']=='US')  & ((iclabcombined['dns']== False) & (iclabcombined['dns_all']== False) & (iclabcombined['block']== False) & (iclabcombined['packet_updated']== True))]['url']))"
   ]
  },
  {
   "cell_type": "markdown",
   "metadata": {},
   "source": [
    "Even urls for which a 4xx or 5xx result was returned are accessible and some of them are URLS commonly accessed in US"
   ]
  },
  {
   "cell_type": "code",
   "execution_count": 53,
   "metadata": {},
   "outputs": [],
   "source": [
    "# set(iclabcombined\n",
    "#     [ (iclabcombined['country']=='US') \n",
    "#                    & \n",
    "#      (\n",
    "#          (iclabcombined['http_status']== 403.0) | (iclabcombined['http_status']== 404.0) | (iclabcombined['http_status']== 504.0)\n",
    "#      )\n",
    "#      &\n",
    "#      (   \n",
    "#                        (iclabcombined['dns']== False) & (iclabcombined['dns_all']== False)\n",
    "#                        & (iclabcombined['block']== False) & (iclabcombined['dns_all']== False) \n",
    "#                        & (iclabcombined['packet_updated']== True)\n",
    "#                    )]\n",
    "#      ['url'])"
   ]
  },
  {
   "cell_type": "code",
   "execution_count": 54,
   "metadata": {},
   "outputs": [],
   "source": [
    "#httpError = np.arange(400,600,1,dtype=float)"
   ]
  },
  {
   "cell_type": "markdown",
   "metadata": {},
   "source": [
    "The falsePositIndex here are the sites which return a http 200 and only show packet_updated = True. In below query, I eliminate the countries where the result of HTTP was not a 400/500 errorand the only mechanism of censorship was that the packet_updated = True i.e. all these are probable censorships"
   ]
  },
  {
   "cell_type": "code",
   "execution_count": 55,
   "metadata": {},
   "outputs": [],
   "source": [
    "# falsePositIndex = iclabcombined[\n",
    "#     (~iclabcombined.http_status.isin(httpError))  \n",
    "#                    & (   (iclabcombined['dns']== False) & (iclabcombined['dns_all']== False) & (iclabcombined['block']== False) & (iclabcombined['dns_all']== False) & (iclabcombined['packet_updated']== True)\n",
    "#                      )] [['country','url','http_status']].index.tolist()"
   ]
  },
  {
   "cell_type": "code",
   "execution_count": 56,
   "metadata": {},
   "outputs": [],
   "source": [
    "# print(\"We have \" + str(len(falsePositIndex)) + \" probable censoriships which could be false positives\")"
   ]
  },
  {
   "cell_type": "code",
   "execution_count": 57,
   "metadata": {},
   "outputs": [],
   "source": [
    "# iclabcombined.drop(falsePositIndex,inplace=True)"
   ]
  },
  {
   "cell_type": "markdown",
   "metadata": {},
   "source": [
    "Now having a look at FALSE NEGATIVES\n",
    "We define false negatives as websites which are showing censored_updated = False here but upon testing actually are inaccessible"
   ]
  },
  {
   "cell_type": "code",
   "execution_count": 58,
   "metadata": {},
   "outputs": [],
   "source": [
    "# set(iclabcombined[(iclabcombined['country']=='US')&(iclabcombined['censored_updated']==False) & (iclabcombined.http_status.isin([403.0]))]['url'])"
   ]
  },
  {
   "cell_type": "markdown",
   "metadata": {},
   "source": [
    "In total as seen below we have 3389 websites which show up as not censored in US but the corresponding HTTP results are error codes, manual testing of these websites show that they are accessible, its not possible to actually determine the status of all false negatives. Based on our testing and seeing that they are not marked as blocked eventually and also because we believe that false negatives are not too critical to our project  $hence$ $we$ $wont$ $drop$ $them$ $from$ $the$ $data$ $set$"
   ]
  },
  {
   "cell_type": "markdown",
   "metadata": {},
   "source": [
    "## 2b) Removing the FALSE POSITIVIES (US blocked sites) from our main dataset iclabcombined"
   ]
  },
  {
   "cell_type": "markdown",
   "metadata": {},
   "source": [
    "From this data looking at the sites that are shown as censored in US. THESE SITES HAVE CENSORED = TRUE AND RETURN A HTTP ERROR"
   ]
  },
  {
   "cell_type": "code",
   "execution_count": 59,
   "metadata": {},
   "outputs": [],
   "source": [
    "#set( iclabcombined  [  (iclabcombined['country']=='US') & (iclabcombined.http_status.isin(httpError) & ( (iclabcombined['dns_all']== True) | (iclabcombined['block']== True)|(iclabcombined['censored_updated']== True) | (iclabcombined['packet_updated']== True)))]['url'])"
   ]
  },
  {
   "cell_type": "code",
   "execution_count": 24,
   "metadata": {},
   "outputs": [],
   "source": [
    "# SITES SHOWING HTTP status reason as block in US but still accessible\n",
    "#set( iclabcombined  [  (iclabcombined['country']=='US') & (iclabcombined.http_reason.str.contains('block'))]['url'])"
   ]
  },
  {
   "cell_type": "markdown",
   "metadata": {},
   "source": [
    "Overall all the above results show a very dirty data, we basically removed the root urls of all the sites that show 404 in US and then checked how many of them are accesible. There are no patterns while some are showing as blocked on testing others are not. BELOW WE REMOVE THESE FALSE POSITIVIES FROM THE US"
   ]
  },
  {
   "cell_type": "code",
   "execution_count": 25,
   "metadata": {},
   "outputs": [],
   "source": [
    "#USFPlist = (iclabcombined [(iclabcombined['country']=='US') & (iclabcombined['censored_updated'] == True)]['site']).unique().tolist()"
   ]
  },
  {
   "cell_type": "code",
   "execution_count": 26,
   "metadata": {},
   "outputs": [],
   "source": [
    "#USblockIclab = len(iclabcombined[iclabcombined['site'].isin(USFPlist)])"
   ]
  },
  {
   "cell_type": "code",
   "execution_count": 27,
   "metadata": {},
   "outputs": [],
   "source": [
    "# print(\"There are {} unique blocked websites in the US\".format(len(USFPlist)))\n",
    "# print(\"There are {} total observations of these blocked websites throughout our dataset\".format(USblockIclab))"
   ]
  },
  {
   "cell_type": "code",
   "execution_count": 28,
   "metadata": {},
   "outputs": [],
   "source": [
    "# USFPIndex is the index of all those observations for the unique sites which are blocked in US and we are going to remove from the entire DB\n",
    "#USFPIndex = iclabcombined[iclabcombined['site'].isin(USFPlist)].index"
   ]
  },
  {
   "cell_type": "markdown",
   "metadata": {},
   "source": [
    "# iclabCLEAN is our cleaned dataframe"
   ]
  },
  {
   "cell_type": "code",
   "execution_count": 29,
   "metadata": {},
   "outputs": [],
   "source": [
    "#iclabCLEAN = iclabcombined.drop(USFPIndex)"
   ]
  },
  {
   "cell_type": "markdown",
   "metadata": {},
   "source": [
    "## PICKLING OUR CLEAN DATASET FOR FASTER ACCESS"
   ]
  },
  {
   "cell_type": "code",
   "execution_count": 30,
   "metadata": {},
   "outputs": [],
   "source": [
    "#iclabCLEAN.to_pickle('iclabCLEAN.pkl')"
   ]
  },
  {
   "cell_type": "code",
   "execution_count": 31,
   "metadata": {},
   "outputs": [],
   "source": [
    "# LOADING DATA FRAME FROM PICKLE\n",
    "#iclabCLEAN = pd.read_pickle('iclabCLEAN.pkl')"
   ]
  },
  {
   "cell_type": "code",
   "execution_count": 32,
   "metadata": {},
   "outputs": [],
   "source": [
    "# COMPARNING DATA SIZES of RAW and CLEAN DATA \n",
    "#print(\"The number of observations in our original data set are {0} and the number of features/columns are {1} \".format(iclabcombined.shape[0],iclabcombined.shape[1]))\n",
    "#print(\"The number of observations in our CLEANED data set i.e. without sites blocked in USA are {0} and the number of features/columns are {1} \".format(iclabCLEAN.shape[0],iclabCLEAN.shape[1]))"
   ]
  },
  {
   "cell_type": "markdown",
   "metadata": {},
   "source": [
    "$******************************************************************$"
   ]
  },
  {
   "cell_type": "markdown",
   "metadata": {},
   "source": [
    "# 3.  EXPERIMENT 1"
   ]
  },
  {
   "cell_type": "markdown",
   "metadata": {},
   "source": [
    "Looking at the exact webpages blocked"
   ]
  },
  {
   "cell_type": "code",
   "execution_count": 33,
   "metadata": {},
   "outputs": [],
   "source": [
    "# blockpageTR = set(iclabCLEAN[(iclabCLEAN['country']=='TR') & ((iclabCLEAN['dns_all']==True)| (iclabCLEAN['censored_updated']==True) | (iclabCLEAN['block']==True) | (iclabCLEAN['packet_updated']==True)) ]['url'])\n",
    "# len(blockpageTR)"
   ]
  },
  {
   "cell_type": "code",
   "execution_count": 34,
   "metadata": {},
   "outputs": [],
   "source": [
    "# blockpageRU = set(iclabCLEAN[(iclabCLEAN['country']=='RU') & ((iclabCLEAN['dns_all']==True)| (iclabCLEAN['censored_updated']==True) | (iclabCLEAN['block']==True) | (iclabCLEAN['packet_updated']==True)) ]['url'])\n",
    "# len(blockpageRU)"
   ]
  },
  {
   "cell_type": "code",
   "execution_count": 35,
   "metadata": {},
   "outputs": [],
   "source": [
    "# RUblockpageTR = blockpageTR.intersection(blockpageRU)\n",
    "# RUblockpageTR"
   ]
  },
  {
   "cell_type": "markdown",
   "metadata": {},
   "source": [
    "# EXPERIMENT 2"
   ]
  },
  {
   "cell_type": "code",
   "execution_count": 36,
   "metadata": {},
   "outputs": [],
   "source": [
    "# blockIN = set(iclabCLEAN[(iclabCLEAN['country']=='IN') & ((iclabCLEAN['censored_updated']==True))]['site'])\n",
    "# len(blockIN)"
   ]
  },
  {
   "cell_type": "code",
   "execution_count": 37,
   "metadata": {},
   "outputs": [],
   "source": [
    "# blockCN = set(iclabCLEAN[(iclabCLEAN['country']=='CN') & ((iclabCLEAN['censored_updated']==True))]['site'])\n",
    "# len(blockCN)"
   ]
  },
  {
   "cell_type": "code",
   "execution_count": 38,
   "metadata": {},
   "outputs": [],
   "source": [
    "# blockVN = set(iclabCLEAN[(iclabCLEAN['country']=='VN') & ((iclabCLEAN['censored_updated']==True))]['site'])\n",
    "# len(blockVN)"
   ]
  },
  {
   "cell_type": "code",
   "execution_count": 39,
   "metadata": {},
   "outputs": [],
   "source": [
    "# blockRU = set(iclabCLEAN[(iclabCLEAN['country']=='RU') & ((iclabCLEAN['dns_all']==True)| (iclabCLEAN['censored_updated']==True)| (iclabCLEAN['block']==True) | (iclabCLEAN['packet_updated']==True))]['site'])\n",
    "# len(blockRU)"
   ]
  },
  {
   "cell_type": "code",
   "execution_count": 40,
   "metadata": {},
   "outputs": [],
   "source": [
    "# blockTR = set(iclabCLEAN[(iclabCLEAN['country']=='TR') & ((iclabCLEAN['dns_all']==True)| (iclabCLEAN['censored_updated']==True) | (iclabCLEAN['block']==True) | (iclabCLEAN['packet_updated']==True)) ]['site'])\n",
    "# len(blockTR)"
   ]
  },
  {
   "cell_type": "code",
   "execution_count": 41,
   "metadata": {},
   "outputs": [],
   "source": [
    "# blockNL = set(iclabCLEAN[(iclabCLEAN['country']=='NL') & ((iclabCLEAN['censored_updated']==True))]['site'])\n",
    "# len(blockNL)"
   ]
  },
  {
   "cell_type": "code",
   "execution_count": 42,
   "metadata": {},
   "outputs": [],
   "source": [
    "# blockNZ = set(iclabCLEAN[(iclabCLEAN['country']=='NZ') & ((iclabCLEAN['censored_updated']==True))]['site'])\n",
    "# len(blockNZ)"
   ]
  },
  {
   "cell_type": "code",
   "execution_count": 43,
   "metadata": {},
   "outputs": [],
   "source": [
    "# AU_NZ = blockNZ.intersection(blockAU)\n",
    "# len(AU_NZ)"
   ]
  },
  {
   "cell_type": "code",
   "execution_count": 44,
   "metadata": {},
   "outputs": [],
   "source": [
    "# blockMX = set(iclabCLEAN[(iclabCLEAN['country']=='MX') & ((iclabCLEAN['censored_updated']==True))]['site'])\n",
    "# len(blockMX)"
   ]
  },
  {
   "cell_type": "code",
   "execution_count": 45,
   "metadata": {},
   "outputs": [],
   "source": [
    "# IN_RU = blockIN.intersection(blockRU)\n",
    "# (IN_RU)"
   ]
  },
  {
   "cell_type": "markdown",
   "metadata": {},
   "source": [
    "Intersections as per EXPERIMENT 2"
   ]
  },
  {
   "cell_type": "code",
   "execution_count": 46,
   "metadata": {},
   "outputs": [],
   "source": [
    "# RU_TR = blockRU.intersection(blockTR)"
   ]
  },
  {
   "cell_type": "code",
   "execution_count": 47,
   "metadata": {},
   "outputs": [],
   "source": [
    "# BR_MX = blockMX.intersection(blockBR)"
   ]
  },
  {
   "cell_type": "code",
   "execution_count": 48,
   "metadata": {},
   "outputs": [],
   "source": [
    "# NL_TR = blockNL.intersection(blockTR)"
   ]
  },
  {
   "cell_type": "markdown",
   "metadata": {},
   "source": [
    "As part of Experiment 2 : \n",
    "(a) A look at censored FB Pages in India"
   ]
  },
  {
   "cell_type": "markdown",
   "metadata": {},
   "source": [
    "Looking at worldwide distribution of FB blocking"
   ]
  },
  {
   "cell_type": "code",
   "execution_count": 49,
   "metadata": {},
   "outputs": [],
   "source": [
    "# iclabCLEAN[iclabCLEAN['url'].str.contains('facebook')].groupby('country').count()"
   ]
  },
  {
   "cell_type": "markdown",
   "metadata": {},
   "source": [
    "Looking at FB pages censored in India"
   ]
  },
  {
   "cell_type": "code",
   "execution_count": 50,
   "metadata": {},
   "outputs": [],
   "source": [
    "# fbIndBlock = set (iclabcombined [ ( (iclabcombined['block']== True) | (iclabcombined['censored_updated']== True) | (iclabcombined['packet_updated']== True) ) & (iclabcombined['url'].str.contains('facebook')) & (iclabcombined['country']=='IN') ]['url'])\n",
    "# fbIndBlock"
   ]
  },
  {
   "cell_type": "markdown",
   "metadata": {},
   "source": [
    "(b) A look into religious censorship in the world"
   ]
  },
  {
   "cell_type": "code",
   "execution_count": 20,
   "metadata": {},
   "outputs": [],
   "source": [
    "# iclabCLEAN[ (iclabCLEAN['category'].isin(['Global Religion','Alternative Beliefs'])) & ( (iclabCLEAN['block']== True) | (iclabCLEAN['censored_updated'] == True) ) ].groupby(['country', 'site']).first()"
   ]
  },
  {
   "cell_type": "markdown",
   "metadata": {},
   "source": [
    "# 4) EXPERIMENT 3 : "
   ]
  },
  {
   "cell_type": "markdown",
   "metadata": {},
   "source": [
    "----------Defining a function which computes contribution of each category in a countries blocked sites--------"
   ]
  },
  {
   "cell_type": "code",
   "execution_count": 60,
   "metadata": {},
   "outputs": [],
   "source": [
    "def Category_contributions(cc):\n",
    "    catDataCC = iclabcombined[(iclabcombined['country']==cc) & (iclabcombined['censored_updated']==True) ]\n",
    "    catDataCC= catDataCC.drop(['server_t', 'censored_updated','site','dns_all','packet_reason','url','dns','dns_reason','dns_reason_all','schedule_name','http_status','block','body_len','http_reason','packet_updated'], axis=1)\n",
    "    catDataCC = catDataCC.groupby('category').count()\n",
    "    catDataCC['%Cat'] = (catDataCC['country']*100)/(catDataCC['country'].sum())\n",
    "    catDataCC= catDataCC.reset_index().drop('country',axis=1)\n",
    "    catDataCC= catDataCC.rename(columns={'country':'Number of sites in' + str(cc),'%Cat':cc})\n",
    "    return catDataCC"
   ]
  },
  {
   "cell_type": "code",
   "execution_count": 22,
   "metadata": {},
   "outputs": [],
   "source": [
    "#Category_contributions('US')"
   ]
  },
  {
   "cell_type": "code",
   "execution_count": 54,
   "metadata": {},
   "outputs": [],
   "source": [
    "#Category_contributions('CA')"
   ]
  },
  {
   "cell_type": "code",
   "execution_count": 55,
   "metadata": {},
   "outputs": [],
   "source": [
    "# INplot = Category_contributions('IN')\n",
    "# display(INplot)\n",
    "# TRplot =Category_contributions('TR')\n",
    "# RUplot = Category_contributions('RU')\n",
    "# KRplot= Category_contributions('KR')\n",
    "# USplot = Category_contributions('US')\n",
    "# CNplot = Category_contributions('CN')\n",
    "# CAplot  = Category_contributions('CA')\n",
    "# ZAplot  = Category_contributions('ZA')"
   ]
  },
  {
   "cell_type": "markdown",
   "metadata": {},
   "source": [
    " Plotting the graph below:"
   ]
  },
  {
   "cell_type": "code",
   "execution_count": 56,
   "metadata": {},
   "outputs": [],
   "source": [
    "# graphcompare1 = pd.merge(INplot,TRplot, on='category', how='outer')\n",
    "# graphcompare2 = pd.merge(graphcompare1,KRplot, on='category', how='outer')\n",
    "# graphcompare3 = pd.merge(graphcompare2,RUplot, on='category', how='outer')\n",
    "# graphcompare4 = pd.merge(graphcompare3,USplot, on='category', how='outer')\n",
    "# graphcompare5 = pd.merge(graphcompare4,CNplot, on='category', how='outer')"
   ]
  },
  {
   "cell_type": "code",
   "execution_count": 57,
   "metadata": {},
   "outputs": [],
   "source": [
    "# # set width of bar\n",
    "# barWidth = 0.15\n",
    " \n",
    "# # set height of bar\n",
    "# TR = graphcompare3['TR']\n",
    "# RU = graphcompare3['RU']\n",
    "# IN = graphcompare3['IN']\n",
    "# KR = graphcompare3['KR']\n",
    " \n",
    "# # Set position of bar on X axis\n",
    "# r1 = np.arange(len(TR))\n",
    "# r2 = [x + barWidth for x in r1]\n",
    "# r3 = [x + barWidth for x in r2]\n",
    "# r4 = [x + barWidth for x in r3]\n",
    " \n",
    "# # Make the plot\n",
    "# plt.figure(figsize = (20,12))\n",
    "# plt.bar(r1, TR, color='green', width=barWidth, edgecolor='dimgrey', label='Turkey')\n",
    "# plt.bar(r2, RU, color='red', width=barWidth ,  edgecolor='dimgrey',label='RU')\n",
    "# plt.bar(r3, IN, color='blue', width=barWidth,  edgecolor='dimgrey',label='India')\n",
    "# plt.bar(r4, KR, color='darkorange', width=barWidth,  edgecolor= 'dimgrey',label='South Korea') \n",
    "\n",
    "# # Add xticks on the middle of the group bars\n",
    "# plt.ylabel(\"Percentage\", size=15)\n",
    "# plt.ylim(0,100)\n",
    "# plt.xticks([r for r in range(len(TR))], graphcompare3['category'].tolist() ,rotation=-90, size=16)\n",
    "\n",
    "# # Create legend & Show graphic\n",
    "# plt.legend(loc = 'upper left', fontsize = 15)\n",
    "# plt.title(\"\\n Category-wise blocking in countries \\n\", size = 15)\n",
    "# plt.show()"
   ]
  },
  {
   "cell_type": "markdown",
   "metadata": {},
   "source": [
    "A few sample metrics"
   ]
  },
  {
   "cell_type": "code",
   "execution_count": 58,
   "metadata": {},
   "outputs": [],
   "source": [
    "# graphcompare5.fillna(0,inplace=True)"
   ]
  },
  {
   "cell_type": "code",
   "execution_count": 59,
   "metadata": {},
   "outputs": [],
   "source": [
    "# KRvals = graphcompare5['KR']\n",
    "# RUvals = graphcompare5['RU']\n",
    "# INvals = graphcompare5['IN']\n",
    "# TRvals = graphcompare5['TR']"
   ]
  },
  {
   "cell_type": "code",
   "execution_count": 60,
   "metadata": {},
   "outputs": [],
   "source": [
    "# KRsimilarityRU = (1 - spatial.distance.cosine(KRvals, RUvals))*100\n",
    "# KRsimilarityRU"
   ]
  },
  {
   "cell_type": "code",
   "execution_count": 61,
   "metadata": {},
   "outputs": [],
   "source": [
    "# INsimilarityTR = (1 - spatial.distance.cosine(INvals, TRvals))*100\n",
    "# INsimilarityTR"
   ]
  },
  {
   "cell_type": "code",
   "execution_count": 62,
   "metadata": {},
   "outputs": [],
   "source": [
    "# INsimilarityKR = (1 - spatial.distance.cosine(INvals, KRvals))*100\n",
    "# INsimilarityKR"
   ]
  },
  {
   "cell_type": "code",
   "execution_count": 63,
   "metadata": {},
   "outputs": [],
   "source": [
    "# INsimilarityRU = (1 - spatial.distance.cosine(INvals, RUvals))*100\n",
    "# INsimilarityRU"
   ]
  },
  {
   "cell_type": "code",
   "execution_count": null,
   "metadata": {},
   "outputs": [],
   "source": [
    "# KRsimilarityTR = (1 - spatial.distance.cosine(KRvals, TRvals))*100\n",
    "# KRsimilarityTR"
   ]
  },
  {
   "cell_type": "code",
   "execution_count": null,
   "metadata": {},
   "outputs": [],
   "source": [
    "# RUsimilarityTR = (1 - spatial.distance.cosine(RUvals, TRvals))*100\n",
    "# RUsimilarityTR"
   ]
  },
  {
   "cell_type": "markdown",
   "metadata": {},
   "source": [
    "# Can/Should we do KNN ?"
   ]
  },
  {
   "cell_type": "code",
   "execution_count": 615,
   "metadata": {},
   "outputs": [],
   "source": [
    "# iclabcombinedTEST = iclabcombined.sample(500)"
   ]
  },
  {
   "cell_type": "code",
   "execution_count": 616,
   "metadata": {},
   "outputs": [],
   "source": [
    "# iclabcombinedTEST = iclabcombinedTEST[['country','site','category','censored_updated']]"
   ]
  },
  {
   "cell_type": "code",
   "execution_count": 617,
   "metadata": {},
   "outputs": [],
   "source": [
    "# iclabcombinedTEST.censored_updated.replace([True,False],[1,0],inplace=True)"
   ]
  },
  {
   "cell_type": "code",
   "execution_count": 619,
   "metadata": {},
   "outputs": [],
   "source": [
    "# iclabcombinedTEST =iclabcombinedTEST.groupby('country').agg(dict)"
   ]
  },
  {
   "cell_type": "code",
   "execution_count": 611,
   "metadata": {},
   "outputs": [],
   "source": [
    "# SiteNo = iclabcombinedTEST.site.apply(lambda x: len(x))\n",
    "# CatNo = iclabcombinedTEST.category.apply(lambda x: len(x))\n",
    "# CensoredNo = iclabcombinedTEST.censored_updated.apply(lambda x: sum(x))"
   ]
  },
  {
   "cell_type": "code",
   "execution_count": 612,
   "metadata": {},
   "outputs": [],
   "source": [
    "# iclabcombinedTEST['SiteNo']=SiteNo\n",
    "# iclabcombinedTEST['CatNo']=CatNo\n",
    "# iclabcombinedTEST['CensoredNo']=CensoredNo"
   ]
  },
  {
   "cell_type": "code",
   "execution_count": 746,
   "metadata": {},
   "outputs": [],
   "source": [
    "#iclabcombinedTEST.head()"
   ]
  },
  {
   "cell_type": "markdown",
   "metadata": {},
   "source": [
    "\n",
    "# 5) SIMILARITY METRIC DATAFRAME FOR ALL COUNTRIES\n",
    "# FINAL DATAFRAME NAME IS METRICDF"
   ]
  },
  {
   "cell_type": "code",
   "execution_count": 61,
   "metadata": {},
   "outputs": [
    {
     "name": "stdout",
     "output_type": "stream",
     "text": [
      "The total countries we have in our clean dataset are 55\n"
     ]
    }
   ],
   "source": [
    "allCountries = (iclabcombined['country'].unique())\n",
    "print(\"The total countries we have in our clean dataset are {}\".format(len(allCountries)))"
   ]
  },
  {
   "cell_type": "code",
   "execution_count": 62,
   "metadata": {},
   "outputs": [
    {
     "name": "stdout",
     "output_type": "stream",
     "text": [
      "The total unique categories we have in our clean dataset are 72\n"
     ]
    }
   ],
   "source": [
    "allCategories = (iclabcombined['category'].unique())\n",
    "print(\"The total unique categories we have in our clean dataset are {}\".format(len(allCategories)))"
   ]
  },
  {
   "cell_type": "code",
   "execution_count": 63,
   "metadata": {},
   "outputs": [],
   "source": [
    "simMetricDF = pd.DataFrame(index = allCategories, columns=None)"
   ]
  },
  {
   "cell_type": "code",
   "execution_count": 64,
   "metadata": {},
   "outputs": [
    {
     "data": {
      "text/html": [
       "<div>\n",
       "<style scoped>\n",
       "    .dataframe tbody tr th:only-of-type {\n",
       "        vertical-align: middle;\n",
       "    }\n",
       "\n",
       "    .dataframe tbody tr th {\n",
       "        vertical-align: top;\n",
       "    }\n",
       "\n",
       "    .dataframe thead th {\n",
       "        text-align: right;\n",
       "    }\n",
       "</style>\n",
       "<table border=\"1\" class=\"dataframe\">\n",
       "  <thead>\n",
       "    <tr style=\"text-align: right;\">\n",
       "      <th></th>\n",
       "      <th>category</th>\n",
       "      <th>dummy</th>\n",
       "    </tr>\n",
       "  </thead>\n",
       "  <tbody>\n",
       "    <tr>\n",
       "      <th>0</th>\n",
       "      <td>File Sharing and Storage</td>\n",
       "      <td>NaN</td>\n",
       "    </tr>\n",
       "    <tr>\n",
       "      <th>1</th>\n",
       "      <td>Reference</td>\n",
       "      <td>NaN</td>\n",
       "    </tr>\n",
       "    <tr>\n",
       "      <th>2</th>\n",
       "      <td>Information Technology</td>\n",
       "      <td>NaN</td>\n",
       "    </tr>\n",
       "    <tr>\n",
       "      <th>3</th>\n",
       "      <td>Instant Messaging</td>\n",
       "      <td>NaN</td>\n",
       "    </tr>\n",
       "    <tr>\n",
       "      <th>4</th>\n",
       "      <td>News and Media</td>\n",
       "      <td>NaN</td>\n",
       "    </tr>\n",
       "  </tbody>\n",
       "</table>\n",
       "</div>"
      ],
      "text/plain": [
       "                   category  dummy\n",
       "0  File Sharing and Storage    NaN\n",
       "1                 Reference    NaN\n",
       "2    Information Technology    NaN\n",
       "3         Instant Messaging    NaN\n",
       "4            News and Media    NaN"
      ]
     },
     "execution_count": 64,
     "metadata": {},
     "output_type": "execute_result"
    }
   ],
   "source": [
    "simMetricDF['dummy']= pd.Series(np.zeros(len(simMetricDF)))\n",
    "simMetricDF.reset_index(inplace=True)\n",
    "simMetricDF.rename(columns={'index':'category'},inplace=True)\n",
    "simMetricDF.head()"
   ]
  },
  {
   "cell_type": "code",
   "execution_count": 65,
   "metadata": {},
   "outputs": [],
   "source": [
    "for country in allCountries:\n",
    "    simMetricDF = pd.merge(simMetricDF,Category_contributions(country), on= 'category', how='outer')"
   ]
  },
  {
   "cell_type": "code",
   "execution_count": 66,
   "metadata": {},
   "outputs": [],
   "source": [
    "simMetricDF.set_index('category',inplace = True)"
   ]
  },
  {
   "cell_type": "code",
   "execution_count": 67,
   "metadata": {},
   "outputs": [],
   "source": [
    "#REPLACING NaN's with 0\n",
    "simMetricDF.fillna(0,inplace=True)"
   ]
  },
  {
   "cell_type": "code",
   "execution_count": 68,
   "metadata": {},
   "outputs": [],
   "source": [
    "simMetricDF.drop(\"dummy\",axis=1,inplace = True)"
   ]
  },
  {
   "cell_type": "code",
   "execution_count": 69,
   "metadata": {},
   "outputs": [
    {
     "data": {
      "text/html": [
       "<div>\n",
       "<style scoped>\n",
       "    .dataframe tbody tr th:only-of-type {\n",
       "        vertical-align: middle;\n",
       "    }\n",
       "\n",
       "    .dataframe tbody tr th {\n",
       "        vertical-align: top;\n",
       "    }\n",
       "\n",
       "    .dataframe thead th {\n",
       "        text-align: right;\n",
       "    }\n",
       "</style>\n",
       "<table border=\"1\" class=\"dataframe\">\n",
       "  <thead>\n",
       "    <tr style=\"text-align: right;\">\n",
       "      <th></th>\n",
       "      <th>UA</th>\n",
       "      <th>CO</th>\n",
       "      <th>KR</th>\n",
       "      <th>US</th>\n",
       "      <th>BG</th>\n",
       "      <th>BZ</th>\n",
       "      <th>AU</th>\n",
       "      <th>JP</th>\n",
       "      <th>NL</th>\n",
       "      <th>HK</th>\n",
       "      <th>...</th>\n",
       "      <th>TR</th>\n",
       "      <th>PL</th>\n",
       "      <th>DZ</th>\n",
       "      <th>BR</th>\n",
       "      <th>SC</th>\n",
       "      <th>SA</th>\n",
       "      <th>AT</th>\n",
       "      <th>GR</th>\n",
       "      <th>CR</th>\n",
       "      <th>LI</th>\n",
       "    </tr>\n",
       "    <tr>\n",
       "      <th>category</th>\n",
       "      <th></th>\n",
       "      <th></th>\n",
       "      <th></th>\n",
       "      <th></th>\n",
       "      <th></th>\n",
       "      <th></th>\n",
       "      <th></th>\n",
       "      <th></th>\n",
       "      <th></th>\n",
       "      <th></th>\n",
       "      <th></th>\n",
       "      <th></th>\n",
       "      <th></th>\n",
       "      <th></th>\n",
       "      <th></th>\n",
       "      <th></th>\n",
       "      <th></th>\n",
       "      <th></th>\n",
       "      <th></th>\n",
       "      <th></th>\n",
       "      <th></th>\n",
       "    </tr>\n",
       "  </thead>\n",
       "  <tbody>\n",
       "    <tr>\n",
       "      <th>File Sharing and Storage</th>\n",
       "      <td>0.000000</td>\n",
       "      <td>0.000000</td>\n",
       "      <td>2.176180</td>\n",
       "      <td>0.0</td>\n",
       "      <td>0.0</td>\n",
       "      <td>0.0</td>\n",
       "      <td>10.714286</td>\n",
       "      <td>0.000000</td>\n",
       "      <td>0.000000</td>\n",
       "      <td>4.347826</td>\n",
       "      <td>...</td>\n",
       "      <td>2.062589</td>\n",
       "      <td>0.0</td>\n",
       "      <td>0.0</td>\n",
       "      <td>0.000000</td>\n",
       "      <td>0.0</td>\n",
       "      <td>0.400375</td>\n",
       "      <td>0.0</td>\n",
       "      <td>0.0</td>\n",
       "      <td>0.0</td>\n",
       "      <td>0.0</td>\n",
       "    </tr>\n",
       "    <tr>\n",
       "      <th>Reference</th>\n",
       "      <td>0.000000</td>\n",
       "      <td>0.000000</td>\n",
       "      <td>1.255837</td>\n",
       "      <td>0.0</td>\n",
       "      <td>0.0</td>\n",
       "      <td>0.0</td>\n",
       "      <td>0.000000</td>\n",
       "      <td>1.234568</td>\n",
       "      <td>0.000000</td>\n",
       "      <td>4.347826</td>\n",
       "      <td>...</td>\n",
       "      <td>0.711238</td>\n",
       "      <td>0.0</td>\n",
       "      <td>0.0</td>\n",
       "      <td>6.666667</td>\n",
       "      <td>0.0</td>\n",
       "      <td>0.000000</td>\n",
       "      <td>0.0</td>\n",
       "      <td>0.0</td>\n",
       "      <td>0.0</td>\n",
       "      <td>0.0</td>\n",
       "    </tr>\n",
       "    <tr>\n",
       "      <th>Information Technology</th>\n",
       "      <td>7.667732</td>\n",
       "      <td>0.000000</td>\n",
       "      <td>1.364646</td>\n",
       "      <td>0.0</td>\n",
       "      <td>20.0</td>\n",
       "      <td>0.0</td>\n",
       "      <td>8.928571</td>\n",
       "      <td>4.938272</td>\n",
       "      <td>8.256881</td>\n",
       "      <td>0.000000</td>\n",
       "      <td>...</td>\n",
       "      <td>0.000000</td>\n",
       "      <td>0.0</td>\n",
       "      <td>0.0</td>\n",
       "      <td>6.666667</td>\n",
       "      <td>0.0</td>\n",
       "      <td>0.860380</td>\n",
       "      <td>0.0</td>\n",
       "      <td>0.0</td>\n",
       "      <td>0.0</td>\n",
       "      <td>0.0</td>\n",
       "    </tr>\n",
       "    <tr>\n",
       "      <th>Instant Messaging</th>\n",
       "      <td>0.000000</td>\n",
       "      <td>0.000000</td>\n",
       "      <td>0.040803</td>\n",
       "      <td>0.0</td>\n",
       "      <td>0.0</td>\n",
       "      <td>0.0</td>\n",
       "      <td>0.000000</td>\n",
       "      <td>0.000000</td>\n",
       "      <td>0.000000</td>\n",
       "      <td>0.000000</td>\n",
       "      <td>...</td>\n",
       "      <td>0.000000</td>\n",
       "      <td>0.0</td>\n",
       "      <td>0.0</td>\n",
       "      <td>0.000000</td>\n",
       "      <td>0.0</td>\n",
       "      <td>0.000000</td>\n",
       "      <td>0.0</td>\n",
       "      <td>0.0</td>\n",
       "      <td>0.0</td>\n",
       "      <td>0.0</td>\n",
       "    </tr>\n",
       "    <tr>\n",
       "      <th>News and Media</th>\n",
       "      <td>0.319489</td>\n",
       "      <td>9.090909</td>\n",
       "      <td>4.542776</td>\n",
       "      <td>0.0</td>\n",
       "      <td>0.0</td>\n",
       "      <td>25.0</td>\n",
       "      <td>12.500000</td>\n",
       "      <td>9.876543</td>\n",
       "      <td>39.449541</td>\n",
       "      <td>4.347826</td>\n",
       "      <td>...</td>\n",
       "      <td>23.826458</td>\n",
       "      <td>0.0</td>\n",
       "      <td>0.0</td>\n",
       "      <td>20.000000</td>\n",
       "      <td>0.0</td>\n",
       "      <td>4.335974</td>\n",
       "      <td>0.0</td>\n",
       "      <td>0.0</td>\n",
       "      <td>0.0</td>\n",
       "      <td>0.0</td>\n",
       "    </tr>\n",
       "    <tr>\n",
       "      <th>...</th>\n",
       "      <td>...</td>\n",
       "      <td>...</td>\n",
       "      <td>...</td>\n",
       "      <td>...</td>\n",
       "      <td>...</td>\n",
       "      <td>...</td>\n",
       "      <td>...</td>\n",
       "      <td>...</td>\n",
       "      <td>...</td>\n",
       "      <td>...</td>\n",
       "      <td>...</td>\n",
       "      <td>...</td>\n",
       "      <td>...</td>\n",
       "      <td>...</td>\n",
       "      <td>...</td>\n",
       "      <td>...</td>\n",
       "      <td>...</td>\n",
       "      <td>...</td>\n",
       "      <td>...</td>\n",
       "      <td>...</td>\n",
       "      <td>...</td>\n",
       "    </tr>\n",
       "    <tr>\n",
       "      <th>Online Meeting</th>\n",
       "      <td>0.000000</td>\n",
       "      <td>0.000000</td>\n",
       "      <td>0.000000</td>\n",
       "      <td>0.0</td>\n",
       "      <td>0.0</td>\n",
       "      <td>0.0</td>\n",
       "      <td>0.000000</td>\n",
       "      <td>0.000000</td>\n",
       "      <td>0.000000</td>\n",
       "      <td>0.000000</td>\n",
       "      <td>...</td>\n",
       "      <td>0.000000</td>\n",
       "      <td>0.0</td>\n",
       "      <td>0.0</td>\n",
       "      <td>0.000000</td>\n",
       "      <td>0.0</td>\n",
       "      <td>0.000000</td>\n",
       "      <td>0.0</td>\n",
       "      <td>0.0</td>\n",
       "      <td>0.0</td>\n",
       "      <td>0.0</td>\n",
       "    </tr>\n",
       "    <tr>\n",
       "      <th>Brokerage and Trading</th>\n",
       "      <td>0.000000</td>\n",
       "      <td>0.000000</td>\n",
       "      <td>0.000000</td>\n",
       "      <td>0.0</td>\n",
       "      <td>0.0</td>\n",
       "      <td>0.0</td>\n",
       "      <td>0.000000</td>\n",
       "      <td>0.000000</td>\n",
       "      <td>0.000000</td>\n",
       "      <td>0.000000</td>\n",
       "      <td>...</td>\n",
       "      <td>0.000000</td>\n",
       "      <td>0.0</td>\n",
       "      <td>0.0</td>\n",
       "      <td>0.000000</td>\n",
       "      <td>0.0</td>\n",
       "      <td>0.000000</td>\n",
       "      <td>0.0</td>\n",
       "      <td>0.0</td>\n",
       "      <td>0.0</td>\n",
       "      <td>0.0</td>\n",
       "    </tr>\n",
       "    <tr>\n",
       "      <th>Dynamic DNS</th>\n",
       "      <td>0.000000</td>\n",
       "      <td>0.000000</td>\n",
       "      <td>0.000000</td>\n",
       "      <td>0.0</td>\n",
       "      <td>0.0</td>\n",
       "      <td>0.0</td>\n",
       "      <td>0.000000</td>\n",
       "      <td>0.000000</td>\n",
       "      <td>0.000000</td>\n",
       "      <td>0.000000</td>\n",
       "      <td>...</td>\n",
       "      <td>0.000000</td>\n",
       "      <td>0.0</td>\n",
       "      <td>0.0</td>\n",
       "      <td>0.000000</td>\n",
       "      <td>0.0</td>\n",
       "      <td>0.000000</td>\n",
       "      <td>0.0</td>\n",
       "      <td>0.0</td>\n",
       "      <td>0.0</td>\n",
       "      <td>0.0</td>\n",
       "    </tr>\n",
       "    <tr>\n",
       "      <th>Medicine</th>\n",
       "      <td>0.000000</td>\n",
       "      <td>0.000000</td>\n",
       "      <td>0.000000</td>\n",
       "      <td>0.0</td>\n",
       "      <td>0.0</td>\n",
       "      <td>0.0</td>\n",
       "      <td>0.000000</td>\n",
       "      <td>0.000000</td>\n",
       "      <td>0.000000</td>\n",
       "      <td>0.000000</td>\n",
       "      <td>...</td>\n",
       "      <td>0.000000</td>\n",
       "      <td>0.0</td>\n",
       "      <td>0.0</td>\n",
       "      <td>0.000000</td>\n",
       "      <td>0.0</td>\n",
       "      <td>0.000000</td>\n",
       "      <td>0.0</td>\n",
       "      <td>0.0</td>\n",
       "      <td>0.0</td>\n",
       "      <td>0.0</td>\n",
       "    </tr>\n",
       "    <tr>\n",
       "      <th>Child Education</th>\n",
       "      <td>0.000000</td>\n",
       "      <td>0.000000</td>\n",
       "      <td>0.000000</td>\n",
       "      <td>0.0</td>\n",
       "      <td>0.0</td>\n",
       "      <td>0.0</td>\n",
       "      <td>0.000000</td>\n",
       "      <td>0.000000</td>\n",
       "      <td>0.000000</td>\n",
       "      <td>0.000000</td>\n",
       "      <td>...</td>\n",
       "      <td>0.000000</td>\n",
       "      <td>0.0</td>\n",
       "      <td>0.0</td>\n",
       "      <td>0.000000</td>\n",
       "      <td>0.0</td>\n",
       "      <td>0.000000</td>\n",
       "      <td>0.0</td>\n",
       "      <td>0.0</td>\n",
       "      <td>0.0</td>\n",
       "      <td>0.0</td>\n",
       "    </tr>\n",
       "  </tbody>\n",
       "</table>\n",
       "<p>72 rows × 55 columns</p>\n",
       "</div>"
      ],
      "text/plain": [
       "                                UA        CO        KR   US    BG    BZ  \\\n",
       "category                                                                  \n",
       "File Sharing and Storage  0.000000  0.000000  2.176180  0.0   0.0   0.0   \n",
       "Reference                 0.000000  0.000000  1.255837  0.0   0.0   0.0   \n",
       "Information Technology    7.667732  0.000000  1.364646  0.0  20.0   0.0   \n",
       "Instant Messaging         0.000000  0.000000  0.040803  0.0   0.0   0.0   \n",
       "News and Media            0.319489  9.090909  4.542776  0.0   0.0  25.0   \n",
       "...                            ...       ...       ...  ...   ...   ...   \n",
       "Online Meeting            0.000000  0.000000  0.000000  0.0   0.0   0.0   \n",
       "Brokerage and Trading     0.000000  0.000000  0.000000  0.0   0.0   0.0   \n",
       "Dynamic DNS               0.000000  0.000000  0.000000  0.0   0.0   0.0   \n",
       "Medicine                  0.000000  0.000000  0.000000  0.0   0.0   0.0   \n",
       "Child Education           0.000000  0.000000  0.000000  0.0   0.0   0.0   \n",
       "\n",
       "                                 AU        JP         NL        HK  ...  \\\n",
       "category                                                            ...   \n",
       "File Sharing and Storage  10.714286  0.000000   0.000000  4.347826  ...   \n",
       "Reference                  0.000000  1.234568   0.000000  4.347826  ...   \n",
       "Information Technology     8.928571  4.938272   8.256881  0.000000  ...   \n",
       "Instant Messaging          0.000000  0.000000   0.000000  0.000000  ...   \n",
       "News and Media            12.500000  9.876543  39.449541  4.347826  ...   \n",
       "...                             ...       ...        ...       ...  ...   \n",
       "Online Meeting             0.000000  0.000000   0.000000  0.000000  ...   \n",
       "Brokerage and Trading      0.000000  0.000000   0.000000  0.000000  ...   \n",
       "Dynamic DNS                0.000000  0.000000   0.000000  0.000000  ...   \n",
       "Medicine                   0.000000  0.000000   0.000000  0.000000  ...   \n",
       "Child Education            0.000000  0.000000   0.000000  0.000000  ...   \n",
       "\n",
       "                                 TR   PL   DZ         BR   SC        SA   AT  \\\n",
       "category                                                                       \n",
       "File Sharing and Storage   2.062589  0.0  0.0   0.000000  0.0  0.400375  0.0   \n",
       "Reference                  0.711238  0.0  0.0   6.666667  0.0  0.000000  0.0   \n",
       "Information Technology     0.000000  0.0  0.0   6.666667  0.0  0.860380  0.0   \n",
       "Instant Messaging          0.000000  0.0  0.0   0.000000  0.0  0.000000  0.0   \n",
       "News and Media            23.826458  0.0  0.0  20.000000  0.0  4.335974  0.0   \n",
       "...                             ...  ...  ...        ...  ...       ...  ...   \n",
       "Online Meeting             0.000000  0.0  0.0   0.000000  0.0  0.000000  0.0   \n",
       "Brokerage and Trading      0.000000  0.0  0.0   0.000000  0.0  0.000000  0.0   \n",
       "Dynamic DNS                0.000000  0.0  0.0   0.000000  0.0  0.000000  0.0   \n",
       "Medicine                   0.000000  0.0  0.0   0.000000  0.0  0.000000  0.0   \n",
       "Child Education            0.000000  0.0  0.0   0.000000  0.0  0.000000  0.0   \n",
       "\n",
       "                           GR   CR   LI  \n",
       "category                                 \n",
       "File Sharing and Storage  0.0  0.0  0.0  \n",
       "Reference                 0.0  0.0  0.0  \n",
       "Information Technology    0.0  0.0  0.0  \n",
       "Instant Messaging         0.0  0.0  0.0  \n",
       "News and Media            0.0  0.0  0.0  \n",
       "...                       ...  ...  ...  \n",
       "Online Meeting            0.0  0.0  0.0  \n",
       "Brokerage and Trading     0.0  0.0  0.0  \n",
       "Dynamic DNS               0.0  0.0  0.0  \n",
       "Medicine                  0.0  0.0  0.0  \n",
       "Child Education           0.0  0.0  0.0  \n",
       "\n",
       "[72 rows x 55 columns]"
      ]
     },
     "execution_count": 69,
     "metadata": {},
     "output_type": "execute_result"
    }
   ],
   "source": [
    "simMetricDF"
   ]
  },
  {
   "cell_type": "code",
   "execution_count": 70,
   "metadata": {},
   "outputs": [],
   "source": [
    "countryList =  allCountries.tolist()\n",
    "numCatBlock = []"
   ]
  },
  {
   "cell_type": "code",
   "execution_count": 71,
   "metadata": {},
   "outputs": [],
   "source": [
    "for item in countryList:\n",
    "    numCatBlock.append(len(simMetricDF[simMetricDF[item]!=0]))"
   ]
  },
  {
   "cell_type": "code",
   "execution_count": 72,
   "metadata": {},
   "outputs": [],
   "source": [
    "tempDF = pd.DataFrame(index=countryList)"
   ]
  },
  {
   "cell_type": "code",
   "execution_count": 73,
   "metadata": {},
   "outputs": [],
   "source": [
    "tempDF['numCatBlock'] =numCatBlock"
   ]
  },
  {
   "cell_type": "code",
   "execution_count": 74,
   "metadata": {},
   "outputs": [],
   "source": [
    "tempDF = tempDF.sort_values(by='numCatBlock',ascending = False)"
   ]
  },
  {
   "cell_type": "code",
   "execution_count": 75,
   "metadata": {},
   "outputs": [
    {
     "name": "stdout",
     "output_type": "stream",
     "text": [
      "We have 55 unique countries\n"
     ]
    }
   ],
   "source": [
    "#Getting all columns i.e. countries\n",
    "simCols=[]\n",
    "for i in range(len(simMetricDF.columns)):\n",
    "    simCols.append(simMetricDF.columns[i])\n",
    "print(\"We have {} unique countries\".format(len(simCols)))"
   ]
  },
  {
   "cell_type": "code",
   "execution_count": 76,
   "metadata": {},
   "outputs": [
    {
     "name": "stdout",
     "output_type": "stream",
     "text": [
      "We have 1485 unique pairs from these countries including dummy\n"
     ]
    }
   ],
   "source": [
    "#Creating pairs to do calculation of spatial distance\n",
    "from itertools import combinations\n",
    "pairs = [comb for comb in sorted(combinations(simCols, 2))]\n",
    "print(\"We have {} unique pairs from these countries including dummy\".format(len(pairs)))"
   ]
  },
  {
   "cell_type": "code",
   "execution_count": 77,
   "metadata": {},
   "outputs": [],
   "source": [
    "#Both vectors are non zeroes\n",
    "#print(\" **** Similarity is {} ****\".format(1-(spatial.distance.cosine(simMetricDF['AU'], simMetricDF['IN']))))\n",
    "\n",
    "# When even one vector is completeley a zero vector\n",
    "#print(\" **** Similarity is {} ****\".format(1-(spatial.distance.cosine(simMetricDF['US'], simMetricDF['IN']))))"
   ]
  },
  {
   "cell_type": "code",
   "execution_count": 124,
   "metadata": {},
   "outputs": [],
   "source": [
    "#NewSimVal will store the similarity value calculated from the spatial cosine distance formula\n",
    "\n",
    "NewSimVals = []\n",
    "for item in pairs:\n",
    "    if (np.sum(simMetricDF[item[0]]) == 0) & (np.sum(simMetricDF[item[1]]) ==0):\n",
    "        NewSimVals.append((item,1))\n",
    "    elif (np.sum(simMetricDF[item[0]]) == 0) | (np.sum(simMetricDF[item[1]]) ==0):\n",
    "        NewSimVals.append((item,0))\n",
    "    else :\n",
    "        NewSimVals.append((item,(1 - spatial.distance.cosine(simMetricDF[item[0]], simMetricDF[item[1]]))))"
   ]
  },
  {
   "cell_type": "code",
   "execution_count": 125,
   "metadata": {},
   "outputs": [
    {
     "data": {
      "text/html": [
       "<div>\n",
       "<style scoped>\n",
       "    .dataframe tbody tr th:only-of-type {\n",
       "        vertical-align: middle;\n",
       "    }\n",
       "\n",
       "    .dataframe tbody tr th {\n",
       "        vertical-align: top;\n",
       "    }\n",
       "\n",
       "    .dataframe thead th {\n",
       "        text-align: right;\n",
       "    }\n",
       "</style>\n",
       "<table border=\"1\" class=\"dataframe\">\n",
       "  <thead>\n",
       "    <tr style=\"text-align: right;\">\n",
       "      <th></th>\n",
       "      <th>pair</th>\n",
       "      <th>country_code_alpha2_A</th>\n",
       "      <th>country_code_alpha2_B</th>\n",
       "      <th>similarity</th>\n",
       "    </tr>\n",
       "  </thead>\n",
       "  <tbody>\n",
       "    <tr>\n",
       "      <th>0</th>\n",
       "      <td>(AD, AT)</td>\n",
       "      <td>AD</td>\n",
       "      <td>AT</td>\n",
       "      <td>0.000000</td>\n",
       "    </tr>\n",
       "    <tr>\n",
       "      <th>1</th>\n",
       "      <td>(AD, BE)</td>\n",
       "      <td>AD</td>\n",
       "      <td>BE</td>\n",
       "      <td>1.000000</td>\n",
       "    </tr>\n",
       "    <tr>\n",
       "      <th>2</th>\n",
       "      <td>(AD, BR)</td>\n",
       "      <td>AD</td>\n",
       "      <td>BR</td>\n",
       "      <td>0.000000</td>\n",
       "    </tr>\n",
       "    <tr>\n",
       "      <th>3</th>\n",
       "      <td>(AD, CA)</td>\n",
       "      <td>AD</td>\n",
       "      <td>CA</td>\n",
       "      <td>0.000000</td>\n",
       "    </tr>\n",
       "    <tr>\n",
       "      <th>4</th>\n",
       "      <td>(AD, CR)</td>\n",
       "      <td>AD</td>\n",
       "      <td>CR</td>\n",
       "      <td>1.000000</td>\n",
       "    </tr>\n",
       "    <tr>\n",
       "      <th>...</th>\n",
       "      <td>...</td>\n",
       "      <td>...</td>\n",
       "      <td>...</td>\n",
       "      <td>...</td>\n",
       "    </tr>\n",
       "    <tr>\n",
       "      <th>1480</th>\n",
       "      <td>(ZA, SG)</td>\n",
       "      <td>ZA</td>\n",
       "      <td>SG</td>\n",
       "      <td>0.000000</td>\n",
       "    </tr>\n",
       "    <tr>\n",
       "      <th>1481</th>\n",
       "      <td>(ZA, SK)</td>\n",
       "      <td>ZA</td>\n",
       "      <td>SK</td>\n",
       "      <td>0.000000</td>\n",
       "    </tr>\n",
       "    <tr>\n",
       "      <th>1482</th>\n",
       "      <td>(ZA, TR)</td>\n",
       "      <td>ZA</td>\n",
       "      <td>TR</td>\n",
       "      <td>0.175272</td>\n",
       "    </tr>\n",
       "    <tr>\n",
       "      <th>1483</th>\n",
       "      <td>(ZA, TW)</td>\n",
       "      <td>ZA</td>\n",
       "      <td>TW</td>\n",
       "      <td>0.000000</td>\n",
       "    </tr>\n",
       "    <tr>\n",
       "      <th>1484</th>\n",
       "      <td>(ZA, VE)</td>\n",
       "      <td>ZA</td>\n",
       "      <td>VE</td>\n",
       "      <td>0.000000</td>\n",
       "    </tr>\n",
       "  </tbody>\n",
       "</table>\n",
       "<p>1485 rows × 4 columns</p>\n",
       "</div>"
      ],
      "text/plain": [
       "          pair country_code_alpha2_A country_code_alpha2_B  similarity\n",
       "0     (AD, AT)                    AD                    AT    0.000000\n",
       "1     (AD, BE)                    AD                    BE    1.000000\n",
       "2     (AD, BR)                    AD                    BR    0.000000\n",
       "3     (AD, CA)                    AD                    CA    0.000000\n",
       "4     (AD, CR)                    AD                    CR    1.000000\n",
       "...        ...                   ...                   ...         ...\n",
       "1480  (ZA, SG)                    ZA                    SG    0.000000\n",
       "1481  (ZA, SK)                    ZA                    SK    0.000000\n",
       "1482  (ZA, TR)                    ZA                    TR    0.175272\n",
       "1483  (ZA, TW)                    ZA                    TW    0.000000\n",
       "1484  (ZA, VE)                    ZA                    VE    0.000000\n",
       "\n",
       "[1485 rows x 4 columns]"
      ]
     },
     "execution_count": 125,
     "metadata": {},
     "output_type": "execute_result"
    }
   ],
   "source": [
    "simMetricVals = pd.DataFrame(index=pairs, columns = None )\n",
    "simMetricVals['similarity'] = [j for (i,j) in NewSimVals]\n",
    "simMetricVals.reset_index(inplace=True)\n",
    "simMetricVals.rename(columns={'index':'pair'},inplace=True)\n",
    "simMetricVals[['country_code_alpha2_A', 'country_code_alpha2_B']] = pd.DataFrame(simMetricVals['pair'].tolist(), index=simMetricVals.index)\n",
    "simMetricVals = simMetricVals[['pair','country_code_alpha2_A','country_code_alpha2_B','similarity']]\n",
    "simMetricVals"
   ]
  },
  {
   "cell_type": "code",
   "execution_count": 132,
   "metadata": {},
   "outputs": [
    {
     "data": {
      "text/plain": [
       "<matplotlib.axes._subplots.AxesSubplot at 0x7f3ad176c208>"
      ]
     },
     "execution_count": 132,
     "metadata": {},
     "output_type": "execute_result"
    },
    {
     "data": {
      "image/png": "[encoded data removed]",
      "text/plain": [
       "<Figure size 640x480 with 1 Axes>"
      ]
     },
     "metadata": {},
     "output_type": "display_data"
    }
   ],
   "source": [
    "simMetricVals['similarity'].plot.hist()"
   ]
  },
  {
   "cell_type": "code",
   "execution_count": 126,
   "metadata": {},
   "outputs": [],
   "source": [
    "# #Pickling the simMetricVals data set\n",
    "simMetricVals.to_pickle(\"simMetricVals.pkl\")"
   ]
  },
  {
   "cell_type": "markdown",
   "metadata": {},
   "source": [
    "-->> Reading simMetricVals from pickle"
   ]
  },
  {
   "cell_type": "code",
   "execution_count": 127,
   "metadata": {},
   "outputs": [],
   "source": [
    "#simMetricVals = pd.read_pickle(\"simMetricVals.pkl\")"
   ]
  },
  {
   "cell_type": "markdown",
   "metadata": {},
   "source": [
    "## Proxy 2: Proportion of blocking events\n",
    "\n",
    "While our first metric (above) gives us a good sense of blocking overlaps,\n",
    "it fails to show us variation in the *volume* of blocking. Some countries have more blocking than others. We want to account for that.\n",
    "\n",
    "We'll measure the volume of blocking in each country. We'll do that by measuring, for each country, the *proportion* of observations where `censored=True`."
   ]
  },
  {
   "cell_type": "markdown",
   "metadata": {},
   "source": [
    "### Number of sites are blocked"
   ]
  },
  {
   "cell_type": "code",
   "execution_count": 31,
   "metadata": {},
   "outputs": [],
   "source": [
    "NumSitesBlocked = iclabcombined.loc[(iclabcombined['censored_updated']==True),['site','country']].sort_values(by='country',ascending = False)"
   ]
  },
  {
   "cell_type": "code",
   "execution_count": 32,
   "metadata": {},
   "outputs": [],
   "source": [
    "total_observations_by_country = iclabcombined.groupby('country').count()"
   ]
  },
  {
   "cell_type": "code",
   "execution_count": 33,
   "metadata": {},
   "outputs": [],
   "source": [
    "total_blocked_observations_by_country = iclabcombined[iclabcombined['censored_updated']==True].groupby('country').count()"
   ]
  },
  {
   "cell_type": "code",
   "execution_count": 133,
   "metadata": {
    "scrolled": true
   },
   "outputs": [
    {
     "data": {
      "text/plain": [
       "country\n",
       "AT    0.000000\n",
       "AU    0.000045\n",
       "BG    0.000014\n",
       "BR    0.000014\n",
       "BZ    0.000148\n",
       "CA    0.000000\n",
       "CL    0.000004\n",
       "CN    0.000726\n",
       "CO    0.000054\n",
       "DK    0.000009\n",
       "ES    0.000050\n",
       "FR    0.000009\n",
       "HK    0.000036\n",
       "HU    0.000021\n",
       "IN    0.037089\n",
       "JP    0.000102\n",
       "KE    0.000025\n",
       "KR    0.021711\n",
       "LT    0.000034\n",
       "LU    0.000043\n",
       "MD    0.000025\n",
       "MX    0.000011\n",
       "MY    0.000177\n",
       "NL    0.000032\n",
       "NO    0.000014\n",
       "NZ    0.000036\n",
       "PE    0.000047\n",
       "PL    0.000665\n",
       "PT    0.000008\n",
       "RO    0.000033\n",
       "RS    0.000042\n",
       "RU    0.012843\n",
       "SA    0.111579\n",
       "SC    0.000021\n",
       "SE    0.000008\n",
       "SG    0.000014\n",
       "SK    0.000169\n",
       "TR    0.023203\n",
       "TW    0.000030\n",
       "UA    0.000714\n",
       "VN    0.000024\n",
       "ZA    0.000007\n",
       "dtype: float64"
      ]
     },
     "execution_count": 133,
     "metadata": {},
     "output_type": "execute_result"
    }
   ],
   "source": [
    "dummy_column_for_counting = 'dns'\n",
    "\n",
    "def as_single_column (df):\n",
    "    return df[[dummy_column_for_counting]]\n",
    "\n",
    "def proportion (row):\n",
    "    blocked = row[dummy_column_for_counting+'_blocked']\n",
    "    total = row[dummy_column_for_counting+'_total']\n",
    "    return blocked / total\n",
    "\n",
    "\n",
    "blocking_proporitons =\\\n",
    "as_single_column(total_blocked_observations_by_country)\\\n",
    "    .merge(as_single_column(total_observations_by_country),\n",
    "           on='country', suffixes=('_blocked', '_total'))\\\n",
    "    .apply(proportion, axis=1)\n",
    "\n",
    "blocking_proporitons"
   ]
  },
  {
   "cell_type": "markdown",
   "metadata": {},
   "source": [
    "Now we can compute the similarity in proportions between two countries."
   ]
  },
  {
   "cell_type": "code",
   "execution_count": 134,
   "metadata": {},
   "outputs": [],
   "source": [
    "def get_proportion (cc2):\n",
    "    # try to retrieve it\n",
    "    try:\n",
    "        return blocking_proporitons[cc2]\n",
    "    # if we don't have data on it\n",
    "    except KeyError:\n",
    "        # treat it as 0\n",
    "        return 0\n",
    "\n",
    "def compute_similarity(proportion1, proportion2):\n",
    "    # keep it simple....\n",
    "    # minimum and maximum values will still be 0 and 1, since we're dealing with proportions.\n",
    "    return 1 - abs(proportion1 - proportion2)\n",
    "\n",
    "CountSimilarity = []\n",
    "for item in pairs:\n",
    "    (country1, country2) = item\n",
    "    similarity = compute_similarity(get_proportion(country1), get_proportion(country2))\n",
    "    CountSimilarity.append((item, similarity))"
   ]
  },
  {
   "cell_type": "code",
   "execution_count": 135,
   "metadata": {},
   "outputs": [
    {
     "data": {
      "text/html": [
       "<div>\n",
       "<style scoped>\n",
       "    .dataframe tbody tr th:only-of-type {\n",
       "        vertical-align: middle;\n",
       "    }\n",
       "\n",
       "    .dataframe tbody tr th {\n",
       "        vertical-align: top;\n",
       "    }\n",
       "\n",
       "    .dataframe thead th {\n",
       "        text-align: right;\n",
       "    }\n",
       "</style>\n",
       "<table border=\"1\" class=\"dataframe\">\n",
       "  <thead>\n",
       "    <tr style=\"text-align: right;\">\n",
       "      <th></th>\n",
       "      <th>pair</th>\n",
       "      <th>proportion-similarity</th>\n",
       "    </tr>\n",
       "  </thead>\n",
       "  <tbody>\n",
       "    <tr>\n",
       "      <th>0</th>\n",
       "      <td>(AD, AT)</td>\n",
       "      <td>1.000000</td>\n",
       "    </tr>\n",
       "    <tr>\n",
       "      <th>1</th>\n",
       "      <td>(AD, BE)</td>\n",
       "      <td>1.000000</td>\n",
       "    </tr>\n",
       "    <tr>\n",
       "      <th>2</th>\n",
       "      <td>(AD, BR)</td>\n",
       "      <td>0.999986</td>\n",
       "    </tr>\n",
       "    <tr>\n",
       "      <th>3</th>\n",
       "      <td>(AD, CA)</td>\n",
       "      <td>1.000000</td>\n",
       "    </tr>\n",
       "    <tr>\n",
       "      <th>4</th>\n",
       "      <td>(AD, CR)</td>\n",
       "      <td>1.000000</td>\n",
       "    </tr>\n",
       "    <tr>\n",
       "      <th>...</th>\n",
       "      <td>...</td>\n",
       "      <td>...</td>\n",
       "    </tr>\n",
       "    <tr>\n",
       "      <th>1480</th>\n",
       "      <td>(ZA, SG)</td>\n",
       "      <td>0.999993</td>\n",
       "    </tr>\n",
       "    <tr>\n",
       "      <th>1481</th>\n",
       "      <td>(ZA, SK)</td>\n",
       "      <td>0.999839</td>\n",
       "    </tr>\n",
       "    <tr>\n",
       "      <th>1482</th>\n",
       "      <td>(ZA, TR)</td>\n",
       "      <td>0.976804</td>\n",
       "    </tr>\n",
       "    <tr>\n",
       "      <th>1483</th>\n",
       "      <td>(ZA, TW)</td>\n",
       "      <td>0.999977</td>\n",
       "    </tr>\n",
       "    <tr>\n",
       "      <th>1484</th>\n",
       "      <td>(ZA, VE)</td>\n",
       "      <td>0.999993</td>\n",
       "    </tr>\n",
       "  </tbody>\n",
       "</table>\n",
       "<p>1485 rows × 2 columns</p>\n",
       "</div>"
      ],
      "text/plain": [
       "          pair  proportion-similarity\n",
       "0     (AD, AT)               1.000000\n",
       "1     (AD, BE)               1.000000\n",
       "2     (AD, BR)               0.999986\n",
       "3     (AD, CA)               1.000000\n",
       "4     (AD, CR)               1.000000\n",
       "...        ...                    ...\n",
       "1480  (ZA, SG)               0.999993\n",
       "1481  (ZA, SK)               0.999839\n",
       "1482  (ZA, TR)               0.976804\n",
       "1483  (ZA, TW)               0.999977\n",
       "1484  (ZA, VE)               0.999993\n",
       "\n",
       "[1485 rows x 2 columns]"
      ]
     },
     "execution_count": 135,
     "metadata": {},
     "output_type": "execute_result"
    }
   ],
   "source": [
    "blocking_proportion_similarities =\\\n",
    "pd.DataFrame(CountSimilarity, columns=[\n",
    "    'pair',\n",
    "    'proportion-similarity'\n",
    "])\n",
    "blocking_proportion_similarities"
   ]
  },
  {
   "cell_type": "code",
   "execution_count": 136,
   "metadata": {},
   "outputs": [
    {
     "data": {
      "text/plain": [
       "<matplotlib.axes._subplots.AxesSubplot at 0x7f3acfa81f28>"
      ]
     },
     "execution_count": 136,
     "metadata": {},
     "output_type": "execute_result"
    },
    {
     "data": {
      "image/png": "[encoded data removed]",
      "text/plain": [
       "<Figure size 640x480 with 1 Axes>"
      ]
     },
     "metadata": {},
     "output_type": "display_data"
    }
   ],
   "source": [
    "blocking_proportion_similarities['proportion-similarity'].plot.hist()"
   ]
  },
  {
   "cell_type": "markdown",
   "metadata": {},
   "source": [
    "Not much variation here. That's okay. We'll just min-max normalize it."
   ]
  },
  {
   "cell_type": "code",
   "execution_count": 137,
   "metadata": {},
   "outputs": [
    {
     "data": {
      "text/plain": [
       "<matplotlib.axes._subplots.AxesSubplot at 0x7f3ad3bb4898>"
      ]
     },
     "execution_count": 137,
     "metadata": {},
     "output_type": "execute_result"
    },
    {
     "data": {
      "image/png": "[encoded data removed]",
      "text/plain": [
       "<Figure size 640x480 with 1 Axes>"
      ]
     },
     "metadata": {},
     "output_type": "display_data"
    }
   ],
   "source": [
    "def min_max_norm(series):\n",
    "    return (series-series.min())/(series.max()-series.min())\n",
    "\n",
    "blocking_proportion_similarities['proportion-similarity-normalized'] = \\\n",
    "    min_max_norm(blocking_proportion_similarities['proportion-similarity'])\n",
    "blocking_proportion_similarities['proportion-similarity-normalized'].plot.hist()"
   ]
  },
  {
   "cell_type": "markdown",
   "metadata": {},
   "source": [
    "### Merging these two"
   ]
  },
  {
   "cell_type": "code",
   "execution_count": 138,
   "metadata": {},
   "outputs": [
    {
     "data": {
      "text/html": [
       "<div>\n",
       "<style scoped>\n",
       "    .dataframe tbody tr th:only-of-type {\n",
       "        vertical-align: middle;\n",
       "    }\n",
       "\n",
       "    .dataframe tbody tr th {\n",
       "        vertical-align: top;\n",
       "    }\n",
       "\n",
       "    .dataframe thead th {\n",
       "        text-align: right;\n",
       "    }\n",
       "</style>\n",
       "<table border=\"1\" class=\"dataframe\">\n",
       "  <thead>\n",
       "    <tr style=\"text-align: right;\">\n",
       "      <th></th>\n",
       "      <th>pair</th>\n",
       "      <th>country_code_alpha2_A</th>\n",
       "      <th>country_code_alpha2_B</th>\n",
       "      <th>Censored_Category_Similarity</th>\n",
       "      <th>proportion-similarity</th>\n",
       "      <th>Blocking_Proportion_Similarity</th>\n",
       "      <th>Overall_Similarity</th>\n",
       "    </tr>\n",
       "  </thead>\n",
       "  <tbody>\n",
       "    <tr>\n",
       "      <th>80</th>\n",
       "      <td>(BE, IS)</td>\n",
       "      <td>BE</td>\n",
       "      <td>IS</td>\n",
       "      <td>1.0</td>\n",
       "      <td>1.000000</td>\n",
       "      <td>1.0</td>\n",
       "      <td>1.0</td>\n",
       "    </tr>\n",
       "    <tr>\n",
       "      <th>1405</th>\n",
       "      <td>(VE, IL)</td>\n",
       "      <td>VE</td>\n",
       "      <td>IL</td>\n",
       "      <td>1.0</td>\n",
       "      <td>1.000000</td>\n",
       "      <td>1.0</td>\n",
       "      <td>1.0</td>\n",
       "    </tr>\n",
       "    <tr>\n",
       "      <th>87</th>\n",
       "      <td>(BE, VE)</td>\n",
       "      <td>BE</td>\n",
       "      <td>VE</td>\n",
       "      <td>1.0</td>\n",
       "      <td>1.000000</td>\n",
       "      <td>1.0</td>\n",
       "      <td>1.0</td>\n",
       "    </tr>\n",
       "    <tr>\n",
       "      <th>1357</th>\n",
       "      <td>(US, CR)</td>\n",
       "      <td>US</td>\n",
       "      <td>CR</td>\n",
       "      <td>1.0</td>\n",
       "      <td>1.000000</td>\n",
       "      <td>1.0</td>\n",
       "      <td>1.0</td>\n",
       "    </tr>\n",
       "    <tr>\n",
       "      <th>1</th>\n",
       "      <td>(AD, BE)</td>\n",
       "      <td>AD</td>\n",
       "      <td>BE</td>\n",
       "      <td>1.0</td>\n",
       "      <td>1.000000</td>\n",
       "      <td>1.0</td>\n",
       "      <td>1.0</td>\n",
       "    </tr>\n",
       "    <tr>\n",
       "      <th>...</th>\n",
       "      <td>...</td>\n",
       "      <td>...</td>\n",
       "      <td>...</td>\n",
       "      <td>...</td>\n",
       "      <td>...</td>\n",
       "      <td>...</td>\n",
       "      <td>...</td>\n",
       "    </tr>\n",
       "    <tr>\n",
       "      <th>570</th>\n",
       "      <td>(IL, SA)</td>\n",
       "      <td>IL</td>\n",
       "      <td>SA</td>\n",
       "      <td>0.0</td>\n",
       "      <td>0.888421</td>\n",
       "      <td>0.0</td>\n",
       "      <td>0.0</td>\n",
       "    </tr>\n",
       "    <tr>\n",
       "      <th>555</th>\n",
       "      <td>(ID, SA)</td>\n",
       "      <td>ID</td>\n",
       "      <td>SA</td>\n",
       "      <td>0.0</td>\n",
       "      <td>0.888421</td>\n",
       "      <td>0.0</td>\n",
       "      <td>0.0</td>\n",
       "    </tr>\n",
       "    <tr>\n",
       "      <th>209</th>\n",
       "      <td>(CA, SA)</td>\n",
       "      <td>CA</td>\n",
       "      <td>SA</td>\n",
       "      <td>0.0</td>\n",
       "      <td>0.888421</td>\n",
       "      <td>0.0</td>\n",
       "      <td>0.0</td>\n",
       "    </tr>\n",
       "    <tr>\n",
       "      <th>1388</th>\n",
       "      <td>(US, SA)</td>\n",
       "      <td>US</td>\n",
       "      <td>SA</td>\n",
       "      <td>0.0</td>\n",
       "      <td>0.888421</td>\n",
       "      <td>0.0</td>\n",
       "      <td>0.0</td>\n",
       "    </tr>\n",
       "    <tr>\n",
       "      <th>1159</th>\n",
       "      <td>(SA, LI)</td>\n",
       "      <td>SA</td>\n",
       "      <td>LI</td>\n",
       "      <td>0.0</td>\n",
       "      <td>0.888421</td>\n",
       "      <td>0.0</td>\n",
       "      <td>0.0</td>\n",
       "    </tr>\n",
       "  </tbody>\n",
       "</table>\n",
       "<p>1485 rows × 7 columns</p>\n",
       "</div>"
      ],
      "text/plain": [
       "          pair country_code_alpha2_A country_code_alpha2_B  \\\n",
       "80    (BE, IS)                    BE                    IS   \n",
       "1405  (VE, IL)                    VE                    IL   \n",
       "87    (BE, VE)                    BE                    VE   \n",
       "1357  (US, CR)                    US                    CR   \n",
       "1     (AD, BE)                    AD                    BE   \n",
       "...        ...                   ...                   ...   \n",
       "570   (IL, SA)                    IL                    SA   \n",
       "555   (ID, SA)                    ID                    SA   \n",
       "209   (CA, SA)                    CA                    SA   \n",
       "1388  (US, SA)                    US                    SA   \n",
       "1159  (SA, LI)                    SA                    LI   \n",
       "\n",
       "      Censored_Category_Similarity  proportion-similarity  \\\n",
       "80                             1.0               1.000000   \n",
       "1405                           1.0               1.000000   \n",
       "87                             1.0               1.000000   \n",
       "1357                           1.0               1.000000   \n",
       "1                              1.0               1.000000   \n",
       "...                            ...                    ...   \n",
       "570                            0.0               0.888421   \n",
       "555                            0.0               0.888421   \n",
       "209                            0.0               0.888421   \n",
       "1388                           0.0               0.888421   \n",
       "1159                           0.0               0.888421   \n",
       "\n",
       "      Blocking_Proportion_Similarity  Overall_Similarity  \n",
       "80                               1.0                 1.0  \n",
       "1405                             1.0                 1.0  \n",
       "87                               1.0                 1.0  \n",
       "1357                             1.0                 1.0  \n",
       "1                                1.0                 1.0  \n",
       "...                              ...                 ...  \n",
       "570                              0.0                 0.0  \n",
       "555                              0.0                 0.0  \n",
       "209                              0.0                 0.0  \n",
       "1388                             0.0                 0.0  \n",
       "1159                             0.0                 0.0  \n",
       "\n",
       "[1485 rows x 7 columns]"
      ]
     },
     "execution_count": 138,
     "metadata": {},
     "output_type": "execute_result"
    }
   ],
   "source": [
    "MetricDF = pd.merge(simMetricVals,blocking_proportion_similarities,on='pair',how='outer')\n",
    "MetricDF = MetricDF.rename(columns={\n",
    "    'similarity':'Censored_Category_Similarity',\n",
    "    'proportion-similarity-normalized':'Blocking_Proportion_Similarity',\n",
    "})\n",
    "MetricDF['Overall_Similarity'] = (MetricDF['Censored_Category_Similarity']+ MetricDF['Blocking_Proportion_Similarity'])/2\n",
    "MetricDF = MetricDF.sort_values(by='Overall_Similarity',ascending=False)\n",
    "MetricDF"
   ]
  },
  {
   "cell_type": "code",
   "execution_count": 105,
   "metadata": {},
   "outputs": [
    {
     "data": {
      "text/plain": [
       "<matplotlib.axes._subplots.AxesSubplot at 0x7f3acc53a5c0>"
      ]
     },
     "execution_count": 105,
     "metadata": {},
     "output_type": "execute_result"
    },
    {
     "data": {
      "image/png": "[encoded data removed]",
      "text/plain": [
       "<Figure size 640x480 with 1 Axes>"
      ]
     },
     "metadata": {},
     "output_type": "display_data"
    }
   ],
   "source": [
    "MetricDF['Overall_Similarity'].plot.hist()"
   ]
  },
  {
   "cell_type": "markdown",
   "metadata": {},
   "source": [
    "WOW! Great variation!  Let's normalize it just to pump it a bit."
   ]
  },
  {
   "cell_type": "code",
   "execution_count": 106,
   "metadata": {},
   "outputs": [
    {
     "data": {
      "text/plain": [
       "<matplotlib.axes._subplots.AxesSubplot at 0x7f3acca5eac8>"
      ]
     },
     "execution_count": 106,
     "metadata": {},
     "output_type": "execute_result"
    },
    {
     "data": {
      "image/png": "[encoded data removed]",
      "text/plain": [
       "<Figure size 640x480 with 1 Axes>"
      ]
     },
     "metadata": {},
     "output_type": "display_data"
    }
   ],
   "source": [
    "MetricDF['Overall_Similarity_Normalized'] =  min_max_norm(MetricDF['Overall_Similarity'])\n",
    "MetricDF['Overall_Similarity_Normalized'].plot.hist()"
   ]
  },
  {
   "cell_type": "code",
   "execution_count": 107,
   "metadata": {},
   "outputs": [],
   "source": [
    "PercentGroup = MetricDF.Overall_Similarity.apply (lambda \n",
    "                                              x : 90 if (x>=90) \n",
    "                                              else (80 if (x>=80 and x<90)\n",
    "                                                    else (70 if (x>=70 and x<80) \n",
    "                                                          else (60 if (x>=60 and x<70) \n",
    "                                                                else (50 if (x>=50 and x<60) \n",
    "                                                                      else (40 if (x>=40 and x<50) \n",
    "                                                                            else (30 if (x>=30 and x<40) \n",
    "                                                                                  else (20 if (x>=20 and x<30) \n",
    "                                                                                        else (10 if (x>=10 and x<20) \n",
    "                                                                                              else 0)  ) )  ) )) )))\n",
    "                                              \n",
    "                                               "
   ]
  },
  {
   "cell_type": "code",
   "execution_count": 108,
   "metadata": {},
   "outputs": [],
   "source": [
    "MetricDF['PercentRangeGroup'] = PercentGroup"
   ]
  },
  {
   "cell_type": "code",
   "execution_count": 109,
   "metadata": {},
   "outputs": [],
   "source": [
    "MetricDF = MetricDF.drop(columns='pair')"
   ]
  },
  {
   "cell_type": "code",
   "execution_count": 110,
   "metadata": {},
   "outputs": [],
   "source": [
    "# def countryCodeConversion()\n",
    "\n",
    "iCA = MetricDF['country_code_alpha2_A']\n",
    "iCB = MetricDF['country_code_alpha2_B']\n",
    "\n",
    "countries = {}\n",
    "for country in pycountry.countries:\n",
    "    countries[country.alpha_2] = country.alpha_3\n",
    "\n",
    "\n",
    "a3A = [countries.get(country, 'Unknown code') for country in iCA]\n",
    "a3B = [countries.get(country, 'Unknown code') for country in iCB]"
   ]
  },
  {
   "cell_type": "code",
   "execution_count": 111,
   "metadata": {},
   "outputs": [],
   "source": [
    "MetricDF['country_code_alpha3_A'] = a3A\n",
    "MetricDF['country_code_alpha3_B'] = a3B"
   ]
  },
  {
   "cell_type": "code",
   "execution_count": 112,
   "metadata": {},
   "outputs": [],
   "source": [
    "MetricDF.drop(columns=['country_code_alpha2_A','country_code_alpha2_B'],inplace=True)"
   ]
  },
  {
   "cell_type": "code",
   "execution_count": 113,
   "metadata": {},
   "outputs": [
    {
     "data": {
      "text/html": [
       "<div>\n",
       "<style scoped>\n",
       "    .dataframe tbody tr th:only-of-type {\n",
       "        vertical-align: middle;\n",
       "    }\n",
       "\n",
       "    .dataframe tbody tr th {\n",
       "        vertical-align: top;\n",
       "    }\n",
       "\n",
       "    .dataframe thead th {\n",
       "        text-align: right;\n",
       "    }\n",
       "</style>\n",
       "<table border=\"1\" class=\"dataframe\">\n",
       "  <thead>\n",
       "    <tr style=\"text-align: right;\">\n",
       "      <th></th>\n",
       "      <th>Censored_Category_Similarity</th>\n",
       "      <th>proportion-similarity</th>\n",
       "      <th>Blocking_Proportion_Similarity</th>\n",
       "      <th>Overall_Similarity</th>\n",
       "      <th>Overall_Similarity_Normalized</th>\n",
       "      <th>PercentRangeGroup</th>\n",
       "      <th>country_code_alpha3_A</th>\n",
       "      <th>country_code_alpha3_B</th>\n",
       "    </tr>\n",
       "  </thead>\n",
       "  <tbody>\n",
       "    <tr>\n",
       "      <th>1358</th>\n",
       "      <td>100.0</td>\n",
       "      <td>1.000000</td>\n",
       "      <td>1.0</td>\n",
       "      <td>50.5</td>\n",
       "      <td>1.0</td>\n",
       "      <td>50</td>\n",
       "      <td>USA</td>\n",
       "      <td>CZE</td>\n",
       "    </tr>\n",
       "    <tr>\n",
       "      <th>1405</th>\n",
       "      <td>100.0</td>\n",
       "      <td>1.000000</td>\n",
       "      <td>1.0</td>\n",
       "      <td>50.5</td>\n",
       "      <td>1.0</td>\n",
       "      <td>50</td>\n",
       "      <td>VEN</td>\n",
       "      <td>ISR</td>\n",
       "    </tr>\n",
       "    <tr>\n",
       "      <th>332</th>\n",
       "      <td>100.0</td>\n",
       "      <td>1.000000</td>\n",
       "      <td>1.0</td>\n",
       "      <td>50.5</td>\n",
       "      <td>1.0</td>\n",
       "      <td>50</td>\n",
       "      <td>CZE</td>\n",
       "      <td>LIE</td>\n",
       "    </tr>\n",
       "    <tr>\n",
       "      <th>1362</th>\n",
       "      <td>100.0</td>\n",
       "      <td>1.000000</td>\n",
       "      <td>1.0</td>\n",
       "      <td>50.5</td>\n",
       "      <td>1.0</td>\n",
       "      <td>50</td>\n",
       "      <td>USA</td>\n",
       "      <td>FIN</td>\n",
       "    </tr>\n",
       "    <tr>\n",
       "      <th>1364</th>\n",
       "      <td>100.0</td>\n",
       "      <td>1.000000</td>\n",
       "      <td>1.0</td>\n",
       "      <td>50.5</td>\n",
       "      <td>1.0</td>\n",
       "      <td>50</td>\n",
       "      <td>USA</td>\n",
       "      <td>GRC</td>\n",
       "    </tr>\n",
       "    <tr>\n",
       "      <th>...</th>\n",
       "      <td>...</td>\n",
       "      <td>...</td>\n",
       "      <td>...</td>\n",
       "      <td>...</td>\n",
       "      <td>...</td>\n",
       "      <td>...</td>\n",
       "      <td>...</td>\n",
       "      <td>...</td>\n",
       "    </tr>\n",
       "    <tr>\n",
       "      <th>611</th>\n",
       "      <td>0.0</td>\n",
       "      <td>0.888421</td>\n",
       "      <td>0.0</td>\n",
       "      <td>0.0</td>\n",
       "      <td>0.0</td>\n",
       "      <td>0</td>\n",
       "      <td>ISL</td>\n",
       "      <td>SAU</td>\n",
       "    </tr>\n",
       "    <tr>\n",
       "      <th>17</th>\n",
       "      <td>0.0</td>\n",
       "      <td>0.888421</td>\n",
       "      <td>0.0</td>\n",
       "      <td>0.0</td>\n",
       "      <td>0.0</td>\n",
       "      <td>0</td>\n",
       "      <td>AND</td>\n",
       "      <td>SAU</td>\n",
       "    </tr>\n",
       "    <tr>\n",
       "      <th>334</th>\n",
       "      <td>0.0</td>\n",
       "      <td>0.888421</td>\n",
       "      <td>0.0</td>\n",
       "      <td>0.0</td>\n",
       "      <td>0.0</td>\n",
       "      <td>0</td>\n",
       "      <td>CZE</td>\n",
       "      <td>SAU</td>\n",
       "    </tr>\n",
       "    <tr>\n",
       "      <th>570</th>\n",
       "      <td>0.0</td>\n",
       "      <td>0.888421</td>\n",
       "      <td>0.0</td>\n",
       "      <td>0.0</td>\n",
       "      <td>0.0</td>\n",
       "      <td>0</td>\n",
       "      <td>ISR</td>\n",
       "      <td>SAU</td>\n",
       "    </tr>\n",
       "    <tr>\n",
       "      <th>1159</th>\n",
       "      <td>0.0</td>\n",
       "      <td>0.888421</td>\n",
       "      <td>0.0</td>\n",
       "      <td>0.0</td>\n",
       "      <td>0.0</td>\n",
       "      <td>0</td>\n",
       "      <td>SAU</td>\n",
       "      <td>LIE</td>\n",
       "    </tr>\n",
       "  </tbody>\n",
       "</table>\n",
       "<p>1485 rows × 8 columns</p>\n",
       "</div>"
      ],
      "text/plain": [
       "      Censored_Category_Similarity  proportion-similarity  \\\n",
       "1358                         100.0               1.000000   \n",
       "1405                         100.0               1.000000   \n",
       "332                          100.0               1.000000   \n",
       "1362                         100.0               1.000000   \n",
       "1364                         100.0               1.000000   \n",
       "...                            ...                    ...   \n",
       "611                            0.0               0.888421   \n",
       "17                             0.0               0.888421   \n",
       "334                            0.0               0.888421   \n",
       "570                            0.0               0.888421   \n",
       "1159                           0.0               0.888421   \n",
       "\n",
       "      Blocking_Proportion_Similarity  Overall_Similarity  \\\n",
       "1358                             1.0                50.5   \n",
       "1405                             1.0                50.5   \n",
       "332                              1.0                50.5   \n",
       "1362                             1.0                50.5   \n",
       "1364                             1.0                50.5   \n",
       "...                              ...                 ...   \n",
       "611                              0.0                 0.0   \n",
       "17                               0.0                 0.0   \n",
       "334                              0.0                 0.0   \n",
       "570                              0.0                 0.0   \n",
       "1159                             0.0                 0.0   \n",
       "\n",
       "      Overall_Similarity_Normalized  PercentRangeGroup country_code_alpha3_A  \\\n",
       "1358                            1.0                 50                   USA   \n",
       "1405                            1.0                 50                   VEN   \n",
       "332                             1.0                 50                   CZE   \n",
       "1362                            1.0                 50                   USA   \n",
       "1364                            1.0                 50                   USA   \n",
       "...                             ...                ...                   ...   \n",
       "611                             0.0                  0                   ISL   \n",
       "17                              0.0                  0                   AND   \n",
       "334                             0.0                  0                   CZE   \n",
       "570                             0.0                  0                   ISR   \n",
       "1159                            0.0                  0                   SAU   \n",
       "\n",
       "     country_code_alpha3_B  \n",
       "1358                   CZE  \n",
       "1405                   ISR  \n",
       "332                    LIE  \n",
       "1362                   FIN  \n",
       "1364                   GRC  \n",
       "...                    ...  \n",
       "611                    SAU  \n",
       "17                     SAU  \n",
       "334                    SAU  \n",
       "570                    SAU  \n",
       "1159                   LIE  \n",
       "\n",
       "[1485 rows x 8 columns]"
      ]
     },
     "execution_count": 113,
     "metadata": {},
     "output_type": "execute_result"
    }
   ],
   "source": [
    "MetricDF"
   ]
  },
  {
   "cell_type": "markdown",
   "metadata": {},
   "source": [
    "# Outputting the JSON\n",
    "\n",
    "Dropping other columns for JSON conversion format compliance"
   ]
  },
  {
   "cell_type": "code",
   "execution_count": 114,
   "metadata": {},
   "outputs": [],
   "source": [
    "MetricDFJSON = MetricDF[['country_code_alpha3_A','country_code_alpha3_B','Overall_Similarity_Normalized']]"
   ]
  },
  {
   "cell_type": "code",
   "execution_count": 115,
   "metadata": {},
   "outputs": [
    {
     "data": {
      "text/html": [
       "<div>\n",
       "<style scoped>\n",
       "    .dataframe tbody tr th:only-of-type {\n",
       "        vertical-align: middle;\n",
       "    }\n",
       "\n",
       "    .dataframe tbody tr th {\n",
       "        vertical-align: top;\n",
       "    }\n",
       "\n",
       "    .dataframe thead th {\n",
       "        text-align: right;\n",
       "    }\n",
       "</style>\n",
       "<table border=\"1\" class=\"dataframe\">\n",
       "  <thead>\n",
       "    <tr style=\"text-align: right;\">\n",
       "      <th></th>\n",
       "      <th>country_code_alpha3_A</th>\n",
       "      <th>country_code_alpha3_B</th>\n",
       "      <th>Overall_Similarity_Normalized</th>\n",
       "    </tr>\n",
       "  </thead>\n",
       "  <tbody>\n",
       "    <tr>\n",
       "      <th>1358</th>\n",
       "      <td>USA</td>\n",
       "      <td>CZE</td>\n",
       "      <td>1.0</td>\n",
       "    </tr>\n",
       "    <tr>\n",
       "      <th>1405</th>\n",
       "      <td>VEN</td>\n",
       "      <td>ISR</td>\n",
       "      <td>1.0</td>\n",
       "    </tr>\n",
       "    <tr>\n",
       "      <th>332</th>\n",
       "      <td>CZE</td>\n",
       "      <td>LIE</td>\n",
       "      <td>1.0</td>\n",
       "    </tr>\n",
       "    <tr>\n",
       "      <th>1362</th>\n",
       "      <td>USA</td>\n",
       "      <td>FIN</td>\n",
       "      <td>1.0</td>\n",
       "    </tr>\n",
       "    <tr>\n",
       "      <th>1364</th>\n",
       "      <td>USA</td>\n",
       "      <td>GRC</td>\n",
       "      <td>1.0</td>\n",
       "    </tr>\n",
       "  </tbody>\n",
       "</table>\n",
       "</div>"
      ],
      "text/plain": [
       "     country_code_alpha3_A country_code_alpha3_B  \\\n",
       "1358                   USA                   CZE   \n",
       "1405                   VEN                   ISR   \n",
       "332                    CZE                   LIE   \n",
       "1362                   USA                   FIN   \n",
       "1364                   USA                   GRC   \n",
       "\n",
       "      Overall_Similarity_Normalized  \n",
       "1358                            1.0  \n",
       "1405                            1.0  \n",
       "332                             1.0  \n",
       "1362                            1.0  \n",
       "1364                            1.0  "
      ]
     },
     "execution_count": 115,
     "metadata": {},
     "output_type": "execute_result"
    }
   ],
   "source": [
    "MetricDFJSON.head()"
   ]
  },
  {
   "cell_type": "code",
   "execution_count": 116,
   "metadata": {},
   "outputs": [],
   "source": [
    "pairs_of_similarities = {}\n",
    "for _, row in MetricDFJSON.iterrows():\n",
    "    country_pair = row.values[0] +'->'+ row.values[1]\n",
    "    pairs_of_similarities[country_pair] = row.values[2]"
   ]
  },
  {
   "cell_type": "code",
   "execution_count": 117,
   "metadata": {},
   "outputs": [],
   "source": [
    "output_json = json.dumps(pairs_of_similarities)"
   ]
  },
  {
   "cell_type": "code",
   "execution_count": 118,
   "metadata": {},
   "outputs": [
    {
     "data": {
      "text/plain": [
       "'{\"USA->CZE\": 1.0, \"VEN->ISR\": 1.0, \"CZE->LIE\": 1.0, \"USA->FIN\": 1.0, \"USA->GRC\": 1.0, \"USA->IDN\": 1.0, \"BEL->VEN\": 1.0, \"USA->ISR\": 1.0, \"USA->ISL\": 1.0, \"USA->LIE\": 1.0, \"USA->VEN\": 1.0, \"BEL->LIE\": 1.0, \"BEL->ISL\": 1.0, \"BEL->ISR\": 1.0, \"BEL->GRC\": 1.0, \"BEL->DZA\": 1.0, \"BEL->CZE\": 1.0, \"BEL->CRI\": 1.0, \"VEN->CZE\": 1.0, \"VEN->DZA\": 1.0, \"VEN->GRC\": 1.0, \"DZA->CRI\": 1.0, \"DZA->GRC\": 1.0, \"USA->DZA\": 1.0, \"CZE->ISR\": 1.0, \"USA->CRI\": 1.0, \"IDN->FIN\": 1.0, \"ISR->LIE\": 1.0, \"ISR->GRC\": 1.0, \"ISR->DZA\": 1.0, \"ISR->CRI\": 1.0, \"IDN->VEN\": 1.0, \"IDN->LIE\": 1.0, \"IDN->ISL\": 1.0, \"IDN->ISR\": 1.0, \"IDN->GRC\": 1.0, \"IDN->DZA\": 1.0, \"CZE->GRC\": 1.0, \"IDN->CZE\": 1.0, \"IDN->CRI\": 1.0, \"IDN->BEL\": 1.0, \"IDN->AND\": 1.0, \"CRI->LIE\": 1.0, \"USA->AND\": 1.0, \"CZE->CRI\": 1.0, \"CZE->DZA\": 1.0, \"USA->BEL\": 1.0, \"DZA->LIE\": 1.0, \"VEN->CRI\": 1.0, \"GRC->CRI\": 1.0, \"ISL->DZA\": 1.0, \"FIN->CRI\": 1.0, \"FIN->CZE\": 1.0, \"FIN->DZA\": 1.0, \"ISL->CRI\": 1.0, \"FIN->GRC\": 1.0, \"FIN->ISR\": 1.0, \"ISL->GRC\": 1.0, \"FIN->ISL\": 1.0, \"AND->LIE\": 1.0, \"AND->ISL\": 1.0, \"FIN->LIE\": 1.0, \"ISL->CZE\": 1.0, \"FIN->VEN\": 1.0, \"FIN->BEL\": 1.0, \"AND->ISR\": 1.0, \"AND->GRC\": 1.0, \"ISL->ISR\": 1.0, \"AND->FIN\": 1.0, \"AND->DZA\": 1.0, \"VEN->LIE\": 1.0, \"AND->VEN\": 1.0, \"ISL->LIE\": 1.0, \"AND->CZE\": 1.0, \"AND->CRI\": 1.0, \"ISL->VEN\": 1.0, \"GRC->LIE\": 1.0, \"AND->BEL\": 1.0, \"NOR->DNK\": 0.9999995660361012, \"SGP->SRB\": 0.9999975435120804, \"LUX->CAN\": 0.9999961532095264, \"NOR->MYS\": 0.9999854689544587, \"MYS->DNK\": 0.99998503499056, \"MYS->POL\": 0.9999567131820783, \"NOR->POL\": 0.9999421821365371, \"DNK->POL\": 0.9999417481726381, \"RUS->POL\": 0.9838955933258446, \"RUS->MYS\": 0.9838523065079229, \"NOR->RUS\": 0.9838377754623817, \"RUS->DNK\": 0.9838373414984828, \"BGR->NOR\": 0.9704380661277898, \"BGR->DNK\": 0.970437632163891, \"BGR->MYS\": 0.9704236407382174, \"BGR->POL\": 0.9703803539202958, \"BGR->RUS\": 0.9567339157363927, \"RUS->SAU\": 0.9562377486948918, \"HKG->NOR\": 0.9405054966969226, \"HKG->DNK\": 0.9405050627330237, \"HKG->MYS\": 0.9404949029219895, \"HKG->POL\": 0.9404516161040678, \"HKG->RUS\": 0.9340354310413115, \"POL->SAU\": 0.9301776164246438, \"MYS->SAU\": 0.9301343296067222, \"NOR->SAU\": 0.9301197985611809, \"DNK->SAU\": 0.9301193645972821, \"ROU->NOR\": 0.9291830865029262, \"ROU->DNK\": 0.9291826525390273, \"ROU->MYS\": 0.9291720673728383, \"ROU->POL\": 0.9291287805549164, \"ROU->RUS\": 0.9267617740803322, \"BLZ->NZL\": 0.9224795950710956, \"KOR->HUN\": 0.9221807410333395, \"KOR->SAU\": 0.917797368486936, \"ROU->CHL\": 0.914354103999508, \"BGR->HKG\": 0.912719966825878, \"BGR->SAU\": 0.9058114915640813, \"BGR->ROU\": 0.9017356218426239, \"JPN->HKG\": 0.8979421804101074, \"CHL->DNK\": 0.8954720489793278, \"CHL->NOR\": 0.8954716150154289, \"CHL->MYS\": 0.8954570839698878, \"CHL->POL\": 0.895413797151966, \"HKG->ROU\": 0.8883479717397131, \"BGR->TWN\": 0.8872025856586866, \"HKG->SAU\": 0.8855597651268103, \"NZL->CHL\": 0.8846274772473044, \"LTU->ESP\": 0.8830847794094108, \"CHL->RUS\": 0.8808954921577, \"NLD->SRB\": 0.8755238154303725, \"NLD->SGP\": 0.8755231445458921, \"HKG->NZL\": 0.8707511999677542, \"BGR->CHL\": 0.869030611964384, \"ROU->SAU\": 0.868478716299205, \"PER->RUS\": 0.866053023262422, \"BLZ->HKG\": 0.8647076249405338, \"PER->FRA\": 0.8587307184745836, \"PER->SAU\": 0.858123702084747, \"COL->ROU\": 0.853491839794582, \"JPN->RUS\": 0.85343039865742, \"KOR->RUS\": 0.8527518954350024, \"LTU->TWN\": 0.8519007162340156, \"NZL->RUS\": 0.8489991760494885, \"KEN->NZL\": 0.8481661274928252, \"NZL->NOR\": 0.8481651023612258, \"NZL->DNK\": 0.8481646683973271, \"BLZ->JPN\": 0.8481559898201432, \"NZL->MYS\": 0.8481545874748916, \"NZL->POL\": 0.8481113006569698, \"BGR->JPN\": 0.8471107773538734, \"BGR->NZL\": 0.8457265576722517, \"LTU->ROU\": 0.8452433677632699, \"JPN->MYS\": 0.8431203796578909, \"JPN->NOR\": 0.8431191995730103, \"JPN->DNK\": 0.8431187656091114, \"JPN->POL\": 0.8430770928399691, \"HKG->CHL\": 0.8422579057117632, \"CHL->SAU\": 0.8407739630190278, \"ROU->NZL\": 0.8400986617064097, \"FRA->SAU\": 0.839538888788218, \"TWN->RUS\": 0.8371942614899315, \"JPN->NZL\": 0.8357193515481979, \"BLZ->PER\": 0.8349745211535107, \"BLZ->RUS\": 0.8335397129214189, \"ROU->TWN\": 0.8332743561104543, \"FRA->RUS\": 0.8326688848501453, \"TWN->NOR\": 0.8266895507990287, \"TWN->DNK\": 0.8266891168351298, \"TWN->MYS\": 0.826677920896629, \"TWN->POL\": 0.8266346340787073, \"AUS->NZL\": 0.8258085386608601, \"JPN->SAU\": 0.8200686914089315, \"NLD->BRA\": 0.8191568861375728, \"ROU->FRA\": 0.8188686608795338, \"CAN->SYC\": 0.8183115962431066, \"LUX->SYC\": 0.81831144989261, \"BLZ->MYS\": 0.8183108800805984, \"PER->NOR\": 0.8183104589963747, \"PER->DNK\": 0.8183100250324757, \"BLZ->KEN\": 0.8183025069316496, \"PER->MYS\": 0.8183019028842743, \"BLZ->NOR\": 0.8183014818000504, \"BLZ->DNK\": 0.8183010478361514, \"BLZ->POL\": 0.8182675932626767, \"PER->POL\": 0.8182586160663525, \"NZL->SAU\": 0.8110237359247646, \"KOR->ROU\": 0.8083108512817857, \"LTU->RUS\": 0.8079371037946523, \"FRA->CHL\": 0.80691483073167, \"LTU->NOR\": 0.803744475035229, \"LTU->DNK\": 0.80374404107133, \"LTU->MYS\": 0.8037335201316518, \"LTU->POL\": 0.80369023331373, \"KEN->SWE\": 0.8023021727365817, \"FRA->DNK\": 0.8019801273958984, \"FRA->NOR\": 0.8019798346798068, \"FRA->MYS\": 0.8019653036342655, \"FRA->POL\": 0.8019220168163438, \"HKG->PER\": 0.8013968517020977, \"JPN->PER\": 0.7995604998734595, \"COL->LTU\": 0.7990884022502586, \"KOR->PER\": 0.7988156131280398, \"HKG->LTU\": 0.7974984434928365, \"KOR->POL\": 0.7973319900987605, \"KOR->MYS\": 0.7972887032808388, \"KOR->NOR\": 0.7972741722352975, \"KOR->DNK\": 0.7972737382713987, \"BLZ->AUS\": 0.7967427181065978, \"JPN->ROU\": 0.7945777412560062, \"BGR->PER\": 0.7941733370259565, \"BGR->BLZ\": 0.7941643598296323, \"HUN->SAU\": 0.7925418221445462, \"NZL->FRA\": 0.7922803309984425, \"AUS->FRA\": 0.7915588123808613, \"BLZ->SAU\": 0.7914798188233999, \"HKG->IND\": 0.7907061669356186, \"ROU->ESP\": 0.7899377111279755, \"PER->IND\": 0.7890370266196067, \"KOR->FRA\": 0.7884224107944908, \"AUS->IND\": 0.7875086508907672, \"HKG->TWN\": 0.7867510649040136, \"COL->TWN\": 0.786205946732593, \"ROU->IND\": 0.7856108448295718, \"HKG->FRA\": 0.785404054151391, \"TWN->SAU\": 0.7816046793597577, \"LTU->NZL\": 0.781580478495455, \"KOR->BGR\": 0.7808399809326713, \"KOR->HKG\": 0.780129201781938, \"BGR->LTU\": 0.7800422927397721, \"IND->RUS\": 0.7789634931339458, \"BGR->FRA\": 0.7783302770164416, \"ESP->NZL\": 0.7782711569320573, \"KOR->LTU\": 0.7773573596380418, \"AUS->JPN\": 0.775842914915783, \"JPN->TWN\": 0.7744255171615179, \"ESP->SYC\": 0.7720769597789122, \"FRA->IND\": 0.7708771579113294, \"KOR->TWN\": 0.7704302597929309, \"PER->NZL\": 0.770390478674832, \"LTU->SYC\": 0.7661004581860059, \"BLZ->LTU\": 0.7660914232356336, \"ROU->PER\": 0.7604918809453659, \"BLZ->ROU\": 0.7604829037490416, \"JPN->FRA\": 0.7597962297290939, \"COL->ESP\": 0.7594385346903199, \"JPN->IND\": 0.7573537059767071, \"NZL->TWN\": 0.7563183724617076, \"JPN->CHL\": 0.7551523320336124, \"AUS->PER\": 0.7530377561258575, \"ESP->TWN\": 0.7524734481593093, \"IND->POL\": 0.7515467777666035, \"IND->MYS\": 0.7515034909486817, \"IND->NOR\": 0.7514889599031405, \"IND->DNK\": 0.7514885259392418, \"BGR->IND\": 0.7501013812457414, \"BGR->AUS\": 0.7500418213805483, \"PER->TWN\": 0.7482599459793716, \"AUS->HKG\": 0.7479478842215221, \"LTU->SAU\": 0.7474947699802857, \"KOR->JPN\": 0.7455188274856228, \"IND->SAU\": 0.7441726394783179, \"AUS->RUS\": 0.7426565277234244, \"CHL->TWN\": 0.7404578836247552, \"ESP->CHL\": 0.7404560842593123, \"BLZ->FRA\": 0.7374598728236467, \"COL->BRA\": 0.7367591004595251, \"AUS->ROU\": 0.7356539522762419, \"AUS->TWN\": 0.735499471534589, \"HKG->KEN\": 0.7337050828878071, \"BLZ->NLD\": 0.7331061786278165, \"PER->CHL\": 0.7329632338262388, \"BLZ->CHL\": 0.7329542566299148, \"ESP->RUS\": 0.7320462526550803, \"AUS->SAU\": 0.7313384010452804, \"AUS->CHL\": 0.7281906682350163, \"KOR->CHL\": 0.7274455867256295, \"BLZ->IND\": 0.7272444955130186, \"VNM->PER\": 0.7244413842868719, \"BLZ->TWN\": 0.724432888370934, \"COL->CHL\": 0.7209706194216722, \"LTU->CHL\": 0.7199351483312987, \"COL->RUS\": 0.7187501827845507, \"JPN->LTU\": 0.7177279201519312, \"COL->KOR\": 0.7157706315644106, \"LTU->KEN\": 0.7155404698326948, \"NZL->IND\": 0.7151403285871427, \"KOR->TUR\": 0.7147924086696845, \"AUS->NLD\": 0.7109248336207761, \"NLD->TUR\": 0.7101768380944375, \"VNM->NOR\": 0.7100057447549022, \"VNM->FRA\": 0.7100053814149073, \"VNM->DNK\": 0.7100053107910034, \"HUN->CHL\": 0.7100052046361595, \"FRA->TWN\": 0.7100049001345206, \"ESP->NOR\": 0.7100034641090727, \"ESP->DNK\": 0.7100030301451739, \"ESP->MYS\": 0.7099954329375592, \"VNM->MYS\": 0.7099931522917297, \"ESP->POL\": 0.7099521461196375, \"VNM->POL\": 0.7099498654738079, \"KOR->NZL\": 0.7093776402645057, \"PER->TUR\": 0.7084959828209834, \"NLD->PER\": 0.7084600811883637, \"ROU->HUN\": 0.707587281752509, \"AUS->BRA\": 0.7058977032634, \"AUS->NOR\": 0.7058976992161634, \"AUS->DNK\": 0.7058972652522646, \"AUS->MYS\": 0.7058887431375779, \"AUS->POL\": 0.7058454563196562, \"KOR->AUS\": 0.7057304747445772, \"HKG->ESP\": 0.7044955330093471, \"FRA->HUN\": 0.6987129243504497, \"VNM->RUS\": 0.6986964614085857, \"COL->AUS\": 0.6977233202073208, \"KOR->ESP\": 0.6964330800815512, \"KOR->BLZ\": 0.6959615413126072, \"JPN->KEN\": 0.6943298559476074, \"COL->NZL\": 0.6936733722685678, \"HUN->RUS\": 0.6927670273203873, \"KOR->IND\": 0.6922313291340102, \"COL->NOR\": 0.6913302382200981, \"COL->FRA\": 0.6913298748801029, \"COL->DNK\": 0.6913298042561994, \"COL->MYS\": 0.6913229566980942, \"COL->POL\": 0.6912796698801725, \"BGR->VNM\": 0.6891023910318846, \"BGR->ESP\": 0.6891001103860551, \"COL->HKG\": 0.6859692642635749, \"CHL->IND\": 0.6849571735829363, \"COL->IND\": 0.6798094806070681, \"LTU->HUN\": 0.6793289727730845, \"IND->TWN\": 0.6792244846071489, \"BLZ->ESP\": 0.6767985269121509, \"ESP->HUN\": 0.6740770054289572, \"ESP->SAU\": 0.6723907645881204, \"COL->JPN\": 0.6721128811359948, \"COL->BGR\": 0.6709844091450164, \"VNM->TWN\": 0.6699665154192833, \"KEN->NOR\": 0.6699659715680706, \"KEN->DNK\": 0.6699655376041719, \"KEN->MYS\": 0.6699534907857282, \"KEN->POL\": 0.6699102039678065, \"HKG->VNM\": 0.6679381400084085, \"HUN->TUR\": 0.667779750248702, \"COL->SAU\": 0.6626946113064324, \"KEN->RUS\": 0.6613629371886097, \"ROU->VNM\": 0.6599320492726781, \"COL->PER\": 0.6590192321180072, \"COL->SYC\": 0.6590168910805781, \"COL->BLZ\": 0.6590115295117793, \"LTU->PER\": 0.6580717418992885, \"VNM->SAU\": 0.6576953387517928, \"BLZ->BRA\": 0.6566189945744699, \"COL->HUN\": 0.6563620086725923, \"BGR->KEN\": 0.6502581036999046, \"PER->HUN\": 0.649004823461593, \"LTU->FRA\": 0.6449750570937937, \"TUR->BRA\": 0.6408527754631277, \"HUN->TWN\": 0.6371799932845028, \"HUN->NOR\": 0.6360939280831502, \"HUN->DNK\": 0.6360934941192515, \"VNM->CHL\": 0.6360927655596506, \"HUN->MYS\": 0.6360807132152209, \"HUN->POL\": 0.6360374263972991, \"JPN->ESP\": 0.6341464115625303, \"KEN->ESP\": 0.6322149643576636, \"TWN->SYC\": 0.6291702766716758, \"NZL->HUN\": 0.6284266927559014, \"KEN->SAU\": 0.6266307594112863, \"ROU->KEN\": 0.6227561608473111, \"KOR->BRA\": 0.6214772034061541, \"AUS->TUR\": 0.6205859485183635, \"FRA->TUR\": 0.6202034351763748, \"JPN->VNM\": 0.6201160404202576, \"LTU->IND\": 0.6193010872960026, \"BGR->HUN\": 0.6173974057073928, \"AUS->KEN\": 0.6166680196553741, \"TWN->BRA\": 0.6166578376621422, \"ESP->FRA\": 0.6166556709094674, \"PER->BRA\": 0.6162073489525898, \"SWE->MDA\": 0.6136348947048952, \"AUS->LTU\": 0.6108672962972903, \"BLZ->SWE\": 0.6106687636478061, \"SVK->RUS\": 0.6084676870755857, \"NZL->BRA\": 0.6059993383097146, \"TUR->SAU\": 0.6050738849712033, \"SGP->BRA\": 0.6039603332306478, \"KEN->FRA\": 0.6039590075680094, \"SRB->BRA\": 0.6039578767427283, \"VNM->NZL\": 0.6026436094432297, \"JPN->NLD\": 0.6022327361095727, \"KEN->CHL\": 0.6002800978046495, \"HKG->HUN\": 0.5984668929601196, \"JPN->MEX\": 0.5940411539070892, \"LTU->BRA\": 0.5920524062805452, \"AUS->ESP\": 0.5903803823234628, \"SWE->NZL\": 0.5902687988878204, \"ESP->SVK\": 0.5859009889109329, \"AUS->HUN\": 0.5855302793659753, \"MEX->FRA\": 0.5815348215682586, \"MEX->DNK\": 0.5815347509443551, \"ESP->PER\": 0.5815346575194351, \"MEX->NOR\": 0.5815346550712029, \"KEN->MEX\": 0.5815336299396037, \"BLZ->VNM\": 0.5815239246178681, \"MEX->MYS\": 0.5815201240256618, \"MEX->POL\": 0.58147683720774, \"NLD->NZL\": 0.5780240747587233, \"SRB->TUR\": 0.5748462830320259, \"SGP->TUR\": 0.5748438265441063, \"HUN->BRA\": 0.5734745725230924, \"MEX->RUS\": 0.5728260662397343, \"LTU->VNM\": 0.5712335470754901, \"ESP->BRA\": 0.569982323366894, \"IND->BRA\": 0.5696556994147031, \"JPN->BRA\": 0.5693449251073631, \"KOR->VNM\": 0.5668548681255364, \"BGR->MEX\": 0.5644670422645831, \"FRA->BRA\": 0.5643560682563326, \"ROU->BRA\": 0.5614695496055055, \"KEN->MDA\": 0.559955963243448, \"JPN->HUN\": 0.5556928852580447, \"ESP->IND\": 0.5545253529695648, \"KEN->TWN\": 0.5544272388400983, \"SVK->MYS\": 0.5489749667446278, \"SVK->NOR\": 0.5489620001909613, \"SVK->DNK\": 0.5489615662270625, \"SVK->POL\": 0.548931679926706, \"KEN->PER\": 0.5488406653399455, \"MEX->NZL\": 0.5476466840252061, \"HKG->MEX\": 0.5471846555306867, \"BGR->SVK\": 0.5415829507229574, \"COL->NLD\": 0.5410056368888321, \"MEX->SAU\": 0.540840904377394, \"ROU->MEX\": 0.5406477488454283, \"BLZ->TUR\": 0.5405977783522591, \"KOR->KEN\": 0.5402329412605527, \"SVK->SAU\": 0.5401269091061282, \"LTU->LUX\": 0.5391303171750161, \"LTU->CAN\": 0.5391281802421317, \"IND->TUR\": 0.5385227434178498, \"KEN->IND\": 0.5381317090043373, \"NLD->FRA\": 0.5373255407535232, \"NLD->IND\": 0.5366417040681083, \"AUS->MEX\": 0.5353751257131384, \"ROU->SYC\": 0.5353143662193196, \"KOR->SYC\": 0.535214244979831, \"COL->MEX\": 0.5344643705434856, \"VNM->IND\": 0.5333888719849976, \"NLD->TWN\": 0.5247193489939858, \"HKG->SVK\": 0.5222021483162563, \"HUN->SYC\": 0.5211859086318938, \"MEX->CHL\": 0.5211853338888124, \"BLZ->HUN\": 0.5211746137171693, \"ROU->SVK\": 0.5170809235095384, \"JPN->TUR\": 0.5103994187820396, \"HUN->IND\": 0.5099349089501781, \"ESP->VNM\": 0.5049482144036753, \"AUS->VNM\": 0.5020451356554462, \"BRA->SYC\": 0.49494782153540606, \"SVK->CHL\": 0.49204951231261534, \"COL->VNM\": 0.4917441399673243, \"HKG->BRA\": 0.4907123710481042, \"RUS->TUR\": 0.48946445682111483, \"BRA->SAU\": 0.48725330452089055, \"HKG->SWE\": 0.484258337812014, \"MEX->TWN\": 0.4814732074879632, \"RUS->BRA\": 0.47922041064722104, \"LTU->SWE\": 0.4788368812158802, \"JPN->SVK\": 0.4786800434293975, \"KEN->VNM\": 0.47663808355664605, \"ESP->LUX\": 0.4766375324598238, \"MEX->PER\": 0.4766348870118151, \"ESP->CAN\": 0.47663368566935027, \"BLZ->MEX\": 0.4766259098154909, \"NZL->SVK\": 0.47643861466250037, \"SVK->TWN\": 0.47577953557830355, \"KOR->NLD\": 0.47239260595558674, \"LTU->MEX\": 0.4682257191751218, \"NLD->HKG\": 0.46716241634493194, \"KOR->MEX\": 0.4660461430720691, \"BLZ->SVK\": 0.4647236600451569, \"PER->SVK\": 0.46471468284883277, \"COL->LUX\": 0.46418859025892245, \"COL->KEN\": 0.46418697239074524, \"COL->CAN\": 0.4641847434684489, \"NLD->RUS\": 0.46076849267533576, \"FRA->SVK\": 0.45552201197642983, \"KOR->SVK\": 0.45445908515665046, \"NLD->SAU\": 0.45349362337502275, \"VNM->HUN\": 0.4526864170154017, \"CHL->AUT\": 0.4526863757482045, \"CHL->BRA\": 0.45268587284942235, \"JPN->SWE\": 0.4521931592349551, \"NZL->TUR\": 0.4436322108229565, \"BGR->BRA\": 0.44214264930380587, \"LTU->SVK\": 0.44211039800538154, \"SVK->IND\": 0.43914501131371, \"MEX->IND\": 0.4387392282695599, \"HKG->TUR\": 0.4348527853947615, \"UKR->BGR\": 0.43299244856376706, \"RUS->SYC\": 0.4318130990265987, \"KEN->HUN\": 0.42736302043818064, \"BGR->NLD\": 0.42490615911746055, \"ESP->SWE\": 0.4234618414490759, \"AUS->SVK\": 0.42187421496998584, \"UKR->POL\": 0.4188123146244973, \"UKR->MYS\": 0.4187690278065756, \"UKR->NOR\": 0.4187544967610343, \"UKR->DNK\": 0.41875406279713556, \"PER->SRB\": 0.41410675415844433, \"NOR->SYC\": 0.4141065718517609, \"DNK->SYC\": 0.4141061378878621, \"VNM->MEX\": 0.4141059840713426, \"PER->SGP\": 0.4141042976705247, \"ESP->MEX\": 0.4141037034255132, \"BLZ->SRB\": 0.4140977769621201, \"BLZ->SGP\": 0.41409532047420045, \"MYS->SYC\": 0.41409333366480283, \"POL->SYC\": 0.41405004684688107, \"UKR->RUS\": 0.41392194281656663, \"COL->TUR\": 0.40701418196419636, \"NOR->BRA\": 0.4059405900121694, \"DNK->BRA\": 0.4059401560482706, \"KEN->BRA\": 0.40593957297504313, \"CAN->BRA\": 0.40593938622147246, \"LUX->BRA\": 0.40593795510686587, \"MYS->BRA\": 0.40592606706110124, \"POL->BRA\": 0.40588278024317953, \"BGR->SYC\": 0.40203803728054405, \"COL->SVK\": 0.39739719118407524, \"NLD->LTU\": 0.3972736752557938, \"UKR->JPN\": 0.3957598436222076, \"UKR->HKG\": 0.39525338550149164, \"NLD->ROU\": 0.3949347199045684, \"NLD->NOR\": 0.39238425826658374, \"NLD->DNK\": 0.3923838243026849, \"NLD->MYS\": 0.39237298830582795, \"NLD->POL\": 0.3923297014879063, \"VNM->SVK\": 0.3910716281693122, \"MEX->MDA\": 0.3909890189988093, \"HKG->SYC\": 0.3898181705015593, \"UKR->ROU\": 0.3895092498185499, \"UKR->TWN\": 0.3862668898201254, \"UKR->SAU\": 0.3861392576881562, \"AUS->SRB\": 0.3846696856676766, \"AUS->SGP\": 0.384667229179757, \"TWN->TUR\": 0.3802507453718048, \"SYC->SAU\": 0.37972117646368914, \"UKR->BRA\": 0.3778629323640707, \"TUR->POL\": 0.3768745423674436, \"MYS->TUR\": 0.37683125554952196, \"NOR->TUR\": 0.3768167245039807, \"DNK->TUR\": 0.37681629054008187, \"UKR->CHL\": 0.3755832679891788, \"MEX->HUN\": 0.3714331083492139, \"CHL->SYC\": 0.37143253360613243, \"KEN->SVK\": 0.3692714390253755, \"UKR->NZL\": 0.36887130364499215, \"BGR->TUR\": 0.36580015259708515, \"NLD->ESP\": 0.3657647201507928, \"NLD->KEN\": 0.3655442378746766, \"CHL->TUR\": 0.3643547316904747, \"ROU->TUR\": 0.36205725096982927, \"NLD->CHL\": 0.3610061621451975, \"LUX->TWN\": 0.35995265964434237, \"TWN->PRT\": 0.359951930003456, \"TWN->CAN\": 0.3599511977102805, \"AUS->SWE\": 0.3557441418518586, \"NZL->SYC\": 0.35212033903202056, \"HUN->SVK\": 0.35082871282889605, \"JPN->SYC\": 0.35005689758528, \"UKR->BLZ\": 0.34743879364152175, \"UKR->PER\": 0.34557493723278304, \"PER->SYC\": 0.339931652361911, \"BLZ->SYC\": 0.3399226751655868, \"UKR->LTU\": 0.33891684485945717, \"UKR->FRA\": 0.3378796980536212, \"UKR->KOR\": 0.33774979539268546, \"NLD->HUN\": 0.33456157542256465, \"FRA->SYC\": 0.33326496287535723, \"UKR->AUS\": 0.32923177939025844, \"UKR->IND\": 0.3250443073182272, \"HUN->AUT\": 0.3229959262559803, \"HUN->CAN\": 0.3229959262559803, \"HUN->LUX\": 0.3229958032245123, \"MEX->SVK\": 0.32112193354025254, \"SWE->IND\": 0.3208208169214472, \"IND->SYC\": 0.31348000246156127, \"LTU->TUR\": 0.3054913700263918, \"SWE->BRA\": 0.30422149439715657, \"ESP->TUR\": 0.30106390514120823, \"UKR->ESP\": 0.3000600306711263, \"UKR->VNM\": 0.2989868350126949, \"VNM->SYC\": 0.29571763218247643, \"AUS->SYC\": 0.2940394536957406, \"SWE->DNK\": 0.292901893785024, \"SWE->NOR\": 0.2929014598211252, \"SWE->MYS\": 0.292886928775584, \"SWE->POL\": 0.2928436419576622, \"UKR->COL\": 0.2923198647246633, \"SWE->RUS\": 0.2909662429137101, \"VNM->BRA\": 0.28994231443389296, \"NZL->MDA\": 0.2893220149088337, \"NZL->AUT\": 0.28931981834264925, \"SVK->TUR\": 0.28929197192256706, \"UKR->KEN\": 0.2854792988152408, \"BGR->SWE\": 0.2844517057044142, \"NLD->VNM\": 0.2803579944270686, \"KEN->SYC\": 0.2793714301847305, \"BLZ->MDA\": 0.2793608369994811, \"AUS->PRT\": 0.2775898451951765, \"NLD->MEX\": 0.2772169084442398, \"SWE->SAU\": 0.27370382209719835, \"ROU->SWE\": 0.2726585383223286, \"VNM->TUR\": 0.2687478723176495, \"SVK->BRA\": 0.2686431296145891, \"UKR->HUN\": 0.2684604571685195, \"SWE->CHL\": 0.2630243933329729, \"AUS->MDA\": 0.2597451685297077, \"KOR->LUX\": 0.2590610079793349, \"KOR->CAN\": 0.2590571611888614, \"NLD->SVK\": 0.2575965692416898, \"KOR->SWE\": 0.2558876062593897, \"NLD->SWE\": 0.2538685342414668, \"KEN->TUR\": 0.25382659957832254, \"BGR->PRT\": 0.25003474798769504, \"JPN->SRB\": 0.24796024788911455, \"JPN->SGP\": 0.24795779140119495, \"UKR->MEX\": 0.24592612788895715, \"SWE->TWN\": 0.24336292915387567, \"MEX->SYC\": 0.24326865340021847, \"ZAF->MDA\": 0.24326799078313593, \"ESP->AUT\": 0.2432651110203247, \"PER->SWE\": 0.24096682756940815, \"MEX->BRA\": 0.23855429308953538, \"COL->SRB\": 0.23704417964230584, \"COL->SGP\": 0.23704172315438624, \"COL->AUT\": 0.2370404525074966, \"UKR->SVK\": 0.23661601830500256, \"SWE->FRA\": 0.23630163004478083, \"NLD->SYC\": 0.23179567770790174, \"IND->SRB\": 0.23096974615185584, \"IND->SGP\": 0.2309672896639363, \"SVK->SYC\": 0.22996423647839417, \"UKR->NLD\": 0.22877870735277409, \"AUS->AUT\": 0.22405069008656778, \"PER->CHN\": 0.22204101765574058, \"MEX->TUR\": 0.22086993019418064, \"FRA->CHN\": 0.21274040213588366, \"VNM->SWE\": 0.21001142679340234, \"FRA->SGP\": 0.20792036188301996, \"PRT->BRA\": 0.20792031653444992, \"FRA->AUT\": 0.20791995162850616, \"BRA->AUT\": 0.20791958424127444, \"FRA->SRB\": 0.20791790539510038, \"COL->SWE\": 0.20467149209266713, \"NZL->SRB\": 0.19618183491046104, \"NZL->SGP\": 0.19618040895155908, \"ROU->LUX\": 0.1937568735292885, \"ROU->CAN\": 0.1937548008229149, \"ROU->AUT\": 0.1937548008229149, \"NLD->PRT\": 0.1910759453427641, \"SWE->HUN\": 0.1888853624036382, \"LTU->MDA\": 0.18631025547178218, \"ZAF->TUR\": 0.18137951039356356, \"JPN->MDA\": 0.17852321190055537, \"UKR->SYC\": 0.17677858786563216, \"MEX->SWE\": 0.1732914428174701, \"COL->ZAF\": 0.17051205259412883, \"ESP->MDA\": 0.16547778270350053, \"SWE->SVK\": 0.1639710094997249, \"UKR->TUR\": 0.16289520606665503, \"AUS->ZAF\": 0.16132714873342158, \"TUR->SYC\": 0.16124060524561845, \"FRA->ZAF\": 0.14992191703900856, \"ZAF->BRA\": 0.14992154965177681, \"SWE->TUR\": 0.14717141992497582, \"NLD->MDA\": 0.14410557994963674, \"MDA->BRA\": 0.14191320269089092, \"FRA->MDA\": 0.14191283530365917, \"ROU->ZAF\": 0.1399050221199134, \"UKR->SWE\": 0.1308748460044983, \"JPN->PRT\": 0.12892495804187912, \"TWN->SRB\": 0.1265842046509812, \"SGP->TWN\": 0.12658389370814468, \"SWE->SYC\": 0.12543450820848645, \"UKR->PRT\": 0.1188825233393788, \"NLD->CHN\": 0.11577670394087015, \"HKG->MDA\": 0.1133007337095507, \"KOR->SRB\": 0.10587112869814881, \"KOR->SGP\": 0.10586867221022923, \"NZL->PRT\": 0.10303919055986493, \"MDA->TUR\": 0.09359956439532495, \"IND->PRT\": 0.09258793007643457, \"NLD->LUX\": 0.09042311421214527, \"NLD->CAN\": 0.0904212923364395, \"HKG->SRB\": 0.08745097499296968, \"HKG->SGP\": 0.08744962792266657, \"COL->MDA\": 0.08561312176637953, \"IND->MDA\": 0.08045941352600501, \"RUS->SRB\": 0.07504468375499308, \"SGP->RUS\": 0.0750422272670735, \"ZAF->IND\": 0.07316952386832119, \"JPN->ZAF\": 0.0730189605783809, \"SRB->SAU\": 0.07195363059045909, \"SGP->SAU\": 0.07195117410253951, \"TUR->AUT\": 0.06708092722046571, \"HKG->ZAF\": 0.06473495271208708, \"CHN->TUR\": 0.05777226374006258, \"CHN->IND\": 0.057769258305569546, \"ZAF->RUS\": 0.054276800671897316, \"NLD->ZAF\": 0.05260262030077365, \"KOR->ZAF\": 0.04700674765605907, \"SVK->SRB\": 0.0458280819029554, \"SVK->SGP\": 0.04582562541503582, \"SVK->PRT\": 0.04582508706132165, \"CHN->RUS\": 0.04504010964494958, \"LUX->RUS\": 0.03935577504958867, \"RUS->CAN\": 0.039351928259115126, \"KOR->AUT\": 0.03816299887170278, \"KOR->PRT\": 0.03738215075862552, \"CHN->SRB\": 0.03489007870928961, \"CHN->SGP\": 0.034887622221370033, \"IND->AUT\": 0.03368401090464133, \"NLD->AUT\": 0.030028939908550108, \"CHN->BRA\": 0.029877609831830666, \"MDA->RUS\": 0.027032912653025785, \"KOR->MDA\": 0.025106289483415586, \"AUS->CHN\": 0.024740482526260005, \"UKR->CHN\": 0.022717117331074992, \"CHN->PRT\": 0.02236220991619802, \"BLZ->CHN\": 0.020076288883222385, \"SAU->AUT\": 0.019789757335542224, \"JPN->CHN\": 0.018880301843525883, \"COL->CHN\": 0.01846164167166025, \"CHN->TWN\": 0.01721961078765123, \"MEX->CHN\": 0.017068781891176395, \"RUS->PRT\": 0.017047017826622622, \"NZL->CHN\": 0.01573102069187035, \"CHN->SAU\": 0.015202976702660841, \"UKR->SRB\": 0.014384843268056662, \"UKR->SGP\": 0.014382386780137082, \"PRT->SAU\": 0.014277628656673725, \"CHN->MDA\": 0.014013758221568367, \"KOR->CHN\": 0.012895874103337392, \"BGR->CHN\": 0.012875588422564217, \"UKR->MDA\": 0.012868810164461543, \"HKG->CHN\": 0.011801823779017997, \"MDA->SAU\": 0.011546221678584009, \"LUX->TUR\": 0.011230994856496658, \"CAN->TUR\": 0.011227148066023115, \"SVK->CHN\": 0.011215428629782398, \"LUX->IND\": 0.010010135127762772, \"IND->CAN\": 0.01000628833728923, \"USA->CAN\": 0.009900990099009901, \"VEN->AUT\": 0.009900990099009901, \"USA->AUT\": 0.009900990099009901, \"AND->AUT\": 0.009900990099009901, \"CZE->AUT\": 0.009900990099009901, \"BEL->AUT\": 0.009900990099009901, \"IDN->AUT\": 0.009900990099009901, \"CAN->LIE\": 0.009900990099009901, \"CAN->ISL\": 0.009900990099009901, \"CAN->ISR\": 0.009900990099009901, \"CAN->GRC\": 0.009900990099009901, \"DZA->AUT\": 0.009900990099009901, \"CAN->FIN\": 0.009900990099009901, \"CAN->DZA\": 0.009900990099009901, \"CAN->CZE\": 0.009900990099009901, \"CAN->CRI\": 0.009900990099009901, \"CAN->BEL\": 0.009900990099009901, \"CAN->AUT\": 0.009900990099009901, \"AUT->CRI\": 0.009900990099009901, \"AUT->GRC\": 0.009900990099009901, \"ISR->AUT\": 0.009900990099009901, \"AUT->LIE\": 0.009900990099009901, \"AND->CAN\": 0.009900990099009901, \"FIN->AUT\": 0.009900990099009901, \"IDN->CAN\": 0.009900990099009901, \"ISL->AUT\": 0.009900990099009901, \"CAN->VEN\": 0.009900990099009901, \"BGR->SGP\": 0.00990097607080164, \"VNM->MDA\": 0.009900966614706694, \"SWE->PRT\": 0.009900965736948852, \"PRT->DNK\": 0.009900952565387259, \"SGP->NOR\": 0.009900923242817189, \"SWE->ZAF\": 0.009900904769180435, \"FRA->PRT\": 0.009900881941483653, \"ZAF->PRT\": 0.009900880407119386, \"LUX->SRB\": 0.009900870443345573, \"AUS->LUX\": 0.009900845615308664, \"ZAF->DNK\": 0.009900842873496754, \"MEX->PRT\": 0.009900783520013952, \"ZAF->CHL\": 0.009900719967300547, \"MEX->ZAF\": 0.009900673828123437, \"MEX->SGP\": 0.009900658324291687, \"HUN->MDA\": 0.009900655412328284, \"PER->LUX\": 0.009900645632066059, \"MDA->SYC\": 0.009900643752813956, \"CHL->ISL\": 0.00990063762943429, \"CHL->ISR\": 0.00990063762943429, \"IDN->CHL\": 0.00990063762943429, \"CHL->GRC\": 0.00990063762943429, \"CHL->FIN\": 0.00990063762943429, \"CHL->LIE\": 0.00990063762943429, \"CHL->AND\": 0.00990063762943429, \"CHL->DZA\": 0.00990063762943429, \"CHL->VEN\": 0.00990063762943429, \"CHL->CZE\": 0.00990063762943429, \"CHL->CRI\": 0.00990063762943429, \"USA->CHL\": 0.00990063762943429, \"CHL->CAN\": 0.00990063762943429, \"CHL->BEL\": 0.00990063762943429, \"CHL->PRT\": 0.009900610275410041, \"TWN->MDA\": 0.00990053230292664, \"NOR->PRT\": 0.00990051860148845, \"SGP->DNK\": 0.009900489278918371, \"SGP->PRT\": 0.00990045174529574, \"SWE->SGP\": 0.009900427383234689, \"SGP->SYC\": 0.009900410525911056, \"ZAF->NOR\": 0.009900408909597936, \"HUN->SGP\": 0.009900398866396726, \"ZAF->LIE\": 0.009900367497724945, \"ZAF->ISL\": 0.009900367497724945, \"ZAF->ISR\": 0.009900367497724945, \"ZAF->GRC\": 0.009900367497724945, \"ZAF->FIN\": 0.009900367497724945, \"USA->ZAF\": 0.009900367497724945, \"ZAF->DZA\": 0.009900367497724945, \"ZAF->CZE\": 0.009900367497724945, \"ZAF->CRI\": 0.009900367497724945, \"ZAF->CAN\": 0.009900367497724945, \"ZAF->BEL\": 0.009900367497724945, \"ZAF->AUT\": 0.009900367497724945, \"ZAF->AND\": 0.009900367497724945, \"ZAF->VEN\": 0.009900367497724945, \"IDN->ZAF\": 0.009900367497724945, \"BGR->ZAF\": 0.009900356081613484, \"NZL->LUX\": 0.009900355178836778, \"ZAF->SGP\": 0.009900342053405224, \"HKG->LUX\": 0.009900315734537351, \"SWE->IDN\": 0.00990028216789547, \"SWE->CAN\": 0.00990028216789547, \"USA->SWE\": 0.00990028216789547, \"SWE->LIE\": 0.00990028216789547, \"SWE->ISL\": 0.00990028216789547, \"SWE->ISR\": 0.00990028216789547, \"SWE->AND\": 0.00990028216789547, \"SWE->VEN\": 0.00990028216789547, \"SWE->BEL\": 0.00990028216789547, \"SWE->AUT\": 0.00990028216789547, \"SWE->FIN\": 0.00990028216789547, \"SWE->GRC\": 0.00990028216789547, \"SWE->CRI\": 0.00990028216789547, \"SWE->CZE\": 0.00990028216789547, \"SWE->DZA\": 0.00990028216789547, \"ESP->SRB\": 0.00990026350610829, \"BEL->PRT\": 0.00990025780583443, \"USA->PRT\": 0.00990025780583443, \"PRT->LIE\": 0.00990025780583443, \"PRT->ISR\": 0.00990025780583443, \"PRT->GRC\": 0.00990025780583443, \"PRT->CZE\": 0.00990025780583443, \"PRT->CRI\": 0.00990025780583443, \"PRT->AUT\": 0.00990025780583443, \"PRT->DZA\": 0.00990025780583443, \"IDN->PRT\": 0.00990025780583443, \"AND->PRT\": 0.00990025780583443, \"CAN->PRT\": 0.00990025780583443, \"VEN->PRT\": 0.00990025780583443, \"FIN->PRT\": 0.00990025780583443, \"ISL->PRT\": 0.00990025780583443, \"LTU->SRB\": 0.009900254825879692, \"ROU->MDA\": 0.009900226916770744, \"ROU->SRB\": 0.00990022271262427, \"IDN->DNK\": 0.009900220272211786, \"AND->DNK\": 0.009900220272211786, \"ISL->DNK\": 0.009900220272211786, \"DNK->DZA\": 0.009900220272211786, \"DNK->ISR\": 0.009900220272211786, \"FIN->DNK\": 0.009900220272211786, \"BEL->DNK\": 0.009900220272211786, \"DNK->GRC\": 0.009900220272211786, \"VEN->DNK\": 0.009900220272211786, \"DNK->CRI\": 0.009900220272211786, \"DNK->CZE\": 0.009900220272211786, \"USA->DNK\": 0.009900220272211786, \"CAN->DNK\": 0.009900220272211786, \"DNK->LIE\": 0.009900220272211786, \"DNK->AUT\": 0.009900220272211786, \"USA->FRA\": 0.009900149648308182, \"FRA->LIE\": 0.009900149648308182, \"FRA->VEN\": 0.009900149648308182, \"FRA->CAN\": 0.009900149648308182, \"FRA->CZE\": 0.009900149648308182, \"FRA->DZA\": 0.009900149648308182, \"FRA->FIN\": 0.009900149648308182, \"FRA->GRC\": 0.009900149648308182, \"FRA->IDN\": 0.009900149648308182, \"FRA->ISR\": 0.009900149648308182, \"FRA->BEL\": 0.009900149648308182, \"FRA->ISL\": 0.009900149648308182, \"FRA->CRI\": 0.009900149648308182, \"FRA->AND\": 0.009900149648308182, \"VNM->SGP\": 0.009900087664018316, \"CHL->SGP\": 0.009900071921695869, \"SGP->MDA\": 0.00990006417971511, \"MEX->IDN\": 0.00990005122683848, \"MEX->GRC\": 0.00990005122683848, \"MEX->VEN\": 0.00990005122683848, \"USA->MEX\": 0.00990005122683848, \"MEX->LIE\": 0.00990005122683848, \"MEX->ISL\": 0.00990005122683848, \"MEX->AND\": 0.00990005122683848, \"MEX->AUT\": 0.00990005122683848, \"MEX->BEL\": 0.00990005122683848, \"MEX->CAN\": 0.00990005122683848, \"MEX->CRI\": 0.00990005122683848, \"MEX->ISR\": 0.00990005122683848, \"MEX->DZA\": 0.00990005122683848, \"MEX->FIN\": 0.00990005122683848, \"MEX->CZE\": 0.00990005122683848, \"BGR->MDA\": 0.00990005015150685, \"KEN->SGP\": 0.00990003182360324, \"MDA->NOR\": 0.009899997323522397, \"PRT->SYC\": 0.009899872172196882, \"HUN->PRT\": 0.009899860512682565, \"NOR->CZE\": 0.009899786308312978, \"IDN->NOR\": 0.009899786308312978, \"NOR->DZA\": 0.009899786308312978, \"NOR->GRC\": 0.009899786308312978, \"NOR->CRI\": 0.009899786308312978, \"NOR->CAN\": 0.009899786308312978, \"NOR->AND\": 0.009899786308312978, \"NOR->AUT\": 0.009899786308312978, \"NOR->FIN\": 0.009899786308312978, \"NOR->BEL\": 0.009899786308312978, \"NOR->ISR\": 0.009899786308312978, \"NOR->ISL\": 0.009899786308312978, \"NOR->LIE\": 0.009899786308312978, \"USA->NOR\": 0.009899786308312978, \"NOR->VEN\": 0.009899786308312978, \"ISL->BRA\": 0.009899782261076448, \"IDN->BRA\": 0.009899782261076448, \"AND->BRA\": 0.009899782261076448, \"VEN->BRA\": 0.009899782261076448, \"BRA->CRI\": 0.009899782261076448, \"BEL->BRA\": 0.009899782261076448, \"CZE->BRA\": 0.009899782261076448, \"USA->BRA\": 0.009899782261076448, \"BRA->GRC\": 0.009899782261076448, \"DZA->BRA\": 0.009899782261076448, \"ISR->BRA\": 0.009899782261076448, \"FIN->BRA\": 0.009899782261076448, \"BRA->LIE\": 0.009899782261076448, \"ZAF->SYC\": 0.009899762480306377, \"ZAF->HUN\": 0.009899750820792048, \"BGR->VEN\": 0.009899733480328528, \"BGR->GRC\": 0.009899733480328528, \"BGR->IDN\": 0.009899733480328528, \"BGR->CAN\": 0.009899733480328528, \"BGR->CRI\": 0.009899733480328528, \"BGR->CZE\": 0.009899733480328528, \"BGR->DZA\": 0.009899733480328528, \"USA->BGR\": 0.009899733480328528, \"BGR->FIN\": 0.009899733480328528, \"BGR->AUT\": 0.009899733480328528, \"BGR->AND\": 0.009899733480328528, \"BGR->BEL\": 0.009899733480328528, \"BGR->LIE\": 0.009899733480328528, \"BGR->ISL\": 0.009899733480328528, \"BGR->ISR\": 0.009899733480328528, \"SGP->FIN\": 0.009899719452120266, \"SGP->DZA\": 0.009899719452120266, \"IDN->SGP\": 0.009899719452120266, \"SGP->GRC\": 0.009899719452120266, \"SGP->AND\": 0.009899719452120266, \"SGP->AUT\": 0.009899719452120266, \"SGP->BEL\": 0.009899719452120266, \"SGP->ISL\": 0.009899719452120266, \"SGP->CAN\": 0.009899719452120266, \"SGP->CRI\": 0.009899719452120266, \"SGP->ISR\": 0.009899719452120266, \"SGP->LIE\": 0.009899719452120266, \"USA->SGP\": 0.009899719452120266, \"SGP->CZE\": 0.009899719452120266, \"SGP->VEN\": 0.009899719452120266, \"MDA->DNK\": 0.00989956335962358, \"VNM->PRT\": 0.009899549310304154, \"MDA->PRT\": 0.009899525826000947, \"KEN->PRT\": 0.009899493469889078, \"KEN->SRB\": 0.009899491886496983, \"MDA->SRB\": 0.009899459530385114, \"VNM->ZAF\": 0.00989943961841364, \"VNM->SRB\": 0.009899436046081907, \"KEN->ZAF\": 0.009899383777998563, \"KEN->LUX\": 0.009899372230832655, \"LUX->MDA\": 0.009899339874720785, \"VNM->LUX\": 0.009899316390417578, \"ROU->SGP\": 0.009899300997475952, \"LTU->SGP\": 0.00989926888422053, \"CHL->MDA\": 0.009899146002401087, \"BEL->SYC\": 0.00989913987902141, \"ISL->SYC\": 0.00989913987902141, \"USA->SYC\": 0.00989913987902141, \"VEN->SYC\": 0.00989913987902141, \"AND->SYC\": 0.00989913987902141, \"SYC->GRC\": 0.00989913987902141, \"FIN->SYC\": 0.00989913987902141, \"IDN->SYC\": 0.00989913987902141, \"CZE->SYC\": 0.00989913987902141, \"SYC->AUT\": 0.00989913987902141, \"SYC->CRI\": 0.00989913987902141, \"SYC->LIE\": 0.00989913987902141, \"ISR->SYC\": 0.00989913987902141, \"DZA->SYC\": 0.00989913987902141, \"HUN->FIN\": 0.009899128219507091, \"USA->HUN\": 0.009899128219507091, \"HUN->GRC\": 0.009899128219507091, \"HUN->ISR\": 0.009899128219507091, \"HUN->AND\": 0.009899128219507091, \"HUN->ISL\": 0.009899128219507091, \"HUN->LIE\": 0.009899128219507091, \"IDN->HUN\": 0.009899128219507091, \"HUN->DZA\": 0.009899128219507091, \"HUN->CZE\": 0.009899128219507091, \"HUN->CRI\": 0.009899128219507091, \"HUN->VEN\": 0.009899128219507091, \"HUN->BEL\": 0.009899128219507091, \"HUN->SRB\": 0.009899124843703496, \"SRB->SYC\": 0.009899113184189168, \"PER->MDA\": 0.009898995407776943, \"ZAF->TWN\": 0.00989895833802718, \"VNM->FIN\": 0.009898817017128683, \"USA->VNM\": 0.009898817017128683, \"VNM->VEN\": 0.009898817017128683, \"VNM->ISL\": 0.009898817017128683, \"VNM->ISR\": 0.009898817017128683, \"VNM->IDN\": 0.009898817017128683, \"VNM->GRC\": 0.009898817017128683, \"VNM->CRI\": 0.009898817017128683, \"VNM->CAN\": 0.009898817017128683, \"VNM->LIE\": 0.009898817017128683, \"VNM->DZA\": 0.009898817017128683, \"VNM->CZE\": 0.009898817017128683, \"VNM->BEL\": 0.009898817017128683, \"VNM->AUT\": 0.009898817017128683, \"VNM->AND\": 0.009898817017128683, \"MDA->CRI\": 0.009898793532825476, \"MDA->CZE\": 0.009898793532825476, \"MDA->CAN\": 0.009898793532825476, \"MDA->AND\": 0.009898793532825476, \"MDA->BEL\": 0.009898793532825476, \"MDA->AUT\": 0.009898793532825476, \"MDA->LIE\": 0.009898793532825476, \"MDA->DZA\": 0.009898793532825476, \"MDA->GRC\": 0.009898793532825476, \"MDA->ISR\": 0.009898793532825476, \"MDA->ISL\": 0.009898793532825476, \"USA->MDA\": 0.009898793532825476, \"MDA->VEN\": 0.009898793532825476, \"IDN->MDA\": 0.009898793532825476, \"MDA->FIN\": 0.009898793532825476, \"ROU->PRT\": 0.009898762643761789, \"KEN->CZE\": 0.009898761176713605, \"KEN->IDN\": 0.009898761176713605, \"KEN->LIE\": 0.009898761176713605, \"KEN->FIN\": 0.009898761176713605, \"KEN->DZA\": 0.009898761176713605, \"USA->KEN\": 0.009898761176713605, \"KEN->ISL\": 0.009898761176713605, \"KEN->ISR\": 0.009898761176713605, \"KEN->CRI\": 0.009898761176713605, \"KEN->GRC\": 0.009898761176713605, \"KEN->AND\": 0.009898761176713605, \"KEN->AUT\": 0.009898761176713605, \"KEN->BEL\": 0.009898761176713605, \"KEN->VEN\": 0.009898761176713605, \"KEN->CAN\": 0.009898761176713605, \"LTU->PRT\": 0.009898730530506357, \"LTU->ZAF\": 0.009898620838615852, \"HKG->PRT\": 0.00989854996618438, \"BGR->SRB\": 0.009898519582882062, \"NOR->SRB\": 0.009898466754897611, \"LUX->SGP\": 0.009898413955425994, \"NZL->ZAF\": 0.00989840082999444, \"BGR->LUX\": 0.009898399927217732, \"LUX->NOR\": 0.009898347099233283, \"TWN->LIE\": 0.009898335736742215, \"TWN->DZA\": 0.009898335736742215, \"TWN->VEN\": 0.009898335736742215, \"TWN->CZE\": 0.009898335736742215, \"IDN->TWN\": 0.009898335736742215, \"TWN->FIN\": 0.009898335736742215, \"TWN->GRC\": 0.009898335736742215, \"TWN->ISR\": 0.009898335736742215, \"TWN->ISL\": 0.009898335736742215, \"TWN->CRI\": 0.009898335736742215, \"TWN->AND\": 0.009898335736742215, \"TWN->AUT\": 0.009898335736742215, \"TWN->BEL\": 0.009898335736742215, \"USA->TWN\": 0.009898335736742215, \"MEX->SRB\": 0.009898201836372108, \"NLD->GRC\": 0.009898155765920241, \"NLD->LIE\": 0.009898155765920241, \"NLD->DZA\": 0.009898155765920241, \"NLD->FIN\": 0.009898155765920241, \"NLD->ISR\": 0.009898155765920241, \"NLD->IDN\": 0.009898155765920241, \"NLD->ISL\": 0.009898155765920241, \"NLD->VEN\": 0.009898155765920241, \"NLD->CZE\": 0.009898155765920241, \"NLD->CRI\": 0.009898155765920241, \"NLD->BEL\": 0.009898155765920241, \"NLD->AND\": 0.009898155765920241, \"USA->NLD\": 0.009898155765920241, \"MEX->LUX\": 0.00989808218070778, \"SRB->DNK\": 0.009898032790998794, \"ROU->CZE\": 0.009898030350586317, \"USA->ROU\": 0.009898030350586317, \"ROU->AND\": 0.009898030350586317, \"ROU->BEL\": 0.009898030350586317, \"ROU->CRI\": 0.009898030350586317, \"ROU->FIN\": 0.009898030350586317, \"ROU->DZA\": 0.009898030350586317, \"ROU->VEN\": 0.009898030350586317, \"ROU->GRC\": 0.009898030350586317, \"ROU->IDN\": 0.009898030350586317, \"ROU->ISR\": 0.009898030350586317, \"ROU->ISL\": 0.009898030350586317, \"ROU->LIE\": 0.009898030350586317, \"USA->LTU\": 0.009897998237330887, \"LTU->BEL\": 0.009897998237330887, \"LTU->AUT\": 0.009897998237330887, \"LTU->LIE\": 0.009897998237330887, \"LTU->AND\": 0.009897998237330887, \"LTU->CRI\": 0.009897998237330887, \"LTU->CZE\": 0.009897998237330887, \"LTU->DZA\": 0.009897998237330887, \"LTU->VEN\": 0.009897998237330887, \"LTU->FIN\": 0.009897998237330887, \"LTU->GRC\": 0.009897998237330887, \"LTU->IDN\": 0.009897998237330887, \"LTU->ISR\": 0.009897998237330887, \"LTU->ISL\": 0.009897998237330887, \"SRB->PRT\": 0.00989799525737616, \"FRA->LUX\": 0.00989798375923808, \"SWE->SRB\": 0.00989797089531511, \"LUX->DNK\": 0.009897913135334474, \"ZAF->SRB\": 0.009897885565485645, \"LUX->PRT\": 0.009897875601711832, \"SWE->LUX\": 0.009897851239650791, \"HKG->LIE\": 0.009897817673008909, \"HKG->IDN\": 0.009897817673008909, \"HKG->AND\": 0.009897817673008909, \"HKG->AUT\": 0.009897817673008909, \"HKG->ISL\": 0.009897817673008909, \"HKG->ISR\": 0.009897817673008909, \"HKG->FIN\": 0.009897817673008909, \"HKG->GRC\": 0.009897817673008909, \"HKG->BEL\": 0.009897817673008909, \"HKG->DZA\": 0.009897817673008909, \"HKG->CZE\": 0.009897817673008909, \"HKG->CRI\": 0.009897817673008909, \"HKG->VEN\": 0.009897817673008909, \"HKG->CAN\": 0.009897817673008909, \"USA->HKG\": 0.009897817673008909, \"ESP->SGP\": 0.00989780701818871, \"NZL->ISR\": 0.009897778228709481, \"NZL->ISL\": 0.009897778228709481, \"NZL->LIE\": 0.009897778228709481, \"NZL->GRC\": 0.009897778228709481, \"NZL->FIN\": 0.009897778228709481, \"NZL->DZA\": 0.009897778228709481, \"NZL->CZE\": 0.009897778228709481, \"NZL->CRI\": 0.009897778228709481, \"NZL->CAN\": 0.009897778228709481, \"NZL->BEL\": 0.009897778228709481, \"NZL->AND\": 0.009897778228709481, \"USA->NZL\": 0.009897778228709481, \"NZL->VEN\": 0.009897778228709481, \"NZL->IDN\": 0.009897778228709481, \"ZAF->LUX\": 0.009897765909821317, \"CHL->SRB\": 0.009897615433776291, \"PER->PRT\": 0.00989753113476799, \"CHL->LUX\": 0.009897495778111972, \"PER->ZAF\": 0.009897421442877485, \"ESP->PRT\": 0.009897268664474539, \"CAN->SRB\": 0.009897262964200688, \"AND->SRB\": 0.009897262964200688, \"IDN->SRB\": 0.009897262964200688, \"USA->SRB\": 0.009897262964200688, \"SRB->VEN\": 0.009897262964200688, \"SRB->DZA\": 0.009897262964200688, \"SRB->AUT\": 0.009897262964200688, \"SRB->BEL\": 0.009897262964200688, \"SRB->CZE\": 0.009897262964200688, \"SRB->GRC\": 0.009897262964200688, \"SRB->ISR\": 0.009897262964200688, \"SRB->ISL\": 0.009897262964200688, \"SRB->LIE\": 0.009897262964200688, \"SRB->CRI\": 0.009897262964200688, \"SRB->FIN\": 0.009897262964200688, \"ESP->ZAF\": 0.009897158972584034, \"LUX->CRI\": 0.00989714330853636, \"LUX->FIN\": 0.00989714330853636, \"LUX->ISR\": 0.00989714330853636, \"LUX->ISL\": 0.00989714330853636, \"IDN->LUX\": 0.00989714330853636, \"LUX->LIE\": 0.00989714330853636, \"LUX->AND\": 0.00989714330853636, \"LUX->GRC\": 0.00989714330853636, \"LUX->VEN\": 0.00989714330853636, \"LUX->BEL\": 0.00989714330853636, \"LUX->DZA\": 0.00989714330853636, \"USA->LUX\": 0.00989714330853636, \"LUX->CZE\": 0.00989714330853636, \"LUX->AUT\": 0.00989714330853636, \"AUS->DZA\": 0.009896998824835123, \"AUS->BEL\": 0.009896998824835123, \"AUS->CAN\": 0.009896998824835123, \"AUS->FIN\": 0.009896998824835123, \"AUS->CRI\": 0.009896998824835123, \"AUS->ISL\": 0.009896998824835123, \"AUS->VEN\": 0.009896998824835123, \"USA->AUS\": 0.009896998824835123, \"AUS->AND\": 0.009896998824835123, \"AUS->LIE\": 0.009896998824835123, \"AUS->ISR\": 0.009896998824835123, \"AUS->IDN\": 0.009896998824835123, \"AUS->CZE\": 0.009896998824835123, \"AUS->GRC\": 0.009896998824835123, \"COL->PRT\": 0.009896893839719792, \"PER->BEL\": 0.009896798841592518, \"PER->ISL\": 0.009896798841592518, \"PER->AUT\": 0.009896798841592518, \"PER->ISR\": 0.009896798841592518, \"PER->IDN\": 0.009896798841592518, \"PER->CAN\": 0.009896798841592518, \"PER->CZE\": 0.009896798841592518, \"PER->GRC\": 0.009896798841592518, \"PER->FIN\": 0.009896798841592518, \"PER->DZA\": 0.009896798841592518, \"PER->CRI\": 0.009896798841592518, \"PER->LIE\": 0.009896798841592518, \"PER->AND\": 0.009896798841592518, \"USA->PER\": 0.009896798841592518, \"PER->VEN\": 0.009896798841592518, \"ESP->CRI\": 0.009896536371299067, \"ESP->CZE\": 0.009896536371299067, \"ESP->ISR\": 0.009896536371299067, \"ESP->ISL\": 0.009896536371299067, \"ESP->DZA\": 0.009896536371299067, \"ESP->LIE\": 0.009896536371299067, \"ESP->IDN\": 0.009896536371299067, \"ESP->VEN\": 0.009896536371299067, \"USA->ESP\": 0.009896536371299067, \"ESP->GRC\": 0.009896536371299067, \"ESP->AND\": 0.009896536371299067, \"ESP->BEL\": 0.009896536371299067, \"ESP->FIN\": 0.009896536371299067, \"COL->VEN\": 0.00989616154654432, \"COL->LIE\": 0.00989616154654432, \"COL->ISR\": 0.00989616154654432, \"COL->USA\": 0.00989616154654432, \"COL->ISL\": 0.00989616154654432, \"COL->CZE\": 0.00989616154654432, \"COL->CRI\": 0.00989616154654432, \"COL->DZA\": 0.00989616154654432, \"COL->IDN\": 0.00989616154654432, \"COL->BEL\": 0.00989616154654432, \"COL->GRC\": 0.00989616154654432, \"COL->AND\": 0.00989616154654432, \"COL->FIN\": 0.00989616154654432, \"JPN->LUX\": 0.009895777533575607, \"CHN->POL\": 0.009895625325724544, \"JPN->CAN\": 0.009891930743102077, \"JPN->LIE\": 0.009891930743102077, \"USA->JPN\": 0.009891930743102077, \"JPN->CZE\": 0.009891930743102077, \"JPN->VEN\": 0.009891930743102077, \"JPN->FIN\": 0.009891930743102077, \"JPN->AND\": 0.009891930743102077, \"JPN->CRI\": 0.009891930743102077, \"JPN->BEL\": 0.009891930743102077, \"JPN->DZA\": 0.009891930743102077, \"JPN->IDN\": 0.009891930743102077, \"JPN->ISL\": 0.009891930743102077, \"JPN->ISR\": 0.009891930743102077, \"JPN->AUT\": 0.009891930743102077, \"JPN->GRC\": 0.009891930743102077, \"BLZ->LUX\": 0.009891668435741834, \"SVK->LUX\": 0.009889884299182687, \"LUX->MYS\": 0.009889102053245289, \"SRB->MYS\": 0.00988898239758096, \"BLZ->PRT\": 0.009888553938443767, \"BLZ->ZAF\": 0.00988844424655325, \"SVK->MDA\": 0.009888234074893582, \"BLZ->IDN\": 0.009887821645268293, \"BLZ->VEN\": 0.009887821645268293, \"BLZ->ISL\": 0.009887821645268293, \"BLZ->ISR\": 0.009887821645268293, \"USA->BLZ\": 0.009887821645268293, \"BLZ->AND\": 0.009887821645268293, \"BLZ->GRC\": 0.009887821645268293, \"BLZ->AUT\": 0.009887821645268293, \"BLZ->FIN\": 0.009887821645268293, \"BLZ->LIE\": 0.009887821645268293, \"BLZ->DZA\": 0.009887821645268293, \"BLZ->CZE\": 0.009887821645268293, \"BLZ->CRI\": 0.009887821645268293, \"BLZ->CAN\": 0.009887821645268293, \"BLZ->BEL\": 0.009887821645268293, \"MDA->MYS\": 0.009887451828956173, \"ZAF->SVK\": 0.009886660109994113, \"SGP->MYS\": 0.009886525909661381, \"SVK->VEN\": 0.009886037508709146, \"SVK->CRI\": 0.009886037508709146, \"SVK->BEL\": 0.009886037508709146, \"SVK->LIE\": 0.009886037508709146, \"SVK->ISL\": 0.009886037508709146, \"SVK->ISR\": 0.009886037508709146, \"SVK->GRC\": 0.009886037508709146, \"SVK->FIN\": 0.009886037508709146, \"SVK->DZA\": 0.009886037508709146, \"SVK->CZE\": 0.009886037508709146, \"SVK->CAN\": 0.009886037508709146, \"IDN->SVK\": 0.009886037508709146, \"SVK->AUT\": 0.009886037508709146, \"SVK->AND\": 0.009886037508709146, \"USA->SVK\": 0.009886037508709146, \"MYS->PRT\": 0.00988598755594722, \"ZAF->MYS\": 0.009885877864056704, \"MYS->VEN\": 0.009885255262771748, \"MYS->ISL\": 0.009885255262771748, \"MYS->GRC\": 0.009885255262771748, \"MYS->DZA\": 0.009885255262771748, \"USA->MYS\": 0.009885255262771748, \"MYS->LIE\": 0.009885255262771748, \"MYS->CZE\": 0.009885255262771748, \"MYS->AUT\": 0.009885255262771748, \"MYS->BEL\": 0.009885255262771748, \"MYS->ISR\": 0.009885255262771748, \"MYS->CRI\": 0.009885255262771748, \"AND->MYS\": 0.009885255262771748, \"IDN->MYS\": 0.009885255262771748, \"FIN->MYS\": 0.009885255262771748, \"CAN->MYS\": 0.009885255262771748, \"CHN->MYS\": 0.009852338507802847, \"LUX->POL\": 0.009845815235323591, \"SRB->POL\": 0.009845695579659261, \"MDA->POL\": 0.009844165011034474, \"SGP->POL\": 0.009843239091739684, \"PRT->POL\": 0.009842700738025522, \"ZAF->POL\": 0.009842591046135005, \"POL->GRC\": 0.009841968444850049, \"POL->CRI\": 0.009841968444850049, \"POL->DZA\": 0.009841968444850049, \"FIN->POL\": 0.009841968444850049, \"POL->LIE\": 0.009841968444850049, \"ISL->POL\": 0.009841968444850049, \"USA->POL\": 0.009841968444850049, \"POL->AUT\": 0.009841968444850049, \"VEN->POL\": 0.009841968444850049, \"CAN->POL\": 0.009841968444850049, \"AND->POL\": 0.009841968444850049, \"CZE->POL\": 0.009841968444850049, \"ISR->POL\": 0.009841968444850049, \"BEL->POL\": 0.009841968444850049, \"IDN->POL\": 0.009841968444850049, \"UKR->LUX\": 0.009841455318809884, \"ESP->CHN\": 0.009841057399275528, \"CHN->LUX\": 0.009840450462038235, \"LTU->CHN\": 0.009839595533243707, \"ROU->CHN\": 0.009839563419988278, \"KEN->CHN\": 0.009838832593860989, \"VNM->CHN\": 0.009838776753445912, \"HUN->CHN\": 0.009838465551067502, \"CHN->SYC\": 0.009838453891553184, \"UKR->ZAF\": 0.009838231129621308, \"CHN->NOR\": 0.009837807462261617, \"UKR->FIN\": 0.009837608528336341, \"UKR->BEL\": 0.009837608528336341, \"UKR->CAN\": 0.009837608528336341, \"UKR->CRI\": 0.009837608528336341, \"UKR->AUT\": 0.009837608528336341, \"UKR->CZE\": 0.009837608528336341, \"UKR->AND\": 0.009837608528336341, \"UKR->DZA\": 0.009837608528336341, \"UKR->GRC\": 0.009837608528336341, \"UKR->IDN\": 0.009837608528336341, \"UKR->ISR\": 0.009837608528336341, \"UKR->ISL\": 0.009837608528336341, \"UKR->LIE\": 0.009837608528336341, \"UKR->USA\": 0.009837608528336341, \"UKR->VEN\": 0.009837608528336341, \"CHN->DNK\": 0.009837373498362808, \"SWE->CHN\": 0.009837311602679115, \"ZAF->CHN\": 0.00983722627284965, \"CHL->CHN\": 0.009836956141140305, \"CHN->CAN\": 0.009836603671564694, \"CHN->LIE\": 0.009836603671564694, \"CHN->ISL\": 0.009836603671564694, \"CHN->VEN\": 0.009836603671564694, \"CHN->ISR\": 0.009836603671564694, \"CHN->AND\": 0.009836603671564694, \"IDN->CHN\": 0.009836603671564694, \"CHN->BEL\": 0.009836603671564694, \"USA->CHN\": 0.009836603671564694, \"CHN->CRI\": 0.009836603671564694, \"CHN->DZA\": 0.009836603671564694, \"CHN->GRC\": 0.009836603671564694, \"CHN->FIN\": 0.009836603671564694, \"CHN->CZE\": 0.009836603671564694, \"CHN->AUT\": 0.009836603671564694, \"ZAF->SAU\": 0.009196332516426617, \"RUS->DZA\": 0.008761332521056158, \"RUS->ISR\": 0.008761332521056158, \"RUS->GRC\": 0.008761332521056158, \"RUS->CRI\": 0.008761332521056158, \"RUS->FIN\": 0.008761332521056158, \"RUS->BEL\": 0.008761332521056158, \"RUS->ISL\": 0.008761332521056158, \"RUS->LIE\": 0.008761332521056158, \"RUS->AUT\": 0.008761332521056158, \"RUS->CZE\": 0.008761332521056158, \"RUS->VEN\": 0.008761332521056158, \"IDN->RUS\": 0.008761332521056158, \"RUS->AND\": 0.008761332521056158, \"USA->RUS\": 0.008761332521056158, \"KOR->DZA\": 0.007974455680193658, \"KOR->ISR\": 0.007974455680193658, \"KOR->GRC\": 0.007974455680193658, \"KOR->FIN\": 0.007974455680193658, \"KOR->ISL\": 0.007974455680193658, \"KOR->CZE\": 0.007974455680193658, \"KOR->CRI\": 0.007974455680193658, \"KOR->BEL\": 0.007974455680193658, \"KOR->AND\": 0.007974455680193658, \"KOR->LIE\": 0.007974455680193658, \"KOR->USA\": 0.007974455680193658, \"KOR->IDN\": 0.007974455680193658, \"KOR->VEN\": 0.007974455680193658, \"PRT->TUR\": 0.007842802834686942, \"TUR->DZA\": 0.00784207054151147, \"TUR->CRI\": 0.00784207054151147, \"USA->TUR\": 0.00784207054151147, \"BEL->TUR\": 0.00784207054151147, \"TUR->LIE\": 0.00784207054151147, \"TUR->GRC\": 0.00784207054151147, \"FIN->TUR\": 0.00784207054151147, \"ISR->TUR\": 0.00784207054151147, \"CZE->TUR\": 0.00784207054151147, \"VEN->TUR\": 0.00784207054151147, \"ISL->TUR\": 0.00784207054151147, \"IDN->TUR\": 0.00784207054151147, \"AND->TUR\": 0.00784207054151147, \"IND->ISR\": 0.006609893706726394, \"IND->LIE\": 0.006609893706726394, \"IND->FIN\": 0.006609893706726394, \"IND->GRC\": 0.006609893706726394, \"USA->IND\": 0.006609893706726394, \"IND->ISL\": 0.006609893706726394, \"IND->VEN\": 0.006609893706726394, \"IND->DZA\": 0.006609893706726394, \"IDN->IND\": 0.006609893706726394, \"IND->CRI\": 0.006609893706726394, \"IND->BEL\": 0.006609893706726394, \"IND->AND\": 0.006609893706726394, \"IND->CZE\": 0.006609893706726394, \"LUX->SAU\": 3.8467904735410675e-06, \"SAU->GRC\": 0.0, \"CAN->SAU\": 0.0, \"DZA->SAU\": 0.0, \"BEL->SAU\": 0.0, \"SAU->CRI\": 0.0, \"USA->SAU\": 0.0, \"FIN->SAU\": 0.0, \"VEN->SAU\": 0.0, \"IDN->SAU\": 0.0, \"ISL->SAU\": 0.0, \"AND->SAU\": 0.0, \"CZE->SAU\": 0.0, \"ISR->SAU\": 0.0, \"SAU->LIE\": 0.0}'"
      ]
     },
     "execution_count": 118,
     "metadata": {},
     "output_type": "execute_result"
    }
   ],
   "source": [
    "output_json"
   ]
  },
  {
   "cell_type": "code",
   "execution_count": 119,
   "metadata": {},
   "outputs": [],
   "source": [
    "with open('data.json', 'w') as outfile:\n",
    "    json.dump(output_json, outfile)"
   ]
  },
  {
   "cell_type": "code",
   "execution_count": 120,
   "metadata": {},
   "outputs": [],
   "source": [
    "MetricDF.to_csv(\"MetricDF.csv\")"
   ]
  }
 ],
 "metadata": {
  "kernelspec": {
   "display_name": "Python 3",
   "language": "python",
   "name": "python3"
  },
  "language_info": {
   "codemirror_mode": {
    "name": "ipython",
    "version": 3
   },
   "file_extension": ".py",
   "mimetype": "text/x-python",
   "name": "python",
   "nbconvert_exporter": "python",
   "pygments_lexer": "ipython3",
   "version": "3.6.9"
  }
 },
 "nbformat": 4,
 "nbformat_minor": 2
}
