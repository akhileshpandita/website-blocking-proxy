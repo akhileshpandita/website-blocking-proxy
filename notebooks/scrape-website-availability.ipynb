{
 "cells": [
  {
   "cell_type": "code",
   "execution_count": 2,
   "metadata": {
    "collapsed": true
   },
   "outputs": [],
   "source": [
    "from selenium import webdriver\n",
    "from selenium.webdriver.common.by import By\n",
    "from selenium.webdriver.support.ui import WebDriverWait\n",
    "from selenium.webdriver.support import expected_conditions as EC\n",
    "import time\n",
    "import pandas as pd\n",
    "import numpy as np\n",
    "import matplotlib.pyplot as plt\n",
    "import random"
   ]
  },
  {
   "cell_type": "code",
   "execution_count": 2,
   "metadata": {
    "collapsed": true
   },
   "outputs": [],
   "source": [
    "uptrends = \"https://www.uptrends.com/tools/uptime\""
   ]
  },
  {
   "cell_type": "code",
   "execution_count": 55,
   "metadata": {},
   "outputs": [
    {
     "data": {
      "text/html": [
       "<div>\n",
       "<style scoped>\n",
       "    .dataframe tbody tr th:only-of-type {\n",
       "        vertical-align: middle;\n",
       "    }\n",
       "\n",
       "    .dataframe tbody tr th {\n",
       "        vertical-align: top;\n",
       "    }\n",
       "\n",
       "    .dataframe thead th {\n",
       "        text-align: right;\n",
       "    }\n",
       "</style>\n",
       "<table border=\"1\" class=\"dataframe\">\n",
       "  <thead>\n",
       "    <tr style=\"text-align: right;\">\n",
       "      <th></th>\n",
       "      <th>Name</th>\n",
       "      <th>Date Unblocked</th>\n",
       "      <th>Website</th>\n",
       "      <th>Archived Block Message[0]</th>\n",
       "      <th>Archived Block Message[1]</th>\n",
       "      <th>Block Message Screenshot</th>\n",
       "      <th>Website Archives[0]</th>\n",
       "      <th>Website Archives[1]</th>\n",
       "    </tr>\n",
       "  </thead>\n",
       "  <tbody>\n",
       "    <tr>\n",
       "      <th>0</th>\n",
       "      <td>5 News KFSM</td>\n",
       "      <td>NaN</td>\n",
       "      <td>https://5newsonline.com</td>\n",
       "      <td>https://archive.fo/Lwl88</td>\n",
       "      <td>NaN</td>\n",
       "      <td>https://data.verifiedjoseph.com/files/gdpr-scr...</td>\n",
       "      <td>https://web.archive.org/web/2/https://5newsonl...</td>\n",
       "      <td>NaN</td>\n",
       "    </tr>\n",
       "    <tr>\n",
       "      <th>1</th>\n",
       "      <td>99acres</td>\n",
       "      <td>NaN</td>\n",
       "      <td>https://www.99acres.com</td>\n",
       "      <td>https://archive.fo/24l2Q</td>\n",
       "      <td>NaN</td>\n",
       "      <td>https://data.verifiedjoseph.com/files/gdpr-scr...</td>\n",
       "      <td>https://web.archive.org/web/2/https://www.99ac...</td>\n",
       "      <td>NaN</td>\n",
       "    </tr>\n",
       "    <tr>\n",
       "      <th>2</th>\n",
       "      <td>Aberdeen News</td>\n",
       "      <td>NaN</td>\n",
       "      <td>https://www.aberdeennews.com</td>\n",
       "      <td>NaN</td>\n",
       "      <td>NaN</td>\n",
       "      <td>https://data.verifiedjoseph.com/files/gdpr-scr...</td>\n",
       "      <td>NaN</td>\n",
       "      <td>NaN</td>\n",
       "    </tr>\n",
       "    <tr>\n",
       "      <th>3</th>\n",
       "      <td>Abington Mariner</td>\n",
       "      <td>NaN</td>\n",
       "      <td>http://abington.wickedlocal.com</td>\n",
       "      <td>NaN</td>\n",
       "      <td>NaN</td>\n",
       "      <td>https://data.verifiedjoseph.com/files/gdpr-scr...</td>\n",
       "      <td>https://web.archive.org/web/2/http://abington....</td>\n",
       "      <td>NaN</td>\n",
       "    </tr>\n",
       "    <tr>\n",
       "      <th>4</th>\n",
       "      <td>Ad Express &amp; Daily Iowegian (Centerville, IA)</td>\n",
       "      <td>NaN</td>\n",
       "      <td>https://www.dailyiowegian.com</td>\n",
       "      <td>NaN</td>\n",
       "      <td>NaN</td>\n",
       "      <td>https://data.verifiedjoseph.com/files/gdpr-scr...</td>\n",
       "      <td>NaN</td>\n",
       "      <td>NaN</td>\n",
       "    </tr>\n",
       "  </tbody>\n",
       "</table>\n",
       "</div>"
      ],
      "text/plain": [
       "                                            Name Date Unblocked  \\\n",
       "0                                    5 News KFSM            NaN   \n",
       "1                                        99acres            NaN   \n",
       "2                                  Aberdeen News            NaN   \n",
       "3                               Abington Mariner            NaN   \n",
       "4  Ad Express & Daily Iowegian (Centerville, IA)            NaN   \n",
       "\n",
       "                           Website Archived Block Message[0]  \\\n",
       "0          https://5newsonline.com  https://archive.fo/Lwl88   \n",
       "1          https://www.99acres.com  https://archive.fo/24l2Q   \n",
       "2     https://www.aberdeennews.com                       NaN   \n",
       "3  http://abington.wickedlocal.com                       NaN   \n",
       "4    https://www.dailyiowegian.com                       NaN   \n",
       "\n",
       "  Archived Block Message[1]  \\\n",
       "0                       NaN   \n",
       "1                       NaN   \n",
       "2                       NaN   \n",
       "3                       NaN   \n",
       "4                       NaN   \n",
       "\n",
       "                            Block Message Screenshot  \\\n",
       "0  https://data.verifiedjoseph.com/files/gdpr-scr...   \n",
       "1  https://data.verifiedjoseph.com/files/gdpr-scr...   \n",
       "2  https://data.verifiedjoseph.com/files/gdpr-scr...   \n",
       "3  https://data.verifiedjoseph.com/files/gdpr-scr...   \n",
       "4  https://data.verifiedjoseph.com/files/gdpr-scr...   \n",
       "\n",
       "                                 Website Archives[0] Website Archives[1]  \n",
       "0  https://web.archive.org/web/2/https://5newsonl...                 NaN  \n",
       "1  https://web.archive.org/web/2/https://www.99ac...                 NaN  \n",
       "2                                                NaN                 NaN  \n",
       "3  https://web.archive.org/web/2/http://abington....                 NaN  \n",
       "4                                                NaN                 NaN  "
      ]
     },
     "execution_count": 55,
     "metadata": {},
     "output_type": "execute_result"
    }
   ],
   "source": [
    "blocked_gdpr = pd.read_csv(\"blocked_gdpr.csv\")\n",
    "blocked_gdpr.head()"
   ]
  },
  {
   "cell_type": "code",
   "execution_count": 57,
   "metadata": {},
   "outputs": [
    {
     "data": {
      "text/plain": [
       "['https://5newsonline.com',\n",
       " 'https://www.99acres.com',\n",
       " 'https://www.aberdeennews.com',\n",
       " 'http://abington.wickedlocal.com',\n",
       " 'https://www.dailyiowegian.com']"
      ]
     },
     "execution_count": 57,
     "metadata": {},
     "output_type": "execute_result"
    }
   ],
   "source": [
    "blocked_gdpr_sites = list(blocked_gdpr['Website'])\n",
    "blocked_gdpr_sites[:5]"
   ]
  },
  {
   "cell_type": "code",
   "execution_count": 73,
   "metadata": {
    "scrolled": false
   },
   "outputs": [
    {
     "name": "stdout",
     "output_type": "stream",
     "text": [
      "https://5newsonline.com\n",
      "42\n",
      "https://www.99acres.com\n",
      "85\n",
      "https://www.aberdeennews.com\n",
      "127\n",
      "http://abington.wickedlocal.com\n",
      "170\n",
      "https://www.dailyiowegian.com\n",
      "213\n",
      "http://agcanada.com\n",
      "256\n",
      "https://agdealer.com\n",
      "299\n",
      "http://www.agrinews-pubs.com\n",
      "342\n",
      "https://www.agupdate.com\n",
      "385\n",
      "http://www.ahwatukee.com\n",
      "428\n",
      "https://www.aikenstandard.com\n",
      "471\n",
      "http://www.aimmediatexas.com\n",
      "514\n",
      "http://www.airthinx.io\n",
      "557\n",
      "https://democratherald.com\n",
      "600\n",
      "http://albertafarmexpress.ca\n",
      "643\n",
      "http://www.aledotimesrecord.com\n",
      "684\n",
      "https://www.alicetx.com\n",
      "726\n",
      "http://www.alliancetimes.com\n",
      "767\n",
      "https://www.alliednews.com\n",
      "809\n",
      "http://allston.wickedlocal.com\n",
      "851\n",
      "https://www.amny.com\n",
      "893\n",
      "https://www.amarillo.com\n",
      "936\n",
      "https://www.americanmediainc.com\n",
      "979\n",
      "http://americanmilitarynews.com\n",
      "1022\n",
      "https://www.americanpress.com\n",
      "1065\n",
      "http://www.amestrib.com\n",
      "1108\n",
      "https://www.adn.com\n",
      "1151\n",
      "https://www.anchoragepress.com\n",
      "1194\n",
      "https://www.andovertownsman.com\n",
      "1237\n",
      "http://www.apg-wi.com\n",
      "1280\n",
      "https://www.apgwest.com\n",
      "1323\n",
      "https://www.appeal-democrat.com\n",
      "1366\n",
      "https://www.northfulton.com\n",
      "1409\n",
      "https://www.argus-press.com\n",
      "1452\n",
      "https://tucson.com\n",
      "1495\n",
      "https://azdailysun.com\n",
      "1538\n",
      "https://www.willcoxrangenews.com\n",
      "1538\n",
      "http://arlington.wickedlocal.com\n",
      "1538\n",
      "https://www.ashepostandtimes.com\n",
      "1538\n",
      "http://www.ashleycountyledger.com\n",
      "1538\n",
      "https://www.aspendailynews.com\n",
      "1538\n",
      "http://www.atchisonglobenow.com\n",
      "1538\n",
      "https://www.onlineathens.com\n",
      "1538\n",
      "https://www.athensreview.com\n",
      "1538\n",
      "https://www.atlanticcityweekly.com\n",
      "1538\n",
      "http://www.auburnjournal.com\n",
      "1538\n",
      "http://www.augustagazette.com\n",
      "1538\n",
      "http://www.auroraadvertiser.net\n",
      "1538\n",
      "https://www.autoweb.com\n",
      "1538\n",
      "https://www.averyjournal.com\n",
      "1538\n"
     ]
    }
   ],
   "source": [
    "driver = webdriver.Firefox()\n",
    "driver.get(uptrends)\n",
    "\n",
    "driver.implicitly_wait(30) # gives an implicit wait for 20 seconds\n",
    "\n",
    "website_availabilities = []\n",
    "\n",
    "reduce_text = lambda x: \"Y\" if x == \"Website is available\" else \"N\"\n",
    "\n",
    "frame = driver.find_element_by_xpath('//*[@id=\"ToolsBox\"]')\n",
    "driver.switch_to.frame(frame)\n",
    "input_box = driver.find_element_by_id(\"UI_Tools_Url\")\n",
    "submit_button = driver.find_element_by_id(\"UI_Tools_Submit\")\n",
    "\n",
    "for b in blocked_gdpr_sites[:50]:\n",
    "    try:\n",
    "        driver.execute_script(\"arguments[0].value = '\" + b + \"';\", input_box)\n",
    "        print(input_box.get_attribute('value'))\n",
    "        submit_button.click()\n",
    "\n",
    "        time.sleep(120)\n",
    "\n",
    "        result = driver.find_elements_by_class_name('httpResultHeaderData')\n",
    "        website_availabilities.extend([(\n",
    "            b,\n",
    "            r.find_element_by_class_name('title').get_attribute('innerHTML'),\n",
    "            reduce_text(r.find_element_by_class_name('subtitle').get_attribute('innerHTML')))\n",
    "            for r in result])\n",
    "\n",
    "        print(len(website_availabilities))\n",
    "\n",
    "        test_again = driver.find_element_by_xpath('/html/body/div[1]/section/div/div[1]/div/section[2]/div/div[1]/div[1]/div[3]/button[2]')\n",
    "        test_again.click()\n",
    "\n",
    "        time.sleep(random.randint(120, 150))\n",
    "    except:\n",
    "        continue\n",
    "\n",
    "driver.close()"
   ]
  },
  {
   "cell_type": "code",
   "execution_count": 74,
   "metadata": {},
   "outputs": [
    {
     "data": {
      "text/plain": [
       "[('https://5newsonline.com', 'Toronto', 'Y'),\n",
       " ('https://5newsonline.com', 'London', 'Y'),\n",
       " ('https://5newsonline.com', 'Milan', 'Y'),\n",
       " ('https://5newsonline.com', 'Frankfurt', 'Y'),\n",
       " ('https://5newsonline.com', 'Vancouver', 'Y')]"
      ]
     },
     "execution_count": 74,
     "metadata": {},
     "output_type": "execute_result"
    }
   ],
   "source": [
    "website_availabilities[:5]"
   ]
  },
  {
   "cell_type": "code",
   "execution_count": 75,
   "metadata": {},
   "outputs": [
    {
     "data": {
      "text/plain": [
       "1538"
      ]
     },
     "execution_count": 75,
     "metadata": {},
     "output_type": "execute_result"
    }
   ],
   "source": [
    "len(website_availabilities)"
   ]
  },
  {
   "cell_type": "code",
   "execution_count": 76,
   "metadata": {
    "collapsed": true
   },
   "outputs": [],
   "source": [
    "df = pd.DataFrame.from_records(website_availabilities)"
   ]
  },
  {
   "cell_type": "code",
   "execution_count": 77,
   "metadata": {},
   "outputs": [
    {
     "data": {
      "text/html": [
       "<div>\n",
       "<style scoped>\n",
       "    .dataframe tbody tr th:only-of-type {\n",
       "        vertical-align: middle;\n",
       "    }\n",
       "\n",
       "    .dataframe tbody tr th {\n",
       "        vertical-align: top;\n",
       "    }\n",
       "\n",
       "    .dataframe thead th {\n",
       "        text-align: right;\n",
       "    }\n",
       "</style>\n",
       "<table border=\"1\" class=\"dataframe\">\n",
       "  <thead>\n",
       "    <tr style=\"text-align: right;\">\n",
       "      <th></th>\n",
       "      <th>0</th>\n",
       "      <th>1</th>\n",
       "      <th>2</th>\n",
       "    </tr>\n",
       "  </thead>\n",
       "  <tbody>\n",
       "    <tr>\n",
       "      <th>0</th>\n",
       "      <td>https://5newsonline.com</td>\n",
       "      <td>Toronto</td>\n",
       "      <td>Y</td>\n",
       "    </tr>\n",
       "    <tr>\n",
       "      <th>1</th>\n",
       "      <td>https://5newsonline.com</td>\n",
       "      <td>London</td>\n",
       "      <td>Y</td>\n",
       "    </tr>\n",
       "    <tr>\n",
       "      <th>2</th>\n",
       "      <td>https://5newsonline.com</td>\n",
       "      <td>Milan</td>\n",
       "      <td>Y</td>\n",
       "    </tr>\n",
       "    <tr>\n",
       "      <th>3</th>\n",
       "      <td>https://5newsonline.com</td>\n",
       "      <td>Frankfurt</td>\n",
       "      <td>Y</td>\n",
       "    </tr>\n",
       "    <tr>\n",
       "      <th>4</th>\n",
       "      <td>https://5newsonline.com</td>\n",
       "      <td>Vancouver</td>\n",
       "      <td>Y</td>\n",
       "    </tr>\n",
       "  </tbody>\n",
       "</table>\n",
       "</div>"
      ],
      "text/plain": [
       "                         0          1  2\n",
       "0  https://5newsonline.com    Toronto  Y\n",
       "1  https://5newsonline.com     London  Y\n",
       "2  https://5newsonline.com      Milan  Y\n",
       "3  https://5newsonline.com  Frankfurt  Y\n",
       "4  https://5newsonline.com  Vancouver  Y"
      ]
     },
     "execution_count": 77,
     "metadata": {},
     "output_type": "execute_result"
    }
   ],
   "source": [
    "df.head()"
   ]
  },
  {
   "cell_type": "code",
   "execution_count": 79,
   "metadata": {
    "collapsed": true
   },
   "outputs": [],
   "source": [
    "df.to_csv(\"website_availabilities_1.csv\")"
   ]
  },
  {
   "cell_type": "code",
   "execution_count": 3,
   "metadata": {},
   "outputs": [
    {
     "data": {
      "text/html": [
       "<div>\n",
       "<style scoped>\n",
       "    .dataframe tbody tr th:only-of-type {\n",
       "        vertical-align: middle;\n",
       "    }\n",
       "\n",
       "    .dataframe tbody tr th {\n",
       "        vertical-align: top;\n",
       "    }\n",
       "\n",
       "    .dataframe thead th {\n",
       "        text-align: right;\n",
       "    }\n",
       "</style>\n",
       "<table border=\"1\" class=\"dataframe\">\n",
       "  <thead>\n",
       "    <tr style=\"text-align: right;\">\n",
       "      <th></th>\n",
       "      <th>Unnamed: 0</th>\n",
       "      <th>0</th>\n",
       "      <th>1</th>\n",
       "      <th>2</th>\n",
       "    </tr>\n",
       "  </thead>\n",
       "  <tbody>\n",
       "    <tr>\n",
       "      <th>0</th>\n",
       "      <td>0</td>\n",
       "      <td>https://5newsonline.com</td>\n",
       "      <td>Toronto</td>\n",
       "      <td>Y</td>\n",
       "    </tr>\n",
       "    <tr>\n",
       "      <th>1</th>\n",
       "      <td>1</td>\n",
       "      <td>https://5newsonline.com</td>\n",
       "      <td>London</td>\n",
       "      <td>Y</td>\n",
       "    </tr>\n",
       "    <tr>\n",
       "      <th>2</th>\n",
       "      <td>2</td>\n",
       "      <td>https://5newsonline.com</td>\n",
       "      <td>Milan</td>\n",
       "      <td>Y</td>\n",
       "    </tr>\n",
       "    <tr>\n",
       "      <th>3</th>\n",
       "      <td>3</td>\n",
       "      <td>https://5newsonline.com</td>\n",
       "      <td>Frankfurt</td>\n",
       "      <td>Y</td>\n",
       "    </tr>\n",
       "    <tr>\n",
       "      <th>4</th>\n",
       "      <td>4</td>\n",
       "      <td>https://5newsonline.com</td>\n",
       "      <td>Vancouver</td>\n",
       "      <td>Y</td>\n",
       "    </tr>\n",
       "  </tbody>\n",
       "</table>\n",
       "</div>"
      ],
      "text/plain": [
       "   Unnamed: 0                        0          1  2\n",
       "0           0  https://5newsonline.com    Toronto  Y\n",
       "1           1  https://5newsonline.com     London  Y\n",
       "2           2  https://5newsonline.com      Milan  Y\n",
       "3           3  https://5newsonline.com  Frankfurt  Y\n",
       "4           4  https://5newsonline.com  Vancouver  Y"
      ]
     },
     "execution_count": 3,
     "metadata": {},
     "output_type": "execute_result"
    }
   ],
   "source": [
    "df = pd.read_csv(\"website_availabilities_1.csv\")\n",
    "df.head()"
   ]
  },
  {
   "cell_type": "code",
   "execution_count": 4,
   "metadata": {},
   "outputs": [
    {
     "data": {
      "text/html": [
       "<div>\n",
       "<style scoped>\n",
       "    .dataframe tbody tr th:only-of-type {\n",
       "        vertical-align: middle;\n",
       "    }\n",
       "\n",
       "    .dataframe tbody tr th {\n",
       "        vertical-align: top;\n",
       "    }\n",
       "\n",
       "    .dataframe thead th {\n",
       "        text-align: right;\n",
       "    }\n",
       "</style>\n",
       "<table border=\"1\" class=\"dataframe\">\n",
       "  <thead>\n",
       "    <tr style=\"text-align: right;\">\n",
       "      <th></th>\n",
       "      <th>0</th>\n",
       "      <th>1</th>\n",
       "      <th>2</th>\n",
       "    </tr>\n",
       "  </thead>\n",
       "  <tbody>\n",
       "    <tr>\n",
       "      <th>0</th>\n",
       "      <td>https://5newsonline.com</td>\n",
       "      <td>Toronto</td>\n",
       "      <td>Y</td>\n",
       "    </tr>\n",
       "    <tr>\n",
       "      <th>1</th>\n",
       "      <td>https://5newsonline.com</td>\n",
       "      <td>London</td>\n",
       "      <td>Y</td>\n",
       "    </tr>\n",
       "    <tr>\n",
       "      <th>2</th>\n",
       "      <td>https://5newsonline.com</td>\n",
       "      <td>Milan</td>\n",
       "      <td>Y</td>\n",
       "    </tr>\n",
       "    <tr>\n",
       "      <th>3</th>\n",
       "      <td>https://5newsonline.com</td>\n",
       "      <td>Frankfurt</td>\n",
       "      <td>Y</td>\n",
       "    </tr>\n",
       "    <tr>\n",
       "      <th>4</th>\n",
       "      <td>https://5newsonline.com</td>\n",
       "      <td>Vancouver</td>\n",
       "      <td>Y</td>\n",
       "    </tr>\n",
       "  </tbody>\n",
       "</table>\n",
       "</div>"
      ],
      "text/plain": [
       "                         0          1  2\n",
       "0  https://5newsonline.com    Toronto  Y\n",
       "1  https://5newsonline.com     London  Y\n",
       "2  https://5newsonline.com      Milan  Y\n",
       "3  https://5newsonline.com  Frankfurt  Y\n",
       "4  https://5newsonline.com  Vancouver  Y"
      ]
     },
     "execution_count": 4,
     "metadata": {},
     "output_type": "execute_result"
    }
   ],
   "source": [
    "df.drop(columns = \"Unnamed: 0\", inplace = True)\n",
    "df.head()"
   ]
  },
  {
   "cell_type": "code",
   "execution_count": 7,
   "metadata": {},
   "outputs": [
    {
     "data": {
      "text/html": [
       "<div>\n",
       "<style scoped>\n",
       "    .dataframe tbody tr th:only-of-type {\n",
       "        vertical-align: middle;\n",
       "    }\n",
       "\n",
       "    .dataframe tbody tr th {\n",
       "        vertical-align: top;\n",
       "    }\n",
       "\n",
       "    .dataframe thead th {\n",
       "        text-align: right;\n",
       "    }\n",
       "</style>\n",
       "<table border=\"1\" class=\"dataframe\">\n",
       "  <thead>\n",
       "    <tr style=\"text-align: right;\">\n",
       "      <th></th>\n",
       "      <th>Website</th>\n",
       "      <th>City</th>\n",
       "      <th>Available</th>\n",
       "    </tr>\n",
       "  </thead>\n",
       "  <tbody>\n",
       "    <tr>\n",
       "      <th>0</th>\n",
       "      <td>https://5newsonline.com</td>\n",
       "      <td>Toronto</td>\n",
       "      <td>Y</td>\n",
       "    </tr>\n",
       "    <tr>\n",
       "      <th>1</th>\n",
       "      <td>https://5newsonline.com</td>\n",
       "      <td>London</td>\n",
       "      <td>Y</td>\n",
       "    </tr>\n",
       "    <tr>\n",
       "      <th>2</th>\n",
       "      <td>https://5newsonline.com</td>\n",
       "      <td>Milan</td>\n",
       "      <td>Y</td>\n",
       "    </tr>\n",
       "    <tr>\n",
       "      <th>3</th>\n",
       "      <td>https://5newsonline.com</td>\n",
       "      <td>Frankfurt</td>\n",
       "      <td>Y</td>\n",
       "    </tr>\n",
       "    <tr>\n",
       "      <th>4</th>\n",
       "      <td>https://5newsonline.com</td>\n",
       "      <td>Vancouver</td>\n",
       "      <td>Y</td>\n",
       "    </tr>\n",
       "  </tbody>\n",
       "</table>\n",
       "</div>"
      ],
      "text/plain": [
       "                   Website       City Available\n",
       "0  https://5newsonline.com    Toronto         Y\n",
       "1  https://5newsonline.com     London         Y\n",
       "2  https://5newsonline.com      Milan         Y\n",
       "3  https://5newsonline.com  Frankfurt         Y\n",
       "4  https://5newsonline.com  Vancouver         Y"
      ]
     },
     "execution_count": 7,
     "metadata": {},
     "output_type": "execute_result"
    }
   ],
   "source": [
    "df.rename(columns = {\"0\": \"Website\", \"1\": \"City\", \"2\": \"Available\"}, inplace = True)\n",
    "df.head()"
   ]
  },
  {
   "cell_type": "code",
   "execution_count": 8,
   "metadata": {
    "collapsed": true
   },
   "outputs": [],
   "source": [
    "df.to_csv(\"website_availabilities_1.csv\")"
   ]
  },
  {
   "cell_type": "code",
   "execution_count": null,
   "metadata": {
    "collapsed": true
   },
   "outputs": [],
   "source": []
  }
 ],
 "metadata": {
  "kernelspec": {
   "display_name": "Python 3",
   "language": "python",
   "name": "python3"
  },
  "language_info": {
   "codemirror_mode": {
    "name": "ipython",
    "version": 3
   },
   "file_extension": ".py",
   "mimetype": "text/x-python",
   "name": "python",
   "nbconvert_exporter": "python",
   "pygments_lexer": "ipython3",
   "version": "3.6.3"
  }
 },
 "nbformat": 4,
 "nbformat_minor": 2
}
