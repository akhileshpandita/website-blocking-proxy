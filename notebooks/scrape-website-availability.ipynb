{
 "cells": [
  {
   "cell_type": "code",
   "execution_count": 1,
   "metadata": {
    "collapsed": true
   },
   "outputs": [],
   "source": [
    "from selenium import webdriver\n",
    "from selenium.webdriver.common.by import By\n",
    "from selenium.webdriver.support.ui import WebDriverWait\n",
    "from selenium.webdriver.support import expected_conditions as EC\n",
    "import time\n",
    "import pandas as pd\n",
    "import numpy as np\n",
    "import matplotlib.pyplot as plt\n",
    "import random\n",
    "from statistics import mean\n",
    "import json"
   ]
  },
  {
   "cell_type": "code",
   "execution_count": 2,
   "metadata": {
    "collapsed": true
   },
   "outputs": [],
   "source": [
    "uptrends = \"https://www.uptrends.com/tools/uptime\""
   ]
  },
  {
   "cell_type": "code",
   "execution_count": 3,
   "metadata": {},
   "outputs": [
    {
     "data": {
      "text/html": [
       "<div>\n",
       "<style scoped>\n",
       "    .dataframe tbody tr th:only-of-type {\n",
       "        vertical-align: middle;\n",
       "    }\n",
       "\n",
       "    .dataframe tbody tr th {\n",
       "        vertical-align: top;\n",
       "    }\n",
       "\n",
       "    .dataframe thead th {\n",
       "        text-align: right;\n",
       "    }\n",
       "</style>\n",
       "<table border=\"1\" class=\"dataframe\">\n",
       "  <thead>\n",
       "    <tr style=\"text-align: right;\">\n",
       "      <th></th>\n",
       "      <th>Name</th>\n",
       "      <th>Date Unblocked</th>\n",
       "      <th>Website</th>\n",
       "      <th>Archived Block Message[0]</th>\n",
       "      <th>Archived Block Message[1]</th>\n",
       "      <th>Block Message Screenshot</th>\n",
       "      <th>Website Archives[0]</th>\n",
       "      <th>Website Archives[1]</th>\n",
       "    </tr>\n",
       "  </thead>\n",
       "  <tbody>\n",
       "    <tr>\n",
       "      <th>0</th>\n",
       "      <td>5 News KFSM</td>\n",
       "      <td>NaN</td>\n",
       "      <td>https://5newsonline.com</td>\n",
       "      <td>https://archive.fo/Lwl88</td>\n",
       "      <td>NaN</td>\n",
       "      <td>https://data.verifiedjoseph.com/files/gdpr-scr...</td>\n",
       "      <td>https://web.archive.org/web/2/https://5newsonl...</td>\n",
       "      <td>NaN</td>\n",
       "    </tr>\n",
       "    <tr>\n",
       "      <th>1</th>\n",
       "      <td>99acres</td>\n",
       "      <td>NaN</td>\n",
       "      <td>https://www.99acres.com</td>\n",
       "      <td>https://archive.fo/24l2Q</td>\n",
       "      <td>NaN</td>\n",
       "      <td>https://data.verifiedjoseph.com/files/gdpr-scr...</td>\n",
       "      <td>https://web.archive.org/web/2/https://www.99ac...</td>\n",
       "      <td>NaN</td>\n",
       "    </tr>\n",
       "    <tr>\n",
       "      <th>2</th>\n",
       "      <td>Aberdeen News</td>\n",
       "      <td>NaN</td>\n",
       "      <td>https://www.aberdeennews.com</td>\n",
       "      <td>NaN</td>\n",
       "      <td>NaN</td>\n",
       "      <td>https://data.verifiedjoseph.com/files/gdpr-scr...</td>\n",
       "      <td>NaN</td>\n",
       "      <td>NaN</td>\n",
       "    </tr>\n",
       "    <tr>\n",
       "      <th>3</th>\n",
       "      <td>Abington Mariner</td>\n",
       "      <td>NaN</td>\n",
       "      <td>http://abington.wickedlocal.com</td>\n",
       "      <td>NaN</td>\n",
       "      <td>NaN</td>\n",
       "      <td>https://data.verifiedjoseph.com/files/gdpr-scr...</td>\n",
       "      <td>https://web.archive.org/web/2/http://abington....</td>\n",
       "      <td>NaN</td>\n",
       "    </tr>\n",
       "    <tr>\n",
       "      <th>4</th>\n",
       "      <td>Ad Express &amp; Daily Iowegian (Centerville, IA)</td>\n",
       "      <td>NaN</td>\n",
       "      <td>https://www.dailyiowegian.com</td>\n",
       "      <td>NaN</td>\n",
       "      <td>NaN</td>\n",
       "      <td>https://data.verifiedjoseph.com/files/gdpr-scr...</td>\n",
       "      <td>NaN</td>\n",
       "      <td>NaN</td>\n",
       "    </tr>\n",
       "  </tbody>\n",
       "</table>\n",
       "</div>"
      ],
      "text/plain": [
       "                                            Name Date Unblocked  \\\n",
       "0                                    5 News KFSM            NaN   \n",
       "1                                        99acres            NaN   \n",
       "2                                  Aberdeen News            NaN   \n",
       "3                               Abington Mariner            NaN   \n",
       "4  Ad Express & Daily Iowegian (Centerville, IA)            NaN   \n",
       "\n",
       "                           Website Archived Block Message[0]  \\\n",
       "0          https://5newsonline.com  https://archive.fo/Lwl88   \n",
       "1          https://www.99acres.com  https://archive.fo/24l2Q   \n",
       "2     https://www.aberdeennews.com                       NaN   \n",
       "3  http://abington.wickedlocal.com                       NaN   \n",
       "4    https://www.dailyiowegian.com                       NaN   \n",
       "\n",
       "  Archived Block Message[1]  \\\n",
       "0                       NaN   \n",
       "1                       NaN   \n",
       "2                       NaN   \n",
       "3                       NaN   \n",
       "4                       NaN   \n",
       "\n",
       "                            Block Message Screenshot  \\\n",
       "0  https://data.verifiedjoseph.com/files/gdpr-scr...   \n",
       "1  https://data.verifiedjoseph.com/files/gdpr-scr...   \n",
       "2  https://data.verifiedjoseph.com/files/gdpr-scr...   \n",
       "3  https://data.verifiedjoseph.com/files/gdpr-scr...   \n",
       "4  https://data.verifiedjoseph.com/files/gdpr-scr...   \n",
       "\n",
       "                                 Website Archives[0] Website Archives[1]  \n",
       "0  https://web.archive.org/web/2/https://5newsonl...                 NaN  \n",
       "1  https://web.archive.org/web/2/https://www.99ac...                 NaN  \n",
       "2                                                NaN                 NaN  \n",
       "3  https://web.archive.org/web/2/http://abington....                 NaN  \n",
       "4                                                NaN                 NaN  "
      ]
     },
     "execution_count": 3,
     "metadata": {},
     "output_type": "execute_result"
    }
   ],
   "source": [
    "blocked_gdpr = pd.read_csv(\"blocked_gdpr.csv\")\n",
    "blocked_gdpr.head()"
   ]
  },
  {
   "cell_type": "code",
   "execution_count": 4,
   "metadata": {},
   "outputs": [
    {
     "data": {
      "text/plain": [
       "['https://5newsonline.com',\n",
       " 'https://www.99acres.com',\n",
       " 'https://www.aberdeennews.com',\n",
       " 'http://abington.wickedlocal.com',\n",
       " 'https://www.dailyiowegian.com']"
      ]
     },
     "execution_count": 4,
     "metadata": {},
     "output_type": "execute_result"
    }
   ],
   "source": [
    "blocked_gdpr_sites = list(blocked_gdpr['Website'])\n",
    "blocked_gdpr_sites[:5]"
   ]
  },
  {
   "cell_type": "code",
   "execution_count": 5,
   "metadata": {
    "scrolled": false
   },
   "outputs": [
    {
     "name": "stdout",
     "output_type": "stream",
     "text": [
      "https://www.bgfalconmedia.com\n"
     ]
    },
    {
     "ename": "InvalidSessionIdException",
     "evalue": "Message: Tried to run command without establishing a connection\n",
     "output_type": "error",
     "traceback": [
      "\u001b[0;31m---------------------------------------------------------------------------\u001b[0m",
      "\u001b[0;31mInvalidSessionIdException\u001b[0m                 Traceback (most recent call last)",
      "\u001b[0;32m<ipython-input-5-0b5f618eb93c>\u001b[0m in \u001b[0;36m<module>\u001b[0;34m()\u001b[0m\n\u001b[1;32m     37\u001b[0m         \u001b[0;32mcontinue\u001b[0m\u001b[0;34m\u001b[0m\u001b[0m\n\u001b[1;32m     38\u001b[0m \u001b[0;34m\u001b[0m\u001b[0m\n\u001b[0;32m---> 39\u001b[0;31m \u001b[0mdriver\u001b[0m\u001b[0;34m.\u001b[0m\u001b[0mclose\u001b[0m\u001b[0;34m(\u001b[0m\u001b[0;34m)\u001b[0m\u001b[0;34m\u001b[0m\u001b[0m\n\u001b[0m",
      "\u001b[0;32m~/anaconda3/lib/python3.6/site-packages/selenium/webdriver/remote/webdriver.py\u001b[0m in \u001b[0;36mclose\u001b[0;34m(self)\u001b[0m\n\u001b[1;32m    686\u001b[0m             \u001b[0mdriver\u001b[0m\u001b[0;34m.\u001b[0m\u001b[0mclose\u001b[0m\u001b[0;34m(\u001b[0m\u001b[0;34m)\u001b[0m\u001b[0;34m\u001b[0m\u001b[0m\n\u001b[1;32m    687\u001b[0m         \"\"\"\n\u001b[0;32m--> 688\u001b[0;31m         \u001b[0mself\u001b[0m\u001b[0;34m.\u001b[0m\u001b[0mexecute\u001b[0m\u001b[0;34m(\u001b[0m\u001b[0mCommand\u001b[0m\u001b[0;34m.\u001b[0m\u001b[0mCLOSE\u001b[0m\u001b[0;34m)\u001b[0m\u001b[0;34m\u001b[0m\u001b[0m\n\u001b[0m\u001b[1;32m    689\u001b[0m \u001b[0;34m\u001b[0m\u001b[0m\n\u001b[1;32m    690\u001b[0m     \u001b[0;32mdef\u001b[0m \u001b[0mquit\u001b[0m\u001b[0;34m(\u001b[0m\u001b[0mself\u001b[0m\u001b[0;34m)\u001b[0m\u001b[0;34m:\u001b[0m\u001b[0;34m\u001b[0m\u001b[0m\n",
      "\u001b[0;32m~/anaconda3/lib/python3.6/site-packages/selenium/webdriver/remote/webdriver.py\u001b[0m in \u001b[0;36mexecute\u001b[0;34m(self, driver_command, params)\u001b[0m\n\u001b[1;32m    319\u001b[0m         \u001b[0mresponse\u001b[0m \u001b[0;34m=\u001b[0m \u001b[0mself\u001b[0m\u001b[0;34m.\u001b[0m\u001b[0mcommand_executor\u001b[0m\u001b[0;34m.\u001b[0m\u001b[0mexecute\u001b[0m\u001b[0;34m(\u001b[0m\u001b[0mdriver_command\u001b[0m\u001b[0;34m,\u001b[0m \u001b[0mparams\u001b[0m\u001b[0;34m)\u001b[0m\u001b[0;34m\u001b[0m\u001b[0m\n\u001b[1;32m    320\u001b[0m         \u001b[0;32mif\u001b[0m \u001b[0mresponse\u001b[0m\u001b[0;34m:\u001b[0m\u001b[0;34m\u001b[0m\u001b[0m\n\u001b[0;32m--> 321\u001b[0;31m             \u001b[0mself\u001b[0m\u001b[0;34m.\u001b[0m\u001b[0merror_handler\u001b[0m\u001b[0;34m.\u001b[0m\u001b[0mcheck_response\u001b[0m\u001b[0;34m(\u001b[0m\u001b[0mresponse\u001b[0m\u001b[0;34m)\u001b[0m\u001b[0;34m\u001b[0m\u001b[0m\n\u001b[0m\u001b[1;32m    322\u001b[0m             response['value'] = self._unwrap_value(\n\u001b[1;32m    323\u001b[0m                 response.get('value', None))\n",
      "\u001b[0;32m~/anaconda3/lib/python3.6/site-packages/selenium/webdriver/remote/errorhandler.py\u001b[0m in \u001b[0;36mcheck_response\u001b[0;34m(self, response)\u001b[0m\n\u001b[1;32m    240\u001b[0m                 \u001b[0malert_text\u001b[0m \u001b[0;34m=\u001b[0m \u001b[0mvalue\u001b[0m\u001b[0;34m[\u001b[0m\u001b[0;34m'alert'\u001b[0m\u001b[0;34m]\u001b[0m\u001b[0;34m.\u001b[0m\u001b[0mget\u001b[0m\u001b[0;34m(\u001b[0m\u001b[0;34m'text'\u001b[0m\u001b[0;34m)\u001b[0m\u001b[0;34m\u001b[0m\u001b[0m\n\u001b[1;32m    241\u001b[0m             \u001b[0;32mraise\u001b[0m \u001b[0mexception_class\u001b[0m\u001b[0;34m(\u001b[0m\u001b[0mmessage\u001b[0m\u001b[0;34m,\u001b[0m \u001b[0mscreen\u001b[0m\u001b[0;34m,\u001b[0m \u001b[0mstacktrace\u001b[0m\u001b[0;34m,\u001b[0m \u001b[0malert_text\u001b[0m\u001b[0;34m)\u001b[0m\u001b[0;34m\u001b[0m\u001b[0m\n\u001b[0;32m--> 242\u001b[0;31m         \u001b[0;32mraise\u001b[0m \u001b[0mexception_class\u001b[0m\u001b[0;34m(\u001b[0m\u001b[0mmessage\u001b[0m\u001b[0;34m,\u001b[0m \u001b[0mscreen\u001b[0m\u001b[0;34m,\u001b[0m \u001b[0mstacktrace\u001b[0m\u001b[0;34m)\u001b[0m\u001b[0;34m\u001b[0m\u001b[0m\n\u001b[0m\u001b[1;32m    243\u001b[0m \u001b[0;34m\u001b[0m\u001b[0m\n\u001b[1;32m    244\u001b[0m     \u001b[0;32mdef\u001b[0m \u001b[0m_value_or_default\u001b[0m\u001b[0;34m(\u001b[0m\u001b[0mself\u001b[0m\u001b[0;34m,\u001b[0m \u001b[0mobj\u001b[0m\u001b[0;34m,\u001b[0m \u001b[0mkey\u001b[0m\u001b[0;34m,\u001b[0m \u001b[0mdefault\u001b[0m\u001b[0;34m)\u001b[0m\u001b[0;34m:\u001b[0m\u001b[0;34m\u001b[0m\u001b[0m\n",
      "\u001b[0;31mInvalidSessionIdException\u001b[0m: Message: Tried to run command without establishing a connection\n"
     ]
    }
   ],
   "source": [
    "driver = webdriver.Firefox()\n",
    "driver.get(uptrends)\n",
    "\n",
    "driver.implicitly_wait(30) # gives an implicit wait for 20 seconds\n",
    "\n",
    "website_availabilities = []\n",
    "\n",
    "reduce_text = lambda x: \"Y\" if x == \"Website is available\" else \"N\"\n",
    "\n",
    "frame = driver.find_element_by_xpath('//*[@id=\"ToolsBox\"]')\n",
    "driver.switch_to.frame(frame)\n",
    "input_box = driver.find_element_by_id(\"UI_Tools_Url\")\n",
    "submit_button = driver.find_element_by_id(\"UI_Tools_Submit\")\n",
    "\n",
    "for b in blocked_gdpr_sites[69:90]:\n",
    "    try:\n",
    "        driver.execute_script(\"arguments[0].value = '\" + b + \"';\", input_box)\n",
    "        print(input_box.get_attribute('value'))\n",
    "        submit_button.click()\n",
    "\n",
    "        time.sleep(120)\n",
    "\n",
    "        result = driver.find_elements_by_class_name('httpResultHeaderData')\n",
    "        website_availabilities.extend([(\n",
    "            b,\n",
    "            r.find_element_by_class_name('title').get_attribute('innerHTML'),\n",
    "            reduce_text(r.find_element_by_class_name('subtitle').get_attribute('innerHTML')))\n",
    "            for r in result])\n",
    "\n",
    "        print(len(website_availabilities))\n",
    "\n",
    "        test_again = driver.find_element_by_xpath('/html/body/div[1]/section/div/div[1]/div/section[2]/div/div[1]/div[1]/div[3]/button[2]')\n",
    "        test_again.click()\n",
    "\n",
    "        time.sleep(random.randint(120, 150))\n",
    "    except:\n",
    "        continue\n",
    "\n",
    "driver.close()"
   ]
  },
  {
   "cell_type": "code",
   "execution_count": 103,
   "metadata": {},
   "outputs": [
    {
     "data": {
      "text/plain": [
       "36"
      ]
     },
     "execution_count": 103,
     "metadata": {},
     "output_type": "execute_result"
    }
   ],
   "source": [
    "country_avail['Website'].nunique()"
   ]
  },
  {
   "cell_type": "code",
   "execution_count": 24,
   "metadata": {},
   "outputs": [
    {
     "data": {
      "text/plain": [
       "[('https://www.bakersfield.com', 'New York', 'Y'),\n",
       " ('https://www.bakersfield.com', 'Toronto', 'Y'),\n",
       " ('https://www.bakersfield.com', 'Tampa', 'Y'),\n",
       " ('https://www.bakersfield.com', 'Seattle', 'Y'),\n",
       " ('https://www.bakersfield.com', 'Vancouver', 'Y')]"
      ]
     },
     "execution_count": 24,
     "metadata": {},
     "output_type": "execute_result"
    }
   ],
   "source": [
    "website_availabilities[:5]"
   ]
  },
  {
   "cell_type": "code",
   "execution_count": 25,
   "metadata": {},
   "outputs": [
    {
     "data": {
      "text/plain": [
       "741"
      ]
     },
     "execution_count": 25,
     "metadata": {},
     "output_type": "execute_result"
    }
   ],
   "source": [
    "len(website_availabilities)"
   ]
  },
  {
   "cell_type": "code",
   "execution_count": 26,
   "metadata": {
    "collapsed": true
   },
   "outputs": [],
   "source": [
    "df = pd.DataFrame.from_records(website_availabilities)"
   ]
  },
  {
   "cell_type": "code",
   "execution_count": 27,
   "metadata": {},
   "outputs": [
    {
     "data": {
      "text/html": [
       "<div>\n",
       "<style scoped>\n",
       "    .dataframe tbody tr th:only-of-type {\n",
       "        vertical-align: middle;\n",
       "    }\n",
       "\n",
       "    .dataframe tbody tr th {\n",
       "        vertical-align: top;\n",
       "    }\n",
       "\n",
       "    .dataframe thead th {\n",
       "        text-align: right;\n",
       "    }\n",
       "</style>\n",
       "<table border=\"1\" class=\"dataframe\">\n",
       "  <thead>\n",
       "    <tr style=\"text-align: right;\">\n",
       "      <th></th>\n",
       "      <th>0</th>\n",
       "      <th>1</th>\n",
       "      <th>2</th>\n",
       "    </tr>\n",
       "  </thead>\n",
       "  <tbody>\n",
       "    <tr>\n",
       "      <th>0</th>\n",
       "      <td>https://www.bakersfield.com</td>\n",
       "      <td>New York</td>\n",
       "      <td>Y</td>\n",
       "    </tr>\n",
       "    <tr>\n",
       "      <th>1</th>\n",
       "      <td>https://www.bakersfield.com</td>\n",
       "      <td>Toronto</td>\n",
       "      <td>Y</td>\n",
       "    </tr>\n",
       "    <tr>\n",
       "      <th>2</th>\n",
       "      <td>https://www.bakersfield.com</td>\n",
       "      <td>Tampa</td>\n",
       "      <td>Y</td>\n",
       "    </tr>\n",
       "    <tr>\n",
       "      <th>3</th>\n",
       "      <td>https://www.bakersfield.com</td>\n",
       "      <td>Seattle</td>\n",
       "      <td>Y</td>\n",
       "    </tr>\n",
       "    <tr>\n",
       "      <th>4</th>\n",
       "      <td>https://www.bakersfield.com</td>\n",
       "      <td>Vancouver</td>\n",
       "      <td>Y</td>\n",
       "    </tr>\n",
       "  </tbody>\n",
       "</table>\n",
       "</div>"
      ],
      "text/plain": [
       "                             0          1  2\n",
       "0  https://www.bakersfield.com   New York  Y\n",
       "1  https://www.bakersfield.com    Toronto  Y\n",
       "2  https://www.bakersfield.com      Tampa  Y\n",
       "3  https://www.bakersfield.com    Seattle  Y\n",
       "4  https://www.bakersfield.com  Vancouver  Y"
      ]
     },
     "execution_count": 27,
     "metadata": {},
     "output_type": "execute_result"
    }
   ],
   "source": [
    "df.head()"
   ]
  },
  {
   "cell_type": "code",
   "execution_count": 28,
   "metadata": {
    "collapsed": true
   },
   "outputs": [],
   "source": [
    "df.to_csv(\"website_availabilities_3.csv\")"
   ]
  },
  {
   "cell_type": "code",
   "execution_count": 3,
   "metadata": {},
   "outputs": [
    {
     "data": {
      "text/html": [
       "<div>\n",
       "<style scoped>\n",
       "    .dataframe tbody tr th:only-of-type {\n",
       "        vertical-align: middle;\n",
       "    }\n",
       "\n",
       "    .dataframe tbody tr th {\n",
       "        vertical-align: top;\n",
       "    }\n",
       "\n",
       "    .dataframe thead th {\n",
       "        text-align: right;\n",
       "    }\n",
       "</style>\n",
       "<table border=\"1\" class=\"dataframe\">\n",
       "  <thead>\n",
       "    <tr style=\"text-align: right;\">\n",
       "      <th></th>\n",
       "      <th>Unnamed: 0</th>\n",
       "      <th>Website</th>\n",
       "      <th>City</th>\n",
       "      <th>Available</th>\n",
       "    </tr>\n",
       "  </thead>\n",
       "  <tbody>\n",
       "    <tr>\n",
       "      <th>0</th>\n",
       "      <td>0</td>\n",
       "      <td>https://5newsonline.com</td>\n",
       "      <td>Toronto</td>\n",
       "      <td>Y</td>\n",
       "    </tr>\n",
       "    <tr>\n",
       "      <th>1</th>\n",
       "      <td>1</td>\n",
       "      <td>https://5newsonline.com</td>\n",
       "      <td>London</td>\n",
       "      <td>Y</td>\n",
       "    </tr>\n",
       "    <tr>\n",
       "      <th>2</th>\n",
       "      <td>2</td>\n",
       "      <td>https://5newsonline.com</td>\n",
       "      <td>Milan</td>\n",
       "      <td>Y</td>\n",
       "    </tr>\n",
       "    <tr>\n",
       "      <th>3</th>\n",
       "      <td>3</td>\n",
       "      <td>https://5newsonline.com</td>\n",
       "      <td>Frankfurt</td>\n",
       "      <td>Y</td>\n",
       "    </tr>\n",
       "    <tr>\n",
       "      <th>4</th>\n",
       "      <td>4</td>\n",
       "      <td>https://5newsonline.com</td>\n",
       "      <td>Vancouver</td>\n",
       "      <td>Y</td>\n",
       "    </tr>\n",
       "  </tbody>\n",
       "</table>\n",
       "</div>"
      ],
      "text/plain": [
       "   Unnamed: 0                  Website       City Available\n",
       "0           0  https://5newsonline.com    Toronto         Y\n",
       "1           1  https://5newsonline.com     London         Y\n",
       "2           2  https://5newsonline.com      Milan         Y\n",
       "3           3  https://5newsonline.com  Frankfurt         Y\n",
       "4           4  https://5newsonline.com  Vancouver         Y"
      ]
     },
     "execution_count": 3,
     "metadata": {},
     "output_type": "execute_result"
    }
   ],
   "source": [
    "df = pd.read_csv(\"website_availabilities_1.csv\")\n",
    "df.head()"
   ]
  },
  {
   "cell_type": "code",
   "execution_count": 10,
   "metadata": {},
   "outputs": [
    {
     "data": {
      "text/plain": [
       "36"
      ]
     },
     "execution_count": 10,
     "metadata": {},
     "output_type": "execute_result"
    }
   ],
   "source": [
    "df['Website'].nunique()"
   ]
  },
  {
   "cell_type": "code",
   "execution_count": 4,
   "metadata": {},
   "outputs": [
    {
     "data": {
      "text/html": [
       "<div>\n",
       "<style scoped>\n",
       "    .dataframe tbody tr th:only-of-type {\n",
       "        vertical-align: middle;\n",
       "    }\n",
       "\n",
       "    .dataframe tbody tr th {\n",
       "        vertical-align: top;\n",
       "    }\n",
       "\n",
       "    .dataframe thead th {\n",
       "        text-align: right;\n",
       "    }\n",
       "</style>\n",
       "<table border=\"1\" class=\"dataframe\">\n",
       "  <thead>\n",
       "    <tr style=\"text-align: right;\">\n",
       "      <th></th>\n",
       "      <th>0</th>\n",
       "      <th>1</th>\n",
       "      <th>2</th>\n",
       "    </tr>\n",
       "  </thead>\n",
       "  <tbody>\n",
       "    <tr>\n",
       "      <th>0</th>\n",
       "      <td>https://5newsonline.com</td>\n",
       "      <td>Toronto</td>\n",
       "      <td>Y</td>\n",
       "    </tr>\n",
       "    <tr>\n",
       "      <th>1</th>\n",
       "      <td>https://5newsonline.com</td>\n",
       "      <td>London</td>\n",
       "      <td>Y</td>\n",
       "    </tr>\n",
       "    <tr>\n",
       "      <th>2</th>\n",
       "      <td>https://5newsonline.com</td>\n",
       "      <td>Milan</td>\n",
       "      <td>Y</td>\n",
       "    </tr>\n",
       "    <tr>\n",
       "      <th>3</th>\n",
       "      <td>https://5newsonline.com</td>\n",
       "      <td>Frankfurt</td>\n",
       "      <td>Y</td>\n",
       "    </tr>\n",
       "    <tr>\n",
       "      <th>4</th>\n",
       "      <td>https://5newsonline.com</td>\n",
       "      <td>Vancouver</td>\n",
       "      <td>Y</td>\n",
       "    </tr>\n",
       "  </tbody>\n",
       "</table>\n",
       "</div>"
      ],
      "text/plain": [
       "                         0          1  2\n",
       "0  https://5newsonline.com    Toronto  Y\n",
       "1  https://5newsonline.com     London  Y\n",
       "2  https://5newsonline.com      Milan  Y\n",
       "3  https://5newsonline.com  Frankfurt  Y\n",
       "4  https://5newsonline.com  Vancouver  Y"
      ]
     },
     "execution_count": 4,
     "metadata": {},
     "output_type": "execute_result"
    }
   ],
   "source": [
    "df.drop(columns = \"Unnamed: 0\", inplace = True)\n",
    "df.head()"
   ]
  },
  {
   "cell_type": "code",
   "execution_count": 7,
   "metadata": {},
   "outputs": [
    {
     "data": {
      "text/html": [
       "<div>\n",
       "<style scoped>\n",
       "    .dataframe tbody tr th:only-of-type {\n",
       "        vertical-align: middle;\n",
       "    }\n",
       "\n",
       "    .dataframe tbody tr th {\n",
       "        vertical-align: top;\n",
       "    }\n",
       "\n",
       "    .dataframe thead th {\n",
       "        text-align: right;\n",
       "    }\n",
       "</style>\n",
       "<table border=\"1\" class=\"dataframe\">\n",
       "  <thead>\n",
       "    <tr style=\"text-align: right;\">\n",
       "      <th></th>\n",
       "      <th>Website</th>\n",
       "      <th>City</th>\n",
       "      <th>Available</th>\n",
       "    </tr>\n",
       "  </thead>\n",
       "  <tbody>\n",
       "    <tr>\n",
       "      <th>0</th>\n",
       "      <td>https://5newsonline.com</td>\n",
       "      <td>Toronto</td>\n",
       "      <td>Y</td>\n",
       "    </tr>\n",
       "    <tr>\n",
       "      <th>1</th>\n",
       "      <td>https://5newsonline.com</td>\n",
       "      <td>London</td>\n",
       "      <td>Y</td>\n",
       "    </tr>\n",
       "    <tr>\n",
       "      <th>2</th>\n",
       "      <td>https://5newsonline.com</td>\n",
       "      <td>Milan</td>\n",
       "      <td>Y</td>\n",
       "    </tr>\n",
       "    <tr>\n",
       "      <th>3</th>\n",
       "      <td>https://5newsonline.com</td>\n",
       "      <td>Frankfurt</td>\n",
       "      <td>Y</td>\n",
       "    </tr>\n",
       "    <tr>\n",
       "      <th>4</th>\n",
       "      <td>https://5newsonline.com</td>\n",
       "      <td>Vancouver</td>\n",
       "      <td>Y</td>\n",
       "    </tr>\n",
       "  </tbody>\n",
       "</table>\n",
       "</div>"
      ],
      "text/plain": [
       "                   Website       City Available\n",
       "0  https://5newsonline.com    Toronto         Y\n",
       "1  https://5newsonline.com     London         Y\n",
       "2  https://5newsonline.com      Milan         Y\n",
       "3  https://5newsonline.com  Frankfurt         Y\n",
       "4  https://5newsonline.com  Vancouver         Y"
      ]
     },
     "execution_count": 7,
     "metadata": {},
     "output_type": "execute_result"
    }
   ],
   "source": [
    "df.rename(columns = {\"0\": \"Website\", \"1\": \"City\", \"2\": \"Available\"}, inplace = True)\n",
    "df.head()"
   ]
  },
  {
   "cell_type": "code",
   "execution_count": 8,
   "metadata": {
    "collapsed": true
   },
   "outputs": [],
   "source": [
    "df.to_csv(\"website_availabilities_1.csv\")"
   ]
  },
  {
   "cell_type": "code",
   "execution_count": 2,
   "metadata": {},
   "outputs": [
    {
     "name": "stderr",
     "output_type": "stream",
     "text": [
      "/Users/lilybhattacharjee/anaconda3/lib/python3.6/site-packages/pandas/core/frame.py:6211: FutureWarning: Sorting because non-concatenation axis is not aligned. A future version\n",
      "of pandas will change to not sort by default.\n",
      "\n",
      "To accept the future behavior, pass 'sort=False'.\n",
      "\n",
      "To retain the current behavior and silence the warning, pass 'sort=True'.\n",
      "\n",
      "  sort=sort)\n"
     ]
    }
   ],
   "source": [
    "num_files = 3\n",
    "combined_df = None\n",
    "for i in range(num_files):\n",
    "    new_df = pd.read_csv(\"website_availabilities_\" + str(i + 1) + \".csv\")\n",
    "    if i == 0:\n",
    "        combined_df = new_df\n",
    "    else:\n",
    "        combined_df = combined_df.append(new_df)"
   ]
  },
  {
   "cell_type": "code",
   "execution_count": 3,
   "metadata": {},
   "outputs": [
    {
     "data": {
      "text/html": [
       "<div>\n",
       "<style scoped>\n",
       "    .dataframe tbody tr th:only-of-type {\n",
       "        vertical-align: middle;\n",
       "    }\n",
       "\n",
       "    .dataframe tbody tr th {\n",
       "        vertical-align: top;\n",
       "    }\n",
       "\n",
       "    .dataframe thead th {\n",
       "        text-align: right;\n",
       "    }\n",
       "</style>\n",
       "<table border=\"1\" class=\"dataframe\">\n",
       "  <thead>\n",
       "    <tr style=\"text-align: right;\">\n",
       "      <th></th>\n",
       "      <th>0</th>\n",
       "      <th>1</th>\n",
       "      <th>2</th>\n",
       "      <th>Available</th>\n",
       "      <th>City</th>\n",
       "      <th>Unnamed: 0</th>\n",
       "      <th>Website</th>\n",
       "    </tr>\n",
       "  </thead>\n",
       "  <tbody>\n",
       "    <tr>\n",
       "      <th>0</th>\n",
       "      <td>NaN</td>\n",
       "      <td>NaN</td>\n",
       "      <td>NaN</td>\n",
       "      <td>Y</td>\n",
       "      <td>Toronto</td>\n",
       "      <td>0</td>\n",
       "      <td>https://5newsonline.com</td>\n",
       "    </tr>\n",
       "    <tr>\n",
       "      <th>1</th>\n",
       "      <td>NaN</td>\n",
       "      <td>NaN</td>\n",
       "      <td>NaN</td>\n",
       "      <td>Y</td>\n",
       "      <td>London</td>\n",
       "      <td>1</td>\n",
       "      <td>https://5newsonline.com</td>\n",
       "    </tr>\n",
       "    <tr>\n",
       "      <th>2</th>\n",
       "      <td>NaN</td>\n",
       "      <td>NaN</td>\n",
       "      <td>NaN</td>\n",
       "      <td>Y</td>\n",
       "      <td>Milan</td>\n",
       "      <td>2</td>\n",
       "      <td>https://5newsonline.com</td>\n",
       "    </tr>\n",
       "    <tr>\n",
       "      <th>3</th>\n",
       "      <td>NaN</td>\n",
       "      <td>NaN</td>\n",
       "      <td>NaN</td>\n",
       "      <td>Y</td>\n",
       "      <td>Frankfurt</td>\n",
       "      <td>3</td>\n",
       "      <td>https://5newsonline.com</td>\n",
       "    </tr>\n",
       "    <tr>\n",
       "      <th>4</th>\n",
       "      <td>NaN</td>\n",
       "      <td>NaN</td>\n",
       "      <td>NaN</td>\n",
       "      <td>Y</td>\n",
       "      <td>Vancouver</td>\n",
       "      <td>4</td>\n",
       "      <td>https://5newsonline.com</td>\n",
       "    </tr>\n",
       "  </tbody>\n",
       "</table>\n",
       "</div>"
      ],
      "text/plain": [
       "     0    1    2 Available       City  Unnamed: 0                  Website\n",
       "0  NaN  NaN  NaN         Y    Toronto           0  https://5newsonline.com\n",
       "1  NaN  NaN  NaN         Y     London           1  https://5newsonline.com\n",
       "2  NaN  NaN  NaN         Y      Milan           2  https://5newsonline.com\n",
       "3  NaN  NaN  NaN         Y  Frankfurt           3  https://5newsonline.com\n",
       "4  NaN  NaN  NaN         Y  Vancouver           4  https://5newsonline.com"
      ]
     },
     "execution_count": 3,
     "metadata": {},
     "output_type": "execute_result"
    }
   ],
   "source": [
    "combined_df.head()"
   ]
  },
  {
   "cell_type": "code",
   "execution_count": 5,
   "metadata": {},
   "outputs": [
    {
     "data": {
      "text/html": [
       "<div>\n",
       "<style scoped>\n",
       "    .dataframe tbody tr th:only-of-type {\n",
       "        vertical-align: middle;\n",
       "    }\n",
       "\n",
       "    .dataframe tbody tr th {\n",
       "        vertical-align: top;\n",
       "    }\n",
       "\n",
       "    .dataframe thead th {\n",
       "        text-align: right;\n",
       "    }\n",
       "</style>\n",
       "<table border=\"1\" class=\"dataframe\">\n",
       "  <thead>\n",
       "    <tr style=\"text-align: right;\">\n",
       "      <th></th>\n",
       "      <th>Available</th>\n",
       "      <th>City</th>\n",
       "      <th>Website</th>\n",
       "    </tr>\n",
       "  </thead>\n",
       "  <tbody>\n",
       "    <tr>\n",
       "      <th>0</th>\n",
       "      <td>Y</td>\n",
       "      <td>Toronto</td>\n",
       "      <td>https://5newsonline.com</td>\n",
       "    </tr>\n",
       "    <tr>\n",
       "      <th>1</th>\n",
       "      <td>Y</td>\n",
       "      <td>London</td>\n",
       "      <td>https://5newsonline.com</td>\n",
       "    </tr>\n",
       "    <tr>\n",
       "      <th>2</th>\n",
       "      <td>Y</td>\n",
       "      <td>Milan</td>\n",
       "      <td>https://5newsonline.com</td>\n",
       "    </tr>\n",
       "    <tr>\n",
       "      <th>3</th>\n",
       "      <td>Y</td>\n",
       "      <td>Frankfurt</td>\n",
       "      <td>https://5newsonline.com</td>\n",
       "    </tr>\n",
       "    <tr>\n",
       "      <th>4</th>\n",
       "      <td>Y</td>\n",
       "      <td>Vancouver</td>\n",
       "      <td>https://5newsonline.com</td>\n",
       "    </tr>\n",
       "  </tbody>\n",
       "</table>\n",
       "</div>"
      ],
      "text/plain": [
       "  Available       City                  Website\n",
       "0         Y    Toronto  https://5newsonline.com\n",
       "1         Y     London  https://5newsonline.com\n",
       "2         Y      Milan  https://5newsonline.com\n",
       "3         Y  Frankfurt  https://5newsonline.com\n",
       "4         Y  Vancouver  https://5newsonline.com"
      ]
     },
     "execution_count": 5,
     "metadata": {},
     "output_type": "execute_result"
    }
   ],
   "source": [
    "combined_df.drop(columns = [\"Unnamed: 0\", \"0\", \"1\", \"2\"], inplace = True)\n",
    "combined_df.head()"
   ]
  },
  {
   "cell_type": "code",
   "execution_count": 6,
   "metadata": {},
   "outputs": [
    {
     "data": {
      "text/plain": [
       "2867"
      ]
     },
     "execution_count": 6,
     "metadata": {},
     "output_type": "execute_result"
    }
   ],
   "source": [
    "len(combined_df)"
   ]
  },
  {
   "cell_type": "code",
   "execution_count": 7,
   "metadata": {},
   "outputs": [
    {
     "data": {
      "text/html": [
       "<div>\n",
       "<style scoped>\n",
       "    .dataframe tbody tr th:only-of-type {\n",
       "        vertical-align: middle;\n",
       "    }\n",
       "\n",
       "    .dataframe tbody tr th {\n",
       "        vertical-align: top;\n",
       "    }\n",
       "\n",
       "    .dataframe thead th {\n",
       "        text-align: right;\n",
       "    }\n",
       "</style>\n",
       "<table border=\"1\" class=\"dataframe\">\n",
       "  <thead>\n",
       "    <tr style=\"text-align: right;\">\n",
       "      <th></th>\n",
       "      <th>City</th>\n",
       "      <th>Country</th>\n",
       "    </tr>\n",
       "  </thead>\n",
       "  <tbody>\n",
       "    <tr>\n",
       "      <th>0</th>\n",
       "      <td>New Delhi</td>\n",
       "      <td>India</td>\n",
       "    </tr>\n",
       "    <tr>\n",
       "      <th>1</th>\n",
       "      <td>Tampa</td>\n",
       "      <td>United States</td>\n",
       "    </tr>\n",
       "    <tr>\n",
       "      <th>2</th>\n",
       "      <td>Amsterdam</td>\n",
       "      <td>Netherlands</td>\n",
       "    </tr>\n",
       "    <tr>\n",
       "      <th>3</th>\n",
       "      <td>Frankfurt</td>\n",
       "      <td>Germany</td>\n",
       "    </tr>\n",
       "    <tr>\n",
       "      <th>4</th>\n",
       "      <td>Edinburgh</td>\n",
       "      <td>Scotland</td>\n",
       "    </tr>\n",
       "  </tbody>\n",
       "</table>\n",
       "</div>"
      ],
      "text/plain": [
       "        City        Country\n",
       "0  New Delhi          India\n",
       "1      Tampa  United States\n",
       "2  Amsterdam    Netherlands\n",
       "3  Frankfurt        Germany\n",
       "4  Edinburgh       Scotland"
      ]
     },
     "execution_count": 7,
     "metadata": {},
     "output_type": "execute_result"
    }
   ],
   "source": [
    "cities_to_countries = pd.read_csv(\"cities_to_countries.csv\")\n",
    "cities_to_countries.head()"
   ]
  },
  {
   "cell_type": "code",
   "execution_count": 9,
   "metadata": {},
   "outputs": [
    {
     "data": {
      "text/html": [
       "<div>\n",
       "<style scoped>\n",
       "    .dataframe tbody tr th:only-of-type {\n",
       "        vertical-align: middle;\n",
       "    }\n",
       "\n",
       "    .dataframe tbody tr th {\n",
       "        vertical-align: top;\n",
       "    }\n",
       "\n",
       "    .dataframe thead th {\n",
       "        text-align: right;\n",
       "    }\n",
       "</style>\n",
       "<table border=\"1\" class=\"dataframe\">\n",
       "  <thead>\n",
       "    <tr style=\"text-align: right;\">\n",
       "      <th></th>\n",
       "      <th>Available</th>\n",
       "      <th>City</th>\n",
       "      <th>Website</th>\n",
       "      <th>Country</th>\n",
       "    </tr>\n",
       "  </thead>\n",
       "  <tbody>\n",
       "    <tr>\n",
       "      <th>0</th>\n",
       "      <td>Y</td>\n",
       "      <td>Toronto</td>\n",
       "      <td>https://5newsonline.com</td>\n",
       "      <td>Canada</td>\n",
       "    </tr>\n",
       "    <tr>\n",
       "      <th>1</th>\n",
       "      <td>Y</td>\n",
       "      <td>Toronto</td>\n",
       "      <td>https://www.99acres.com</td>\n",
       "      <td>Canada</td>\n",
       "    </tr>\n",
       "    <tr>\n",
       "      <th>2</th>\n",
       "      <td>Y</td>\n",
       "      <td>Toronto</td>\n",
       "      <td>https://www.aberdeennews.com</td>\n",
       "      <td>Canada</td>\n",
       "    </tr>\n",
       "    <tr>\n",
       "      <th>3</th>\n",
       "      <td>Y</td>\n",
       "      <td>Toronto</td>\n",
       "      <td>http://abington.wickedlocal.com</td>\n",
       "      <td>Canada</td>\n",
       "    </tr>\n",
       "    <tr>\n",
       "      <th>4</th>\n",
       "      <td>Y</td>\n",
       "      <td>Toronto</td>\n",
       "      <td>https://www.dailyiowegian.com</td>\n",
       "      <td>Canada</td>\n",
       "    </tr>\n",
       "  </tbody>\n",
       "</table>\n",
       "</div>"
      ],
      "text/plain": [
       "  Available     City                          Website Country\n",
       "0         Y  Toronto          https://5newsonline.com  Canada\n",
       "1         Y  Toronto          https://www.99acres.com  Canada\n",
       "2         Y  Toronto     https://www.aberdeennews.com  Canada\n",
       "3         Y  Toronto  http://abington.wickedlocal.com  Canada\n",
       "4         Y  Toronto    https://www.dailyiowegian.com  Canada"
      ]
     },
     "execution_count": 9,
     "metadata": {},
     "output_type": "execute_result"
    }
   ],
   "source": [
    "country_avail = combined_df.merge(right = cities_to_countries, on = 'City', how = 'outer')\n",
    "country_avail.head()"
   ]
  },
  {
   "cell_type": "code",
   "execution_count": 11,
   "metadata": {},
   "outputs": [
    {
     "data": {
      "text/plain": [
       "26"
      ]
     },
     "execution_count": 11,
     "metadata": {},
     "output_type": "execute_result"
    }
   ],
   "source": [
    "country_avail['Country'].nunique()"
   ]
  },
  {
   "cell_type": "code",
   "execution_count": 12,
   "metadata": {
    "collapsed": true
   },
   "outputs": [],
   "source": [
    "country_avail.to_csv('combined_country_availabilities.csv')"
   ]
  },
  {
   "cell_type": "code",
   "execution_count": 78,
   "metadata": {
    "collapsed": true
   },
   "outputs": [],
   "source": [
    "def calculate_avail_score(country1, country2):\n",
    "    country1_data = country_avail.loc[country_avail['Country'] == country1]\n",
    "    country2_data = country_avail.loc[country_avail['Country'] == country2]\n",
    "    c1_avail, c2_avail, c1_not_avail, c2_not_avail = country1 + '_avail', country2 + '_avail', country1 + '_not_avail', country2 + '_not_avail'\n",
    "    country1_data[c1_avail], country1_data[c1_not_avail] = np.where(country1_data['Available']=='Y', 1, 0), np.where(country1_data['Available']=='N', 1, 0)\n",
    "    country2_data[c2_avail], country2_data[c2_not_avail] = np.where(country2_data['Available']=='Y', 1, 0), np.where(country2_data['Available']=='N', 1, 0)\n",
    "    country1_site_group = country1_data.groupby('Website').agg({c1_avail: 'sum', c1_not_avail: 'sum'})\n",
    "    country2_site_group = country2_data.groupby('Website').agg({c2_avail: 'sum', c2_not_avail: 'sum'})\n",
    "    combined_site_group = country1_site_group.merge(right = country2_site_group, on = 'Website', how = 'outer')\n",
    "    combined_site_group['c1_rate_avail'] = combined_site_group[c1_avail] / (combined_site_group[c1_avail] + combined_site_group[c1_not_avail])\n",
    "    combined_site_group['c2_rate_avail'] = combined_site_group[c2_avail] / (combined_site_group[c2_avail] + combined_site_group[c2_not_avail])\n",
    "    combined_site_group['compare_avail'] = 1 - abs(combined_site_group['c1_rate_avail'] - combined_site_group['c2_rate_avail'])\n",
    "    return combined_site_group['compare_avail'].mean()"
   ]
  },
  {
   "cell_type": "code",
   "execution_count": 77,
   "metadata": {},
   "outputs": [
    {
     "name": "stdout",
     "output_type": "stream",
     "text": [
      "                                 India_avail  India_not_avail  \\\n",
      "Website                                                         \n",
      "http://abington.wickedlocal.com            1                0   \n",
      "http://agcanada.com                        1                0   \n",
      "http://albertafarmexpress.ca               0                1   \n",
      "http://allston.wickedlocal.com             1                0   \n",
      "http://americanmilitarynews.com            1                0   \n",
      "\n",
      "                                 United States_avail  United States_not_avail  \\\n",
      "Website                                                                         \n",
      "http://abington.wickedlocal.com                    6                        0   \n",
      "http://agcanada.com                                6                        0   \n",
      "http://albertafarmexpress.ca                       0                        6   \n",
      "http://allston.wickedlocal.com                     5                        1   \n",
      "http://americanmilitarynews.com                    6                        0   \n",
      "\n",
      "                                 c1_rate_avail  c2_rate_avail  compare_avail  \n",
      "Website                                                                       \n",
      "http://abington.wickedlocal.com            1.0       1.000000       1.000000  \n",
      "http://agcanada.com                        1.0       1.000000       1.000000  \n",
      "http://albertafarmexpress.ca               0.0       0.000000       1.000000  \n",
      "http://allston.wickedlocal.com             1.0       0.833333       0.833333  \n",
      "http://americanmilitarynews.com            1.0       1.000000       1.000000  \n"
     ]
    },
    {
     "name": "stderr",
     "output_type": "stream",
     "text": [
      "/Users/lilybhattacharjee/anaconda3/lib/python3.6/site-packages/ipykernel_launcher.py:5: SettingWithCopyWarning: \n",
      "A value is trying to be set on a copy of a slice from a DataFrame.\n",
      "Try using .loc[row_indexer,col_indexer] = value instead\n",
      "\n",
      "See the caveats in the documentation: http://pandas.pydata.org/pandas-docs/stable/indexing.html#indexing-view-versus-copy\n",
      "  \"\"\"\n",
      "/Users/lilybhattacharjee/anaconda3/lib/python3.6/site-packages/ipykernel_launcher.py:6: SettingWithCopyWarning: \n",
      "A value is trying to be set on a copy of a slice from a DataFrame.\n",
      "Try using .loc[row_indexer,col_indexer] = value instead\n",
      "\n",
      "See the caveats in the documentation: http://pandas.pydata.org/pandas-docs/stable/indexing.html#indexing-view-versus-copy\n",
      "  \n"
     ]
    },
    {
     "data": {
      "text/plain": [
       "0.9861111111111112"
      ]
     },
     "execution_count": 77,
     "metadata": {},
     "output_type": "execute_result"
    }
   ],
   "source": [
    "calculate_avail_score('India', 'United States')"
   ]
  },
  {
   "cell_type": "code",
   "execution_count": 76,
   "metadata": {},
   "outputs": [
    {
     "data": {
      "text/plain": [
       "['India',\n",
       " 'United States',\n",
       " 'Netherlands',\n",
       " 'Germany',\n",
       " 'Scotland',\n",
       " 'New Zealand',\n",
       " 'China',\n",
       " 'Ireland',\n",
       " 'Sweden',\n",
       " 'Belgium',\n",
       " 'Argentina',\n",
       " 'Indonesia',\n",
       " 'Mexico',\n",
       " 'France',\n",
       " 'Italy',\n",
       " 'England',\n",
       " 'Norway',\n",
       " 'Japan',\n",
       " 'South Korea',\n",
       " 'Israel',\n",
       " 'Brazil',\n",
       " 'Austria',\n",
       " 'Czech Republic',\n",
       " 'Australia',\n",
       " 'Singapore',\n",
       " 'Canada']"
      ]
     },
     "execution_count": 76,
     "metadata": {},
     "output_type": "execute_result"
    }
   ],
   "source": [
    "unique_countries = list(cities_to_countries['Country'].unique())\n",
    "unique_countries"
   ]
  },
  {
   "cell_type": "code",
   "execution_count": 84,
   "metadata": {},
   "outputs": [
    {
     "data": {
      "text/plain": [
       "[{'character': 'India', 'id': 0, 'influence': 1},\n",
       " {'character': 'United States', 'id': 1, 'influence': 1},\n",
       " {'character': 'Netherlands', 'id': 2, 'influence': 1},\n",
       " {'character': 'Germany', 'id': 3, 'influence': 1},\n",
       " {'character': 'Scotland', 'id': 4, 'influence': 1}]"
      ]
     },
     "execution_count": 84,
     "metadata": {},
     "output_type": "execute_result"
    }
   ],
   "source": [
    "nodes = []\n",
    "country_ids = dict(zip(unique_countries, [i for i in range(len(unique_countries))]))\n",
    "id_countries = dict(zip([i for i in range(len(unique_countries))], unique_countries))\n",
    "for c in unique_countries:\n",
    "    nodes.append({\"character\": c, \"id\": country_ids[c], \"influence\": 1})\n",
    "nodes[:5]"
   ]
  },
  {
   "cell_type": "code",
   "execution_count": 99,
   "metadata": {},
   "outputs": [
    {
     "name": "stderr",
     "output_type": "stream",
     "text": [
      "/Users/lilybhattacharjee/anaconda3/lib/python3.6/site-packages/ipykernel_launcher.py:5: SettingWithCopyWarning: \n",
      "A value is trying to be set on a copy of a slice from a DataFrame.\n",
      "Try using .loc[row_indexer,col_indexer] = value instead\n",
      "\n",
      "See the caveats in the documentation: http://pandas.pydata.org/pandas-docs/stable/indexing.html#indexing-view-versus-copy\n",
      "  \"\"\"\n",
      "/Users/lilybhattacharjee/anaconda3/lib/python3.6/site-packages/ipykernel_launcher.py:6: SettingWithCopyWarning: \n",
      "A value is trying to be set on a copy of a slice from a DataFrame.\n",
      "Try using .loc[row_indexer,col_indexer] = value instead\n",
      "\n",
      "See the caveats in the documentation: http://pandas.pydata.org/pandas-docs/stable/indexing.html#indexing-view-versus-copy\n",
      "  \n"
     ]
    },
    {
     "data": {
      "text/plain": [
       "[{'source': 0, 'target': 1, 'weight': 9.86111111111111},\n",
       " {'source': 0, 'target': 2, 'weight': 4.166666666666667},\n",
       " {'source': 0, 'target': 3, 'weight': 3.333333333333333},\n",
       " {'source': 0, 'target': 4, 'weight': 3.611111111111111},\n",
       " {'source': 0, 'target': 5, 'weight': 10.0}]"
      ]
     },
     "execution_count": 99,
     "metadata": {},
     "output_type": "execute_result"
    }
   ],
   "source": [
    "links = []\n",
    "for i in range(5): #len(unique_countries)):\n",
    "    for j in range(i + 1, len(unique_countries)):\n",
    "        country1 = unique_countries[i]\n",
    "        country2 = unique_countries[j]\n",
    "        score = 10 * calculate_avail_score(country1, country2)\n",
    "        if (type(score) == int or type(score) == float) and (not np.isnan(score)):\n",
    "            links.append({\n",
    "                \"source\": country_ids[country1],\n",
    "                \"target\": country_ids[country2],\n",
    "                \"weight\": score\n",
    "            })\n",
    "links[:5]"
   ]
  },
  {
   "cell_type": "code",
   "execution_count": 102,
   "metadata": {},
   "outputs": [],
   "source": [
    "with open(\"../graph_data_01-28-2020.json\", \"w\") as file:\n",
    "    graph_dict = {\"nodes\": nodes, \"links\": links}\n",
    "    result = json.dumps(graph_dict)\n",
    "    file.write(result)"
   ]
  },
  {
   "cell_type": "code",
   "execution_count": null,
   "metadata": {
    "collapsed": true
   },
   "outputs": [],
   "source": []
  }
 ],
 "metadata": {
  "kernelspec": {
   "display_name": "Python 3",
   "language": "python",
   "name": "python3"
  },
  "language_info": {
   "codemirror_mode": {
    "name": "ipython",
    "version": 3
   },
   "file_extension": ".py",
   "mimetype": "text/x-python",
   "name": "python",
   "nbconvert_exporter": "python",
   "pygments_lexer": "ipython3",
   "version": "3.6.3"
  }
 },
 "nbformat": 4,
 "nbformat_minor": 2
}
