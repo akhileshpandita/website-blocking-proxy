{
 "cells": [
  {
   "cell_type": "code",
   "execution_count": 96,
   "metadata": {
    "collapsed": true
   },
   "outputs": [],
   "source": [
    "import pandas as pd\n",
    "import bs4\n",
    "from bs4 import BeautifulSoup\n",
    "import requests\n",
    "import string"
   ]
  },
  {
   "cell_type": "code",
   "execution_count": 2,
   "metadata": {
    "collapsed": true
   },
   "outputs": [],
   "source": [
    "# Set headers\n",
    "headers = requests.utils.default_headers()\n",
    "headers.update({ 'User-Agent': 'Mozilla/5.0 (X11; Ubuntu; Linux x86_64; rv:52.0) Gecko/20100101 Firefox/52.0'})"
   ]
  },
  {
   "cell_type": "code",
   "execution_count": 3,
   "metadata": {
    "collapsed": true
   },
   "outputs": [],
   "source": [
    "url = \"https://cyber.harvard.edu/filtering/china/China-A.html\"\n",
    "req = requests.get(url, headers)\n",
    "china_a = BeautifulSoup(req.content, 'html.parser')"
   ]
  },
  {
   "cell_type": "code",
   "execution_count": 33,
   "metadata": {},
   "outputs": [
    {
     "data": {
      "text/plain": [
       "'<html>\\n <head>\\n  <title>\\n   Sites Blocked in China\\n  </title>\\n  <meta content=\"text-html; charset=ut'"
      ]
     },
     "execution_count": 33,
     "metadata": {},
     "output_type": "execute_result"
    }
   ],
   "source": [
    "china_a.prettify()[:100]"
   ]
  },
  {
   "cell_type": "code",
   "execution_count": 16,
   "metadata": {},
   "outputs": [
    {
     "data": {
      "text/plain": [
       "855"
      ]
     },
     "execution_count": 16,
     "metadata": {},
     "output_type": "execute_result"
    }
   ],
   "source": [
    "len(china_a.find_all('hr'))"
   ]
  },
  {
   "cell_type": "code",
   "execution_count": 40,
   "metadata": {},
   "outputs": [
    {
     "data": {
      "text/plain": [
       "<a href=\"http://a0006.in2000.com\">a0006.in2000.com</a>"
      ]
     },
     "execution_count": 40,
     "metadata": {},
     "output_type": "execute_result"
    }
   ],
   "source": [
    "china_a.findAll('a')[7]"
   ]
  },
  {
   "cell_type": "code",
   "execution_count": 21,
   "metadata": {},
   "outputs": [
    {
     "data": {
      "text/plain": [
       "<hr/>"
      ]
     },
     "execution_count": 21,
     "metadata": {},
     "output_type": "execute_result"
    }
   ],
   "source": [
    "china_a.find_all('hr')[2]"
   ]
  },
  {
   "cell_type": "code",
   "execution_count": 110,
   "metadata": {},
   "outputs": [
    {
     "data": {
      "text/plain": [
       "['A',\n",
       " 'B',\n",
       " 'C',\n",
       " 'D',\n",
       " 'E',\n",
       " 'F',\n",
       " 'G',\n",
       " 'H',\n",
       " 'I',\n",
       " 'J',\n",
       " 'K',\n",
       " 'L',\n",
       " 'M',\n",
       " 'N',\n",
       " 'O',\n",
       " 'P',\n",
       " 'Q',\n",
       " 'R',\n",
       " 'S',\n",
       " 'T',\n",
       " 'U',\n",
       " 'V',\n",
       " 'W',\n",
       " 'X',\n",
       " 'Y',\n",
       " 'Z']"
      ]
     },
     "execution_count": 110,
     "metadata": {},
     "output_type": "execute_result"
    }
   ],
   "source": [
    "list(string.ascii_uppercase)"
   ]
  },
  {
   "cell_type": "code",
   "execution_count": 116,
   "metadata": {},
   "outputs": [
    {
     "name": "stdout",
     "output_type": "stream",
     "text": [
      "15911\n",
      "15913\n"
     ]
    }
   ],
   "source": [
    "all_urls = []\n",
    "all_blocking_quots = []\n",
    "for i in list(string.ascii_uppercase) + ['09']:\n",
    "    url = \"https://cyber.harvard.edu/filtering/china/China-\" + i + \".html\"\n",
    "    req = requests.get(url, headers)\n",
    "    curr_china = BeautifulSoup(req.content, 'html.parser')\n",
    "    all_urls += curr_china.findAll(lambda tag: tag.name == \"a\" and \n",
    "                               len(tag.attrs) == 1 and \n",
    "                               'href' in tag.attrs)\n",
    "    all_blocking_quots += curr_china.findAll(lambda tag: tag.name == \"img\" and \n",
    "                                        len(tag.attrs) == 2 and\n",
    "                                        \"src\" in tag.attrs and \n",
    "                                        \"alt\" in tag.attrs)\n",
    "\n",
    "urls =  []\n",
    "blocking_quots = []\n",
    "\n",
    "for i in range(len(all_urls)):\n",
    "    url = all_urls[i]\n",
    "    if isinstance(url, bs4.element.Tag):\n",
    "        internal_text = url.get_text()\n",
    "        if \".\" in internal_text: urls.append(internal_text)\n",
    "    url = url.next_sibling\n",
    "    \n",
    "for i in range(len(all_blocking_quots)):\n",
    "    blocking_quots.append(all_blocking_quots[i]['alt'])\n",
    "\n",
    "print(len(urls))\n",
    "print(len(blocking_quots))"
   ]
  },
  {
   "cell_type": "code",
   "execution_count": 118,
   "metadata": {},
   "outputs": [
    {
     "data": {
      "text/plain": [
       "(['www.999adult.com',\n",
       "  '99chat.cjb.net',\n",
       "  'www.99ew.com',\n",
       "  'www.9u9u.com',\n",
       "  'www.9year.org.tw'],\n",
       " ['Inaccessible in every test',\n",
       "  'Inaccessible significantly more often than not',\n",
       "  'Inaccessible significantly more often than not',\n",
       "  'Sometimes inaccessible',\n",
       "  'Inaccessible more often than not'])"
      ]
     },
     "execution_count": 118,
     "metadata": {},
     "output_type": "execute_result"
    }
   ],
   "source": [
    "urls[-5:], blocking_quots[-5:]"
   ]
  },
  {
   "cell_type": "code",
   "execution_count": 119,
   "metadata": {},
   "outputs": [
    {
     "data": {
      "text/html": [
       "<div>\n",
       "<style scoped>\n",
       "    .dataframe tbody tr th:only-of-type {\n",
       "        vertical-align: middle;\n",
       "    }\n",
       "\n",
       "    .dataframe tbody tr th {\n",
       "        vertical-align: top;\n",
       "    }\n",
       "\n",
       "    .dataframe thead th {\n",
       "        text-align: right;\n",
       "    }\n",
       "</style>\n",
       "<table border=\"1\" class=\"dataframe\">\n",
       "  <thead>\n",
       "    <tr style=\"text-align: right;\">\n",
       "      <th></th>\n",
       "      <th>URL</th>\n",
       "      <th>Blocking Quotient</th>\n",
       "    </tr>\n",
       "  </thead>\n",
       "  <tbody>\n",
       "    <tr>\n",
       "      <th>0</th>\n",
       "      <td>www.a00.com</td>\n",
       "      <td>Inaccessible in every test</td>\n",
       "    </tr>\n",
       "    <tr>\n",
       "      <th>1</th>\n",
       "      <td>a0006.in2000.com</td>\n",
       "      <td>Inaccessible in every test</td>\n",
       "    </tr>\n",
       "    <tr>\n",
       "      <th>2</th>\n",
       "      <td>a1.sparklancer.com</td>\n",
       "      <td>Inaccessible in every test</td>\n",
       "    </tr>\n",
       "    <tr>\n",
       "      <th>3</th>\n",
       "      <td>a1234.uhome.net</td>\n",
       "      <td>Inaccessible in every test</td>\n",
       "    </tr>\n",
       "    <tr>\n",
       "      <th>4</th>\n",
       "      <td>a1234bc.uhome.net</td>\n",
       "      <td>Inaccessible in every test</td>\n",
       "    </tr>\n",
       "  </tbody>\n",
       "</table>\n",
       "</div>"
      ],
      "text/plain": [
       "                  URL           Blocking Quotient\n",
       "0         www.a00.com  Inaccessible in every test\n",
       "1    a0006.in2000.com  Inaccessible in every test\n",
       "2  a1.sparklancer.com  Inaccessible in every test\n",
       "3     a1234.uhome.net  Inaccessible in every test\n",
       "4   a1234bc.uhome.net  Inaccessible in every test"
      ]
     },
     "execution_count": 119,
     "metadata": {},
     "output_type": "execute_result"
    }
   ],
   "source": [
    "blocked_china = pd.DataFrame(list(zip(urls, blocking_quots)), \n",
    "               columns =['URL', 'Blocking Quotient'])\n",
    "blocked_china.head()"
   ]
  },
  {
   "cell_type": "code",
   "execution_count": 121,
   "metadata": {},
   "outputs": [
    {
     "data": {
      "text/plain": [
       "(15911, 2)"
      ]
     },
     "execution_count": 121,
     "metadata": {},
     "output_type": "execute_result"
    }
   ],
   "source": [
    "blocked_china.shape"
   ]
  },
  {
   "cell_type": "code",
   "execution_count": null,
   "metadata": {
    "collapsed": true
   },
   "outputs": [],
   "source": [
    "blocked_china.to"
   ]
  }
 ],
 "metadata": {
  "kernelspec": {
   "display_name": "Python 3",
   "language": "python",
   "name": "python3"
  },
  "language_info": {
   "codemirror_mode": {
    "name": "ipython",
    "version": 3
   },
   "file_extension": ".py",
   "mimetype": "text/x-python",
   "name": "python",
   "nbconvert_exporter": "python",
   "pygments_lexer": "ipython3",
   "version": "3.6.3"
  }
 },
 "nbformat": 4,
 "nbformat_minor": 2
}
