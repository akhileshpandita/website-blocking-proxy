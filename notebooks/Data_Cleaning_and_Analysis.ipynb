{
 "cells": [
  {
   "cell_type": "markdown",
   "metadata": {},
   "source": [
    "# 1a)  IMPORTING AND CLEANING THE DATA"
   ]
  },
  {
   "cell_type": "code",
   "execution_count": 1,
   "metadata": {},
   "outputs": [],
   "source": [
    "import pandas as pd\n",
    "import os\n",
    "import re\n",
    "import tldextract\n",
    "import numpy as np\n",
    "import matplotlib.pyplot as plt\n",
    "import seaborn as sns\n",
    "from scipy import spatial\n",
    "import os, time, http.client\n",
    "from termcolor import colored\n",
    "import sys\n",
    "import json\n",
    "from pygments import highlight, lexers, formatters\n",
    "import pycountry"
   ]
  },
  {
   "cell_type": "code",
   "execution_count": 4,
   "metadata": {},
   "outputs": [],
   "source": [
    "# iclabcombined = pd.read_csv(\"combined.csv\", dtype={'country' : str})"
   ]
  },
  {
   "cell_type": "markdown",
   "metadata": {},
   "source": [
    "Dropping the columns which were meant for internal use of ICLAB team and the header columns which have come into dataset via join"
   ]
  },
  {
   "cell_type": "code",
   "execution_count": null,
   "metadata": {},
   "outputs": [],
   "source": [
    "# iclabcombined.drop(['filename', 'as_number'], axis=1, inplace= True)\n",
    "\n",
    "# iclabcombined.drop([ 3078134,  4235577, 12411076, 18967078, 25041685, 26600938,\n",
    "#             28192530, 29460039, 30795516, 32569776, 34391850, 36093972,\n",
    "#             37793956, 39298313, 40934970, 42276914, 42976448, 44455181,\n",
    "#             47068048, 49383978], inplace = True)"
   ]
  },
  {
   "cell_type": "markdown",
   "metadata": {},
   "source": [
    "Correcting wrongly coded boolean values in the datasets"
   ]
  },
  {
   "cell_type": "code",
   "execution_count": null,
   "metadata": {},
   "outputs": [],
   "source": [
    "# iclabcombined['dns'].replace('false',False,inplace=True)\n",
    "# iclabcombined['dns_all'].replace('false',False,inplace=True)\n",
    "# iclabcombined['block'].replace('false',False,inplace=True)\n",
    "# iclabcombined['packet_updated'].replace('false',False,inplace=True)\n",
    "# iclabcombined['censored_updated'].replace('false',False,inplace=True)\n",
    "\n",
    "# iclabcombined['dns'].replace('true',True,inplace=True)\n",
    "# iclabcombined['dns_all'].replace('true',True,inplace=True)\n",
    "# iclabcombined['block'].replace('true',True,inplace=True)\n",
    "# iclabcombined['packet_updated'].replace('true',True,inplace=True)\n",
    "# iclabcombined['censored_updated'].replace('true',True,inplace=True)"
   ]
  },
  {
   "cell_type": "markdown",
   "metadata": {},
   "source": [
    "# 1b) Importing categories"
   ]
  },
  {
   "cell_type": "code",
   "execution_count": null,
   "metadata": {},
   "outputs": [],
   "source": [
    "# catDF = pd.read_fwf('type_domain_mapping.txt',header=None, names=[ \"Name\"], sep=\"\")"
   ]
  },
  {
   "cell_type": "code",
   "execution_count": null,
   "metadata": {},
   "outputs": [],
   "source": [
    "# catDF = catDF.Name.apply(lambda x: pd.Series(str(x).split(\"|||\"))).rename(columns={0:'category',1:'site'})"
   ]
  },
  {
   "cell_type": "code",
   "execution_count": null,
   "metadata": {},
   "outputs": [],
   "source": [
    "# allCategories = set(catDF['category'])\n",
    "# len(allCategories)"
   ]
  },
  {
   "cell_type": "code",
   "execution_count": null,
   "metadata": {},
   "outputs": [],
   "source": [
    "# ADDING CATEGORY AS A PERMANENT COLUMN\n",
    "\n",
    "# urlListAll = iclabcombined['url'].tolist()\n",
    "# sitesListAll = []\n",
    "\n",
    "# for item in urlListAll:\n",
    "#     domainAll = tldextract.extract(item)[1]\n",
    "#     suffixAll = tldextract.extract(item)[2]\n",
    "#     sitesListAll.append(domainAll + \".\" + suffixAll)"
   ]
  },
  {
   "cell_type": "code",
   "execution_count": null,
   "metadata": {},
   "outputs": [],
   "source": [
    "# iclabcombined['site'] = sitesListAll\n",
    "# iclabcombined = pd.merge(iclabcombined, catDF, on='site',how='left')"
   ]
  },
  {
   "cell_type": "code",
   "execution_count": null,
   "metadata": {},
   "outputs": [],
   "source": [
    "# PICKLING OUR DATA FOR FASTER ACCESS\n",
    "#iclabcombined.to_pickle('iclabcombined.pkl')"
   ]
  },
  {
   "cell_type": "markdown",
   "metadata": {},
   "source": [
    "==\n",
    "LOADING DATA FRAME FROM PICKLE=="
   ]
  },
  {
   "cell_type": "code",
   "execution_count": 6,
   "metadata": {},
   "outputs": [
    {
     "ename": "FileNotFoundError",
     "evalue": "[Errno 2] No such file or directory: 'iclabcombined.pkl'",
     "output_type": "error",
     "traceback": [
      "\u001b[0;31m---------------------------------------------------------------------------\u001b[0m",
      "\u001b[0;31mFileNotFoundError\u001b[0m                         Traceback (most recent call last)",
      "\u001b[0;32m~/.local/lib/python3.6/site-packages/pandas/io/pickle.py\u001b[0m in \u001b[0;36mtry_read\u001b[0;34m(path, encoding)\u001b[0m\n\u001b[1;32m    165\u001b[0m                 \u001b[0;31m# We want to silencce any warnings about, e.g. moved modules.\u001b[0m\u001b[0;34m\u001b[0m\u001b[0;34m\u001b[0m\u001b[0;34m\u001b[0m\u001b[0m\n\u001b[0;32m--> 166\u001b[0;31m                 \u001b[0;32mreturn\u001b[0m \u001b[0mread_wrapper\u001b[0m\u001b[0;34m(\u001b[0m\u001b[0;32mlambda\u001b[0m \u001b[0mf\u001b[0m\u001b[0;34m:\u001b[0m \u001b[0mpkl\u001b[0m\u001b[0;34m.\u001b[0m\u001b[0mload\u001b[0m\u001b[0;34m(\u001b[0m\u001b[0mf\u001b[0m\u001b[0;34m)\u001b[0m\u001b[0;34m)\u001b[0m\u001b[0;34m\u001b[0m\u001b[0;34m\u001b[0m\u001b[0m\n\u001b[0m\u001b[1;32m    167\u001b[0m         \u001b[0;32mexcept\u001b[0m \u001b[0mException\u001b[0m\u001b[0;34m:\u001b[0m\u001b[0;34m\u001b[0m\u001b[0;34m\u001b[0m\u001b[0m\n",
      "\u001b[0;32m~/.local/lib/python3.6/site-packages/pandas/io/pickle.py\u001b[0m in \u001b[0;36mread_wrapper\u001b[0;34m(func)\u001b[0m\n\u001b[1;32m    146\u001b[0m                             \u001b[0mcompression\u001b[0m\u001b[0;34m=\u001b[0m\u001b[0minferred_compression\u001b[0m\u001b[0;34m,\u001b[0m\u001b[0;34m\u001b[0m\u001b[0;34m\u001b[0m\u001b[0m\n\u001b[0;32m--> 147\u001b[0;31m                             is_text=False)\n\u001b[0m\u001b[1;32m    148\u001b[0m         \u001b[0;32mtry\u001b[0m\u001b[0;34m:\u001b[0m\u001b[0;34m\u001b[0m\u001b[0;34m\u001b[0m\u001b[0m\n",
      "\u001b[0;32m~/.local/lib/python3.6/site-packages/pandas/io/common.py\u001b[0m in \u001b[0;36m_get_handle\u001b[0;34m(path_or_buf, mode, encoding, compression, memory_map, is_text)\u001b[0m\n\u001b[1;32m    405\u001b[0m             \u001b[0;31m# Python 3 and binary mode\u001b[0m\u001b[0;34m\u001b[0m\u001b[0;34m\u001b[0m\u001b[0;34m\u001b[0m\u001b[0m\n\u001b[0;32m--> 406\u001b[0;31m             \u001b[0mf\u001b[0m \u001b[0;34m=\u001b[0m \u001b[0mopen\u001b[0m\u001b[0;34m(\u001b[0m\u001b[0mpath_or_buf\u001b[0m\u001b[0;34m,\u001b[0m \u001b[0mmode\u001b[0m\u001b[0;34m)\u001b[0m\u001b[0;34m\u001b[0m\u001b[0;34m\u001b[0m\u001b[0m\n\u001b[0m\u001b[1;32m    407\u001b[0m         \u001b[0mhandles\u001b[0m\u001b[0;34m.\u001b[0m\u001b[0mappend\u001b[0m\u001b[0;34m(\u001b[0m\u001b[0mf\u001b[0m\u001b[0;34m)\u001b[0m\u001b[0;34m\u001b[0m\u001b[0;34m\u001b[0m\u001b[0m\n",
      "\u001b[0;31mFileNotFoundError\u001b[0m: [Errno 2] No such file or directory: 'iclabcombined.pkl'",
      "\nDuring handling of the above exception, another exception occurred:\n",
      "\u001b[0;31mFileNotFoundError\u001b[0m                         Traceback (most recent call last)",
      "\u001b[0;32m~/.local/lib/python3.6/site-packages/pandas/io/pickle.py\u001b[0m in \u001b[0;36mtry_read\u001b[0;34m(path, encoding)\u001b[0m\n\u001b[1;32m    170\u001b[0m                 return read_wrapper(\n\u001b[0;32m--> 171\u001b[0;31m                     lambda f: pc.load(f, encoding=encoding, compat=False))\n\u001b[0m\u001b[1;32m    172\u001b[0m             \u001b[0;31m# compat pickle\u001b[0m\u001b[0;34m\u001b[0m\u001b[0;34m\u001b[0m\u001b[0;34m\u001b[0m\u001b[0m\n",
      "\u001b[0;32m~/.local/lib/python3.6/site-packages/pandas/io/pickle.py\u001b[0m in \u001b[0;36mread_wrapper\u001b[0;34m(func)\u001b[0m\n\u001b[1;32m    146\u001b[0m                             \u001b[0mcompression\u001b[0m\u001b[0;34m=\u001b[0m\u001b[0minferred_compression\u001b[0m\u001b[0;34m,\u001b[0m\u001b[0;34m\u001b[0m\u001b[0;34m\u001b[0m\u001b[0m\n\u001b[0;32m--> 147\u001b[0;31m                             is_text=False)\n\u001b[0m\u001b[1;32m    148\u001b[0m         \u001b[0;32mtry\u001b[0m\u001b[0;34m:\u001b[0m\u001b[0;34m\u001b[0m\u001b[0;34m\u001b[0m\u001b[0m\n",
      "\u001b[0;32m~/.local/lib/python3.6/site-packages/pandas/io/common.py\u001b[0m in \u001b[0;36m_get_handle\u001b[0;34m(path_or_buf, mode, encoding, compression, memory_map, is_text)\u001b[0m\n\u001b[1;32m    405\u001b[0m             \u001b[0;31m# Python 3 and binary mode\u001b[0m\u001b[0;34m\u001b[0m\u001b[0;34m\u001b[0m\u001b[0;34m\u001b[0m\u001b[0m\n\u001b[0;32m--> 406\u001b[0;31m             \u001b[0mf\u001b[0m \u001b[0;34m=\u001b[0m \u001b[0mopen\u001b[0m\u001b[0;34m(\u001b[0m\u001b[0mpath_or_buf\u001b[0m\u001b[0;34m,\u001b[0m \u001b[0mmode\u001b[0m\u001b[0;34m)\u001b[0m\u001b[0;34m\u001b[0m\u001b[0;34m\u001b[0m\u001b[0m\n\u001b[0m\u001b[1;32m    407\u001b[0m         \u001b[0mhandles\u001b[0m\u001b[0;34m.\u001b[0m\u001b[0mappend\u001b[0m\u001b[0;34m(\u001b[0m\u001b[0mf\u001b[0m\u001b[0;34m)\u001b[0m\u001b[0;34m\u001b[0m\u001b[0;34m\u001b[0m\u001b[0m\n",
      "\u001b[0;31mFileNotFoundError\u001b[0m: [Errno 2] No such file or directory: 'iclabcombined.pkl'",
      "\nDuring handling of the above exception, another exception occurred:\n",
      "\u001b[0;31mFileNotFoundError\u001b[0m                         Traceback (most recent call last)",
      "\u001b[0;32m~/.local/lib/python3.6/site-packages/pandas/io/pickle.py\u001b[0m in \u001b[0;36mread_pickle\u001b[0;34m(path, compression)\u001b[0m\n\u001b[1;32m    176\u001b[0m     \u001b[0;32mtry\u001b[0m\u001b[0;34m:\u001b[0m\u001b[0;34m\u001b[0m\u001b[0;34m\u001b[0m\u001b[0m\n\u001b[0;32m--> 177\u001b[0;31m         \u001b[0;32mreturn\u001b[0m \u001b[0mtry_read\u001b[0m\u001b[0;34m(\u001b[0m\u001b[0mpath\u001b[0m\u001b[0;34m)\u001b[0m\u001b[0;34m\u001b[0m\u001b[0;34m\u001b[0m\u001b[0m\n\u001b[0m\u001b[1;32m    178\u001b[0m     \u001b[0;32mexcept\u001b[0m\u001b[0;34m:\u001b[0m\u001b[0;34m\u001b[0m\u001b[0;34m\u001b[0m\u001b[0m\n",
      "\u001b[0;32m~/.local/lib/python3.6/site-packages/pandas/io/pickle.py\u001b[0m in \u001b[0;36mtry_read\u001b[0;34m(path, encoding)\u001b[0m\n\u001b[1;32m    174\u001b[0m                 return read_wrapper(\n\u001b[0;32m--> 175\u001b[0;31m                     lambda f: pc.load(f, encoding=encoding, compat=True))\n\u001b[0m\u001b[1;32m    176\u001b[0m     \u001b[0;32mtry\u001b[0m\u001b[0;34m:\u001b[0m\u001b[0;34m\u001b[0m\u001b[0;34m\u001b[0m\u001b[0m\n",
      "\u001b[0;32m~/.local/lib/python3.6/site-packages/pandas/io/pickle.py\u001b[0m in \u001b[0;36mread_wrapper\u001b[0;34m(func)\u001b[0m\n\u001b[1;32m    146\u001b[0m                             \u001b[0mcompression\u001b[0m\u001b[0;34m=\u001b[0m\u001b[0minferred_compression\u001b[0m\u001b[0;34m,\u001b[0m\u001b[0;34m\u001b[0m\u001b[0;34m\u001b[0m\u001b[0m\n\u001b[0;32m--> 147\u001b[0;31m                             is_text=False)\n\u001b[0m\u001b[1;32m    148\u001b[0m         \u001b[0;32mtry\u001b[0m\u001b[0;34m:\u001b[0m\u001b[0;34m\u001b[0m\u001b[0;34m\u001b[0m\u001b[0m\n",
      "\u001b[0;32m~/.local/lib/python3.6/site-packages/pandas/io/common.py\u001b[0m in \u001b[0;36m_get_handle\u001b[0;34m(path_or_buf, mode, encoding, compression, memory_map, is_text)\u001b[0m\n\u001b[1;32m    405\u001b[0m             \u001b[0;31m# Python 3 and binary mode\u001b[0m\u001b[0;34m\u001b[0m\u001b[0;34m\u001b[0m\u001b[0;34m\u001b[0m\u001b[0m\n\u001b[0;32m--> 406\u001b[0;31m             \u001b[0mf\u001b[0m \u001b[0;34m=\u001b[0m \u001b[0mopen\u001b[0m\u001b[0;34m(\u001b[0m\u001b[0mpath_or_buf\u001b[0m\u001b[0;34m,\u001b[0m \u001b[0mmode\u001b[0m\u001b[0;34m)\u001b[0m\u001b[0;34m\u001b[0m\u001b[0;34m\u001b[0m\u001b[0m\n\u001b[0m\u001b[1;32m    407\u001b[0m         \u001b[0mhandles\u001b[0m\u001b[0;34m.\u001b[0m\u001b[0mappend\u001b[0m\u001b[0;34m(\u001b[0m\u001b[0mf\u001b[0m\u001b[0;34m)\u001b[0m\u001b[0;34m\u001b[0m\u001b[0;34m\u001b[0m\u001b[0m\n",
      "\u001b[0;31mFileNotFoundError\u001b[0m: [Errno 2] No such file or directory: 'iclabcombined.pkl'",
      "\nDuring handling of the above exception, another exception occurred:\n",
      "\u001b[0;31mFileNotFoundError\u001b[0m                         Traceback (most recent call last)",
      "\u001b[0;32m~/.local/lib/python3.6/site-packages/pandas/io/pickle.py\u001b[0m in \u001b[0;36mtry_read\u001b[0;34m(path, encoding)\u001b[0m\n\u001b[1;32m    165\u001b[0m                 \u001b[0;31m# We want to silencce any warnings about, e.g. moved modules.\u001b[0m\u001b[0;34m\u001b[0m\u001b[0;34m\u001b[0m\u001b[0;34m\u001b[0m\u001b[0m\n\u001b[0;32m--> 166\u001b[0;31m                 \u001b[0;32mreturn\u001b[0m \u001b[0mread_wrapper\u001b[0m\u001b[0;34m(\u001b[0m\u001b[0;32mlambda\u001b[0m \u001b[0mf\u001b[0m\u001b[0;34m:\u001b[0m \u001b[0mpkl\u001b[0m\u001b[0;34m.\u001b[0m\u001b[0mload\u001b[0m\u001b[0;34m(\u001b[0m\u001b[0mf\u001b[0m\u001b[0;34m)\u001b[0m\u001b[0;34m)\u001b[0m\u001b[0;34m\u001b[0m\u001b[0;34m\u001b[0m\u001b[0m\n\u001b[0m\u001b[1;32m    167\u001b[0m         \u001b[0;32mexcept\u001b[0m \u001b[0mException\u001b[0m\u001b[0;34m:\u001b[0m\u001b[0;34m\u001b[0m\u001b[0;34m\u001b[0m\u001b[0m\n",
      "\u001b[0;32m~/.local/lib/python3.6/site-packages/pandas/io/pickle.py\u001b[0m in \u001b[0;36mread_wrapper\u001b[0;34m(func)\u001b[0m\n\u001b[1;32m    146\u001b[0m                             \u001b[0mcompression\u001b[0m\u001b[0;34m=\u001b[0m\u001b[0minferred_compression\u001b[0m\u001b[0;34m,\u001b[0m\u001b[0;34m\u001b[0m\u001b[0;34m\u001b[0m\u001b[0m\n\u001b[0;32m--> 147\u001b[0;31m                             is_text=False)\n\u001b[0m\u001b[1;32m    148\u001b[0m         \u001b[0;32mtry\u001b[0m\u001b[0;34m:\u001b[0m\u001b[0;34m\u001b[0m\u001b[0;34m\u001b[0m\u001b[0m\n",
      "\u001b[0;32m~/.local/lib/python3.6/site-packages/pandas/io/common.py\u001b[0m in \u001b[0;36m_get_handle\u001b[0;34m(path_or_buf, mode, encoding, compression, memory_map, is_text)\u001b[0m\n\u001b[1;32m    405\u001b[0m             \u001b[0;31m# Python 3 and binary mode\u001b[0m\u001b[0;34m\u001b[0m\u001b[0;34m\u001b[0m\u001b[0;34m\u001b[0m\u001b[0m\n\u001b[0;32m--> 406\u001b[0;31m             \u001b[0mf\u001b[0m \u001b[0;34m=\u001b[0m \u001b[0mopen\u001b[0m\u001b[0;34m(\u001b[0m\u001b[0mpath_or_buf\u001b[0m\u001b[0;34m,\u001b[0m \u001b[0mmode\u001b[0m\u001b[0;34m)\u001b[0m\u001b[0;34m\u001b[0m\u001b[0;34m\u001b[0m\u001b[0m\n\u001b[0m\u001b[1;32m    407\u001b[0m         \u001b[0mhandles\u001b[0m\u001b[0;34m.\u001b[0m\u001b[0mappend\u001b[0m\u001b[0;34m(\u001b[0m\u001b[0mf\u001b[0m\u001b[0;34m)\u001b[0m\u001b[0;34m\u001b[0m\u001b[0;34m\u001b[0m\u001b[0m\n",
      "\u001b[0;31mFileNotFoundError\u001b[0m: [Errno 2] No such file or directory: 'iclabcombined.pkl'",
      "\nDuring handling of the above exception, another exception occurred:\n",
      "\u001b[0;31mFileNotFoundError\u001b[0m                         Traceback (most recent call last)",
      "\u001b[0;32m~/.local/lib/python3.6/site-packages/pandas/io/pickle.py\u001b[0m in \u001b[0;36mtry_read\u001b[0;34m(path, encoding)\u001b[0m\n\u001b[1;32m    170\u001b[0m                 return read_wrapper(\n\u001b[0;32m--> 171\u001b[0;31m                     lambda f: pc.load(f, encoding=encoding, compat=False))\n\u001b[0m\u001b[1;32m    172\u001b[0m             \u001b[0;31m# compat pickle\u001b[0m\u001b[0;34m\u001b[0m\u001b[0;34m\u001b[0m\u001b[0;34m\u001b[0m\u001b[0m\n",
      "\u001b[0;32m~/.local/lib/python3.6/site-packages/pandas/io/pickle.py\u001b[0m in \u001b[0;36mread_wrapper\u001b[0;34m(func)\u001b[0m\n\u001b[1;32m    146\u001b[0m                             \u001b[0mcompression\u001b[0m\u001b[0;34m=\u001b[0m\u001b[0minferred_compression\u001b[0m\u001b[0;34m,\u001b[0m\u001b[0;34m\u001b[0m\u001b[0;34m\u001b[0m\u001b[0m\n\u001b[0;32m--> 147\u001b[0;31m                             is_text=False)\n\u001b[0m\u001b[1;32m    148\u001b[0m         \u001b[0;32mtry\u001b[0m\u001b[0;34m:\u001b[0m\u001b[0;34m\u001b[0m\u001b[0;34m\u001b[0m\u001b[0m\n",
      "\u001b[0;32m~/.local/lib/python3.6/site-packages/pandas/io/common.py\u001b[0m in \u001b[0;36m_get_handle\u001b[0;34m(path_or_buf, mode, encoding, compression, memory_map, is_text)\u001b[0m\n\u001b[1;32m    405\u001b[0m             \u001b[0;31m# Python 3 and binary mode\u001b[0m\u001b[0;34m\u001b[0m\u001b[0;34m\u001b[0m\u001b[0;34m\u001b[0m\u001b[0m\n\u001b[0;32m--> 406\u001b[0;31m             \u001b[0mf\u001b[0m \u001b[0;34m=\u001b[0m \u001b[0mopen\u001b[0m\u001b[0;34m(\u001b[0m\u001b[0mpath_or_buf\u001b[0m\u001b[0;34m,\u001b[0m \u001b[0mmode\u001b[0m\u001b[0;34m)\u001b[0m\u001b[0;34m\u001b[0m\u001b[0;34m\u001b[0m\u001b[0m\n\u001b[0m\u001b[1;32m    407\u001b[0m         \u001b[0mhandles\u001b[0m\u001b[0;34m.\u001b[0m\u001b[0mappend\u001b[0m\u001b[0;34m(\u001b[0m\u001b[0mf\u001b[0m\u001b[0;34m)\u001b[0m\u001b[0;34m\u001b[0m\u001b[0;34m\u001b[0m\u001b[0m\n",
      "\u001b[0;31mFileNotFoundError\u001b[0m: [Errno 2] No such file or directory: 'iclabcombined.pkl'",
      "\nDuring handling of the above exception, another exception occurred:\n",
      "\u001b[0;31mFileNotFoundError\u001b[0m                         Traceback (most recent call last)",
      "\u001b[0;32m<ipython-input-6-80073ad54d17>\u001b[0m in \u001b[0;36m<module>\u001b[0;34m()\u001b[0m\n\u001b[0;32m----> 1\u001b[0;31m \u001b[0miclabcombined\u001b[0m \u001b[0;34m=\u001b[0m \u001b[0mpd\u001b[0m\u001b[0;34m.\u001b[0m\u001b[0mread_pickle\u001b[0m\u001b[0;34m(\u001b[0m\u001b[0;34m'iclabcombined.pkl'\u001b[0m\u001b[0;34m)\u001b[0m\u001b[0;34m\u001b[0m\u001b[0;34m\u001b[0m\u001b[0m\n\u001b[0m",
      "\u001b[0;32m~/.local/lib/python3.6/site-packages/pandas/io/pickle.py\u001b[0m in \u001b[0;36mread_pickle\u001b[0;34m(path, compression)\u001b[0m\n\u001b[1;32m    178\u001b[0m     \u001b[0;32mexcept\u001b[0m\u001b[0;34m:\u001b[0m\u001b[0;34m\u001b[0m\u001b[0;34m\u001b[0m\u001b[0m\n\u001b[1;32m    179\u001b[0m         \u001b[0;32mif\u001b[0m \u001b[0mPY3\u001b[0m\u001b[0;34m:\u001b[0m\u001b[0;34m\u001b[0m\u001b[0;34m\u001b[0m\u001b[0m\n\u001b[0;32m--> 180\u001b[0;31m             \u001b[0;32mreturn\u001b[0m \u001b[0mtry_read\u001b[0m\u001b[0;34m(\u001b[0m\u001b[0mpath\u001b[0m\u001b[0;34m,\u001b[0m \u001b[0mencoding\u001b[0m\u001b[0;34m=\u001b[0m\u001b[0;34m'latin1'\u001b[0m\u001b[0;34m)\u001b[0m\u001b[0;34m\u001b[0m\u001b[0;34m\u001b[0m\u001b[0m\n\u001b[0m\u001b[1;32m    181\u001b[0m         \u001b[0;32mraise\u001b[0m\u001b[0;34m\u001b[0m\u001b[0;34m\u001b[0m\u001b[0m\n\u001b[1;32m    182\u001b[0m \u001b[0;34m\u001b[0m\u001b[0m\n",
      "\u001b[0;32m~/.local/lib/python3.6/site-packages/pandas/io/pickle.py\u001b[0m in \u001b[0;36mtry_read\u001b[0;34m(path, encoding)\u001b[0m\n\u001b[1;32m    173\u001b[0m             \u001b[0;32mexcept\u001b[0m\u001b[0;34m:\u001b[0m\u001b[0;34m\u001b[0m\u001b[0;34m\u001b[0m\u001b[0m\n\u001b[1;32m    174\u001b[0m                 return read_wrapper(\n\u001b[0;32m--> 175\u001b[0;31m                     lambda f: pc.load(f, encoding=encoding, compat=True))\n\u001b[0m\u001b[1;32m    176\u001b[0m     \u001b[0;32mtry\u001b[0m\u001b[0;34m:\u001b[0m\u001b[0;34m\u001b[0m\u001b[0;34m\u001b[0m\u001b[0m\n\u001b[1;32m    177\u001b[0m         \u001b[0;32mreturn\u001b[0m \u001b[0mtry_read\u001b[0m\u001b[0;34m(\u001b[0m\u001b[0mpath\u001b[0m\u001b[0;34m)\u001b[0m\u001b[0;34m\u001b[0m\u001b[0;34m\u001b[0m\u001b[0m\n",
      "\u001b[0;32m~/.local/lib/python3.6/site-packages/pandas/io/pickle.py\u001b[0m in \u001b[0;36mread_wrapper\u001b[0;34m(func)\u001b[0m\n\u001b[1;32m    145\u001b[0m         f, fh = _get_handle(path, 'rb',\n\u001b[1;32m    146\u001b[0m                             \u001b[0mcompression\u001b[0m\u001b[0;34m=\u001b[0m\u001b[0minferred_compression\u001b[0m\u001b[0;34m,\u001b[0m\u001b[0;34m\u001b[0m\u001b[0;34m\u001b[0m\u001b[0m\n\u001b[0;32m--> 147\u001b[0;31m                             is_text=False)\n\u001b[0m\u001b[1;32m    148\u001b[0m         \u001b[0;32mtry\u001b[0m\u001b[0;34m:\u001b[0m\u001b[0;34m\u001b[0m\u001b[0;34m\u001b[0m\u001b[0m\n\u001b[1;32m    149\u001b[0m             \u001b[0;32mreturn\u001b[0m \u001b[0mfunc\u001b[0m\u001b[0;34m(\u001b[0m\u001b[0mf\u001b[0m\u001b[0;34m)\u001b[0m\u001b[0;34m\u001b[0m\u001b[0;34m\u001b[0m\u001b[0m\n",
      "\u001b[0;32m~/.local/lib/python3.6/site-packages/pandas/io/common.py\u001b[0m in \u001b[0;36m_get_handle\u001b[0;34m(path_or_buf, mode, encoding, compression, memory_map, is_text)\u001b[0m\n\u001b[1;32m    404\u001b[0m         \u001b[0;32melse\u001b[0m\u001b[0;34m:\u001b[0m\u001b[0;34m\u001b[0m\u001b[0;34m\u001b[0m\u001b[0m\n\u001b[1;32m    405\u001b[0m             \u001b[0;31m# Python 3 and binary mode\u001b[0m\u001b[0;34m\u001b[0m\u001b[0;34m\u001b[0m\u001b[0;34m\u001b[0m\u001b[0m\n\u001b[0;32m--> 406\u001b[0;31m             \u001b[0mf\u001b[0m \u001b[0;34m=\u001b[0m \u001b[0mopen\u001b[0m\u001b[0;34m(\u001b[0m\u001b[0mpath_or_buf\u001b[0m\u001b[0;34m,\u001b[0m \u001b[0mmode\u001b[0m\u001b[0;34m)\u001b[0m\u001b[0;34m\u001b[0m\u001b[0;34m\u001b[0m\u001b[0m\n\u001b[0m\u001b[1;32m    407\u001b[0m         \u001b[0mhandles\u001b[0m\u001b[0;34m.\u001b[0m\u001b[0mappend\u001b[0m\u001b[0;34m(\u001b[0m\u001b[0mf\u001b[0m\u001b[0;34m)\u001b[0m\u001b[0;34m\u001b[0m\u001b[0;34m\u001b[0m\u001b[0m\n\u001b[1;32m    408\u001b[0m \u001b[0;34m\u001b[0m\u001b[0m\n",
      "\u001b[0;31mFileNotFoundError\u001b[0m: [Errno 2] No such file or directory: 'iclabcombined.pkl'"
     ]
    }
   ],
   "source": [
    "iclabcombined = pd.read_pickle('iclabcombined.pkl')"
   ]
  },
  {
   "cell_type": "code",
   "execution_count": 440,
   "metadata": {},
   "outputs": [
    {
     "name": "stdout",
     "output_type": "stream",
     "text": [
      "The number of observations in our original data set are 50436846 and the number of features/columns are 17 \n"
     ]
    }
   ],
   "source": [
    "print(\"The number of observations in our original data set are {0} and the number of features/columns are {1} \".format(iclabcombined.shape[0],iclabcombined.shape[1]))"
   ]
  },
  {
   "cell_type": "markdown",
   "metadata": {},
   "source": [
    "# 2. ANALYZING FALSE POSITIVES "
   ]
  },
  {
   "cell_type": "code",
   "execution_count": null,
   "metadata": {},
   "outputs": [],
   "source": [
    "# #function to find blocked URLs\n",
    "# def blockedURLs(cc):\n",
    "#     return (set(iclabcombined[ (iclabcombined['country']== cc)& ((iclabcombined['censored_updated']==True)) ]['url']))"
   ]
  },
  {
   "cell_type": "markdown",
   "metadata": {},
   "source": [
    "### 2a) Looking at sites which only have censored_updated = True"
   ]
  },
  {
   "cell_type": "markdown",
   "metadata": {},
   "source": [
    "The below query produces 167 urls, these are the URLs for which the ICLab team believes the packets might have been injected i.e. becuase there was a response after RST or FIN or maybe because of ICMP admin prohibited i.e. they determined there's a firewall that blocks a connection. Removing these from our data as these are cases of PROBABLE CENSORSHIP and not ACTUAL censorship"
   ]
  },
  {
   "cell_type": "code",
   "execution_count": null,
   "metadata": {},
   "outputs": [],
   "source": [
    "#( set(iclabcombined[ (iclabcombined['country']=='US')  & ((iclabcombined['dns']== False) & (iclabcombined['dns_all']== False) & (iclabcombined['block']== False) & (iclabcombined['packet_updated']== True))]['url']))"
   ]
  },
  {
   "cell_type": "markdown",
   "metadata": {},
   "source": [
    "Even urls for which a 4xx or 5xx result was returned are accessible and some of them are URLS commonly accessed in US"
   ]
  },
  {
   "cell_type": "code",
   "execution_count": null,
   "metadata": {},
   "outputs": [],
   "source": [
    "# set(iclabcombined\n",
    "#     [ (iclabcombined['country']=='US') \n",
    "#                    & \n",
    "#      (\n",
    "#          (iclabcombined['http_status']== 403.0) | (iclabcombined['http_status']== 404.0) | (iclabcombined['http_status']== 504.0)\n",
    "#      )\n",
    "#      &\n",
    "#      (   \n",
    "#                        (iclabcombined['dns']== False) & (iclabcombined['dns_all']== False)\n",
    "#                        & (iclabcombined['block']== False) & (iclabcombined['dns_all']== False) \n",
    "#                        & (iclabcombined['packet_updated']== True)\n",
    "#                    )]\n",
    "#      ['url'])"
   ]
  },
  {
   "cell_type": "code",
   "execution_count": null,
   "metadata": {},
   "outputs": [],
   "source": [
    "#httpError = np.arange(400,600,1,dtype=float)"
   ]
  },
  {
   "cell_type": "markdown",
   "metadata": {},
   "source": [
    "The falsePositIndex here are the sites which return a http 200 and only show packet_updated = True. In below query, I eliminate the countries where the result of HTTP was not a 400/500 errorand the only mechanism of censorship was that the packet_updated = True i.e. all these are probable censorships"
   ]
  },
  {
   "cell_type": "code",
   "execution_count": null,
   "metadata": {},
   "outputs": [],
   "source": [
    "# falsePositIndex = iclabcombined[\n",
    "#     (~iclabcombined.http_status.isin(httpError))  \n",
    "#                    & (   (iclabcombined['dns']== False) & (iclabcombined['dns_all']== False) & (iclabcombined['block']== False) & (iclabcombined['dns_all']== False) & (iclabcombined['packet_updated']== True)\n",
    "#                      )] [['country','url','http_status']].index.tolist()"
   ]
  },
  {
   "cell_type": "code",
   "execution_count": null,
   "metadata": {},
   "outputs": [],
   "source": [
    "# print(\"We have \" + str(len(falsePositIndex)) + \" probable censoriships which could be false positives\")"
   ]
  },
  {
   "cell_type": "code",
   "execution_count": null,
   "metadata": {},
   "outputs": [],
   "source": [
    "# iclabcombined.drop(falsePositIndex,inplace=True)"
   ]
  },
  {
   "cell_type": "markdown",
   "metadata": {},
   "source": [
    "Now having a look at FALSE NEGATIVES\n",
    "We define false negatives as websites which are showing censored_updated = False here but upon testing actually are inaccessible"
   ]
  },
  {
   "cell_type": "code",
   "execution_count": null,
   "metadata": {},
   "outputs": [],
   "source": [
    "# set(iclabcombined[(iclabcombined['country']=='US')&(iclabcombined['censored_updated']==False) & (iclabcombined.http_status.isin([403.0]))]['url'])"
   ]
  },
  {
   "cell_type": "markdown",
   "metadata": {},
   "source": [
    "In total as seen below we have 3389 websites which show up as not censored in US but the corresponding HTTP results are error codes, manual testing of these websites show that they are accessible, its not possible to actually determine the status of all false negatives. Based on our testing and seeing that they are not marked as blocked eventually and also because we believe that false negatives are not too critical to our project  $hence$ $we$ $wont$ $drop$ $them$ $from$ $the$ $data$ $set$"
   ]
  },
  {
   "cell_type": "markdown",
   "metadata": {},
   "source": [
    "## 2b) Removing the FALSE POSITIVIES (US blocked sites) from our main dataset iclabcombined"
   ]
  },
  {
   "cell_type": "markdown",
   "metadata": {},
   "source": [
    "From this data looking at the sites that are shown as censored in US. THESE SITES HAVE CENSORED = TRUE AND RETURN A HTTP ERROR"
   ]
  },
  {
   "cell_type": "code",
   "execution_count": null,
   "metadata": {},
   "outputs": [],
   "source": [
    "#set( iclabcombined  [  (iclabcombined['country']=='US') & (iclabcombined.http_status.isin(httpError) & ( (iclabcombined['dns_all']== True) | (iclabcombined['block']== True)|(iclabcombined['censored_updated']== True) | (iclabcombined['packet_updated']== True)))]['url'])"
   ]
  },
  {
   "cell_type": "code",
   "execution_count": null,
   "metadata": {},
   "outputs": [],
   "source": [
    "# SITES SHOWING HTTP status reason as block in US but still accessible\n",
    "#set( iclabcombined  [  (iclabcombined['country']=='US') & (iclabcombined.http_reason.str.contains('block'))]['url'])"
   ]
  },
  {
   "cell_type": "markdown",
   "metadata": {},
   "source": [
    "Overall all the above results show a very dirty data, we basically removed the root urls of all the sites that show 404 in US and then checked how many of them are accesible. There are no patterns while some are showing as blocked on testing others are not. BELOW WE REMOVE THESE FALSE POSITIVIES FROM THE US"
   ]
  },
  {
   "cell_type": "code",
   "execution_count": null,
   "metadata": {},
   "outputs": [],
   "source": [
    "USFPlist = (iclabcombined [(iclabcombined['country']=='US') & (iclabcombined['censored_updated'] == True)]['site']).unique().tolist()"
   ]
  },
  {
   "cell_type": "code",
   "execution_count": null,
   "metadata": {},
   "outputs": [],
   "source": [
    "USblockIclab = len(iclabcombined[iclabcombined['site'].isin(USFPlist)])"
   ]
  },
  {
   "cell_type": "code",
   "execution_count": null,
   "metadata": {},
   "outputs": [],
   "source": [
    "print(\"There are {} unique blocked websites in the US\".format(len(USFPlist)))\n",
    "print(\"There are {} total observations of these blocked websites throughout our dataset\".format(USblockIclab))"
   ]
  },
  {
   "cell_type": "code",
   "execution_count": null,
   "metadata": {},
   "outputs": [],
   "source": [
    "# USFPIndex is the index of all those observations for the unique sites which are blocked in US and we are going to remove from the entire DB\n",
    "USFPIndex = iclabcombined[iclabcombined['site'].isin(USFPlist)].index"
   ]
  },
  {
   "cell_type": "markdown",
   "metadata": {},
   "source": [
    "# iclabCLEAN is our cleaned dataframe"
   ]
  },
  {
   "cell_type": "code",
   "execution_count": null,
   "metadata": {},
   "outputs": [],
   "source": [
    "iclabCLEAN = iclabcombined.drop(USFPIndex)"
   ]
  },
  {
   "cell_type": "markdown",
   "metadata": {},
   "source": [
    "## PICKLING OUR CLEAN DATASET FOR FASTER ACCESS"
   ]
  },
  {
   "cell_type": "code",
   "execution_count": null,
   "metadata": {},
   "outputs": [],
   "source": [
    "#iclabCLEAN.to_pickle('iclabCLEAN.pkl')"
   ]
  },
  {
   "cell_type": "code",
   "execution_count": 3,
   "metadata": {},
   "outputs": [],
   "source": [
    "# LOADING DATA FRAME FROM PICKLE\n",
    "iclabCLEAN = pd.read_pickle('../data/iclab_cleaned_data/iclabCLEAN.pkl')"
   ]
  },
  {
   "cell_type": "code",
   "execution_count": 442,
   "metadata": {},
   "outputs": [
    {
     "name": "stdout",
     "output_type": "stream",
     "text": [
      "The number of observations in our original data set are 50436846 and the number of features/columns are 17 \n",
      "The number of observations in our CLEANED data set i.e. without sites blocked in USA are 40303928 and the number of features/columns are 17 \n"
     ]
    }
   ],
   "source": [
    "# COMPARNING DATA SIZES of RAW and CLEAN DATA \n",
    "print(\"The number of observations in our original data set are {0} and the number of features/columns are {1} \".format(iclabcombined.shape[0],iclabcombined.shape[1]))\n",
    "print(\"The number of observations in our CLEANED data set i.e. without sites blocked in USA are {0} and the number of features/columns are {1} \".format(iclabCLEAN.shape[0],iclabCLEAN.shape[1]))"
   ]
  },
  {
   "cell_type": "markdown",
   "metadata": {},
   "source": [
    "$******************************************************************$"
   ]
  },
  {
   "cell_type": "markdown",
   "metadata": {},
   "source": [
    "# 3.  EXPERIMENT 1"
   ]
  },
  {
   "cell_type": "markdown",
   "metadata": {},
   "source": [
    "Looking at the exact webpages blocked"
   ]
  },
  {
   "cell_type": "code",
   "execution_count": null,
   "metadata": {},
   "outputs": [],
   "source": [
    "# blockpageTR = set(iclabCLEAN[(iclabCLEAN['country']=='TR') & ((iclabCLEAN['dns_all']==True)| (iclabCLEAN['censored_updated']==True) | (iclabCLEAN['block']==True) | (iclabCLEAN['packet_updated']==True)) ]['url'])\n",
    "# len(blockpageTR)"
   ]
  },
  {
   "cell_type": "code",
   "execution_count": null,
   "metadata": {},
   "outputs": [],
   "source": [
    "# blockpageRU = set(iclabCLEAN[(iclabCLEAN['country']=='RU') & ((iclabCLEAN['dns_all']==True)| (iclabCLEAN['censored_updated']==True) | (iclabCLEAN['block']==True) | (iclabCLEAN['packet_updated']==True)) ]['url'])\n",
    "# len(blockpageRU)"
   ]
  },
  {
   "cell_type": "code",
   "execution_count": null,
   "metadata": {},
   "outputs": [],
   "source": [
    "# RUblockpageTR = blockpageTR.intersection(blockpageRU)\n",
    "# RUblockpageTR"
   ]
  },
  {
   "cell_type": "markdown",
   "metadata": {},
   "source": [
    "# EXPERIMENT 2"
   ]
  },
  {
   "cell_type": "code",
   "execution_count": null,
   "metadata": {},
   "outputs": [],
   "source": [
    "# blockIN = set(iclabCLEAN[(iclabCLEAN['country']=='IN') & ((iclabCLEAN['censored_updated']==True))]['site'])\n",
    "# len(blockIN)"
   ]
  },
  {
   "cell_type": "code",
   "execution_count": null,
   "metadata": {},
   "outputs": [],
   "source": [
    "# blockCN = set(iclabCLEAN[(iclabCLEAN['country']=='CN') & ((iclabCLEAN['censored_updated']==True))]['site'])\n",
    "# len(blockCN)"
   ]
  },
  {
   "cell_type": "code",
   "execution_count": null,
   "metadata": {},
   "outputs": [],
   "source": [
    "# blockVN = set(iclabCLEAN[(iclabCLEAN['country']=='VN') & ((iclabCLEAN['censored_updated']==True))]['site'])\n",
    "# len(blockVN)"
   ]
  },
  {
   "cell_type": "code",
   "execution_count": null,
   "metadata": {},
   "outputs": [],
   "source": [
    "# blockRU = set(iclabCLEAN[(iclabCLEAN['country']=='RU') & ((iclabCLEAN['dns_all']==True)| (iclabCLEAN['censored_updated']==True)| (iclabCLEAN['block']==True) | (iclabCLEAN['packet_updated']==True))]['site'])\n",
    "# len(blockRU)"
   ]
  },
  {
   "cell_type": "code",
   "execution_count": null,
   "metadata": {},
   "outputs": [],
   "source": [
    "# blockTR = set(iclabCLEAN[(iclabCLEAN['country']=='TR') & ((iclabCLEAN['dns_all']==True)| (iclabCLEAN['censored_updated']==True) | (iclabCLEAN['block']==True) | (iclabCLEAN['packet_updated']==True)) ]['site'])\n",
    "# len(blockTR)"
   ]
  },
  {
   "cell_type": "code",
   "execution_count": null,
   "metadata": {},
   "outputs": [],
   "source": [
    "# blockNL = set(iclabCLEAN[(iclabCLEAN['country']=='NL') & ((iclabCLEAN['censored_updated']==True))]['site'])\n",
    "# len(blockNL)"
   ]
  },
  {
   "cell_type": "code",
   "execution_count": null,
   "metadata": {},
   "outputs": [],
   "source": [
    "# blockNZ = set(iclabCLEAN[(iclabCLEAN['country']=='NZ') & ((iclabCLEAN['censored_updated']==True))]['site'])\n",
    "# len(blockNZ)"
   ]
  },
  {
   "cell_type": "code",
   "execution_count": null,
   "metadata": {},
   "outputs": [],
   "source": [
    "# AU_NZ = blockNZ.intersection(blockAU)\n",
    "# len(AU_NZ)"
   ]
  },
  {
   "cell_type": "code",
   "execution_count": null,
   "metadata": {},
   "outputs": [],
   "source": [
    "# blockMX = set(iclabCLEAN[(iclabCLEAN['country']=='MX') & ((iclabCLEAN['censored_updated']==True))]['site'])\n",
    "# len(blockMX)"
   ]
  },
  {
   "cell_type": "code",
   "execution_count": null,
   "metadata": {},
   "outputs": [],
   "source": [
    "# IN_RU = blockIN.intersection(blockRU)\n",
    "# (IN_RU)"
   ]
  },
  {
   "cell_type": "markdown",
   "metadata": {},
   "source": [
    "Intersections as per EXPERIMENT 2"
   ]
  },
  {
   "cell_type": "code",
   "execution_count": null,
   "metadata": {},
   "outputs": [],
   "source": [
    "# RU_TR = blockRU.intersection(blockTR)"
   ]
  },
  {
   "cell_type": "code",
   "execution_count": null,
   "metadata": {},
   "outputs": [],
   "source": [
    "# BR_MX = blockMX.intersection(blockBR)"
   ]
  },
  {
   "cell_type": "code",
   "execution_count": null,
   "metadata": {},
   "outputs": [],
   "source": [
    "# NL_TR = blockNL.intersection(blockTR)"
   ]
  },
  {
   "cell_type": "markdown",
   "metadata": {},
   "source": [
    "As part of Experiment 2 : \n",
    "(a) A look at censored FB Pages in India"
   ]
  },
  {
   "cell_type": "markdown",
   "metadata": {},
   "source": [
    "Looking at worldwide distribution of FB blocking"
   ]
  },
  {
   "cell_type": "code",
   "execution_count": null,
   "metadata": {},
   "outputs": [],
   "source": [
    "# iclabCLEAN[iclabCLEAN['url'].str.contains('facebook')].groupby('country').count()"
   ]
  },
  {
   "cell_type": "markdown",
   "metadata": {},
   "source": [
    "Looking at FB pages censored in India"
   ]
  },
  {
   "cell_type": "code",
   "execution_count": null,
   "metadata": {},
   "outputs": [],
   "source": [
    "# fbIndBlock = set (iclabcombined [ ( (iclabcombined['block']== True) | (iclabcombined['censored_updated']== True) | (iclabcombined['packet_updated']== True) ) & (iclabcombined['url'].str.contains('facebook')) & (iclabcombined['country']=='IN') ]['url'])\n",
    "# fbIndBlock"
   ]
  },
  {
   "cell_type": "markdown",
   "metadata": {},
   "source": [
    "(b) A look into religious censorship in the world"
   ]
  },
  {
   "cell_type": "code",
   "execution_count": null,
   "metadata": {},
   "outputs": [],
   "source": [
    "# iclabCLEAN[ (iclabCLEAN['category'].isin(['Global Religion','Alternative Beliefs'])) & ( (iclabCLEAN['block']== True) | (iclabCLEAN['censored_updated'] == True) ) ].groupby(['country', 'site']).first()"
   ]
  },
  {
   "cell_type": "markdown",
   "metadata": {},
   "source": [
    "# 4) EXPERIMENT 3 : "
   ]
  },
  {
   "cell_type": "markdown",
   "metadata": {},
   "source": [
    "Defining a function which computes contribution of each category in a countries blocked sites"
   ]
  },
  {
   "cell_type": "code",
   "execution_count": 4,
   "metadata": {},
   "outputs": [],
   "source": [
    "def Category_contributions(cc):\n",
    "    catDataCC = iclabCLEAN[(iclabCLEAN['country']==cc) & (iclabCLEAN['censored_updated']==True) ]\n",
    "    catDataCC= catDataCC.drop(['server_t', 'censored_updated','site','dns_all','packet_reason','url','dns','dns_reason','dns_reason_all','schedule_name','http_status','block','body_len','http_reason','packet_updated'], axis=1)\n",
    "    catDataCC = catDataCC.groupby('category').count()\n",
    "    catDataCC['%Cat'] = (catDataCC['country']*100)/(catDataCC['country'].sum())\n",
    "    catDataCC= catDataCC.reset_index().drop('country',axis=1)\n",
    "    catDataCC= catDataCC.rename(columns={'country':'Number of sites in' + str(cc),'%Cat':cc})\n",
    "    return catDataCC"
   ]
  },
  {
   "cell_type": "code",
   "execution_count": 5,
   "metadata": {},
   "outputs": [],
   "source": [
    "# INplot = Category_contributions('IN')\n",
    "# display(INplot)\n",
    "# TRplot =Category_contributions('TR')\n",
    "# RUplot = Category_contributions('RU')\n",
    "# KRplot= Category_contributions('KR')\n",
    "# USplot = Category_contributions('US')\n",
    "# CNplot = Category_contributions('CN')\n",
    "# CAplot  = Category_contributions('CA')\n",
    "# ZAplot  = Category_contributions('ZA')"
   ]
  },
  {
   "cell_type": "markdown",
   "metadata": {},
   "source": [
    " Plotting the graph below:"
   ]
  },
  {
   "cell_type": "code",
   "execution_count": 6,
   "metadata": {},
   "outputs": [],
   "source": [
    "# graphcompare1 = pd.merge(INplot,TRplot, on='category', how='outer')\n",
    "# graphcompare2 = pd.merge(graphcompare1,KRplot, on='category', how='outer')\n",
    "# graphcompare3 = pd.merge(graphcompare2,RUplot, on='category', how='outer')\n",
    "# graphcompare4 = pd.merge(graphcompare3,USplot, on='category', how='outer')\n",
    "# graphcompare5 = pd.merge(graphcompare4,CNplot, on='category', how='outer')"
   ]
  },
  {
   "cell_type": "code",
   "execution_count": null,
   "metadata": {},
   "outputs": [],
   "source": [
    "# # set width of bar\n",
    "# barWidth = 0.15\n",
    " \n",
    "# # set height of bar\n",
    "# TR = graphcompare3['TR']\n",
    "# RU = graphcompare3['RU']\n",
    "# IN = graphcompare3['IN']\n",
    "# KR = graphcompare3['KR']\n",
    " \n",
    "# # Set position of bar on X axis\n",
    "# r1 = np.arange(len(TR))\n",
    "# r2 = [x + barWidth for x in r1]\n",
    "# r3 = [x + barWidth for x in r2]\n",
    "# r4 = [x + barWidth for x in r3]\n",
    " \n",
    "# # Make the plot\n",
    "# plt.figure(figsize = (20,12))\n",
    "# plt.bar(r1, TR, color='green', width=barWidth, edgecolor='dimgrey', label='Turkey')\n",
    "# plt.bar(r2, RU, color='red', width=barWidth ,  edgecolor='dimgrey',label='RU')\n",
    "# plt.bar(r3, IN, color='blue', width=barWidth,  edgecolor='dimgrey',label='India')\n",
    "# plt.bar(r4, KR, color='darkorange', width=barWidth,  edgecolor= 'dimgrey',label='South Korea') \n",
    "\n",
    "# # Add xticks on the middle of the group bars\n",
    "# plt.ylabel(\"Percentage\", size=15)\n",
    "# plt.ylim(0,100)\n",
    "# plt.xticks([r for r in range(len(TR))], graphcompare3['category'].tolist() ,rotation=-90, size=16)\n",
    "\n",
    "# # Create legend & Show graphic\n",
    "# plt.legend(loc = 'upper left', fontsize = 15)\n",
    "# plt.title(\"\\n Category-wise blocking in countries \\n\", size = 15)\n",
    "# plt.show()"
   ]
  },
  {
   "cell_type": "markdown",
   "metadata": {},
   "source": [
    "A few sample metrics"
   ]
  },
  {
   "cell_type": "code",
   "execution_count": null,
   "metadata": {},
   "outputs": [],
   "source": [
    "# graphcompare5.fillna(0,inplace=True)"
   ]
  },
  {
   "cell_type": "code",
   "execution_count": null,
   "metadata": {},
   "outputs": [],
   "source": [
    "# KRvals = graphcompare5['KR']\n",
    "# RUvals = graphcompare5['RU']\n",
    "# INvals = graphcompare5['IN']\n",
    "# TRvals = graphcompare5['TR']"
   ]
  },
  {
   "cell_type": "code",
   "execution_count": null,
   "metadata": {},
   "outputs": [],
   "source": [
    "# KRsimilarityRU = (1 - spatial.distance.cosine(KRvals, RUvals))*100\n",
    "# KRsimilarityRU"
   ]
  },
  {
   "cell_type": "code",
   "execution_count": null,
   "metadata": {},
   "outputs": [],
   "source": [
    "# INsimilarityTR = (1 - spatial.distance.cosine(INvals, TRvals))*100\n",
    "# INsimilarityTR"
   ]
  },
  {
   "cell_type": "code",
   "execution_count": null,
   "metadata": {},
   "outputs": [],
   "source": [
    "# INsimilarityKR = (1 - spatial.distance.cosine(INvals, KRvals))*100\n",
    "# INsimilarityKR"
   ]
  },
  {
   "cell_type": "code",
   "execution_count": null,
   "metadata": {},
   "outputs": [],
   "source": [
    "# INsimilarityRU = (1 - spatial.distance.cosine(INvals, RUvals))*100\n",
    "# INsimilarityRU"
   ]
  },
  {
   "cell_type": "code",
   "execution_count": null,
   "metadata": {},
   "outputs": [],
   "source": [
    "# KRsimilarityTR = (1 - spatial.distance.cosine(KRvals, TRvals))*100\n",
    "# KRsimilarityTR"
   ]
  },
  {
   "cell_type": "code",
   "execution_count": null,
   "metadata": {},
   "outputs": [],
   "source": [
    "# RUsimilarityTR = (1 - spatial.distance.cosine(RUvals, TRvals))*100\n",
    "# RUsimilarityTR"
   ]
  },
  {
   "cell_type": "markdown",
   "metadata": {},
   "source": [
    "\n",
    "# 5) SIMILARITY METRIC DATAFRAME FOR ALL COUNTRIES"
   ]
  },
  {
   "cell_type": "code",
   "execution_count": 7,
   "metadata": {},
   "outputs": [
    {
     "name": "stdout",
     "output_type": "stream",
     "text": [
      "The total countries we have in our clean dataset are 55\n"
     ]
    }
   ],
   "source": [
    "allCountries = (iclabCLEAN['country'].unique())\n",
    "print(\"The total countries we have in our clean dataset are {}\".format(len(allCountries)))"
   ]
  },
  {
   "cell_type": "code",
   "execution_count": 444,
   "metadata": {},
   "outputs": [
    {
     "name": "stdout",
     "output_type": "stream",
     "text": [
      "The total unique categories we have in our clean dataset are 72\n"
     ]
    }
   ],
   "source": [
    "allCategories = (iclabCLEAN['category'].unique())\n",
    "print(\"The total unique categories we have in our clean dataset are {}\".format(len(allCategories)))"
   ]
  },
  {
   "cell_type": "code",
   "execution_count": 8,
   "metadata": {},
   "outputs": [],
   "source": [
    "#simMetricDFIndex = (iclabCLEAN['category'].dropna().unique())\n",
    "simMetricDFIndex = (iclabCLEAN['category'].unique())"
   ]
  },
  {
   "cell_type": "code",
   "execution_count": 9,
   "metadata": {},
   "outputs": [
    {
     "data": {
      "text/html": [
       "<div>\n",
       "<style scoped>\n",
       "    .dataframe tbody tr th:only-of-type {\n",
       "        vertical-align: middle;\n",
       "    }\n",
       "\n",
       "    .dataframe tbody tr th {\n",
       "        vertical-align: top;\n",
       "    }\n",
       "\n",
       "    .dataframe thead th {\n",
       "        text-align: right;\n",
       "    }\n",
       "</style>\n",
       "<table border=\"1\" class=\"dataframe\">\n",
       "  <thead>\n",
       "    <tr style=\"text-align: right;\">\n",
       "      <th></th>\n",
       "    </tr>\n",
       "  </thead>\n",
       "  <tbody>\n",
       "    <tr>\n",
       "      <th>File Sharing and Storage</th>\n",
       "    </tr>\n",
       "    <tr>\n",
       "      <th>Reference</th>\n",
       "    </tr>\n",
       "    <tr>\n",
       "      <th>Information Technology</th>\n",
       "    </tr>\n",
       "    <tr>\n",
       "      <th>Instant Messaging</th>\n",
       "    </tr>\n",
       "    <tr>\n",
       "      <th>News and Media</th>\n",
       "    </tr>\n",
       "  </tbody>\n",
       "</table>\n",
       "</div>"
      ],
      "text/plain": [
       "Empty DataFrame\n",
       "Columns: []\n",
       "Index: [File Sharing and Storage, Reference, Information Technology, Instant Messaging, News and Media]"
      ]
     },
     "execution_count": 9,
     "metadata": {},
     "output_type": "execute_result"
    }
   ],
   "source": [
    "simMetricDF = pd.DataFrame(index = simMetricDFIndex, columns=None)\n",
    "simMetricDF.head()"
   ]
  },
  {
   "cell_type": "code",
   "execution_count": 10,
   "metadata": {},
   "outputs": [
    {
     "data": {
      "text/html": [
       "<div>\n",
       "<style scoped>\n",
       "    .dataframe tbody tr th:only-of-type {\n",
       "        vertical-align: middle;\n",
       "    }\n",
       "\n",
       "    .dataframe tbody tr th {\n",
       "        vertical-align: top;\n",
       "    }\n",
       "\n",
       "    .dataframe thead th {\n",
       "        text-align: right;\n",
       "    }\n",
       "</style>\n",
       "<table border=\"1\" class=\"dataframe\">\n",
       "  <thead>\n",
       "    <tr style=\"text-align: right;\">\n",
       "      <th></th>\n",
       "      <th>dummy</th>\n",
       "    </tr>\n",
       "  </thead>\n",
       "  <tbody>\n",
       "    <tr>\n",
       "      <th>File Sharing and Storage</th>\n",
       "      <td>NaN</td>\n",
       "    </tr>\n",
       "    <tr>\n",
       "      <th>Reference</th>\n",
       "      <td>NaN</td>\n",
       "    </tr>\n",
       "    <tr>\n",
       "      <th>Information Technology</th>\n",
       "      <td>NaN</td>\n",
       "    </tr>\n",
       "    <tr>\n",
       "      <th>Instant Messaging</th>\n",
       "      <td>NaN</td>\n",
       "    </tr>\n",
       "    <tr>\n",
       "      <th>News and Media</th>\n",
       "      <td>NaN</td>\n",
       "    </tr>\n",
       "  </tbody>\n",
       "</table>\n",
       "</div>"
      ],
      "text/plain": [
       "                          dummy\n",
       "File Sharing and Storage    NaN\n",
       "Reference                   NaN\n",
       "Information Technology      NaN\n",
       "Instant Messaging           NaN\n",
       "News and Media              NaN"
      ]
     },
     "execution_count": 10,
     "metadata": {},
     "output_type": "execute_result"
    }
   ],
   "source": [
    "simMetricDF['dummy']= pd.Series(np.zeros(len(simMetricDF)))\n",
    "simMetricDF.head()"
   ]
  },
  {
   "cell_type": "code",
   "execution_count": 11,
   "metadata": {},
   "outputs": [
    {
     "data": {
      "text/html": [
       "<div>\n",
       "<style scoped>\n",
       "    .dataframe tbody tr th:only-of-type {\n",
       "        vertical-align: middle;\n",
       "    }\n",
       "\n",
       "    .dataframe tbody tr th {\n",
       "        vertical-align: top;\n",
       "    }\n",
       "\n",
       "    .dataframe thead th {\n",
       "        text-align: right;\n",
       "    }\n",
       "</style>\n",
       "<table border=\"1\" class=\"dataframe\">\n",
       "  <thead>\n",
       "    <tr style=\"text-align: right;\">\n",
       "      <th></th>\n",
       "      <th>category</th>\n",
       "      <th>dummy</th>\n",
       "    </tr>\n",
       "  </thead>\n",
       "  <tbody>\n",
       "    <tr>\n",
       "      <th>0</th>\n",
       "      <td>File Sharing and Storage</td>\n",
       "      <td>NaN</td>\n",
       "    </tr>\n",
       "    <tr>\n",
       "      <th>1</th>\n",
       "      <td>Reference</td>\n",
       "      <td>NaN</td>\n",
       "    </tr>\n",
       "    <tr>\n",
       "      <th>2</th>\n",
       "      <td>Information Technology</td>\n",
       "      <td>NaN</td>\n",
       "    </tr>\n",
       "    <tr>\n",
       "      <th>3</th>\n",
       "      <td>Instant Messaging</td>\n",
       "      <td>NaN</td>\n",
       "    </tr>\n",
       "    <tr>\n",
       "      <th>4</th>\n",
       "      <td>News and Media</td>\n",
       "      <td>NaN</td>\n",
       "    </tr>\n",
       "  </tbody>\n",
       "</table>\n",
       "</div>"
      ],
      "text/plain": [
       "                   category  dummy\n",
       "0  File Sharing and Storage    NaN\n",
       "1                 Reference    NaN\n",
       "2    Information Technology    NaN\n",
       "3         Instant Messaging    NaN\n",
       "4            News and Media    NaN"
      ]
     },
     "execution_count": 11,
     "metadata": {},
     "output_type": "execute_result"
    }
   ],
   "source": [
    "simMetricDF.reset_index(inplace=True)\n",
    "simMetricDF.rename(columns={'index':'category'},inplace=True)\n",
    "simMetricDF.head()"
   ]
  },
  {
   "cell_type": "code",
   "execution_count": 12,
   "metadata": {},
   "outputs": [],
   "source": [
    "for country in allCountries:\n",
    "    simMetricDF = pd.merge(simMetricDF,Category_contributions(country), on= 'category', how='outer')"
   ]
  },
  {
   "cell_type": "code",
   "execution_count": 13,
   "metadata": {},
   "outputs": [],
   "source": [
    "#simMetricDF = simMetricDF.drop(['base'],axis=1)\n",
    "simMetricDF.set_index('category',inplace = True)"
   ]
  },
  {
   "cell_type": "markdown",
   "metadata": {},
   "source": [
    "==>> REPLACING NaN's with 0"
   ]
  },
  {
   "cell_type": "code",
   "execution_count": 14,
   "metadata": {},
   "outputs": [],
   "source": [
    "simMetricDF.fillna(0,inplace=True)"
   ]
  },
  {
   "cell_type": "code",
   "execution_count": 15,
   "metadata": {},
   "outputs": [],
   "source": [
    "simMetricDF.drop(\"dummy\",axis=1,inplace = True)"
   ]
  },
  {
   "cell_type": "code",
   "execution_count": 16,
   "metadata": {},
   "outputs": [
    {
     "name": "stdout",
     "output_type": "stream",
     "text": [
      "We have 55 unique countries\n"
     ]
    }
   ],
   "source": [
    "#Getting all columns i.e. countries\n",
    "simCols=[]\n",
    "for i in range(len(simMetricDF.columns)):\n",
    "    simCols.append(simMetricDF.columns[i])\n",
    "print(\"We have {} unique countries\".format(len(simCols)))"
   ]
  },
  {
   "cell_type": "code",
   "execution_count": 17,
   "metadata": {},
   "outputs": [
    {
     "name": "stdout",
     "output_type": "stream",
     "text": [
      "We have 1485 unique pairs from these countries including dummy\n"
     ]
    }
   ],
   "source": [
    "#Creating pairs to do calculation of spatial distance\n",
    "from itertools import combinations\n",
    "pairs = [comb for comb in combinations(simCols, 2)]\n",
    "print(\"We have {} unique pairs from these countries including dummy\".format(len(pairs)))"
   ]
  },
  {
   "cell_type": "markdown",
   "metadata": {},
   "source": [
    "==>> Mathematical checks"
   ]
  },
  {
   "cell_type": "code",
   "execution_count": 18,
   "metadata": {},
   "outputs": [],
   "source": [
    "#Both vectors are non zeroes\n",
    "#print(\" **** Similarity is {} ****\".format(1-(spatial.distance.cosine(simMetricDF['AU'], simMetricDF['IN']))))\n",
    "\n",
    "# When even one vector is completeley a zero vector\n",
    "#print(\" **** Similarity is {} ****\".format(1-(spatial.distance.cosine(simMetricDF['US'], simMetricDF['IN']))))"
   ]
  },
  {
   "cell_type": "code",
   "execution_count": 19,
   "metadata": {},
   "outputs": [],
   "source": [
    "#NewSimVal will store the similarity value calculated from the spatial cosine distance formula\n",
    "\n",
    "NewSimVals = []\n",
    "for item in pairs:\n",
    "    if (np.sum(simMetricDF[item[0]]) == 0) & (np.sum(simMetricDF[item[1]]) ==0):\n",
    "        NewSimVals.append((item,100))\n",
    "    elif (np.sum(simMetricDF[item[0]]) == 0) | (np.sum(simMetricDF[item[1]]) ==0):\n",
    "        NewSimVals.append((item,0))\n",
    "    else :\n",
    "        NewSimVals.append((item,(1 - spatial.distance.cosine(simMetricDF[item[0]], simMetricDF[item[1]]))*100))"
   ]
  },
  {
   "cell_type": "code",
   "execution_count": 20,
   "metadata": {},
   "outputs": [
    {
     "data": {
      "text/plain": [
       "[(('UA', 'CO'), 0.1593395361172978),\n",
       " (('UA', 'KR'), 0.6847792559200427),\n",
       " (('UA', 'US'), 0),\n",
       " (('UA', 'BG'), 12.093020530687948),\n",
       " (('UA', 'BZ'), 0.7125880685231345),\n",
       " (('UA', 'AU'), 4.98016634651659),\n",
       " (('UA', 'JP'), 8.579139186286355),\n",
       " (('UA', 'NL'), 7.330689060535911),\n",
       " (('UA', 'HK'), 0.3467911474699381),\n",
       " (('UA', 'LT'), 0.22534013299931877),\n",
       " (('UA', 'RO'), 0.0),\n",
       " (('UA', 'KE'), 0.45068026599864863),\n",
       " (('UA', 'ES'), 0.1679586184817783),\n",
       " (('UA', 'VN'), 0.0),\n",
       " (('UA', 'MX'), 0.0),\n",
       " (('UA', 'PE'), 0.3562940342615617),\n",
       " (('UA', 'SE'), 0.48093941543784213),\n",
       " (('UA', 'NZ'), 2.672205256961746),\n",
       " (('UA', 'FR'), 0.1679586184817783),\n",
       " (('UA', 'ID'), 0),\n",
       " (('UA', 'ZA'), 0.0),\n",
       " (('UA', 'HU'), 0.0),\n",
       " (('UA', 'SK'), 0.5451210197267242),\n",
       " (('UA', 'CL'), 0.0),\n",
       " (('UA', 'CN'), 1.421422380505677),\n",
       " (('UA', 'LU'), 0.0),\n",
       " (('UA', 'IN'), 1.8067619121192702),\n",
       " (('UA', 'SG'), 0.5038758554453349),\n",
       " (('UA', 'TW'), 7.669772649165408),\n",
       " (('UA', 'MD'), 0.3359172369635566),\n",
       " (('UA', 'NO'), 0),\n",
       " (('UA', 'RU'), 1.5250019474127297),\n",
       " (('UA', 'AD'), 0),\n",
       " (('UA', 'CA'), 0.0),\n",
       " (('UA', 'RS'), 0.5038758554453349),\n",
       " (('UA', 'FI'), 0),\n",
       " (('UA', 'MY'), 0),\n",
       " (('UA', 'BE'), 0),\n",
       " (('UA', 'IS'), 0),\n",
       " (('UA', 'VE'), 0),\n",
       " (('UA', 'PT'), 12.093020530687948),\n",
       " (('UA', 'DK'), 0),\n",
       " (('UA', 'CZ'), 0),\n",
       " (('UA', 'IL'), 0),\n",
       " (('UA', 'TR'), 0.31095387449695533),\n",
       " (('UA', 'PL'), 0),\n",
       " (('UA', 'DZ'), 0),\n",
       " (('UA', 'BR'), 24.739813376130606),\n",
       " (('UA', 'SC'), 0.0),\n",
       " (('UA', 'SA'), 0.6252108810038903),\n",
       " (('UA', 'AT'), 0.0),\n",
       " (('UA', 'GR'), 0),\n",
       " (('UA', 'CR'), 0),\n",
       " (('UA', 'LI'), 0),\n",
       " (('CO', 'KR'), 37.94715086292704),\n",
       " (('CO', 'US'), 0),\n",
       " (('CO', 'BG'), 0.0),\n",
       " (('CO', 'BZ'), 22.360679774997894),\n",
       " (('CO', 'AU'), 40.87199813091933),\n",
       " (('CO', 'JP'), 22.87399865002807),\n",
       " (('CO', 'NL'), 40.430145879296376),\n",
       " (('CO', 'HK'), 14.50952500220023),\n",
       " (('CO', 'LT'), 56.56854249492379),\n",
       " (('CO', 'RO'), 79.05694150420949),\n",
       " (('CO', 'KE'), 0.0),\n",
       " (('CO', 'ES'), 52.70462766947299),\n",
       " (('CO', 'VN'), 0.0),\n",
       " (('CO', 'MX'), 22.360679774997894),\n",
       " (('CO', 'PE'), 22.360679774997894),\n",
       " (('CO', 'SE'), 0.0),\n",
       " (('CO', 'NZ'), 27.95084971874737),\n",
       " (('CO', 'FR'), 31.6227766016838),\n",
       " (('CO', 'ID'), 0),\n",
       " (('CO', 'ZA'), 22.360679774997894),\n",
       " (('CO', 'HU'), 38.72983346207417),\n",
       " (('CO', 'SK'), 2.7369027575198657),\n",
       " (('CO', 'CL'), 31.6227766016838),\n",
       " (('CO', 'CN'), 1.2000960115215342),\n",
       " (('CO', 'LU'), 63.245553203367585),\n",
       " (('CO', 'IN'), 33.92499495167666),\n",
       " (('CO', 'SG'), 31.6227766016838),\n",
       " (('CO', 'TW'), 52.75043787166296),\n",
       " (('CO', 'MD'), 10.540925533894596),\n",
       " (('CO', 'NO'), 0),\n",
       " (('CO', 'RU'), 31.198831437014938),\n",
       " (('CO', 'AD'), 0),\n",
       " (('CO', 'CA'), 63.245553203367585),\n",
       " (('CO', 'RS'), 31.6227766016838),\n",
       " (('CO', 'FI'), 0),\n",
       " (('CO', 'MY'), 0),\n",
       " (('CO', 'BE'), 0),\n",
       " (('CO', 'IS'), 0),\n",
       " (('CO', 'VE'), 0),\n",
       " (('CO', 'PT'), 0.0),\n",
       " (('CO', 'DK'), 0),\n",
       " (('CO', 'CZ'), 0),\n",
       " (('CO', 'IL'), 0),\n",
       " (('CO', 'TR'), 21.787089586853302),\n",
       " (('CO', 'PL'), 0),\n",
       " (('CO', 'DZ'), 0),\n",
       " (('CO', 'BR'), 69.00655593423542),\n",
       " (('CO', 'SC'), 56.56854249492379),\n",
       " (('CO', 'SA'), 9.15413432105856),\n",
       " (('CO', 'AT'), 31.6227766016838),\n",
       " (('CO', 'GR'), 0),\n",
       " (('CO', 'CR'), 0),\n",
       " (('CO', 'LI'), 0),\n",
       " (('KR', 'US'), 0),\n",
       " (('KR', 'BG'), 4.919616951743788),\n",
       " (('KR', 'BZ'), 12.608822948815257),\n",
       " (('KR', 'AU'), 33.61437699833716),\n",
       " (('KR', 'JP'), 22.699982000553497),\n",
       " (('KR', 'NL'), 28.929533349537586),\n",
       " (('KR', 'HK'), 14.837271493194471),\n",
       " (('KR', 'LT'), 38.220682101104565),\n",
       " (('KR', 'RO'), 30.400290798150987),\n",
       " (('KR', 'KE'), 1.3595423352085412),\n",
       " (('KR', 'ES'), 30.83613726120692),\n",
       " (('KR', 'VN'), 0.17978666601057292),\n",
       " (('KR', 'MX'), 0.4853992335932533),\n",
       " (('KR', 'PE'), 42.41464731636297),\n",
       " (('KR', 'SE'), 3.8942129287550697),\n",
       " (('KR', 'NZ'), 10.418747835340936),\n",
       " (('KR', 'FR'), 41.54706409080635),\n",
       " (('KR', 'ID'), 0),\n",
       " (('KR', 'ZA'), 6.529775404290216),\n",
       " (('KR', 'HU'), 89.63181345441123),\n",
       " (('KR', 'SK'), 3.3355538900993964),\n",
       " (('KR', 'CL'), 5.050370890660572),\n",
       " (('KR', 'CN'), 0.8125537178283571),\n",
       " (('KR', 'LU'), 42.00470287701508),\n",
       " (('KR', 'IN'), 22.82544424463715),\n",
       " (('KR', 'SG'), 16.3769308493265),\n",
       " (('KR', 'TW'), 32.94864183881446),\n",
       " (('KR', 'MD'), 2.865690494592732),\n",
       " (('KR', 'NO'), 0),\n",
       " (('KR', 'RU'), 63.92763834938579),\n",
       " (('KR', 'AD'), 0),\n",
       " (('KR', 'CA'), 42.00470287701508),\n",
       " (('KR', 'RS'), 16.3769308493265),\n",
       " (('KR', 'FI'), 0),\n",
       " (('KR', 'MY'), 0),\n",
       " (('KR', 'BE'), 0),\n",
       " (('KR', 'IS'), 0),\n",
       " (('KR', 'VE'), 0),\n",
       " (('KR', 'PT'), 4.919616951743788),\n",
       " (('KR', 'DK'), 0),\n",
       " (('KR', 'CZ'), 0),\n",
       " (('KR', 'IL'), 0),\n",
       " (('KR', 'TR'), 74.07388444817448),\n",
       " (('KR', 'PL'), 0),\n",
       " (('KR', 'DZ'), 0),\n",
       " (('KR', 'BR'), 54.355076755336206),\n",
       " (('KR', 'SC'), 37.570148403074676),\n",
       " (('KR', 'SA'), 85.11319180747935),\n",
       " (('KR', 'AT'), 5.050370890660572),\n",
       " (('KR', 'GR'), 0),\n",
       " (('KR', 'CR'), 0),\n",
       " (('KR', 'LI'), 0),\n",
       " (('US', 'BG'), 0),\n",
       " (('US', 'BZ'), 0),\n",
       " (('US', 'AU'), 0),\n",
       " (('US', 'JP'), 0),\n",
       " (('US', 'NL'), 0),\n",
       " (('US', 'HK'), 0),\n",
       " (('US', 'LT'), 0),\n",
       " (('US', 'RO'), 0),\n",
       " (('US', 'KE'), 0),\n",
       " (('US', 'ES'), 0),\n",
       " (('US', 'VN'), 0),\n",
       " (('US', 'MX'), 0),\n",
       " (('US', 'PE'), 0),\n",
       " (('US', 'SE'), 0),\n",
       " (('US', 'NZ'), 0),\n",
       " (('US', 'FR'), 0),\n",
       " (('US', 'ID'), 100),\n",
       " (('US', 'ZA'), 0),\n",
       " (('US', 'HU'), 0),\n",
       " (('US', 'SK'), 0),\n",
       " (('US', 'CL'), 0),\n",
       " (('US', 'CN'), 0),\n",
       " (('US', 'LU'), 0),\n",
       " (('US', 'IN'), 0),\n",
       " (('US', 'SG'), 0),\n",
       " (('US', 'TW'), 0),\n",
       " (('US', 'MD'), 0),\n",
       " (('US', 'NO'), 100),\n",
       " (('US', 'RU'), 0),\n",
       " (('US', 'AD'), 100),\n",
       " (('US', 'CA'), 0),\n",
       " (('US', 'RS'), 0),\n",
       " (('US', 'FI'), 100),\n",
       " (('US', 'MY'), 100),\n",
       " (('US', 'BE'), 100),\n",
       " (('US', 'IS'), 100),\n",
       " (('US', 'VE'), 100),\n",
       " (('US', 'PT'), 0),\n",
       " (('US', 'DK'), 100),\n",
       " (('US', 'CZ'), 100),\n",
       " (('US', 'IL'), 100),\n",
       " (('US', 'TR'), 0),\n",
       " (('US', 'PL'), 100),\n",
       " (('US', 'DZ'), 100),\n",
       " (('US', 'BR'), 0),\n",
       " (('US', 'SC'), 0),\n",
       " (('US', 'SA'), 0),\n",
       " (('US', 'AT'), 0),\n",
       " (('US', 'GR'), 100),\n",
       " (('US', 'CR'), 100),\n",
       " (('US', 'LI'), 100),\n",
       " (('BG', 'BZ'), 0.0),\n",
       " (('BG', 'AU'), 38.014296063485276),\n",
       " (('BG', 'JP'), 22.256595362986296),\n",
       " (('BG', 'NL'), 19.839002137983243),\n",
       " (('BG', 'HK'), 0.0),\n",
       " (('BG', 'LT'), 0.0),\n",
       " (('BG', 'RO'), 0.0),\n",
       " (('BG', 'KE'), 0.0),\n",
       " (('BG', 'ES'), 0.0),\n",
       " (('BG', 'VN'), 0.0),\n",
       " (('BG', 'MX'), 0.0),\n",
       " (('BG', 'PE'), 0.0),\n",
       " (('BG', 'SE'), 0.0),\n",
       " (('BG', 'NZ'), 17.677669529663685),\n",
       " (('BG', 'FR'), 0.0),\n",
       " (('BG', 'ID'), 0),\n",
       " (('BG', 'ZA'), 0.0),\n",
       " (('BG', 'HU'), 0.0),\n",
       " (('BG', 'SK'), 4.327423224079152),\n",
       " (('BG', 'CL'), 0.0),\n",
       " (('BG', 'CN'), 1.2650122690972432),\n",
       " (('BG', 'LU'), 0.0),\n",
       " (('BG', 'IN'), 13.181293127182458),\n",
       " (('BG', 'SG'), 0.0),\n",
       " (('BG', 'TW'), 62.55432421712243),\n",
       " (('BG', 'MD'), 0.0),\n",
       " (('BG', 'NO'), 0),\n",
       " (('BG', 'RU'), 4.821698420286491),\n",
       " (('BG', 'AD'), 0),\n",
       " (('BG', 'CA'), 0.0),\n",
       " (('BG', 'RS'), 0.0),\n",
       " (('BG', 'FI'), 0),\n",
       " (('BG', 'MY'), 0),\n",
       " (('BG', 'BE'), 0),\n",
       " (('BG', 'IS'), 0),\n",
       " (('BG', 'VE'), 0),\n",
       " (('BG', 'PT'), 100.0),\n",
       " (('BG', 'DK'), 0),\n",
       " (('BG', 'CZ'), 0),\n",
       " (('BG', 'IL'), 0),\n",
       " (('BG', 'TR'), 0.0),\n",
       " (('BG', 'PL'), 0),\n",
       " (('BG', 'DZ'), 0),\n",
       " (('BG', 'BR'), 21.821789023599237),\n",
       " (('BG', 'SC'), 0.0),\n",
       " (('BG', 'SA'), 4.2068192239252955),\n",
       " (('BG', 'AT'), 0.0),\n",
       " (('BG', 'GR'), 0),\n",
       " (('BG', 'CR'), 0),\n",
       " (('BG', 'LI'), 0),\n",
       " (('BZ', 'AU'), 53.76033305704705),\n",
       " (('BZ', 'JP'), 51.14781589870119),\n",
       " (('BZ', 'NL'), 77.93496079856871),\n",
       " (('BZ', 'HK'), 48.66642633922875),\n",
       " (('BZ', 'LT'), 31.62277660168379),\n",
       " (('BZ', 'RO'), 0.0),\n",
       " (('BZ', 'KE'), 63.24555320336758),\n",
       " (('BZ', 'ES'), 23.57022603955159),\n",
       " (('BZ', 'VN'), 0.0),\n",
       " (('BZ', 'MX'), 0.0),\n",
       " (('BZ', 'PE'), 50.0),\n",
       " (('BZ', 'SE'), 67.49192649753564),\n",
       " (('BZ', 'NZ'), 75.0),\n",
       " (('BZ', 'FR'), 23.57022603955159),\n",
       " (('BZ', 'ID'), 0),\n",
       " (('BZ', 'ZA'), 0.0),\n",
       " (('BZ', 'HU'), 0.0),\n",
       " (('BZ', 'SK'), 3.0599503068105216),\n",
       " (('BZ', 'CL'), 0.0),\n",
       " (('BZ', 'CN'), 1.7889975075256803),\n",
       " (('BZ', 'LU'), 0.0),\n",
       " (('BZ', 'IN'), 29.85531717923121),\n",
       " (('BZ', 'SG'), 70.71067811865474),\n",
       " (('BZ', 'TW'), 14.74419561548972),\n",
       " (('BZ', 'MD'), 47.140452079103156),\n",
       " (('BZ', 'NO'), 0),\n",
       " (('BZ', 'RU'), 28.849240113870355),\n",
       " (('BZ', 'AD'), 0),\n",
       " (('BZ', 'CA'), 0.0),\n",
       " (('BZ', 'RS'), 70.71067811865474),\n",
       " (('BZ', 'FI'), 0),\n",
       " (('BZ', 'MY'), 0),\n",
       " (('BZ', 'BE'), 0),\n",
       " (('BZ', 'IS'), 0),\n",
       " (('BZ', 'VE'), 0),\n",
       " (('BZ', 'PT'), 0.0),\n",
       " (('BZ', 'DK'), 0),\n",
       " (('BZ', 'CZ'), 0),\n",
       " (('BZ', 'IL'), 0),\n",
       " (('BZ', 'TR'), 43.637255271677546),\n",
       " (('BZ', 'PL'), 0),\n",
       " (('BZ', 'DZ'), 0),\n",
       " (('BZ', 'BR'), 61.72133998483677),\n",
       " (('BZ', 'SC'), 0.0),\n",
       " (('BZ', 'SA'), 16.345961111457864),\n",
       " (('BZ', 'AT'), 0.0),\n",
       " (('BZ', 'GR'), 0),\n",
       " (('BZ', 'CR'), 0),\n",
       " (('BZ', 'LI'), 0),\n",
       " (('AU', 'JP'), 47.37985310765025),\n",
       " (('AU', 'NL'), 66.53417405518506),\n",
       " (('AU', 'HK'), 34.88431051590912),\n",
       " (('AU', 'LT'), 10.200306013770689),\n",
       " (('AU', 'RO'), 30.41143685078822),\n",
       " (('AU', 'KE'), 27.200816036721843),\n",
       " (('AU', 'ES'), 17.740004829626464),\n",
       " (('AU', 'VN'), 0.0),\n",
       " (('AU', 'MX'), 21.504133222818812),\n",
       " (('AU', 'PE'), 43.00826644563763),\n",
       " (('AU', 'SE'), 21.770330683015526),\n",
       " (('AU', 'NZ'), 60.48037468917792),\n",
       " (('AU', 'FR'), 53.22001448887941),\n",
       " (('AU', 'ID'), 0),\n",
       " (('AU', 'ZA'), 21.504133222818812),\n",
       " (('AU', 'HU'), 24.83083420976804),\n",
       " (('AU', 'SK'), 5.593134219493001),\n",
       " (('AU', 'CL'), 30.41143685078822),\n",
       " (('AU', 'CN'), 2.1158962405417703),\n",
       " (('AU', 'LU'), 0.0),\n",
       " (('AU', 'IN'), 55.45786392722728),\n",
       " (('AU', 'SG'), 53.220014488879386),\n",
       " (('AU', 'TW'), 38.04733761345502),\n",
       " (('AU', 'MD'), 35.48000965925293),\n",
       " (('AU', 'NO'), 0),\n",
       " (('AU', 'RU'), 39.6477877871261),\n",
       " (('AU', 'AD'), 0),\n",
       " (('AU', 'CA'), 0.0),\n",
       " (('AU', 'RS'), 53.220014488879386),\n",
       " (('AU', 'FI'), 0),\n",
       " (('AU', 'MY'), 0),\n",
       " (('AU', 'BE'), 0),\n",
       " (('AU', 'IS'), 0),\n",
       " (('AU', 'VE'), 0),\n",
       " (('AU', 'PT'), 38.014296063485276),\n",
       " (('AU', 'DK'), 0),\n",
       " (('AU', 'CZ'), 0),\n",
       " (('AU', 'IL'), 0),\n",
       " (('AU', 'TR'), 54.07597605364811),\n",
       " (('AU', 'PL'), 0),\n",
       " (('AU', 'DZ'), 0),\n",
       " (('AU', 'BR'), 64.70411598908514),\n",
       " (('AU', 'SC'), 0.0),\n",
       " (('AU', 'SA'), 32.10735630439704),\n",
       " (('AU', 'AT'), 30.41143685078822),\n",
       " (('AU', 'GR'), 0),\n",
       " (('AU', 'CR'), 0),\n",
       " (('AU', 'LI'), 0),\n",
       " (('JP', 'NL'), 54.825623171322036),\n",
       " (('JP', 'HK'), 57.44264803492097),\n",
       " (('JP', 'LT'), 12.441815044835991),\n",
       " (('JP', 'RO'), 5.564148840746574),\n",
       " (('JP', 'KE'), 32.34871911657356),\n",
       " (('JP', 'ES'), 9.273581401244291),\n",
       " (('JP', 'VN'), 5.564148840746574),\n",
       " (('JP', 'MX'), 23.606684260939016),\n",
       " (('JP', 'PE'), 35.41002639140851),\n",
       " (('JP', 'SE'), 39.83151497474569),\n",
       " (('JP', 'NZ'), 42.29530930084906),\n",
       " (('JP', 'FR'), 25.966027923484013),\n",
       " (('JP', 'ID'), 0),\n",
       " (('JP', 'ZA'), 11.803342130469508),\n",
       " (('JP', 'HU'), 4.543108504242543),\n",
       " (('JP', 'SK'), 3.3709797681951814),\n",
       " (('JP', 'CL'), 0.0),\n",
       " (('JP', 'CN'), 1.6892919721506305),\n",
       " (('JP', 'LU'), 0.0),\n",
       " (('JP', 'IN'), 35.15895614936152),\n",
       " (('JP', 'SG'), 44.51319072597259),\n",
       " (('JP', 'TW'), 25.524515175601714),\n",
       " (('JP', 'MD'), 31.53017676423058),\n",
       " (('JP', 'NO'), 0),\n",
       " (('JP', 'RU'), 25.941238560240766),\n",
       " (('JP', 'AD'), 0),\n",
       " (('JP', 'CA'), 0.0),\n",
       " (('JP', 'RS'), 44.51319072597259),\n",
       " (('JP', 'FI'), 0),\n",
       " (('JP', 'MY'), 0),\n",
       " (('JP', 'BE'), 0),\n",
       " (('JP', 'IS'), 0),\n",
       " (('JP', 'VE'), 0),\n",
       " (('JP', 'PT'), 22.256595362986296),\n",
       " (('JP', 'DK'), 0),\n",
       " (('JP', 'CZ'), 0),\n",
       " (('JP', 'IL'), 0),\n",
       " (('JP', 'TR'), 38.69397188783227),\n",
       " (('JP', 'PL'), 0),\n",
       " (('JP', 'DZ'), 0),\n",
       " (('JP', 'BR'), 46.13947919749687),\n",
       " (('JP', 'SC'), 0.0),\n",
       " (('JP', 'SA'), 20.35282262189676),\n",
       " (('JP', 'AT'), 0.0),\n",
       " (('JP', 'GR'), 0),\n",
       " (('JP', 'CR'), 0),\n",
       " (('JP', 'LI'), 0),\n",
       " (('NL', 'HK'), 31.353945839354935),\n",
       " (('NL', 'LT'), 14.787119128764736),\n",
       " (('NL', 'RO'), 8.817334283548107),\n",
       " (('NL', 'KE'), 14.787119128764736),\n",
       " (('NL', 'ES'), 13.226001425322165),\n",
       " (('NL', 'VN'), 0.0),\n",
       " (('NL', 'MX'), 6.234796863885494),\n",
       " (('NL', 'PE'), 73.25886315065459),\n",
       " (('NL', 'SE'), 15.385443388980569),\n",
       " (('NL', 'NZ'), 50.26804971507681),\n",
       " (('NL', 'FR'), 40.41278213292885),\n",
       " (('NL', 'ID'), 0),\n",
       " (('NL', 'ZA'), 4.676097647914124),\n",
       " (('NL', 'HU'), 11.698900355047515),\n",
       " (('NL', 'SK'), 5.151105515667886),\n",
       " (('NL', 'CL'), 2.2043335708870293),\n",
       " (('NL', 'CN'), 11.600197491396912),\n",
       " (('NL', 'LU'), 8.817334283548107),\n",
       " (('NL', 'IN'), 40.26973369533482),\n",
       " (('NL', 'SG'), 94.78634354814218),\n",
       " (('NL', 'TW'), 38.60936712526721),\n",
       " (('NL', 'MD'), 14.695557139246851),\n",
       " (('NL', 'NO'), 0),\n",
       " (('NL', 'RU'), 47.526335424562745),\n",
       " (('NL', 'AD'), 0),\n",
       " (('NL', 'CA'), 8.817334283548107),\n",
       " (('NL', 'RS'), 94.78634354814218),\n",
       " (('NL', 'FI'), 0),\n",
       " (('NL', 'MY'), 0),\n",
       " (('NL', 'BE'), 0),\n",
       " (('NL', 'IS'), 0),\n",
       " (('NL', 'VE'), 0),\n",
       " (('NL', 'PT'), 19.839002137983243),\n",
       " (('NL', 'DK'), 0),\n",
       " (('NL', 'CZ'), 0),\n",
       " (('NL', 'IL'), 0),\n",
       " (('NL', 'TR'), 66.05601929584031),\n",
       " (('NL', 'PL'), 0),\n",
       " (('NL', 'DZ'), 0),\n",
       " (('NL', 'BR'), 78.40707845810016),\n",
       " (('NL', 'SC'), 7.886463535341193),\n",
       " (('NL', 'SA'), 30.08567265000639),\n",
       " (('NL', 'AT'), 2.2043335708870293),\n",
       " (('NL', 'GR'), 0),\n",
       " (('NL', 'CR'), 0),\n",
       " (('NL', 'LI'), 0),\n",
       " (('HK', 'LT'), 20.51956704170308),\n",
       " (('HK', 'RO'), 11.47078669352809),\n",
       " (('HK', 'KE'), 41.03913408340616),\n",
       " (('HK', 'ES'), 15.294382258037453),\n",
       " (('HK', 'VN'), 0.0),\n",
       " (('HK', 'MX'), 0.0),\n",
       " (('HK', 'PE'), 16.222142113076256),\n",
       " (('HK', 'SE'), 64.3232378587888),\n",
       " (('HK', 'NZ'), 40.55535528269063),\n",
       " (('HK', 'FR'), 15.294382258037453),\n",
       " (('HK', 'ID'), 0),\n",
       " (('HK', 'ZA'), 16.222142113076256),\n",
       " (('HK', 'HU'), 0.0),\n",
       " (('HK', 'SK'), 1.9855579494412634),\n",
       " (('HK', 'CL'), 0.0),\n",
       " (('HK', 'CN'), 0.5804274361404183),\n",
       " (('HK', 'LU'), 0.0),\n",
       " (('HK', 'IN'), 37.707797073618096),\n",
       " (('HK', 'SG'), 22.94157338705618),\n",
       " (('HK', 'TW'), 4.783648732349399),\n",
       " (('HK', 'MD'), 30.588764516074896),\n",
       " (('HK', 'NO'), 0),\n",
       " (('HK', 'RU'), 14.975887135406884),\n",
       " (('HK', 'AD'), 0),\n",
       " (('HK', 'CA'), 0.0),\n",
       " (('HK', 'RS'), 22.94157338705618),\n",
       " (('HK', 'FI'), 0),\n",
       " (('HK', 'MY'), 0),\n",
       " (('HK', 'BE'), 0),\n",
       " (('HK', 'IS'), 0),\n",
       " (('HK', 'VE'), 0),\n",
       " (('HK', 'PT'), 0.0),\n",
       " (('HK', 'DK'), 0),\n",
       " (('HK', 'CZ'), 0),\n",
       " (('HK', 'IL'), 0),\n",
       " (('HK', 'TR'), 25.568555381925496),\n",
       " (('HK', 'PL'), 0),\n",
       " (('HK', 'DZ'), 0),\n",
       " (('HK', 'BR'), 35.04383220252312),\n",
       " (('HK', 'SC'), 0.0),\n",
       " (('HK', 'SA'), 9.775327341252604),\n",
       " (('HK', 'AT'), 0.0),\n",
       " (('HK', 'GR'), 0),\n",
       " (('HK', 'CR'), 0),\n",
       " (('HK', 'LI'), 0),\n",
       " (('LT', 'RO'), 44.72135954999579),\n",
       " (('LT', 'KE'), 40.0),\n",
       " (('LT', 'ES'), 74.53559924999298),\n",
       " (('LT', 'VN'), 0.0),\n",
       " (('LT', 'MX'), 0.0),\n",
       " (('LT', 'PE'), 0.0),\n",
       " (('LT', 'SE'), 42.68564228097665),\n",
       " (('LT', 'NZ'), 31.6227766016838),\n",
       " (('LT', 'FR'), 0.0),\n",
       " (('LT', 'ID'), 0),\n",
       " (('LT', 'ZA'), 0.0),\n",
       " (('LT', 'HU'), 36.51483716701107),\n",
       " (('LT', 'SK'), 0.0),\n",
       " (('LT', 'CL'), 0.0),\n",
       " (('LT', 'CN'), 0.0),\n",
       " (('LT', 'LU'), 89.44271909999158),\n",
       " (('LT', 'IN'), 3.9653867739014803),\n",
       " (('LT', 'SG'), 0.0),\n",
       " (('LT', 'TW'), 55.95028849441882),\n",
       " (('LT', 'MD'), 29.81423969999719),\n",
       " (('LT', 'NO'), 0),\n",
       " (('LT', 'RU'), 16.918889759168042),\n",
       " (('LT', 'AD'), 0),\n",
       " (('LT', 'CA'), 89.44271909999158),\n",
       " (('LT', 'RS'), 0.0),\n",
       " (('LT', 'FI'), 0),\n",
       " (('LT', 'MY'), 0),\n",
       " (('LT', 'BE'), 0),\n",
       " (('LT', 'IS'), 0),\n",
       " (('LT', 'VE'), 0),\n",
       " (('LT', 'PT'), 0.0),\n",
       " (('LT', 'DK'), 0),\n",
       " (('LT', 'CZ'), 0),\n",
       " (('LT', 'IL'), 0),\n",
       " (('LT', 'TR'), 0.32953580297717666),\n",
       " (('LT', 'PL'), 0),\n",
       " (('LT', 'DZ'), 0),\n",
       " (('LT', 'BR'), 48.79500364742665),\n",
       " (('LT', 'SC'), 80.0),\n",
       " (('LT', 'SA'), 0.8568509953910786),\n",
       " (('LT', 'AT'), 0.0),\n",
       " (('LT', 'GR'), 0),\n",
       " (('LT', 'CR'), 0),\n",
       " (('LT', 'LI'), 0),\n",
       " (('RO', 'KE'), 0.0),\n",
       " (('RO', 'ES'), 50.000000000000014),\n",
       " (('RO', 'VN'), 0.0),\n",
       " (('RO', 'MX'), 0.0),\n",
       " (('RO', 'PE'), 0.0),\n",
       " (('RO', 'SE'), 0.0),\n",
       " (('RO', 'NZ'), 26.516504294495526),\n",
       " (('RO', 'FR'), 33.333333333333336),\n",
       " (('RO', 'ID'), 0),\n",
       " (('RO', 'ZA'), 35.35533905932737),\n",
       " (('RO', 'HU'), 40.8248290463863),\n",
       " (('RO', 'SK'), 2.163711612039576),\n",
       " (('RO', 'CL'), 50.0),\n",
       " (('RO', 'CN'), 0.0),\n",
       " (('RO', 'LU'), 50.0),\n",
       " (('RO', 'IN'), 36.07746708060663),\n",
       " (('RO', 'SG'), 0.0),\n",
       " (('RO', 'TW'), 31.277162108561217),\n",
       " (('RO', 'MD'), 0.0),\n",
       " (('RO', 'NO'), 0),\n",
       " (('RO', 'RU'), 19.843143498871328),\n",
       " (('RO', 'AD'), 0),\n",
       " (('RO', 'CA'), 50.0),\n",
       " (('RO', 'RS'), 0.0),\n",
       " (('RO', 'FI'), 0),\n",
       " (('RO', 'MY'), 0),\n",
       " (('RO', 'BE'), 0),\n",
       " (('RO', 'IS'), 0),\n",
       " (('RO', 'VE'), 0),\n",
       " (('RO', 'PT'), 0.0),\n",
       " (('RO', 'DK'), 0),\n",
       " (('RO', 'CZ'), 0),\n",
       " (('RO', 'IL'), 0),\n",
       " (('RO', 'TR'), 3.4079981112058233),\n",
       " (('RO', 'PL'), 0),\n",
       " (('RO', 'DZ'), 0),\n",
       " (('RO', 'BR'), 54.55447255899809),\n",
       " (('RO', 'SC'), 44.72135954999579),\n",
       " (('RO', 'SA'), 3.873605820050019),\n",
       " (('RO', 'AT'), 50.0),\n",
       " (('RO', 'GR'), 0),\n",
       " (('RO', 'CR'), 0),\n",
       " (('RO', 'LI'), 0),\n",
       " (('KE', 'ES'), 29.81423969999719),\n",
       " (('KE', 'VN'), 0.0),\n",
       " (('KE', 'MX'), 31.62277660168379),\n",
       " (('KE', 'PE'), 0.0),\n",
       " (('KE', 'SE'), 85.3712845619533),\n",
       " (('KE', 'NZ'), 71.15124735378853),\n",
       " (('KE', 'FR'), 14.907119849998596),\n",
       " (('KE', 'ID'), 0),\n",
       " (('KE', 'ZA'), 0.0),\n",
       " (('KE', 'HU'), 0.0),\n",
       " (('KE', 'SK'), 0.0),\n",
       " (('KE', 'CL'), 0.0),\n",
       " (('KE', 'CN'), 0.0),\n",
       " (('KE', 'LU'), 0.0),\n",
       " (('KE', 'IN'), 7.185600194318109),\n",
       " (('KE', 'SG'), 0.0),\n",
       " (('KE', 'TW'), 0.0),\n",
       " (('KE', 'MD'), 74.53559924999298),\n",
       " (('KE', 'NO'), 0),\n",
       " (('KE', 'RU'), 1.9904576187256495),\n",
       " (('KE', 'AD'), 0),\n",
       " (('KE', 'CA'), 0.0),\n",
       " (('KE', 'RS'), 0.0),\n",
       " (('KE', 'FI'), 0),\n",
       " (('KE', 'MY'), 0),\n",
       " (('KE', 'BE'), 0),\n",
       " (('KE', 'IS'), 0),\n",
       " (('KE', 'VE'), 0),\n",
       " (('KE', 'PT'), 0.0),\n",
       " (('KE', 'DK'), 0),\n",
       " (('KE', 'CZ'), 0),\n",
       " (('KE', 'IL'), 0),\n",
       " (('KE', 'TR'), 0.0),\n",
       " (('KE', 'PL'), 0),\n",
       " (('KE', 'DZ'), 0),\n",
       " (('KE', 'BR'), 19.51800145897066),\n",
       " (('KE', 'SC'), 0.0),\n",
       " (('KE', 'SA'), 2.5891801817252147),\n",
       " (('KE', 'AT'), 0.0),\n",
       " (('KE', 'GR'), 0),\n",
       " (('KE', 'CR'), 0),\n",
       " (('KE', 'LI'), 0),\n",
       " (('ES', 'VN'), 0.0),\n",
       " (('ES', 'MX'), 0.0),\n",
       " (('ES', 'PE'), 0.0),\n",
       " (('ES', 'SE'), 31.81599926783433),\n",
       " (('ES', 'NZ'), 47.14045207910318),\n",
       " (('ES', 'FR'), 11.111111111111116),\n",
       " (('ES', 'ID'), 0),\n",
       " (('ES', 'ZA'), 0.0),\n",
       " (('ES', 'HU'), 40.82482904638631),\n",
       " (('ES', 'SK'), 33.17691138460685),\n",
       " (('ES', 'CL'), 33.33333333333333),\n",
       " (('ES', 'CN'), 0.0),\n",
       " (('ES', 'LU'), 66.66666666666666),\n",
       " (('ES', 'IN'), 4.5970875578999815),\n",
       " (('ES', 'SG'), 0.0),\n",
       " (('ES', 'TW'), 41.70288281141495),\n",
       " (('ES', 'MD'), 22.22222222222222),\n",
       " (('ES', 'NO'), 0),\n",
       " (('ES', 'RU'), 27.817490886268224),\n",
       " (('ES', 'AD'), 0),\n",
       " (('ES', 'CA'), 66.66666666666666),\n",
       " (('ES', 'RS'), 0.0),\n",
       " (('ES', 'FI'), 0),\n",
       " (('ES', 'MY'), 0),\n",
       " (('ES', 'BE'), 0),\n",
       " (('ES', 'IS'), 0),\n",
       " (('ES', 'VE'), 0),\n",
       " (('ES', 'PT'), 0.0),\n",
       " (('ES', 'DK'), 0),\n",
       " (('ES', 'CZ'), 0),\n",
       " (('ES', 'IL'), 0),\n",
       " (('ES', 'TR'), 4.973835081219303),\n",
       " (('ES', 'PL'), 0),\n",
       " (('ES', 'DZ'), 0),\n",
       " (('ES', 'BR'), 43.643578047198474),\n",
       " (('ES', 'SC'), 74.53559924999298),\n",
       " (('ES', 'SA'), 6.122796296208099),\n",
       " (('ES', 'AT'), 33.33333333333333),\n",
       " (('ES', 'GR'), 0),\n",
       " (('ES', 'CR'), 0),\n",
       " (('ES', 'LI'), 0),\n",
       " (('VN', 'MX'), 0.0),\n",
       " (('VN', 'PE'), 35.35533905932737),\n",
       " (('VN', 'SE'), 0.0),\n",
       " (('VN', 'NZ'), 0.0),\n",
       " (('VN', 'FR'), 33.333333333333336),\n",
       " (('VN', 'ID'), 0),\n",
       " (('VN', 'ZA'), 0.0),\n",
       " (('VN', 'HU'), 0.0),\n",
       " (('VN', 'SK'), 0.0),\n",
       " (('VN', 'CL'), 0.0),\n",
       " (('VN', 'CN'), 0.0),\n",
       " (('VN', 'LU'), 0.0),\n",
       " (('VN', 'IN'), 0.014877306012617275),\n",
       " (('VN', 'SG'), 0.0),\n",
       " (('VN', 'TW'), 20.851441405707472),\n",
       " (('VN', 'MD'), 0.0),\n",
       " (('VN', 'NO'), 0),\n",
       " (('VN', 'RU'), 0.3708998784835771),\n",
       " (('VN', 'AD'), 0),\n",
       " (('VN', 'CA'), 0.0),\n",
       " (('VN', 'RS'), 0.0),\n",
       " (('VN', 'FI'), 0),\n",
       " (('VN', 'MY'), 0),\n",
       " (('VN', 'BE'), 0),\n",
       " (('VN', 'IS'), 0),\n",
       " (('VN', 'VE'), 0),\n",
       " (('VN', 'PT'), 0.0),\n",
       " (('VN', 'DK'), 0),\n",
       " (('VN', 'CZ'), 0),\n",
       " (('VN', 'IL'), 0),\n",
       " (('VN', 'TR'), 0.0),\n",
       " (('VN', 'PL'), 0),\n",
       " (('VN', 'DZ'), 0),\n",
       " (('VN', 'BR'), 0.0),\n",
       " (('VN', 'SC'), 0.0),\n",
       " (('VN', 'SA'), 0.0),\n",
       " (('VN', 'AT'), 0.0),\n",
       " (('VN', 'GR'), 0),\n",
       " (('VN', 'CR'), 0),\n",
       " (('VN', 'LI'), 0),\n",
       " (('MX', 'PE'), 0.0),\n",
       " (('MX', 'SE'), 0.0),\n",
       " (('MX', 'NZ'), 12.5),\n",
       " (('MX', 'FR'), 23.57022603955159),\n",
       " (('MX', 'ID'), 0),\n",
       " (('MX', 'ZA'), 0.0),\n",
       " (('MX', 'HU'), 0.0),\n",
       " (('MX', 'SK'), 0.0),\n",
       " (('MX', 'CL'), 0.0),\n",
       " (('MX', 'CN'), 0.8944987537628402),\n",
       " (('MX', 'LU'), 0.0),\n",
       " (('MX', 'IN'), 0.38923422679053576),\n",
       " (('MX', 'SG'), 0.0),\n",
       " (('MX', 'TW'), 0.0),\n",
       " (('MX', 'MD'), 47.140452079103156),\n",
       " (('MX', 'NO'), 0),\n",
       " (('MX', 'RU'), 0.7867974576510117),\n",
       " (('MX', 'AD'), 0),\n",
       " (('MX', 'CA'), 0.0),\n",
       " (('MX', 'RS'), 0.0),\n",
       " (('MX', 'FI'), 0),\n",
       " (('MX', 'MY'), 0),\n",
       " (('MX', 'BE'), 0),\n",
       " (('MX', 'IS'), 0),\n",
       " (('MX', 'VE'), 0),\n",
       " (('MX', 'PT'), 0.0),\n",
       " (('MX', 'DK'), 0),\n",
       " (('MX', 'CZ'), 0),\n",
       " (('MX', 'IL'), 0),\n",
       " (('MX', 'TR'), 0.0),\n",
       " (('MX', 'PL'), 0),\n",
       " (('MX', 'DZ'), 0),\n",
       " (('MX', 'BR'), 0.0),\n",
       " (('MX', 'SC'), 0.0),\n",
       " (('MX', 'SA'), 1.3842525625919255),\n",
       " (('MX', 'AT'), 0.0),\n",
       " (('MX', 'GR'), 0),\n",
       " (('MX', 'CR'), 0),\n",
       " (('MX', 'LI'), 0),\n",
       " (('PE', 'SE'), 0.0),\n",
       " (('PE', 'NZ'), 25.0),\n",
       " (('PE', 'FR'), 58.92556509887896),\n",
       " (('PE', 'ID'), 0),\n",
       " (('PE', 'ZA'), 0.0),\n",
       " (('PE', 'HU'), 28.867513459481287),\n",
       " (('PE', 'SK'), 3.0599503068105216),\n",
       " (('PE', 'CL'), 0.0),\n",
       " (('PE', 'CN'), 37.12169828115795),\n",
       " (('PE', 'LU'), 0.0),\n",
       " (('PE', 'IN'), 46.266273768237795),\n",
       " (('PE', 'SG'), 70.71067811865474),\n",
       " (('PE', 'TW'), 22.116293423234566),\n",
       " (('PE', 'MD'), 0.0),\n",
       " (('PE', 'NO'), 0),\n",
       " (('PE', 'RU'), 61.63246751599577),\n",
       " (('PE', 'AD'), 0),\n",
       " (('PE', 'CA'), 0.0),\n",
       " (('PE', 'RS'), 70.71067811865474),\n",
       " (('PE', 'FI'), 0),\n",
       " (('PE', 'MY'), 0),\n",
       " (('PE', 'BE'), 0),\n",
       " (('PE', 'IS'), 0),\n",
       " (('PE', 'VE'), 0),\n",
       " (('PE', 'PT'), 0.0),\n",
       " (('PE', 'DK'), 0),\n",
       " (('PE', 'CZ'), 0),\n",
       " (('PE', 'IL'), 0),\n",
       " (('PE', 'TR'), 75.29054790158096),\n",
       " (('PE', 'PL'), 0),\n",
       " (('PE', 'DZ'), 0),\n",
       " (('PE', 'BR'), 54.00617248673216),\n",
       " (('PE', 'SC'), 0.0),\n",
       " (('PE', 'SA'), 50.3632315325999),\n",
       " (('PE', 'AT'), 0.0),\n",
       " (('PE', 'GR'), 0),\n",
       " (('PE', 'CR'), 0),\n",
       " (('PE', 'LI'), 0),\n",
       " (('SE', 'NZ'), 67.49192649753564),\n",
       " (('SE', 'FR'), 0.0),\n",
       " (('SE', 'ID'), 0),\n",
       " (('SE', 'ZA'), 0.0),\n",
       " (('SE', 'HU'), 0.0),\n",
       " (('SE', 'SK'), 0.0),\n",
       " (('SE', 'CL'), 0.0),\n",
       " (('SE', 'CN'), 0.0),\n",
       " (('SE', 'LU'), 0.0),\n",
       " (('SE', 'IN'), 16.20674103547274),\n",
       " (('SE', 'SG'), 0.0),\n",
       " (('SE', 'TW'), 0.0),\n",
       " (('SE', 'MD'), 63.63199853566864),\n",
       " (('SE', 'NO'), 0),\n",
       " (('SE', 'RU'), 2.1240990472091936),\n",
       " (('SE', 'AD'), 0),\n",
       " (('SE', 'CA'), 0.0),\n",
       " (('SE', 'RS'), 0.0),\n",
       " (('SE', 'FI'), 0),\n",
       " (('SE', 'MY'), 0),\n",
       " (('SE', 'BE'), 0),\n",
       " (('SE', 'IS'), 0),\n",
       " (('SE', 'VE'), 0),\n",
       " (('SE', 'PT'), 0.0),\n",
       " (('SE', 'DK'), 0),\n",
       " (('SE', 'CZ'), 0),\n",
       " (('SE', 'IL'), 0),\n",
       " (('SE', 'TR'), 3.8462942122111654),\n",
       " (('SE', 'PL'), 0),\n",
       " (('SE', 'DZ'), 0),\n",
       " (('SE', 'BR'), 20.828460707930052),\n",
       " (('SE', 'SC'), 0.0),\n",
       " (('SE', 'SA'), 2.4126734551711104),\n",
       " (('SE', 'AT'), 0.0),\n",
       " (('SE', 'GR'), 0),\n",
       " (('SE', 'CR'), 0),\n",
       " (('SE', 'LI'), 0),\n",
       " (('NZ', 'FR'), 35.35533905932737),\n",
       " (('NZ', 'ID'), 0),\n",
       " (('NZ', 'ZA'), 0.0),\n",
       " (('NZ', 'HU'), 21.65063509461096),\n",
       " (('NZ', 'SK'), 2.2949627301078968),\n",
       " (('NZ', 'CL'), 53.03300858899106),\n",
       " (('NZ', 'CN'), 1.1181234422035558),\n",
       " (('NZ', 'LU'), 0.0),\n",
       " (('NZ', 'IN'), 22.43619722128448),\n",
       " (('NZ', 'SG'), 35.35533905932737),\n",
       " (('NZ', 'TW'), 18.430244519362137),\n",
       " (('NZ', 'MD'), 53.03300858899106),\n",
       " (('NZ', 'NO'), 0),\n",
       " (('NZ', 'RU'), 16.063781427041445),\n",
       " (('NZ', 'AD'), 0),\n",
       " (('NZ', 'CA'), 0.0),\n",
       " (('NZ', 'RS'), 35.35533905932737),\n",
       " (('NZ', 'FI'), 0),\n",
       " (('NZ', 'MY'), 0),\n",
       " (('NZ', 'BE'), 0),\n",
       " (('NZ', 'IS'), 0),\n",
       " (('NZ', 'VE'), 0),\n",
       " (('NZ', 'PT'), 17.677669529663685),\n",
       " (('NZ', 'DK'), 0),\n",
       " (('NZ', 'CZ'), 0),\n",
       " (('NZ', 'IL'), 0),\n",
       " (('NZ', 'TR'), 25.237964802649326),\n",
       " (('NZ', 'PL'), 0),\n",
       " (('NZ', 'DZ'), 0),\n",
       " (('NZ', 'BR'), 54.00617248673216),\n",
       " (('NZ', 'SC'), 0.0),\n",
       " (('NZ', 'SA'), 13.032590615892081),\n",
       " (('NZ', 'AT'), 53.03300858899106),\n",
       " (('NZ', 'GR'), 0),\n",
       " (('NZ', 'CR'), 0),\n",
       " (('NZ', 'LI'), 0),\n",
       " (('FR', 'ID'), 0),\n",
       " (('FR', 'ZA'), 23.57022603955159),\n",
       " (('FR', 'HU'), 40.8248290463863),\n",
       " (('FR', 'SK'), 2.884948816052768),\n",
       " (('FR', 'CL'), 33.333333333333336),\n",
       " (('FR', 'CN'), 34.155331265625556),\n",
       " (('FR', 'LU'), 0.0),\n",
       " (('FR', 'IN'), 43.02020988649657),\n",
       " (('FR', 'SG'), 33.333333333333336),\n",
       " (('FR', 'TW'), 13.900960937138318),\n",
       " (('FR', 'MD'), 22.22222222222222),\n",
       " (('FR', 'NO'), 0),\n",
       " (('FR', 'RU'), 42.529852732783425),\n",
       " (('FR', 'AD'), 0),\n",
       " (('FR', 'CA'), 0.0),\n",
       " (('FR', 'RS'), 33.333333333333336),\n",
       " (('FR', 'FI'), 0),\n",
       " (('FR', 'MY'), 0),\n",
       " (('FR', 'BE'), 0),\n",
       " (('FR', 'IS'), 0),\n",
       " (('FR', 'VE'), 0),\n",
       " (('FR', 'PT'), 0.0),\n",
       " (('FR', 'DK'), 0),\n",
       " (('FR', 'CZ'), 0),\n",
       " (('FR', 'IL'), 0),\n",
       " (('FR', 'TR'), 57.536832976573926),\n",
       " (('FR', 'PL'), 0),\n",
       " (('FR', 'DZ'), 0),\n",
       " (('FR', 'BR'), 43.64357804719848),\n",
       " (('FR', 'SC'), 0.0),\n",
       " (('FR', 'SA'), 46.87201881178807),\n",
       " (('FR', 'AT'), 33.333333333333336),\n",
       " (('FR', 'GR'), 0),\n",
       " (('FR', 'CR'), 0),\n",
       " (('FR', 'LI'), 0),\n",
       " (('ID', 'ZA'), 0),\n",
       " (('ID', 'HU'), 0),\n",
       " (('ID', 'SK'), 0),\n",
       " (('ID', 'CL'), 0),\n",
       " (('ID', 'CN'), 0),\n",
       " (('ID', 'LU'), 0),\n",
       " (('ID', 'IN'), 0),\n",
       " (('ID', 'SG'), 0),\n",
       " (('ID', 'TW'), 0),\n",
       " (('ID', 'MD'), 0),\n",
       " (('ID', 'NO'), 100),\n",
       " (('ID', 'RU'), 0),\n",
       " (('ID', 'AD'), 100),\n",
       " (('ID', 'CA'), 0),\n",
       " (('ID', 'RS'), 0),\n",
       " (('ID', 'FI'), 100),\n",
       " (('ID', 'MY'), 100),\n",
       " (('ID', 'BE'), 100),\n",
       " (('ID', 'IS'), 100),\n",
       " (('ID', 'VE'), 100),\n",
       " (('ID', 'PT'), 0),\n",
       " (('ID', 'DK'), 100),\n",
       " (('ID', 'CZ'), 100),\n",
       " (('ID', 'IL'), 100),\n",
       " (('ID', 'TR'), 0),\n",
       " (('ID', 'PL'), 100),\n",
       " (('ID', 'DZ'), 100),\n",
       " (('ID', 'BR'), 0),\n",
       " (('ID', 'SC'), 0),\n",
       " (('ID', 'SA'), 0),\n",
       " (('ID', 'AT'), 0),\n",
       " (('ID', 'GR'), 100),\n",
       " (('ID', 'CR'), 100),\n",
       " (('ID', 'LI'), 100),\n",
       " (('ZA', 'HU'), 0.0),\n",
       " (('ZA', 'SK'), 0.0),\n",
       " (('ZA', 'CL'), 0.0),\n",
       " (('ZA', 'CN'), 0.0),\n",
       " (('ZA', 'LU'), 0.0),\n",
       " (('ZA', 'IN'), 10.204248648292557),\n",
       " (('ZA', 'SG'), 0.0),\n",
       " (('ZA', 'TW'), 0.0),\n",
       " (('ZA', 'MD'), 23.570226039551578),\n",
       " (('ZA', 'NO'), 0),\n",
       " (('ZA', 'RU'), 26.488847740917333),\n",
       " (('ZA', 'AD'), 0),\n",
       " (('ZA', 'CA'), 0.0),\n",
       " (('ZA', 'RS'), 0.0),\n",
       " (('ZA', 'FI'), 0),\n",
       " (('ZA', 'MY'), 0),\n",
       " (('ZA', 'BE'), 0),\n",
       " (('ZA', 'IS'), 0),\n",
       " (('ZA', 'VE'), 0),\n",
       " (('ZA', 'PT'), 0.0),\n",
       " (('ZA', 'DK'), 0),\n",
       " (('ZA', 'CZ'), 0),\n",
       " (('ZA', 'IL'), 0),\n",
       " (('ZA', 'TR'), 18.887767207144012),\n",
       " (('ZA', 'PL'), 0),\n",
       " (('ZA', 'DZ'), 0),\n",
       " (('ZA', 'BR'), 15.430334996209194),\n",
       " (('ZA', 'SC'), 0.0),\n",
       " (('ZA', 'SA'), 2.7096007608182426),\n",
       " (('ZA', 'AT'), 0.0),\n",
       " (('ZA', 'GR'), 0),\n",
       " (('ZA', 'CR'), 0),\n",
       " (('ZA', 'LI'), 0),\n",
       " (('HU', 'SK'), 0.0),\n",
       " (('HU', 'CL'), 40.8248290463863),\n",
       " (('HU', 'CN'), 0.0),\n",
       " (('HU', 'LU'), 40.8248290463863),\n",
       " (('HU', 'IN'), 6.377316483678408),\n",
       " (('HU', 'SG'), 0.0),\n",
       " (('HU', 'TW'), 25.53769592276245),\n",
       " (('HU', 'MD'), 0.0),\n",
       " (('HU', 'NO'), 0),\n",
       " (('HU', 'RU'), 50.574026602274316),\n",
       " (('HU', 'AD'), 0),\n",
       " (('HU', 'CA'), 40.8248290463863),\n",
       " (('HU', 'RS'), 0.0),\n",
       " (('HU', 'FI'), 0),\n",
       " (('HU', 'MY'), 0),\n",
       " (('HU', 'BE'), 0),\n",
       " (('HU', 'IS'), 0),\n",
       " (('HU', 'VE'), 0),\n",
       " (('HU', 'PT'), 0.0),\n",
       " (('HU', 'DK'), 0),\n",
       " (('HU', 'CZ'), 0),\n",
       " (('HU', 'IL'), 0),\n",
       " (('HU', 'TR'), 59.939113191063164),\n",
       " (('HU', 'PL'), 0),\n",
       " (('HU', 'DZ'), 0),\n",
       " (('HU', 'BR'), 44.543540318737406),\n",
       " (('HU', 'SC'), 36.51483716701107),\n",
       " (('HU', 'SA'), 77.70930967339733),\n",
       " (('HU', 'AT'), 40.8248290463863),\n",
       " (('HU', 'GR'), 0),\n",
       " (('HU', 'CR'), 0),\n",
       " (('HU', 'LI'), 0),\n",
       " (('SK', 'CL'), 0.0),\n",
       " (('SK', 'CN'), 0.16422730416109088),\n",
       " (('SK', 'LU'), 0.0),\n",
       " (('SK', 'IN'), 4.9276757816143935),\n",
       " (('SK', 'SG'), 4.327423224079152),\n",
       " (('SK', 'TW'), 4.511650589729211),\n",
       " (('SK', 'MD'), 0.0),\n",
       " (('SK', 'NO'), 0),\n",
       " (('SK', 'RU'), 47.73391184426986),\n",
       " (('SK', 'AD'), 0),\n",
       " (('SK', 'CA'), 0.0),\n",
       " ...]"
      ]
     },
     "execution_count": 20,
     "metadata": {},
     "output_type": "execute_result"
    }
   ],
   "source": [
    "NewSimVals"
   ]
  },
  {
   "cell_type": "code",
   "execution_count": 21,
   "metadata": {},
   "outputs": [
    {
     "data": {
      "text/html": [
       "<div>\n",
       "<style scoped>\n",
       "    .dataframe tbody tr th:only-of-type {\n",
       "        vertical-align: middle;\n",
       "    }\n",
       "\n",
       "    .dataframe tbody tr th {\n",
       "        vertical-align: top;\n",
       "    }\n",
       "\n",
       "    .dataframe thead th {\n",
       "        text-align: right;\n",
       "    }\n",
       "</style>\n",
       "<table border=\"1\" class=\"dataframe\">\n",
       "  <thead>\n",
       "    <tr style=\"text-align: right;\">\n",
       "      <th></th>\n",
       "    </tr>\n",
       "  </thead>\n",
       "  <tbody>\n",
       "    <tr>\n",
       "      <th>(UA, CO)</th>\n",
       "    </tr>\n",
       "    <tr>\n",
       "      <th>(UA, KR)</th>\n",
       "    </tr>\n",
       "    <tr>\n",
       "      <th>(UA, US)</th>\n",
       "    </tr>\n",
       "    <tr>\n",
       "      <th>(UA, BG)</th>\n",
       "    </tr>\n",
       "    <tr>\n",
       "      <th>(UA, BZ)</th>\n",
       "    </tr>\n",
       "  </tbody>\n",
       "</table>\n",
       "</div>"
      ],
      "text/plain": [
       "Empty DataFrame\n",
       "Columns: []\n",
       "Index: [(UA, CO), (UA, KR), (UA, US), (UA, BG), (UA, BZ)]"
      ]
     },
     "execution_count": 21,
     "metadata": {},
     "output_type": "execute_result"
    }
   ],
   "source": [
    "simMetricVals = pd.DataFrame(index=pairs, columns = None )\n",
    "simMetricVals.head()"
   ]
  },
  {
   "cell_type": "code",
   "execution_count": 22,
   "metadata": {},
   "outputs": [
    {
     "data": {
      "text/html": [
       "<div>\n",
       "<style scoped>\n",
       "    .dataframe tbody tr th:only-of-type {\n",
       "        vertical-align: middle;\n",
       "    }\n",
       "\n",
       "    .dataframe tbody tr th {\n",
       "        vertical-align: top;\n",
       "    }\n",
       "\n",
       "    .dataframe thead th {\n",
       "        text-align: right;\n",
       "    }\n",
       "</style>\n",
       "<table border=\"1\" class=\"dataframe\">\n",
       "  <thead>\n",
       "    <tr style=\"text-align: right;\">\n",
       "      <th></th>\n",
       "      <th>similarity</th>\n",
       "    </tr>\n",
       "  </thead>\n",
       "  <tbody>\n",
       "    <tr>\n",
       "      <th>(UA, CO)</th>\n",
       "      <td>0.159340</td>\n",
       "    </tr>\n",
       "    <tr>\n",
       "      <th>(UA, KR)</th>\n",
       "      <td>0.684779</td>\n",
       "    </tr>\n",
       "    <tr>\n",
       "      <th>(UA, US)</th>\n",
       "      <td>0.000000</td>\n",
       "    </tr>\n",
       "    <tr>\n",
       "      <th>(UA, BG)</th>\n",
       "      <td>12.093021</td>\n",
       "    </tr>\n",
       "    <tr>\n",
       "      <th>(UA, BZ)</th>\n",
       "      <td>0.712588</td>\n",
       "    </tr>\n",
       "  </tbody>\n",
       "</table>\n",
       "</div>"
      ],
      "text/plain": [
       "          similarity\n",
       "(UA, CO)    0.159340\n",
       "(UA, KR)    0.684779\n",
       "(UA, US)    0.000000\n",
       "(UA, BG)   12.093021\n",
       "(UA, BZ)    0.712588"
      ]
     },
     "execution_count": 22,
     "metadata": {},
     "output_type": "execute_result"
    }
   ],
   "source": [
    "simMetricVals['similarity'] = [j for (i,j) in NewSimVals]\n",
    "simMetricVals.head()"
   ]
  },
  {
   "cell_type": "code",
   "execution_count": 23,
   "metadata": {},
   "outputs": [
    {
     "data": {
      "text/html": [
       "<div>\n",
       "<style scoped>\n",
       "    .dataframe tbody tr th:only-of-type {\n",
       "        vertical-align: middle;\n",
       "    }\n",
       "\n",
       "    .dataframe tbody tr th {\n",
       "        vertical-align: top;\n",
       "    }\n",
       "\n",
       "    .dataframe thead th {\n",
       "        text-align: right;\n",
       "    }\n",
       "</style>\n",
       "<table border=\"1\" class=\"dataframe\">\n",
       "  <thead>\n",
       "    <tr style=\"text-align: right;\">\n",
       "      <th></th>\n",
       "      <th>index</th>\n",
       "      <th>similarity</th>\n",
       "    </tr>\n",
       "  </thead>\n",
       "  <tbody>\n",
       "    <tr>\n",
       "      <th>0</th>\n",
       "      <td>(UA, CO)</td>\n",
       "      <td>0.159340</td>\n",
       "    </tr>\n",
       "    <tr>\n",
       "      <th>1</th>\n",
       "      <td>(UA, KR)</td>\n",
       "      <td>0.684779</td>\n",
       "    </tr>\n",
       "    <tr>\n",
       "      <th>2</th>\n",
       "      <td>(UA, US)</td>\n",
       "      <td>0.000000</td>\n",
       "    </tr>\n",
       "    <tr>\n",
       "      <th>3</th>\n",
       "      <td>(UA, BG)</td>\n",
       "      <td>12.093021</td>\n",
       "    </tr>\n",
       "    <tr>\n",
       "      <th>4</th>\n",
       "      <td>(UA, BZ)</td>\n",
       "      <td>0.712588</td>\n",
       "    </tr>\n",
       "  </tbody>\n",
       "</table>\n",
       "</div>"
      ],
      "text/plain": [
       "      index  similarity\n",
       "0  (UA, CO)    0.159340\n",
       "1  (UA, KR)    0.684779\n",
       "2  (UA, US)    0.000000\n",
       "3  (UA, BG)   12.093021\n",
       "4  (UA, BZ)    0.712588"
      ]
     },
     "execution_count": 23,
     "metadata": {},
     "output_type": "execute_result"
    }
   ],
   "source": [
    "simMetricVals.reset_index(inplace=True)\n",
    "simMetricVals.head()"
   ]
  },
  {
   "cell_type": "code",
   "execution_count": 24,
   "metadata": {},
   "outputs": [
    {
     "data": {
      "text/html": [
       "<div>\n",
       "<style scoped>\n",
       "    .dataframe tbody tr th:only-of-type {\n",
       "        vertical-align: middle;\n",
       "    }\n",
       "\n",
       "    .dataframe tbody tr th {\n",
       "        vertical-align: top;\n",
       "    }\n",
       "\n",
       "    .dataframe thead th {\n",
       "        text-align: right;\n",
       "    }\n",
       "</style>\n",
       "<table border=\"1\" class=\"dataframe\">\n",
       "  <thead>\n",
       "    <tr style=\"text-align: right;\">\n",
       "      <th></th>\n",
       "      <th>pair</th>\n",
       "      <th>similarity</th>\n",
       "    </tr>\n",
       "  </thead>\n",
       "  <tbody>\n",
       "    <tr>\n",
       "      <th>0</th>\n",
       "      <td>(UA, CO)</td>\n",
       "      <td>0.159340</td>\n",
       "    </tr>\n",
       "    <tr>\n",
       "      <th>1</th>\n",
       "      <td>(UA, KR)</td>\n",
       "      <td>0.684779</td>\n",
       "    </tr>\n",
       "    <tr>\n",
       "      <th>2</th>\n",
       "      <td>(UA, US)</td>\n",
       "      <td>0.000000</td>\n",
       "    </tr>\n",
       "    <tr>\n",
       "      <th>3</th>\n",
       "      <td>(UA, BG)</td>\n",
       "      <td>12.093021</td>\n",
       "    </tr>\n",
       "    <tr>\n",
       "      <th>4</th>\n",
       "      <td>(UA, BZ)</td>\n",
       "      <td>0.712588</td>\n",
       "    </tr>\n",
       "  </tbody>\n",
       "</table>\n",
       "</div>"
      ],
      "text/plain": [
       "       pair  similarity\n",
       "0  (UA, CO)    0.159340\n",
       "1  (UA, KR)    0.684779\n",
       "2  (UA, US)    0.000000\n",
       "3  (UA, BG)   12.093021\n",
       "4  (UA, BZ)    0.712588"
      ]
     },
     "execution_count": 24,
     "metadata": {},
     "output_type": "execute_result"
    }
   ],
   "source": [
    "simMetricVals.rename(columns={'index':'pair'},inplace=True)\n",
    "simMetricVals.head()"
   ]
  },
  {
   "cell_type": "code",
   "execution_count": 25,
   "metadata": {},
   "outputs": [
    {
     "data": {
      "text/html": [
       "<div>\n",
       "<style scoped>\n",
       "    .dataframe tbody tr th:only-of-type {\n",
       "        vertical-align: middle;\n",
       "    }\n",
       "\n",
       "    .dataframe tbody tr th {\n",
       "        vertical-align: top;\n",
       "    }\n",
       "\n",
       "    .dataframe thead th {\n",
       "        text-align: right;\n",
       "    }\n",
       "</style>\n",
       "<table border=\"1\" class=\"dataframe\">\n",
       "  <thead>\n",
       "    <tr style=\"text-align: right;\">\n",
       "      <th></th>\n",
       "      <th>pair</th>\n",
       "      <th>similarity</th>\n",
       "      <th>country_code_alpha2_A</th>\n",
       "      <th>country_code_alpha2_B</th>\n",
       "    </tr>\n",
       "  </thead>\n",
       "  <tbody>\n",
       "    <tr>\n",
       "      <th>0</th>\n",
       "      <td>(UA, CO)</td>\n",
       "      <td>0.159340</td>\n",
       "      <td>UA</td>\n",
       "      <td>CO</td>\n",
       "    </tr>\n",
       "    <tr>\n",
       "      <th>1</th>\n",
       "      <td>(UA, KR)</td>\n",
       "      <td>0.684779</td>\n",
       "      <td>UA</td>\n",
       "      <td>KR</td>\n",
       "    </tr>\n",
       "    <tr>\n",
       "      <th>2</th>\n",
       "      <td>(UA, US)</td>\n",
       "      <td>0.000000</td>\n",
       "      <td>UA</td>\n",
       "      <td>US</td>\n",
       "    </tr>\n",
       "    <tr>\n",
       "      <th>3</th>\n",
       "      <td>(UA, BG)</td>\n",
       "      <td>12.093021</td>\n",
       "      <td>UA</td>\n",
       "      <td>BG</td>\n",
       "    </tr>\n",
       "    <tr>\n",
       "      <th>4</th>\n",
       "      <td>(UA, BZ)</td>\n",
       "      <td>0.712588</td>\n",
       "      <td>UA</td>\n",
       "      <td>BZ</td>\n",
       "    </tr>\n",
       "  </tbody>\n",
       "</table>\n",
       "</div>"
      ],
      "text/plain": [
       "       pair  similarity country_code_alpha2_A country_code_alpha2_B\n",
       "0  (UA, CO)    0.159340                    UA                    CO\n",
       "1  (UA, KR)    0.684779                    UA                    KR\n",
       "2  (UA, US)    0.000000                    UA                    US\n",
       "3  (UA, BG)   12.093021                    UA                    BG\n",
       "4  (UA, BZ)    0.712588                    UA                    BZ"
      ]
     },
     "execution_count": 25,
     "metadata": {},
     "output_type": "execute_result"
    }
   ],
   "source": [
    "simMetricVals[['country_code_alpha2_A', 'country_code_alpha2_B']] = pd.DataFrame(simMetricVals['pair'].tolist(), index=simMetricVals.index)\n",
    "simMetricVals.head()"
   ]
  },
  {
   "cell_type": "code",
   "execution_count": 26,
   "metadata": {},
   "outputs": [
    {
     "data": {
      "text/html": [
       "<div>\n",
       "<style scoped>\n",
       "    .dataframe tbody tr th:only-of-type {\n",
       "        vertical-align: middle;\n",
       "    }\n",
       "\n",
       "    .dataframe tbody tr th {\n",
       "        vertical-align: top;\n",
       "    }\n",
       "\n",
       "    .dataframe thead th {\n",
       "        text-align: right;\n",
       "    }\n",
       "</style>\n",
       "<table border=\"1\" class=\"dataframe\">\n",
       "  <thead>\n",
       "    <tr style=\"text-align: right;\">\n",
       "      <th></th>\n",
       "      <th>country_code_alpha2_A</th>\n",
       "      <th>country_code_alpha2_B</th>\n",
       "      <th>similarity</th>\n",
       "    </tr>\n",
       "  </thead>\n",
       "  <tbody>\n",
       "    <tr>\n",
       "      <th>0</th>\n",
       "      <td>UA</td>\n",
       "      <td>CO</td>\n",
       "      <td>0.159340</td>\n",
       "    </tr>\n",
       "    <tr>\n",
       "      <th>1</th>\n",
       "      <td>UA</td>\n",
       "      <td>KR</td>\n",
       "      <td>0.684779</td>\n",
       "    </tr>\n",
       "    <tr>\n",
       "      <th>2</th>\n",
       "      <td>UA</td>\n",
       "      <td>US</td>\n",
       "      <td>0.000000</td>\n",
       "    </tr>\n",
       "    <tr>\n",
       "      <th>3</th>\n",
       "      <td>UA</td>\n",
       "      <td>BG</td>\n",
       "      <td>12.093021</td>\n",
       "    </tr>\n",
       "    <tr>\n",
       "      <th>4</th>\n",
       "      <td>UA</td>\n",
       "      <td>BZ</td>\n",
       "      <td>0.712588</td>\n",
       "    </tr>\n",
       "  </tbody>\n",
       "</table>\n",
       "</div>"
      ],
      "text/plain": [
       "  country_code_alpha2_A country_code_alpha2_B  similarity\n",
       "0                    UA                    CO    0.159340\n",
       "1                    UA                    KR    0.684779\n",
       "2                    UA                    US    0.000000\n",
       "3                    UA                    BG   12.093021\n",
       "4                    UA                    BZ    0.712588"
      ]
     },
     "execution_count": 26,
     "metadata": {},
     "output_type": "execute_result"
    }
   ],
   "source": [
    "# Reordering columns\n",
    "\n",
    "tempCol = simMetricVals['similarity']\n",
    "simMetricVals.drop(labels=['similarity'], axis=1,inplace=True)\n",
    "simMetricVals.insert(3, 'similarity', tempCol)\n",
    "simMetricVals.drop('pair',axis=1,inplace=True)\n",
    "simMetricVals.head()"
   ]
  },
  {
   "cell_type": "code",
   "execution_count": 27,
   "metadata": {},
   "outputs": [],
   "source": [
    "# Pickling the simMetricVals data set\n",
    "# simMetricVals.to_pickle(\"simMetricVals.pkl\")"
   ]
  },
  {
   "cell_type": "markdown",
   "metadata": {},
   "source": [
    "## Reading simMetricVals from pickle"
   ]
  },
  {
   "cell_type": "code",
   "execution_count": 28,
   "metadata": {},
   "outputs": [],
   "source": [
    "worldMapViz = pd.read_pickle(\"simMetricVals.pkl\")"
   ]
  },
  {
   "cell_type": "code",
   "execution_count": 29,
   "metadata": {},
   "outputs": [
    {
     "data": {
      "text/html": [
       "<div>\n",
       "<style scoped>\n",
       "    .dataframe tbody tr th:only-of-type {\n",
       "        vertical-align: middle;\n",
       "    }\n",
       "\n",
       "    .dataframe tbody tr th {\n",
       "        vertical-align: top;\n",
       "    }\n",
       "\n",
       "    .dataframe thead th {\n",
       "        text-align: right;\n",
       "    }\n",
       "</style>\n",
       "<table border=\"1\" class=\"dataframe\">\n",
       "  <thead>\n",
       "    <tr style=\"text-align: right;\">\n",
       "      <th></th>\n",
       "      <th>country_code_alpha2_A</th>\n",
       "      <th>country_code_alpha2_B</th>\n",
       "      <th>similarity</th>\n",
       "    </tr>\n",
       "  </thead>\n",
       "  <tbody>\n",
       "    <tr>\n",
       "      <th>0</th>\n",
       "      <td>UA</td>\n",
       "      <td>CO</td>\n",
       "      <td>0.159340</td>\n",
       "    </tr>\n",
       "    <tr>\n",
       "      <th>1</th>\n",
       "      <td>UA</td>\n",
       "      <td>KR</td>\n",
       "      <td>0.684779</td>\n",
       "    </tr>\n",
       "    <tr>\n",
       "      <th>2</th>\n",
       "      <td>UA</td>\n",
       "      <td>US</td>\n",
       "      <td>0.000000</td>\n",
       "    </tr>\n",
       "    <tr>\n",
       "      <th>3</th>\n",
       "      <td>UA</td>\n",
       "      <td>BG</td>\n",
       "      <td>12.093021</td>\n",
       "    </tr>\n",
       "    <tr>\n",
       "      <th>4</th>\n",
       "      <td>UA</td>\n",
       "      <td>BZ</td>\n",
       "      <td>0.712588</td>\n",
       "    </tr>\n",
       "  </tbody>\n",
       "</table>\n",
       "</div>"
      ],
      "text/plain": [
       "  country_code_alpha2_A country_code_alpha2_B  similarity\n",
       "0                    UA                    CO    0.159340\n",
       "1                    UA                    KR    0.684779\n",
       "2                    UA                    US    0.000000\n",
       "3                    UA                    BG   12.093021\n",
       "4                    UA                    BZ    0.712588"
      ]
     },
     "execution_count": 29,
     "metadata": {},
     "output_type": "execute_result"
    }
   ],
   "source": [
    "worldMapViz.head()"
   ]
  },
  {
   "cell_type": "markdown",
   "metadata": {},
   "source": [
    "worldMapDemoDF is the similarity metric data frame without the NaN values\n",
    "NaN values arise when both the countries have 0 for a particular category and as a result the spatial cosine formula returns an undefined NaN "
   ]
  },
  {
   "cell_type": "code",
   "execution_count": 30,
   "metadata": {},
   "outputs": [],
   "source": [
    "# def countryCodeConversion()\n",
    "\n",
    "inputCountriesA = worldMapViz['country_code_alpha2_A']\n",
    "inputCountriesB = worldMapViz['country_code_alpha2_B']\n",
    "\n",
    "countries = {}\n",
    "for country in pycountry.countries:\n",
    "    countries[country.alpha_2] = country.alpha_3\n",
    "\n",
    "\n",
    "alpha3codesA = [countries.get(country, 'Unknown code') for country in inputCountriesA]\n",
    "alpha3codesB = [countries.get(country, 'Unknown code') for country in inputCountriesB]"
   ]
  },
  {
   "cell_type": "code",
   "execution_count": 31,
   "metadata": {},
   "outputs": [],
   "source": [
    "worldMapViz['country_code_alpha2_A'] = alpha3codesA\n",
    "worldMapViz['country_code_alpha2_B'] = alpha3codesB\n",
    "worldMapViz.rename(columns={'country_code_alpha2_A':'country_code_alpha3_A','country_code_alpha2_B':'country_code_alpha3_B'},inplace=True)"
   ]
  },
  {
   "cell_type": "code",
   "execution_count": 32,
   "metadata": {},
   "outputs": [
    {
     "data": {
      "text/html": [
       "<div>\n",
       "<style scoped>\n",
       "    .dataframe tbody tr th:only-of-type {\n",
       "        vertical-align: middle;\n",
       "    }\n",
       "\n",
       "    .dataframe tbody tr th {\n",
       "        vertical-align: top;\n",
       "    }\n",
       "\n",
       "    .dataframe thead th {\n",
       "        text-align: right;\n",
       "    }\n",
       "</style>\n",
       "<table border=\"1\" class=\"dataframe\">\n",
       "  <thead>\n",
       "    <tr style=\"text-align: right;\">\n",
       "      <th></th>\n",
       "      <th>country_code_alpha3_A</th>\n",
       "      <th>country_code_alpha3_B</th>\n",
       "      <th>similarity</th>\n",
       "    </tr>\n",
       "  </thead>\n",
       "  <tbody>\n",
       "    <tr>\n",
       "      <th>0</th>\n",
       "      <td>UKR</td>\n",
       "      <td>COL</td>\n",
       "      <td>0.159340</td>\n",
       "    </tr>\n",
       "    <tr>\n",
       "      <th>1</th>\n",
       "      <td>UKR</td>\n",
       "      <td>KOR</td>\n",
       "      <td>0.684779</td>\n",
       "    </tr>\n",
       "    <tr>\n",
       "      <th>2</th>\n",
       "      <td>UKR</td>\n",
       "      <td>USA</td>\n",
       "      <td>0.000000</td>\n",
       "    </tr>\n",
       "    <tr>\n",
       "      <th>3</th>\n",
       "      <td>UKR</td>\n",
       "      <td>BGR</td>\n",
       "      <td>12.093021</td>\n",
       "    </tr>\n",
       "    <tr>\n",
       "      <th>4</th>\n",
       "      <td>UKR</td>\n",
       "      <td>BLZ</td>\n",
       "      <td>0.712588</td>\n",
       "    </tr>\n",
       "  </tbody>\n",
       "</table>\n",
       "</div>"
      ],
      "text/plain": [
       "  country_code_alpha3_A country_code_alpha3_B  similarity\n",
       "0                   UKR                   COL    0.159340\n",
       "1                   UKR                   KOR    0.684779\n",
       "2                   UKR                   USA    0.000000\n",
       "3                   UKR                   BGR   12.093021\n",
       "4                   UKR                   BLZ    0.712588"
      ]
     },
     "execution_count": 32,
     "metadata": {},
     "output_type": "execute_result"
    }
   ],
   "source": [
    "worldMapViz.head()"
   ]
  },
  {
   "cell_type": "markdown",
   "metadata": {},
   "source": [
    "### CONVERTING THIS DATA FRAME INTO JSON"
   ]
  },
  {
   "cell_type": "code",
   "execution_count": 38,
   "metadata": {},
   "outputs": [],
   "source": [
    "pairs_of_similarities = {}\n",
    "for _, row in worldMapViz.iterrows():\n",
    "    country_pair = row.values[0] +'->'+ row.values[1]\n",
    "    pairs_of_similarities[country_pair] = row.values[2]"
   ]
  },
  {
   "cell_type": "code",
   "execution_count": 42,
   "metadata": {},
   "outputs": [],
   "source": [
    "output_json = json.dumps(pairs_of_similarities)"
   ]
  },
  {
   "cell_type": "markdown",
   "metadata": {},
   "source": [
    " "
   ]
  },
  {
   "cell_type": "markdown",
   "metadata": {},
   "source": [
    "### Saving JSON as file WorldMapInput"
   ]
  },
  {
   "cell_type": "code",
   "execution_count": 43,
   "metadata": {},
   "outputs": [],
   "source": [
    "with open('FINALVIZ.json', 'w') as outfile:\n",
    "    json.dump(output_json, outfile)"
   ]
  },
  {
   "cell_type": "markdown",
   "metadata": {},
   "source": [
    "## Further Analysis"
   ]
  },
  {
   "cell_type": "code",
   "execution_count": null,
   "metadata": {},
   "outputs": [],
   "source": []
  }
 ],
 "metadata": {
  "kernelspec": {
   "display_name": "Python 3",
   "language": "python",
   "name": "python3"
  },
  "language_info": {
   "codemirror_mode": {
    "name": "ipython",
    "version": 3
   },
   "file_extension": ".py",
   "mimetype": "text/x-python",
   "name": "python",
   "nbconvert_exporter": "python",
   "pygments_lexer": "ipython3",
   "version": "3.6.9"
  }
 },
 "nbformat": 4,
 "nbformat_minor": 2
}
