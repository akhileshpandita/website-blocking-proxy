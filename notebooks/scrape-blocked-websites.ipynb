{
 "cells": [
  {
   "cell_type": "code",
   "execution_count": 1,
   "metadata": {
    "collapsed": true
   },
   "outputs": [],
   "source": [
    "import pandas as pd\n",
    "import bs4\n",
    "from bs4 import BeautifulSoup\n",
    "import requests\n",
    "import string"
   ]
  },
  {
   "cell_type": "code",
   "execution_count": 98,
   "metadata": {
    "collapsed": true
   },
   "outputs": [],
   "source": [
    "# Set headers\n",
    "headers = requests.utils.default_headers()\n",
    "headers.update({ 'User-Agent': 'Mozilla/5.0 (X11; Ubuntu; Linux x86_64; rv:52.0) Gecko/20100101 Firefox/52.0'})"
   ]
  },
  {
   "cell_type": "markdown",
   "metadata": {},
   "source": [
    "## China"
   ]
  },
  {
   "cell_type": "code",
   "execution_count": 3,
   "metadata": {
    "collapsed": true
   },
   "outputs": [],
   "source": [
    "url = \"https://cyber.harvard.edu/filtering/china/China-A.html\"\n",
    "req = requests.get(url, headers)\n",
    "china_a = BeautifulSoup(req.content, 'html.parser')"
   ]
  },
  {
   "cell_type": "code",
   "execution_count": 4,
   "metadata": {},
   "outputs": [
    {
     "data": {
      "text/plain": [
       "'<html>\\n <head>\\n  <title>\\n   Sites Blocked in China\\n  </title>\\n  <meta content=\"text-html; charset=ut'"
      ]
     },
     "execution_count": 4,
     "metadata": {},
     "output_type": "execute_result"
    }
   ],
   "source": [
    "china_a.prettify()[:100]"
   ]
  },
  {
   "cell_type": "code",
   "execution_count": 5,
   "metadata": {},
   "outputs": [
    {
     "data": {
      "text/plain": [
       "855"
      ]
     },
     "execution_count": 5,
     "metadata": {},
     "output_type": "execute_result"
    }
   ],
   "source": [
    "len(china_a.find_all('hr'))"
   ]
  },
  {
   "cell_type": "code",
   "execution_count": 6,
   "metadata": {},
   "outputs": [
    {
     "data": {
      "text/plain": [
       "<a href=\"http://a0006.in2000.com\">a0006.in2000.com</a>"
      ]
     },
     "execution_count": 6,
     "metadata": {},
     "output_type": "execute_result"
    }
   ],
   "source": [
    "china_a.findAll('a')[7]"
   ]
  },
  {
   "cell_type": "code",
   "execution_count": 7,
   "metadata": {},
   "outputs": [
    {
     "data": {
      "text/plain": [
       "<hr/>"
      ]
     },
     "execution_count": 7,
     "metadata": {},
     "output_type": "execute_result"
    }
   ],
   "source": [
    "china_a.find_all('hr')[2]"
   ]
  },
  {
   "cell_type": "code",
   "execution_count": 8,
   "metadata": {},
   "outputs": [
    {
     "data": {
      "text/plain": [
       "['A',\n",
       " 'B',\n",
       " 'C',\n",
       " 'D',\n",
       " 'E',\n",
       " 'F',\n",
       " 'G',\n",
       " 'H',\n",
       " 'I',\n",
       " 'J',\n",
       " 'K',\n",
       " 'L',\n",
       " 'M',\n",
       " 'N',\n",
       " 'O',\n",
       " 'P',\n",
       " 'Q',\n",
       " 'R',\n",
       " 'S',\n",
       " 'T',\n",
       " 'U',\n",
       " 'V',\n",
       " 'W',\n",
       " 'X',\n",
       " 'Y',\n",
       " 'Z']"
      ]
     },
     "execution_count": 8,
     "metadata": {},
     "output_type": "execute_result"
    }
   ],
   "source": [
    "list(string.ascii_uppercase)"
   ]
  },
  {
   "cell_type": "code",
   "execution_count": 9,
   "metadata": {},
   "outputs": [
    {
     "name": "stdout",
     "output_type": "stream",
     "text": [
      "15911\n",
      "15913\n"
     ]
    }
   ],
   "source": [
    "all_urls = []\n",
    "all_blocking_quots = []\n",
    "for i in list(string.ascii_uppercase) + ['09']:\n",
    "    url = \"https://cyber.harvard.edu/filtering/china/China-\" + i + \".html\"\n",
    "    req = requests.get(url, headers)\n",
    "    curr_china = BeautifulSoup(req.content, 'html.parser')\n",
    "    all_urls += curr_china.findAll(lambda tag: tag.name == \"a\" and \n",
    "                               len(tag.attrs) == 1 and \n",
    "                               'href' in tag.attrs)\n",
    "    all_blocking_quots += curr_china.findAll(lambda tag: tag.name == \"img\" and \n",
    "                                        len(tag.attrs) == 2 and\n",
    "                                        \"src\" in tag.attrs and \n",
    "                                        \"alt\" in tag.attrs)\n",
    "\n",
    "urls =  []\n",
    "blocking_quots = []\n",
    "\n",
    "for i in range(len(all_urls)):\n",
    "    url = all_urls[i]\n",
    "    if isinstance(url, bs4.element.Tag):\n",
    "        internal_text = url.get_text()\n",
    "        if \".\" in internal_text: urls.append(internal_text)\n",
    "    url = url.next_sibling\n",
    "    \n",
    "for i in range(len(all_blocking_quots)):\n",
    "    blocking_quots.append(all_blocking_quots[i]['alt'])\n",
    "\n",
    "print(len(urls))\n",
    "print(len(blocking_quots))"
   ]
  },
  {
   "cell_type": "code",
   "execution_count": 10,
   "metadata": {},
   "outputs": [
    {
     "data": {
      "text/plain": [
       "(['www.999adult.com',\n",
       "  '99chat.cjb.net',\n",
       "  'www.99ew.com',\n",
       "  'www.9u9u.com',\n",
       "  'www.9year.org.tw'],\n",
       " ['Inaccessible in every test',\n",
       "  'Inaccessible significantly more often than not',\n",
       "  'Inaccessible significantly more often than not',\n",
       "  'Sometimes inaccessible',\n",
       "  'Inaccessible more often than not'])"
      ]
     },
     "execution_count": 10,
     "metadata": {},
     "output_type": "execute_result"
    }
   ],
   "source": [
    "urls[-5:], blocking_quots[-5:]"
   ]
  },
  {
   "cell_type": "code",
   "execution_count": 12,
   "metadata": {},
   "outputs": [
    {
     "data": {
      "text/html": [
       "<div>\n",
       "<style scoped>\n",
       "    .dataframe tbody tr th:only-of-type {\n",
       "        vertical-align: middle;\n",
       "    }\n",
       "\n",
       "    .dataframe tbody tr th {\n",
       "        vertical-align: top;\n",
       "    }\n",
       "\n",
       "    .dataframe thead th {\n",
       "        text-align: right;\n",
       "    }\n",
       "</style>\n",
       "<table border=\"1\" class=\"dataframe\">\n",
       "  <thead>\n",
       "    <tr style=\"text-align: right;\">\n",
       "      <th></th>\n",
       "      <th>URL</th>\n",
       "    </tr>\n",
       "  </thead>\n",
       "  <tbody>\n",
       "    <tr>\n",
       "      <th>0</th>\n",
       "      <td>www.a00.com</td>\n",
       "    </tr>\n",
       "    <tr>\n",
       "      <th>1</th>\n",
       "      <td>a0006.in2000.com</td>\n",
       "    </tr>\n",
       "    <tr>\n",
       "      <th>2</th>\n",
       "      <td>a1.sparklancer.com</td>\n",
       "    </tr>\n",
       "    <tr>\n",
       "      <th>3</th>\n",
       "      <td>a1234.uhome.net</td>\n",
       "    </tr>\n",
       "    <tr>\n",
       "      <th>4</th>\n",
       "      <td>a1234bc.uhome.net</td>\n",
       "    </tr>\n",
       "  </tbody>\n",
       "</table>\n",
       "</div>"
      ],
      "text/plain": [
       "                  URL\n",
       "0         www.a00.com\n",
       "1    a0006.in2000.com\n",
       "2  a1.sparklancer.com\n",
       "3     a1234.uhome.net\n",
       "4   a1234bc.uhome.net"
      ]
     },
     "execution_count": 12,
     "metadata": {},
     "output_type": "execute_result"
    }
   ],
   "source": [
    "blocked_china = pd.DataFrame(urls, \n",
    "               columns =['URL'])\n",
    "blocked_china.head()"
   ]
  },
  {
   "cell_type": "code",
   "execution_count": 13,
   "metadata": {},
   "outputs": [
    {
     "data": {
      "text/plain": [
       "(15911, 1)"
      ]
     },
     "execution_count": 13,
     "metadata": {},
     "output_type": "execute_result"
    }
   ],
   "source": [
    "blocked_china.shape"
   ]
  },
  {
   "cell_type": "code",
   "execution_count": 14,
   "metadata": {
    "collapsed": true
   },
   "outputs": [],
   "source": [
    "blocked_china.to_csv(\"blocked_urls_china.csv\")"
   ]
  },
  {
   "cell_type": "markdown",
   "metadata": {},
   "source": [
    "## Saudi Arabia"
   ]
  },
  {
   "cell_type": "code",
   "execution_count": 17,
   "metadata": {},
   "outputs": [
    {
     "name": "stderr",
     "output_type": "stream",
     "text": [
      "Some characters could not be decoded, and were replaced with REPLACEMENT CHARACTER.\n"
     ]
    },
    {
     "name": "stdout",
     "output_type": "stream",
     "text": [
      "1380\n",
      "0\n"
     ]
    }
   ],
   "source": [
    "all_urls = []\n",
    "all_blocking_quots = []\n",
    "for i in list(string.ascii_uppercase) + ['09']:\n",
    "    url = \"https://cyber.harvard.edu/filtering/saudiarabia/SA-\" + i + \".html\"\n",
    "    req = requests.get(url, headers)\n",
    "    curr_sa = BeautifulSoup(req.content, 'html.parser')\n",
    "    all_urls += curr_sa.findAll(lambda tag: tag.name == \"a\" and \n",
    "                               len(tag.attrs) == 1 and \n",
    "                               'href' in tag.attrs)\n",
    "    all_blocking_quots += curr_sa.findAll(lambda tag: tag.name == \"img\" and \n",
    "                                        len(tag.attrs) == 2 and\n",
    "                                        \"src\" in tag.attrs and \n",
    "                                        \"alt\" in tag.attrs)\n",
    "\n",
    "urls =  []\n",
    "blocking_quots = []\n",
    "\n",
    "for i in range(len(all_urls)):\n",
    "    url = all_urls[i]\n",
    "    if isinstance(url, bs4.element.Tag):\n",
    "        internal_text = url.get_text()\n",
    "        if \".\" in internal_text: urls.append(internal_text)\n",
    "    url = url.next_sibling\n",
    "    \n",
    "for i in range(len(all_blocking_quots)):\n",
    "    blocking_quots.append(all_blocking_quots[i]['alt'])\n",
    "\n",
    "print(len(urls))\n",
    "print(len(blocking_quots))"
   ]
  },
  {
   "cell_type": "code",
   "execution_count": 18,
   "metadata": {},
   "outputs": [
    {
     "data": {
      "text/html": [
       "<div>\n",
       "<style scoped>\n",
       "    .dataframe tbody tr th:only-of-type {\n",
       "        vertical-align: middle;\n",
       "    }\n",
       "\n",
       "    .dataframe tbody tr th {\n",
       "        vertical-align: top;\n",
       "    }\n",
       "\n",
       "    .dataframe thead th {\n",
       "        text-align: right;\n",
       "    }\n",
       "</style>\n",
       "<table border=\"1\" class=\"dataframe\">\n",
       "  <thead>\n",
       "    <tr style=\"text-align: right;\">\n",
       "      <th></th>\n",
       "      <th>URL</th>\n",
       "    </tr>\n",
       "  </thead>\n",
       "  <tbody>\n",
       "    <tr>\n",
       "      <th>0</th>\n",
       "      <td>www.absoluteswimwear.com</td>\n",
       "    </tr>\n",
       "    <tr>\n",
       "      <th>1</th>\n",
       "      <td>www.adaweb.com</td>\n",
       "    </tr>\n",
       "    <tr>\n",
       "      <th>2</th>\n",
       "      <td>www.adultnewsstand.com</td>\n",
       "    </tr>\n",
       "    <tr>\n",
       "      <th>3</th>\n",
       "      <td>www.adventureangling.com</td>\n",
       "    </tr>\n",
       "    <tr>\n",
       "      <th>4</th>\n",
       "      <td>www.adventureangling.com/chd/webring.htm</td>\n",
       "    </tr>\n",
       "  </tbody>\n",
       "</table>\n",
       "</div>"
      ],
      "text/plain": [
       "                                        URL\n",
       "0                  www.absoluteswimwear.com\n",
       "1                            www.adaweb.com\n",
       "2                    www.adultnewsstand.com\n",
       "3                  www.adventureangling.com\n",
       "4  www.adventureangling.com/chd/webring.htm"
      ]
     },
     "execution_count": 18,
     "metadata": {},
     "output_type": "execute_result"
    }
   ],
   "source": [
    "blocked_sa = pd.DataFrame(urls, \n",
    "               columns =['URL'])\n",
    "blocked_sa.head()"
   ]
  },
  {
   "cell_type": "code",
   "execution_count": 19,
   "metadata": {
    "collapsed": true
   },
   "outputs": [],
   "source": [
    "blocked_sa.to_csv(\"blocked_urls_sa.csv\")"
   ]
  },
  {
   "cell_type": "markdown",
   "metadata": {},
   "source": [
    "## Iraq"
   ]
  },
  {
   "cell_type": "code",
   "execution_count": 22,
   "metadata": {},
   "outputs": [
    {
     "name": "stdout",
     "output_type": "stream",
     "text": [
      "21\n"
     ]
    }
   ],
   "source": [
    "blocked_iq_url_str = \"\"\"\n",
    "http://www.iraqinews.com/tag/fallujah/\n",
    "\n",
    "http://www.herakiq.com/\n",
    "\n",
    "http://www.almadar.co.il/newss.aspx?cid=69&\n",
    "\n",
    "http://www.nakhelnews.com/\n",
    "\n",
    "http://altaghier.tv/\n",
    "\n",
    "http://www.ahraraliraq.com/\n",
    "\n",
    "http://www.raneem.net/\n",
    "\n",
    "http://www.muslm.org/\n",
    "\n",
    "http://www.alzawra.com/\n",
    "\n",
    "http://revofallujah.org/\n",
    "\n",
    "http://albaghdadia.com/\n",
    "\n",
    "http://www.albaghdadianews.com/\n",
    "\n",
    "http://haqana.com/\n",
    "\n",
    "http://www.alarabiya.net/\n",
    "\n",
    "http://aljazeera.net/\n",
    "\n",
    "http://www.alrafidain.tv/\n",
    "\n",
    "http://iraqislami.own0.com/\n",
    "\n",
    "http://www.muftialiraq.info/\n",
    "\n",
    "http://www.dhiqar.net/\n",
    "\n",
    "http://www.alomah-alwasat.com/\n",
    "\n",
    "http://www.harithaldhari.com/\n",
    "\"\"\"\n",
    "\n",
    "blocked_iq_urls = [i for i in blocked_iq_url_str.split(\"\\n\") if i != '']\n",
    "print(len(blocked_iq_urls))"
   ]
  },
  {
   "cell_type": "code",
   "execution_count": 23,
   "metadata": {},
   "outputs": [
    {
     "data": {
      "text/html": [
       "<div>\n",
       "<style scoped>\n",
       "    .dataframe tbody tr th:only-of-type {\n",
       "        vertical-align: middle;\n",
       "    }\n",
       "\n",
       "    .dataframe tbody tr th {\n",
       "        vertical-align: top;\n",
       "    }\n",
       "\n",
       "    .dataframe thead th {\n",
       "        text-align: right;\n",
       "    }\n",
       "</style>\n",
       "<table border=\"1\" class=\"dataframe\">\n",
       "  <thead>\n",
       "    <tr style=\"text-align: right;\">\n",
       "      <th></th>\n",
       "      <th>URL</th>\n",
       "    </tr>\n",
       "  </thead>\n",
       "  <tbody>\n",
       "    <tr>\n",
       "      <th>0</th>\n",
       "      <td>http://www.iraqinews.com/tag/fallujah/</td>\n",
       "    </tr>\n",
       "    <tr>\n",
       "      <th>1</th>\n",
       "      <td>http://www.herakiq.com/</td>\n",
       "    </tr>\n",
       "    <tr>\n",
       "      <th>2</th>\n",
       "      <td>http://www.almadar.co.il/newss.aspx?cid=69&amp;</td>\n",
       "    </tr>\n",
       "    <tr>\n",
       "      <th>3</th>\n",
       "      <td>http://www.nakhelnews.com/</td>\n",
       "    </tr>\n",
       "    <tr>\n",
       "      <th>4</th>\n",
       "      <td>http://altaghier.tv/</td>\n",
       "    </tr>\n",
       "  </tbody>\n",
       "</table>\n",
       "</div>"
      ],
      "text/plain": [
       "                                           URL\n",
       "0       http://www.iraqinews.com/tag/fallujah/\n",
       "1                      http://www.herakiq.com/\n",
       "2  http://www.almadar.co.il/newss.aspx?cid=69&\n",
       "3                   http://www.nakhelnews.com/\n",
       "4                         http://altaghier.tv/"
      ]
     },
     "execution_count": 23,
     "metadata": {},
     "output_type": "execute_result"
    }
   ],
   "source": [
    "blocked_iq = pd.DataFrame(blocked_iq_urls, \n",
    "               columns =['URL'])\n",
    "blocked_iq.head()"
   ]
  },
  {
   "cell_type": "code",
   "execution_count": 24,
   "metadata": {
    "collapsed": true
   },
   "outputs": [],
   "source": [
    "blocked_iq.to_csv(\"blocked_urls_iq.csv\")"
   ]
  },
  {
   "cell_type": "markdown",
   "metadata": {},
   "source": [
    "## India"
   ]
  },
  {
   "cell_type": "code",
   "execution_count": 82,
   "metadata": {},
   "outputs": [
    {
     "data": {
      "text/plain": [
       "['torrentfunk.com',\n",
       " 'Torrents.eu',\n",
       " 'Torrentroom.com',\n",
       " 'Pastebin.com',\n",
       " 'Xmarks.com',\n",
       " 'DailyMotion.com',\n",
       " 'thepiratebay.org/thepiratebay.se',\n",
       " 'Vimeo.com',\n",
       " 'kickasstorrents.com',\n",
       " 'ThePirateBay',\n",
       " 'kat.ph',\n",
       " 'torlock.com',\n",
       " 'DailyMotion',\n",
       " 'Torrents.net',\n",
       " 'ThePirateBay.org/ThePirateBay.se',\n",
       " 'Isohunt.com',\n",
       " 'Extratorrent.com',\n",
       " 'fenopy.eu',\n",
       " 'Kickasstorrents.com',\n",
       " 'torrentz.eu']"
      ]
     },
     "execution_count": 82,
     "metadata": {},
     "output_type": "execute_result"
    }
   ],
   "source": [
    "blocked_in_urls = \"\"\"\n",
    "Vimeo.com (Screenshot)\n",
    "DailyMotion.com (Screenshot)\n",
    "Xmarks.com (Screenshot)\n",
    "Pastebin.com (Screenshot)\n",
    "Isohunt.com (Screenshot)\n",
    "thepiratebay.org/thepiratebay.se (Screenshot)\n",
    "torrentz.eu (Screenshot)\n",
    "kat.ph (Screenshot)\n",
    "torlock.com (Screenshot)\n",
    "kickasstorrents.com (Screenshot)\n",
    "torrentfunk.com (Screenshot)\n",
    "fenopy.eu (Screenshot)\n",
    "DailyMotion (Screenshot)\n",
    "torrentz.eu (Screenshot)\n",
    "Isohunt.com\n",
    "thepiratebay.org/thepiratebay.se\n",
    "torrentz.eu\n",
    "kat.ph\n",
    "torlock.com\n",
    "kickasstorrents.com\n",
    "torrentfunk.com\n",
    "fenopy.eu\n",
    "Vimeo.com\n",
    "Vimeo.com\n",
    "ThePirateBay\n",
    "ThePirateBay\n",
    "Vimeo.com\n",
    "DailyMotion.com\n",
    "Torrents.eu\n",
    "Extratorrent.com\n",
    "Kickasstorrents.com\n",
    "ThePirateBay.org/ThePirateBay.se\n",
    "Torrents.net\n",
    "Isohunt.com\n",
    "Torrentroom.com\n",
    "Torrents.eu\n",
    "ThePirateBay.org/ThePirateBay.se\n",
    "Vimeo.com\n",
    "DailyMotion.com\n",
    "\"\"\"\n",
    "\n",
    "blocked_in_urls = list(set([i for i in blocked_in_urls.split() if i != \"(Screenshot)\"]))\n",
    "blocked_in_urls"
   ]
  },
  {
   "cell_type": "code",
   "execution_count": 83,
   "metadata": {},
   "outputs": [
    {
     "data": {
      "text/html": [
       "<div>\n",
       "<style scoped>\n",
       "    .dataframe tbody tr th:only-of-type {\n",
       "        vertical-align: middle;\n",
       "    }\n",
       "\n",
       "    .dataframe tbody tr th {\n",
       "        vertical-align: top;\n",
       "    }\n",
       "\n",
       "    .dataframe thead th {\n",
       "        text-align: right;\n",
       "    }\n",
       "</style>\n",
       "<table border=\"1\" class=\"dataframe\">\n",
       "  <thead>\n",
       "    <tr style=\"text-align: right;\">\n",
       "      <th></th>\n",
       "      <th>URL</th>\n",
       "    </tr>\n",
       "  </thead>\n",
       "  <tbody>\n",
       "    <tr>\n",
       "      <th>0</th>\n",
       "      <td>torrentfunk.com</td>\n",
       "    </tr>\n",
       "    <tr>\n",
       "      <th>1</th>\n",
       "      <td>Torrents.eu</td>\n",
       "    </tr>\n",
       "    <tr>\n",
       "      <th>2</th>\n",
       "      <td>Torrentroom.com</td>\n",
       "    </tr>\n",
       "    <tr>\n",
       "      <th>3</th>\n",
       "      <td>Pastebin.com</td>\n",
       "    </tr>\n",
       "    <tr>\n",
       "      <th>4</th>\n",
       "      <td>Xmarks.com</td>\n",
       "    </tr>\n",
       "  </tbody>\n",
       "</table>\n",
       "</div>"
      ],
      "text/plain": [
       "               URL\n",
       "0  torrentfunk.com\n",
       "1      Torrents.eu\n",
       "2  Torrentroom.com\n",
       "3     Pastebin.com\n",
       "4       Xmarks.com"
      ]
     },
     "execution_count": 83,
     "metadata": {},
     "output_type": "execute_result"
    }
   ],
   "source": [
    "blocked_in = pd.DataFrame(blocked_in_urls, \n",
    "               columns =['URL'])\n",
    "blocked_in.head()"
   ]
  },
  {
   "cell_type": "code",
   "execution_count": 84,
   "metadata": {
    "collapsed": true
   },
   "outputs": [],
   "source": [
    "blocked_in.to_csv(\"blocked_urls_in.csv\")"
   ]
  },
  {
   "cell_type": "markdown",
   "metadata": {},
   "source": [
    "## Russia"
   ]
  },
  {
   "cell_type": "code",
   "execution_count": 108,
   "metadata": {
    "collapsed": true
   },
   "outputs": [],
   "source": [
    "from selenium import webdriver"
   ]
  },
  {
   "cell_type": "code",
   "execution_count": 114,
   "metadata": {
    "scrolled": false
   },
   "outputs": [
    {
     "name": "stdout",
     "output_type": "stream",
     "text": [
      "https://web.archive.org/web/20140710063312/http://www.antizapret.info/\n",
      "100\n",
      "https://web.archive.org/web/20140710063312/http://www.antizapret.info/?p=1\n",
      "200\n",
      "https://web.archive.org/web/20140710063312/http://www.antizapret.info/?p=2\n",
      "300\n",
      "https://web.archive.org/web/20140710063312/http://www.antizapret.info/?p=3\n",
      "400\n",
      "https://web.archive.org/web/20140710063312/http://www.antizapret.info/?p=4\n",
      "500\n",
      "https://web.archive.org/web/20140710063312/http://www.antizapret.info/?p=5\n",
      "600\n",
      "https://web.archive.org/web/20140710063312/http://www.antizapret.info/?p=6\n",
      "700\n",
      "https://web.archive.org/web/20140710063312/http://www.antizapret.info/?p=7\n",
      "800\n",
      "https://web.archive.org/web/20140710063312/http://www.antizapret.info/?p=8\n",
      "900\n",
      "https://web.archive.org/web/20140710063312/http://www.antizapret.info/?p=9\n",
      "1000\n",
      "https://web.archive.org/web/20140710063312/http://www.antizapret.info/?p=10\n",
      "1100\n",
      "https://web.archive.org/web/20140710063312/http://www.antizapret.info/?p=11\n",
      "1200\n",
      "https://web.archive.org/web/20140710063312/http://www.antizapret.info/?p=12\n",
      "1300\n",
      "https://web.archive.org/web/20140710063312/http://www.antizapret.info/?p=13\n",
      "1400\n",
      "https://web.archive.org/web/20140710063312/http://www.antizapret.info/?p=14\n",
      "1500\n",
      "https://web.archive.org/web/20140710063312/http://www.antizapret.info/?p=15\n",
      "1600\n",
      "https://web.archive.org/web/20140710063312/http://www.antizapret.info/?p=16\n",
      "1700\n",
      "https://web.archive.org/web/20140710063312/http://www.antizapret.info/?p=17\n",
      "1800\n",
      "https://web.archive.org/web/20140710063312/http://www.antizapret.info/?p=18\n",
      "1900\n",
      "https://web.archive.org/web/20140710063312/http://www.antizapret.info/?p=19\n",
      "2000\n",
      "https://web.archive.org/web/20140710063312/http://www.antizapret.info/?p=20\n",
      "2100\n",
      "https://web.archive.org/web/20140710063312/http://www.antizapret.info/?p=21\n",
      "2200\n",
      "https://web.archive.org/web/20140710063312/http://www.antizapret.info/?p=22\n",
      "2300\n",
      "https://web.archive.org/web/20140710063312/http://www.antizapret.info/?p=23\n",
      "2400\n",
      "https://web.archive.org/web/20140710063312/http://www.antizapret.info/?p=24\n",
      "2500\n",
      "https://web.archive.org/web/20140710063312/http://www.antizapret.info/?p=25\n",
      "2600\n",
      "https://web.archive.org/web/20140710063312/http://www.antizapret.info/?p=26\n",
      "2700\n",
      "https://web.archive.org/web/20140710063312/http://www.antizapret.info/?p=27\n",
      "2800\n",
      "https://web.archive.org/web/20140710063312/http://www.antizapret.info/?p=28\n",
      "2900\n",
      "https://web.archive.org/web/20140710063312/http://www.antizapret.info/?p=29\n",
      "3000\n",
      "https://web.archive.org/web/20140710063312/http://www.antizapret.info/?p=30\n",
      "3100\n",
      "https://web.archive.org/web/20140710063312/http://www.antizapret.info/?p=31\n",
      "3300\n",
      "https://web.archive.org/web/20140710063312/http://www.antizapret.info/?p=32\n",
      "3500\n",
      "https://web.archive.org/web/20140710063312/http://www.antizapret.info/?p=33\n",
      "3700\n",
      "https://web.archive.org/web/20140710063312/http://www.antizapret.info/?p=34\n",
      "3800\n",
      "https://web.archive.org/web/20140710063312/http://www.antizapret.info/?p=35\n",
      "3900\n",
      "https://web.archive.org/web/20140710063312/http://www.antizapret.info/?p=36\n",
      "4000\n",
      "https://web.archive.org/web/20140710063312/http://www.antizapret.info/?p=37\n",
      "4100\n",
      "https://web.archive.org/web/20140710063312/http://www.antizapret.info/?p=38\n",
      "4200\n",
      "https://web.archive.org/web/20140710063312/http://www.antizapret.info/?p=39\n",
      "4300\n",
      "https://web.archive.org/web/20140710063312/http://www.antizapret.info/?p=40\n",
      "4400\n",
      "https://web.archive.org/web/20140710063312/http://www.antizapret.info/?p=41\n",
      "4500\n",
      "https://web.archive.org/web/20140710063312/http://www.antizapret.info/?p=42\n",
      "4600\n",
      "https://web.archive.org/web/20140710063312/http://www.antizapret.info/?p=43\n",
      "4700\n",
      "https://web.archive.org/web/20140710063312/http://www.antizapret.info/?p=44\n",
      "4800\n",
      "https://web.archive.org/web/20140710063312/http://www.antizapret.info/?p=45\n",
      "4884\n",
      "https://web.archive.org/web/20140710063312/http://www.antizapret.info/?p=46\n",
      "4984\n",
      "https://web.archive.org/web/20140710063312/http://www.antizapret.info/?p=47\n",
      "5184\n",
      "['lj.rossia.org/users/oranta/157031.html', 'jblover.co/jailbait-videos-stickam-captures-jailba', 'www.justjailbait.us/vladmodels/vladmodels-zhenya-s', 'www.justjailbait.us/showstars/showstars-oxi-set-5/', 'goldenmed.net/', 'www.justjailbait.us/page/28/', 'rapidzona.com/books-journal-foto-torrent/books-tor', 'blackrc.biz/index.php?/topic/496-omsk-smeshnoe-kur', 'blackrc.biz/index.php?/topic/278-irkutskluchshij-s', 'dzen-au7.com/', 'blackrc.biz/index.php?/topic/496-omsk-smeshnoe-kur', 'chem-lega.biz/kuritelnyj-miks-katalog/', 'seansmaga.com/kupit/909-spays-tyumen.html', 'seansmaga.com/365-spice-naberejnyie-chelnyi.html', 'narkomafia.org/90-kupit-jwh-tomsk.html', 'lemonvit.com/317-jwh-saransk.html', 'dzen-au7.com/w/499-kupit-kuritelnyie-smesi-tyumen.', 'winn-palace.com', 'www.Jackpot-klub.org', 'www.goldfishka2.com', 'dzen-au7.com/w/542-kupit-spays-belgorod.html', 'narkomafia.org/43-spays-izhevsk.html', 'www.eldoradoclub.com', 'www.gmslotsonline.com', 'casinokorona.com', 'www.twist-casino.com', 'www.slotx.net', 'dzen-au7.com/w/665-kuritelnyie-miksyi-ijevsk.html', 'lemonvit.com/500-kupit-spice-nijniy-tagil.html', 'lemonvit.com/304-jwh-nijniy-tagil.html', 'seansmaga.com/659-kuritelnyie-smesi-saransk.html', 'narkomafia.org/legalnark.html', 'lemonvit.com/823-kupit-kuritelnyie-smesi-kemerovo.', 'chem-lega.biz/prajs/', 'blackrc.biz/', 'blackrc.biz/index.php?/topic/565-alcali-crystals-o', 'blackrc.biz/index.php?/topic/339-novosibirskaia-ob', 'blackrc.biz/index.php?/topic/251-letopis-ot-solomo', 'blackrc.biz/index.php?/topic/521-reporty-ot-rasta7', 'lemonvit.com/1289-sol-dlya-vann-voronej.html', 'narkomafia.org/legal-miks.html', 'narkomafia.org/icq-679520557.html', 'lemonvit.com/460-kupit-jwh-habarovsk.html', 'lemonvit.com/1013-legalnyie-poroshki-ulyanovsk.htm', 'lemonvit.com/516-kupit-spays-penza.html', 'narkomafia.org/973-kupit-spays-v-penze.html', 'narkomafia.org/index.php?do=feedback', 'narkomafia.org/index.php?do=register', 'seansmaga.com/kupit/661-kupit-spice-penza.html', 'narkomafia.org/1093-miksyi-kuritelnyie-v-ufe.html', 'narkomafia.org/35-kuritelnye-miksy-ekaterinburg.ht', 'chem-lega.biz/', 'chem-lega.biz/zakladki-v-gorodax/', 'chem-lega.biz/kontakty/', 'chem-lega.biz/poroshki/', 'gryzoperovoz.com/index.php?newsid=31', 'www.casino360.ru', 'ipvnews.org/', 'kavkazcenter.com', 'kavkazcenter.info', 'kavkazcenter.net', 'kavkaz.org.uk', 'kavkaznews.com', 'kavkaz.tv', 'www.kavkazcenter.com', 'legalrc.biz', 'legalrc.biz/threads/irkutsk-rovnyj-dym-ljutyj-maga', 'legalrc.biz/threads/kak-prigotovit-gashish-svoimi-', 'wayaway.biz/threads/irkutsk-skorost-rossyp-optimal', 'pornopepper.com/videos/245/molodye-malchiki-gei-za']\n"
     ]
    }
   ],
   "source": [
    "browser = webdriver.Firefox()\n",
    "\n",
    "base_url = \"https://web.archive.org/web/20140710063312/http://www.antizapret.info/\"\n",
    "addition = \"?p=\"\n",
    "end = 48\n",
    "all_urls = []\n",
    "for i in range(end):\n",
    "    try:\n",
    "        url = base_url\n",
    "        if i > 0:\n",
    "            url = base_url + addition + str(i)\n",
    "        print(url)\n",
    "        browser.get(url)\n",
    "        html = browser.page_source\n",
    "        curr_rus = BeautifulSoup(html, 'lxml')\n",
    "        all_urls += curr_rus.findAll(lambda tag: tag.name == \"a\" and\n",
    "                                   'alt' in tag.attrs and\n",
    "                                   'href' in tag.attrs)\n",
    "        print(len(all_urls))\n",
    "    except:\n",
    "        continue\n",
    "        \n",
    "browser.quit()\n",
    "    \n",
    "all_urls = [i.get_text() for i in all_urls]\n",
    "print(all_urls[:70])"
   ]
  },
  {
   "cell_type": "code",
   "execution_count": 115,
   "metadata": {},
   "outputs": [
    {
     "data": {
      "text/html": [
       "<div>\n",
       "<style scoped>\n",
       "    .dataframe tbody tr th:only-of-type {\n",
       "        vertical-align: middle;\n",
       "    }\n",
       "\n",
       "    .dataframe tbody tr th {\n",
       "        vertical-align: top;\n",
       "    }\n",
       "\n",
       "    .dataframe thead th {\n",
       "        text-align: right;\n",
       "    }\n",
       "</style>\n",
       "<table border=\"1\" class=\"dataframe\">\n",
       "  <thead>\n",
       "    <tr style=\"text-align: right;\">\n",
       "      <th></th>\n",
       "      <th>URL</th>\n",
       "    </tr>\n",
       "  </thead>\n",
       "  <tbody>\n",
       "    <tr>\n",
       "      <th>0</th>\n",
       "      <td>lj.rossia.org/users/oranta/157031.html</td>\n",
       "    </tr>\n",
       "    <tr>\n",
       "      <th>1</th>\n",
       "      <td>jblover.co/jailbait-videos-stickam-captures-ja...</td>\n",
       "    </tr>\n",
       "    <tr>\n",
       "      <th>2</th>\n",
       "      <td>www.justjailbait.us/vladmodels/vladmodels-zhen...</td>\n",
       "    </tr>\n",
       "    <tr>\n",
       "      <th>3</th>\n",
       "      <td>www.justjailbait.us/showstars/showstars-oxi-se...</td>\n",
       "    </tr>\n",
       "    <tr>\n",
       "      <th>4</th>\n",
       "      <td>goldenmed.net/</td>\n",
       "    </tr>\n",
       "  </tbody>\n",
       "</table>\n",
       "</div>"
      ],
      "text/plain": [
       "                                                 URL\n",
       "0             lj.rossia.org/users/oranta/157031.html\n",
       "1  jblover.co/jailbait-videos-stickam-captures-ja...\n",
       "2  www.justjailbait.us/vladmodels/vladmodels-zhen...\n",
       "3  www.justjailbait.us/showstars/showstars-oxi-se...\n",
       "4                                     goldenmed.net/"
      ]
     },
     "execution_count": 115,
     "metadata": {},
     "output_type": "execute_result"
    }
   ],
   "source": [
    "blocked_rus = pd.DataFrame(all_urls, \n",
    "               columns =['URL'])\n",
    "blocked_rus.head()"
   ]
  },
  {
   "cell_type": "code",
   "execution_count": 116,
   "metadata": {
    "collapsed": true
   },
   "outputs": [],
   "source": [
    "blocked_rus.to_csv(\"blocked_urls_rus.csv\")"
   ]
  },
  {
   "cell_type": "markdown",
   "metadata": {},
   "source": [
    "## North Korea"
   ]
  },
  {
   "cell_type": "code",
   "execution_count": 95,
   "metadata": {},
   "outputs": [
    {
     "data": {
      "text/plain": [
       "28"
      ]
     },
     "execution_count": 95,
     "metadata": {},
     "output_type": "execute_result"
    }
   ],
   "source": [
    "avail_nk_urls = \"\"\"airkoryo.com.kp\n",
    "cooks.org.kp\n",
    "friend.com.kp\n",
    "gnu.rep.kp\n",
    "kass.org.kp\n",
    "kcna.kp\n",
    "kiyctc.com.kp\n",
    "knic.com.kp.\n",
    "koredufund.org.kp\n",
    "korelcfund.org.kp\n",
    "korfilm.com.kp\n",
    "ma.gov.kp\n",
    "masikryong.com.kp\n",
    "naenara.com.kp\n",
    "nta.gov.kp\n",
    "portal.net.kp\n",
    "rcc.net.kp\n",
    "rep.kp\n",
    "rodong.rep.kp\n",
    "ryongnamsan.edu.kp\n",
    "sdprk.org.kp\n",
    "silibank.net.kp\n",
    "star-co.net.kp\n",
    "star-di.net.kp\n",
    "star.co.kp\n",
    "star.edu.kp\n",
    "star.net.kp\n",
    "vok.rep.kp\n",
    "\"\"\"\n",
    "\n",
    "avail_nk_urls = avail_nk_urls.splitlines()\n",
    "len(avail_nk_urls)"
   ]
  },
  {
   "cell_type": "code",
   "execution_count": 96,
   "metadata": {},
   "outputs": [
    {
     "data": {
      "text/html": [
       "<div>\n",
       "<style scoped>\n",
       "    .dataframe tbody tr th:only-of-type {\n",
       "        vertical-align: middle;\n",
       "    }\n",
       "\n",
       "    .dataframe tbody tr th {\n",
       "        vertical-align: top;\n",
       "    }\n",
       "\n",
       "    .dataframe thead th {\n",
       "        text-align: right;\n",
       "    }\n",
       "</style>\n",
       "<table border=\"1\" class=\"dataframe\">\n",
       "  <thead>\n",
       "    <tr style=\"text-align: right;\">\n",
       "      <th></th>\n",
       "      <th>URL</th>\n",
       "    </tr>\n",
       "  </thead>\n",
       "  <tbody>\n",
       "    <tr>\n",
       "      <th>0</th>\n",
       "      <td>airkoryo.com.kp</td>\n",
       "    </tr>\n",
       "    <tr>\n",
       "      <th>1</th>\n",
       "      <td>cooks.org.kp</td>\n",
       "    </tr>\n",
       "    <tr>\n",
       "      <th>2</th>\n",
       "      <td>friend.com.kp</td>\n",
       "    </tr>\n",
       "    <tr>\n",
       "      <th>3</th>\n",
       "      <td>gnu.rep.kp</td>\n",
       "    </tr>\n",
       "    <tr>\n",
       "      <th>4</th>\n",
       "      <td>kass.org.kp</td>\n",
       "    </tr>\n",
       "  </tbody>\n",
       "</table>\n",
       "</div>"
      ],
      "text/plain": [
       "               URL\n",
       "0  airkoryo.com.kp\n",
       "1     cooks.org.kp\n",
       "2    friend.com.kp\n",
       "3       gnu.rep.kp\n",
       "4      kass.org.kp"
      ]
     },
     "execution_count": 96,
     "metadata": {},
     "output_type": "execute_result"
    }
   ],
   "source": [
    "avail_nk = pd.DataFrame(avail_nk_urls, \n",
    "               columns =['URL'])\n",
    "avail_nk.head()"
   ]
  },
  {
   "cell_type": "code",
   "execution_count": 97,
   "metadata": {
    "collapsed": true
   },
   "outputs": [],
   "source": [
    "avail_nk.to_csv(\"avail_urls_nk.csv\")"
   ]
  },
  {
   "cell_type": "markdown",
   "metadata": {},
   "source": [
    "## Pakistan"
   ]
  },
  {
   "cell_type": "code",
   "execution_count": 70,
   "metadata": {},
   "outputs": [
    {
     "data": {
      "text/html": [
       "<div>\n",
       "<style scoped>\n",
       "    .dataframe tbody tr th:only-of-type {\n",
       "        vertical-align: middle;\n",
       "    }\n",
       "\n",
       "    .dataframe tbody tr th {\n",
       "        vertical-align: top;\n",
       "    }\n",
       "\n",
       "    .dataframe thead th {\n",
       "        text-align: right;\n",
       "    }\n",
       "</style>\n",
       "<table border=\"1\" class=\"dataframe\">\n",
       "  <thead>\n",
       "    <tr style=\"text-align: right;\">\n",
       "      <th></th>\n",
       "      <th>0</th>\n",
       "    </tr>\n",
       "  </thead>\n",
       "  <tbody>\n",
       "    <tr>\n",
       "      <th>0</th>\n",
       "      <td>http://www.facebook.com/pages/Everybody-Draw-M...</td>\n",
       "    </tr>\n",
       "    <tr>\n",
       "      <th>1</th>\n",
       "      <td>http://www.facebook.com/pages/Everybody-Draw-M...</td>\n",
       "    </tr>\n",
       "    <tr>\n",
       "      <th>2</th>\n",
       "      <td>http://www.drawmuhammadday.com</td>\n",
       "    </tr>\n",
       "    <tr>\n",
       "      <th>3</th>\n",
       "      <td>https://www.facebook.com</td>\n",
       "    </tr>\n",
       "    <tr>\n",
       "      <th>4</th>\n",
       "      <td>http://www.youtube.com/watch?v=z7ok4njJXI8</td>\n",
       "    </tr>\n",
       "  </tbody>\n",
       "</table>\n",
       "</div>"
      ],
      "text/plain": [
       "                                                   0\n",
       "0  http://www.facebook.com/pages/Everybody-Draw-M...\n",
       "1  http://www.facebook.com/pages/Everybody-Draw-M...\n",
       "2                     http://www.drawmuhammadday.com\n",
       "3                           https://www.facebook.com\n",
       "4         http://www.youtube.com/watch?v=z7ok4njJXI8"
      ]
     },
     "execution_count": 70,
     "metadata": {},
     "output_type": "execute_result"
    }
   ],
   "source": [
    "blocked_pak_urls = pd.read_csv(\"blocked_pak.txt\", sep = '\\n', header = None)\n",
    "blocked_pak_urls.head()"
   ]
  },
  {
   "cell_type": "code",
   "execution_count": 73,
   "metadata": {},
   "outputs": [
    {
     "data": {
      "text/plain": [
       "(598, 1)"
      ]
     },
     "execution_count": 73,
     "metadata": {},
     "output_type": "execute_result"
    }
   ],
   "source": [
    "blocked_pak_urls.shape"
   ]
  },
  {
   "cell_type": "code",
   "execution_count": 74,
   "metadata": {},
   "outputs": [
    {
     "data": {
      "text/html": [
       "<div>\n",
       "<style scoped>\n",
       "    .dataframe tbody tr th:only-of-type {\n",
       "        vertical-align: middle;\n",
       "    }\n",
       "\n",
       "    .dataframe tbody tr th {\n",
       "        vertical-align: top;\n",
       "    }\n",
       "\n",
       "    .dataframe thead th {\n",
       "        text-align: right;\n",
       "    }\n",
       "</style>\n",
       "<table border=\"1\" class=\"dataframe\">\n",
       "  <thead>\n",
       "    <tr style=\"text-align: right;\">\n",
       "      <th></th>\n",
       "      <th>URL</th>\n",
       "    </tr>\n",
       "  </thead>\n",
       "  <tbody>\n",
       "    <tr>\n",
       "      <th>0</th>\n",
       "      <td>http://www.facebook.com/pages/Everybody-Draw-M...</td>\n",
       "    </tr>\n",
       "    <tr>\n",
       "      <th>1</th>\n",
       "      <td>http://www.facebook.com/pages/Everybody-Draw-M...</td>\n",
       "    </tr>\n",
       "    <tr>\n",
       "      <th>2</th>\n",
       "      <td>http://www.drawmuhammadday.com</td>\n",
       "    </tr>\n",
       "    <tr>\n",
       "      <th>3</th>\n",
       "      <td>https://www.facebook.com</td>\n",
       "    </tr>\n",
       "    <tr>\n",
       "      <th>4</th>\n",
       "      <td>http://www.youtube.com/watch?v=z7ok4njJXI8</td>\n",
       "    </tr>\n",
       "  </tbody>\n",
       "</table>\n",
       "</div>"
      ],
      "text/plain": [
       "                                                 URL\n",
       "0  http://www.facebook.com/pages/Everybody-Draw-M...\n",
       "1  http://www.facebook.com/pages/Everybody-Draw-M...\n",
       "2                     http://www.drawmuhammadday.com\n",
       "3                           https://www.facebook.com\n",
       "4         http://www.youtube.com/watch?v=z7ok4njJXI8"
      ]
     },
     "execution_count": 74,
     "metadata": {},
     "output_type": "execute_result"
    }
   ],
   "source": [
    "blocked_pak_urls.rename(columns = {0: \"URL\"}, inplace = True)\n",
    "blocked_pak_urls.head()"
   ]
  },
  {
   "cell_type": "code",
   "execution_count": 76,
   "metadata": {},
   "outputs": [],
   "source": [
    "blocked_pak_urls.to_csv(\"blocked_urls_pak.csv\")"
   ]
  },
  {
   "cell_type": "markdown",
   "metadata": {},
   "source": [
    "## UAE"
   ]
  },
  {
   "cell_type": "code",
   "execution_count": 57,
   "metadata": {},
   "outputs": [
    {
     "data": {
      "text/html": [
       "<div>\n",
       "<style scoped>\n",
       "    .dataframe tbody tr th:only-of-type {\n",
       "        vertical-align: middle;\n",
       "    }\n",
       "\n",
       "    .dataframe tbody tr th {\n",
       "        vertical-align: top;\n",
       "    }\n",
       "\n",
       "    .dataframe thead th {\n",
       "        text-align: right;\n",
       "    }\n",
       "</style>\n",
       "<table border=\"1\" class=\"dataframe\">\n",
       "  <thead>\n",
       "    <tr style=\"text-align: right;\">\n",
       "      <th></th>\n",
       "      <th>0</th>\n",
       "    </tr>\n",
       "  </thead>\n",
       "  <tbody>\n",
       "    <tr>\n",
       "      <th>0</th>\n",
       "      <td>2    http://fditny.hi5.com/</td>\n",
       "    </tr>\n",
       "    <tr>\n",
       "      <th>1</th>\n",
       "      <td>3    http://hi5.com/friend/p356889975-friend-h...</td>\n",
       "    </tr>\n",
       "    <tr>\n",
       "      <th>2</th>\n",
       "      <td>4    http://hi5/friend/p336746863-FoSHEYaH_%20...</td>\n",
       "    </tr>\n",
       "    <tr>\n",
       "      <th>3</th>\n",
       "      <td>5    http://tokiva.com/</td>\n",
       "    </tr>\n",
       "    <tr>\n",
       "      <th>4</th>\n",
       "      <td>7    http://1.cool0.biz/</td>\n",
       "    </tr>\n",
       "  </tbody>\n",
       "</table>\n",
       "</div>"
      ],
      "text/plain": [
       "                                                   0\n",
       "0                2    http://fditny.hi5.com/        \n",
       "1  3    http://hi5.com/friend/p356889975-friend-h...\n",
       "2  4    http://hi5/friend/p336746863-FoSHEYaH_%20...\n",
       "3                    5    http://tokiva.com/        \n",
       "4                   7    http://1.cool0.biz/        "
      ]
     },
     "execution_count": 57,
     "metadata": {},
     "output_type": "execute_result"
    }
   ],
   "source": [
    "blocked_uae_urls = pd.read_csv(\"blocked_uae.txt\", sep = '\\t', header = None)\n",
    "blocked_uae_urls.head()"
   ]
  },
  {
   "cell_type": "code",
   "execution_count": 58,
   "metadata": {},
   "outputs": [
    {
     "data": {
      "text/html": [
       "<div>\n",
       "<style scoped>\n",
       "    .dataframe tbody tr th:only-of-type {\n",
       "        vertical-align: middle;\n",
       "    }\n",
       "\n",
       "    .dataframe tbody tr th {\n",
       "        vertical-align: top;\n",
       "    }\n",
       "\n",
       "    .dataframe thead th {\n",
       "        text-align: right;\n",
       "    }\n",
       "</style>\n",
       "<table border=\"1\" class=\"dataframe\">\n",
       "  <thead>\n",
       "    <tr style=\"text-align: right;\">\n",
       "      <th></th>\n",
       "      <th>URL</th>\n",
       "    </tr>\n",
       "  </thead>\n",
       "  <tbody>\n",
       "    <tr>\n",
       "      <th>0</th>\n",
       "      <td>2    http://fditny.hi5.com/</td>\n",
       "    </tr>\n",
       "    <tr>\n",
       "      <th>1</th>\n",
       "      <td>3    http://hi5.com/friend/p356889975-friend-h...</td>\n",
       "    </tr>\n",
       "    <tr>\n",
       "      <th>2</th>\n",
       "      <td>4    http://hi5/friend/p336746863-FoSHEYaH_%20...</td>\n",
       "    </tr>\n",
       "    <tr>\n",
       "      <th>3</th>\n",
       "      <td>5    http://tokiva.com/</td>\n",
       "    </tr>\n",
       "    <tr>\n",
       "      <th>4</th>\n",
       "      <td>7    http://1.cool0.biz/</td>\n",
       "    </tr>\n",
       "  </tbody>\n",
       "</table>\n",
       "</div>"
      ],
      "text/plain": [
       "                                                 URL\n",
       "0                2    http://fditny.hi5.com/        \n",
       "1  3    http://hi5.com/friend/p356889975-friend-h...\n",
       "2  4    http://hi5/friend/p336746863-FoSHEYaH_%20...\n",
       "3                    5    http://tokiva.com/        \n",
       "4                   7    http://1.cool0.biz/        "
      ]
     },
     "execution_count": 58,
     "metadata": {},
     "output_type": "execute_result"
    }
   ],
   "source": [
    "blocked_uae_urls.rename(columns = {0: \"URL\"}, inplace = True)\n",
    "blocked_uae_urls.head()"
   ]
  },
  {
   "cell_type": "code",
   "execution_count": 59,
   "metadata": {},
   "outputs": [
    {
     "data": {
      "text/plain": [
       "(24537, 1)"
      ]
     },
     "execution_count": 59,
     "metadata": {},
     "output_type": "execute_result"
    }
   ],
   "source": [
    "blocked_uae_urls.shape"
   ]
  },
  {
   "cell_type": "code",
   "execution_count": 67,
   "metadata": {},
   "outputs": [
    {
     "name": "stdout",
     "output_type": "stream",
     "text": [
      "['http://fditny.hi5.com/', 'http://hi5.com/friend/p356889975-friend-html', 'http://hi5/friend/p336746863-FoSHEYaH_%20%20%20%20-html', 'http://tokiva.com/', 'http://1.cool0.biz/', 'http://1.hao929.cn/', 'http://1.verynx.cn/', 'http://1111.ma/', 'http://117275.cn/', 'http://11910.net/']\n",
      "24537\n"
     ]
    }
   ],
   "source": [
    "with open(\"blocked_uae.txt\") as f:\n",
    "    lines = f.readlines()\n",
    "    blocked_uae_urls = [i.split()[1] for i in lines if len(i.split()) > 1] + [i.split()[0] for i in lines if len(i.split()) == 1]\n",
    "    print(blocked_uae_urls[:10])\n",
    "    print(len(blocked_uae_urls))"
   ]
  },
  {
   "cell_type": "code",
   "execution_count": 68,
   "metadata": {},
   "outputs": [
    {
     "data": {
      "text/html": [
       "<div>\n",
       "<style scoped>\n",
       "    .dataframe tbody tr th:only-of-type {\n",
       "        vertical-align: middle;\n",
       "    }\n",
       "\n",
       "    .dataframe tbody tr th {\n",
       "        vertical-align: top;\n",
       "    }\n",
       "\n",
       "    .dataframe thead th {\n",
       "        text-align: right;\n",
       "    }\n",
       "</style>\n",
       "<table border=\"1\" class=\"dataframe\">\n",
       "  <thead>\n",
       "    <tr style=\"text-align: right;\">\n",
       "      <th></th>\n",
       "      <th>URL</th>\n",
       "    </tr>\n",
       "  </thead>\n",
       "  <tbody>\n",
       "    <tr>\n",
       "      <th>0</th>\n",
       "      <td>http://fditny.hi5.com/</td>\n",
       "    </tr>\n",
       "    <tr>\n",
       "      <th>1</th>\n",
       "      <td>http://hi5.com/friend/p356889975-friend-html</td>\n",
       "    </tr>\n",
       "    <tr>\n",
       "      <th>2</th>\n",
       "      <td>http://hi5/friend/p336746863-FoSHEYaH_%20%20%2...</td>\n",
       "    </tr>\n",
       "    <tr>\n",
       "      <th>3</th>\n",
       "      <td>http://tokiva.com/</td>\n",
       "    </tr>\n",
       "    <tr>\n",
       "      <th>4</th>\n",
       "      <td>http://1.cool0.biz/</td>\n",
       "    </tr>\n",
       "  </tbody>\n",
       "</table>\n",
       "</div>"
      ],
      "text/plain": [
       "                                                 URL\n",
       "0                             http://fditny.hi5.com/\n",
       "1       http://hi5.com/friend/p356889975-friend-html\n",
       "2  http://hi5/friend/p336746863-FoSHEYaH_%20%20%2...\n",
       "3                                 http://tokiva.com/\n",
       "4                                http://1.cool0.biz/"
      ]
     },
     "execution_count": 68,
     "metadata": {},
     "output_type": "execute_result"
    }
   ],
   "source": [
    "blocked_uae = pd.DataFrame(blocked_uae_urls, \n",
    "               columns =['URL'])\n",
    "blocked_uae.head()"
   ]
  },
  {
   "cell_type": "code",
   "execution_count": 69,
   "metadata": {
    "collapsed": true
   },
   "outputs": [],
   "source": [
    "blocked_uae.to_csv(\"blocked_urls_uae.csv\")"
   ]
  }
 ],
 "metadata": {
  "kernelspec": {
   "display_name": "Python 3",
   "language": "python",
   "name": "python3"
  },
  "language_info": {
   "codemirror_mode": {
    "name": "ipython",
    "version": 3
   },
   "file_extension": ".py",
   "mimetype": "text/x-python",
   "name": "python",
   "nbconvert_exporter": "python",
   "pygments_lexer": "ipython3",
   "version": "3.6.3"
  }
 },
 "nbformat": 4,
 "nbformat_minor": 2
}
