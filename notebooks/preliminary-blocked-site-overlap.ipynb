{
 "cells": [
  {
   "cell_type": "code",
   "execution_count": 2,
   "metadata": {
    "collapsed": true
   },
   "outputs": [],
   "source": [
    "import pandas as pd\n",
    "import numpy as np\n",
    "import matplotlib.pyplot as plt\n",
    "import tldextract"
   ]
  },
  {
   "cell_type": "markdown",
   "metadata": {},
   "source": [
    "Websites with available clean data\n",
    "- China\n",
    "- GDPR nations\n",
    "- India\n",
    "- Iraq\n",
    "- Pakistan\n",
    "- Russia\n",
    "- Saudi Arabia\n",
    "- UAE"
   ]
  },
  {
   "cell_type": "code",
   "execution_count": 3,
   "metadata": {
    "collapsed": true
   },
   "outputs": [],
   "source": [
    "data_dir = \"cleaned_data/\""
   ]
  },
  {
   "cell_type": "code",
   "execution_count": 35,
   "metadata": {
    "collapsed": true
   },
   "outputs": [],
   "source": [
    "gdpr_nations = ['Austria',\n",
    "                'Belgium',\n",
    "                'Bulgaria',\n",
    "                'Croatia', \n",
    "                'Cyprus',\n",
    "                'Czech Republic', \n",
    "                'Denmark', \n",
    "                'Estonia', \n",
    "                'Finland', \n",
    "                'France', \n",
    "                'Germany', \n",
    "                'Greece', \n",
    "                'Hungary', \n",
    "                'Ireland', \n",
    "                'Italy',\n",
    "                'Latvia',\n",
    "                'Lithuania',\n",
    "                'Luxembourg', \n",
    "                'Malta', \n",
    "                'the Netherlands', \n",
    "                'Poland', \n",
    "                'Portugal', \n",
    "                'Romania', \n",
    "                'Slovakia', \n",
    "                'Slovenia', \n",
    "                'Spain',\n",
    "                'Sweden',\n",
    "                'UK',\n",
    "                'Iceland',\n",
    "                'Lichtenstein',\n",
    "                'Norway'\n",
    "               ]"
   ]
  },
  {
   "cell_type": "markdown",
   "metadata": {},
   "source": [
    "## Trial Run: China vs. Saudi Arabia"
   ]
  },
  {
   "cell_type": "code",
   "execution_count": 4,
   "metadata": {},
   "outputs": [
    {
     "data": {
      "text/html": [
       "<div>\n",
       "<style scoped>\n",
       "    .dataframe tbody tr th:only-of-type {\n",
       "        vertical-align: middle;\n",
       "    }\n",
       "\n",
       "    .dataframe tbody tr th {\n",
       "        vertical-align: top;\n",
       "    }\n",
       "\n",
       "    .dataframe thead th {\n",
       "        text-align: right;\n",
       "    }\n",
       "</style>\n",
       "<table border=\"1\" class=\"dataframe\">\n",
       "  <thead>\n",
       "    <tr style=\"text-align: right;\">\n",
       "      <th></th>\n",
       "      <th>URL</th>\n",
       "    </tr>\n",
       "  </thead>\n",
       "  <tbody>\n",
       "    <tr>\n",
       "      <th>0</th>\n",
       "      <td>www.a00.com</td>\n",
       "    </tr>\n",
       "    <tr>\n",
       "      <th>1</th>\n",
       "      <td>a0006.in2000.com</td>\n",
       "    </tr>\n",
       "    <tr>\n",
       "      <th>2</th>\n",
       "      <td>a1.sparklancer.com</td>\n",
       "    </tr>\n",
       "    <tr>\n",
       "      <th>3</th>\n",
       "      <td>a1234.uhome.net</td>\n",
       "    </tr>\n",
       "    <tr>\n",
       "      <th>4</th>\n",
       "      <td>a1234bc.uhome.net</td>\n",
       "    </tr>\n",
       "  </tbody>\n",
       "</table>\n",
       "</div>"
      ],
      "text/plain": [
       "                  URL\n",
       "0         www.a00.com\n",
       "1    a0006.in2000.com\n",
       "2  a1.sparklancer.com\n",
       "3     a1234.uhome.net\n",
       "4   a1234bc.uhome.net"
      ]
     },
     "execution_count": 4,
     "metadata": {},
     "output_type": "execute_result"
    }
   ],
   "source": [
    "china = pd.read_csv(data_dir + \"blocked_urls_china.csv\")\n",
    "china.drop(columns = [\"Unnamed: 0\"], inplace = True)\n",
    "china.head()"
   ]
  },
  {
   "cell_type": "code",
   "execution_count": 5,
   "metadata": {},
   "outputs": [
    {
     "data": {
      "text/html": [
       "<div>\n",
       "<style scoped>\n",
       "    .dataframe tbody tr th:only-of-type {\n",
       "        vertical-align: middle;\n",
       "    }\n",
       "\n",
       "    .dataframe tbody tr th {\n",
       "        vertical-align: top;\n",
       "    }\n",
       "\n",
       "    .dataframe thead th {\n",
       "        text-align: right;\n",
       "    }\n",
       "</style>\n",
       "<table border=\"1\" class=\"dataframe\">\n",
       "  <thead>\n",
       "    <tr style=\"text-align: right;\">\n",
       "      <th></th>\n",
       "      <th>URL</th>\n",
       "    </tr>\n",
       "  </thead>\n",
       "  <tbody>\n",
       "    <tr>\n",
       "      <th>0</th>\n",
       "      <td>www.absoluteswimwear.com</td>\n",
       "    </tr>\n",
       "    <tr>\n",
       "      <th>1</th>\n",
       "      <td>www.adaweb.com</td>\n",
       "    </tr>\n",
       "    <tr>\n",
       "      <th>2</th>\n",
       "      <td>www.adultnewsstand.com</td>\n",
       "    </tr>\n",
       "    <tr>\n",
       "      <th>3</th>\n",
       "      <td>www.adventureangling.com</td>\n",
       "    </tr>\n",
       "    <tr>\n",
       "      <th>4</th>\n",
       "      <td>www.adventureangling.com/chd/webring.htm</td>\n",
       "    </tr>\n",
       "  </tbody>\n",
       "</table>\n",
       "</div>"
      ],
      "text/plain": [
       "                                        URL\n",
       "0                  www.absoluteswimwear.com\n",
       "1                            www.adaweb.com\n",
       "2                    www.adultnewsstand.com\n",
       "3                  www.adventureangling.com\n",
       "4  www.adventureangling.com/chd/webring.htm"
      ]
     },
     "execution_count": 5,
     "metadata": {},
     "output_type": "execute_result"
    }
   ],
   "source": [
    "saudi_arabia = pd.read_csv(data_dir + \"blocked_urls_sa.csv\")\n",
    "saudi_arabia.drop(columns = [\"Unnamed: 0\"], inplace = True)\n",
    "saudi_arabia.head()"
   ]
  },
  {
   "cell_type": "code",
   "execution_count": 6,
   "metadata": {},
   "outputs": [
    {
     "name": "stdout",
     "output_type": "stream",
     "text": [
      "(15911, 1) (1380, 1)\n"
     ]
    }
   ],
   "source": [
    "print(china.shape, saudi_arabia.shape)"
   ]
  },
  {
   "cell_type": "code",
   "execution_count": 7,
   "metadata": {},
   "outputs": [
    {
     "data": {
      "text/plain": [
       "ExtractResult(subdomain='www', domain='a00', suffix='com')"
      ]
     },
     "execution_count": 7,
     "metadata": {},
     "output_type": "execute_result"
    }
   ],
   "source": [
    "tldextract.extract('www.a00.com')"
   ]
  },
  {
   "cell_type": "code",
   "execution_count": 8,
   "metadata": {},
   "outputs": [
    {
     "data": {
      "text/plain": [
       "['a00', 'in2000', 'sparklancer', 'uhome', 'uhome']"
      ]
     },
     "execution_count": 8,
     "metadata": {},
     "output_type": "execute_result"
    }
   ],
   "source": [
    "china_domains = list(china['URL'].apply(lambda d: tldextract.extract(d)[1]))\n",
    "china_domains[:5]"
   ]
  },
  {
   "cell_type": "code",
   "execution_count": 9,
   "metadata": {},
   "outputs": [
    {
     "data": {
      "text/plain": [
       "['absoluteswimwear',\n",
       " 'adaweb',\n",
       " 'adultnewsstand',\n",
       " 'adventureangling',\n",
       " 'adventureangling']"
      ]
     },
     "execution_count": 9,
     "metadata": {},
     "output_type": "execute_result"
    }
   ],
   "source": [
    "sa_domains = list(saudi_arabia['URL'].apply(lambda d: tldextract.extract(d)[1]))\n",
    "sa_domains[:5]"
   ]
  },
  {
   "cell_type": "code",
   "execution_count": 10,
   "metadata": {},
   "outputs": [
    {
     "name": "stdout",
     "output_type": "stream",
     "text": [
      "['chinawxp', 'darksites', 'travelebooks', 'burningflags', 'volny'] 86\n"
     ]
    }
   ],
   "source": [
    "block_china_sa = list(set(china_domains) & set(sa_domains))\n",
    "print(block_china_sa[:5], len(block_china_sa))"
   ]
  },
  {
   "cell_type": "markdown",
   "metadata": {
    "collapsed": true
   },
   "source": [
    "## Comparing all nation blocked list pairs"
   ]
  },
  {
   "cell_type": "markdown",
   "metadata": {},
   "source": [
    "### Loading in & cleaning country data"
   ]
  },
  {
   "cell_type": "code",
   "execution_count": 23,
   "metadata": {},
   "outputs": [
    {
     "data": {
      "text/html": [
       "<div>\n",
       "<style scoped>\n",
       "    .dataframe tbody tr th:only-of-type {\n",
       "        vertical-align: middle;\n",
       "    }\n",
       "\n",
       "    .dataframe tbody tr th {\n",
       "        vertical-align: top;\n",
       "    }\n",
       "\n",
       "    .dataframe thead th {\n",
       "        text-align: right;\n",
       "    }\n",
       "</style>\n",
       "<table border=\"1\" class=\"dataframe\">\n",
       "  <thead>\n",
       "    <tr style=\"text-align: right;\">\n",
       "      <th></th>\n",
       "      <th>Name</th>\n",
       "      <th>Date Unblocked</th>\n",
       "      <th>Website</th>\n",
       "      <th>Archived Block Message[0]</th>\n",
       "      <th>Archived Block Message[1]</th>\n",
       "      <th>Block Message Screenshot</th>\n",
       "      <th>Website Archives[0]</th>\n",
       "      <th>Website Archives[1]</th>\n",
       "      <th>URL</th>\n",
       "    </tr>\n",
       "  </thead>\n",
       "  <tbody>\n",
       "    <tr>\n",
       "      <th>0</th>\n",
       "      <td>5 News KFSM</td>\n",
       "      <td>NaN</td>\n",
       "      <td>https://5newsonline.com</td>\n",
       "      <td>https://archive.fo/Lwl88</td>\n",
       "      <td>NaN</td>\n",
       "      <td>https://data.verifiedjoseph.com/files/gdpr-scr...</td>\n",
       "      <td>https://web.archive.org/web/2/https://5newsonl...</td>\n",
       "      <td>NaN</td>\n",
       "      <td>https://5newsonline.com</td>\n",
       "    </tr>\n",
       "    <tr>\n",
       "      <th>1</th>\n",
       "      <td>99acres</td>\n",
       "      <td>NaN</td>\n",
       "      <td>https://www.99acres.com</td>\n",
       "      <td>https://archive.fo/24l2Q</td>\n",
       "      <td>NaN</td>\n",
       "      <td>https://data.verifiedjoseph.com/files/gdpr-scr...</td>\n",
       "      <td>https://web.archive.org/web/2/https://www.99ac...</td>\n",
       "      <td>NaN</td>\n",
       "      <td>https://www.99acres.com</td>\n",
       "    </tr>\n",
       "    <tr>\n",
       "      <th>2</th>\n",
       "      <td>Aberdeen News</td>\n",
       "      <td>NaN</td>\n",
       "      <td>https://www.aberdeennews.com</td>\n",
       "      <td>NaN</td>\n",
       "      <td>NaN</td>\n",
       "      <td>https://data.verifiedjoseph.com/files/gdpr-scr...</td>\n",
       "      <td>NaN</td>\n",
       "      <td>NaN</td>\n",
       "      <td>https://www.aberdeennews.com</td>\n",
       "    </tr>\n",
       "    <tr>\n",
       "      <th>3</th>\n",
       "      <td>Abington Mariner</td>\n",
       "      <td>NaN</td>\n",
       "      <td>http://abington.wickedlocal.com</td>\n",
       "      <td>NaN</td>\n",
       "      <td>NaN</td>\n",
       "      <td>https://data.verifiedjoseph.com/files/gdpr-scr...</td>\n",
       "      <td>https://web.archive.org/web/2/http://abington....</td>\n",
       "      <td>NaN</td>\n",
       "      <td>http://abington.wickedlocal.com</td>\n",
       "    </tr>\n",
       "    <tr>\n",
       "      <th>4</th>\n",
       "      <td>Ad Express &amp; Daily Iowegian (Centerville, IA)</td>\n",
       "      <td>NaN</td>\n",
       "      <td>https://www.dailyiowegian.com</td>\n",
       "      <td>NaN</td>\n",
       "      <td>NaN</td>\n",
       "      <td>https://data.verifiedjoseph.com/files/gdpr-scr...</td>\n",
       "      <td>NaN</td>\n",
       "      <td>NaN</td>\n",
       "      <td>https://www.dailyiowegian.com</td>\n",
       "    </tr>\n",
       "  </tbody>\n",
       "</table>\n",
       "</div>"
      ],
      "text/plain": [
       "                                            Name Date Unblocked  \\\n",
       "0                                    5 News KFSM            NaN   \n",
       "1                                        99acres            NaN   \n",
       "2                                  Aberdeen News            NaN   \n",
       "3                               Abington Mariner            NaN   \n",
       "4  Ad Express & Daily Iowegian (Centerville, IA)            NaN   \n",
       "\n",
       "                           Website Archived Block Message[0]  \\\n",
       "0          https://5newsonline.com  https://archive.fo/Lwl88   \n",
       "1          https://www.99acres.com  https://archive.fo/24l2Q   \n",
       "2     https://www.aberdeennews.com                       NaN   \n",
       "3  http://abington.wickedlocal.com                       NaN   \n",
       "4    https://www.dailyiowegian.com                       NaN   \n",
       "\n",
       "  Archived Block Message[1]  \\\n",
       "0                       NaN   \n",
       "1                       NaN   \n",
       "2                       NaN   \n",
       "3                       NaN   \n",
       "4                       NaN   \n",
       "\n",
       "                            Block Message Screenshot  \\\n",
       "0  https://data.verifiedjoseph.com/files/gdpr-scr...   \n",
       "1  https://data.verifiedjoseph.com/files/gdpr-scr...   \n",
       "2  https://data.verifiedjoseph.com/files/gdpr-scr...   \n",
       "3  https://data.verifiedjoseph.com/files/gdpr-scr...   \n",
       "4  https://data.verifiedjoseph.com/files/gdpr-scr...   \n",
       "\n",
       "                                 Website Archives[0] Website Archives[1]  \\\n",
       "0  https://web.archive.org/web/2/https://5newsonl...                 NaN   \n",
       "1  https://web.archive.org/web/2/https://www.99ac...                 NaN   \n",
       "2                                                NaN                 NaN   \n",
       "3  https://web.archive.org/web/2/http://abington....                 NaN   \n",
       "4                                                NaN                 NaN   \n",
       "\n",
       "                               URL  \n",
       "0          https://5newsonline.com  \n",
       "1          https://www.99acres.com  \n",
       "2     https://www.aberdeennews.com  \n",
       "3  http://abington.wickedlocal.com  \n",
       "4    https://www.dailyiowegian.com  "
      ]
     },
     "execution_count": 23,
     "metadata": {},
     "output_type": "execute_result"
    }
   ],
   "source": [
    "gdpr = pd.read_csv(data_dir + \"blocked_urls_gdpr.csv\")\n",
    "gdpr['URL'] = gdpr['Website']\n",
    "gdpr.head()"
   ]
  },
  {
   "cell_type": "code",
   "execution_count": 15,
   "metadata": {},
   "outputs": [
    {
     "data": {
      "text/html": [
       "<div>\n",
       "<style scoped>\n",
       "    .dataframe tbody tr th:only-of-type {\n",
       "        vertical-align: middle;\n",
       "    }\n",
       "\n",
       "    .dataframe tbody tr th {\n",
       "        vertical-align: top;\n",
       "    }\n",
       "\n",
       "    .dataframe thead th {\n",
       "        text-align: right;\n",
       "    }\n",
       "</style>\n",
       "<table border=\"1\" class=\"dataframe\">\n",
       "  <thead>\n",
       "    <tr style=\"text-align: right;\">\n",
       "      <th></th>\n",
       "      <th>URL</th>\n",
       "    </tr>\n",
       "  </thead>\n",
       "  <tbody>\n",
       "    <tr>\n",
       "      <th>0</th>\n",
       "      <td>torrentfunk.com</td>\n",
       "    </tr>\n",
       "    <tr>\n",
       "      <th>1</th>\n",
       "      <td>Torrents.eu</td>\n",
       "    </tr>\n",
       "    <tr>\n",
       "      <th>2</th>\n",
       "      <td>Torrentroom.com</td>\n",
       "    </tr>\n",
       "    <tr>\n",
       "      <th>3</th>\n",
       "      <td>Pastebin.com</td>\n",
       "    </tr>\n",
       "    <tr>\n",
       "      <th>4</th>\n",
       "      <td>Xmarks.com</td>\n",
       "    </tr>\n",
       "  </tbody>\n",
       "</table>\n",
       "</div>"
      ],
      "text/plain": [
       "               URL\n",
       "0  torrentfunk.com\n",
       "1      Torrents.eu\n",
       "2  Torrentroom.com\n",
       "3     Pastebin.com\n",
       "4       Xmarks.com"
      ]
     },
     "execution_count": 15,
     "metadata": {},
     "output_type": "execute_result"
    }
   ],
   "source": [
    "india = pd.read_csv(data_dir + \"blocked_urls_in.csv\")\n",
    "india.drop(columns = [\"Unnamed: 0\"], inplace = True)\n",
    "india.head()"
   ]
  },
  {
   "cell_type": "code",
   "execution_count": 17,
   "metadata": {},
   "outputs": [
    {
     "data": {
      "text/html": [
       "<div>\n",
       "<style scoped>\n",
       "    .dataframe tbody tr th:only-of-type {\n",
       "        vertical-align: middle;\n",
       "    }\n",
       "\n",
       "    .dataframe tbody tr th {\n",
       "        vertical-align: top;\n",
       "    }\n",
       "\n",
       "    .dataframe thead th {\n",
       "        text-align: right;\n",
       "    }\n",
       "</style>\n",
       "<table border=\"1\" class=\"dataframe\">\n",
       "  <thead>\n",
       "    <tr style=\"text-align: right;\">\n",
       "      <th></th>\n",
       "      <th>URL</th>\n",
       "    </tr>\n",
       "  </thead>\n",
       "  <tbody>\n",
       "    <tr>\n",
       "      <th>0</th>\n",
       "      <td>http://www.iraqinews.com/tag/fallujah/</td>\n",
       "    </tr>\n",
       "    <tr>\n",
       "      <th>1</th>\n",
       "      <td>http://www.herakiq.com/</td>\n",
       "    </tr>\n",
       "    <tr>\n",
       "      <th>2</th>\n",
       "      <td>http://www.almadar.co.il/newss.aspx?cid=69&amp;</td>\n",
       "    </tr>\n",
       "    <tr>\n",
       "      <th>3</th>\n",
       "      <td>http://www.nakhelnews.com/</td>\n",
       "    </tr>\n",
       "    <tr>\n",
       "      <th>4</th>\n",
       "      <td>http://altaghier.tv/</td>\n",
       "    </tr>\n",
       "  </tbody>\n",
       "</table>\n",
       "</div>"
      ],
      "text/plain": [
       "                                           URL\n",
       "0       http://www.iraqinews.com/tag/fallujah/\n",
       "1                      http://www.herakiq.com/\n",
       "2  http://www.almadar.co.il/newss.aspx?cid=69&\n",
       "3                   http://www.nakhelnews.com/\n",
       "4                         http://altaghier.tv/"
      ]
     },
     "execution_count": 17,
     "metadata": {},
     "output_type": "execute_result"
    }
   ],
   "source": [
    "iraq = pd.read_csv(data_dir + \"blocked_urls_iq.csv\")\n",
    "iraq.drop(columns = [\"Unnamed: 0\"], inplace = True)\n",
    "iraq.head()"
   ]
  },
  {
   "cell_type": "code",
   "execution_count": 18,
   "metadata": {},
   "outputs": [
    {
     "data": {
      "text/html": [
       "<div>\n",
       "<style scoped>\n",
       "    .dataframe tbody tr th:only-of-type {\n",
       "        vertical-align: middle;\n",
       "    }\n",
       "\n",
       "    .dataframe tbody tr th {\n",
       "        vertical-align: top;\n",
       "    }\n",
       "\n",
       "    .dataframe thead th {\n",
       "        text-align: right;\n",
       "    }\n",
       "</style>\n",
       "<table border=\"1\" class=\"dataframe\">\n",
       "  <thead>\n",
       "    <tr style=\"text-align: right;\">\n",
       "      <th></th>\n",
       "      <th>URL</th>\n",
       "    </tr>\n",
       "  </thead>\n",
       "  <tbody>\n",
       "    <tr>\n",
       "      <th>0</th>\n",
       "      <td>http://www.facebook.com/pages/Everybody-Draw-M...</td>\n",
       "    </tr>\n",
       "    <tr>\n",
       "      <th>1</th>\n",
       "      <td>http://www.facebook.com/pages/Everybody-Draw-M...</td>\n",
       "    </tr>\n",
       "    <tr>\n",
       "      <th>2</th>\n",
       "      <td>http://www.drawmuhammadday.com</td>\n",
       "    </tr>\n",
       "    <tr>\n",
       "      <th>3</th>\n",
       "      <td>https://www.facebook.com</td>\n",
       "    </tr>\n",
       "    <tr>\n",
       "      <th>4</th>\n",
       "      <td>http://www.youtube.com/watch?v=z7ok4njJXI8</td>\n",
       "    </tr>\n",
       "  </tbody>\n",
       "</table>\n",
       "</div>"
      ],
      "text/plain": [
       "                                                 URL\n",
       "0  http://www.facebook.com/pages/Everybody-Draw-M...\n",
       "1  http://www.facebook.com/pages/Everybody-Draw-M...\n",
       "2                     http://www.drawmuhammadday.com\n",
       "3                           https://www.facebook.com\n",
       "4         http://www.youtube.com/watch?v=z7ok4njJXI8"
      ]
     },
     "execution_count": 18,
     "metadata": {},
     "output_type": "execute_result"
    }
   ],
   "source": [
    "pak = pd.read_csv(data_dir + \"blocked_urls_pak.csv\")\n",
    "pak.drop(columns = [\"Unnamed: 0\"], inplace = True)\n",
    "pak.head()"
   ]
  },
  {
   "cell_type": "code",
   "execution_count": 19,
   "metadata": {},
   "outputs": [
    {
     "data": {
      "text/html": [
       "<div>\n",
       "<style scoped>\n",
       "    .dataframe tbody tr th:only-of-type {\n",
       "        vertical-align: middle;\n",
       "    }\n",
       "\n",
       "    .dataframe tbody tr th {\n",
       "        vertical-align: top;\n",
       "    }\n",
       "\n",
       "    .dataframe thead th {\n",
       "        text-align: right;\n",
       "    }\n",
       "</style>\n",
       "<table border=\"1\" class=\"dataframe\">\n",
       "  <thead>\n",
       "    <tr style=\"text-align: right;\">\n",
       "      <th></th>\n",
       "      <th>URL</th>\n",
       "    </tr>\n",
       "  </thead>\n",
       "  <tbody>\n",
       "    <tr>\n",
       "      <th>0</th>\n",
       "      <td>lj.rossia.org/users/oranta/157031.html</td>\n",
       "    </tr>\n",
       "    <tr>\n",
       "      <th>1</th>\n",
       "      <td>jblover.co/jailbait-videos-stickam-captures-ja...</td>\n",
       "    </tr>\n",
       "    <tr>\n",
       "      <th>2</th>\n",
       "      <td>www.justjailbait.us/vladmodels/vladmodels-zhen...</td>\n",
       "    </tr>\n",
       "    <tr>\n",
       "      <th>3</th>\n",
       "      <td>www.justjailbait.us/showstars/showstars-oxi-se...</td>\n",
       "    </tr>\n",
       "    <tr>\n",
       "      <th>4</th>\n",
       "      <td>goldenmed.net/</td>\n",
       "    </tr>\n",
       "  </tbody>\n",
       "</table>\n",
       "</div>"
      ],
      "text/plain": [
       "                                                 URL\n",
       "0             lj.rossia.org/users/oranta/157031.html\n",
       "1  jblover.co/jailbait-videos-stickam-captures-ja...\n",
       "2  www.justjailbait.us/vladmodels/vladmodels-zhen...\n",
       "3  www.justjailbait.us/showstars/showstars-oxi-se...\n",
       "4                                     goldenmed.net/"
      ]
     },
     "execution_count": 19,
     "metadata": {},
     "output_type": "execute_result"
    }
   ],
   "source": [
    "rus = pd.read_csv(data_dir + \"blocked_urls_rus.csv\")\n",
    "rus.drop(columns = [\"Unnamed: 0\"], inplace = True)\n",
    "rus.head()"
   ]
  },
  {
   "cell_type": "code",
   "execution_count": 20,
   "metadata": {},
   "outputs": [
    {
     "data": {
      "text/html": [
       "<div>\n",
       "<style scoped>\n",
       "    .dataframe tbody tr th:only-of-type {\n",
       "        vertical-align: middle;\n",
       "    }\n",
       "\n",
       "    .dataframe tbody tr th {\n",
       "        vertical-align: top;\n",
       "    }\n",
       "\n",
       "    .dataframe thead th {\n",
       "        text-align: right;\n",
       "    }\n",
       "</style>\n",
       "<table border=\"1\" class=\"dataframe\">\n",
       "  <thead>\n",
       "    <tr style=\"text-align: right;\">\n",
       "      <th></th>\n",
       "      <th>URL</th>\n",
       "    </tr>\n",
       "  </thead>\n",
       "  <tbody>\n",
       "    <tr>\n",
       "      <th>0</th>\n",
       "      <td>http://fditny.hi5.com/</td>\n",
       "    </tr>\n",
       "    <tr>\n",
       "      <th>1</th>\n",
       "      <td>http://hi5.com/friend/p356889975-friend-html</td>\n",
       "    </tr>\n",
       "    <tr>\n",
       "      <th>2</th>\n",
       "      <td>http://hi5/friend/p336746863-FoSHEYaH_%20%20%2...</td>\n",
       "    </tr>\n",
       "    <tr>\n",
       "      <th>3</th>\n",
       "      <td>http://tokiva.com/</td>\n",
       "    </tr>\n",
       "    <tr>\n",
       "      <th>4</th>\n",
       "      <td>http://1.cool0.biz/</td>\n",
       "    </tr>\n",
       "  </tbody>\n",
       "</table>\n",
       "</div>"
      ],
      "text/plain": [
       "                                                 URL\n",
       "0                             http://fditny.hi5.com/\n",
       "1       http://hi5.com/friend/p356889975-friend-html\n",
       "2  http://hi5/friend/p336746863-FoSHEYaH_%20%20%2...\n",
       "3                                 http://tokiva.com/\n",
       "4                                http://1.cool0.biz/"
      ]
     },
     "execution_count": 20,
     "metadata": {},
     "output_type": "execute_result"
    }
   ],
   "source": [
    "uae = pd.read_csv(data_dir + \"blocked_urls_uae.csv\")\n",
    "uae.drop(columns = [\"Unnamed: 0\"], inplace = True)\n",
    "uae.head()"
   ]
  },
  {
   "cell_type": "code",
   "execution_count": 26,
   "metadata": {},
   "outputs": [],
   "source": [
    "country_url_dfs = [china, gdpr, india, iraq, pak, rus, saudi_arabia, uae]\n",
    "country_names = [\"China\", \"GDPR\", \"India\", \"Iraq\", \"Pakistan\", \"Russia\", \"Saudi Arabia\", \"UAE\"]\n",
    "country_domain_lists = {}\n",
    "count = 0\n",
    "for c in country_url_dfs:\n",
    "    curr_domains = list(c['URL'].apply(lambda d: str.lower(tldextract.extract(d)[1])))\n",
    "    country_domain_lists[country_names[count]] = curr_domains\n",
    "    count += 1"
   ]
  },
  {
   "cell_type": "code",
   "execution_count": 32,
   "metadata": {},
   "outputs": [],
   "source": [
    "domain_list_iterator = list(country_domain_lists.items())\n",
    "pairwise_overlap = {}\n",
    "i = 1\n",
    "for c1_name, c1_list in domain_list_iterator:\n",
    "    for c2_name, c2_list in domain_list_iterator[i:]:\n",
    "        curr_overlap = list(set(c1_list) & set(c2_list))\n",
    "        pairwise_overlap[(c1_name, c2_name)] = (len(curr_overlap), len(c1_list), len(c2_list))\n",
    "    i += 1"
   ]
  },
  {
   "cell_type": "code",
   "execution_count": 33,
   "metadata": {},
   "outputs": [
    {
     "data": {
      "text/plain": [
       "{('China', 'GDPR'): (47, 15911, 1361),\n",
       " ('China', 'India'): (0, 15911, 20),\n",
       " ('China', 'Iraq'): (0, 15911, 21),\n",
       " ('China', 'Pakistan'): (9, 15911, 598),\n",
       " ('China', 'Russia'): (9, 15911, 5184),\n",
       " ('China', 'Saudi Arabia'): (86, 15911, 1380),\n",
       " ('China', 'UAE'): (117, 15911, 24537),\n",
       " ('GDPR', 'India'): (0, 1361, 20),\n",
       " ('GDPR', 'Iraq'): (0, 1361, 21),\n",
       " ('GDPR', 'Pakistan'): (0, 1361, 598),\n",
       " ('GDPR', 'Russia'): (0, 1361, 5184),\n",
       " ('GDPR', 'Saudi Arabia'): (0, 1361, 1380),\n",
       " ('GDPR', 'UAE'): (3, 1361, 24537),\n",
       " ('India', 'Iraq'): (0, 20, 21),\n",
       " ('India', 'Pakistan'): (0, 20, 598),\n",
       " ('India', 'Russia'): (1, 20, 5184),\n",
       " ('India', 'Saudi Arabia'): (0, 20, 1380),\n",
       " ('India', 'UAE'): (9, 20, 24537),\n",
       " ('Iraq', 'Pakistan'): (0, 21, 598),\n",
       " ('Iraq', 'Russia'): (0, 21, 5184),\n",
       " ('Iraq', 'Saudi Arabia'): (0, 21, 1380),\n",
       " ('Iraq', 'UAE'): (2, 21, 24537),\n",
       " ('Pakistan', 'Russia'): (3, 598, 5184),\n",
       " ('Pakistan', 'Saudi Arabia'): (3, 598, 1380),\n",
       " ('Pakistan', 'UAE'): (63, 598, 24537),\n",
       " ('Russia', 'Saudi Arabia'): (3, 5184, 1380),\n",
       " ('Russia', 'UAE'): (25, 5184, 24537),\n",
       " ('Saudi Arabia', 'UAE'): (41, 1380, 24537)}"
      ]
     },
     "execution_count": 33,
     "metadata": {},
     "output_type": "execute_result"
    }
   ],
   "source": [
    "pairwise_overlap"
   ]
  },
  {
   "cell_type": "code",
   "execution_count": 43,
   "metadata": {
    "collapsed": true
   },
   "outputs": [],
   "source": [
    "def add_to_df(pair_names, overlap_data):\n",
    "    c1, c2 = pair_names\n",
    "    curr_overlap, num_c1, num_c2 = overlap_data\n",
    "    c1_names.append(c1)\n",
    "    c2_names.append(c2)\n",
    "    overlap_count.append(curr_overlap)\n",
    "    num_c1_domains.append(num_c1)\n",
    "    num_c2_domains.append(num_c2)"
   ]
  },
  {
   "cell_type": "code",
   "execution_count": 44,
   "metadata": {},
   "outputs": [
    {
     "data": {
      "text/html": [
       "<div>\n",
       "<style scoped>\n",
       "    .dataframe tbody tr th:only-of-type {\n",
       "        vertical-align: middle;\n",
       "    }\n",
       "\n",
       "    .dataframe tbody tr th {\n",
       "        vertical-align: top;\n",
       "    }\n",
       "\n",
       "    .dataframe thead th {\n",
       "        text-align: right;\n",
       "    }\n",
       "</style>\n",
       "<table border=\"1\" class=\"dataframe\">\n",
       "  <thead>\n",
       "    <tr style=\"text-align: right;\">\n",
       "      <th></th>\n",
       "      <th>Country 1</th>\n",
       "      <th>Country 2</th>\n",
       "      <th>Overlap</th>\n",
       "      <th>Country 1 Domains</th>\n",
       "      <th>Country 2 Domains</th>\n",
       "    </tr>\n",
       "  </thead>\n",
       "  <tbody>\n",
       "    <tr>\n",
       "      <th>0</th>\n",
       "      <td>China</td>\n",
       "      <td>GDPR</td>\n",
       "      <td>47</td>\n",
       "      <td>15911</td>\n",
       "      <td>1361</td>\n",
       "    </tr>\n",
       "    <tr>\n",
       "      <th>1</th>\n",
       "      <td>China</td>\n",
       "      <td>India</td>\n",
       "      <td>0</td>\n",
       "      <td>15911</td>\n",
       "      <td>20</td>\n",
       "    </tr>\n",
       "    <tr>\n",
       "      <th>2</th>\n",
       "      <td>China</td>\n",
       "      <td>Iraq</td>\n",
       "      <td>0</td>\n",
       "      <td>15911</td>\n",
       "      <td>21</td>\n",
       "    </tr>\n",
       "    <tr>\n",
       "      <th>3</th>\n",
       "      <td>China</td>\n",
       "      <td>Pakistan</td>\n",
       "      <td>9</td>\n",
       "      <td>15911</td>\n",
       "      <td>598</td>\n",
       "    </tr>\n",
       "    <tr>\n",
       "      <th>4</th>\n",
       "      <td>China</td>\n",
       "      <td>Russia</td>\n",
       "      <td>9</td>\n",
       "      <td>15911</td>\n",
       "      <td>5184</td>\n",
       "    </tr>\n",
       "  </tbody>\n",
       "</table>\n",
       "</div>"
      ],
      "text/plain": [
       "  Country 1 Country 2  Overlap  Country 1 Domains  Country 2 Domains\n",
       "0     China      GDPR       47              15911               1361\n",
       "1     China     India        0              15911                 20\n",
       "2     China      Iraq        0              15911                 21\n",
       "3     China  Pakistan        9              15911                598\n",
       "4     China    Russia        9              15911               5184"
      ]
     },
     "execution_count": 44,
     "metadata": {},
     "output_type": "execute_result"
    }
   ],
   "source": [
    "c1_names = []\n",
    "c2_names = []\n",
    "overlap_count = []\n",
    "num_c1_domains = []\n",
    "num_c2_domains = []\n",
    "for pair_names, overlap_data in pairwise_overlap.items():\n",
    "# comment in if splitting by GDPR country name\n",
    "#     if 'GDPR' in pair_names:\n",
    "#         idx = pair_names.index('GDPR')\n",
    "#         pair_names = list(pair_names)\n",
    "#         for g in gdpr_nations:\n",
    "#             pair_names[idx] = g\n",
    "#             add_to_df(pair_names, overlap_data)\n",
    "    add_to_df(pair_names, overlap_data)\n",
    "    \n",
    "blocked_site_overlap = pd.DataFrame(list(zip(c1_names, c2_names, overlap_count, num_c1_domains, num_c2_domains)), columns = ['Country 1', 'Country 2', 'Overlap', 'Country 1 Domains', 'Country 2 Domains'])\n",
    "blocked_site_overlap.head()"
   ]
  },
  {
   "cell_type": "code",
   "execution_count": 45,
   "metadata": {},
   "outputs": [
    {
     "data": {
      "text/plain": [
       "(28, 5)"
      ]
     },
     "execution_count": 45,
     "metadata": {},
     "output_type": "execute_result"
    }
   ],
   "source": [
    "blocked_site_overlap.shape"
   ]
  },
  {
   "cell_type": "code",
   "execution_count": 46,
   "metadata": {},
   "outputs": [],
   "source": [
    "blocked_site_overlap.to_csv(\"blocked_site_overlap.csv\")"
   ]
  },
  {
   "cell_type": "code",
   "execution_count": 49,
   "metadata": {},
   "outputs": [
    {
     "data": {
      "image/png": "[encoded data removed]",
      "text/plain": [
       "<matplotlib.figure.Figure at 0x112f8c630>"
      ]
     },
     "metadata": {},
     "output_type": "display_data"
    }
   ],
   "source": [
    "plt.hist(blocked_site_overlap['Overlap'])\n",
    "plt.title('Histogram of Overlapping TLD Counts Between Nation Pairs')\n",
    "plt.xlabel('Number of TLDs')\n",
    "plt.ylabel('Frequency')\n",
    "plt.show()"
   ]
  },
  {
   "cell_type": "code",
   "execution_count": 52,
   "metadata": {},
   "outputs": [
    {
     "data": {
      "text/html": [
       "<div>\n",
       "<style scoped>\n",
       "    .dataframe tbody tr th:only-of-type {\n",
       "        vertical-align: middle;\n",
       "    }\n",
       "\n",
       "    .dataframe tbody tr th {\n",
       "        vertical-align: top;\n",
       "    }\n",
       "\n",
       "    .dataframe thead th {\n",
       "        text-align: right;\n",
       "    }\n",
       "</style>\n",
       "<table border=\"1\" class=\"dataframe\">\n",
       "  <thead>\n",
       "    <tr style=\"text-align: right;\">\n",
       "      <th></th>\n",
       "      <th>Country 1</th>\n",
       "      <th>Country 2</th>\n",
       "      <th>Overlap</th>\n",
       "      <th>Country 1 Domains</th>\n",
       "      <th>Country 2 Domains</th>\n",
       "    </tr>\n",
       "  </thead>\n",
       "  <tbody>\n",
       "    <tr>\n",
       "      <th>6</th>\n",
       "      <td>China</td>\n",
       "      <td>UAE</td>\n",
       "      <td>117</td>\n",
       "      <td>15911</td>\n",
       "      <td>24537</td>\n",
       "    </tr>\n",
       "    <tr>\n",
       "      <th>5</th>\n",
       "      <td>China</td>\n",
       "      <td>Saudi Arabia</td>\n",
       "      <td>86</td>\n",
       "      <td>15911</td>\n",
       "      <td>1380</td>\n",
       "    </tr>\n",
       "    <tr>\n",
       "      <th>24</th>\n",
       "      <td>Pakistan</td>\n",
       "      <td>UAE</td>\n",
       "      <td>63</td>\n",
       "      <td>598</td>\n",
       "      <td>24537</td>\n",
       "    </tr>\n",
       "    <tr>\n",
       "      <th>0</th>\n",
       "      <td>China</td>\n",
       "      <td>GDPR</td>\n",
       "      <td>47</td>\n",
       "      <td>15911</td>\n",
       "      <td>1361</td>\n",
       "    </tr>\n",
       "    <tr>\n",
       "      <th>27</th>\n",
       "      <td>Saudi Arabia</td>\n",
       "      <td>UAE</td>\n",
       "      <td>41</td>\n",
       "      <td>1380</td>\n",
       "      <td>24537</td>\n",
       "    </tr>\n",
       "  </tbody>\n",
       "</table>\n",
       "</div>"
      ],
      "text/plain": [
       "       Country 1     Country 2  Overlap  Country 1 Domains  Country 2 Domains\n",
       "6          China           UAE      117              15911              24537\n",
       "5          China  Saudi Arabia       86              15911               1380\n",
       "24      Pakistan           UAE       63                598              24537\n",
       "0          China          GDPR       47              15911               1361\n",
       "27  Saudi Arabia           UAE       41               1380              24537"
      ]
     },
     "execution_count": 52,
     "metadata": {},
     "output_type": "execute_result"
    }
   ],
   "source": [
    "ordered_overlap = blocked_site_overlap.sort_values('Overlap', ascending = False)\n",
    "ordered_overlap.head()"
   ]
  },
  {
   "cell_type": "code",
   "execution_count": 53,
   "metadata": {},
   "outputs": [
    {
     "data": {
      "text/html": [
       "<div>\n",
       "<style scoped>\n",
       "    .dataframe tbody tr th:only-of-type {\n",
       "        vertical-align: middle;\n",
       "    }\n",
       "\n",
       "    .dataframe tbody tr th {\n",
       "        vertical-align: top;\n",
       "    }\n",
       "\n",
       "    .dataframe thead th {\n",
       "        text-align: right;\n",
       "    }\n",
       "</style>\n",
       "<table border=\"1\" class=\"dataframe\">\n",
       "  <thead>\n",
       "    <tr style=\"text-align: right;\">\n",
       "      <th></th>\n",
       "      <th>Country 1</th>\n",
       "      <th>Country 2</th>\n",
       "      <th>Overlap</th>\n",
       "      <th>Country 1 Domains</th>\n",
       "      <th>Country 2 Domains</th>\n",
       "    </tr>\n",
       "  </thead>\n",
       "  <tbody>\n",
       "    <tr>\n",
       "      <th>10</th>\n",
       "      <td>GDPR</td>\n",
       "      <td>Russia</td>\n",
       "      <td>0</td>\n",
       "      <td>1361</td>\n",
       "      <td>5184</td>\n",
       "    </tr>\n",
       "    <tr>\n",
       "      <th>9</th>\n",
       "      <td>GDPR</td>\n",
       "      <td>Pakistan</td>\n",
       "      <td>0</td>\n",
       "      <td>1361</td>\n",
       "      <td>598</td>\n",
       "    </tr>\n",
       "    <tr>\n",
       "      <th>8</th>\n",
       "      <td>GDPR</td>\n",
       "      <td>Iraq</td>\n",
       "      <td>0</td>\n",
       "      <td>1361</td>\n",
       "      <td>21</td>\n",
       "    </tr>\n",
       "    <tr>\n",
       "      <th>7</th>\n",
       "      <td>GDPR</td>\n",
       "      <td>India</td>\n",
       "      <td>0</td>\n",
       "      <td>1361</td>\n",
       "      <td>20</td>\n",
       "    </tr>\n",
       "    <tr>\n",
       "      <th>14</th>\n",
       "      <td>India</td>\n",
       "      <td>Pakistan</td>\n",
       "      <td>0</td>\n",
       "      <td>20</td>\n",
       "      <td>598</td>\n",
       "    </tr>\n",
       "  </tbody>\n",
       "</table>\n",
       "</div>"
      ],
      "text/plain": [
       "   Country 1 Country 2  Overlap  Country 1 Domains  Country 2 Domains\n",
       "10      GDPR    Russia        0               1361               5184\n",
       "9       GDPR  Pakistan        0               1361                598\n",
       "8       GDPR      Iraq        0               1361                 21\n",
       "7       GDPR     India        0               1361                 20\n",
       "14     India  Pakistan        0                 20                598"
      ]
     },
     "execution_count": 53,
     "metadata": {},
     "output_type": "execute_result"
    }
   ],
   "source": [
    "ordered_overlap.tail()"
   ]
  },
  {
   "cell_type": "code",
   "execution_count": null,
   "metadata": {
    "collapsed": true
   },
   "outputs": [],
   "source": []
  }
 ],
 "metadata": {
  "kernelspec": {
   "display_name": "Python 3",
   "language": "python",
   "name": "python3"
  },
  "language_info": {
   "codemirror_mode": {
    "name": "ipython",
    "version": 3
   },
   "file_extension": ".py",
   "mimetype": "text/x-python",
   "name": "python",
   "nbconvert_exporter": "python",
   "pygments_lexer": "ipython3",
   "version": "3.6.3"
  }
 },
 "nbformat": 4,
 "nbformat_minor": 2
}
