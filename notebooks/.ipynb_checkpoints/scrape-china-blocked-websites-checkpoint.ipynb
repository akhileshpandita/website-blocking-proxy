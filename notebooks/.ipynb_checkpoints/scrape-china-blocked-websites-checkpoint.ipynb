{
 "cells": [
  {
   "cell_type": "code",
   "execution_count": 16,
   "metadata": {
    "collapsed": true
   },
   "outputs": [],
   "source": [
    "import pandas as pd\n",
    "import bs4\n",
    "from bs4 import BeautifulSoup\n",
    "import requests"
   ]
  },
  {
   "cell_type": "code",
   "execution_count": 4,
   "metadata": {
    "collapsed": true
   },
   "outputs": [],
   "source": [
    "# Set headers\n",
    "headers = requests.utils.default_headers()\n",
    "headers.update({ 'User-Agent': 'Mozilla/5.0 (X11; Ubuntu; Linux x86_64; rv:52.0) Gecko/20100101 Firefox/52.0'})"
   ]
  },
  {
   "cell_type": "code",
   "execution_count": 36,
   "metadata": {},
   "outputs": [],
   "source": [
    "url = \"https://cyber.harvard.edu/filtering/china/China-A.html\"\n",
    "req = requests.get(url, headers)\n",
    "china_a = BeautifulSoup(req.content, 'html.parser')"
   ]
  },
  {
   "cell_type": "code",
   "execution_count": 44,
   "metadata": {},
   "outputs": [],
   "source": [
    "a_list = china_a.find_all(\n",
    "                lambda tag: tag.name == \"a\" and\n",
    "                len(tag.attrs) == 1 and\n",
    "                'name' in tag.attrs)\n",
    "text_a = []\n",
    "for a in a_list:\n",
    "    for text in a.find_next_siblings(text=True):\n",
    "        text_a.append(text.strip())"
   ]
  },
  {
   "cell_type": "code",
   "execution_count": 49,
   "metadata": {},
   "outputs": [
    {
     "name": "stdout",
     "output_type": "stream",
     "text": [
      "None\n"
     ]
    }
   ],
   "source": [
    "print(a_list[1].next_sibling)"
   ]
  },
  {
   "cell_type": "code",
   "execution_count": 42,
   "metadata": {
    "scrolled": true
   },
   "outputs": [
    {
     "data": {
      "text/plain": [
       "<a name=\"67962\"><font size=\"-2\">Title:</font> <b>azml.com</b><br/><font size=\"-2\">Site:</font> <a href=\"http://www.azml.com\">www.azml.com</a> <font size=\"-2\">(and subdirectories)</font>     <font size=\"-2\">Blocking quotient:</font> <img alt=\"Sometimes inaccessible\" src=\"s1.gif\"/><br/> <font size=\"-2\">Blocked on:</font> Aug 14 <font size=\"-1\">(Jiangsu)</font>, Sep 30 <font size=\"-1\">(Guangdong)</font>, Oct 12 <font size=\"-1\">(Guangdong)</font><br/><font size=\"-2\">Yahoo: </font>Reference &gt; Quotations &gt; Daily<br/><hr/>\n",
       "<a name=\"1511\"><font size=\"-2\">Title:</font> <b>www.azstarnet.com</b><br/><font size=\"-2\">Site:</font> <a href=\"http://www.azstarnet.com\">www.azstarnet.com</a> <font size=\"-2\">(and subdirectories)</font>     <font size=\"-2\">Blocking quotient:</font> <img alt=\"Sometimes inaccessible\" src=\"s1.gif\"/><br/> <font size=\"-2\">Blocked on:</font> Aug 27 <font size=\"-1\">(Jiangsu)</font>, Sep 30 <font size=\"-1\">(Guangdong)</font>, Oct 12 <font size=\"-1\">(Guangdong)</font><br/><font size=\"-2\">Google: </font>News &gt; Newspapers &gt; Regional &gt; United States &gt; Arizona<br/><font size=\"-2\">Inbound Link Count:</font> 6,140 <a href=\"http://www.google.com/search?hl=en&amp;lr=&amp;ie=UTF8&amp;oe=UTF8&amp;safe=off&amp;q=link%3Awww.azstarnet.com\">linking pages</a><br/><hr/>\n",
       "<a name=\"1512\"><font size=\"-2\">Title:</font> <b>Netster</b><br/><font size=\"-2\">Site:</font> <a href=\"http://www.azury.com\">www.azury.com</a> <font size=\"-2\">(and subdirectories)</font>     <font size=\"-2\">Blocking quotient:</font> <img alt=\"Almost always inaccessible\" src=\"s5.gif\"/><br/> <font size=\"-2\">Blocked on:</font> Mar 20 <font size=\"-1\">(Guangzhou)</font>, Mar 31 <font size=\"-1\">(Guangzhou)</font>, Apr 5 <font size=\"-1\">(Guangzhou)</font>, Apr 14 <font size=\"-1\">(Guangzhou)</font>, Apr 21 <font size=\"-1\">(Guangdong)</font>, Apr 29 <font size=\"-1\">(Guangdong)</font>, May 6 <font size=\"-1\">(Guangdong)</font>, Aug 14 <font size=\"-1\">(Jiangsu)</font>, Aug 20 <font size=\"-1\">(Jiangsu)</font>, Aug 23 <font size=\"-1\">(Jiangsu)</font>, Aug 27 <font size=\"-1\">(Jiangsu)</font>, Aug 29 <font size=\"-1\">(Jiangsu)</font>, Sep 1 <font size=\"-1\">(Jiangsu)</font>, Sep 3 <font size=\"-1\">(Jiangsu)</font>, Sep 21 <font size=\"-1\">(Jiangsu)</font>, Sep 30 <font size=\"-1\">(Shanghai)</font>, Sep 30 <font size=\"-1\">(Jiangsu)</font>, Sep 30 <font size=\"-1\">(Guangdong)</font>, Oct 12 <font size=\"-1\">(Shanghai)</font>, Oct 12 <font size=\"-1\">(Guangdong)</font>, Oct 12 <font size=\"-1\">(Yantian)</font><br/><font size=\"-2\">Yahoo: </font>News and Media &gt; Magazines &gt; By Region &gt; Countries &gt; India &gt; States and Union Territories &gt; Assam<br/><hr/>\n",
       "<a name=\"67977\"><font size=\"-2\">Site:</font> <a href=\"http://www.azzam.com\">www.azzam.com</a> <font size=\"-2\">(and subdirectories)</font>     <font size=\"-2\">Blocking quotient:</font> <img alt=\"Almost always inaccessible\" src=\"s5.gif\"/><br/> <font size=\"-2\">Blocked on:</font> Aug 14 <font size=\"-1\">(Jiangsu)</font>, Aug 19 <font size=\"-1\">(Jiangsu)</font>, Aug 23 <font size=\"-1\">(Jiangsu)</font>, Aug 29 <font size=\"-1\">(Jiangsu)</font>, Sep 1 <font size=\"-1\">(Jiangsu)</font>, Sep 3 <font size=\"-1\">(Jiangsu)</font>, Sep 21 <font size=\"-1\">(Jiangsu)</font>, Sep 30 <font size=\"-1\">(Shanghai)</font>, Sep 30 <font size=\"-1\">(Jiangsu)</font>, Sep 30 <font size=\"-1\">(Guangdong)</font>, Oct 12 <font size=\"-1\">(Shanghai)</font>, Oct 12 <font size=\"-1\">(Guangdong)</font>, Oct 12 <font size=\"-1\">(Yantian)</font><br/><font size=\"-2\">Yahoo: </font>Society and Culture &gt; Religion and Spirituality &gt; Faiths and Practices &gt; Islam &gt; Jihad<br/>    Regional &gt; Regions &gt; Middle East &gt; Arts and Humanities &gt; Humanities &gt; History &gt; By Time Period &gt; 20th Century &gt; People &gt; bin Laden  Osama<br/><font size=\"-2\">Inbound Link Count:</font> 248 <a href=\"http://www.google.com/search?hl=en&amp;lr=&amp;ie=UTF8&amp;oe=UTF8&amp;safe=off&amp;q=link%3Awww.azzam.com\">linking pages</a><br/><hr/>\n",
       "<p>854 sites</p></a></a></a></a>"
      ]
     },
     "execution_count": 42,
     "metadata": {},
     "output_type": "execute_result"
    }
   ],
   "source": [
    "a_list[850]"
   ]
  },
  {
   "cell_type": "code",
   "execution_count": 23,
   "metadata": {
    "scrolled": false
   },
   "outputs": [
    {
     "name": "stdout",
     "output_type": "stream",
     "text": [
      "2\n"
     ]
    }
   ],
   "source": [
    "hr = china_a.find('hr')\n",
    "text = []\n",
    "while (hr):\n",
    "    hr = hr.next_sibling\n",
    "    if isinstance(hr, bs4.element.Tag):\n",
    "        text.append(hr.get_text())\n",
    "    elif isinstance(hr, bs4.element.NavigableString):\n",
    "        text.append(hr)\n",
    "\n",
    "print(len(text))"
   ]
  },
  {
   "cell_type": "code",
   "execution_count": null,
   "metadata": {
    "collapsed": true
   },
   "outputs": [],
   "source": []
  }
 ],
 "metadata": {
  "kernelspec": {
   "display_name": "Python 3",
   "language": "python",
   "name": "python3"
  },
  "language_info": {
   "codemirror_mode": {
    "name": "ipython",
    "version": 3
   },
   "file_extension": ".py",
   "mimetype": "text/x-python",
   "name": "python",
   "nbconvert_exporter": "python",
   "pygments_lexer": "ipython3",
   "version": "3.6.3"
  }
 },
 "nbformat": 4,
 "nbformat_minor": 2
}
